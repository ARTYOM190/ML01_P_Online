{
 "cells": [
  {
   "cell_type": "markdown",
   "metadata": {},
   "source": [
    "Объявляем функцию-декоратор cache_three_runs, которая принимает функцию func в качестве аргумента."
   ]
  },
  {
   "cell_type": "code",
   "execution_count": null,
   "metadata": {},
   "outputs": [],
   "source": [
    "def cache_three_runs(func):"
   ]
  },
  {
   "cell_type": "markdown",
   "metadata": {},
   "source": [
    "cache = {}: Создаем пустой словарь для хранения кэшированных результатов.\n",
    "\n",
    "call_count = 0: Инициализируем счетчик вызовов функции, использующей кэш."
   ]
  },
  {
   "cell_type": "code",
   "execution_count": null,
   "metadata": {},
   "outputs": [],
   "source": [
    "cache = {}\n",
    "call_count = 0"
   ]
  },
  {
   "cell_type": "markdown",
   "metadata": {},
   "source": [
    "Объявляем внутреннюю функцию wrapper, которая принимает произвольные аргументы и ключевые аргументы.\n",
    "\n",
    "nonlocal call_count: Указываем, что call_count берется из окружающего контекста (функции cache_three_runs)."
   ]
  },
  {
   "cell_type": "code",
   "execution_count": null,
   "metadata": {},
   "outputs": [],
   "source": [
    "def wrapper(*args, **kwargs):\n",
    "    nonlocal call_count"
   ]
  },
  {
   "cell_type": "markdown",
   "metadata": {},
   "source": [
    "Если количество вызовов меньше 3 и результат для данных аргументов уже есть в кэше, выводим сообщение \"Возвращаем кэшированный результат\", увеличиваем счетчик и возвращаем кэшированный результат."
   ]
  },
  {
   "cell_type": "code",
   "execution_count": null,
   "metadata": {},
   "outputs": [],
   "source": [
    "if call_count < 3 and args in cache:\n",
    "    print(\"Возвращаем кэшированный результат\")\n",
    "    call_count += 1\n",
    "    return cache[args]"
   ]
  },
  {
   "cell_type": "markdown",
   "metadata": {},
   "source": [
    "Если результат для данных аргументов не найден в кэше или количество вызовов достигло 3, выполняем функцию func, сохраняем результат в кэше, сбрасываем счетчик вызовов и возвращаем результат."
   ]
  },
  {
   "cell_type": "code",
   "execution_count": null,
   "metadata": {},
   "outputs": [],
   "source": [
    "else:\n",
    "    print(\"Выполняем функцию и кэшируем результат\")\n",
    "    result = func(*args, **kwargs)\n",
    "    cache[args] = result\n",
    "    call_count = 1  # Сбрасываем счетчик вызовов после обновления кэша\n",
    "    return result"
   ]
  },
  {
   "cell_type": "markdown",
   "metadata": {},
   "source": [
    "Возвращаем внутреннюю функцию wrapper, которая теперь оборачивает исходную функцию func."
   ]
  },
  {
   "cell_type": "code",
   "execution_count": null,
   "metadata": {},
   "outputs": [],
   "source": [
    "return wrapper"
   ]
  },
  {
   "cell_type": "markdown",
   "metadata": {},
   "source": [
    "Декорируем функцию square, которая принимает число и возвращает его квадрат. Декоратор оборачивает эту функцию, добавляя кэширование."
   ]
  },
  {
   "cell_type": "code",
   "execution_count": null,
   "metadata": {},
   "outputs": [],
   "source": [
    "@cache_three_runs\n",
    "def square(x):\n",
    "    return x * x"
   ]
  },
  {
   "cell_type": "markdown",
   "metadata": {},
   "source": [
    "Вызываем функцию square с аргументом 4 пять раз. Первый вызов выполняет функцию и кэширует результат, следующие три вызова возвращают кэшированный результат, а последний вызов снова выполняет функцию и обновляет кэш."
   ]
  },
  {
   "cell_type": "code",
   "execution_count": null,
   "metadata": {},
   "outputs": [],
   "source": [
    "print(square(4))  # Выполняет функцию и кэширует результат\n",
    "print(square(4))  # Возвращает кэшированный результат\n",
    "print(square(4))  # Возвращает кэшированный результат\n",
    "print(square(4))  # Возвращает кэшированный результат\n",
    "print(square(4))  # Выполняет функцию и кэширует результат снова"
   ]
  },
  {
   "cell_type": "markdown",
   "metadata": {},
   "source": [
    "Вывод:PS C:\\Users\\1neon> & C:/Users/1neon/anaconda3/python.exe c:/Users/1neon/Desktop/DECORATOR.py\n",
    "Выполняем функцию и кэшируем результат\n",
    "16\n",
    "Возвращаем кэшированный результат\n",
    "16\n",
    "Возвращаем кэшированный результат\n",
    "16\n",
    "Выполняем функцию и кэшируем результат\n",
    "16\n",
    "Возвращаем кэшированный результат\n",
    "16\n",
    "PS C:\\Users\\1neon>"
   ]
  }
 ],
 "metadata": {
  "language_info": {
   "name": "python"
  }
 },
 "nbformat": 4,
 "nbformat_minor": 2
}
