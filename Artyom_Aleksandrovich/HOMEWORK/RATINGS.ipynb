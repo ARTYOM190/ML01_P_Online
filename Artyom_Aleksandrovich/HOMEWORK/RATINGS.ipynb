{
 "cells": [
  {
   "cell_type": "markdown",
   "metadata": {},
   "source": [
    "Задание :есть файл .csv \n",
    "Надо найти:\n",
    "    1. Общее число оценок в файле\n",
    "    2. Общее количество пользователей, поставивших оценки\n",
    "    3. Общее количество оцененных фильмов\n",
    "    4. ID самого активного пользователя\n",
    "    5. Фильм, собравший наибольшее количество оценок\n",
    "    Сначала импортируем библиотеку pandas\n",
    "    import pandas as pd: Импортирует библиотеку pandas, которая предназначена для работы с табличными данными. Мы будем использовать ее для чтения и обработки данных из CSV файла."
   ]
  },
  {
   "cell_type": "code",
   "execution_count": null,
   "metadata": {},
   "outputs": [],
   "source": [
    "import pandas as pd"
   ]
  },
  {
   "cell_type": "markdown",
   "metadata": {},
   "source": [
    "Функция read_csv принимает путь к файлу (file_path) и использует метод pd.read_csv из библиотеки pandas для чтения содержимого CSV файла в DataFrame."
   ]
  },
  {
   "cell_type": "code",
   "execution_count": null,
   "metadata": {},
   "outputs": [],
   "source": [
    "#Чтение файла CSV\n",
    "def read_csv(file_path):\n",
    "    return pd.read_csv(file_path)\n"
   ]
  },
  {
   "cell_type": "code",
   "execution_count": null,
   "metadata": {},
   "outputs": [],
   "source": [
    "#Функция для выполнения всех задач\n",
    "def analyze_ratings(data):\n",
    "    #1.Общее число оценок в файле\n",
    "    total_ratings = len(data)\n",
    "    \n",
    "    #2.Общее количество пользователей, поставивших оценки\n",
    "    unique_users = data['userId'].nunique()\n",
    "    \n",
    "    #3.Общее количество оцененных фильмов\n",
    "    unique_movies = data['movieId'].nunique()\n",
    "    \n",
    "    #4.ID самого активного пользователя\n",
    "    most_active_user = data['userId'].value_counts().idxmax()\n",
    "    \n",
    "    #5.Фильм, собравший наибольшее количество оценок\n",
    "    most_rated_movie = data['movieId'].value_counts().idxmax()\n",
    "    \n",
    "    return total_ratings, unique_users, unique_movies, most_active_user, most_rated_movie\n"
   ]
  },
  {
   "cell_type": "markdown",
   "metadata": {},
   "source": [
    "len(data): Подсчитывает общее количество строк в DataFrame, что соответствует общему числу оценок"
   ]
  },
  {
   "cell_type": "code",
   "execution_count": null,
   "metadata": {},
   "outputs": [],
   "source": [
    "total_ratings = len(data)\n"
   ]
  },
  {
   "cell_type": "markdown",
   "metadata": {},
   "source": [
    "data['userId'].nunique(): Использует метод nunique для подсчета уникальных значений в столбце userId, что соответствует общему количеству пользователей."
   ]
  },
  {
   "cell_type": "code",
   "execution_count": null,
   "metadata": {},
   "outputs": [],
   "source": [
    "unique_users = data['userId'].nunique()\n"
   ]
  },
  {
   "cell_type": "markdown",
   "metadata": {},
   "source": [
    "data['movieId'].nunique(): Использует метод nunique для подсчета уникальных значений в столбце movieId, что соответствует общему количеству оцененных фильмов."
   ]
  },
  {
   "cell_type": "code",
   "execution_count": null,
   "metadata": {},
   "outputs": [],
   "source": [
    "unique_movies = data['movieId'].nunique()\n"
   ]
  },
  {
   "cell_type": "markdown",
   "metadata": {},
   "source": [
    "data['userId'].value_counts(): Подсчитывает количество вхождений каждого пользователя.\n",
    "\n",
    "idxmax(): Возвращает ID пользователя, который имеет наибольшее количество вхождений, то есть самого активного пользователя."
   ]
  },
  {
   "cell_type": "code",
   "execution_count": null,
   "metadata": {},
   "outputs": [],
   "source": [
    "most_active_user = data['userId'].value_counts().idxmax()"
   ]
  },
  {
   "cell_type": "markdown",
   "metadata": {},
   "source": [
    "data['movieId'].value_counts(): Подсчитывает количество вхождений каждого фильма.\n",
    "\n",
    "idxmax(): Возвращает ID фильма, который имеет наибольшее количество вхождений, то есть самый оцененный фильм."
   ]
  },
  {
   "cell_type": "code",
   "execution_count": null,
   "metadata": {},
   "outputs": [],
   "source": [
    "most_rated_movie = data['movieId'].value_counts().idxmax()"
   ]
  },
  {
   "cell_type": "markdown",
   "metadata": {},
   "source": [
    "file_path: Переменная, хранящая путь к файлу ratings_small.csv."
   ]
  },
  {
   "cell_type": "code",
   "execution_count": null,
   "metadata": {},
   "outputs": [],
   "source": [
    "file_path = r'C:\\Users\\1neon\\Desktop\\ratings_small.csv'"
   ]
  },
  {
   "cell_type": "markdown",
   "metadata": {},
   "source": [
    "data: Переменная, содержащая данные в формате DataFrame, прочитанные из CSV файла."
   ]
  },
  {
   "cell_type": "code",
   "execution_count": null,
   "metadata": {},
   "outputs": [],
   "source": [
    "data = read_csv(file_path)"
   ]
  },
  {
   "cell_type": "markdown",
   "metadata": {},
   "source": [
    "Вызываем функцию analyze_ratings, которая выполняет все задачи и возвращает результаты."
   ]
  },
  {
   "cell_type": "code",
   "execution_count": null,
   "metadata": {},
   "outputs": [],
   "source": [
    "total_ratings, unique_users, unique_movies, most_active_user, most_rated_movie = analyze_ratings(data)"
   ]
  },
  {
   "cell_type": "code",
   "execution_count": null,
   "metadata": {},
   "outputs": [],
   "source": [
    "#Вывод результатов\n",
    "print(f\"Общее число оценок в файле: {total_ratings}\")\n",
    "print(f\"Общее количество пользователей, поставивших оценки: {unique_users}\")\n",
    "print(f\"Общее количество оцененных фильмов: {unique_movies}\")\n",
    "print(f\"ID самого активного пользователя: {most_active_user}\")\n",
    "print(f\"Фильм, собравший наибольшее количество оценок: {most_rated_movie}\")\n"
   ]
  }
 ],
 "metadata": {
  "language_info": {
   "name": "python"
  }
 },
 "nbformat": 4,
 "nbformat_minor": 2
}
