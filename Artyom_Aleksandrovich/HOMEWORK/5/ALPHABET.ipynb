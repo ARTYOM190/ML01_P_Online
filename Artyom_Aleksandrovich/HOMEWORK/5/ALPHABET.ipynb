{
 "cells": [
  {
   "cell_type": "markdown",
   "metadata": {},
   "source": [
    "Импортирование string, который содержит полезные константы и функции для работы со строками"
   ]
  },
  {
   "cell_type": "code",
   "execution_count": null,
   "metadata": {},
   "outputs": [],
   "source": [
    "import string"
   ]
  },
  {
   "cell_type": "markdown",
   "metadata": {},
   "source": [
    "Определение нового класса Alphabet"
   ]
  },
  {
   "cell_type": "code",
   "execution_count": null,
   "metadata": {},
   "outputs": [],
   "source": [
    "class Alphabet:"
   ]
  },
  {
   "cell_type": "markdown",
   "metadata": {},
   "source": [
    "Метод __init__ является конструктором класса. Он инициализирует объект и задает два свойства: lang (язык) и letters (список букв)"
   ]
  },
  {
   "cell_type": "code",
   "execution_count": null,
   "metadata": {},
   "outputs": [],
   "source": [
    "    def __init__(self, lang, letters):\n",
    "        self.lang = lang\n",
    "        self.letters = letters"
   ]
  },
  {
   "cell_type": "markdown",
   "metadata": {},
   "source": [
    "Метод print выводит все буквы алфавита в консоль. Он соединяет буквы в строку через пробел и печатает результат"
   ]
  },
  {
   "cell_type": "code",
   "execution_count": null,
   "metadata": {},
   "outputs": [],
   "source": [
    "    def print(self):\n",
    "        print(\"Алфавит:\", \" \".join(self.letters))"
   ]
  },
  {
   "cell_type": "markdown",
   "metadata": {},
   "source": [
    "Метод letters_num возвращает количество букв в алфавите, используя функцию len"
   ]
  },
  {
   "cell_type": "code",
   "execution_count": null,
   "metadata": {},
   "outputs": [],
   "source": [
    "    def letters_num(self):\n",
    "        return len(self.letters)"
   ]
  },
  {
   "cell_type": "markdown",
   "metadata": {},
   "source": [
    "Определение нового класса EngAlphabet, который наследует класс Alphabet"
   ]
  },
  {
   "cell_type": "code",
   "execution_count": null,
   "metadata": {},
   "outputs": [],
   "source": [
    "class EngAlphabet(Alphabet):"
   ]
  },
  {
   "cell_type": "markdown",
   "metadata": {},
   "source": [
    "Приватное статическое свойство __letters_num, которое хранит количество букв в английском алфавите"
   ]
  },
  {
   "cell_type": "code",
   "execution_count": null,
   "metadata": {},
   "outputs": [],
   "source": [
    "    __letters_num = 26"
   ]
  },
  {
   "cell_type": "markdown",
   "metadata": {},
   "source": [
    "Конструктор __init__ вызывает конструктор родительского класса Alphabet с параметрами 'En' (язык) и list(string.ascii_uppercase) (список заглавных букв английского алфавита)"
   ]
  },
  {
   "cell_type": "code",
   "execution_count": null,
   "metadata": {},
   "outputs": [],
   "source": [
    "    def __init__(self):\n",
    "        super().__init__('En', list(string.ascii_uppercase))"
   ]
  },
  {
   "cell_type": "markdown",
   "metadata": {},
   "source": [
    "Метод is_en_letter проверяет, является ли буква частью английского алфавита, приводя её к верхнему регистру и проверяя наличие в списке букв"
   ]
  },
  {
   "cell_type": "code",
   "execution_count": null,
   "metadata": {},
   "outputs": [],
   "source": [
    "    def is_en_letter(self, letter):\n",
    "        return letter.upper() in self.letters"
   ]
  },
  {
   "cell_type": "markdown",
   "metadata": {},
   "source": [
    "Переопределенный метод letters_num, который возвращает значение приватного свойства __letters_num"
   ]
  },
  {
   "cell_type": "code",
   "execution_count": null,
   "metadata": {},
   "outputs": [],
   "source": [
    "    def letters_num(self):\n",
    "        return self.__letters_num"
   ]
  },
  {
   "cell_type": "markdown",
   "metadata": {},
   "source": [
    "Статический метод example, который возвращает пример текста на английском языке"
   ]
  },
  {
   "cell_type": "code",
   "execution_count": null,
   "metadata": {},
   "outputs": [],
   "source": [
    " staticmethod\n",
    "    def example():\n",
    "        return \"Happiness is only real when shared\""
   ]
  },
  {
   "cell_type": "markdown",
   "metadata": {},
   "source": [
    "Создание экземпляра класса EngAlphabet"
   ]
  },
  {
   "cell_type": "code",
   "execution_count": null,
   "metadata": {},
   "outputs": [],
   "source": [
    "# Создаем объект класса EngAlphabet\n",
    "eng_alphabet = EngAlphabet()"
   ]
  },
  {
   "cell_type": "markdown",
   "metadata": {},
   "source": [
    "Вызов метода print объекта eng_alphabet, который выведет все буквы английского алфавита"
   ]
  },
  {
   "cell_type": "code",
   "execution_count": null,
   "metadata": {},
   "outputs": [],
   "source": [
    "# Напечатаем буквы алфавита для этого объекта\n",
    "eng_alphabet.print()"
   ]
  },
  {
   "cell_type": "markdown",
   "metadata": {},
   "source": [
    "Вызов метода letters_num объекта eng_alphabet, который выведет количество букв в английском алфавите"
   ]
  },
  {
   "cell_type": "code",
   "execution_count": null,
   "metadata": {},
   "outputs": [],
   "source": [
    "# Выведем количество букв в алфавите\n",
    "print(\"Количество букв в алфавите:\", eng_alphabet.letters_num())"
   ]
  },
  {
   "cell_type": "markdown",
   "metadata": {},
   "source": [
    "Вызов метода is_en_letter для проверки, является ли буква 'F' частью английского алфавита"
   ]
  },
  {
   "cell_type": "code",
   "execution_count": null,
   "metadata": {},
   "outputs": [],
   "source": [
    "# Проверим, относится ли буква F к английскому алфавиту\n",
    "print(\"Буква 'F' относится к английскому алфавиту:\", eng_alphabet.is_en_letter('F'))"
   ]
  },
  {
   "cell_type": "markdown",
   "metadata": {},
   "source": [
    "Вызов метода is_en_letter для проверки, является ли буква 'Щ' частью английского алфавита"
   ]
  },
  {
   "cell_type": "code",
   "execution_count": null,
   "metadata": {},
   "outputs": [],
   "source": [
    "# Проверим, относится ли буква Щ к английскому алфавиту\n",
    "print(\"Буква 'Щ' относится к английскому алфавиту:\", eng_alphabet.is_en_letter('Щ'))"
   ]
  },
  {
   "cell_type": "markdown",
   "metadata": {},
   "source": [
    "Вызов статического метода example, который выведет пример текста на английском языке"
   ]
  },
  {
   "cell_type": "code",
   "execution_count": null,
   "metadata": {},
   "outputs": [],
   "source": [
    "# Выведем пример текста на английском языке\n",
    "print(\"Пример текста на английском языке:\", EngAlphabet.example())"
   ]
  },
  {
   "cell_type": "markdown",
   "metadata": {},
   "source": [
    "Вывод программы выглядит следующим образом:\n",
    "PS C:\\Users\\1neon> & C:/Users/1neon/anaconda3/python.exe c:/Users/1neon/Desktop/ALPHABET.py\n",
    "Алфавит: A B C D E F G H I J K L M N O P Q R S T U V W X Y Z\n",
    "Количество букв в алфавите: 26\n",
    "Буква 'F' относится к английскому алфавиту: True\n",
    "Буква 'Щ' относится к английскому алфавиту: False\n",
    "Пример текста на английском языке: Happiness is only real when shared\n",
    "PS C:\\Users\\1neon>"
   ]
  }
 ],
 "metadata": {
  "kernelspec": {
   "display_name": "base",
   "language": "python",
   "name": "python3"
  },
  "language_info": {
   "codemirror_mode": {
    "name": "ipython",
    "version": 3
   },
   "file_extension": ".py",
   "mimetype": "text/x-python",
   "name": "python",
   "nbconvert_exporter": "python",
   "pygments_lexer": "ipython3",
   "version": "3.12.7"
  }
 },
 "nbformat": 4,
 "nbformat_minor": 2
}
