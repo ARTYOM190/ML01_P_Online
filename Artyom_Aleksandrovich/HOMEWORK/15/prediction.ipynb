{
 "cells": [
  {
   "cell_type": "markdown",
   "metadata": {},
   "source": [
    "Сначала загрузим данные из двух файлов CSV: titanic_train.csv и titanic_test.csv. Убедимся, что данные загружены корректно и готовы к использованию."
   ]
  },
  {
   "cell_type": "code",
   "execution_count": null,
   "metadata": {},
   "outputs": [],
   "source": [
    "# Импортируем необходимые библиотеки\n",
    "import pandas as pd\n",
    "\n",
    "# Загрузка данных\n",
    "train_data = pd.read_csv('titanic_train.csv')\n",
    "test_data = pd.read_csv('titanic_test.csv')\n",
    "\n",
    "# Просмотр первых строк данных\n",
    "print(train_data.head())\n",
    "print(test_data.head())\n"
   ]
  },
  {
   "cell_type": "markdown",
   "metadata": {},
   "source": [
    "Проведем очистку и подготовку данных для анализа и обучения модели."
   ]
  },
  {
   "cell_type": "code",
   "execution_count": null,
   "metadata": {},
   "outputs": [],
   "source": [
    "# Объединяем тренировочные и тестовые данные для предобработки\n",
    "data = pd.concat([train_data, test_data], sort=False)\n",
    "\n",
    "# Заполнение пропущенных значений\n",
    "data['Age'].fillna(data['Age'].median(), inplace=True)\n",
    "data['Embarked'].fillna(data['Embarked'].mode()[0], inplace=True)\n",
    "data['Fare'].fillna(data['Fare'].median(), inplace=True)\n",
    "\n",
    "# Создание новых признаков\n",
    "data['FamilySize'] = data['SibSp'] + data['Parch'] + 1\n",
    "data['IsAlone'] = 1  # Одинокий = 1, иначе = 0\n",
    "data['IsAlone'].loc[data['FamilySize'] > 1] = 0\n",
    "\n",
    "# Преобразование категориальных признаков\n",
    "data = pd.get_dummies(data, columns=['Sex', 'Embarked'])\n",
    "\n",
    "# Разделение данных обратно на тренировочные и тестовые\n",
    "train_data = data[:len(train_data)]\n",
    "test_data = data[len(train_data):]\n",
    "\n",
    "# Просмотр первых строк данных после предобработки\n",
    "print(train_data.head())\n",
    "print(test_data.head())\n"
   ]
  },
  {
   "cell_type": "markdown",
   "metadata": {},
   "source": [
    "Проведем анализ данных и визуализацию для определения значимых переменных, влияющих на выживаемость."
   ]
  },
  {
   "cell_type": "code",
   "execution_count": null,
   "metadata": {},
   "outputs": [],
   "source": [
    "import seaborn as sns\n",
    "import matplotlib.pyplot as plt\n",
    "\n",
    "# Анализ зависимости выживаемости от размера семьи\n",
    "sns.barplot(x='FamilySize', y='Survived', data=train_data)\n",
    "plt.title('Выживаемость в зависимости от размера семьи')\n",
    "plt.show()\n",
    "\n",
    "# Анализ зависимости выживаемости от пола\n",
    "sns.barplot(x='Sex_male', y='Survived', data=train_data)\n",
    "plt.title('Выживаемость в зависимости от пола')\n",
    "plt.show()\n",
    "\n",
    "# Анализ зависимости выживаемости от возраста\n",
    "sns.histplot(data=train_data, x='Age', hue='Survived', multiple='stack')\n",
    "plt.title('Выживаемость в зависимости от возраста')\n",
    "plt.show()\n",
    "\n",
    "# Анализ зависимости выживаемости от класса каюты\n",
    "sns.barplot(x='Pclass', y='Survived', data=train_data)\n",
    "plt.title('Выживаемость в зависимости от класса каюты')\n",
    "plt.show()\n"
   ]
  },
  {
   "cell_type": "markdown",
   "metadata": {},
   "source": [
    "Обучим несколько моделей для предсказания выживаемости."
   ]
  },
  {
   "cell_type": "code",
   "execution_count": null,
   "metadata": {},
   "outputs": [],
   "source": [
    "from sklearn.model_selection import train_test_split\n",
    "from sklearn.linear_model import LogisticRegression\n",
    "from sklearn.tree import DecisionTreeClassifier\n",
    "from sklearn.ensemble import RandomForestClassifier\n",
    "from sklearn.metrics import accuracy_score, f1_score, roc_auc_score\n",
    "\n",
    "# Подготовка данных для обучения и тестирования\n",
    "X = train_data.drop(columns=['Survived', 'PassengerId', 'Name', 'Ticket', 'Cabin'])\n",
    "y = train_data['Survived']\n",
    "X_train, X_test, y_train, y_test = train_test_split(X, y, test_size=0.2, random_state=42)\n",
    "\n",
    "# Логистическая регрессия\n",
    "logreg = LogisticRegression(max_iter=1000)\n",
    "logreg.fit(X_train, y_train)\n",
    "y_pred_logreg = logreg.predict(X_test)\n",
    "print('Logistic Regression metrics:')\n",
    "print(f'Accuracy: {accuracy_score(y_test, y_pred_logreg):.2f}')\n",
    "print(f'F1 Score: {f1_score(y_test, y_pred_logreg):.2f}')\n",
    "print(f'ROC AUC: {roc_auc_score(y_test, y_pred_logreg):.2f}')\n",
    "\n",
    "# Дерево решений\n",
    "tree = DecisionTreeClassifier(random_state=42)\n",
    "tree.fit(X_train, y_train)\n",
    "y_pred_tree = tree.predict(X_test)\n",
    "print('Decision Tree metrics:')\n",
    "print(f'Accuracy: {accuracy_score(y_test, y_pred_tree):.2f}')\n",
    "print(f'F1 Score: {f1_score(y_test, y_pred_tree):.2f}')\n",
    "print(f'ROC AUC: {roc_auc_score(y_test, y_pred_tree):.2f}')\n",
    "\n",
    "# Случайный лес\n",
    "forest = RandomForestClassifier(random_state=42)\n",
    "forest.fit(X_train, y_train)\n",
    "y_pred_forest = forest.predict(X_test)\n",
    "print('Random Forest metrics:')\n",
    "print(f'Accuracy: {accuracy_score(y_test, y_pred_forest):.2f}')\n",
    "print(f'F1 Score: {f1_score(y_test, y_pred_forest):.2f}')\n",
    "print(f'ROC AUC: {roc_auc_score(y_test, y_pred_forest):.2f}')\n"
   ]
  },
  {
   "cell_type": "markdown",
   "metadata": {},
   "source": [
    "Визуализируем дерево решений, чтобы понять, какие переменные оказывают наибольшее влияние на выживаемость."
   ]
  },
  {
   "cell_type": "code",
   "execution_count": null,
   "metadata": {},
   "outputs": [],
   "source": [
    "from sklearn.tree import plot_tree\n",
    "\n",
    "plt.figure(figsize=(20,10))\n",
    "plot_tree(tree, feature_names=X.columns, class_names=['Not Survived', 'Survived'], filled=True)\n",
    "plt.title('Decision Tree Visualization')\n",
    "plt.show()\n"
   ]
  },
  {
   "cell_type": "markdown",
   "metadata": {},
   "source": [
    "Как влияет размер семьи на вероятность выживаемости?\n",
    "\n",
    "Одинокие люди имеют меньше шансов выжить по сравнению с людьми, у которых есть семья. Однако слишком большая семья (больше 4 человек) также уменьшает шансы на выживание.\n",
    "\n",
    "Как влияет пол/возраст/номер палубы?\n",
    "\n",
    "Женщины имеют более высокие шансы на выживание по сравнению с мужчинами.\n",
    "\n",
    "Молодые люди имеют больше шансов выжить.\n",
    "\n",
    "Люди, находящиеся в первых классах (1-й класс), имеют больше шансов на выживание по сравнению с людьми в третьем классе."
   ]
  },
  {
   "cell_type": "markdown",
   "metadata": {},
   "source": [
    "На основе проведенного анализа данных и обучения моделей, можно сделать следующие выводы:\n",
    "\n",
    "Пол и возраст являются значимыми переменными, влияющими на выживаемость.\n",
    "\n",
    "Размер семьи также оказывает влияние на выживаемость: одинокие люди и очень большие семьи имеют меньшие шансы выжить.\n",
    "\n",
    "Класс каюты влияет на шансы выживания: пассажиры первого класса имеют больше шансов выжить."
   ]
  }
 ],
 "metadata": {
  "kernelspec": {
   "display_name": "base",
   "language": "python",
   "name": "python3"
  },
  "language_info": {
   "codemirror_mode": {
    "name": "ipython",
    "version": 3
   },
   "file_extension": ".py",
   "mimetype": "text/x-python",
   "name": "python",
   "nbconvert_exporter": "python",
   "pygments_lexer": "ipython3",
   "version": "3.12.7"
  }
 },
 "nbformat": 4,
 "nbformat_minor": 2
}
