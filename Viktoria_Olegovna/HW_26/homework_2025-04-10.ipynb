{
  "cells": [
    {
      "cell_type": "markdown",
      "metadata": {
        "id": "QG82YAu6Ftxa"
      },
      "source": [
        "Обучить BERT для задачи классификации. <br>\n",
        "Взять любой набор данных (например imdb).<br>\n",
        "Важно рассписать, что именно вы делаете."
      ]
    },
    {
      "cell_type": "markdown",
      "source": [
        "В первую очередь, берем данные из csv-файла, кодируем метки negative, positive как 0 и 1 соответственно.<br>\n",
        "Разделяем выборку на три фрейма: для обучения, валидаии, тестирования.<br>\n",
        "Качаем предобученный токенизатор для модели BERT (bert-base-cased) и соответствующую модель BERT.<br>\n",
        "Создаем свою модель с предобученным BERTом внутри. Замораживаем слои BERTа и учим только классификатор из двух линейных слоев. <br>\n",
        "Используем метод forward() для обучения. Во время обучения будем подавать на вход модели заранее предобработанные BERTом вектора токенов. Это поможет сократить время обучения, т к на каждой эпохе модели не придется прогонять одни и те же токены через BERT, они будут уже предобработанными.<br>\n",
        "У модели BERT на выходе два тензора: выход последнего скрытого слоя, описывающий состояния токенов, и выход объединенного слоя, содержащий информацию о текстовой последовательности в целом. Поскольку задача - классификация последовательностей текста - используем только второй выход модели.<br>\n",
        "Применяем метод inference() для тестирования модели. В данном методе токены проходят обработку и BERTом, и классификатором.<br>\n",
        "Для ускорения работы модели, помимо предобработки BERTом, переносим все тензоры на cuda, сохраняем всю информацию набора данных в файл pt, чтобы при следующих запусках среды иметь возможность считать сохраненные предобработанные данные и сразу использовать.<br>\n",
        "В процессе токенизации текста получаем три словаря с тензорами.<br>\n",
        "Тензор input_ids - тензор числовых токенов длиной 512. Незполненные позиции заполняются нулями.<br>\n",
        "Тензор token_type_ids - численный тип токенов. Если не указывать никакого разделения по типам, тензор будет состоять из нулей.<br>\n",
        "Тензор attention_mask - маска, обозначающая, какие токены являются значениями по умолчанию (0), а какие использовать как значащие.<br>\n",
        "Проводим обуение модели в стандартном цикле."
      ],
      "metadata": {
        "id": "8RO5saWxybr5"
      }
    },
    {
      "cell_type": "code",
      "execution_count": null,
      "metadata": {
        "collapsed": true,
        "id": "HFIwoVT7nS4x"
      },
      "outputs": [],
      "source": [
        "!pip3 install torcheval\n",
        "!pip3 install hf_xet\n"
      ]
    },
    {
      "cell_type": "code",
      "execution_count": 2,
      "metadata": {
        "id": "9BXiPqHZFp1H"
      },
      "outputs": [],
      "source": [
        "from google.colab import drive\n",
        "from transformers import BertTokenizer, BertModel\n",
        "from torch.utils.data import Dataset, DataLoader\n",
        "from torcheval.metrics import BinaryAccuracy\n",
        "from torch.nn.utils import clip_grad_norm_\n",
        "from collections import OrderedDict\n",
        "from torch.optim import AdamW\n",
        "from tqdm import tqdm\n",
        "from torch import nn\n",
        "\n",
        "import matplotlib.pyplot as plt\n",
        "import pandas as pd\n",
        "import numpy as np\n",
        "import zipfile\n",
        "import random\n",
        "import torch\n",
        "import os\n"
      ]
    },
    {
      "cell_type": "code",
      "execution_count": 3,
      "metadata": {
        "id": "ijVx3T-KFvqv"
      },
      "outputs": [],
      "source": [
        "def create_dirs(path: str):\n",
        "    if not os.path.exists(path):\n",
        "        os.makedirs(path)\n"
      ]
    },
    {
      "cell_type": "code",
      "execution_count": 4,
      "metadata": {
        "colab": {
          "base_uri": "https://localhost:8080/"
        },
        "id": "yay542beFvgM",
        "outputId": "d1f45dfd-9089-4f6c-f68f-5c2e36208287"
      },
      "outputs": [
        {
          "output_type": "stream",
          "name": "stdout",
          "text": [
            "Mounted at /content/drive\n"
          ]
        }
      ],
      "source": [
        "mount_point = '/content/drive'\n",
        "create_dirs(mount_point)\n",
        "\n",
        "drive.mount(mount_point, force_remount=True)\n"
      ]
    },
    {
      "cell_type": "code",
      "execution_count": 5,
      "metadata": {
        "id": "VMNClO_SFvdZ"
      },
      "outputs": [],
      "source": [
        "WORK_FOLDER = '/content/drive/MyDrive/peleng-courses/HW_26'\n",
        "\n",
        "TRAIN_SPLIT = 0.7\n",
        "VAL_SPLIT = 0.1\n",
        "\n",
        "BATCH_SIZE = 16\n"
      ]
    },
    {
      "cell_type": "code",
      "execution_count": 6,
      "metadata": {
        "id": "xCDL2up7GiNo"
      },
      "outputs": [],
      "source": [
        "def find_csv(search_dir: str):\n",
        "    for item in os.listdir(search_dir):\n",
        "        if item.endswith('csv'):\n",
        "            return os.path.join(search_dir, item)\n",
        "\n",
        "    return None\n"
      ]
    },
    {
      "cell_type": "code",
      "execution_count": 7,
      "metadata": {
        "id": "mgFCFWSnFva0"
      },
      "outputs": [],
      "source": [
        "csv_filepath = find_csv(WORK_FOLDER)\n",
        "\n",
        "if csv_filepath is None:\n",
        "    for item in os.listdir(WORK_FOLDER):\n",
        "        item_path = os.path.join(WORK_FOLDER, item)\n",
        "\n",
        "        if zipfile.is_zipfile(item_path):\n",
        "            with zipfile.ZipFile(item_path, 'r') as csv_zip:\n",
        "                csv_zip.extractall(WORK_FOLDER)\n",
        "            break\n",
        "\n",
        "    csv_filepath = find_csv(WORK_FOLDER)\n"
      ]
    },
    {
      "cell_type": "code",
      "execution_count": 9,
      "metadata": {
        "colab": {
          "base_uri": "https://localhost:8080/",
          "height": 423
        },
        "id": "h060LkHLGhwv",
        "outputId": "714c92fe-18e8-4b91-bb39-4ef91da8aaa6"
      },
      "outputs": [
        {
          "output_type": "execute_result",
          "data": {
            "text/plain": [
              "                                                  review sentiment\n",
              "0      One of the other reviewers has mentioned that ...  positive\n",
              "1      A wonderful little production. <br /><br />The...  positive\n",
              "2      I thought this was a wonderful way to spend ti...  positive\n",
              "3      Basically there's a family where a little boy ...  negative\n",
              "4      Petter Mattei's \"Love in the Time of Money\" is...  positive\n",
              "...                                                  ...       ...\n",
              "49995  I thought this movie did a down right good job...  positive\n",
              "49996  Bad plot, bad dialogue, bad acting, idiotic di...  negative\n",
              "49997  I am a Catholic taught in parochial elementary...  negative\n",
              "49998  I'm going to have to disagree with the previou...  negative\n",
              "49999  No one expects the Star Trek movies to be high...  negative\n",
              "\n",
              "[50000 rows x 2 columns]"
            ],
            "text/html": [
              "\n",
              "  <div id=\"df-8e623061-3708-4f51-951f-e112577316fc\" class=\"colab-df-container\">\n",
              "    <div>\n",
              "<style scoped>\n",
              "    .dataframe tbody tr th:only-of-type {\n",
              "        vertical-align: middle;\n",
              "    }\n",
              "\n",
              "    .dataframe tbody tr th {\n",
              "        vertical-align: top;\n",
              "    }\n",
              "\n",
              "    .dataframe thead th {\n",
              "        text-align: right;\n",
              "    }\n",
              "</style>\n",
              "<table border=\"1\" class=\"dataframe\">\n",
              "  <thead>\n",
              "    <tr style=\"text-align: right;\">\n",
              "      <th></th>\n",
              "      <th>review</th>\n",
              "      <th>sentiment</th>\n",
              "    </tr>\n",
              "  </thead>\n",
              "  <tbody>\n",
              "    <tr>\n",
              "      <th>0</th>\n",
              "      <td>One of the other reviewers has mentioned that ...</td>\n",
              "      <td>positive</td>\n",
              "    </tr>\n",
              "    <tr>\n",
              "      <th>1</th>\n",
              "      <td>A wonderful little production. &lt;br /&gt;&lt;br /&gt;The...</td>\n",
              "      <td>positive</td>\n",
              "    </tr>\n",
              "    <tr>\n",
              "      <th>2</th>\n",
              "      <td>I thought this was a wonderful way to spend ti...</td>\n",
              "      <td>positive</td>\n",
              "    </tr>\n",
              "    <tr>\n",
              "      <th>3</th>\n",
              "      <td>Basically there's a family where a little boy ...</td>\n",
              "      <td>negative</td>\n",
              "    </tr>\n",
              "    <tr>\n",
              "      <th>4</th>\n",
              "      <td>Petter Mattei's \"Love in the Time of Money\" is...</td>\n",
              "      <td>positive</td>\n",
              "    </tr>\n",
              "    <tr>\n",
              "      <th>...</th>\n",
              "      <td>...</td>\n",
              "      <td>...</td>\n",
              "    </tr>\n",
              "    <tr>\n",
              "      <th>49995</th>\n",
              "      <td>I thought this movie did a down right good job...</td>\n",
              "      <td>positive</td>\n",
              "    </tr>\n",
              "    <tr>\n",
              "      <th>49996</th>\n",
              "      <td>Bad plot, bad dialogue, bad acting, idiotic di...</td>\n",
              "      <td>negative</td>\n",
              "    </tr>\n",
              "    <tr>\n",
              "      <th>49997</th>\n",
              "      <td>I am a Catholic taught in parochial elementary...</td>\n",
              "      <td>negative</td>\n",
              "    </tr>\n",
              "    <tr>\n",
              "      <th>49998</th>\n",
              "      <td>I'm going to have to disagree with the previou...</td>\n",
              "      <td>negative</td>\n",
              "    </tr>\n",
              "    <tr>\n",
              "      <th>49999</th>\n",
              "      <td>No one expects the Star Trek movies to be high...</td>\n",
              "      <td>negative</td>\n",
              "    </tr>\n",
              "  </tbody>\n",
              "</table>\n",
              "<p>50000 rows × 2 columns</p>\n",
              "</div>\n",
              "    <div class=\"colab-df-buttons\">\n",
              "\n",
              "  <div class=\"colab-df-container\">\n",
              "    <button class=\"colab-df-convert\" onclick=\"convertToInteractive('df-8e623061-3708-4f51-951f-e112577316fc')\"\n",
              "            title=\"Convert this dataframe to an interactive table.\"\n",
              "            style=\"display:none;\">\n",
              "\n",
              "  <svg xmlns=\"http://www.w3.org/2000/svg\" height=\"24px\" viewBox=\"0 -960 960 960\">\n",
              "    <path d=\"M120-120v-720h720v720H120Zm60-500h600v-160H180v160Zm220 220h160v-160H400v160Zm0 220h160v-160H400v160ZM180-400h160v-160H180v160Zm440 0h160v-160H620v160ZM180-180h160v-160H180v160Zm440 0h160v-160H620v160Z\"/>\n",
              "  </svg>\n",
              "    </button>\n",
              "\n",
              "  <style>\n",
              "    .colab-df-container {\n",
              "      display:flex;\n",
              "      gap: 12px;\n",
              "    }\n",
              "\n",
              "    .colab-df-convert {\n",
              "      background-color: #E8F0FE;\n",
              "      border: none;\n",
              "      border-radius: 50%;\n",
              "      cursor: pointer;\n",
              "      display: none;\n",
              "      fill: #1967D2;\n",
              "      height: 32px;\n",
              "      padding: 0 0 0 0;\n",
              "      width: 32px;\n",
              "    }\n",
              "\n",
              "    .colab-df-convert:hover {\n",
              "      background-color: #E2EBFA;\n",
              "      box-shadow: 0px 1px 2px rgba(60, 64, 67, 0.3), 0px 1px 3px 1px rgba(60, 64, 67, 0.15);\n",
              "      fill: #174EA6;\n",
              "    }\n",
              "\n",
              "    .colab-df-buttons div {\n",
              "      margin-bottom: 4px;\n",
              "    }\n",
              "\n",
              "    [theme=dark] .colab-df-convert {\n",
              "      background-color: #3B4455;\n",
              "      fill: #D2E3FC;\n",
              "    }\n",
              "\n",
              "    [theme=dark] .colab-df-convert:hover {\n",
              "      background-color: #434B5C;\n",
              "      box-shadow: 0px 1px 3px 1px rgba(0, 0, 0, 0.15);\n",
              "      filter: drop-shadow(0px 1px 2px rgba(0, 0, 0, 0.3));\n",
              "      fill: #FFFFFF;\n",
              "    }\n",
              "  </style>\n",
              "\n",
              "    <script>\n",
              "      const buttonEl =\n",
              "        document.querySelector('#df-8e623061-3708-4f51-951f-e112577316fc button.colab-df-convert');\n",
              "      buttonEl.style.display =\n",
              "        google.colab.kernel.accessAllowed ? 'block' : 'none';\n",
              "\n",
              "      async function convertToInteractive(key) {\n",
              "        const element = document.querySelector('#df-8e623061-3708-4f51-951f-e112577316fc');\n",
              "        const dataTable =\n",
              "          await google.colab.kernel.invokeFunction('convertToInteractive',\n",
              "                                                    [key], {});\n",
              "        if (!dataTable) return;\n",
              "\n",
              "        const docLinkHtml = 'Like what you see? Visit the ' +\n",
              "          '<a target=\"_blank\" href=https://colab.research.google.com/notebooks/data_table.ipynb>data table notebook</a>'\n",
              "          + ' to learn more about interactive tables.';\n",
              "        element.innerHTML = '';\n",
              "        dataTable['output_type'] = 'display_data';\n",
              "        await google.colab.output.renderOutput(dataTable, element);\n",
              "        const docLink = document.createElement('div');\n",
              "        docLink.innerHTML = docLinkHtml;\n",
              "        element.appendChild(docLink);\n",
              "      }\n",
              "    </script>\n",
              "  </div>\n",
              "\n",
              "\n",
              "<div id=\"df-15acb03a-be06-4bf1-aea3-49510e9f18fd\">\n",
              "  <button class=\"colab-df-quickchart\" onclick=\"quickchart('df-15acb03a-be06-4bf1-aea3-49510e9f18fd')\"\n",
              "            title=\"Suggest charts\"\n",
              "            style=\"display:none;\">\n",
              "\n",
              "<svg xmlns=\"http://www.w3.org/2000/svg\" height=\"24px\"viewBox=\"0 0 24 24\"\n",
              "     width=\"24px\">\n",
              "    <g>\n",
              "        <path d=\"M19 3H5c-1.1 0-2 .9-2 2v14c0 1.1.9 2 2 2h14c1.1 0 2-.9 2-2V5c0-1.1-.9-2-2-2zM9 17H7v-7h2v7zm4 0h-2V7h2v10zm4 0h-2v-4h2v4z\"/>\n",
              "    </g>\n",
              "</svg>\n",
              "  </button>\n",
              "\n",
              "<style>\n",
              "  .colab-df-quickchart {\n",
              "      --bg-color: #E8F0FE;\n",
              "      --fill-color: #1967D2;\n",
              "      --hover-bg-color: #E2EBFA;\n",
              "      --hover-fill-color: #174EA6;\n",
              "      --disabled-fill-color: #AAA;\n",
              "      --disabled-bg-color: #DDD;\n",
              "  }\n",
              "\n",
              "  [theme=dark] .colab-df-quickchart {\n",
              "      --bg-color: #3B4455;\n",
              "      --fill-color: #D2E3FC;\n",
              "      --hover-bg-color: #434B5C;\n",
              "      --hover-fill-color: #FFFFFF;\n",
              "      --disabled-bg-color: #3B4455;\n",
              "      --disabled-fill-color: #666;\n",
              "  }\n",
              "\n",
              "  .colab-df-quickchart {\n",
              "    background-color: var(--bg-color);\n",
              "    border: none;\n",
              "    border-radius: 50%;\n",
              "    cursor: pointer;\n",
              "    display: none;\n",
              "    fill: var(--fill-color);\n",
              "    height: 32px;\n",
              "    padding: 0;\n",
              "    width: 32px;\n",
              "  }\n",
              "\n",
              "  .colab-df-quickchart:hover {\n",
              "    background-color: var(--hover-bg-color);\n",
              "    box-shadow: 0 1px 2px rgba(60, 64, 67, 0.3), 0 1px 3px 1px rgba(60, 64, 67, 0.15);\n",
              "    fill: var(--button-hover-fill-color);\n",
              "  }\n",
              "\n",
              "  .colab-df-quickchart-complete:disabled,\n",
              "  .colab-df-quickchart-complete:disabled:hover {\n",
              "    background-color: var(--disabled-bg-color);\n",
              "    fill: var(--disabled-fill-color);\n",
              "    box-shadow: none;\n",
              "  }\n",
              "\n",
              "  .colab-df-spinner {\n",
              "    border: 2px solid var(--fill-color);\n",
              "    border-color: transparent;\n",
              "    border-bottom-color: var(--fill-color);\n",
              "    animation:\n",
              "      spin 1s steps(1) infinite;\n",
              "  }\n",
              "\n",
              "  @keyframes spin {\n",
              "    0% {\n",
              "      border-color: transparent;\n",
              "      border-bottom-color: var(--fill-color);\n",
              "      border-left-color: var(--fill-color);\n",
              "    }\n",
              "    20% {\n",
              "      border-color: transparent;\n",
              "      border-left-color: var(--fill-color);\n",
              "      border-top-color: var(--fill-color);\n",
              "    }\n",
              "    30% {\n",
              "      border-color: transparent;\n",
              "      border-left-color: var(--fill-color);\n",
              "      border-top-color: var(--fill-color);\n",
              "      border-right-color: var(--fill-color);\n",
              "    }\n",
              "    40% {\n",
              "      border-color: transparent;\n",
              "      border-right-color: var(--fill-color);\n",
              "      border-top-color: var(--fill-color);\n",
              "    }\n",
              "    60% {\n",
              "      border-color: transparent;\n",
              "      border-right-color: var(--fill-color);\n",
              "    }\n",
              "    80% {\n",
              "      border-color: transparent;\n",
              "      border-right-color: var(--fill-color);\n",
              "      border-bottom-color: var(--fill-color);\n",
              "    }\n",
              "    90% {\n",
              "      border-color: transparent;\n",
              "      border-bottom-color: var(--fill-color);\n",
              "    }\n",
              "  }\n",
              "</style>\n",
              "\n",
              "  <script>\n",
              "    async function quickchart(key) {\n",
              "      const quickchartButtonEl =\n",
              "        document.querySelector('#' + key + ' button');\n",
              "      quickchartButtonEl.disabled = true;  // To prevent multiple clicks.\n",
              "      quickchartButtonEl.classList.add('colab-df-spinner');\n",
              "      try {\n",
              "        const charts = await google.colab.kernel.invokeFunction(\n",
              "            'suggestCharts', [key], {});\n",
              "      } catch (error) {\n",
              "        console.error('Error during call to suggestCharts:', error);\n",
              "      }\n",
              "      quickchartButtonEl.classList.remove('colab-df-spinner');\n",
              "      quickchartButtonEl.classList.add('colab-df-quickchart-complete');\n",
              "    }\n",
              "    (() => {\n",
              "      let quickchartButtonEl =\n",
              "        document.querySelector('#df-15acb03a-be06-4bf1-aea3-49510e9f18fd button');\n",
              "      quickchartButtonEl.style.display =\n",
              "        google.colab.kernel.accessAllowed ? 'block' : 'none';\n",
              "    })();\n",
              "  </script>\n",
              "</div>\n",
              "    </div>\n",
              "  </div>\n"
            ],
            "application/vnd.google.colaboratory.intrinsic+json": {
              "type": "dataframe",
              "variable_name": "imdb_df",
              "summary": "{\n  \"name\": \"imdb_df\",\n  \"rows\": 50000,\n  \"fields\": [\n    {\n      \"column\": \"review\",\n      \"properties\": {\n        \"dtype\": \"string\",\n        \"num_unique_values\": 49582,\n        \"samples\": [\n          \"\\\"Soul Plane\\\" is a horrible attempt at comedy that only should appeal people with thick skulls, bloodshot eyes and furry pawns. <br /><br />The plot is not only incoherent but also non-existent, acting is mostly sub sub-par with a gang of highly moronic and dreadful characters thrown in for bad measure, jokes are often spotted miles ahead and almost never even a bit amusing. This movie lacks any structure and is full of racial stereotypes that must have seemed old even in the fifties, the only thing it really has going for it is some pretty ladies, but really, if you want that you can rent something from the \\\"Adult\\\" section. OK?<br /><br />I can hardly see anything here to recommend since you'll probably have a lot a better and productive time chasing rats with a sledgehammer or inventing waterproof teabags or whatever.<br /><br />2/10\",\n          \"Guest from the Future tells a fascinating story of time travel, friendship, battle of good and evil -- all with a small budget, child actors, and few special effects. Something for Spielberg and Lucas to learn from. ;) A sixth-grader Kolya \\\"Nick\\\" Gerasimov finds a time machine in the basement of a decrepit building and travels 100 years into the future. He discovers a near-perfect, utopian society where robots play guitars and write poetry, everyone is kind to each other and people enjoy everything technology has to offer. Alice is the daughter of a prominent scientist who invented a device called Mielophone that allows to read minds of humans and animals. The device can be put to both good and bad use, depending on whose hands it falls into. When two evil space pirates from Saturn who want to rule the universe attempt to steal Mielophone, it falls into the hands of 20th century school boy Nick. With the pirates hot on his tracks, he travels back to his time, followed by the pirates, and Alice. Chaos, confusion and funny situations follow as the luckless pirates try to blend in with the earthlings. Alice enrolls in the same school Nick goes to and demonstrates superhuman abilities in PE class. The catch is, Alice doesn't know what Nick looks like, while the pirates do. Also, the pirates are able to change their appearance and turn literally into anyone. (Hmm, I wonder if this is where James Cameron got the idea for Terminator...) Who gets to Nick -- and Mielophone -- first? Excellent plot, non-stop adventures, and great soundtrack. I wish Hollywood made kid movies like this one...\",\n          \"\\\"National Treasure\\\" (2004) is a thoroughly misguided hodge-podge of plot entanglements that borrow from nearly every cloak and dagger government conspiracy clich\\u00e9 that has ever been written. The film stars Nicholas Cage as Benjamin Franklin Gates (how precious is that, I ask you?); a seemingly normal fellow who, for no other reason than being of a lineage of like-minded misguided fortune hunters, decides to steal a 'national treasure' that has been hidden by the United States founding fathers. After a bit of subtext and background that plays laughably (unintentionally) like Indiana Jones meets The Patriot, the film degenerates into one misguided whimsy after another \\u0096 attempting to create a 'Stanley Goodspeed' regurgitation of Nicholas Cage and launch the whole convoluted mess forward with a series of high octane, but disconnected misadventures.<br /><br />The relevancy and logic to having George Washington and his motley crew of patriots burying a king's ransom someplace on native soil, and then, going through the meticulous plan of leaving clues scattered throughout U.S. currency art work, is something that director Jon Turteltaub never quite gets around to explaining. Couldn't Washington found better usage for such wealth during the start up of the country? Hence, we are left with a mystery built on top of an enigma that is already on shaky ground by the time Ben appoints himself the new custodian of this untold wealth. Ben's intentions are noble \\u0096 if confusing. He's set on protecting the treasure. For who and when?\\u0085your guess is as good as mine.<br /><br />But there are a few problems with Ben's crusade. First up, his friend, Ian Holmes (Sean Bean) decides that he can't wait for Ben to make up his mind about stealing the Declaration of Independence from the National Archives (oh, yeah \\u0096 brilliant idea!). Presumably, the back of that famous document holds the secret answer to the ultimate fortune. So Ian tries to kill Ben. The assassination attempt is, of course, unsuccessful, if overly melodramatic. It also affords Ben the opportunity to pick up, and pick on, the very sultry curator of the archives, Abigail Chase (Diane Kruger). She thinks Ben is clearly a nut \\u0096 at least at the beginning. But true to action/romance form, Abby's resolve melts quicker than you can say, \\\"is that the Hope Diamond?\\\" The film moves into full X-File-ish mode, as the FBI, mistakenly believing that Ben is behind the theft, retaliate in various benign ways that lead to a multi-layering of action sequences reminiscent of Mission Impossible meets The Fugitive. Honestly, don't those guys ever get 'intelligence' information that is correct? In the final analysis, \\\"National Treasure\\\" isn't great film making, so much as it's a patchwork rehash of tired old bits from other movies, woven together from scraps, the likes of which would make IL' Betsy Ross blush.<br /><br />The Buena Vista DVD delivers a far more generous treatment than this film is deserving of. The anamorphic widescreen picture exhibits a very smooth and finely detailed image with very rich colors, natural flesh tones, solid blacks and clean whites. The stylized image is also free of blemishes and digital enhancements. The audio is 5.1 and delivers a nice sonic boom to your side and rear speakers with intensity and realism. Extras include a host of promotional junket material that is rather deep and over the top in its explanation of how and why this film was made. If only, as an audience, we had had more clarification as to why Ben and co. were chasing after an illusive treasure, this might have been one good flick. Extras conclude with the theatrical trailer, audio commentary and deleted scenes. Not for the faint-hearted \\u0096 just the thick-headed.\"\n        ],\n        \"semantic_type\": \"\",\n        \"description\": \"\"\n      }\n    },\n    {\n      \"column\": \"sentiment\",\n      \"properties\": {\n        \"dtype\": \"category\",\n        \"num_unique_values\": 2,\n        \"samples\": [\n          \"negative\",\n          \"positive\"\n        ],\n        \"semantic_type\": \"\",\n        \"description\": \"\"\n      }\n    }\n  ]\n}"
            }
          },
          "metadata": {},
          "execution_count": 9
        }
      ],
      "source": [
        "imdb_df = pd.read_csv(csv_filepath)\n",
        "imdb_df\n"
      ]
    },
    {
      "cell_type": "code",
      "execution_count": null,
      "metadata": {
        "colab": {
          "base_uri": "https://localhost:8080/"
        },
        "id": "QBXWmqctDQ6c",
        "outputId": "34cc431f-f160-41cb-c3b2-3c71d150ee82"
      },
      "outputs": [
        {
          "data": {
            "text/plain": [
              "array(['positive', 'negative'], dtype=object)"
            ]
          },
          "execution_count": 8,
          "metadata": {},
          "output_type": "execute_result"
        }
      ],
      "source": [
        "imdb_df['sentiment'].unique()\n"
      ]
    },
    {
      "cell_type": "code",
      "execution_count": 10,
      "metadata": {
        "colab": {
          "base_uri": "https://localhost:8080/",
          "height": 423
        },
        "id": "xKpKxbI3DK3v",
        "outputId": "21ff41b0-4f0e-4b53-f584-cc08f27c1b60"
      },
      "outputs": [
        {
          "output_type": "execute_result",
          "data": {
            "text/plain": [
              "                                                  review sentiment  labels\n",
              "0      One of the other reviewers has mentioned that ...  positive       1\n",
              "1      A wonderful little production. <br /><br />The...  positive       1\n",
              "2      I thought this was a wonderful way to spend ti...  positive       1\n",
              "3      Basically there's a family where a little boy ...  negative       0\n",
              "4      Petter Mattei's \"Love in the Time of Money\" is...  positive       1\n",
              "...                                                  ...       ...     ...\n",
              "49995  I thought this movie did a down right good job...  positive       1\n",
              "49996  Bad plot, bad dialogue, bad acting, idiotic di...  negative       0\n",
              "49997  I am a Catholic taught in parochial elementary...  negative       0\n",
              "49998  I'm going to have to disagree with the previou...  negative       0\n",
              "49999  No one expects the Star Trek movies to be high...  negative       0\n",
              "\n",
              "[50000 rows x 3 columns]"
            ],
            "text/html": [
              "\n",
              "  <div id=\"df-25d644e7-47ab-4211-b6c7-0955004641c6\" class=\"colab-df-container\">\n",
              "    <div>\n",
              "<style scoped>\n",
              "    .dataframe tbody tr th:only-of-type {\n",
              "        vertical-align: middle;\n",
              "    }\n",
              "\n",
              "    .dataframe tbody tr th {\n",
              "        vertical-align: top;\n",
              "    }\n",
              "\n",
              "    .dataframe thead th {\n",
              "        text-align: right;\n",
              "    }\n",
              "</style>\n",
              "<table border=\"1\" class=\"dataframe\">\n",
              "  <thead>\n",
              "    <tr style=\"text-align: right;\">\n",
              "      <th></th>\n",
              "      <th>review</th>\n",
              "      <th>sentiment</th>\n",
              "      <th>labels</th>\n",
              "    </tr>\n",
              "  </thead>\n",
              "  <tbody>\n",
              "    <tr>\n",
              "      <th>0</th>\n",
              "      <td>One of the other reviewers has mentioned that ...</td>\n",
              "      <td>positive</td>\n",
              "      <td>1</td>\n",
              "    </tr>\n",
              "    <tr>\n",
              "      <th>1</th>\n",
              "      <td>A wonderful little production. &lt;br /&gt;&lt;br /&gt;The...</td>\n",
              "      <td>positive</td>\n",
              "      <td>1</td>\n",
              "    </tr>\n",
              "    <tr>\n",
              "      <th>2</th>\n",
              "      <td>I thought this was a wonderful way to spend ti...</td>\n",
              "      <td>positive</td>\n",
              "      <td>1</td>\n",
              "    </tr>\n",
              "    <tr>\n",
              "      <th>3</th>\n",
              "      <td>Basically there's a family where a little boy ...</td>\n",
              "      <td>negative</td>\n",
              "      <td>0</td>\n",
              "    </tr>\n",
              "    <tr>\n",
              "      <th>4</th>\n",
              "      <td>Petter Mattei's \"Love in the Time of Money\" is...</td>\n",
              "      <td>positive</td>\n",
              "      <td>1</td>\n",
              "    </tr>\n",
              "    <tr>\n",
              "      <th>...</th>\n",
              "      <td>...</td>\n",
              "      <td>...</td>\n",
              "      <td>...</td>\n",
              "    </tr>\n",
              "    <tr>\n",
              "      <th>49995</th>\n",
              "      <td>I thought this movie did a down right good job...</td>\n",
              "      <td>positive</td>\n",
              "      <td>1</td>\n",
              "    </tr>\n",
              "    <tr>\n",
              "      <th>49996</th>\n",
              "      <td>Bad plot, bad dialogue, bad acting, idiotic di...</td>\n",
              "      <td>negative</td>\n",
              "      <td>0</td>\n",
              "    </tr>\n",
              "    <tr>\n",
              "      <th>49997</th>\n",
              "      <td>I am a Catholic taught in parochial elementary...</td>\n",
              "      <td>negative</td>\n",
              "      <td>0</td>\n",
              "    </tr>\n",
              "    <tr>\n",
              "      <th>49998</th>\n",
              "      <td>I'm going to have to disagree with the previou...</td>\n",
              "      <td>negative</td>\n",
              "      <td>0</td>\n",
              "    </tr>\n",
              "    <tr>\n",
              "      <th>49999</th>\n",
              "      <td>No one expects the Star Trek movies to be high...</td>\n",
              "      <td>negative</td>\n",
              "      <td>0</td>\n",
              "    </tr>\n",
              "  </tbody>\n",
              "</table>\n",
              "<p>50000 rows × 3 columns</p>\n",
              "</div>\n",
              "    <div class=\"colab-df-buttons\">\n",
              "\n",
              "  <div class=\"colab-df-container\">\n",
              "    <button class=\"colab-df-convert\" onclick=\"convertToInteractive('df-25d644e7-47ab-4211-b6c7-0955004641c6')\"\n",
              "            title=\"Convert this dataframe to an interactive table.\"\n",
              "            style=\"display:none;\">\n",
              "\n",
              "  <svg xmlns=\"http://www.w3.org/2000/svg\" height=\"24px\" viewBox=\"0 -960 960 960\">\n",
              "    <path d=\"M120-120v-720h720v720H120Zm60-500h600v-160H180v160Zm220 220h160v-160H400v160Zm0 220h160v-160H400v160ZM180-400h160v-160H180v160Zm440 0h160v-160H620v160ZM180-180h160v-160H180v160Zm440 0h160v-160H620v160Z\"/>\n",
              "  </svg>\n",
              "    </button>\n",
              "\n",
              "  <style>\n",
              "    .colab-df-container {\n",
              "      display:flex;\n",
              "      gap: 12px;\n",
              "    }\n",
              "\n",
              "    .colab-df-convert {\n",
              "      background-color: #E8F0FE;\n",
              "      border: none;\n",
              "      border-radius: 50%;\n",
              "      cursor: pointer;\n",
              "      display: none;\n",
              "      fill: #1967D2;\n",
              "      height: 32px;\n",
              "      padding: 0 0 0 0;\n",
              "      width: 32px;\n",
              "    }\n",
              "\n",
              "    .colab-df-convert:hover {\n",
              "      background-color: #E2EBFA;\n",
              "      box-shadow: 0px 1px 2px rgba(60, 64, 67, 0.3), 0px 1px 3px 1px rgba(60, 64, 67, 0.15);\n",
              "      fill: #174EA6;\n",
              "    }\n",
              "\n",
              "    .colab-df-buttons div {\n",
              "      margin-bottom: 4px;\n",
              "    }\n",
              "\n",
              "    [theme=dark] .colab-df-convert {\n",
              "      background-color: #3B4455;\n",
              "      fill: #D2E3FC;\n",
              "    }\n",
              "\n",
              "    [theme=dark] .colab-df-convert:hover {\n",
              "      background-color: #434B5C;\n",
              "      box-shadow: 0px 1px 3px 1px rgba(0, 0, 0, 0.15);\n",
              "      filter: drop-shadow(0px 1px 2px rgba(0, 0, 0, 0.3));\n",
              "      fill: #FFFFFF;\n",
              "    }\n",
              "  </style>\n",
              "\n",
              "    <script>\n",
              "      const buttonEl =\n",
              "        document.querySelector('#df-25d644e7-47ab-4211-b6c7-0955004641c6 button.colab-df-convert');\n",
              "      buttonEl.style.display =\n",
              "        google.colab.kernel.accessAllowed ? 'block' : 'none';\n",
              "\n",
              "      async function convertToInteractive(key) {\n",
              "        const element = document.querySelector('#df-25d644e7-47ab-4211-b6c7-0955004641c6');\n",
              "        const dataTable =\n",
              "          await google.colab.kernel.invokeFunction('convertToInteractive',\n",
              "                                                    [key], {});\n",
              "        if (!dataTable) return;\n",
              "\n",
              "        const docLinkHtml = 'Like what you see? Visit the ' +\n",
              "          '<a target=\"_blank\" href=https://colab.research.google.com/notebooks/data_table.ipynb>data table notebook</a>'\n",
              "          + ' to learn more about interactive tables.';\n",
              "        element.innerHTML = '';\n",
              "        dataTable['output_type'] = 'display_data';\n",
              "        await google.colab.output.renderOutput(dataTable, element);\n",
              "        const docLink = document.createElement('div');\n",
              "        docLink.innerHTML = docLinkHtml;\n",
              "        element.appendChild(docLink);\n",
              "      }\n",
              "    </script>\n",
              "  </div>\n",
              "\n",
              "\n",
              "<div id=\"df-b30d05ac-15aa-4376-87e7-0d7ec6171931\">\n",
              "  <button class=\"colab-df-quickchart\" onclick=\"quickchart('df-b30d05ac-15aa-4376-87e7-0d7ec6171931')\"\n",
              "            title=\"Suggest charts\"\n",
              "            style=\"display:none;\">\n",
              "\n",
              "<svg xmlns=\"http://www.w3.org/2000/svg\" height=\"24px\"viewBox=\"0 0 24 24\"\n",
              "     width=\"24px\">\n",
              "    <g>\n",
              "        <path d=\"M19 3H5c-1.1 0-2 .9-2 2v14c0 1.1.9 2 2 2h14c1.1 0 2-.9 2-2V5c0-1.1-.9-2-2-2zM9 17H7v-7h2v7zm4 0h-2V7h2v10zm4 0h-2v-4h2v4z\"/>\n",
              "    </g>\n",
              "</svg>\n",
              "  </button>\n",
              "\n",
              "<style>\n",
              "  .colab-df-quickchart {\n",
              "      --bg-color: #E8F0FE;\n",
              "      --fill-color: #1967D2;\n",
              "      --hover-bg-color: #E2EBFA;\n",
              "      --hover-fill-color: #174EA6;\n",
              "      --disabled-fill-color: #AAA;\n",
              "      --disabled-bg-color: #DDD;\n",
              "  }\n",
              "\n",
              "  [theme=dark] .colab-df-quickchart {\n",
              "      --bg-color: #3B4455;\n",
              "      --fill-color: #D2E3FC;\n",
              "      --hover-bg-color: #434B5C;\n",
              "      --hover-fill-color: #FFFFFF;\n",
              "      --disabled-bg-color: #3B4455;\n",
              "      --disabled-fill-color: #666;\n",
              "  }\n",
              "\n",
              "  .colab-df-quickchart {\n",
              "    background-color: var(--bg-color);\n",
              "    border: none;\n",
              "    border-radius: 50%;\n",
              "    cursor: pointer;\n",
              "    display: none;\n",
              "    fill: var(--fill-color);\n",
              "    height: 32px;\n",
              "    padding: 0;\n",
              "    width: 32px;\n",
              "  }\n",
              "\n",
              "  .colab-df-quickchart:hover {\n",
              "    background-color: var(--hover-bg-color);\n",
              "    box-shadow: 0 1px 2px rgba(60, 64, 67, 0.3), 0 1px 3px 1px rgba(60, 64, 67, 0.15);\n",
              "    fill: var(--button-hover-fill-color);\n",
              "  }\n",
              "\n",
              "  .colab-df-quickchart-complete:disabled,\n",
              "  .colab-df-quickchart-complete:disabled:hover {\n",
              "    background-color: var(--disabled-bg-color);\n",
              "    fill: var(--disabled-fill-color);\n",
              "    box-shadow: none;\n",
              "  }\n",
              "\n",
              "  .colab-df-spinner {\n",
              "    border: 2px solid var(--fill-color);\n",
              "    border-color: transparent;\n",
              "    border-bottom-color: var(--fill-color);\n",
              "    animation:\n",
              "      spin 1s steps(1) infinite;\n",
              "  }\n",
              "\n",
              "  @keyframes spin {\n",
              "    0% {\n",
              "      border-color: transparent;\n",
              "      border-bottom-color: var(--fill-color);\n",
              "      border-left-color: var(--fill-color);\n",
              "    }\n",
              "    20% {\n",
              "      border-color: transparent;\n",
              "      border-left-color: var(--fill-color);\n",
              "      border-top-color: var(--fill-color);\n",
              "    }\n",
              "    30% {\n",
              "      border-color: transparent;\n",
              "      border-left-color: var(--fill-color);\n",
              "      border-top-color: var(--fill-color);\n",
              "      border-right-color: var(--fill-color);\n",
              "    }\n",
              "    40% {\n",
              "      border-color: transparent;\n",
              "      border-right-color: var(--fill-color);\n",
              "      border-top-color: var(--fill-color);\n",
              "    }\n",
              "    60% {\n",
              "      border-color: transparent;\n",
              "      border-right-color: var(--fill-color);\n",
              "    }\n",
              "    80% {\n",
              "      border-color: transparent;\n",
              "      border-right-color: var(--fill-color);\n",
              "      border-bottom-color: var(--fill-color);\n",
              "    }\n",
              "    90% {\n",
              "      border-color: transparent;\n",
              "      border-bottom-color: var(--fill-color);\n",
              "    }\n",
              "  }\n",
              "</style>\n",
              "\n",
              "  <script>\n",
              "    async function quickchart(key) {\n",
              "      const quickchartButtonEl =\n",
              "        document.querySelector('#' + key + ' button');\n",
              "      quickchartButtonEl.disabled = true;  // To prevent multiple clicks.\n",
              "      quickchartButtonEl.classList.add('colab-df-spinner');\n",
              "      try {\n",
              "        const charts = await google.colab.kernel.invokeFunction(\n",
              "            'suggestCharts', [key], {});\n",
              "      } catch (error) {\n",
              "        console.error('Error during call to suggestCharts:', error);\n",
              "      }\n",
              "      quickchartButtonEl.classList.remove('colab-df-spinner');\n",
              "      quickchartButtonEl.classList.add('colab-df-quickchart-complete');\n",
              "    }\n",
              "    (() => {\n",
              "      let quickchartButtonEl =\n",
              "        document.querySelector('#df-b30d05ac-15aa-4376-87e7-0d7ec6171931 button');\n",
              "      quickchartButtonEl.style.display =\n",
              "        google.colab.kernel.accessAllowed ? 'block' : 'none';\n",
              "    })();\n",
              "  </script>\n",
              "</div>\n",
              "    </div>\n",
              "  </div>\n"
            ],
            "application/vnd.google.colaboratory.intrinsic+json": {
              "type": "dataframe",
              "variable_name": "imdb_df",
              "summary": "{\n  \"name\": \"imdb_df\",\n  \"rows\": 50000,\n  \"fields\": [\n    {\n      \"column\": \"review\",\n      \"properties\": {\n        \"dtype\": \"string\",\n        \"num_unique_values\": 49582,\n        \"samples\": [\n          \"\\\"Soul Plane\\\" is a horrible attempt at comedy that only should appeal people with thick skulls, bloodshot eyes and furry pawns. <br /><br />The plot is not only incoherent but also non-existent, acting is mostly sub sub-par with a gang of highly moronic and dreadful characters thrown in for bad measure, jokes are often spotted miles ahead and almost never even a bit amusing. This movie lacks any structure and is full of racial stereotypes that must have seemed old even in the fifties, the only thing it really has going for it is some pretty ladies, but really, if you want that you can rent something from the \\\"Adult\\\" section. OK?<br /><br />I can hardly see anything here to recommend since you'll probably have a lot a better and productive time chasing rats with a sledgehammer or inventing waterproof teabags or whatever.<br /><br />2/10\",\n          \"Guest from the Future tells a fascinating story of time travel, friendship, battle of good and evil -- all with a small budget, child actors, and few special effects. Something for Spielberg and Lucas to learn from. ;) A sixth-grader Kolya \\\"Nick\\\" Gerasimov finds a time machine in the basement of a decrepit building and travels 100 years into the future. He discovers a near-perfect, utopian society where robots play guitars and write poetry, everyone is kind to each other and people enjoy everything technology has to offer. Alice is the daughter of a prominent scientist who invented a device called Mielophone that allows to read minds of humans and animals. The device can be put to both good and bad use, depending on whose hands it falls into. When two evil space pirates from Saturn who want to rule the universe attempt to steal Mielophone, it falls into the hands of 20th century school boy Nick. With the pirates hot on his tracks, he travels back to his time, followed by the pirates, and Alice. Chaos, confusion and funny situations follow as the luckless pirates try to blend in with the earthlings. Alice enrolls in the same school Nick goes to and demonstrates superhuman abilities in PE class. The catch is, Alice doesn't know what Nick looks like, while the pirates do. Also, the pirates are able to change their appearance and turn literally into anyone. (Hmm, I wonder if this is where James Cameron got the idea for Terminator...) Who gets to Nick -- and Mielophone -- first? Excellent plot, non-stop adventures, and great soundtrack. I wish Hollywood made kid movies like this one...\",\n          \"\\\"National Treasure\\\" (2004) is a thoroughly misguided hodge-podge of plot entanglements that borrow from nearly every cloak and dagger government conspiracy clich\\u00e9 that has ever been written. The film stars Nicholas Cage as Benjamin Franklin Gates (how precious is that, I ask you?); a seemingly normal fellow who, for no other reason than being of a lineage of like-minded misguided fortune hunters, decides to steal a 'national treasure' that has been hidden by the United States founding fathers. After a bit of subtext and background that plays laughably (unintentionally) like Indiana Jones meets The Patriot, the film degenerates into one misguided whimsy after another \\u0096 attempting to create a 'Stanley Goodspeed' regurgitation of Nicholas Cage and launch the whole convoluted mess forward with a series of high octane, but disconnected misadventures.<br /><br />The relevancy and logic to having George Washington and his motley crew of patriots burying a king's ransom someplace on native soil, and then, going through the meticulous plan of leaving clues scattered throughout U.S. currency art work, is something that director Jon Turteltaub never quite gets around to explaining. Couldn't Washington found better usage for such wealth during the start up of the country? Hence, we are left with a mystery built on top of an enigma that is already on shaky ground by the time Ben appoints himself the new custodian of this untold wealth. Ben's intentions are noble \\u0096 if confusing. He's set on protecting the treasure. For who and when?\\u0085your guess is as good as mine.<br /><br />But there are a few problems with Ben's crusade. First up, his friend, Ian Holmes (Sean Bean) decides that he can't wait for Ben to make up his mind about stealing the Declaration of Independence from the National Archives (oh, yeah \\u0096 brilliant idea!). Presumably, the back of that famous document holds the secret answer to the ultimate fortune. So Ian tries to kill Ben. The assassination attempt is, of course, unsuccessful, if overly melodramatic. It also affords Ben the opportunity to pick up, and pick on, the very sultry curator of the archives, Abigail Chase (Diane Kruger). She thinks Ben is clearly a nut \\u0096 at least at the beginning. But true to action/romance form, Abby's resolve melts quicker than you can say, \\\"is that the Hope Diamond?\\\" The film moves into full X-File-ish mode, as the FBI, mistakenly believing that Ben is behind the theft, retaliate in various benign ways that lead to a multi-layering of action sequences reminiscent of Mission Impossible meets The Fugitive. Honestly, don't those guys ever get 'intelligence' information that is correct? In the final analysis, \\\"National Treasure\\\" isn't great film making, so much as it's a patchwork rehash of tired old bits from other movies, woven together from scraps, the likes of which would make IL' Betsy Ross blush.<br /><br />The Buena Vista DVD delivers a far more generous treatment than this film is deserving of. The anamorphic widescreen picture exhibits a very smooth and finely detailed image with very rich colors, natural flesh tones, solid blacks and clean whites. The stylized image is also free of blemishes and digital enhancements. The audio is 5.1 and delivers a nice sonic boom to your side and rear speakers with intensity and realism. Extras include a host of promotional junket material that is rather deep and over the top in its explanation of how and why this film was made. If only, as an audience, we had had more clarification as to why Ben and co. were chasing after an illusive treasure, this might have been one good flick. Extras conclude with the theatrical trailer, audio commentary and deleted scenes. Not for the faint-hearted \\u0096 just the thick-headed.\"\n        ],\n        \"semantic_type\": \"\",\n        \"description\": \"\"\n      }\n    },\n    {\n      \"column\": \"sentiment\",\n      \"properties\": {\n        \"dtype\": \"category\",\n        \"num_unique_values\": 2,\n        \"samples\": [\n          \"negative\",\n          \"positive\"\n        ],\n        \"semantic_type\": \"\",\n        \"description\": \"\"\n      }\n    },\n    {\n      \"column\": \"labels\",\n      \"properties\": {\n        \"dtype\": \"number\",\n        \"std\": 0,\n        \"min\": 0,\n        \"max\": 1,\n        \"num_unique_values\": 2,\n        \"samples\": [\n          0,\n          1\n        ],\n        \"semantic_type\": \"\",\n        \"description\": \"\"\n      }\n    }\n  ]\n}"
            }
          },
          "metadata": {},
          "execution_count": 10
        }
      ],
      "source": [
        "imdb_df['labels'] = (imdb_df['sentiment'] == 'positive').astype(int)\n",
        "imdb_df\n"
      ]
    },
    {
      "cell_type": "code",
      "execution_count": 11,
      "metadata": {
        "colab": {
          "base_uri": "https://localhost:8080/"
        },
        "id": "OTsULhENGhps",
        "outputId": "040e08e5-8f99-41b9-ee28-ed0fc3af5471"
      },
      "outputs": [
        {
          "output_type": "stream",
          "name": "stdout",
          "text": [
            "Train set length: 35000 \n",
            "Validation set length: 5000 \n",
            "Test set length: 10000\n"
          ]
        }
      ],
      "source": [
        "# split all samples into train, validation, test\n",
        "indices = list(imdb_df.index)\n",
        "np.random.shuffle(indices)\n",
        "\n",
        "train_count = int(len(imdb_df) * TRAIN_SPLIT)\n",
        "val_count = train_count + int(len(imdb_df) * VAL_SPLIT)\n",
        "\n",
        "train_indices = indices[:train_count]\n",
        "val_indices = indices[train_count:val_count]\n",
        "test_indices = indices[val_count:]\n",
        "\n",
        "train_df = imdb_df.iloc[train_indices].copy()\n",
        "val_df = imdb_df.iloc[val_indices].copy()\n",
        "test_df = imdb_df.iloc[test_indices].copy()\n",
        "\n",
        "print('Train set length:', len(train_df),\n",
        "      '\\nValidation set length:', len(val_df),\n",
        "      '\\nTest set length:', len(test_df))\n",
        "\n",
        "assert len(train_df) + len(val_df) + len(test_df) == len(imdb_df), '[WARNING] Wrong set split'\n"
      ]
    },
    {
      "cell_type": "code",
      "execution_count": 12,
      "metadata": {
        "colab": {
          "base_uri": "https://localhost:8080/",
          "height": 305,
          "referenced_widgets": [
            "2bdf0530ad054d59bd228c56080e6e27",
            "7cb4d5db2d184e8db0473300474793f5",
            "a988e90b6a594466b4ac394a33916437",
            "be48f6fa4d3043a39bbe88823dd0d2ed",
            "1929574d488643dfb8947000319de675",
            "6655ac1a440f46229fda0b0686ebdda9",
            "eefea5246ba046e68a7489a808e88410",
            "ef4807676b20486d8a6ad62c7fa5d6d3",
            "2fab496f478a42b09ef596d3a2313b39",
            "15c9b8e045644af7a94d38c7eb5fcea7",
            "63c29c59e306423c9387d71f39e2e7d5",
            "c7d418e43831480eab46a0f90521daac",
            "d4e1cf6f01604f6a928569befc4156fe",
            "92489286b2884b0c912cf96d31fca8f9",
            "d4246ce70fc64b52be1765caf1e111df",
            "6f83e58c7b4a4c8ab64b927bd4454962",
            "4d4d2005adc8460d95da6639f626b6d6",
            "fd130769b36c439998fe565a19f518e6",
            "31d83b735bc14d80bdbf45747dc314ad",
            "52ff625af2ab4e69a4a1d83af158b959",
            "7cdf0275cf6e4b24abf135ced953a457",
            "d6c1716304ed4805a64d42bedf71f86a",
            "27602ab2fa6f4f13b00e239f289aebb2",
            "bad3ee31a4014e8aabcf701b388f77d5",
            "67ee0d06d8dc45c1931d37dbefe8bce0",
            "bdcf86d958d6425ca78b94cba5833080",
            "ca0cebb4f8e04d26bb327adfad12ac9b",
            "a52e3ee0b9514e6a8abffc317064dcb4",
            "620f07032a8b4f5dbf379693a340793d",
            "dbafd5839542473da88dab23174db601",
            "babd82ac43cf46b2b22e44a102a08114",
            "4a035b7d8ee34932bbe3d507bfb714c6",
            "31ca04b895e5416ea5bd5a51380abdf2",
            "ef1aa580551d46eb84ef19f0fda99c11",
            "47db772bad5f49ec9b1bd6a3eff3ade4",
            "eef08e51b2294fbab6ac4ca891bfc3c0",
            "b929258d84644bdfb7bc541d5238b91d",
            "da38dd5ddcae4cdf9538d2a7b31514ca",
            "e112e47568b0416ba98e6cbe57ce0b85",
            "4ae023ea8d034b5c9b4ff1089dde175f",
            "fe511ddd9b3442a8b89b4b3f6401ad6e",
            "e07a562f5ecc437784659d3395fffba3",
            "e02944fe38df49179e285f7eea72c86a",
            "ec0f151ef5ab4ace9d35b36e2a5f26a2",
            "ebc1c848df504e83872127941f63f822",
            "8903b4a1b09d4d5c90a430cc9de96c76",
            "7974800903dc4b5fa41b7dfae47962e4",
            "d48b5fd5ea8f4579965ed72aa3788323",
            "9057e557b1014800abffa96856ab87d3",
            "50456a26b90f4dcaa228b974a8937c25",
            "c37edc088bc346f4b35d30fd1b033c5c",
            "ce54f9c0d7a54c69bee9fd1d7e3eb3b1",
            "dc6e4491223744f181a9dfc7f1d60e37",
            "01251fed0b3a4a50b06c00d9afbb8980",
            "1403a1c641514ee3847c91698781988f"
          ]
        },
        "id": "oq_5RSO-IcKE",
        "outputId": "c4540983-6311-46fa-93ba-2514fc6b1353"
      },
      "outputs": [
        {
          "output_type": "stream",
          "name": "stderr",
          "text": [
            "/usr/local/lib/python3.11/dist-packages/huggingface_hub/utils/_auth.py:94: UserWarning: \n",
            "The secret `HF_TOKEN` does not exist in your Colab secrets.\n",
            "To authenticate with the Hugging Face Hub, create a token in your settings tab (https://huggingface.co/settings/tokens), set it as secret in your Google Colab and restart your session.\n",
            "You will be able to reuse this secret in all of your notebooks.\n",
            "Please note that authentication is recommended but still optional to access public models or datasets.\n",
            "  warnings.warn(\n"
          ]
        },
        {
          "output_type": "display_data",
          "data": {
            "text/plain": [
              "tokenizer_config.json:   0%|          | 0.00/49.0 [00:00<?, ?B/s]"
            ],
            "application/vnd.jupyter.widget-view+json": {
              "version_major": 2,
              "version_minor": 0,
              "model_id": "2bdf0530ad054d59bd228c56080e6e27"
            }
          },
          "metadata": {}
        },
        {
          "output_type": "display_data",
          "data": {
            "text/plain": [
              "vocab.txt:   0%|          | 0.00/213k [00:00<?, ?B/s]"
            ],
            "application/vnd.jupyter.widget-view+json": {
              "version_major": 2,
              "version_minor": 0,
              "model_id": "c7d418e43831480eab46a0f90521daac"
            }
          },
          "metadata": {}
        },
        {
          "output_type": "display_data",
          "data": {
            "text/plain": [
              "tokenizer.json:   0%|          | 0.00/436k [00:00<?, ?B/s]"
            ],
            "application/vnd.jupyter.widget-view+json": {
              "version_major": 2,
              "version_minor": 0,
              "model_id": "27602ab2fa6f4f13b00e239f289aebb2"
            }
          },
          "metadata": {}
        },
        {
          "output_type": "display_data",
          "data": {
            "text/plain": [
              "config.json:   0%|          | 0.00/570 [00:00<?, ?B/s]"
            ],
            "application/vnd.jupyter.widget-view+json": {
              "version_major": 2,
              "version_minor": 0,
              "model_id": "ef1aa580551d46eb84ef19f0fda99c11"
            }
          },
          "metadata": {}
        },
        {
          "output_type": "display_data",
          "data": {
            "text/plain": [
              "model.safetensors:   0%|          | 0.00/436M [00:00<?, ?B/s]"
            ],
            "application/vnd.jupyter.widget-view+json": {
              "version_major": 2,
              "version_minor": 0,
              "model_id": "ebc1c848df504e83872127941f63f822"
            }
          },
          "metadata": {}
        }
      ],
      "source": [
        "# initialize tokenizer and BERT model\n",
        "bert_tokenizer = BertTokenizer.from_pretrained('bert-base-cased')\n",
        "bert_model = BertModel.from_pretrained('bert-base-cased')\n"
      ]
    },
    {
      "cell_type": "code",
      "execution_count": null,
      "metadata": {
        "colab": {
          "base_uri": "https://localhost:8080/"
        },
        "id": "Iyrtdh5iHTyP",
        "outputId": "f5c7e542-a48a-4ea2-f512-ee8324d8afdb"
      },
      "outputs": [
        {
          "data": {
            "text/plain": [
              "BertModel(\n",
              "  (embeddings): BertEmbeddings(\n",
              "    (word_embeddings): Embedding(28996, 768, padding_idx=0)\n",
              "    (position_embeddings): Embedding(512, 768)\n",
              "    (token_type_embeddings): Embedding(2, 768)\n",
              "    (LayerNorm): LayerNorm((768,), eps=1e-12, elementwise_affine=True)\n",
              "    (dropout): Dropout(p=0.1, inplace=False)\n",
              "  )\n",
              "  (encoder): BertEncoder(\n",
              "    (layer): ModuleList(\n",
              "      (0-11): 12 x BertLayer(\n",
              "        (attention): BertAttention(\n",
              "          (self): BertSdpaSelfAttention(\n",
              "            (query): Linear(in_features=768, out_features=768, bias=True)\n",
              "            (key): Linear(in_features=768, out_features=768, bias=True)\n",
              "            (value): Linear(in_features=768, out_features=768, bias=True)\n",
              "            (dropout): Dropout(p=0.1, inplace=False)\n",
              "          )\n",
              "          (output): BertSelfOutput(\n",
              "            (dense): Linear(in_features=768, out_features=768, bias=True)\n",
              "            (LayerNorm): LayerNorm((768,), eps=1e-12, elementwise_affine=True)\n",
              "            (dropout): Dropout(p=0.1, inplace=False)\n",
              "          )\n",
              "        )\n",
              "        (intermediate): BertIntermediate(\n",
              "          (dense): Linear(in_features=768, out_features=3072, bias=True)\n",
              "          (intermediate_act_fn): GELUActivation()\n",
              "        )\n",
              "        (output): BertOutput(\n",
              "          (dense): Linear(in_features=3072, out_features=768, bias=True)\n",
              "          (LayerNorm): LayerNorm((768,), eps=1e-12, elementwise_affine=True)\n",
              "          (dropout): Dropout(p=0.1, inplace=False)\n",
              "        )\n",
              "      )\n",
              "    )\n",
              "  )\n",
              "  (pooler): BertPooler(\n",
              "    (dense): Linear(in_features=768, out_features=768, bias=True)\n",
              "    (activation): Tanh()\n",
              "  )\n",
              ")"
            ]
          },
          "execution_count": 22,
          "metadata": {},
          "output_type": "execute_result"
        }
      ],
      "source": [
        "bert_model\n"
      ]
    },
    {
      "cell_type": "code",
      "execution_count": null,
      "metadata": {
        "collapsed": true,
        "id": "MlwOEaGUIb8K"
      },
      "outputs": [],
      "source": [
        "# create custom class for model with BERT\n",
        "class BertCustom(nn.Module):\n",
        "    def __init__(self, bert_inner_model):\n",
        "        super(BertCustom, self).__init__()\n",
        "        self.inner_model = bert_inner_model\n",
        "\n",
        "        for param in self.inner_model.parameters():\n",
        "            param.requires_grad = False\n",
        "\n",
        "        self.binary_classifier = nn.Sequential(OrderedDict([\n",
        "            ('dropout1', nn.Dropout(0.2)),\n",
        "            ('fc1', nn.Linear(768, 256)),\n",
        "            ('relu', nn.ReLU()),\n",
        "            ('dropout2', nn.Dropout(0.2)),\n",
        "            ('fc2', nn.Linear(256, 1)),\n",
        "            ('sig', nn.Sigmoid())\n",
        "        ]))\n",
        "\n",
        "    def forward(self, x):\n",
        "        x = self.binary_classifier.dropout1(x)\n",
        "        x = self.binary_classifier.fc1(x)\n",
        "        x = self.binary_classifier.relu(x)\n",
        "        x = self.binary_classifier.dropout2(x)\n",
        "        x = self.binary_classifier.fc2(x)\n",
        "        x = self.binary_classifier.sig(x)\n",
        "\n",
        "        return x\n",
        "\n",
        "    def inference(self, ids, mask):\n",
        "        x = self.inner_model(input_ids=ids, attention_mask=mask)[1]\n",
        "        x = self.forward(x)\n",
        "\n",
        "        return x\n"
      ]
    },
    {
      "cell_type": "code",
      "execution_count": null,
      "metadata": {
        "colab": {
          "base_uri": "https://localhost:8080/"
        },
        "id": "fjC7ouhYN8q4",
        "outputId": "21577d98-1313-47c6-cf9d-5a11cd914edb"
      },
      "outputs": [
        {
          "data": {
            "text/plain": [
              "BertCustom(\n",
              "  (inner_model): BertModel(\n",
              "    (embeddings): BertEmbeddings(\n",
              "      (word_embeddings): Embedding(28996, 768, padding_idx=0)\n",
              "      (position_embeddings): Embedding(512, 768)\n",
              "      (token_type_embeddings): Embedding(2, 768)\n",
              "      (LayerNorm): LayerNorm((768,), eps=1e-12, elementwise_affine=True)\n",
              "      (dropout): Dropout(p=0.1, inplace=False)\n",
              "    )\n",
              "    (encoder): BertEncoder(\n",
              "      (layer): ModuleList(\n",
              "        (0-11): 12 x BertLayer(\n",
              "          (attention): BertAttention(\n",
              "            (self): BertSdpaSelfAttention(\n",
              "              (query): Linear(in_features=768, out_features=768, bias=True)\n",
              "              (key): Linear(in_features=768, out_features=768, bias=True)\n",
              "              (value): Linear(in_features=768, out_features=768, bias=True)\n",
              "              (dropout): Dropout(p=0.1, inplace=False)\n",
              "            )\n",
              "            (output): BertSelfOutput(\n",
              "              (dense): Linear(in_features=768, out_features=768, bias=True)\n",
              "              (LayerNorm): LayerNorm((768,), eps=1e-12, elementwise_affine=True)\n",
              "              (dropout): Dropout(p=0.1, inplace=False)\n",
              "            )\n",
              "          )\n",
              "          (intermediate): BertIntermediate(\n",
              "            (dense): Linear(in_features=768, out_features=3072, bias=True)\n",
              "            (intermediate_act_fn): GELUActivation()\n",
              "          )\n",
              "          (output): BertOutput(\n",
              "            (dense): Linear(in_features=3072, out_features=768, bias=True)\n",
              "            (LayerNorm): LayerNorm((768,), eps=1e-12, elementwise_affine=True)\n",
              "            (dropout): Dropout(p=0.1, inplace=False)\n",
              "          )\n",
              "        )\n",
              "      )\n",
              "    )\n",
              "    (pooler): BertPooler(\n",
              "      (dense): Linear(in_features=768, out_features=768, bias=True)\n",
              "      (activation): Tanh()\n",
              "    )\n",
              "  )\n",
              "  (binary_classifier): Sequential(\n",
              "    (dropout1): Dropout(p=0.2, inplace=False)\n",
              "    (fc1): Linear(in_features=768, out_features=256, bias=True)\n",
              "    (relu): ReLU()\n",
              "    (dropout2): Dropout(p=0.2, inplace=False)\n",
              "    (fc2): Linear(in_features=256, out_features=1, bias=True)\n",
              "    (sig): Sigmoid()\n",
              "  )\n",
              ")"
            ]
          },
          "execution_count": 33,
          "metadata": {},
          "output_type": "execute_result"
        }
      ],
      "source": [
        "# initialize custom model\n",
        "custom_model = BertCustom(bert_model)\n",
        "custom_model.to('cuda')\n",
        "custom_model\n"
      ]
    },
    {
      "cell_type": "code",
      "execution_count": 13,
      "metadata": {
        "id": "hv8CSufHIcHN"
      },
      "outputs": [],
      "source": [
        "# create tokens\n",
        "train_tokens = bert_tokenizer(train_df['review'].tolist(), padding=True,\n",
        "                              truncation=True, return_tensors='pt')\n",
        "val_tokens = bert_tokenizer(val_df['review'].tolist(), padding=True,\n",
        "                            truncation=True, return_tensors='pt')\n",
        "test_tokens = bert_tokenizer(test_df['review'].tolist(), padding=True,\n",
        "                             truncation=True, return_tensors='pt')\n"
      ]
    },
    {
      "cell_type": "code",
      "source": [
        "# visualize tokens content\n",
        "for key, vals in train_tokens.items():\n",
        "    print(f'{key}:\\n{vals[0]}\\n{vals[0].shape}\\n')\n"
      ],
      "metadata": {
        "colab": {
          "base_uri": "https://localhost:8080/"
        },
        "id": "Vsc9qE8_x6lP",
        "outputId": "49911200-cc5c-4283-d7cb-21261b431ce7"
      },
      "execution_count": 14,
      "outputs": [
        {
          "output_type": "stream",
          "name": "stdout",
          "text": [
            "input_ids:\n",
            "tensor([  101,  1188,  1108,  1122,   106,   178,  1156,  1138,  1309,  2637,\n",
            "         1103,  3830,  1191,   178,  1238,   112,   189,  1640,  1221,  1103,\n",
            "         1481,  1103,  4429,  4333,   119,   133,  9304,   120,   135,   133,\n",
            "         9304,   120,   135,  1109,  1141,  1645,  1115,   178,  5687,  1108,\n",
            "         1115,  1725,  1108, 10822,  5866,  1228,  1105,  1136,  2586, 18467,\n",
            "          119,   178,  4819,  1123,   178,  1156,  1897,  1123,  1959,  2939,\n",
            "         1115, 10822,   112,   188,   119,  1184,  1108,  6276,  1110,  1115,\n",
            "         1107,  1103,  2741,  1187,  9415,  1197,  1110,  2939,  1158,  1113,\n",
            "         1103,  2704,  1908,  1105,   153, 26930,  1108,  6675,  1118,  1123,\n",
            "         1334,   178,  1408,  6675,  1315, 25338,  1233,   119,  1120,  1103,\n",
            "         1159,  1115,  1142,  4086,   178,  1108,  1164,  1275,  7490,  1105,\n",
            "         1139,  5095,  1959,  1108, 12558,  1121,  1103,  2150,  1177,   178,\n",
            "         1108,  2157,  1106,  1991,  1191,  1131,  8336,  1173,   178,  1209,\n",
            "         1136,  1267,  1103,  1437,  4169,   106, 25338,  1233,   133,  9304,\n",
            "          120,   135,   133,  9304,   120,   135,  1173,  1103,  2006,  1301,\n",
            "         1171,  1107,  1159,  1645,  1108,   170,  4900,  1200,  1105,  1541,\n",
            "         1363,   119,   178,  1145,  7338,  7642,  8209,  3962,  1111,   153,\n",
            "        26930,   112,   188,  1473,  1272,  1939,  1104,  1217,  1114,  1123,\n",
            "         5919,  1131,  1125,  1106,  1129,   170,   188, 25937,  2340, 16516,\n",
            "          115,   115,   115,  1105,  1129,  1114,  1123,  1363,  1111,  1720,\n",
            "         5725,  6508,   119,   133,  9304,   120,   135,   133,  9304,   120,\n",
            "          135,  1133,   178,  1341,  1142,  2004,  1209,  1129,  1208,  1105,\n",
            "         5221,  1141,  1104,  1139, 25735,  1105,   170, 24890,  2069, 14424,\n",
            "         2137,  5263,   119,   133,  9304,   120,   135,   133,  9304,   120,\n",
            "          135,   143,  9565,  2036, 17145,  2069, 24890, 12426, 14424,  2137,\n",
            "          106, 16850,  4108,   106,   102,     0,     0,     0,     0,     0,\n",
            "            0,     0,     0,     0,     0,     0,     0,     0,     0,     0,\n",
            "            0,     0,     0,     0,     0,     0,     0,     0,     0,     0,\n",
            "            0,     0,     0,     0,     0,     0,     0,     0,     0,     0,\n",
            "            0,     0,     0,     0,     0,     0,     0,     0,     0,     0,\n",
            "            0,     0,     0,     0,     0,     0,     0,     0,     0,     0,\n",
            "            0,     0,     0,     0,     0,     0,     0,     0,     0,     0,\n",
            "            0,     0,     0,     0,     0,     0,     0,     0,     0,     0,\n",
            "            0,     0,     0,     0,     0,     0,     0,     0,     0,     0,\n",
            "            0,     0,     0,     0,     0,     0,     0,     0,     0,     0,\n",
            "            0,     0,     0,     0,     0,     0,     0,     0,     0,     0,\n",
            "            0,     0,     0,     0,     0,     0,     0,     0,     0,     0,\n",
            "            0,     0,     0,     0,     0,     0,     0,     0,     0,     0,\n",
            "            0,     0,     0,     0,     0,     0,     0,     0,     0,     0,\n",
            "            0,     0,     0,     0,     0,     0,     0,     0,     0,     0,\n",
            "            0,     0,     0,     0,     0,     0,     0,     0,     0,     0,\n",
            "            0,     0,     0,     0,     0,     0,     0,     0,     0,     0,\n",
            "            0,     0,     0,     0,     0,     0,     0,     0,     0,     0,\n",
            "            0,     0,     0,     0,     0,     0,     0,     0,     0,     0,\n",
            "            0,     0,     0,     0,     0,     0,     0,     0,     0,     0,\n",
            "            0,     0,     0,     0,     0,     0,     0,     0,     0,     0,\n",
            "            0,     0,     0,     0,     0,     0,     0,     0,     0,     0,\n",
            "            0,     0,     0,     0,     0,     0,     0,     0,     0,     0,\n",
            "            0,     0,     0,     0,     0,     0,     0,     0,     0,     0,\n",
            "            0,     0,     0,     0,     0,     0,     0,     0,     0,     0,\n",
            "            0,     0,     0,     0,     0,     0,     0,     0,     0,     0,\n",
            "            0,     0])\n",
            "torch.Size([512])\n",
            "\n",
            "token_type_ids:\n",
            "tensor([0, 0, 0, 0, 0, 0, 0, 0, 0, 0, 0, 0, 0, 0, 0, 0, 0, 0, 0, 0, 0, 0, 0, 0,\n",
            "        0, 0, 0, 0, 0, 0, 0, 0, 0, 0, 0, 0, 0, 0, 0, 0, 0, 0, 0, 0, 0, 0, 0, 0,\n",
            "        0, 0, 0, 0, 0, 0, 0, 0, 0, 0, 0, 0, 0, 0, 0, 0, 0, 0, 0, 0, 0, 0, 0, 0,\n",
            "        0, 0, 0, 0, 0, 0, 0, 0, 0, 0, 0, 0, 0, 0, 0, 0, 0, 0, 0, 0, 0, 0, 0, 0,\n",
            "        0, 0, 0, 0, 0, 0, 0, 0, 0, 0, 0, 0, 0, 0, 0, 0, 0, 0, 0, 0, 0, 0, 0, 0,\n",
            "        0, 0, 0, 0, 0, 0, 0, 0, 0, 0, 0, 0, 0, 0, 0, 0, 0, 0, 0, 0, 0, 0, 0, 0,\n",
            "        0, 0, 0, 0, 0, 0, 0, 0, 0, 0, 0, 0, 0, 0, 0, 0, 0, 0, 0, 0, 0, 0, 0, 0,\n",
            "        0, 0, 0, 0, 0, 0, 0, 0, 0, 0, 0, 0, 0, 0, 0, 0, 0, 0, 0, 0, 0, 0, 0, 0,\n",
            "        0, 0, 0, 0, 0, 0, 0, 0, 0, 0, 0, 0, 0, 0, 0, 0, 0, 0, 0, 0, 0, 0, 0, 0,\n",
            "        0, 0, 0, 0, 0, 0, 0, 0, 0, 0, 0, 0, 0, 0, 0, 0, 0, 0, 0, 0, 0, 0, 0, 0,\n",
            "        0, 0, 0, 0, 0, 0, 0, 0, 0, 0, 0, 0, 0, 0, 0, 0, 0, 0, 0, 0, 0, 0, 0, 0,\n",
            "        0, 0, 0, 0, 0, 0, 0, 0, 0, 0, 0, 0, 0, 0, 0, 0, 0, 0, 0, 0, 0, 0, 0, 0,\n",
            "        0, 0, 0, 0, 0, 0, 0, 0, 0, 0, 0, 0, 0, 0, 0, 0, 0, 0, 0, 0, 0, 0, 0, 0,\n",
            "        0, 0, 0, 0, 0, 0, 0, 0, 0, 0, 0, 0, 0, 0, 0, 0, 0, 0, 0, 0, 0, 0, 0, 0,\n",
            "        0, 0, 0, 0, 0, 0, 0, 0, 0, 0, 0, 0, 0, 0, 0, 0, 0, 0, 0, 0, 0, 0, 0, 0,\n",
            "        0, 0, 0, 0, 0, 0, 0, 0, 0, 0, 0, 0, 0, 0, 0, 0, 0, 0, 0, 0, 0, 0, 0, 0,\n",
            "        0, 0, 0, 0, 0, 0, 0, 0, 0, 0, 0, 0, 0, 0, 0, 0, 0, 0, 0, 0, 0, 0, 0, 0,\n",
            "        0, 0, 0, 0, 0, 0, 0, 0, 0, 0, 0, 0, 0, 0, 0, 0, 0, 0, 0, 0, 0, 0, 0, 0,\n",
            "        0, 0, 0, 0, 0, 0, 0, 0, 0, 0, 0, 0, 0, 0, 0, 0, 0, 0, 0, 0, 0, 0, 0, 0,\n",
            "        0, 0, 0, 0, 0, 0, 0, 0, 0, 0, 0, 0, 0, 0, 0, 0, 0, 0, 0, 0, 0, 0, 0, 0,\n",
            "        0, 0, 0, 0, 0, 0, 0, 0, 0, 0, 0, 0, 0, 0, 0, 0, 0, 0, 0, 0, 0, 0, 0, 0,\n",
            "        0, 0, 0, 0, 0, 0, 0, 0])\n",
            "torch.Size([512])\n",
            "\n",
            "attention_mask:\n",
            "tensor([1, 1, 1, 1, 1, 1, 1, 1, 1, 1, 1, 1, 1, 1, 1, 1, 1, 1, 1, 1, 1, 1, 1, 1,\n",
            "        1, 1, 1, 1, 1, 1, 1, 1, 1, 1, 1, 1, 1, 1, 1, 1, 1, 1, 1, 1, 1, 1, 1, 1,\n",
            "        1, 1, 1, 1, 1, 1, 1, 1, 1, 1, 1, 1, 1, 1, 1, 1, 1, 1, 1, 1, 1, 1, 1, 1,\n",
            "        1, 1, 1, 1, 1, 1, 1, 1, 1, 1, 1, 1, 1, 1, 1, 1, 1, 1, 1, 1, 1, 1, 1, 1,\n",
            "        1, 1, 1, 1, 1, 1, 1, 1, 1, 1, 1, 1, 1, 1, 1, 1, 1, 1, 1, 1, 1, 1, 1, 1,\n",
            "        1, 1, 1, 1, 1, 1, 1, 1, 1, 1, 1, 1, 1, 1, 1, 1, 1, 1, 1, 1, 1, 1, 1, 1,\n",
            "        1, 1, 1, 1, 1, 1, 1, 1, 1, 1, 1, 1, 1, 1, 1, 1, 1, 1, 1, 1, 1, 1, 1, 1,\n",
            "        1, 1, 1, 1, 1, 1, 1, 1, 1, 1, 1, 1, 1, 1, 1, 1, 1, 1, 1, 1, 1, 1, 1, 1,\n",
            "        1, 1, 1, 1, 1, 1, 1, 1, 1, 1, 1, 1, 1, 1, 1, 1, 1, 1, 1, 1, 1, 1, 1, 1,\n",
            "        1, 1, 1, 1, 1, 1, 1, 1, 1, 1, 1, 1, 1, 1, 1, 1, 1, 1, 1, 1, 1, 1, 1, 1,\n",
            "        1, 1, 1, 1, 1, 1, 1, 1, 1, 1, 1, 1, 1, 1, 1, 0, 0, 0, 0, 0, 0, 0, 0, 0,\n",
            "        0, 0, 0, 0, 0, 0, 0, 0, 0, 0, 0, 0, 0, 0, 0, 0, 0, 0, 0, 0, 0, 0, 0, 0,\n",
            "        0, 0, 0, 0, 0, 0, 0, 0, 0, 0, 0, 0, 0, 0, 0, 0, 0, 0, 0, 0, 0, 0, 0, 0,\n",
            "        0, 0, 0, 0, 0, 0, 0, 0, 0, 0, 0, 0, 0, 0, 0, 0, 0, 0, 0, 0, 0, 0, 0, 0,\n",
            "        0, 0, 0, 0, 0, 0, 0, 0, 0, 0, 0, 0, 0, 0, 0, 0, 0, 0, 0, 0, 0, 0, 0, 0,\n",
            "        0, 0, 0, 0, 0, 0, 0, 0, 0, 0, 0, 0, 0, 0, 0, 0, 0, 0, 0, 0, 0, 0, 0, 0,\n",
            "        0, 0, 0, 0, 0, 0, 0, 0, 0, 0, 0, 0, 0, 0, 0, 0, 0, 0, 0, 0, 0, 0, 0, 0,\n",
            "        0, 0, 0, 0, 0, 0, 0, 0, 0, 0, 0, 0, 0, 0, 0, 0, 0, 0, 0, 0, 0, 0, 0, 0,\n",
            "        0, 0, 0, 0, 0, 0, 0, 0, 0, 0, 0, 0, 0, 0, 0, 0, 0, 0, 0, 0, 0, 0, 0, 0,\n",
            "        0, 0, 0, 0, 0, 0, 0, 0, 0, 0, 0, 0, 0, 0, 0, 0, 0, 0, 0, 0, 0, 0, 0, 0,\n",
            "        0, 0, 0, 0, 0, 0, 0, 0, 0, 0, 0, 0, 0, 0, 0, 0, 0, 0, 0, 0, 0, 0, 0, 0,\n",
            "        0, 0, 0, 0, 0, 0, 0, 0])\n",
            "torch.Size([512])\n",
            "\n"
          ]
        }
      ]
    },
    {
      "cell_type": "code",
      "execution_count": null,
      "metadata": {
        "id": "HvObxjFlbKkP"
      },
      "outputs": [],
      "source": [
        "# preprocess tokens, get BERT outputs for using in train\n",
        "\n",
        "@torch.no_grad\n",
        "def preprocess_input(bert_model, batch_size, x):\n",
        "    set_len = len(x['input_ids'])\n",
        "    x_cuda_ids = x['input_ids'].to('cuda')\n",
        "    x_cuda_mask = x['attention_mask'].to('cuda')\n",
        "    bert_model.to('cuda')\n",
        "    bert_model.eval()\n",
        "\n",
        "    x_out = torch.tensor([], device='cuda')\n",
        "    for first_idx in tqdm(range(0, set_len, batch_size)):\n",
        "        second_idx = min(first_idx + batch_size, set_len)\n",
        "        x_slice_ids = x_cuda_ids[first_idx:second_idx]\n",
        "        x_slice_mask = x_cuda_mask[first_idx:second_idx]\n",
        "\n",
        "        bert_out = bert_model(x_slice_ids, x_slice_mask)[1]\n",
        "        if x_out.size()[0] == 0:\n",
        "            x_out = bert_out\n",
        "        else:\n",
        "            x_out = torch.vstack((x_out, bert_out))\n",
        "\n",
        "    return x_out\n"
      ]
    },
    {
      "cell_type": "code",
      "execution_count": null,
      "metadata": {
        "colab": {
          "base_uri": "https://localhost:8080/"
        },
        "id": "20pSjgO-d7o1",
        "outputId": "b8bdfe56-825a-46d7-96b8-6a19a73f393a"
      },
      "outputs": [
        {
          "name": "stderr",
          "output_type": "stream",
          "text": [
            "100%|██████████| 2188/2188 [19:31<00:00,  1.87it/s]\n"
          ]
        },
        {
          "name": "stdout",
          "output_type": "stream",
          "text": [
            "\t torch.Size([35000, 768])\n"
          ]
        },
        {
          "name": "stderr",
          "output_type": "stream",
          "text": [
            "100%|██████████| 313/313 [02:47<00:00,  1.87it/s]"
          ]
        },
        {
          "name": "stdout",
          "output_type": "stream",
          "text": [
            "\t torch.Size([5000, 768])\n"
          ]
        },
        {
          "name": "stderr",
          "output_type": "stream",
          "text": [
            "\n"
          ]
        }
      ],
      "source": [
        "# preprocess training and validation set with BERT\n",
        "\n",
        "train_post = preprocess_input(custom_model.inner_model, BATCH_SIZE, train_tokens)\n",
        "print('\\t', train_post.shape)\n",
        "\n",
        "val_post = preprocess_input(custom_model.inner_model, BATCH_SIZE, val_tokens)\n",
        "print('\\t', val_post.shape)\n"
      ]
    },
    {
      "cell_type": "code",
      "execution_count": null,
      "metadata": {
        "id": "PYCJUzlVMatG"
      },
      "outputs": [],
      "source": [
        "data_file_pt = os.path.join(WORK_FOLDER, 'all_data_cuda.pt')\n"
      ]
    },
    {
      "cell_type": "code",
      "execution_count": null,
      "metadata": {
        "id": "gur6SsLct4PN"
      },
      "outputs": [],
      "source": [
        "# save preprocessed tran and val tokens, test tokens and all labels in pt-file\n",
        "\n",
        "test_ids_cuda = test_tokens['input_ids'].to('cuda')\n",
        "test_mask_cuda = test_tokens['attention_mask'].to('cuda')\n",
        "\n",
        "train_labels = torch.tensor(train_df['labels'], dtype=torch.float32).to('cuda')\n",
        "val_labels = torch.tensor(val_df['labels'], dtype=torch.float32).to('cuda')\n",
        "test_labels = torch.tensor(test_df['labels'], dtype=torch.float32).to('cuda')\n",
        "\n",
        "torch.save({'train_set_post': train_post,\n",
        "            'val_set_post': val_post,\n",
        "            'test_tokens_ids': test_ids_cuda,\n",
        "            'test_tokens_mask': test_mask_cuda,\n",
        "            'train_labels': train_labels,\n",
        "            'val_labels': val_labels,\n",
        "            'test_labels': test_labels},\n",
        "           data_file_pt)\n"
      ]
    },
    {
      "cell_type": "code",
      "execution_count": null,
      "metadata": {
        "colab": {
          "base_uri": "https://localhost:8080/"
        },
        "id": "iJe41OwsF6xq",
        "outputId": "7c2fac15-d9c0-43cf-abaf-1f7ebe8590ec"
      },
      "outputs": [
        {
          "name": "stdout",
          "output_type": "stream",
          "text": [
            "Training set shape: torch.Size([35000, 768]) \n",
            "Validation set shape: torch.Size([5000, 768]) \n",
            "\n",
            "Test input_ids shape: torch.Size([10000, 512]) \n",
            "Test annotation_mask shape: torch.Size([10000, 512]) \n",
            "\n",
            "Train labels shape: torch.Size([35000]) \n",
            "Validation labels shape: torch.Size([5000]) \n",
            "Test labels shape: torch.Size([10000])\n"
          ]
        }
      ],
      "source": [
        "# load saved data from pt-file to cuda\n",
        "\n",
        "data_cuda = torch.load(data_file_pt, map_location='cuda')\n",
        "train_post = data_cuda.get('train_set_post')\n",
        "val_post = data_cuda.get('val_set_post')\n",
        "test_ids_cuda = data_cuda.get('test_tokens_ids')\n",
        "test_mask_cuda = data_cuda.get('test_tokens_mask')\n",
        "train_labels = data_cuda.get('train_labels')\n",
        "val_labels = data_cuda.get('val_labels')\n",
        "test_labels = data_cuda.get('test_labels')\n",
        "\n",
        "print('Training set shape:', train_post.shape,\n",
        "      '\\nValidation set shape:', val_post.shape,\n",
        "      '\\n\\nTest input_ids shape:', test_ids_cuda.shape,\n",
        "      '\\nTest annotation_mask shape:', test_mask_cuda.shape,\n",
        "      '\\n\\nTrain labels shape:', train_labels.shape,\n",
        "      '\\nValidation labels shape:', val_labels.shape,\n",
        "      '\\nTest labels shape:', test_labels.shape)\n"
      ]
    },
    {
      "cell_type": "code",
      "execution_count": null,
      "metadata": {
        "id": "LLkzqO2fIcDR"
      },
      "outputs": [],
      "source": [
        "# create custom Dataset class for training\n",
        "class TrainTokensDataset(Dataset):\n",
        "    def __init__(self, x, y):\n",
        "        self.x = x\n",
        "        self.y = y\n",
        "\n",
        "    def __len__(self):\n",
        "        return len(self.y)\n",
        "\n",
        "    def __getitem__(self, idx):\n",
        "        return self.x[idx], self.y[idx]\n"
      ]
    },
    {
      "cell_type": "code",
      "execution_count": null,
      "metadata": {
        "id": "hEPha1ikG8vW"
      },
      "outputs": [],
      "source": [
        "# create custom Dataset class for testing\n",
        "class TestTokensDataset(Dataset):\n",
        "    def __init__(self, x_ids, x_mask, y):\n",
        "        self.x_ids = x_ids\n",
        "        self.x_mask = x_mask\n",
        "        self.y = y\n",
        "\n",
        "    def __len__(self):\n",
        "        return len(self.y)\n",
        "\n",
        "    def __getitem__(self, idx):\n",
        "        return self.x_ids[idx], self.x_mask[idx], self.y[idx]\n"
      ]
    },
    {
      "cell_type": "code",
      "execution_count": null,
      "metadata": {
        "id": "PkmSv0msIb_t"
      },
      "outputs": [],
      "source": [
        "# create Datasets and DataLoaders objects\n",
        "train_dataset = TrainTokensDataset(train_post, train_labels)\n",
        "train_loader = DataLoader(train_dataset, shuffle=True, batch_size=BATCH_SIZE)\n",
        "\n",
        "val_dataset = TrainTokensDataset(val_post, val_labels)\n",
        "val_loader = DataLoader(val_dataset, shuffle=True, batch_size=BATCH_SIZE)\n",
        "\n",
        "test_dataset = TestTokensDataset(test_ids_cuda, test_mask_cuda, test_labels)\n",
        "test_loader = DataLoader(test_dataset, shuffle=False, batch_size=BATCH_SIZE)\n"
      ]
    },
    {
      "cell_type": "code",
      "execution_count": null,
      "metadata": {
        "id": "KKTnuFzfN8oT"
      },
      "outputs": [],
      "source": [
        "# create optimizer and loss function\n",
        "optimizer = AdamW(custom_model.binary_classifier.parameters(), lr=0.001)\n",
        "loss_fn = nn.BCELoss()\n"
      ]
    },
    {
      "cell_type": "code",
      "execution_count": null,
      "metadata": {
        "id": "gV-ZqdOON8ll"
      },
      "outputs": [],
      "source": [
        "# general training loop\n",
        "def train_loop(model, max_epochs, train_loader, val_loader, loss_fn,\n",
        "               optimizer, best_model_path):\n",
        "    metric = BinaryAccuracy(threshold=0.5)\n",
        "    best_acc = None\n",
        "\n",
        "    history = {'loss': list(), 'val_loss': list(),\n",
        "               'accuracy': list(), 'val_accuracy': list()}\n",
        "\n",
        "    for e in range(max_epochs):\n",
        "        print(f'\\nEpoch {e}/{max_epochs}', end='\\t')\n",
        "        epoch_loss = 0\n",
        "        epoch_acc = 0\n",
        "\n",
        "        model.train()\n",
        "        for bert_out, target in tqdm(train_loader):\n",
        "            optimizer.zero_grad()\n",
        "            pred = model(bert_out).squeeze()\n",
        "\n",
        "            step_loss = loss_fn(pred, target)\n",
        "            epoch_loss += step_loss.item()\n",
        "\n",
        "            metric.update(pred, target)\n",
        "            epoch_acc += metric.compute().item()\n",
        "\n",
        "            step_loss.backward()\n",
        "\n",
        "            optimizer.step()\n",
        "\n",
        "        epoch_loss /= len(train_loader)\n",
        "        epoch_acc /= len(train_loader)\n",
        "\n",
        "        history['loss'].append(epoch_loss)\n",
        "        history['accuracy'].append(epoch_acc)\n",
        "\n",
        "        print(f'train_loss {epoch_loss}', end='\\t')\n",
        "        print(f'train_acc {epoch_acc}', end='\\t')\n",
        "\n",
        "        val_epoch_loss = 0\n",
        "        val_epoch_acc = 0\n",
        "\n",
        "        model.eval()\n",
        "        with torch.no_grad():\n",
        "            for bert_out, val_target in val_loader:\n",
        "                val_pred = model(bert_out).squeeze()\n",
        "                val_step_loss = loss_fn(val_pred, val_target)\n",
        "                val_epoch_loss += val_step_loss.item()\n",
        "\n",
        "                metric.update(val_pred, val_target)\n",
        "                val_epoch_acc += metric.compute().item()\n",
        "\n",
        "            val_epoch_loss /= len(val_loader)\n",
        "            val_epoch_acc /= len(val_loader)\n",
        "\n",
        "            history['val_loss'].append(val_epoch_loss)\n",
        "            history['val_accuracy'].append(val_epoch_acc)\n",
        "\n",
        "            if best_acc is None or val_epoch_acc < best_acc:\n",
        "                torch.save({'model': model}, best_model_path)\n",
        "\n",
        "            print(f'val_loss {val_epoch_loss}', end='\\t')\n",
        "            print(f'val_acc {val_epoch_acc}', end='')\n",
        "\n",
        "    return history\n"
      ]
    },
    {
      "cell_type": "code",
      "execution_count": null,
      "metadata": {
        "id": "tWApgewnEopQ"
      },
      "outputs": [],
      "source": [
        "# make training\n",
        "EPOCHS = 20\n",
        "best_model_path = os.path.join(WORK_FOLDER, 'best_bert.pt')\n",
        "\n",
        "history = train_loop(custom_model, EPOCHS, train_loader, val_loader, loss_fn,\n",
        "                     optimizer, best_model_path)\n"
      ]
    },
    {
      "cell_type": "code",
      "execution_count": null,
      "metadata": {
        "colab": {
          "base_uri": "https://localhost:8080/",
          "height": 410
        },
        "id": "D2yzgjG5Qkam",
        "outputId": "c4b19b11-d610-484f-d61b-f163fd70ec02"
      },
      "outputs": [
        {
          "data": {
            "image/png": "[encoded data removed]",
            "text/plain": [
              "<Figure size 1400x400 with 2 Axes>"
            ]
          },
          "metadata": {},
          "output_type": "display_data"
        }
      ],
      "source": [
        "# show training curve\n",
        "metrics = ['Accuracy', 'Loss']\n",
        "plt.figure(figsize=(14, 4))\n",
        "\n",
        "for i, metric in enumerate(metrics):\n",
        "    plt.subplot(1, 2, i + 1)\n",
        "    plt.title(f'Training {metric.lower()}')\n",
        "    plt.plot(history[f'{metric.lower()}'], color='turquoise', linewidth=3)\n",
        "    plt.plot(history[f'val_{metric.lower()}'], color='deeppink', linewidth=3)\n",
        "    plt.gca().xaxis.set_major_locator(plt.MultipleLocator(2))\n",
        "    plt.gca().yaxis.set_major_locator(plt.MultipleLocator(0.1))\n",
        "    plt.xlabel('Epochs')\n",
        "    plt.ylabel(f'{metric}')\n",
        "    plt.legend(['Training', 'Validation'])\n",
        "\n",
        "    min_val = min(history[f'{metric.lower()}'] \\\n",
        "                  + history[f'val_{metric.lower()}'])\n",
        "    max_val = max(history[f'{metric.lower()}'] \\\n",
        "                  + history[f'val_{metric.lower()}'])\n",
        "    min_val = max(min_val - 0.2, 0)\n",
        "\n",
        "    plt.ylim(min_val, max_val + 0.2)\n",
        "    plt.xlim(0, EPOCHS)\n",
        "\n",
        "plt.show()\n"
      ]
    },
    {
      "cell_type": "code",
      "execution_count": null,
      "metadata": {
        "id": "v4K5MHPeYKpM"
      },
      "outputs": [],
      "source": [
        "# load best trained model to cuda\n",
        "best_custom_model = torch.load(best_model_path, weights_only=False,\n",
        "                               map_location='cuda').get('model')\n"
      ]
    },
    {
      "cell_type": "code",
      "execution_count": null,
      "metadata": {
        "colab": {
          "base_uri": "https://localhost:8080/"
        },
        "id": "pdq38lscR8tp",
        "outputId": "c9f70125-32e8-420f-f151-dd1e68f35f99"
      },
      "outputs": [
        {
          "name": "stderr",
          "output_type": "stream",
          "text": [
            "100%|██████████| 625/625 [05:17<00:00,  1.97it/s]"
          ]
        },
        {
          "name": "stdout",
          "output_type": "stream",
          "text": [
            "test_loss 0.5008236643314361\ttest_acc 0.7685241439819336"
          ]
        },
        {
          "name": "stderr",
          "output_type": "stream",
          "text": [
            "\n"
          ]
        }
      ],
      "source": [
        "# test best model\n",
        "best_custom_model.eval()\n",
        "avg_loss = 0\n",
        "avg_acc = 0\n",
        "\n",
        "metric = BinaryAccuracy(threshold=0.5)\n",
        "with torch.no_grad():\n",
        "    for ids, mask, target in tqdm(test_loader):\n",
        "        pred = best_custom_model.inference(ids, mask).squeeze()\n",
        "        step_loss = loss_fn(pred, target)\n",
        "        avg_loss += step_loss.item()\n",
        "\n",
        "        metric.update(pred, target)\n",
        "        avg_acc += metric.compute().item()\n",
        "\n",
        "    avg_loss /= len(test_loader)\n",
        "    avg_acc /= len(test_loader)\n",
        "\n",
        "    print(f'test_loss {avg_loss}', end='\\t')\n",
        "    print(f'test_acc {avg_acc}', end='')\n"
      ]
    },
    {
      "cell_type": "markdown",
      "source": [
        "В процессе обучения точность на тестовой выборке составила 0.7685."
      ],
      "metadata": {
        "id": "0JBwk-wVgqtR"
      }
    },
    {
      "cell_type": "code",
      "execution_count": null,
      "metadata": {
        "id": "qBiU5_-h5_CN"
      },
      "outputs": [],
      "source": []
    }
  ],
  "metadata": {
    "colab": {
      "provenance": []
    },
    "kernelspec": {
      "display_name": "Python 3",
      "name": "python3"
    },
    "language_info": {
      "name": "python"
    }
  },
  "nbformat": 4,
  "nbformat_minor": 0
}