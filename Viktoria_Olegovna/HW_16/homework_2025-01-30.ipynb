{
 "cells": [
  {
   "cell_type": "markdown",
   "metadata": {},
   "source": [
    "Решить задачу регрессии.\n",
    "Получить максимальную метрику качества (R2, RMSE).\n",
    "\n",
    "Введение<br>\n",
    "Целью данной задачи является прогнозирование суммы пятничных распродаж в магазинах сети Walmart с помощью построения регрессионных моделей и их анализа.\n",
    "Набор данных состоит из исторических данных, которые охватывают продажи с 2010-02-05 по 2012-11-01, предствленных в файле Walmart.csv\n",
    "- Использовать пайплайны.\n",
    "- Выполнить поиск лучших параметров / *hyperopt / **optuna\n",
    "- Кроссвалидация / различные типы проверок.\n",
    "- Сохранить и загрузить модель. \n",
    "- H20 (если получиться)\n",
    "- +phik"
   ]
  },
  {
   "cell_type": "code",
   "execution_count": 1,
   "metadata": {},
   "outputs": [],
   "source": [
    "from sklearn.model_selection import train_test_split, cross_validate\n",
    "from sklearn.metrics import r2_score, root_mean_squared_error\n",
    "from sklearn.preprocessing import MinMaxScaler, LabelEncoder\n",
    "from sklearn.base import BaseEstimator, TransformerMixin\n",
    "from sklearn.tree import DecisionTreeRegressor\n",
    "from sklearn.pipeline import Pipeline\n",
    "\n",
    "from h2o.estimators.gbm import H2OGradientBoostingEstimator\n",
    "from h2o.grid.grid_search import H2OGridSearch\n",
    "\n",
    "from phik.report import plot_correlation_matrix\n",
    "\n",
    "import matplotlib.pyplot as plt\n",
    "import seaborn as sb\n",
    "import pandas as pd\n",
    "import numpy as np\n",
    "import optuna\n",
    "import pickle\n",
    "import h2o\n"
   ]
  },
  {
   "cell_type": "code",
   "execution_count": 2,
   "metadata": {},
   "outputs": [
    {
     "data": {
      "text/html": [
       "<div>\n",
       "<style scoped>\n",
       "    .dataframe tbody tr th:only-of-type {\n",
       "        vertical-align: middle;\n",
       "    }\n",
       "\n",
       "    .dataframe tbody tr th {\n",
       "        vertical-align: top;\n",
       "    }\n",
       "\n",
       "    .dataframe thead th {\n",
       "        text-align: right;\n",
       "    }\n",
       "</style>\n",
       "<table border=\"1\" class=\"dataframe\">\n",
       "  <thead>\n",
       "    <tr style=\"text-align: right;\">\n",
       "      <th></th>\n",
       "      <th>Store</th>\n",
       "      <th>Date</th>\n",
       "      <th>Weekly_Sales</th>\n",
       "      <th>Holiday_Flag</th>\n",
       "      <th>Temperature</th>\n",
       "      <th>Fuel_Price</th>\n",
       "      <th>CPI</th>\n",
       "      <th>Unemployment</th>\n",
       "    </tr>\n",
       "  </thead>\n",
       "  <tbody>\n",
       "    <tr>\n",
       "      <th>0</th>\n",
       "      <td>1</td>\n",
       "      <td>05-02-2010</td>\n",
       "      <td>1643690.90</td>\n",
       "      <td>0</td>\n",
       "      <td>42.31</td>\n",
       "      <td>2.572</td>\n",
       "      <td>211.096358</td>\n",
       "      <td>8.106</td>\n",
       "    </tr>\n",
       "    <tr>\n",
       "      <th>1</th>\n",
       "      <td>1</td>\n",
       "      <td>12-02-2010</td>\n",
       "      <td>1641957.44</td>\n",
       "      <td>1</td>\n",
       "      <td>38.51</td>\n",
       "      <td>2.548</td>\n",
       "      <td>211.242170</td>\n",
       "      <td>8.106</td>\n",
       "    </tr>\n",
       "    <tr>\n",
       "      <th>2</th>\n",
       "      <td>1</td>\n",
       "      <td>19-02-2010</td>\n",
       "      <td>1611968.17</td>\n",
       "      <td>0</td>\n",
       "      <td>39.93</td>\n",
       "      <td>2.514</td>\n",
       "      <td>211.289143</td>\n",
       "      <td>8.106</td>\n",
       "    </tr>\n",
       "    <tr>\n",
       "      <th>3</th>\n",
       "      <td>1</td>\n",
       "      <td>26-02-2010</td>\n",
       "      <td>1409727.59</td>\n",
       "      <td>0</td>\n",
       "      <td>46.63</td>\n",
       "      <td>2.561</td>\n",
       "      <td>211.319643</td>\n",
       "      <td>8.106</td>\n",
       "    </tr>\n",
       "    <tr>\n",
       "      <th>4</th>\n",
       "      <td>1</td>\n",
       "      <td>05-03-2010</td>\n",
       "      <td>1554806.68</td>\n",
       "      <td>0</td>\n",
       "      <td>46.50</td>\n",
       "      <td>2.625</td>\n",
       "      <td>211.350143</td>\n",
       "      <td>8.106</td>\n",
       "    </tr>\n",
       "    <tr>\n",
       "      <th>...</th>\n",
       "      <td>...</td>\n",
       "      <td>...</td>\n",
       "      <td>...</td>\n",
       "      <td>...</td>\n",
       "      <td>...</td>\n",
       "      <td>...</td>\n",
       "      <td>...</td>\n",
       "      <td>...</td>\n",
       "    </tr>\n",
       "    <tr>\n",
       "      <th>6430</th>\n",
       "      <td>45</td>\n",
       "      <td>28-09-2012</td>\n",
       "      <td>713173.95</td>\n",
       "      <td>0</td>\n",
       "      <td>64.88</td>\n",
       "      <td>3.997</td>\n",
       "      <td>192.013558</td>\n",
       "      <td>8.684</td>\n",
       "    </tr>\n",
       "    <tr>\n",
       "      <th>6431</th>\n",
       "      <td>45</td>\n",
       "      <td>05-10-2012</td>\n",
       "      <td>733455.07</td>\n",
       "      <td>0</td>\n",
       "      <td>64.89</td>\n",
       "      <td>3.985</td>\n",
       "      <td>192.170412</td>\n",
       "      <td>8.667</td>\n",
       "    </tr>\n",
       "    <tr>\n",
       "      <th>6432</th>\n",
       "      <td>45</td>\n",
       "      <td>12-10-2012</td>\n",
       "      <td>734464.36</td>\n",
       "      <td>0</td>\n",
       "      <td>54.47</td>\n",
       "      <td>4.000</td>\n",
       "      <td>192.327265</td>\n",
       "      <td>8.667</td>\n",
       "    </tr>\n",
       "    <tr>\n",
       "      <th>6433</th>\n",
       "      <td>45</td>\n",
       "      <td>19-10-2012</td>\n",
       "      <td>718125.53</td>\n",
       "      <td>0</td>\n",
       "      <td>56.47</td>\n",
       "      <td>3.969</td>\n",
       "      <td>192.330854</td>\n",
       "      <td>8.667</td>\n",
       "    </tr>\n",
       "    <tr>\n",
       "      <th>6434</th>\n",
       "      <td>45</td>\n",
       "      <td>26-10-2012</td>\n",
       "      <td>760281.43</td>\n",
       "      <td>0</td>\n",
       "      <td>58.85</td>\n",
       "      <td>3.882</td>\n",
       "      <td>192.308899</td>\n",
       "      <td>8.667</td>\n",
       "    </tr>\n",
       "  </tbody>\n",
       "</table>\n",
       "<p>6435 rows × 8 columns</p>\n",
       "</div>"
      ],
      "text/plain": [
       "      Store        Date  Weekly_Sales  Holiday_Flag  Temperature  Fuel_Price  \\\n",
       "0         1  05-02-2010    1643690.90             0        42.31       2.572   \n",
       "1         1  12-02-2010    1641957.44             1        38.51       2.548   \n",
       "2         1  19-02-2010    1611968.17             0        39.93       2.514   \n",
       "3         1  26-02-2010    1409727.59             0        46.63       2.561   \n",
       "4         1  05-03-2010    1554806.68             0        46.50       2.625   \n",
       "...     ...         ...           ...           ...          ...         ...   \n",
       "6430     45  28-09-2012     713173.95             0        64.88       3.997   \n",
       "6431     45  05-10-2012     733455.07             0        64.89       3.985   \n",
       "6432     45  12-10-2012     734464.36             0        54.47       4.000   \n",
       "6433     45  19-10-2012     718125.53             0        56.47       3.969   \n",
       "6434     45  26-10-2012     760281.43             0        58.85       3.882   \n",
       "\n",
       "             CPI  Unemployment  \n",
       "0     211.096358         8.106  \n",
       "1     211.242170         8.106  \n",
       "2     211.289143         8.106  \n",
       "3     211.319643         8.106  \n",
       "4     211.350143         8.106  \n",
       "...          ...           ...  \n",
       "6430  192.013558         8.684  \n",
       "6431  192.170412         8.667  \n",
       "6432  192.327265         8.667  \n",
       "6433  192.330854         8.667  \n",
       "6434  192.308899         8.667  \n",
       "\n",
       "[6435 rows x 8 columns]"
      ]
     },
     "execution_count": 2,
     "metadata": {},
     "output_type": "execute_result"
    }
   ],
   "source": [
    "# read DataFrame\n",
    "excel_path = 'Walmart.csv'\n",
    "sales_df = pd.read_csv(excel_path)\n",
    "\n",
    "sales_df\n"
   ]
  },
  {
   "cell_type": "code",
   "execution_count": 4,
   "metadata": {},
   "outputs": [
    {
     "data": {
      "text/html": [
       "<div>\n",
       "<style scoped>\n",
       "    .dataframe tbody tr th:only-of-type {\n",
       "        vertical-align: middle;\n",
       "    }\n",
       "\n",
       "    .dataframe tbody tr th {\n",
       "        vertical-align: top;\n",
       "    }\n",
       "\n",
       "    .dataframe thead th {\n",
       "        text-align: right;\n",
       "    }\n",
       "</style>\n",
       "<table border=\"1\" class=\"dataframe\">\n",
       "  <thead>\n",
       "    <tr style=\"text-align: right;\">\n",
       "      <th></th>\n",
       "      <th>Store</th>\n",
       "      <th>Weekly_Sales</th>\n",
       "      <th>Holiday_Flag</th>\n",
       "      <th>Temperature</th>\n",
       "      <th>Fuel_Price</th>\n",
       "      <th>CPI</th>\n",
       "      <th>Unemployment</th>\n",
       "    </tr>\n",
       "  </thead>\n",
       "  <tbody>\n",
       "    <tr>\n",
       "      <th>count</th>\n",
       "      <td>6435.000000</td>\n",
       "      <td>6.435000e+03</td>\n",
       "      <td>6435.000000</td>\n",
       "      <td>6435.000000</td>\n",
       "      <td>6435.000000</td>\n",
       "      <td>6435.000000</td>\n",
       "      <td>6435.000000</td>\n",
       "    </tr>\n",
       "    <tr>\n",
       "      <th>mean</th>\n",
       "      <td>23.000000</td>\n",
       "      <td>1.046965e+06</td>\n",
       "      <td>0.069930</td>\n",
       "      <td>60.663782</td>\n",
       "      <td>3.358607</td>\n",
       "      <td>171.578394</td>\n",
       "      <td>7.999151</td>\n",
       "    </tr>\n",
       "    <tr>\n",
       "      <th>std</th>\n",
       "      <td>12.988182</td>\n",
       "      <td>5.643666e+05</td>\n",
       "      <td>0.255049</td>\n",
       "      <td>18.444933</td>\n",
       "      <td>0.459020</td>\n",
       "      <td>39.356712</td>\n",
       "      <td>1.875885</td>\n",
       "    </tr>\n",
       "    <tr>\n",
       "      <th>min</th>\n",
       "      <td>1.000000</td>\n",
       "      <td>2.099862e+05</td>\n",
       "      <td>0.000000</td>\n",
       "      <td>-2.060000</td>\n",
       "      <td>2.472000</td>\n",
       "      <td>126.064000</td>\n",
       "      <td>3.879000</td>\n",
       "    </tr>\n",
       "    <tr>\n",
       "      <th>25%</th>\n",
       "      <td>12.000000</td>\n",
       "      <td>5.533501e+05</td>\n",
       "      <td>0.000000</td>\n",
       "      <td>47.460000</td>\n",
       "      <td>2.933000</td>\n",
       "      <td>131.735000</td>\n",
       "      <td>6.891000</td>\n",
       "    </tr>\n",
       "    <tr>\n",
       "      <th>50%</th>\n",
       "      <td>23.000000</td>\n",
       "      <td>9.607460e+05</td>\n",
       "      <td>0.000000</td>\n",
       "      <td>62.670000</td>\n",
       "      <td>3.445000</td>\n",
       "      <td>182.616521</td>\n",
       "      <td>7.874000</td>\n",
       "    </tr>\n",
       "    <tr>\n",
       "      <th>75%</th>\n",
       "      <td>34.000000</td>\n",
       "      <td>1.420159e+06</td>\n",
       "      <td>0.000000</td>\n",
       "      <td>74.940000</td>\n",
       "      <td>3.735000</td>\n",
       "      <td>212.743293</td>\n",
       "      <td>8.622000</td>\n",
       "    </tr>\n",
       "    <tr>\n",
       "      <th>max</th>\n",
       "      <td>45.000000</td>\n",
       "      <td>3.818686e+06</td>\n",
       "      <td>1.000000</td>\n",
       "      <td>100.140000</td>\n",
       "      <td>4.468000</td>\n",
       "      <td>227.232807</td>\n",
       "      <td>14.313000</td>\n",
       "    </tr>\n",
       "  </tbody>\n",
       "</table>\n",
       "</div>"
      ],
      "text/plain": [
       "             Store  Weekly_Sales  Holiday_Flag  Temperature   Fuel_Price  \\\n",
       "count  6435.000000  6.435000e+03   6435.000000  6435.000000  6435.000000   \n",
       "mean     23.000000  1.046965e+06      0.069930    60.663782     3.358607   \n",
       "std      12.988182  5.643666e+05      0.255049    18.444933     0.459020   \n",
       "min       1.000000  2.099862e+05      0.000000    -2.060000     2.472000   \n",
       "25%      12.000000  5.533501e+05      0.000000    47.460000     2.933000   \n",
       "50%      23.000000  9.607460e+05      0.000000    62.670000     3.445000   \n",
       "75%      34.000000  1.420159e+06      0.000000    74.940000     3.735000   \n",
       "max      45.000000  3.818686e+06      1.000000   100.140000     4.468000   \n",
       "\n",
       "               CPI  Unemployment  \n",
       "count  6435.000000   6435.000000  \n",
       "mean    171.578394      7.999151  \n",
       "std      39.356712      1.875885  \n",
       "min     126.064000      3.879000  \n",
       "25%     131.735000      6.891000  \n",
       "50%     182.616521      7.874000  \n",
       "75%     212.743293      8.622000  \n",
       "max     227.232807     14.313000  "
      ]
     },
     "execution_count": 4,
     "metadata": {},
     "output_type": "execute_result"
    }
   ],
   "source": [
    "sales_df.describe()\n"
   ]
  },
  {
   "cell_type": "code",
   "execution_count": 4,
   "metadata": {},
   "outputs": [
    {
     "name": "stdout",
     "output_type": "stream",
     "text": [
      "<class 'pandas.core.frame.DataFrame'>\n",
      "RangeIndex: 6435 entries, 0 to 6434\n",
      "Data columns (total 8 columns):\n",
      " #   Column        Non-Null Count  Dtype  \n",
      "---  ------        --------------  -----  \n",
      " 0   Store         6435 non-null   int64  \n",
      " 1   Date          6435 non-null   object \n",
      " 2   Weekly_Sales  6435 non-null   float64\n",
      " 3   Holiday_Flag  6435 non-null   int64  \n",
      " 4   Temperature   6435 non-null   float64\n",
      " 5   Fuel_Price    6435 non-null   float64\n",
      " 6   CPI           6435 non-null   float64\n",
      " 7   Unemployment  6435 non-null   float64\n",
      "dtypes: float64(5), int64(2), object(1)\n",
      "memory usage: 402.3+ KB\n"
     ]
    }
   ],
   "source": [
    "sales_df.info()\n"
   ]
  },
  {
   "cell_type": "code",
   "execution_count": 5,
   "metadata": {},
   "outputs": [
    {
     "data": {
      "text/plain": [
       "Store           False\n",
       "Date            False\n",
       "Weekly_Sales    False\n",
       "Holiday_Flag    False\n",
       "Temperature     False\n",
       "Fuel_Price      False\n",
       "CPI             False\n",
       "Unemployment    False\n",
       "dtype: bool"
      ]
     },
     "execution_count": 5,
     "metadata": {},
     "output_type": "execute_result"
    }
   ],
   "source": [
    "# find NaN values in table\n",
    "sales_df.isna().any()\n"
   ]
  },
  {
   "cell_type": "code",
   "execution_count": 3,
   "metadata": {},
   "outputs": [],
   "source": [
    "# set target column name\n",
    "TARGET = 'Weekly_Sales'\n"
   ]
  },
  {
   "cell_type": "code",
   "execution_count": 4,
   "metadata": {},
   "outputs": [],
   "source": [
    "# split dataset into train and test \n",
    "train_df, test_df = train_test_split(sales_df, test_size=0.2)\n",
    "\n",
    "TRAIN_IDXS = train_df.index\n",
    "TEST_IDXS = test_df.index\n"
   ]
  },
  {
   "cell_type": "markdown",
   "metadata": {},
   "source": [
    "Как видно из выводов выше, столбец с датой является строковым и требует предобработки. Разделим столбец с датой на столбцы с днем, годом и месяцем, добавим в таблицу. <br>\n",
    "Пропуски в столбцах таблицы отсутствуют, заполнять ничего не нужно.<br>\n",
    "Проведем нормализацию значений в столбцах при помощи MinMaxScaler."
   ]
  },
  {
   "cell_type": "code",
   "execution_count": 5,
   "metadata": {},
   "outputs": [],
   "source": [
    "# create custom class for split column Date in DataFrame to columns Year, Month, Day\n",
    "class CustomProcessor(BaseEstimator, TransformerMixin): \n",
    "   def __init__(self): \n",
    "      pass\n",
    "   \n",
    "   def fit(self, X, y=None): \n",
    "      return self\n",
    "\n",
    "   # split Date to Year, Month, Day columns\n",
    "   def transform(self, X: pd.DataFrame, y=None): \n",
    "      res_x = X.copy()\n",
    "\n",
    "      if 'Date' in res_x.columns:\n",
    "         res_x['Date'] = pd.to_datetime(res_x['Date'], format='%d-%m-%Y')\n",
    "\n",
    "         res_x['Day'] = res_x['Date'].dt.day\n",
    "         res_x['Month'] = res_x['Date'].dt.month\n",
    "         res_x['Year'] = res_x['Date'].dt.year\n",
    "\n",
    "         res_x.drop(columns=['Date'], inplace=True)\n",
    "      return res_x\n"
   ]
  },
  {
   "cell_type": "markdown",
   "metadata": {},
   "source": [
    "Находим лучшие гиперпораметры для DecisionTreeRegressor при помощи модуля optuna, рассчитываем метрики r2 и RMSE для модели с лучшими параметрами, анализируем важность признаков."
   ]
  },
  {
   "cell_type": "code",
   "execution_count": 6,
   "metadata": {},
   "outputs": [],
   "source": [
    "optuna.logging.set_verbosity(optuna.logging.ERROR)\n"
   ]
  },
  {
   "cell_type": "code",
   "execution_count": 7,
   "metadata": {},
   "outputs": [],
   "source": [
    "# create custom function to choose best params for DecisionTreeRegressor\n",
    "def get_best_model(df: pd.DataFrame):\n",
    "    # get features columns\n",
    "    features = df.columns.tolist()\n",
    "\n",
    "    if TARGET in features:\n",
    "        features.remove(TARGET)\n",
    "    print('Features for training:', features)\n",
    "\n",
    "    # get train and test dataset parts \n",
    "    train_df = df.iloc[TRAIN_IDXS]\n",
    "    test_df = df.iloc[TEST_IDXS]\n",
    "\n",
    "    def objective(trial):\n",
    "        criterion_name = trial.suggest_categorical('criterion', ['squared_error', 'friedman_mse', 'absolute_error', 'poisson'])\n",
    "        splitter_name = trial.suggest_categorical('splitter', ['best', 'random'])\n",
    "        min_samples_split_num = trial.suggest_int('min_samples_split', 2, 10)\n",
    "        min_samples_leaf_num = trial.suggest_int('min_samples_leaf', 1, 10)\n",
    "        max_features_name = trial.suggest_categorical('max_features', ['sqrt', 'log2', None])\n",
    "\n",
    "        regression_pipe = Pipeline(steps=[('processor', CustomProcessor()),\n",
    "                                          ('transformer', MinMaxScaler()), \n",
    "                                          ('regressor', DecisionTreeRegressor(criterion=criterion_name, \n",
    "                                                                              splitter=splitter_name,\n",
    "                                                                              min_samples_split=min_samples_split_num,\n",
    "                                                                              min_samples_leaf=min_samples_leaf_num,\n",
    "                                                                              max_features=max_features_name,\n",
    "                                                                              random_state=0))])\n",
    "\n",
    "        scores = cross_validate(regression_pipe, train_df[features], train_df[TARGET], \n",
    "                                scoring=('r2', 'neg_root_mean_squared_error'), return_train_score=True, \n",
    "                                n_jobs=-1)\n",
    "\n",
    "        return np.mean(scores['test_r2'])\n",
    "\n",
    "    # create optuna object to maximize r2 score of Pipeline regressor, find the most optimal params\n",
    "    study = optuna.create_study(direction='maximize')\n",
    "    study.optimize(objective, n_trials=1000, n_jobs=-1)\n",
    "\n",
    "    # get DecisionTreeRegressor best params\n",
    "    print(F'\\nBest trial #{study.best_trial.number}, r2 value - {study.best_value}')\n",
    "    print('Best params:')\n",
    "    print(study.best_params)\n",
    "\n",
    "    # create Pipeline with best parameters and fit\n",
    "    pipe_model = Pipeline(steps=[('processor', CustomProcessor()),\n",
    "                                 ('transformer', MinMaxScaler()), \n",
    "                                 ('regressor', DecisionTreeRegressor(**study.best_params, random_state=0))])\n",
    "\n",
    "    pipe_model = pipe_model.fit(train_df[features], train_df[TARGET])\n",
    "    scores = cross_validate(pipe_model, train_df[features], train_df[TARGET], \n",
    "                            scoring=('r2', 'neg_root_mean_squared_error'), return_train_score=True, \n",
    "                            n_jobs=-1)\n",
    "\n",
    "    print('\\nAverage validation r2-score:', np.mean(scores['test_r2']))\n",
    "    print('Average validation Root Mean Squared Error:', np.mean(scores['test_neg_root_mean_squared_error']))\n",
    "\n",
    "    y_pred = pipe_model.predict(test_df[features])\n",
    "    R2 = r2_score(test_df[TARGET], y_pred)\n",
    "    RMSE = root_mean_squared_error(test_df[TARGET], y_pred)\n",
    "\n",
    "    print('\\nTest r2-score:', R2)\n",
    "    print('Test Root Mean Squared Error:', RMSE)\n",
    "\n",
    "    return pipe_model\n"
   ]
  },
  {
   "cell_type": "code",
   "execution_count": 8,
   "metadata": {},
   "outputs": [
    {
     "name": "stdout",
     "output_type": "stream",
     "text": [
      "Features for training: ['Store', 'Date', 'Holiday_Flag', 'Temperature', 'Fuel_Price', 'CPI', 'Unemployment']\n"
     ]
    },
    {
     "name": "stdout",
     "output_type": "stream",
     "text": [
      "\n",
      "Best trial #340, r2 value - 0.9448992097938692\n",
      "Best params:\n",
      "{'criterion': 'poisson', 'splitter': 'best', 'min_samples_split': 10, 'min_samples_leaf': 3, 'max_features': None}\n",
      "\n",
      "Average validation r2-score: 0.9448992097938692\n",
      "Average validation Root Mean Squared Error: -132437.86368560218\n",
      "\n",
      "Test r2-score: 0.9434364078683538\n",
      "Test Root Mean Squared Error: 133371.68000306463\n"
     ]
    }
   ],
   "source": [
    "pipe_model = get_best_model(sales_df)\n"
   ]
  },
  {
   "cell_type": "markdown",
   "metadata": {},
   "source": [
    "Выше получена точность лучшей модели на обучающей и тестовой выборках. Проаналиизируем корреляцию признаков.  "
   ]
  },
  {
   "cell_type": "code",
   "execution_count": 9,
   "metadata": {},
   "outputs": [
    {
     "data": {
      "image/png": "[encoded data removed]",
      "text/plain": [
       "<Figure size 1000x1000 with 2 Axes>"
      ]
     },
     "metadata": {},
     "output_type": "display_data"
    }
   ],
   "source": [
    "# show correlation heatmap\n",
    "sales_features = sales_df.columns.tolist()\n",
    "if TARGET in sales_features:\n",
    "    sales_features.remove(TARGET)\n",
    "\n",
    "transformed_df = pipe_model['processor'].fit_transform(sales_df[sales_features])\n",
    "correlation_df = transformed_df.corr()\n",
    "transformed_df = pd.concat([transformed_df, sales_df[TARGET]], axis=1)\n",
    "\n",
    "plt.figure(figsize=(10, 10))\n",
    "sb.heatmap(correlation_df, xticklabels=correlation_df.columns, yticklabels=correlation_df.columns, annot=True, \n",
    "           fmt='.2f', cmap=\"Purples\")\n",
    "\n",
    "plt.title('Sales features correlation', fontsize=20)\n",
    "plt.xticks(fontsize=10)\n",
    "plt.yticks(fontsize=10)\n",
    "plt.show()\n"
   ]
  },
  {
   "cell_type": "markdown",
   "metadata": {},
   "source": [
    "Из карты корреляции видно, что стоимость топлива Fuel_Price прямопропорционально связана с годом Year, поэтому объединим их в один столбец перемножив данные."
   ]
  },
  {
   "cell_type": "code",
   "execution_count": 10,
   "metadata": {},
   "outputs": [
    {
     "data": {
      "text/html": [
       "<div>\n",
       "<style scoped>\n",
       "    .dataframe tbody tr th:only-of-type {\n",
       "        vertical-align: middle;\n",
       "    }\n",
       "\n",
       "    .dataframe tbody tr th {\n",
       "        vertical-align: top;\n",
       "    }\n",
       "\n",
       "    .dataframe thead th {\n",
       "        text-align: right;\n",
       "    }\n",
       "</style>\n",
       "<table border=\"1\" class=\"dataframe\">\n",
       "  <thead>\n",
       "    <tr style=\"text-align: right;\">\n",
       "      <th></th>\n",
       "      <th>Store</th>\n",
       "      <th>Holiday_Flag</th>\n",
       "      <th>Temperature</th>\n",
       "      <th>CPI</th>\n",
       "      <th>Unemployment</th>\n",
       "      <th>Day</th>\n",
       "      <th>Month</th>\n",
       "      <th>Weekly_Sales</th>\n",
       "      <th>Fuel_Price_per_Year</th>\n",
       "    </tr>\n",
       "  </thead>\n",
       "  <tbody>\n",
       "    <tr>\n",
       "      <th>0</th>\n",
       "      <td>1</td>\n",
       "      <td>0</td>\n",
       "      <td>42.31</td>\n",
       "      <td>211.096358</td>\n",
       "      <td>8.106</td>\n",
       "      <td>5</td>\n",
       "      <td>2</td>\n",
       "      <td>1643690.90</td>\n",
       "      <td>5169.720</td>\n",
       "    </tr>\n",
       "    <tr>\n",
       "      <th>1</th>\n",
       "      <td>1</td>\n",
       "      <td>1</td>\n",
       "      <td>38.51</td>\n",
       "      <td>211.242170</td>\n",
       "      <td>8.106</td>\n",
       "      <td>12</td>\n",
       "      <td>2</td>\n",
       "      <td>1641957.44</td>\n",
       "      <td>5121.480</td>\n",
       "    </tr>\n",
       "    <tr>\n",
       "      <th>2</th>\n",
       "      <td>1</td>\n",
       "      <td>0</td>\n",
       "      <td>39.93</td>\n",
       "      <td>211.289143</td>\n",
       "      <td>8.106</td>\n",
       "      <td>19</td>\n",
       "      <td>2</td>\n",
       "      <td>1611968.17</td>\n",
       "      <td>5053.140</td>\n",
       "    </tr>\n",
       "    <tr>\n",
       "      <th>3</th>\n",
       "      <td>1</td>\n",
       "      <td>0</td>\n",
       "      <td>46.63</td>\n",
       "      <td>211.319643</td>\n",
       "      <td>8.106</td>\n",
       "      <td>26</td>\n",
       "      <td>2</td>\n",
       "      <td>1409727.59</td>\n",
       "      <td>5147.610</td>\n",
       "    </tr>\n",
       "    <tr>\n",
       "      <th>4</th>\n",
       "      <td>1</td>\n",
       "      <td>0</td>\n",
       "      <td>46.50</td>\n",
       "      <td>211.350143</td>\n",
       "      <td>8.106</td>\n",
       "      <td>5</td>\n",
       "      <td>3</td>\n",
       "      <td>1554806.68</td>\n",
       "      <td>5276.250</td>\n",
       "    </tr>\n",
       "    <tr>\n",
       "      <th>...</th>\n",
       "      <td>...</td>\n",
       "      <td>...</td>\n",
       "      <td>...</td>\n",
       "      <td>...</td>\n",
       "      <td>...</td>\n",
       "      <td>...</td>\n",
       "      <td>...</td>\n",
       "      <td>...</td>\n",
       "      <td>...</td>\n",
       "    </tr>\n",
       "    <tr>\n",
       "      <th>6430</th>\n",
       "      <td>45</td>\n",
       "      <td>0</td>\n",
       "      <td>64.88</td>\n",
       "      <td>192.013558</td>\n",
       "      <td>8.684</td>\n",
       "      <td>28</td>\n",
       "      <td>9</td>\n",
       "      <td>713173.95</td>\n",
       "      <td>8041.964</td>\n",
       "    </tr>\n",
       "    <tr>\n",
       "      <th>6431</th>\n",
       "      <td>45</td>\n",
       "      <td>0</td>\n",
       "      <td>64.89</td>\n",
       "      <td>192.170412</td>\n",
       "      <td>8.667</td>\n",
       "      <td>5</td>\n",
       "      <td>10</td>\n",
       "      <td>733455.07</td>\n",
       "      <td>8017.820</td>\n",
       "    </tr>\n",
       "    <tr>\n",
       "      <th>6432</th>\n",
       "      <td>45</td>\n",
       "      <td>0</td>\n",
       "      <td>54.47</td>\n",
       "      <td>192.327265</td>\n",
       "      <td>8.667</td>\n",
       "      <td>12</td>\n",
       "      <td>10</td>\n",
       "      <td>734464.36</td>\n",
       "      <td>8048.000</td>\n",
       "    </tr>\n",
       "    <tr>\n",
       "      <th>6433</th>\n",
       "      <td>45</td>\n",
       "      <td>0</td>\n",
       "      <td>56.47</td>\n",
       "      <td>192.330854</td>\n",
       "      <td>8.667</td>\n",
       "      <td>19</td>\n",
       "      <td>10</td>\n",
       "      <td>718125.53</td>\n",
       "      <td>7985.628</td>\n",
       "    </tr>\n",
       "    <tr>\n",
       "      <th>6434</th>\n",
       "      <td>45</td>\n",
       "      <td>0</td>\n",
       "      <td>58.85</td>\n",
       "      <td>192.308899</td>\n",
       "      <td>8.667</td>\n",
       "      <td>26</td>\n",
       "      <td>10</td>\n",
       "      <td>760281.43</td>\n",
       "      <td>7810.584</td>\n",
       "    </tr>\n",
       "  </tbody>\n",
       "</table>\n",
       "<p>6435 rows × 9 columns</p>\n",
       "</div>"
      ],
      "text/plain": [
       "      Store  Holiday_Flag  Temperature         CPI  Unemployment  Day  Month  \\\n",
       "0         1             0        42.31  211.096358         8.106    5      2   \n",
       "1         1             1        38.51  211.242170         8.106   12      2   \n",
       "2         1             0        39.93  211.289143         8.106   19      2   \n",
       "3         1             0        46.63  211.319643         8.106   26      2   \n",
       "4         1             0        46.50  211.350143         8.106    5      3   \n",
       "...     ...           ...          ...         ...           ...  ...    ...   \n",
       "6430     45             0        64.88  192.013558         8.684   28      9   \n",
       "6431     45             0        64.89  192.170412         8.667    5     10   \n",
       "6432     45             0        54.47  192.327265         8.667   12     10   \n",
       "6433     45             0        56.47  192.330854         8.667   19     10   \n",
       "6434     45             0        58.85  192.308899         8.667   26     10   \n",
       "\n",
       "      Weekly_Sales  Fuel_Price_per_Year  \n",
       "0       1643690.90             5169.720  \n",
       "1       1641957.44             5121.480  \n",
       "2       1611968.17             5053.140  \n",
       "3       1409727.59             5147.610  \n",
       "4       1554806.68             5276.250  \n",
       "...            ...                  ...  \n",
       "6430     713173.95             8041.964  \n",
       "6431     733455.07             8017.820  \n",
       "6432     734464.36             8048.000  \n",
       "6433     718125.53             7985.628  \n",
       "6434     760281.43             7810.584  \n",
       "\n",
       "[6435 rows x 9 columns]"
      ]
     },
     "execution_count": 10,
     "metadata": {},
     "output_type": "execute_result"
    }
   ],
   "source": [
    "transformed_df['Fuel_Price_per_Year'] = transformed_df['Fuel_Price'] * transformed_df['Year']\n",
    "transformed_df.drop(columns=['Fuel_Price', 'Year'], inplace=True)\n",
    "transformed_df\n"
   ]
  },
  {
   "cell_type": "code",
   "execution_count": 11,
   "metadata": {},
   "outputs": [
    {
     "name": "stdout",
     "output_type": "stream",
     "text": [
      "Features for training: ['Store', 'Holiday_Flag', 'Temperature', 'CPI', 'Unemployment', 'Day', 'Month', 'Fuel_Price_per_Year']\n",
      "\n",
      "Best trial #157, r2 value - 0.940914090781636\n",
      "Best params:\n",
      "{'criterion': 'squared_error', 'splitter': 'best', 'min_samples_split': 10, 'min_samples_leaf': 2, 'max_features': None}\n",
      "\n",
      "Average validation r2-score: 0.940914090781636\n",
      "Average validation Root Mean Squared Error: -137066.3567062533\n",
      "\n",
      "Test r2-score: 0.943956994929463\n",
      "Test Root Mean Squared Error: 132756.5134062852\n"
     ]
    }
   ],
   "source": [
    "pipe_model_transformed = get_best_model(transformed_df)\n"
   ]
  },
  {
   "cell_type": "markdown",
   "metadata": {},
   "source": [
    "После объединения столбцов точность на тестовой выборке не сильно повысилась. <br>\n",
    "Проанализируем важность признаков. Выберем наиболее значимые признаки и построим модель на них."
   ]
  },
  {
   "cell_type": "code",
   "execution_count": 12,
   "metadata": {},
   "outputs": [
    {
     "data": {
      "image/png": "[encoded data removed]",
      "text/plain": [
       "<Figure size 1000x500 with 1 Axes>"
      ]
     },
     "metadata": {},
     "output_type": "display_data"
    }
   ],
   "source": [
    "# visualize features importance\n",
    "plt.figure(figsize=(10, 5))\n",
    "\n",
    "plt.barh(y=pipe_model['transformer'].get_feature_names_out(), width=pipe_model['regressor'].feature_importances_, edgecolor='k')\n",
    "plt.title('Model with source features')\n",
    "\n",
    "plt.xlim(0., 1.)\n",
    "plt.ylabel('Features')\n",
    "plt.xlabel('Importance')\n",
    "plt.gca().xaxis.set_major_locator(plt.MultipleLocator(0.1))\n",
    "plt.grid(axis='x')\n"
   ]
  },
  {
   "cell_type": "code",
   "execution_count": 13,
   "metadata": {},
   "outputs": [
    {
     "data": {
      "text/plain": [
       "['Store', 'Date', 'Unemployment', 'CPI']"
      ]
     },
     "execution_count": 13,
     "metadata": {},
     "output_type": "execute_result"
    }
   ],
   "source": [
    "# get the most important features\n",
    "IMPORTANCE_TH = 0.02\n",
    "\n",
    "important_features = set()\n",
    "for name, importance in zip(pipe_model['transformer'].get_feature_names_out(), pipe_model['regressor'].feature_importances_):\n",
    "    if importance >= IMPORTANCE_TH:\n",
    "        if name in ['Day', 'Month', 'Year']:\n",
    "            important_features.add('Date')\n",
    "        else:\n",
    "            important_features.add(name)\n",
    "\n",
    "important_features = list(important_features)\n",
    "truncated_df = sales_df[important_features + [TARGET]].copy()\n",
    "important_features\n"
   ]
  },
  {
   "cell_type": "code",
   "execution_count": 14,
   "metadata": {},
   "outputs": [
    {
     "name": "stdout",
     "output_type": "stream",
     "text": [
      "Features for training: ['Store', 'Date', 'Unemployment', 'CPI']\n"
     ]
    },
    {
     "name": "stdout",
     "output_type": "stream",
     "text": [
      "\n",
      "Best trial #904, r2 value - 0.9496765486353173\n",
      "Best params:\n",
      "{'criterion': 'squared_error', 'splitter': 'best', 'min_samples_split': 8, 'min_samples_leaf': 2, 'max_features': None}\n",
      "\n",
      "Average validation r2-score: 0.9496765486353173\n",
      "Average validation Root Mean Squared Error: -126367.78282699043\n",
      "\n",
      "Test r2-score: 0.9474880824094071\n",
      "Test Root Mean Squared Error: 128506.19651197523\n"
     ]
    }
   ],
   "source": [
    "pipe_model_truncated = get_best_model(truncated_df)\n"
   ]
  },
  {
   "cell_type": "markdown",
   "metadata": {},
   "source": [
    "После выбора наиболее значимых столбцов точность на тестовой выборке незначительно повысилась. Сохраним эту модель в формате .pkl. т. к. ее метрики лучше.<br>"
   ]
  },
  {
   "cell_type": "code",
   "execution_count": 22,
   "metadata": {},
   "outputs": [],
   "source": [
    "model_name = 'truncated_sale_model.pkl'\n",
    "\n",
    "# save model to file\n",
    "with open(model_name, 'wb') as model_file:\n",
    "    pickle.dump(pipe_model_truncated, model_file)\n"
   ]
  },
  {
   "cell_type": "code",
   "execution_count": 23,
   "metadata": {},
   "outputs": [],
   "source": [
    "# load model from file\n",
    "with open(model_name, 'rb') as model_file:\n",
    "    pipe_model_loaded = pickle.load(model_file)\n"
   ]
  },
  {
   "cell_type": "code",
   "execution_count": 24,
   "metadata": {},
   "outputs": [
    {
     "name": "stdout",
     "output_type": "stream",
     "text": [
      "Test r2-score: 0.9474880824094071\n",
      "Test Root Mean Squared Error: 128506.19651197523\n"
     ]
    }
   ],
   "source": [
    "# get predict from loaded model\n",
    "test_df = truncated_df.iloc[TEST_IDXS]\n",
    "y_pred = pipe_model_loaded.predict(test_df[important_features])\n",
    "R2 = r2_score(test_df[TARGET], y_pred)\n",
    "RMSE = root_mean_squared_error(test_df[TARGET], y_pred)\n",
    "\n",
    "print('Test r2-score:', R2)\n",
    "print('Test Root Mean Squared Error:', RMSE)\n"
   ]
  },
  {
   "cell_type": "markdown",
   "metadata": {},
   "source": [
    "Теперь испольуем phik для вычисления корреляции между принаками набора данных."
   ]
  },
  {
   "cell_type": "code",
   "execution_count": 18,
   "metadata": {},
   "outputs": [
    {
     "name": "stdout",
     "output_type": "stream",
     "text": [
      "interval columns not set, guessing: ['Store', 'Holiday_Flag', 'Temperature', 'Fuel_Price', 'CPI', 'Unemployment']\n"
     ]
    },
    {
     "data": {
      "text/html": [
       "<div>\n",
       "<style scoped>\n",
       "    .dataframe tbody tr th:only-of-type {\n",
       "        vertical-align: middle;\n",
       "    }\n",
       "\n",
       "    .dataframe tbody tr th {\n",
       "        vertical-align: top;\n",
       "    }\n",
       "\n",
       "    .dataframe thead th {\n",
       "        text-align: right;\n",
       "    }\n",
       "</style>\n",
       "<table border=\"1\" class=\"dataframe\">\n",
       "  <thead>\n",
       "    <tr style=\"text-align: right;\">\n",
       "      <th></th>\n",
       "      <th>Store</th>\n",
       "      <th>Date</th>\n",
       "      <th>Holiday_Flag</th>\n",
       "      <th>Temperature</th>\n",
       "      <th>Fuel_Price</th>\n",
       "      <th>CPI</th>\n",
       "      <th>Unemployment</th>\n",
       "    </tr>\n",
       "  </thead>\n",
       "  <tbody>\n",
       "    <tr>\n",
       "      <th>Store</th>\n",
       "      <td>1.000000</td>\n",
       "      <td>0.000000</td>\n",
       "      <td>0.000000</td>\n",
       "      <td>0.376575</td>\n",
       "      <td>0.325780</td>\n",
       "      <td>0.578986</td>\n",
       "      <td>0.689064</td>\n",
       "    </tr>\n",
       "    <tr>\n",
       "      <th>Date</th>\n",
       "      <td>0.000000</td>\n",
       "      <td>1.000000</td>\n",
       "      <td>1.000000</td>\n",
       "      <td>0.748962</td>\n",
       "      <td>0.865696</td>\n",
       "      <td>0.444183</td>\n",
       "      <td>0.362597</td>\n",
       "    </tr>\n",
       "    <tr>\n",
       "      <th>Holiday_Flag</th>\n",
       "      <td>0.000000</td>\n",
       "      <td>1.000000</td>\n",
       "      <td>1.000000</td>\n",
       "      <td>0.235493</td>\n",
       "      <td>0.169441</td>\n",
       "      <td>0.000000</td>\n",
       "      <td>0.000000</td>\n",
       "    </tr>\n",
       "    <tr>\n",
       "      <th>Temperature</th>\n",
       "      <td>0.376575</td>\n",
       "      <td>0.748962</td>\n",
       "      <td>0.235493</td>\n",
       "      <td>1.000000</td>\n",
       "      <td>0.495514</td>\n",
       "      <td>0.335435</td>\n",
       "      <td>0.287975</td>\n",
       "    </tr>\n",
       "    <tr>\n",
       "      <th>Fuel_Price</th>\n",
       "      <td>0.325780</td>\n",
       "      <td>0.865696</td>\n",
       "      <td>0.169441</td>\n",
       "      <td>0.495514</td>\n",
       "      <td>1.000000</td>\n",
       "      <td>0.493494</td>\n",
       "      <td>0.511182</td>\n",
       "    </tr>\n",
       "    <tr>\n",
       "      <th>CPI</th>\n",
       "      <td>0.578986</td>\n",
       "      <td>0.444183</td>\n",
       "      <td>0.000000</td>\n",
       "      <td>0.335435</td>\n",
       "      <td>0.493494</td>\n",
       "      <td>1.000000</td>\n",
       "      <td>0.552244</td>\n",
       "    </tr>\n",
       "    <tr>\n",
       "      <th>Unemployment</th>\n",
       "      <td>0.689064</td>\n",
       "      <td>0.362597</td>\n",
       "      <td>0.000000</td>\n",
       "      <td>0.287975</td>\n",
       "      <td>0.511182</td>\n",
       "      <td>0.552244</td>\n",
       "      <td>1.000000</td>\n",
       "    </tr>\n",
       "  </tbody>\n",
       "</table>\n",
       "</div>"
      ],
      "text/plain": [
       "                 Store      Date  Holiday_Flag  Temperature  Fuel_Price  \\\n",
       "Store         1.000000  0.000000      0.000000     0.376575    0.325780   \n",
       "Date          0.000000  1.000000      1.000000     0.748962    0.865696   \n",
       "Holiday_Flag  0.000000  1.000000      1.000000     0.235493    0.169441   \n",
       "Temperature   0.376575  0.748962      0.235493     1.000000    0.495514   \n",
       "Fuel_Price    0.325780  0.865696      0.169441     0.495514    1.000000   \n",
       "CPI           0.578986  0.444183      0.000000     0.335435    0.493494   \n",
       "Unemployment  0.689064  0.362597      0.000000     0.287975    0.511182   \n",
       "\n",
       "                   CPI  Unemployment  \n",
       "Store         0.578986      0.689064  \n",
       "Date          0.444183      0.362597  \n",
       "Holiday_Flag  0.000000      0.000000  \n",
       "Temperature   0.335435      0.287975  \n",
       "Fuel_Price    0.493494      0.511182  \n",
       "CPI           1.000000      0.552244  \n",
       "Unemployment  0.552244      1.000000  "
      ]
     },
     "execution_count": 18,
     "metadata": {},
     "output_type": "execute_result"
    }
   ],
   "source": [
    "# create correlation matrix with phik\n",
    "phik_correlation = sales_df[sales_features].phik_matrix()\n",
    "phik_correlation\n"
   ]
  },
  {
   "cell_type": "code",
   "execution_count": 19,
   "metadata": {},
   "outputs": [
    {
     "data": {
      "image/png": "[encoded data removed]",
      "text/plain": [
       "<Figure size 1000x1000 with 2 Axes>"
      ]
     },
     "metadata": {},
     "output_type": "display_data"
    }
   ],
   "source": [
    "# draw correlation matrix\n",
    "plot_correlation_matrix(phik_correlation.values, x_labels=phik_correlation.columns, y_labels=phik_correlation.index, \n",
    "                        color_map='Blues', title='Sales features correlation', fontsize_factor=1.5, figsize=(10, 10))\n",
    "plt.tight_layout()\n"
   ]
  },
  {
   "cell_type": "markdown",
   "metadata": {},
   "source": [
    "Как видно из корреляционной карты, есть зависимость между датой Date и праздничным днем Holiday_Flag, датой Date и температурой Temperature, датой Date и стоимостью топлива Fuel_Price. А также между магазином Store и безработицей Unemployment, магазином Store и индексом потребительских цен CPI. <br>\n",
    "Удалим колонки Holiday_Flag, Temperature, Fuel_Price и Unemployment, т. к. их можно описать признаками из колонок Date и Store. Также, в этот раз не будем разбивать дату на три колонки, а заменим числовыми метками с помощью LabelEncoder."
   ]
  },
  {
   "cell_type": "code",
   "execution_count": 20,
   "metadata": {},
   "outputs": [
    {
     "name": "stdout",
     "output_type": "stream",
     "text": [
      "Features for training: ['Store', 'CPI', 'Date_num']\n",
      "\n",
      "Best trial #177, r2 value - 0.9174646696090264\n",
      "Best params:\n",
      "{'criterion': 'absolute_error', 'splitter': 'best', 'min_samples_split': 2, 'min_samples_leaf': 10, 'max_features': None}\n",
      "\n",
      "Average validation r2-score: 0.9174646696090264\n",
      "Average validation Root Mean Squared Error: -159866.9503777033\n",
      "\n",
      "Test r2-score: 0.9225505776417723\n",
      "Test Root Mean Squared Error: 162638.8020510634\n"
     ]
    }
   ],
   "source": [
    "cropped_df = sales_df[['Date', 'Store', 'CPI'] + [TARGET]].copy()\n",
    "\n",
    "encoder = LabelEncoder()\n",
    "cropped_df['Date_num'] = encoder.fit_transform(cropped_df['Date'])\n",
    "cropped_df.drop(columns=['Date'], inplace=True)\n",
    "\n",
    "pipe_model_cropped = get_best_model(cropped_df)\n"
   ]
  },
  {
   "cell_type": "markdown",
   "metadata": {},
   "source": [
    "Как видно по метрикам, точность модели в сравнении с лучшим результатом заметно упала из-за кодирования даты и такого сокращения количества признаков.<br>\n",
    "Можно обратить внимание, что столбцы Holiday_Flag, Temperature и Fuel_Price, которые имели маленький процент значимости данных для модели, при построении корреляции с phik также оказались коррелирующими с другими столбцами и не несущими разнообразной информации."
   ]
  },
  {
   "cell_type": "code",
   "execution_count": 24,
   "metadata": {},
   "outputs": [
    {
     "name": "stdout",
     "output_type": "stream",
     "text": [
      "Checking whether there is an H2O instance running at http://localhost:54321..... not found.\n",
      "Attempting to start a local H2O server...\n",
      "  Java Version: openjdk version \"11.0.25\" 2024-10-15; OpenJDK Runtime Environment (build 11.0.25+9-post-Ubuntu-1ubuntu122.04); OpenJDK 64-Bit Server VM (build 11.0.25+9-post-Ubuntu-1ubuntu122.04, mixed mode, sharing)\n",
      "  Starting server from /media/vik/fleshechka2-ntfs/pyvenv/lib/python3.10/site-packages/h2o/backend/bin/h2o.jar\n",
      "  Ice root: /tmp/tmp5fxyjopx\n",
      "  JVM stdout: /tmp/tmp5fxyjopx/h2o_vik_started_from_python.out\n",
      "  JVM stderr: /tmp/tmp5fxyjopx/h2o_vik_started_from_python.err\n",
      "  Server is running at http://127.0.0.1:54321\n",
      "Connecting to H2O server at http://127.0.0.1:54321 ... successful.\n"
     ]
    },
    {
     "data": {
      "text/html": [
       "\n",
       "<style>\n",
       "\n",
       "#h2o-table-1.h2o-container {\n",
       "  overflow-x: auto;\n",
       "}\n",
       "#h2o-table-1 .h2o-table {\n",
       "  /* width: 100%; */\n",
       "  margin-top: 1em;\n",
       "  margin-bottom: 1em;\n",
       "}\n",
       "#h2o-table-1 .h2o-table caption {\n",
       "  white-space: nowrap;\n",
       "  caption-side: top;\n",
       "  text-align: left;\n",
       "  /* margin-left: 1em; */\n",
       "  margin: 0;\n",
       "  font-size: larger;\n",
       "}\n",
       "#h2o-table-1 .h2o-table thead {\n",
       "  white-space: nowrap; \n",
       "  position: sticky;\n",
       "  top: 0;\n",
       "  box-shadow: 0 -1px inset;\n",
       "}\n",
       "#h2o-table-1 .h2o-table tbody {\n",
       "  overflow: auto;\n",
       "}\n",
       "#h2o-table-1 .h2o-table th,\n",
       "#h2o-table-1 .h2o-table td {\n",
       "  text-align: right;\n",
       "  /* border: 1px solid; */\n",
       "}\n",
       "#h2o-table-1 .h2o-table tr:nth-child(even) {\n",
       "  /* background: #F5F5F5 */\n",
       "}\n",
       "\n",
       "</style>      \n",
       "<div id=\"h2o-table-1\" class=\"h2o-container\">\n",
       "  <table class=\"h2o-table\">\n",
       "    <caption></caption>\n",
       "    <thead></thead>\n",
       "    <tbody><tr><td>H2O_cluster_uptime:</td>\n",
       "<td>23 secs</td></tr>\n",
       "<tr><td>H2O_cluster_timezone:</td>\n",
       "<td>Europe/Minsk</td></tr>\n",
       "<tr><td>H2O_data_parsing_timezone:</td>\n",
       "<td>UTC</td></tr>\n",
       "<tr><td>H2O_cluster_version:</td>\n",
       "<td>3.46.0.6</td></tr>\n",
       "<tr><td>H2O_cluster_version_age:</td>\n",
       "<td>3 months and 3 days</td></tr>\n",
       "<tr><td>H2O_cluster_name:</td>\n",
       "<td>H2O_from_python_vik_keocwi</td></tr>\n",
       "<tr><td>H2O_cluster_total_nodes:</td>\n",
       "<td>1</td></tr>\n",
       "<tr><td>H2O_cluster_free_memory:</td>\n",
       "<td>1.418 Gb</td></tr>\n",
       "<tr><td>H2O_cluster_total_cores:</td>\n",
       "<td>4</td></tr>\n",
       "<tr><td>H2O_cluster_allowed_cores:</td>\n",
       "<td>4</td></tr>\n",
       "<tr><td>H2O_cluster_status:</td>\n",
       "<td>locked, healthy</td></tr>\n",
       "<tr><td>H2O_connection_url:</td>\n",
       "<td>http://127.0.0.1:54321</td></tr>\n",
       "<tr><td>H2O_connection_proxy:</td>\n",
       "<td>{\"http\": null, \"https\": null}</td></tr>\n",
       "<tr><td>H2O_internal_security:</td>\n",
       "<td>False</td></tr>\n",
       "<tr><td>Python_version:</td>\n",
       "<td>3.10.12 final</td></tr></tbody>\n",
       "  </table>\n",
       "</div>\n"
      ],
      "text/plain": [
       "--------------------------  -----------------------------\n",
       "H2O_cluster_uptime:         23 secs\n",
       "H2O_cluster_timezone:       Europe/Minsk\n",
       "H2O_data_parsing_timezone:  UTC\n",
       "H2O_cluster_version:        3.46.0.6\n",
       "H2O_cluster_version_age:    3 months and 3 days\n",
       "H2O_cluster_name:           H2O_from_python_vik_keocwi\n",
       "H2O_cluster_total_nodes:    1\n",
       "H2O_cluster_free_memory:    1.418 Gb\n",
       "H2O_cluster_total_cores:    4\n",
       "H2O_cluster_allowed_cores:  4\n",
       "H2O_cluster_status:         locked, healthy\n",
       "H2O_connection_url:         http://127.0.0.1:54321\n",
       "H2O_connection_proxy:       {\"http\": null, \"https\": null}\n",
       "H2O_internal_security:      False\n",
       "Python_version:             3.10.12 final\n",
       "--------------------------  -----------------------------"
      ]
     },
     "metadata": {},
     "output_type": "display_data"
    }
   ],
   "source": [
    "h2o.init()\n"
   ]
  },
  {
   "cell_type": "code",
   "execution_count": 83,
   "metadata": {},
   "outputs": [
    {
     "name": "stdout",
     "output_type": "stream",
     "text": [
      "Parse progress: |████████████████████████████████████████████████████████████████| (done) 100%\n"
     ]
    },
    {
     "data": {
      "text/html": [
       "<table class='dataframe'>\n",
       "<thead>\n",
       "<tr><th style=\"text-align: right;\">  Store</th><th>Date      </th><th style=\"text-align: right;\">  Weekly_Sales</th><th style=\"text-align: right;\">  Holiday_Flag</th><th style=\"text-align: right;\">  Temperature</th><th style=\"text-align: right;\">  Fuel_Price</th><th style=\"text-align: right;\">    CPI</th><th style=\"text-align: right;\">  Unemployment</th></tr>\n",
       "</thead>\n",
       "<tbody>\n",
       "<tr><td style=\"text-align: right;\">      1</td><td>05-02-2010</td><td style=\"text-align: right;\">   1.64369e+06</td><td style=\"text-align: right;\">             0</td><td style=\"text-align: right;\">        42.31</td><td style=\"text-align: right;\">       2.572</td><td style=\"text-align: right;\">211.096</td><td style=\"text-align: right;\">         8.106</td></tr>\n",
       "<tr><td style=\"text-align: right;\">      1</td><td>12-02-2010</td><td style=\"text-align: right;\">   1.64196e+06</td><td style=\"text-align: right;\">             1</td><td style=\"text-align: right;\">        38.51</td><td style=\"text-align: right;\">       2.548</td><td style=\"text-align: right;\">211.242</td><td style=\"text-align: right;\">         8.106</td></tr>\n",
       "<tr><td style=\"text-align: right;\">      1</td><td>19-02-2010</td><td style=\"text-align: right;\">   1.61197e+06</td><td style=\"text-align: right;\">             0</td><td style=\"text-align: right;\">        39.93</td><td style=\"text-align: right;\">       2.514</td><td style=\"text-align: right;\">211.289</td><td style=\"text-align: right;\">         8.106</td></tr>\n",
       "<tr><td style=\"text-align: right;\">      1</td><td>26-02-2010</td><td style=\"text-align: right;\">   1.40973e+06</td><td style=\"text-align: right;\">             0</td><td style=\"text-align: right;\">        46.63</td><td style=\"text-align: right;\">       2.561</td><td style=\"text-align: right;\">211.32 </td><td style=\"text-align: right;\">         8.106</td></tr>\n",
       "<tr><td style=\"text-align: right;\">      1</td><td>05-03-2010</td><td style=\"text-align: right;\">   1.55481e+06</td><td style=\"text-align: right;\">             0</td><td style=\"text-align: right;\">        46.5 </td><td style=\"text-align: right;\">       2.625</td><td style=\"text-align: right;\">211.35 </td><td style=\"text-align: right;\">         8.106</td></tr>\n",
       "<tr><td style=\"text-align: right;\">      1</td><td>12-03-2010</td><td style=\"text-align: right;\">   1.43954e+06</td><td style=\"text-align: right;\">             0</td><td style=\"text-align: right;\">        57.79</td><td style=\"text-align: right;\">       2.667</td><td style=\"text-align: right;\">211.381</td><td style=\"text-align: right;\">         8.106</td></tr>\n",
       "<tr><td style=\"text-align: right;\">      1</td><td>19-03-2010</td><td style=\"text-align: right;\">   1.47252e+06</td><td style=\"text-align: right;\">             0</td><td style=\"text-align: right;\">        54.58</td><td style=\"text-align: right;\">       2.72 </td><td style=\"text-align: right;\">211.216</td><td style=\"text-align: right;\">         8.106</td></tr>\n",
       "<tr><td style=\"text-align: right;\">      1</td><td>26-03-2010</td><td style=\"text-align: right;\">   1.40443e+06</td><td style=\"text-align: right;\">             0</td><td style=\"text-align: right;\">        51.45</td><td style=\"text-align: right;\">       2.732</td><td style=\"text-align: right;\">211.018</td><td style=\"text-align: right;\">         8.106</td></tr>\n",
       "<tr><td style=\"text-align: right;\">      1</td><td>02-04-2010</td><td style=\"text-align: right;\">   1.59497e+06</td><td style=\"text-align: right;\">             0</td><td style=\"text-align: right;\">        62.27</td><td style=\"text-align: right;\">       2.719</td><td style=\"text-align: right;\">210.82 </td><td style=\"text-align: right;\">         7.808</td></tr>\n",
       "<tr><td style=\"text-align: right;\">      1</td><td>09-04-2010</td><td style=\"text-align: right;\">   1.54542e+06</td><td style=\"text-align: right;\">             0</td><td style=\"text-align: right;\">        65.86</td><td style=\"text-align: right;\">       2.77 </td><td style=\"text-align: right;\">210.623</td><td style=\"text-align: right;\">         7.808</td></tr>\n",
       "</tbody>\n",
       "</table><pre style='font-size: smaller; margin-bottom: 1em;'>[6435 rows x 8 columns]</pre>"
      ],
      "text/plain": [
       "  Store  Date          Weekly_Sales    Holiday_Flag    Temperature    Fuel_Price      CPI    Unemployment\n",
       "-------  ----------  --------------  --------------  -------------  ------------  -------  --------------\n",
       "      1  05-02-2010     1.64369e+06               0          42.31         2.572  211.096           8.106\n",
       "      1  12-02-2010     1.64196e+06               1          38.51         2.548  211.242           8.106\n",
       "      1  19-02-2010     1.61197e+06               0          39.93         2.514  211.289           8.106\n",
       "      1  26-02-2010     1.40973e+06               0          46.63         2.561  211.32            8.106\n",
       "      1  05-03-2010     1.55481e+06               0          46.5          2.625  211.35            8.106\n",
       "      1  12-03-2010     1.43954e+06               0          57.79         2.667  211.381           8.106\n",
       "      1  19-03-2010     1.47252e+06               0          54.58         2.72   211.216           8.106\n",
       "      1  26-03-2010     1.40443e+06               0          51.45         2.732  211.018           8.106\n",
       "      1  02-04-2010     1.59497e+06               0          62.27         2.719  210.82            7.808\n",
       "      1  09-04-2010     1.54542e+06               0          65.86         2.77   210.623           7.808\n",
       "[6435 rows x 8 columns]\n"
      ]
     },
     "execution_count": 83,
     "metadata": {},
     "output_type": "execute_result"
    }
   ],
   "source": [
    "sales_h2o = h2o.import_file(excel_path)\n",
    "sales_h2o\n"
   ]
  },
  {
   "cell_type": "code",
   "execution_count": 84,
   "metadata": {},
   "outputs": [
    {
     "data": {
      "text/html": [
       "<table class='dataframe'>\n",
       "<thead>\n",
       "<tr><th style=\"text-align: right;\">  Store</th><th style=\"text-align: right;\">  Weekly_Sales</th><th style=\"text-align: right;\">  Holiday_Flag</th><th style=\"text-align: right;\">  Temperature</th><th style=\"text-align: right;\">  Fuel_Price</th><th style=\"text-align: right;\">    CPI</th><th style=\"text-align: right;\">  Unemployment</th><th style=\"text-align: right;\">  Day</th><th style=\"text-align: right;\">  Month</th><th style=\"text-align: right;\">  Year</th></tr>\n",
       "</thead>\n",
       "<tbody>\n",
       "<tr><td style=\"text-align: right;\">      1</td><td style=\"text-align: right;\">   1.64369e+06</td><td style=\"text-align: right;\">             0</td><td style=\"text-align: right;\">        42.31</td><td style=\"text-align: right;\">       2.572</td><td style=\"text-align: right;\">211.096</td><td style=\"text-align: right;\">         8.106</td><td style=\"text-align: right;\">    5</td><td style=\"text-align: right;\">      2</td><td style=\"text-align: right;\">  2010</td></tr>\n",
       "<tr><td style=\"text-align: right;\">      1</td><td style=\"text-align: right;\">   1.64196e+06</td><td style=\"text-align: right;\">             1</td><td style=\"text-align: right;\">        38.51</td><td style=\"text-align: right;\">       2.548</td><td style=\"text-align: right;\">211.242</td><td style=\"text-align: right;\">         8.106</td><td style=\"text-align: right;\">   12</td><td style=\"text-align: right;\">      2</td><td style=\"text-align: right;\">  2010</td></tr>\n",
       "<tr><td style=\"text-align: right;\">      1</td><td style=\"text-align: right;\">   1.61197e+06</td><td style=\"text-align: right;\">             0</td><td style=\"text-align: right;\">        39.93</td><td style=\"text-align: right;\">       2.514</td><td style=\"text-align: right;\">211.289</td><td style=\"text-align: right;\">         8.106</td><td style=\"text-align: right;\">   19</td><td style=\"text-align: right;\">      2</td><td style=\"text-align: right;\">  2010</td></tr>\n",
       "<tr><td style=\"text-align: right;\">      1</td><td style=\"text-align: right;\">   1.40973e+06</td><td style=\"text-align: right;\">             0</td><td style=\"text-align: right;\">        46.63</td><td style=\"text-align: right;\">       2.561</td><td style=\"text-align: right;\">211.32 </td><td style=\"text-align: right;\">         8.106</td><td style=\"text-align: right;\">   26</td><td style=\"text-align: right;\">      2</td><td style=\"text-align: right;\">  2010</td></tr>\n",
       "<tr><td style=\"text-align: right;\">      1</td><td style=\"text-align: right;\">   1.55481e+06</td><td style=\"text-align: right;\">             0</td><td style=\"text-align: right;\">        46.5 </td><td style=\"text-align: right;\">       2.625</td><td style=\"text-align: right;\">211.35 </td><td style=\"text-align: right;\">         8.106</td><td style=\"text-align: right;\">    5</td><td style=\"text-align: right;\">      3</td><td style=\"text-align: right;\">  2010</td></tr>\n",
       "<tr><td style=\"text-align: right;\">      1</td><td style=\"text-align: right;\">   1.43954e+06</td><td style=\"text-align: right;\">             0</td><td style=\"text-align: right;\">        57.79</td><td style=\"text-align: right;\">       2.667</td><td style=\"text-align: right;\">211.381</td><td style=\"text-align: right;\">         8.106</td><td style=\"text-align: right;\">   12</td><td style=\"text-align: right;\">      3</td><td style=\"text-align: right;\">  2010</td></tr>\n",
       "<tr><td style=\"text-align: right;\">      1</td><td style=\"text-align: right;\">   1.47252e+06</td><td style=\"text-align: right;\">             0</td><td style=\"text-align: right;\">        54.58</td><td style=\"text-align: right;\">       2.72 </td><td style=\"text-align: right;\">211.216</td><td style=\"text-align: right;\">         8.106</td><td style=\"text-align: right;\">   19</td><td style=\"text-align: right;\">      3</td><td style=\"text-align: right;\">  2010</td></tr>\n",
       "<tr><td style=\"text-align: right;\">      1</td><td style=\"text-align: right;\">   1.40443e+06</td><td style=\"text-align: right;\">             0</td><td style=\"text-align: right;\">        51.45</td><td style=\"text-align: right;\">       2.732</td><td style=\"text-align: right;\">211.018</td><td style=\"text-align: right;\">         8.106</td><td style=\"text-align: right;\">   26</td><td style=\"text-align: right;\">      3</td><td style=\"text-align: right;\">  2010</td></tr>\n",
       "<tr><td style=\"text-align: right;\">      1</td><td style=\"text-align: right;\">   1.59497e+06</td><td style=\"text-align: right;\">             0</td><td style=\"text-align: right;\">        62.27</td><td style=\"text-align: right;\">       2.719</td><td style=\"text-align: right;\">210.82 </td><td style=\"text-align: right;\">         7.808</td><td style=\"text-align: right;\">    2</td><td style=\"text-align: right;\">      4</td><td style=\"text-align: right;\">  2010</td></tr>\n",
       "<tr><td style=\"text-align: right;\">      1</td><td style=\"text-align: right;\">   1.54542e+06</td><td style=\"text-align: right;\">             0</td><td style=\"text-align: right;\">        65.86</td><td style=\"text-align: right;\">       2.77 </td><td style=\"text-align: right;\">210.623</td><td style=\"text-align: right;\">         7.808</td><td style=\"text-align: right;\">    9</td><td style=\"text-align: right;\">      4</td><td style=\"text-align: right;\">  2010</td></tr>\n",
       "</tbody>\n",
       "</table><pre style='font-size: smaller; margin-bottom: 1em;'>[6435 rows x 10 columns]</pre>"
      ],
      "text/plain": [
       "  Store    Weekly_Sales    Holiday_Flag    Temperature    Fuel_Price      CPI    Unemployment    Day    Month    Year\n",
       "-------  --------------  --------------  -------------  ------------  -------  --------------  -----  -------  ------\n",
       "      1     1.64369e+06               0          42.31         2.572  211.096           8.106      5        2    2010\n",
       "      1     1.64196e+06               1          38.51         2.548  211.242           8.106     12        2    2010\n",
       "      1     1.61197e+06               0          39.93         2.514  211.289           8.106     19        2    2010\n",
       "      1     1.40973e+06               0          46.63         2.561  211.32            8.106     26        2    2010\n",
       "      1     1.55481e+06               0          46.5          2.625  211.35            8.106      5        3    2010\n",
       "      1     1.43954e+06               0          57.79         2.667  211.381           8.106     12        3    2010\n",
       "      1     1.47252e+06               0          54.58         2.72   211.216           8.106     19        3    2010\n",
       "      1     1.40443e+06               0          51.45         2.732  211.018           8.106     26        3    2010\n",
       "      1     1.59497e+06               0          62.27         2.719  210.82            7.808      2        4    2010\n",
       "      1     1.54542e+06               0          65.86         2.77   210.623           7.808      9        4    2010\n",
       "[6435 rows x 10 columns]\n"
      ]
     },
     "execution_count": 84,
     "metadata": {},
     "output_type": "execute_result"
    }
   ],
   "source": [
    "sales_h2o['Date'] = sales_h2o['Date'].as_date('%d-%m-%Y')\n",
    "\n",
    "day_h2o = sales_h2o['Date'].day()\n",
    "month_h2o = sales_h2o['Date'].month()\n",
    "year_h2o = sales_h2o['Date'].year()\n",
    "\n",
    "sales_h2o = sales_h2o.cbind(day_h2o)\n",
    "sales_h2o = sales_h2o.cbind(month_h2o)\n",
    "sales_h2o = sales_h2o.cbind(year_h2o)\n",
    "\n",
    "sales_h2o = sales_h2o.set_names(sales_h2o.columns[:-3] + ['Day', 'Month', 'Year'])\n",
    "sales_h2o = sales_h2o.drop(['Date'])\n",
    "sales_h2o\n"
   ]
  },
  {
   "cell_type": "code",
   "execution_count": 85,
   "metadata": {},
   "outputs": [
    {
     "data": {
      "text/html": [
       "<table class='dataframe'>\n",
       "<thead>\n",
       "<tr><th style=\"text-align: right;\">  Store</th><th style=\"text-align: right;\">  Weekly_Sales</th><th style=\"text-align: right;\">  Holiday_Flag</th><th style=\"text-align: right;\">  Temperature</th><th style=\"text-align: right;\">  Fuel_Price</th><th style=\"text-align: right;\">     CPI</th><th style=\"text-align: right;\">  Unemployment</th><th style=\"text-align: right;\">      Day</th><th style=\"text-align: right;\">    Month</th><th style=\"text-align: right;\">  Year</th></tr>\n",
       "</thead>\n",
       "<tbody>\n",
       "<tr><td style=\"text-align: right;\">      0</td><td style=\"text-align: right;\">   1.64369e+06</td><td style=\"text-align: right;\">             0</td><td style=\"text-align: right;\">     0.434149</td><td style=\"text-align: right;\">   0.0501002</td><td style=\"text-align: right;\">0.8405  </td><td style=\"text-align: right;\">      0.405118</td><td style=\"text-align: right;\">0.133333 </td><td style=\"text-align: right;\">0.0909091</td><td style=\"text-align: right;\">     0</td></tr>\n",
       "<tr><td style=\"text-align: right;\">      0</td><td style=\"text-align: right;\">   1.64196e+06</td><td style=\"text-align: right;\">             1</td><td style=\"text-align: right;\">     0.396967</td><td style=\"text-align: right;\">   0.0380762</td><td style=\"text-align: right;\">0.841941</td><td style=\"text-align: right;\">      0.405118</td><td style=\"text-align: right;\">0.366667 </td><td style=\"text-align: right;\">0.0909091</td><td style=\"text-align: right;\">     0</td></tr>\n",
       "<tr><td style=\"text-align: right;\">      0</td><td style=\"text-align: right;\">   1.61197e+06</td><td style=\"text-align: right;\">             0</td><td style=\"text-align: right;\">     0.410861</td><td style=\"text-align: right;\">   0.0210421</td><td style=\"text-align: right;\">0.842405</td><td style=\"text-align: right;\">      0.405118</td><td style=\"text-align: right;\">0.6      </td><td style=\"text-align: right;\">0.0909091</td><td style=\"text-align: right;\">     0</td></tr>\n",
       "<tr><td style=\"text-align: right;\">      0</td><td style=\"text-align: right;\">   1.40973e+06</td><td style=\"text-align: right;\">             0</td><td style=\"text-align: right;\">     0.476419</td><td style=\"text-align: right;\">   0.0445892</td><td style=\"text-align: right;\">0.842707</td><td style=\"text-align: right;\">      0.405118</td><td style=\"text-align: right;\">0.833333 </td><td style=\"text-align: right;\">0.0909091</td><td style=\"text-align: right;\">     0</td></tr>\n",
       "<tr><td style=\"text-align: right;\">      0</td><td style=\"text-align: right;\">   1.55481e+06</td><td style=\"text-align: right;\">             0</td><td style=\"text-align: right;\">     0.475147</td><td style=\"text-align: right;\">   0.0766533</td><td style=\"text-align: right;\">0.843008</td><td style=\"text-align: right;\">      0.405118</td><td style=\"text-align: right;\">0.133333 </td><td style=\"text-align: right;\">0.181818 </td><td style=\"text-align: right;\">     0</td></tr>\n",
       "<tr><td style=\"text-align: right;\">      0</td><td style=\"text-align: right;\">   1.43954e+06</td><td style=\"text-align: right;\">             0</td><td style=\"text-align: right;\">     0.585616</td><td style=\"text-align: right;\">   0.0976954</td><td style=\"text-align: right;\">0.84331 </td><td style=\"text-align: right;\">      0.405118</td><td style=\"text-align: right;\">0.366667 </td><td style=\"text-align: right;\">0.181818 </td><td style=\"text-align: right;\">     0</td></tr>\n",
       "<tr><td style=\"text-align: right;\">      0</td><td style=\"text-align: right;\">   1.47252e+06</td><td style=\"text-align: right;\">             0</td><td style=\"text-align: right;\">     0.554207</td><td style=\"text-align: right;\">   0.124248 </td><td style=\"text-align: right;\">0.841679</td><td style=\"text-align: right;\">      0.405118</td><td style=\"text-align: right;\">0.6      </td><td style=\"text-align: right;\">0.181818 </td><td style=\"text-align: right;\">     0</td></tr>\n",
       "<tr><td style=\"text-align: right;\">      0</td><td style=\"text-align: right;\">   1.40443e+06</td><td style=\"text-align: right;\">             0</td><td style=\"text-align: right;\">     0.523581</td><td style=\"text-align: right;\">   0.130261 </td><td style=\"text-align: right;\">0.839726</td><td style=\"text-align: right;\">      0.405118</td><td style=\"text-align: right;\">0.833333 </td><td style=\"text-align: right;\">0.181818 </td><td style=\"text-align: right;\">     0</td></tr>\n",
       "<tr><td style=\"text-align: right;\">      0</td><td style=\"text-align: right;\">   1.59497e+06</td><td style=\"text-align: right;\">             0</td><td style=\"text-align: right;\">     0.629452</td><td style=\"text-align: right;\">   0.123747 </td><td style=\"text-align: right;\">0.837773</td><td style=\"text-align: right;\">      0.376557</td><td style=\"text-align: right;\">0.0333333</td><td style=\"text-align: right;\">0.272727 </td><td style=\"text-align: right;\">     0</td></tr>\n",
       "<tr><td style=\"text-align: right;\">      0</td><td style=\"text-align: right;\">   1.54542e+06</td><td style=\"text-align: right;\">             0</td><td style=\"text-align: right;\">     0.664579</td><td style=\"text-align: right;\">   0.149299 </td><td style=\"text-align: right;\">0.835819</td><td style=\"text-align: right;\">      0.376557</td><td style=\"text-align: right;\">0.266667 </td><td style=\"text-align: right;\">0.272727 </td><td style=\"text-align: right;\">     0</td></tr>\n",
       "</tbody>\n",
       "</table><pre style='font-size: smaller; margin-bottom: 1em;'>[6435 rows x 10 columns]</pre>"
      ],
      "text/plain": [
       "  Store    Weekly_Sales    Holiday_Flag    Temperature    Fuel_Price       CPI    Unemployment        Day      Month    Year\n",
       "-------  --------------  --------------  -------------  ------------  --------  --------------  ---------  ---------  ------\n",
       "      0     1.64369e+06               0       0.434149     0.0501002  0.8405          0.405118  0.133333   0.0909091       0\n",
       "      0     1.64196e+06               1       0.396967     0.0380762  0.841941        0.405118  0.366667   0.0909091       0\n",
       "      0     1.61197e+06               0       0.410861     0.0210421  0.842405        0.405118  0.6        0.0909091       0\n",
       "      0     1.40973e+06               0       0.476419     0.0445892  0.842707        0.405118  0.833333   0.0909091       0\n",
       "      0     1.55481e+06               0       0.475147     0.0766533  0.843008        0.405118  0.133333   0.181818        0\n",
       "      0     1.43954e+06               0       0.585616     0.0976954  0.84331         0.405118  0.366667   0.181818        0\n",
       "      0     1.47252e+06               0       0.554207     0.124248   0.841679        0.405118  0.6        0.181818        0\n",
       "      0     1.40443e+06               0       0.523581     0.130261   0.839726        0.405118  0.833333   0.181818        0\n",
       "      0     1.59497e+06               0       0.629452     0.123747   0.837773        0.376557  0.0333333  0.272727        0\n",
       "      0     1.54542e+06               0       0.664579     0.149299   0.835819        0.376557  0.266667   0.272727        0\n",
       "[6435 rows x 10 columns]\n"
      ]
     },
     "execution_count": 85,
     "metadata": {},
     "output_type": "execute_result"
    }
   ],
   "source": [
    "# normalize H2O dataset\n",
    "for column in sales_h2o.columns:\n",
    "    if column == TARGET:\n",
    "        continue\n",
    "\n",
    "    min_val = sales_h2o[column].min()\n",
    "    max_val = sales_h2o[column].max()\n",
    "\n",
    "    if min_val >= 0 and max_val <= 1:\n",
    "        continue\n",
    "\n",
    "    sales_h2o[column] = sales_h2o[column].apply(lambda x: (x - min_val) / (max_val - min_val))\n",
    "\n",
    "sales_h2o\n"
   ]
  },
  {
   "cell_type": "code",
   "execution_count": 68,
   "metadata": {},
   "outputs": [],
   "source": [
    "TRAIN_IDXS = TRAIN_IDXS.tolist()\n",
    "TRAIN_IDXS.sort()\n",
    "\n",
    "TEST_IDXS = TEST_IDXS.tolist()\n",
    "TEST_IDXS.sort()\n"
   ]
  },
  {
   "cell_type": "code",
   "execution_count": 91,
   "metadata": {},
   "outputs": [],
   "source": [
    "# create custom function to choose best params for DecisionTreeRegressor\n",
    "def get_best_model_h2o(h2o_frame):\n",
    "    # get features columns\n",
    "    features = h2o_frame.columns\n",
    "\n",
    "    if TARGET in features:\n",
    "        features.remove(TARGET)\n",
    "    print('Features for training:', features)\n",
    "\n",
    "    # split dataset into train and test \n",
    "    train_val_set = sales_h2o[TRAIN_IDXS, :]\n",
    "    test_set = sales_h2o[TEST_IDXS, :]\n",
    "    train_set, val_set = train_val_set.split_frame(ratios=[0.8], seed=1)\n",
    "\n",
    "    hyper_params = {'ntrees': list(range(50, 501, 50)),\n",
    "                    'max_depth': list(range(5, 10))}\n",
    "\n",
    "    grid_h2o = H2OGridSearch(model=H2OGradientBoostingEstimator(stopping_metric='rmse'), \n",
    "                             grid_id='grid1', hyper_params=hyper_params)\n",
    "    grid_h2o.train(x=features, y=[TARGET], training_frame=train_set, validation_frame=val_set)\n",
    "\n",
    "    metrics_grid = grid_h2o.get_grid(sort_by='rmse', decreasing=False)\n",
    "    best_model = metrics_grid.models[0]\n",
    "    test_performance = best_model.model_performance(test_set)\n",
    "    print(test_performance)\n",
    "\n",
    "    return best_model\n"
   ]
  },
  {
   "cell_type": "code",
   "execution_count": 92,
   "metadata": {},
   "outputs": [
    {
     "name": "stdout",
     "output_type": "stream",
     "text": [
      "Features for training: ['Store', 'Holiday_Flag', 'Temperature', 'Fuel_Price', 'CPI', 'Unemployment', 'Day', 'Month', 'Year']\n",
      "gbm Grid Build progress: |███████████████████████████████████████████████████████| (done) 100%\n",
      "ModelMetricsRegression: gbm\n",
      "** Reported on test data. **\n",
      "\n",
      "MSE: 1427282513738.6277\n",
      "RMSE: 1194689.2959002468\n",
      "MAE: 1041994.0873396083\n",
      "RMSLE: 13.49627012425297\n",
      "Mean Residual Deviance: 1427282513738.6277\n"
     ]
    }
   ],
   "source": [
    "best_model = get_best_model_h2o(sales_h2o)\n"
   ]
  },
  {
   "cell_type": "code",
   "execution_count": 93,
   "metadata": {},
   "outputs": [
    {
     "name": "stdout",
     "output_type": "stream",
     "text": [
      "Save model to /media/vik/fleshechka2-ntfs/peleng-courses/ML01_P_Online/Viktoria_Olegovna/HW_16/h2o_model/grid1_model_15\n"
     ]
    }
   ],
   "source": [
    "saved_path = h2o.save_model(model=best_model, path='h2o_model', force=True)\n",
    "print('Save model to', saved_path)\n"
   ]
  },
  {
   "cell_type": "code",
   "execution_count": 94,
   "metadata": {},
   "outputs": [],
   "source": [
    "load_model = h2o.load_model(path=saved_path)\n"
   ]
  },
  {
   "cell_type": "code",
   "execution_count": 95,
   "metadata": {},
   "outputs": [
    {
     "data": {
      "text/html": [
       "<pre style='margin: 1em 0 1em 0;'>ModelMetricsRegression: gbm\n",
       "** Reported on test data. **\n",
       "\n",
       "MSE: 1427282513738.6277\n",
       "RMSE: 1194689.2959002468\n",
       "MAE: 1041994.0873396083\n",
       "RMSLE: 13.49627012425297\n",
       "Mean Residual Deviance: 1427282513738.6277</pre>"
      ],
      "text/plain": [
       "ModelMetricsRegression: gbm\n",
       "** Reported on test data. **\n",
       "\n",
       "MSE: 1427282513738.6277\n",
       "RMSE: 1194689.2959002468\n",
       "MAE: 1041994.0873396083\n",
       "RMSLE: 13.49627012425297\n",
       "Mean Residual Deviance: 1427282513738.6277"
      ]
     },
     "execution_count": 95,
     "metadata": {},
     "output_type": "execute_result"
    }
   ],
   "source": [
    "test_set = sales_h2o[TEST_IDXS, :]\n",
    "\n",
    "performance = load_model.model_performance(test_set)\n",
    "performance\n"
   ]
  },
  {
   "cell_type": "markdown",
   "metadata": {},
   "source": [
    "С помощью H2OGridSearch была подобрана модель H2OGradientBoostingEstimator с наилучшими метриками, которая по значению RMSE на тестовых данных немного лучше регрессионной модели из библиотеки sklearn.<br>\n",
    "Одна из лучших моделей библиотеки sklearn была построена при сокращении количества признаков до 4 самых значимых и показала точность по метрике r2 = 0.947488."
   ]
  },
  {
   "cell_type": "code",
   "execution_count": null,
   "metadata": {},
   "outputs": [],
   "source": []
  }
 ],
 "metadata": {
  "kernelspec": {
   "display_name": "pyvenv",
   "language": "python",
   "name": "python3"
  },
  "language_info": {
   "codemirror_mode": {
    "name": "ipython",
    "version": 3
   },
   "file_extension": ".py",
   "mimetype": "text/x-python",
   "name": "python",
   "nbconvert_exporter": "python",
   "pygments_lexer": "ipython3",
   "version": "3.10.12"
  }
 },
 "nbformat": 4,
 "nbformat_minor": 2
}
