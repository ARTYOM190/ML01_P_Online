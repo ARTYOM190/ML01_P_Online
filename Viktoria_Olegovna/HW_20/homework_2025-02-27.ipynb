{
 "cells": [
  {
   "cell_type": "markdown",
   "id": "a2609811-a41c-43b1-a09b-efbb1143ede8",
   "metadata": {},
   "source": [
    "Для произвольно выбранного датасета провести обработку данных и построить предсказательную модель с использованием функционала pySpark."
   ]
  },
  {
   "cell_type": "code",
   "execution_count": 18,
   "id": "25114b91-ecff-456b-b123-80c04905a0e5",
   "metadata": {},
   "outputs": [],
   "source": [
    "from pyspark.ml.evaluation import MulticlassClassificationEvaluator\n",
    "from pyspark.ml.tuning import ParamGridBuilder, CrossValidator\n",
    "from pyspark.ml.classification import RandomForestClassifier\n",
    "from pyspark.ml.feature import VectorAssembler\n",
    "from pyspark.sql.functions import when\n",
    "from pyspark.sql import SparkSession\n",
    "from pyspark.ml import Pipeline\n"
   ]
  },
  {
   "cell_type": "code",
   "execution_count": 2,
   "id": "de4707e2-ab36-4b31-8797-d1336e98282b",
   "metadata": {},
   "outputs": [
    {
     "name": "stdout",
     "output_type": "stream",
     "text": [
      "+-------------+----------------+-----------+--------------+---------+-------------------+--------------------+-------+----+---------+-------+-------+\n",
      "|fixed acidity|volatile acidity|citric acid|residual sugar|chlorides|free sulfur dioxide|total sulfur dioxide|density|  pH|sulphates|alcohol|quality|\n",
      "+-------------+----------------+-----------+--------------+---------+-------------------+--------------------+-------+----+---------+-------+-------+\n",
      "|          7.0|            0.27|       0.36|          20.7|    0.045|               45.0|               170.0|  1.001| 3.0|     0.45|    8.8|      6|\n",
      "|          6.3|             0.3|       0.34|           1.6|    0.049|               14.0|               132.0|  0.994| 3.3|     0.49|    9.5|      6|\n",
      "|          8.1|            0.28|        0.4|           6.9|     0.05|               30.0|                97.0| 0.9951|3.26|     0.44|   10.1|      6|\n",
      "|          7.2|            0.23|       0.32|           8.5|    0.058|               47.0|               186.0| 0.9956|3.19|      0.4|    9.9|      6|\n",
      "|          7.2|            0.23|       0.32|           8.5|    0.058|               47.0|               186.0| 0.9956|3.19|      0.4|    9.9|      6|\n",
      "|          8.1|            0.28|        0.4|           6.9|     0.05|               30.0|                97.0| 0.9951|3.26|     0.44|   10.1|      6|\n",
      "|          6.2|            0.32|       0.16|           7.0|    0.045|               30.0|               136.0| 0.9949|3.18|     0.47|    9.6|      6|\n",
      "|          7.0|            0.27|       0.36|          20.7|    0.045|               45.0|               170.0|  1.001| 3.0|     0.45|    8.8|      6|\n",
      "|          6.3|             0.3|       0.34|           1.6|    0.049|               14.0|               132.0|  0.994| 3.3|     0.49|    9.5|      6|\n",
      "|          8.1|            0.22|       0.43|           1.5|    0.044|               28.0|               129.0| 0.9938|3.22|     0.45|   11.0|      6|\n",
      "|          8.1|            0.27|       0.41|          1.45|    0.033|               11.0|                63.0| 0.9908|2.99|     0.56|   12.0|      5|\n",
      "|          8.6|            0.23|        0.4|           4.2|    0.035|               17.0|               109.0| 0.9947|3.14|     0.53|    9.7|      5|\n",
      "|          7.9|            0.18|       0.37|           1.2|     0.04|               16.0|                75.0|  0.992|3.18|     0.63|   10.8|      5|\n",
      "|          6.6|            0.16|        0.4|           1.5|    0.044|               48.0|               143.0| 0.9912|3.54|     0.52|   12.4|      7|\n",
      "|          8.3|            0.42|       0.62|         19.25|     0.04|               41.0|               172.0| 1.0002|2.98|     0.67|    9.7|      5|\n",
      "|          6.6|            0.17|       0.38|           1.5|    0.032|               28.0|               112.0| 0.9914|3.25|     0.55|   11.4|      7|\n",
      "|          6.3|            0.48|       0.04|           1.1|    0.046|               30.0|                99.0| 0.9928|3.24|     0.36|    9.6|      6|\n",
      "|          6.2|            0.66|       0.48|           1.2|    0.029|               29.0|                75.0| 0.9892|3.33|     0.39|   12.8|      8|\n",
      "|          7.4|            0.34|       0.42|           1.1|    0.033|               17.0|               171.0| 0.9917|3.12|     0.53|   11.3|      6|\n",
      "|          6.5|            0.31|       0.14|           7.5|    0.044|               34.0|               133.0| 0.9955|3.22|      0.5|    9.5|      5|\n",
      "+-------------+----------------+-----------+--------------+---------+-------------------+--------------------+-------+----+---------+-------+-------+\n",
      "only showing top 20 rows\n",
      "\n"
     ]
    }
   ],
   "source": [
    "# read table from csv-file\n",
    "csv_path = 'winequality-white.csv'\n",
    "\n",
    "spark = SparkSession.builder.getOrCreate()\n",
    "spark.conf.set('spark.sql.execution.arrow.pyspark.enabled', 'true')\n",
    "wine_df = spark.read.csv(csv_path, sep=';', header=True, inferSchema=True)\n",
    "wine_df.show()\n"
   ]
  },
  {
   "cell_type": "code",
   "execution_count": 34,
   "id": "b4243631-ead3-4e74-a2e2-6bdd5a966042",
   "metadata": {},
   "outputs": [
    {
     "name": "stdout",
     "output_type": "stream",
     "text": [
      "root\n",
      " |-- fixed acidity: double (nullable = true)\n",
      " |-- volatile acidity: double (nullable = true)\n",
      " |-- citric acid: double (nullable = true)\n",
      " |-- residual sugar: double (nullable = true)\n",
      " |-- chlorides: double (nullable = true)\n",
      " |-- free sulfur dioxide: double (nullable = true)\n",
      " |-- total sulfur dioxide: double (nullable = true)\n",
      " |-- density: double (nullable = true)\n",
      " |-- pH: double (nullable = true)\n",
      " |-- sulphates: double (nullable = true)\n",
      " |-- alcohol: double (nullable = true)\n",
      " |-- quality: integer (nullable = true)\n",
      "\n"
     ]
    }
   ],
   "source": [
    "# show table columns types\n",
    "wine_df.printSchema()\n"
   ]
  },
  {
   "cell_type": "code",
   "execution_count": 35,
   "id": "ceb3b13b-8641-43be-8a36-a6bbbad8db2a",
   "metadata": {},
   "outputs": [
    {
     "data": {
      "text/plain": [
       "{'fixed acidity': 0,\n",
       " 'volatile acidity': 0,\n",
       " 'citric acid': 0,\n",
       " 'residual sugar': 0,\n",
       " 'chlorides': 0,\n",
       " 'free sulfur dioxide': 0,\n",
       " 'total sulfur dioxide': 0,\n",
       " 'density': 0,\n",
       " 'pH': 0,\n",
       " 'sulphates': 0,\n",
       " 'alcohol': 0,\n",
       " 'quality': 0}"
      ]
     },
     "execution_count": 35,
     "metadata": {},
     "output_type": "execute_result"
    }
   ],
   "source": [
    "# check nans in columns\n",
    "nulls_in_columns = {column: wine_df.filter(wine_df[column].isNull()).count() for column in wine_df.columns}\n",
    "nulls_in_columns\n"
   ]
  },
  {
   "cell_type": "code",
   "execution_count": 3,
   "id": "8465989b-c4f5-4b0f-a60e-c455a4b28330",
   "metadata": {},
   "outputs": [
    {
     "name": "stdout",
     "output_type": "stream",
     "text": [
      "['fixed acidity', 'volatile acidity', 'citric acid', 'residual sugar', 'chlorides', 'free sulfur dioxide', 'total sulfur dioxide', 'density', 'pH', 'sulphates', 'alcohol']\n"
     ]
    }
   ],
   "source": [
    "# set target and features columns\n",
    "TARGET = 'quality'\n",
    "features = wine_df.columns\n",
    "features.remove(TARGET)\n",
    "print(features)\n"
   ]
  },
  {
   "cell_type": "code",
   "execution_count": 37,
   "id": "a555083e-6388-4350-ad77-5c6ffd8309be",
   "metadata": {},
   "outputs": [
    {
     "name": "stdout",
     "output_type": "stream",
     "text": [
      "+-------+-----+\n",
      "|quality|count|\n",
      "+-------+-----+\n",
      "|      6| 2198|\n",
      "|      5| 1457|\n",
      "|      7|  880|\n",
      "|      8|  175|\n",
      "|      4|  163|\n",
      "|      3|   20|\n",
      "|      9|    5|\n",
      "+-------+-----+\n",
      "\n"
     ]
    }
   ],
   "source": [
    "# calculate unique TARGET values\n",
    "wine_df.groupby(TARGET).count().orderBy('count', ascending=False).show()\n"
   ]
  },
  {
   "cell_type": "markdown",
   "id": "a48e48db-9888-4040-b81e-e08e24b682e1",
   "metadata": {},
   "source": [
    "В таблице нету пропусков и все столбцы числовые. Из распределения значений целевой переменной видно, что вина качества 9 и 3 меньше всего, поэтому объединим некоторые классы: отнесем вино класса 9 к классу 8, а вино класса 3 к классу 4."
   ]
  },
  {
   "cell_type": "code",
   "execution_count": 4,
   "id": "e924f07e-06a3-46c1-90c4-1175f2ad9702",
   "metadata": {
    "scrolled": true
   },
   "outputs": [
    {
     "name": "stdout",
     "output_type": "stream",
     "text": [
      "+-------+-----+\n",
      "|quality|count|\n",
      "+-------+-----+\n",
      "|      6| 2198|\n",
      "|      5| 1457|\n",
      "|      7|  880|\n",
      "|      4|  183|\n",
      "|      8|  180|\n",
      "+-------+-----+\n",
      "\n"
     ]
    }
   ],
   "source": [
    "wine_df = wine_df.withColumn(TARGET, when(wine_df[TARGET] == 9, 8).when(wine_df[TARGET] == 3, 4).otherwise(wine_df[TARGET]))\n",
    "wine_df.groupby(TARGET).count().orderBy('count', ascending=False).show()\n"
   ]
  },
  {
   "cell_type": "markdown",
   "id": "887eb929-657b-4f92-a3b5-c3de6c4893c0",
   "metadata": {},
   "source": [
    "Разделяем выборку на обучающую и тестовую, собираем все свойства с помощью VectorAssembler, подбирем параметры для модели RandomForestClassifier, основываясь на метрике точности."
   ]
  },
  {
   "cell_type": "code",
   "execution_count": 11,
   "id": "485e91fa-83ad-4ee3-8cd3-7d76e19c7982",
   "metadata": {},
   "outputs": [
    {
     "name": "stdout",
     "output_type": "stream",
     "text": [
      "3905 993\n"
     ]
    }
   ],
   "source": [
    "# split dataset into train and test\n",
    "train_df, test_df = wine_df.randomSplit([0.8, 0.2])\n",
    "print(train_df.count(), test_df.count())\n"
   ]
  },
  {
   "cell_type": "code",
   "execution_count": 14,
   "id": "d6dac771-080b-4217-99f6-6326fcf2f4e1",
   "metadata": {},
   "outputs": [],
   "source": [
    "# create pipeline with features assembler and RandomForestClassifier model \n",
    "random_forest = RandomForestClassifier(labelCol=TARGET, featuresCol='features')\n",
    "model_pipeline = Pipeline(stages=[VectorAssembler(inputCols=features, outputCol='features'), random_forest])\n"
   ]
  },
  {
   "cell_type": "code",
   "execution_count": 29,
   "id": "ac015774-0a09-479a-814f-dbd4a7e4b12a",
   "metadata": {},
   "outputs": [],
   "source": [
    "# create grid builder for find best params\n",
    "params = ParamGridBuilder().addGrid(random_forest.maxDepth, list(range(10, 40, 10))) \\\n",
    "                           .addGrid(random_forest.minInstancesPerNode, list(range(1, 6))) \\\n",
    "                           .addGrid(random_fores.numTrees, list(range(10, 40, 10))).build()\n",
    "\n",
    "# create cross validation object for find best model\n",
    "evaluator=MulticlassClassificationEvaluator(labelCol=TARGET, metricName='accuracy')\n",
    "validator = CrossValidator(estimator=model_pipeline,\n",
    "                          estimatorParamMaps=params,\n",
    "                          evaluator=evaluator,\n",
    "                          numFolds=5)\n",
    "\n",
    "# search for best model\n",
    "validator_model = validator.fit(train_df)\n",
    "best_pipe_model = validator_model.bestModel\n"
   ]
  },
  {
   "cell_type": "code",
   "execution_count": 51,
   "id": "3f718ef6-6243-4b19-9cab-f7a821a5ed8e",
   "metadata": {},
   "outputs": [
    {
     "name": "stdout",
     "output_type": "stream",
     "text": [
      "Test accuracy is 0.6847935548841894\n"
     ]
    }
   ],
   "source": [
    "# run test, calculate model accuracy\n",
    "preds = best_pipe_model.transform(test_df)\n",
    "accuracy = evaluator.evaluate(preds)\n",
    "print('Test accuracy is', accuracy)\n"
   ]
  },
  {
   "cell_type": "markdown",
   "id": "7927c527-fe3d-47e4-a9ab-77372f70b801",
   "metadata": {},
   "source": [
    "На тестовом наборе данных модель показала точность 68.48%.<br>\n",
    "В отличие от моделей библиотеки sklearn диапазоны варьирования некоторых параметров моделей из pyspark ограничены, и работа самого модуля в целом оказалась медленнее."
   ]
  },
  {
   "cell_type": "code",
   "execution_count": null,
   "id": "bfe6ced4-211e-46c9-a5d7-4036c33256ae",
   "metadata": {},
   "outputs": [],
   "source": []
  }
 ],
 "metadata": {
  "kernelspec": {
   "display_name": "Python 3 (ipykernel)",
   "language": "python",
   "name": "python3"
  },
  "language_info": {
   "codemirror_mode": {
    "name": "ipython",
    "version": 3
   },
   "file_extension": ".py",
   "mimetype": "text/x-python",
   "name": "python",
   "nbconvert_exporter": "python",
   "pygments_lexer": "ipython3",
   "version": "3.11.6"
  }
 },
 "nbformat": 4,
 "nbformat_minor": 5
}
