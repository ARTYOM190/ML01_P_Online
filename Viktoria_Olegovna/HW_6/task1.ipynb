{
 "cells": [
  {
   "cell_type": "markdown",
   "metadata": {},
   "source": [
    "Напишите декоратор, оптимизирующий работу декорируемой функции. Декоратор должен сохранять результат работы функции на ближайшие три запуска и вместо выполнения функции возвращать сохранённый результат. \n",
    "После трёх запусков функция должна вызываться вновь, а результат работы функции — вновь кешироваться."
   ]
  },
  {
   "cell_type": "code",
   "execution_count": null,
   "metadata": {},
   "outputs": [],
   "source": [
    "# function-decarator\n",
    "def decorating_func(inner_func):\n",
    "    # wrapper for optimize inner function\n",
    "    def wrapper(number: int):\n",
    "        print(inner_func.__name__, '-', wrapper.func_calls + 1, 'times', end=' ')\n",
    "\n",
    "        # save inner function result every four times\n",
    "        if wrapper.func_calls % 4 == 0:\n",
    "            wrapper.func_result = inner_func(number)\n",
    "\n",
    "        # count inner function calls\n",
    "        wrapper.func_calls += 1\n",
    "\n",
    "        return wrapper.func_result\n",
    "\n",
    "    # initialize func_call variable\n",
    "    wrapper.func_calls = 0\n",
    "\n",
    "    return wrapper\n"
   ]
  },
  {
   "cell_type": "code",
   "execution_count": null,
   "metadata": {},
   "outputs": [],
   "source": [
    "@decorating_func\n",
    "# initialize decorated function\n",
    "def square_func(number: int):\n",
    "    return number ** 2\n"
   ]
  },
  {
   "cell_type": "code",
   "execution_count": null,
   "metadata": {},
   "outputs": [],
   "source": [
    "for i in range(14):\n",
    "    print('Result', square_func(i))\n"
   ]
  },
  {
   "cell_type": "code",
   "execution_count": null,
   "metadata": {},
   "outputs": [],
   "source": []
  }
 ],
 "metadata": {
  "kernelspec": {
   "display_name": "pyvenv",
   "language": "python",
   "name": "python3"
  },
  "language_info": {
   "codemirror_mode": {
    "name": "ipython",
    "version": 3
   },
   "file_extension": ".py",
   "mimetype": "text/x-python",
   "name": "python",
   "nbconvert_exporter": "python",
   "pygments_lexer": "ipython3",
   "version": "3.10.12"
  }
 },
 "nbformat": 4,
 "nbformat_minor": 2
}
