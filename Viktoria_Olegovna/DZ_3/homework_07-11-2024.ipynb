{
 "cells": [
  {
   "cell_type": "markdown",
   "metadata": {},
   "source": [
    "1. Загрузить файл длиной не менее 2000 символов."
   ]
  },
  {
   "cell_type": "code",
   "execution_count": null,
   "metadata": {},
   "outputs": [],
   "source": [
    "# open file, read file, get length, print length, return file content\n",
    "def load_file(filepath: str):\n",
    "    with open(filepath, 'r') as f:\n",
    "        file_content = f.read()\n",
    "        symbols_count = len(file_content)\n",
    "        print(f'File contains {symbols_count} symbols')\n",
    "    \n",
    "    return file_content"
   ]
  },
  {
   "cell_type": "code",
   "execution_count": 20,
   "metadata": {},
   "outputs": [
    {
     "name": "stdout",
     "output_type": "stream",
     "text": [
      "File contains 2121 symbols\n"
     ]
    }
   ],
   "source": [
    "filepath = '../DZ_1/Q&A Lazko Viktoria.txt'\n",
    "file_text = load_file(filepath)\n"
   ]
  },
  {
   "cell_type": "markdown",
   "metadata": {},
   "source": [
    "2. Составить программу, которая считает число уникальных слов в тексте (без критерия\n",
    "схожести)"
   ]
  },
  {
   "cell_type": "code",
   "execution_count": 18,
   "metadata": {},
   "outputs": [],
   "source": [
    "# split text to words by space, make set to get unique words, get length of words set, return count\n",
    "def calc_unique_words(text: str):\n",
    "    words = text.split()\n",
    "    uniques_count = len(set(words))\n",
    "    print(f'There are {uniques_count} unique words in text')\n",
    "    \n",
    "    return uniques_count\n"
   ]
  },
  {
   "cell_type": "code",
   "execution_count": 21,
   "metadata": {},
   "outputs": [
    {
     "name": "stdout",
     "output_type": "stream",
     "text": [
      "There are 190 unique words in text\n"
     ]
    }
   ],
   "source": [
    "uniques_count = calc_unique_words(file_text)\n"
   ]
  },
  {
   "cell_type": "markdown",
   "metadata": {},
   "source": [
    "3. Составить программу, которая считает число гласных и согласных букв."
   ]
  },
  {
   "cell_type": "code",
   "execution_count": null,
   "metadata": {},
   "outputs": [],
   "source": []
  },
  {
   "cell_type": "code",
   "execution_count": null,
   "metadata": {},
   "outputs": [],
   "source": []
  },
  {
   "cell_type": "code",
   "execution_count": null,
   "metadata": {},
   "outputs": [],
   "source": []
  },
  {
   "cell_type": "code",
   "execution_count": null,
   "metadata": {},
   "outputs": [],
   "source": []
  }
 ],
 "metadata": {
  "kernelspec": {
   "display_name": "pyvenv",
   "language": "python",
   "name": "python3"
  },
  "language_info": {
   "codemirror_mode": {
    "name": "ipython",
    "version": 3
   },
   "file_extension": ".py",
   "mimetype": "text/x-python",
   "name": "python",
   "nbconvert_exporter": "python",
   "pygments_lexer": "ipython3",
   "version": "3.10.12"
  }
 },
 "nbformat": 4,
 "nbformat_minor": 2
}
