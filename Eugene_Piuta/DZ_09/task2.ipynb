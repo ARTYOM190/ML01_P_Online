{
 "cells": [
  {
   "cell_type": "markdown",
   "metadata": {},
   "source": []
  },
  {
   "cell_type": "code",
   "execution_count": null,
   "metadata": {},
   "outputs": [],
   "source": [
    "# Trackbar\n",
    "\n",
    "import numpy as np\n",
    "import cv2 as cv\n",
    "\n",
    "def nothing(x):\n",
    "    #print(x)\n",
    "    pass\n",
    "\n",
    "# Create a black image, a window\n",
    "img = np.zeros((300,512,3), np.uint8)\n",
    "cv.namedWindow('image')\n",
    "\n",
    "cv.createTrackbar('B', 'image', 0, 255, nothing)\n",
    "cv.createTrackbar('G', 'image', 0, 255, nothing)\n",
    "cv.createTrackbar('R', 'image', 0, 255, nothing)\n",
    "\n",
    "switch = '0 : OFF\\n 1 : ON'\n",
    "cv.createTrackbar(\"On/Off\", 'image', 0, 1, nothing)\n",
    "\n",
    "while(1):\n",
    "    cv.imshow('image',img)\n",
    "    if cv2.waitKey(30) & 0xFF == ord('q'):\n",
    "          break\n",
    "\n",
    "    b = cv.getTrackbarPos('B', 'image')\n",
    "    g = cv.getTrackbarPos('G', 'image')\n",
    "    r = cv.getTrackbarPos('R', 'image')\n",
    "    s = cv.getTrackbarPos(\"On/Off\", 'image')\n",
    "\n",
    "    if s == 0:\n",
    "       img[:] = 0\n",
    "    else:\n",
    "        img[:] = [b, g, r]\n",
    "\n",
    "\n",
    "cv.destroyAllWindows()"
   ]
  }
 ],
 "metadata": {
  "language_info": {
   "name": "python"
  }
 },
 "nbformat": 4,
 "nbformat_minor": 2
}
