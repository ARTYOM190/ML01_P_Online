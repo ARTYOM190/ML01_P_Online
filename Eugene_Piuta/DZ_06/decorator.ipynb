{
 "cells": [
  {
   "cell_type": "markdown",
   "metadata": {},
   "source": [
    "#Задача:\n",
    "Напишите декоратор, оптимизирующий работу декорируемой функции. Декоратор должен сохранять результат работы функции на ближайшие три запуска и вместо выполнения функции возвращать сохранённый результат. \n",
    "После трёх запусков функция должна вызываться вновь, а результат работы функции — вновь кешироваться."
   ]
  },
  {
   "cell_type": "code",
   "execution_count": 270,
   "metadata": {},
   "outputs": [],
   "source": [
    "\n",
    "#Создадим декоратор функции\n",
    "\n",
    "def uppercase(func):\n",
    "          print(\"Работает декоратор\")   \n",
    "          global counter\n",
    "          global result \n",
    "          result = \"\"\n",
    "          counter = 0               \n",
    "          def wrapper(*args):\n",
    "                    global counter                                  \n",
    "                    global result                                     \n",
    "                    print(f\"Внутри декоратора: Counter = {counter}\")\n",
    "                    if counter == 0:   \n",
    "                              counter += 1                          \n",
    "                              original = func(*args)\n",
    "                              result = original.upper()\n",
    "                              return result\n",
    "                    elif counter > 3:\n",
    "                              counter = 1\n",
    "                              original = func(*args)\n",
    "                              result = original.upper()\n",
    "                              return result\n",
    "                    else:\n",
    "                              counter += 1\n",
    "                              return result\n",
    "          return wrapper"
   ]
  },
  {
   "cell_type": "code",
   "execution_count": 271,
   "metadata": {},
   "outputs": [
    {
     "name": "stdout",
     "output_type": "stream",
     "text": [
      "Работает декоратор\n"
     ]
    }
   ],
   "source": [
    "@uppercase\n",
    "def abc(text):\n",
    "          return str(text)"
   ]
  },
  {
   "cell_type": "code",
   "execution_count": 272,
   "metadata": {},
   "outputs": [
    {
     "name": "stdout",
     "output_type": "stream",
     "text": [
      "Внутри декоратора: Counter = 0\n",
      "1 ВЫЗОВ ФУНКЦИИ\n",
      "Внутри декоратора: Counter = 1\n",
      "1 ВЫЗОВ ФУНКЦИИ\n",
      "Внутри декоратора: Counter = 2\n",
      "1 ВЫЗОВ ФУНКЦИИ\n",
      "Внутри декоратора: Counter = 3\n",
      "1 ВЫЗОВ ФУНКЦИИ\n",
      "Внутри декоратора: Counter = 4\n",
      "5 ВЫЗОВ ФУНКЦИИ\n",
      "Внутри декоратора: Counter = 1\n",
      "5 ВЫЗОВ ФУНКЦИИ\n",
      "Внутри декоратора: Counter = 2\n",
      "5 ВЫЗОВ ФУНКЦИИ\n",
      "Внутри декоратора: Counter = 3\n",
      "5 ВЫЗОВ ФУНКЦИИ\n",
      "Внутри декоратора: Counter = 4\n",
      "9 ВЫЗОВ ФУНКЦИИ\n",
      "Внутри декоратора: Counter = 1\n",
      "9 ВЫЗОВ ФУНКЦИИ\n",
      "Внутри декоратора: Counter = 2\n",
      "9 ВЫЗОВ ФУНКЦИИ\n",
      "Внутри декоратора: Counter = 3\n",
      "9 ВЫЗОВ ФУНКЦИИ\n",
      "Внутри декоратора: Counter = 4\n",
      "13 ВЫЗОВ ФУНКЦИИ\n"
     ]
    }
   ],
   "source": [
    "#Вызовем функцию 13 раз подряд\n",
    "print(abc(\"1 вызов функции\"))\n",
    "print(abc(\"2 вызов функции\"))\n",
    "print(abc(\"3 вызов функции\"))\n",
    "print(abc(\"4 вызов функции\"))\n",
    "print(abc(\"5 вызов функции\"))\n",
    "print(abc(\"6 вызов функции\"))\n",
    "print(abc(\"7 вызов функции\"))\n",
    "print(abc(\"8 вызов функции\"))\n",
    "print(abc(\"9 вызов функции\"))\n",
    "print(abc(\"10 вызов функции\"))\n",
    "print(abc(\"11 вызов функции\"))\n",
    "print(abc(\"12 вызов функции\"))\n",
    "print(abc(\"13 вызов функции\"))"
   ]
  }
 ],
 "metadata": {
  "kernelspec": {
   "display_name": "base",
   "language": "python",
   "name": "python3"
  },
  "language_info": {
   "codemirror_mode": {
    "name": "ipython",
    "version": 3
   },
   "file_extension": ".py",
   "mimetype": "text/x-python",
   "name": "python",
   "nbconvert_exporter": "python",
   "pygments_lexer": "ipython3",
   "version": "3.12.7"
  }
 },
 "nbformat": 4,
 "nbformat_minor": 2
}
