{
 "cells": [
  {
   "cell_type": "markdown",
   "metadata": {},
   "source": [
    "#Задача\n",
    "Реализовать с использованием потоков и процессов скачивание файлов из интернета. \n",
    "Список файлов для скачивания подготовить самостоятельно (например изображений, не менее 100 изображений или других объектов). Сравнить производительность с последовательным методом. Сравнивть производительность Thread и multiprocessing решений. Попробовать подобрать оптимальное число потоков/процессов. "
   ]
  },
  {
   "cell_type": "code",
   "execution_count": 5,
   "metadata": {},
   "outputs": [],
   "source": [
    "import requests, time\n",
    "\n",
    "# URL изображения, которое нужно загрузить\n",
    "img_url = 'https://cataas.com/cat'\n",
    "file = \"../DZ_06/cats/local_image.jpg\"\n",
    "\n",
    "# Директория для сохранения изображений\n",
    "directory = 'Eugene_Piuta/DZ_06/cats/'\n",
    "response = requests.get(img_url, stream=True)\n",
    "if response.status_code == 200:\n",
    "    with open(file, 'wb') as file:\n",
    "        # Запись файла по частям\n",
    "        for chunk in response.iter_content(1024):\n",
    "            file.write(chunk)\n",
    "else:\n",
    "    # Обработка ошибок при невозможности загрузки изображения\n",
    "    print(f'Загрузить изображение не удалось: код ответа сервера {response.status_code}')\n",
    "\n"
   ]
  },
  {
   "cell_type": "code",
   "execution_count": 13,
   "metadata": {},
   "outputs": [
    {
     "data": {
      "text/plain": [
       "[range(0, 10)]"
      ]
     },
     "execution_count": 13,
     "metadata": {},
     "output_type": "execute_result"
    }
   ],
   "source": []
  },
  {
   "cell_type": "markdown",
   "metadata": {},
   "source": [
    "#Вывод\n"
   ]
  }
 ],
 "metadata": {
  "kernelspec": {
   "display_name": "base",
   "language": "python",
   "name": "python3"
  },
  "language_info": {
   "codemirror_mode": {
    "name": "ipython",
    "version": 3
   },
   "file_extension": ".py",
   "mimetype": "text/x-python",
   "name": "python",
   "nbconvert_exporter": "python",
   "pygments_lexer": "ipython3",
   "version": "3.12.7"
  }
 },
 "nbformat": 4,
 "nbformat_minor": 2
}
