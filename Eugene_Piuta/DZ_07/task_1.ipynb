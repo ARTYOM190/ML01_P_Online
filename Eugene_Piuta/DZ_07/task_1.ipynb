{
 "cells": [
  {
   "cell_type": "markdown",
   "metadata": {},
   "source": [
    "#Задача:\n",
    "Подготовить данные для модели:\n",
    "    \n",
    "   Анализ данных, необходимые корректировки. \n",
    "1. Обработать пропуски. \n",
    "2. Оценить выбросы. \n",
    "3. Корреляция. \n",
    "4. Тест на нормальность распределения.\n",
    "5. Масштабировать данные."
   ]
  },
  {
   "cell_type": "code",
   "execution_count": 42,
   "metadata": {},
   "outputs": [],
   "source": [
    "import pandas as pd\n",
    "import numpy as np\n",
    "on_bad_lines='skip'"
   ]
  },
  {
   "cell_type": "code",
   "execution_count": 43,
   "metadata": {},
   "outputs": [
    {
     "data": {
      "text/html": [
       "<div>\n",
       "<style scoped>\n",
       "    .dataframe tbody tr th:only-of-type {\n",
       "        vertical-align: middle;\n",
       "    }\n",
       "\n",
       "    .dataframe tbody tr th {\n",
       "        vertical-align: top;\n",
       "    }\n",
       "\n",
       "    .dataframe thead th {\n",
       "        text-align: right;\n",
       "    }\n",
       "</style>\n",
       "<table border=\"1\" class=\"dataframe\">\n",
       "  <thead>\n",
       "    <tr style=\"text-align: right;\">\n",
       "      <th></th>\n",
       "      <th>client_id;gender;age;marital_status;job_position;credit_sum;credit_month;tariff_id;score_shk;education;living_region;monthly_income;credit_count;overdue_credit_count;open_account_flg</th>\n",
       "    </tr>\n",
       "  </thead>\n",
       "  <tbody>\n",
       "    <tr>\n",
       "      <th>1;M;;;UMN;59998</th>\n",
       "      <td>00;10;1.6;;GRD; ;30000;1;1;0</td>\n",
       "    </tr>\n",
       "    <tr>\n",
       "      <th>2;F;;MAR;UMN;10889</th>\n",
       "      <td>00;6;1.1;;;;;2;0;0</td>\n",
       "    </tr>\n",
       "    <tr>\n",
       "      <th>3;M;32;MAR;SPC;10728</th>\n",
       "      <td>00;12;1.1;;; ;;5;0;0</td>\n",
       "    </tr>\n",
       "    <tr>\n",
       "      <th>4;F;27;;SPC;12009</th>\n",
       "      <td>09;12;1.1;;; ;;2;0;0</td>\n",
       "    </tr>\n",
       "    <tr>\n",
       "      <th>5;M;45;;SPC;;10;1.1;0</th>\n",
       "      <td>421385;SCH; ;;1;0;0</td>\n",
       "    </tr>\n",
       "    <tr>\n",
       "      <th>6;F;;MAR;SPC;;10;1.1;;SCH; ;30000;0;0;0</th>\n",
       "      <td>NaN</td>\n",
       "    </tr>\n",
       "    <tr>\n",
       "      <th>7;M;34;MAR;SPC;10317</th>\n",
       "      <td>00;6;1.5;;SCH; ;28000;3;0;0</td>\n",
       "    </tr>\n",
       "    <tr>\n",
       "      <th>9;M;23;UNM;SPC;37577</th>\n",
       "      <td>16;12;1.6;;SCH;-   - ;50000;3;0;0</td>\n",
       "    </tr>\n",
       "  </tbody>\n",
       "</table>\n",
       "</div>"
      ],
      "text/plain": [
       "                                        client_id;gender;age;marital_status;job_position;credit_sum;credit_month;tariff_id;score_shk;education;living_region;monthly_income;credit_count;overdue_credit_count;open_account_flg\n",
       "1;M;;;UMN;59998                                               00;10;1.6;;GRD; ;30000;1;1;0                                                                                                                                    \n",
       "2;F;;MAR;UMN;10889                                                      00;6;1.1;;;;;2;0;0                                                                                                                                    \n",
       "3;M;32;MAR;SPC;10728                                                  00;12;1.1;;; ;;5;0;0                                                                                                                                    \n",
       "4;F;27;;SPC;12009                                                     09;12;1.1;;; ;;2;0;0                                                                                                                                    \n",
       "5;M;45;;SPC;;10;1.1;0                                                  421385;SCH; ;;1;0;0                                                                                                                                    \n",
       "6;F;;MAR;SPC;;10;1.1;;SCH; ;30000;0;0;0                                                NaN                                                                                                                                    \n",
       "7;M;34;MAR;SPC;10317                                           00;6;1.5;;SCH; ;28000;3;0;0                                                                                                                                    \n",
       "9;M;23;UNM;SPC;37577                                     16;12;1.6;;SCH;-   - ;50000;3;0;0                                                                                                                                    "
      ]
     },
     "execution_count": 43,
     "metadata": {},
     "output_type": "execute_result"
    }
   ],
   "source": [
    "df = pd.read_csv(\"./credit_train.csv\",on_bad_lines = 'skip', encoding_errors = 'ignore')\n",
    "df\n"
   ]
  }
 ],
 "metadata": {
  "kernelspec": {
   "display_name": "base",
   "language": "python",
   "name": "python3"
  },
  "language_info": {
   "codemirror_mode": {
    "name": "ipython",
    "version": 3
   },
   "file_extension": ".py",
   "mimetype": "text/x-python",
   "name": "python",
   "nbconvert_exporter": "python",
   "pygments_lexer": "ipython3",
   "version": "3.12.7"
  }
 },
 "nbformat": 4,
 "nbformat_minor": 2
}
