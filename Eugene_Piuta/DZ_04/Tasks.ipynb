{
 "cells": [
  {
   "cell_type": "markdown",
   "id": "46db46c3-a594-4686-9818-0a83eaec66df",
   "metadata": {},
   "source": [
    "# Задачи:\n",
    "1.\tОбщее число оценок в файле\n",
    "2.\tОбщее количество пользователей, поставивших оценки\n",
    "3.\tОбщее количество оцененных фильмов\n",
    "4.\tID самого активного пользователя\n",
    "5.\tФильм, собравший наибольшее количество оценок"
   ]
  },
  {
   "cell_type": "code",
   "execution_count": 8,
   "id": "2e0641aa-2c2d-46da-956c-bec25c275785",
   "metadata": {},
   "outputs": [],
   "source": [
    "# импортируем библиотеки numpy и pandas\n",
    "import numpy as np\n",
    "import pandas as pd\n",
    "\n",
    "# Задаем некоторые опции библиотеки pandas, которые \n",
    "# настраивают вывод\n",
    "pd.set_option('display.notebook_repr_html', False)\n",
    "pd.set_option('display.max_columns', 8)\n",
    "pd.set_option('display.max_rows', 10)\n",
    "pd.set_option('display.width', 80)"
   ]
  },
  {
   "cell_type": "code",
   "execution_count": 9,
   "id": "c3b7efa7-a0cf-4641-8585-11441eeaed4b",
   "metadata": {},
   "outputs": [
    {
     "data": {
      "text/plain": [
       "        userId  movieId  rating   timestamp\n",
       "0            1       31     2.5  1260759144\n",
       "1            1     1029     3.0  1260759179\n",
       "2            1     1061     3.0  1260759182\n",
       "3            1     1129     2.0  1260759185\n",
       "4            1     1172     4.0  1260759205\n",
       "...        ...      ...     ...         ...\n",
       "99999      671     6268     2.5  1065579370\n",
       "100000     671     6269     4.0  1065149201\n",
       "100001     671     6365     4.0  1070940363\n",
       "100002     671     6385     2.5  1070979663\n",
       "100003     671     6565     3.5  1074784724\n",
       "\n",
       "[100004 rows x 4 columns]"
      ]
     },
     "execution_count": 9,
     "metadata": {},
     "output_type": "execute_result"
    }
   ],
   "source": [
    "# считываем содержимое файла в объект DataFrame\n",
    "df = pd.read_csv('ratings_small.csv')\n",
    "df"
   ]
  },
  {
   "cell_type": "code",
   "execution_count": 38,
   "id": "5e323fc2-19cc-48e1-9770-45b4ac76a58d",
   "metadata": {},
   "outputs": [
    {
     "name": "stdout",
     "output_type": "stream",
     "text": [
      "Общее число оценок в файле: 100004\n"
     ]
    }
   ],
   "source": [
    "#Общее число оценок в файле\n",
    "print(f\"Общее число оценок в файле: {len(df.rating)}\")"
   ]
  },
  {
   "cell_type": "code",
   "execution_count": 36,
   "id": "0b389913-b5bd-4503-9af0-bbab5d0c9349",
   "metadata": {},
   "outputs": [
    {
     "name": "stdout",
     "output_type": "stream",
     "text": [
      "Общее количество пользователей 671\n"
     ]
    }
   ],
   "source": [
    "#Общее количество пользователей, поставивших оценки\n",
    "print(f\"Общее количество пользователей: {len(df['userId'].unique())}\")"
   ]
  },
  {
   "cell_type": "code",
   "execution_count": 37,
   "id": "1caacd93-bf90-4763-bd49-cda3fad7d57f",
   "metadata": {},
   "outputs": [
    {
     "name": "stdout",
     "output_type": "stream",
     "text": [
      "Общее количество оцененных фильмов: 9066\n"
     ]
    }
   ],
   "source": [
    "#Общее количество оцененных фильмов\n",
    "print(f\"Общее количество оцененных фильмов: {len(df['movieId'].unique())}\")"
   ]
  },
  {
   "cell_type": "code",
   "execution_count": 26,
   "id": "b2e8aca4-2976-438d-b512-473d94614cc5",
   "metadata": {
    "scrolled": true
   },
   "outputs": [
    {
     "data": {
      "text/plain": [
       "        movieId  rating  timestamp\n",
       "userId                            \n",
       "1            20      20         20\n",
       "2            76      76         76\n",
       "3            51      51         51\n",
       "4           204     204        204\n",
       "5           100     100        100\n",
       "...         ...     ...        ...\n",
       "667          68      68         68\n",
       "668          20      20         20\n",
       "669          37      37         37\n",
       "670          31      31         31\n",
       "671         115     115        115\n",
       "\n",
       "[671 rows x 3 columns]"
      ]
     },
     "execution_count": 26,
     "metadata": {},
     "output_type": "execute_result"
    }
   ],
   "source": [
    "#Найдем ID самого активного пользователя\n",
    "#Группируем по userId\n",
    "grouphy = df.groupby(\"userId\").count()\n",
    "grouphy"
   ]
  },
  {
   "cell_type": "code",
   "execution_count": 27,
   "id": "d8d5e0d8-4cc0-4362-97e5-5a3e207a5aa0",
   "metadata": {},
   "outputs": [
    {
     "data": {
      "text/plain": [
       "        movieId  rating  timestamp\n",
       "userId                            \n",
       "547        2391    2391       2391\n",
       "564        1868    1868       1868\n",
       "624        1735    1735       1735\n",
       "15         1700    1700       1700\n",
       "73         1610    1610       1610\n",
       "...         ...     ...        ...\n",
       "296          20      20         20\n",
       "289          20      20         20\n",
       "249          20      20         20\n",
       "221          20      20         20\n",
       "1            20      20         20\n",
       "\n",
       "[671 rows x 3 columns]"
      ]
     },
     "execution_count": 27,
     "metadata": {},
     "output_type": "execute_result"
    }
   ],
   "source": [
    "#Отсоритируем по movieId и найдем первого пользователя(самый активный)\n",
    "sort = grouphy.sort_values(\"movieId\", ascending=False)\n",
    "sort"
   ]
  },
  {
   "cell_type": "code",
   "execution_count": 35,
   "id": "64a2d2fa-3aeb-4045-ac1e-33f28aef3eb8",
   "metadata": {},
   "outputs": [
    {
     "name": "stdout",
     "output_type": "stream",
     "text": [
      "Самый активный пользователь:\n",
      "        movieId  rating  timestamp\n",
      "userId                            \n",
      "547        2391    2391       2391\n"
     ]
    }
   ],
   "source": [
    "print(f\"Самый активный пользователь:\\n\"\n",
    "      f\"{sort.head(1)}\")"
   ]
  },
  {
   "cell_type": "code",
   "execution_count": 39,
   "id": "e720cd28-6c2f-4cdf-824a-631939798662",
   "metadata": {},
   "outputs": [
    {
     "data": {
      "text/plain": [
       "         userId  rating  timestamp\n",
       "movieId                           \n",
       "1           247     247        247\n",
       "2           107     107        107\n",
       "3            59      59         59\n",
       "4            13      13         13\n",
       "5            56      56         56\n",
       "...         ...     ...        ...\n",
       "161944        1       1          1\n",
       "162376        1       1          1\n",
       "162542        1       1          1\n",
       "162672        1       1          1\n",
       "163949        1       1          1\n",
       "\n",
       "[9066 rows x 3 columns]"
      ]
     },
     "execution_count": 39,
     "metadata": {},
     "output_type": "execute_result"
    }
   ],
   "source": [
    "#Найдем фильм, собравший наибольшее количество оценок\n",
    "#Группируем по movieId\n",
    "grouphy_movieId = df.groupby(\"movieId\").count()\n",
    "grouphy_movieId"
   ]
  },
  {
   "cell_type": "code",
   "execution_count": 40,
   "id": "ee4b1300-e4a8-4b4a-a3c6-c915e727ca6e",
   "metadata": {},
   "outputs": [
    {
     "data": {
      "text/plain": [
       "         userId  rating  timestamp\n",
       "movieId                           \n",
       "356         341     341        341\n",
       "296         324     324        324\n",
       "318         311     311        311\n",
       "593         304     304        304\n",
       "260         291     291        291\n",
       "...         ...     ...        ...\n",
       "31956         1       1          1\n",
       "31963         1       1          1\n",
       "31973         1       1          1\n",
       "32022         1       1          1\n",
       "163949        1       1          1\n",
       "\n",
       "[9066 rows x 3 columns]"
      ]
     },
     "execution_count": 40,
     "metadata": {},
     "output_type": "execute_result"
    }
   ],
   "source": [
    "#Отсоритируем по userId\n",
    "sort_movieId = grouphy_movieId.sort_values(\"userId\", ascending=False)\n",
    "sort_movieId"
   ]
  },
  {
   "cell_type": "code",
   "execution_count": 41,
   "id": "ee58d612-4a7f-4d80-991c-ebd235b3696d",
   "metadata": {},
   "outputs": [
    {
     "name": "stdout",
     "output_type": "stream",
     "text": [
      "Фильм, собравший наибольшее количество оценок:\n",
      "         userId  rating  timestamp\n",
      "movieId                           \n",
      "356         341     341        341\n"
     ]
    }
   ],
   "source": [
    "print(f\"Фильм, собравший наибольшее количество оценок:\\n\"\n",
    "      f\"{sort_movieId.head(1)}\")"
   ]
  },
  {
   "cell_type": "markdown",
   "id": "c2c79e51-38fe-42a9-99fe-89616a565a10",
   "metadata": {},
   "source": [
    "#Выводы:\n",
    "1. С помощью pandas и ее методов можно легко группировать и сортировать датафреймы, находя в дальнейшем в них необходимые значения.\n",
    "2. Мы решили все поставленные задачи не использую такие длительные методы решения, как цикл и др."
   ]
  }
 ],
 "metadata": {
  "kernelspec": {
   "display_name": "Python 3 (ipykernel)",
   "language": "python",
   "name": "python3"
  },
  "language_info": {
   "codemirror_mode": {
    "name": "ipython",
    "version": 3
   },
   "file_extension": ".py",
   "mimetype": "text/x-python",
   "name": "python",
   "nbconvert_exporter": "python",
   "pygments_lexer": "ipython3",
   "version": "3.12.7"
  }
 },
 "nbformat": 4,
 "nbformat_minor": 5
}
