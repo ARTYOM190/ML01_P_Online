{
 "cells": [
  {
   "cell_type": "markdown",
   "id": "0f5472db-3fff-4665-a250-1494d807587f",
   "metadata": {},
   "source": [
    "#Задачи:\n",
    "Есть Алфавит, характеристиками которого являются: \n",
    "1. Язык\n",
    "2. Список букв\n",
    "\n",
    "Для Алфавита можно: \n",
    "1. Напечатать все буквы алфавита\n",
    "2. Посчитать количество букв\n",
    "\n",
    "Так же есть Английский алфавит, который обладает следующими свойствами: \n",
    "1. Язык\n",
    "2. Список букв\n",
    "3. Количество букв\n",
    "\n",
    "Для Английского алфавита можно: \n",
    "1. Посчитать количество букв\n",
    "2. Определить, относится ли буква к английскому алфавиту\n",
    "3. Получить пример текста на английском языке\n",
    "\n",
    "\n",
    "Класс Alphabet\n",
    "1. Создайте класс Alphabet\n",
    "2. Создайте метод __init__(), внутри которого будут определены два динамических свойства: 1) lang - язык и 2) letters - список букв. Начальные значения свойств берутся из входных параметров метода.\n",
    "3. Создайте метод print(), который выведет в консоль буквы алфавита\n",
    "4. Создайте метод letters_num(), который вернет количество букв в алфавите\n",
    "\n",
    "Класс EngAlphabet\n",
    "1. Создайте класс EngAlphabet путем наследования от класса Alphabet\n",
    "2. Создайте метод __init__(), внутри которого будет вызываться родительский метод __init__(). В качестве параметров ему будут передаваться обозначение языка(например, 'En') и строка, состоящая из всех букв алфавита(можно воспользоваться свойством ascii_uppercase из модуля string).\n",
    "3. Добавьте приватное статическое свойство __letters_num, которое будет хранить количество букв в алфавите.\n",
    "4. Создайте метод is_en_letter(), который будет принимать букву в качестве параметра и определять, относится ли эта буква к английскому алфавиту.\n",
    "5. Переопределите метод letters_num() - пусть в текущем классе классе он будет возвращать значение свойства __letters_num.\n",
    "6. Создайте статический метод example(), который будет возвращать пример текста на английском языке.\n"
   ]
  },
  {
   "cell_type": "code",
   "execution_count": 115,
   "id": "2442fcbe-d18e-4841-8c25-689622f2b91b",
   "metadata": {},
   "outputs": [],
   "source": [
    "import string\n",
    "# Создадим класс Alphabet и добавим в него методы __init__, print, letters_num\n",
    "class Alphabet:\n",
    "    def __init__(self, lang, letters):\n",
    "        self.lang = lang\n",
    "        self.letters = letters\n",
    "        \n",
    "    def print(self):\n",
    "        print(f\"{self.letters}\")\n",
    "                \n",
    "    def letters_num(self):\n",
    "        print(f\"Количество букв в {self.lang}: {len(self.letters)}\")"
   ]
  },
  {
   "cell_type": "code",
   "execution_count": 147,
   "id": "e94693ce-4a3d-49c4-b453-625933571255",
   "metadata": {},
   "outputs": [],
   "source": [
    "# Создадим класс EngAlphabet, наследник класса Alphabet и добавим в него методы __init__, is_en_letter, example\n",
    "class EngAlphabet(Alphabet):\n",
    "    __letters = string.ascii_uppercase\n",
    "    __letters_num = len(__letters)\n",
    "    \n",
    "    def __init__(self):\n",
    "        super().__init__(\"En\", letters)\n",
    "            \n",
    "    def is_en_letter(self, letter):   \n",
    "        x = False\n",
    "        if letter in self.letters:\n",
    "             x = True\n",
    "        return x\n",
    "# Переопределим метод letters_num\n",
    "    def letters_num(self):\n",
    "        print(f\"Количество букв в {self.lang}: {EngAlphabet.__letters_num}\")\n",
    "\n",
    "    @staticmethod\n",
    "    def example():\n",
    "        print(\"abracadabra\")"
   ]
  },
  {
   "cell_type": "code",
   "execution_count": 148,
   "id": "761f5723-69de-4195-83e0-0fdd11f445f2",
   "metadata": {
    "scrolled": true
   },
   "outputs": [
    {
     "name": "stdout",
     "output_type": "stream",
     "text": [
      "ABCDEFGHIJKLMNOPQRSTUVWXYZ\n"
     ]
    }
   ],
   "source": [
    "#Создадим объект класса EngAlphabet и вызовем его метод print\n",
    "en = EngAlphabet()\n",
    "en.print()"
   ]
  },
  {
   "cell_type": "code",
   "execution_count": 149,
   "id": "b7419424-9d64-42ce-8e6a-97ce846545d3",
   "metadata": {},
   "outputs": [
    {
     "name": "stdout",
     "output_type": "stream",
     "text": [
      "Количество букв в En: 26\n"
     ]
    }
   ],
   "source": [
    "# Запросим количество букв объекта en\n",
    "en.letters_num()"
   ]
  },
  {
   "cell_type": "code",
   "execution_count": 150,
   "id": "ad75e28c-9e9b-44e6-8e02-e0c0b129b9d2",
   "metadata": {},
   "outputs": [
    {
     "name": "stdout",
     "output_type": "stream",
     "text": [
      "True\n",
      "False\n"
     ]
    }
   ],
   "source": [
    "#Проверим являются ли буквы F и Щ буквами английского языка\n",
    "print(en.is_en_letter(\"F\"))\n",
    "print(en.is_en_letter(\"Щ\"))"
   ]
  },
  {
   "cell_type": "code",
   "execution_count": 151,
   "id": "2a461d2e-6827-4311-9eac-bd30e69fd25f",
   "metadata": {},
   "outputs": [
    {
     "name": "stdout",
     "output_type": "stream",
     "text": [
      "abracadabra\n"
     ]
    }
   ],
   "source": [
    "#Выведем пример текста на английском языке\n",
    "EngAlphabet.example()"
   ]
  },
  {
   "cell_type": "markdown",
   "id": "31ed8ebd-8ce8-45ce-abd5-587acfebaeb7",
   "metadata": {},
   "source": [
    "#Выводы:\n",
    "Мы создали родительский класс, его наследника и добавили ему собственные методы.\n",
    "Переопределили некоторые методы родительского класса."
   ]
  }
 ],
 "metadata": {
  "kernelspec": {
   "display_name": "Python 3 (ipykernel)",
   "language": "python",
   "name": "python3"
  },
  "language_info": {
   "codemirror_mode": {
    "name": "ipython",
    "version": 3
   },
   "file_extension": ".py",
   "mimetype": "text/x-python",
   "name": "python",
   "nbconvert_exporter": "python",
   "pygments_lexer": "ipython3",
   "version": "3.12.7"
  }
 },
 "nbformat": 4,
 "nbformat_minor": 5
}
