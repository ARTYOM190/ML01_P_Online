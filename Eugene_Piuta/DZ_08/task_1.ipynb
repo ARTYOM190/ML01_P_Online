{
 "cells": [
  {
   "cell_type": "markdown",
   "metadata": {},
   "source": [
    "#Задача:\n",
    "1 - Снять видео на камеру (любую, можно телефона). Выполнить кручение видео с скоростью 10 градусов в секунду относительно центра (в любую сторону). \n",
    "2 - Видео после выполнения п.1 и вернуть его в исходное состояние. \n",
    "3 - Сконвертируйте видео в mp4 при помощи ffmpeg"
   ]
  },
  {
   "cell_type": "code",
   "execution_count": 14,
   "metadata": {},
   "outputs": [],
   "source": [
    "import cv2\n",
    "import numpy as np\n",
    "\n",
    "img = cv2.imread(\"image.jpg\")"
   ]
  },
  {
   "cell_type": "code",
   "execution_count": 3,
   "metadata": {},
   "outputs": [],
   "source": [
    "#\n",
    "def rotate(img_param, angle):\n",
    "          height, width = img.shape[:2]\n",
    "          point = (width // 2, height //2)\n",
    "          \n",
    "          mat = cv2.getRotationMatrix2D(point, angle, 1)\n",
    "          return cv2.warpAffine(img_param, mat, (width, height))"
   ]
  },
  {
   "cell_type": "code",
   "execution_count": 4,
   "metadata": {},
   "outputs": [],
   "source": [
    "#Изображение\n",
    "img = rotate(img, 1)\n",
    "cv2.imshow(\"Result\", img)\n",
    "cv2.waitKey(0)\n",
    "cv2.destroyAllWindows() "
   ]
  },
  {
   "cell_type": "code",
   "execution_count": 8,
   "metadata": {},
   "outputs": [
    {
     "name": "stdout",
     "output_type": "stream",
     "text": [
      "480.0\n",
      "640.0\n",
      "30.0\n"
     ]
    }
   ],
   "source": [
    "#Настройки видео\n",
    "cap = cv2.VideoCapture(0)\n",
    "print(cap.get(cv2.CAP_PROP_FRAME_HEIGHT))\n",
    "print(cap.get(cv2.CAP_PROP_FRAME_WIDTH))\n",
    "print(cap.get(cv2.CAP_PROP_FPS))\n",
    "#cap.set(cv2.CAP_PROP_FRAME_WIDTH, 1280)\n",
    "#cap.set(cv2.CAP_PROP_FRAME_HEIGHT, 720)\n",
    "#cap.set(cv2.CAP_PROP_FPS, 25)№\n"
   ]
  },
  {
   "cell_type": "code",
   "execution_count": 6,
   "metadata": {},
   "outputs": [],
   "source": [
    "#Захват видео\n",
    "while True:\n",
    "    ret, frame = cap.read()\n",
    "    if not ret:\n",
    "        break\n",
    "    # Повернул изображение на 180 градусов, за это отвечает флаг - 1\n",
    "    #cv2.rectangle(frame, (100,100), (200,200), (255,0,0), 5)\n",
    "    #cv2.imshow('flip frame', cv2.flip(frame, 1))    \n",
    "    cv2.imshow('frame', frame)\n",
    "    \n",
    "    # ВОТ НА ЭТУ КОНСТРУКЦИЮ СТОИТ ОБРАТИТЬ ВНИМАНИЕ cv2.waitKey(1) & 0xFF - побитовая операция and \n",
    "    # (0100 and 1111 = 0100) по сути тут мы блокируем возможность получения символа с кодировкой ord() \n",
    "    # выше 255 (ето рекомендация opencv), а также обозначаем, что нажатие 'q' закроет все окна\n",
    "    # (раскладка английская иначе умрет кернел, потом мы решим эту проблему заменой на esc)\n",
    "    p = cv2.waitKey(10) & 0xFF\n",
    "    #print(p)\n",
    "    if p == ord('q'):\n",
    "        break\n",
    "    if p == ord('w'):\n",
    "        print(\"w\"*50)\n",
    "    if p == ord(\"f\"):\n",
    "        cv2.imwrite('1.png',frame)\n",
    "    \n",
    "cap.release()\n",
    "cv2.destroyAllWindows()"
   ]
  },
  {
   "cell_type": "code",
   "execution_count": 22,
   "metadata": {},
   "outputs": [],
   "source": [
    "import cv2\n",
    "import numpy as np\n",
    "cap = cv2.VideoCapture(0)\n",
    "fourcc = cv2.VideoWriter_fourcc(*'XVID')\n",
    "width = cap.get(cv2.CAP_PROP_FRAME_WIDTH)\n",
    "height = cap.get(cv2.CAP_PROP_FRAME_HEIGHT)\n",
    "fps=cap.get(cv2.CAP_PROP_FPS)\n"
   ]
  },
  {
   "cell_type": "code",
   "execution_count": 21,
   "metadata": {},
   "outputs": [],
   "source": [
    "#Запись видео\n",
    "\n",
    "out = cv2.VideoWriter('output1.avi', fourcc, fps, (int(width),int(height)))\n",
    "\n",
    "while True:\n",
    "\n",
    "    ret, frame = cap.read()\n",
    "    if not ret:\n",
    "        break\n",
    "    out.write(frame)\n",
    "    cv2.imshow('frame', frame)\n",
    "    \n",
    "    if cv2.waitKey(1) & 0xFF == ord('q'):\n",
    "        break\n",
    "\n",
    "cap.release()\n",
    "out.release()\n",
    "cv2.destroyAllWindows()"
   ]
  },
  {
   "cell_type": "code",
   "execution_count": 23,
   "metadata": {},
   "outputs": [],
   "source": [
    "cap2 = cv2.VideoCapture('output1.avi')\n",
    "#out2 = cv2.VideoWriter('output2.avi', fourcc, fps, (int(width),int(height)))\n",
    "while True:\n",
    "\n",
    "    ret, frame = cap2.read()\n",
    "    if not ret:\n",
    "        break\n",
    "    #out.write(frame)\n",
    "    frame = rotate(frame, 1)\n",
    "    cv2.imshow('frame', frame)\n",
    "    \n",
    "    if cv2.waitKey(1) & 0xFF == ord('q'):\n",
    "        break\n",
    "\n",
    "cap2.release()\n",
    "#out2.release()\n",
    "cv2.destroyAllWindows()\n",
    "\n"
   ]
  }
 ],
 "metadata": {
  "kernelspec": {
   "display_name": "base",
   "language": "python",
   "name": "python3"
  },
  "language_info": {
   "codemirror_mode": {
    "name": "ipython",
    "version": 3
   },
   "file_extension": ".py",
   "mimetype": "text/x-python",
   "name": "python",
   "nbconvert_exporter": "python",
   "pygments_lexer": "ipython3",
   "version": "3.12.7"
  }
 },
 "nbformat": 4,
 "nbformat_minor": 2
}
