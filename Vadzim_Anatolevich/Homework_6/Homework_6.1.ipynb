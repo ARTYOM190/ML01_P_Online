{
 "cells": [
  {
   "cell_type": "markdown",
   "id": "56ca5335-7b0d-44d1-8b6b-8666d8825c3b",
   "metadata": {},
   "source": [
    "# Цель"
   ]
  },
  {
   "cell_type": "markdown",
   "id": "30005abe-1774-4a26-9a47-69484786928e",
   "metadata": {},
   "source": [
    "Напишите декоратор, оптимизирующий работу декорируемой функции. Декоратор должен сохранять результат работы функции на ближайшие три запуска и вместо выполнения функции возвращать сохранённый результат. \n",
    "После трёх запусков функция должна вызываться вновь, а результат работы функции — вновь кешироваться."
   ]
  },
  {
   "cell_type": "markdown",
   "id": "37bc3cd6-1e04-4fde-bda2-b1b16dd2530d",
   "metadata": {},
   "source": [
    "Напишем программу, содержащую функцию кэша, содержащую функцию декоратора:"
   ]
  },
  {
   "cell_type": "code",
   "execution_count": 15,
   "id": "758c8faa-4aa3-4ebf-be34-367db74f5d54",
   "metadata": {},
   "outputs": [],
   "source": [
    "def cache(limit=3):\n",
    "    def decorator_function(func):\n",
    "        cache = [];\n",
    "\n",
    "        def cache_function(*args):\n",
    "            if args in cache:\n",
    "                result = cache[cache.index(args)];\n",
    "                print(\"Значение функции есть в кэше. Возврат значения из кэша:\");\n",
    "                return result;\n",
    "            result = func(*args);\n",
    "            print(f\"Вычисление функции: {result}\");\n",
    "            if len(cache) < limit:\n",
    "                cache.append(args);\n",
    "            else:\n",
    "                cache.pop(0);\n",
    "                cache.append(args);\n",
    "            print(f\"Значение функции добавлено в кэш: {result}\");\n",
    "            return result;\n",
    "        return cache_function;\n",
    "    return decorator_function;"
   ]
  },
  {
   "cell_type": "markdown",
   "id": "8c7c8996-8548-4d58-85cc-bde36bc2ec20",
   "metadata": {},
   "source": [
    "Напишем функцию с декоратором:"
   ]
  },
  {
   "cell_type": "code",
   "execution_count": 18,
   "id": "f5fa1791-0da5-4cf8-9d63-c78b89b164e6",
   "metadata": {},
   "outputs": [],
   "source": [
    "@cache(3)\n",
    "def function(x):\n",
    "    return x;"
   ]
  },
  {
   "cell_type": "markdown",
   "id": "a44e96b9-3605-440c-a402-bbb0bf5eb70b",
   "metadata": {},
   "source": [
    "Вызовем ряд функции \"function\" для проверки работы программы:"
   ]
  },
  {
   "cell_type": "code",
   "execution_count": 21,
   "id": "4aa6de61-f4ad-4de0-8fd9-db72508afa94",
   "metadata": {},
   "outputs": [
    {
     "name": "stdout",
     "output_type": "stream",
     "text": [
      "Вычисление функции: 2\n",
      "Значение функции добавлено в кэш: 2\n",
      "2\n",
      "Значение функции есть в кэше. Возврат значения из кэша:\n",
      "(2,)\n",
      "Вычисление функции: 3\n",
      "Значение функции добавлено в кэш: 3\n",
      "3\n",
      "Значение функции есть в кэше. Возврат значения из кэша:\n",
      "(3,)\n",
      "Вычисление функции: 5\n",
      "Значение функции добавлено в кэш: 5\n",
      "5\n",
      "Значение функции есть в кэше. Возврат значения из кэша:\n",
      "(2,)\n",
      "Вычисление функции: 6\n",
      "Значение функции добавлено в кэш: 6\n",
      "6\n",
      "Значение функции есть в кэше. Возврат значения из кэша:\n",
      "(3,)\n",
      "Вычисление функции: 2\n",
      "Значение функции добавлено в кэш: 2\n",
      "2\n"
     ]
    }
   ],
   "source": [
    "print(function(2))  \n",
    "print(function(2));  \n",
    "print(function(3)); \n",
    "print(function(3)); \n",
    "print(function(5)); \n",
    "print(function(2));  \n",
    "print(function(6));  \n",
    "print(function(3));  \n",
    "print(function(2));"
   ]
  },
  {
   "cell_type": "markdown",
   "id": "bd3de817-4e18-4a33-8930-efe5402ea2ee",
   "metadata": {},
   "source": [
    "# Выводы"
   ]
  },
  {
   "cell_type": "markdown",
   "id": "65211b39-d79d-42dc-9b6b-e5e49afbf483",
   "metadata": {},
   "source": [
    "Цель работы была выполнена."
   ]
  }
 ],
 "metadata": {
  "kernelspec": {
   "display_name": "Python 3 (ipykernel)",
   "language": "python",
   "name": "python3"
  },
  "language_info": {
   "codemirror_mode": {
    "name": "ipython",
    "version": 3
   },
   "file_extension": ".py",
   "mimetype": "text/x-python",
   "name": "python",
   "nbconvert_exporter": "python",
   "pygments_lexer": "ipython3",
   "version": "3.12.2"
  }
 },
 "nbformat": 4,
 "nbformat_minor": 5
}
