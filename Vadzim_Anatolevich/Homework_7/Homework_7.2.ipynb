{
 "cells": [
  {
   "cell_type": "markdown",
   "id": "9ada5189-f3f1-4552-9047-34051507c0bb",
   "metadata": {},
   "source": [
    "# Задача"
   ]
  },
  {
   "cell_type": "markdown",
   "id": "9637e254-e463-49cb-b859-1be9f4587f57",
   "metadata": {},
   "source": [
    "Есть данные о том, что тест на некоторую болезнь дает результат с вероятностью в 98%. Число больных в популяции - 1%. \n",
    "С какой вероятностью положительный тест будет положительным при случайном тестировании? "
   ]
  },
  {
   "cell_type": "markdown",
   "id": "0092beeb-7bdc-42c9-bef7-59de79328ac0",
   "metadata": {},
   "source": [
    "# Решение"
   ]
  },
  {
   "cell_type": "markdown",
   "id": "0a652af6-f601-4eb4-adb0-b2a47cf0ef69",
   "metadata": {},
   "source": [
    "Для решения задачи используем теорему Байеса. Используем следующие уравнения для решения задачи:"
   ]
  },
  {
   "cell_type": "markdown",
   "id": "4f9d300b-bc4c-4304-be74-53263a43f355",
   "metadata": {},
   "source": [
    "$$ P(A|B) = \\frac{P(B|A) \\cdot P(A)}{P(B)}; $$\n",
    "\n",
    "\n",
    "$$ P(B) = P(B|A) \\cdot P(A) + P(B|\\neg A) \\cdot P(\\neg A), $$\n"
   ]
  },
  {
   "cell_type": "markdown",
   "id": "29876c91-800c-4be6-b4a9-244e7a0975f3",
   "metadata": {},
   "source": [
    "где P(B|A) - вероятность положительного теста при болезни тестируемого, P(A) - вероятность быть больным, P(B|┐A) - вероятность положительного теста у тестируемого при отсутствии болезни (ложноположительный тест)."
   ]
  },
  {
   "cell_type": "markdown",
   "id": "6918394e-96a6-4e09-8d97-09567e6ba39d",
   "metadata": {},
   "source": [
    "По условию:"
   ]
  },
  {
   "cell_type": "markdown",
   "id": "80216564-9e12-405a-9b4b-41f6909da892",
   "metadata": {},
   "source": [
    "P(A) = 0.01,\n",
    "P(B|A) = 0.98,\n",
    "P(B|┐A) = 0.02."
   ]
  },
  {
   "cell_type": "markdown",
   "id": "8b945869-9497-4d70-b688-6b0c6eab2564",
   "metadata": {},
   "source": [
    "Реализуем решение данной задачи на Python:"
   ]
  },
  {
   "cell_type": "code",
   "execution_count": 21,
   "id": "cc7679d4-3c28-4d7c-99fe-ae558c4c6d2e",
   "metadata": {},
   "outputs": [
    {
     "name": "stdout",
     "output_type": "stream",
     "text": [
      "Вероятность: 33.11%\n"
     ]
    }
   ],
   "source": [
    "p_a = 0.01;\n",
    "p_b_a = 0.98;\n",
    "p_b_n_a = 0.02;  \n",
    "p_n_a = 1 - p_a;\n",
    "\n",
    "p_b = p_b_a * p_a + p_b_n_a * p_n_a;\n",
    "p_a_g_b = (p_b_a * p_a) / p_b;\n",
    "\n",
    "print(f'Вероятность: {p_a_g_b * 100:.2f}%');"
   ]
  },
  {
   "cell_type": "markdown",
   "id": "4df2d0c6-e5f9-4be2-8473-528997ba8b6e",
   "metadata": {},
   "source": [
    "# Выводы"
   ]
  },
  {
   "cell_type": "markdown",
   "id": "edb21dc9-5e08-4cf9-b711-2da8fe6c8ab7",
   "metadata": {},
   "source": [
    "Цель работы выполнена."
   ]
  }
 ],
 "metadata": {
  "kernelspec": {
   "display_name": "Python 3 (ipykernel)",
   "language": "python",
   "name": "python3"
  },
  "language_info": {
   "codemirror_mode": {
    "name": "ipython",
    "version": 3
   },
   "file_extension": ".py",
   "mimetype": "text/x-python",
   "name": "python",
   "nbconvert_exporter": "python",
   "pygments_lexer": "ipython3",
   "version": "3.12.7"
  }
 },
 "nbformat": 4,
 "nbformat_minor": 5
}
