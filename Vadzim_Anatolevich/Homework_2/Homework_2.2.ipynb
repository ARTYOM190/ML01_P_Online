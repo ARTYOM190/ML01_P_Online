{
 "cells": [
  {
   "cell_type": "markdown",
   "id": "24d24eca-b43c-4116-9e8a-243d99487c39",
   "metadata": {},
   "source": [
    "Цель: написать программу, которая определяет действительные корни квадратного уравнения вида a*x(^2)+b*x+c=0. Если корней нет, то программа выводит соответствующее сообщение. Входные данные для программы: коэффициенты a, b ,c. "
   ]
  },
  {
   "cell_type": "markdown",
   "id": "3b7af1d8-03fb-401f-8a0b-c333480c4397",
   "metadata": {},
   "source": [
    "Определение функции нахождения корней квадратного уравнения:"
   ]
  },
  {
   "cell_type": "code",
   "execution_count": 1,
   "id": "3aad802b-88ea-41d7-8d01-16f400059b15",
   "metadata": {},
   "outputs": [],
   "source": [
    "def root_calculation(c_a, c_b, c_c):\n",
    "\n",
    "    \"\"\"\n",
    "    Функция, которая определяет наличие корней у квадратного уравнения вида: a*x(^2)+b*x+c=0.\n",
    "    Принимает на вход значения коэффициентов a, b, c квадратного уравнения.\n",
    "    Показывает результат в виде значений корней квадратного уравнения либо сообщает, что корней нет. \n",
    "    \"\"\"\n",
    "    \n",
    "    D = (c_b * c_b)-(4 * c_a * c_c);\n",
    "    if D > 0:\n",
    "        root_1 = (-c_b + (D ** (0.5))) / (2 * c_a);\n",
    "        root_2 = (-c_b - (D ** (0.5))) / (2 * c_a);\n",
    "        print(f\"Квадратное уравнение имеет два корня: {root_1:.3f}, {root_2:.3f}\");\n",
    "    if D == 0:\n",
    "        root_0 = (-c_b)/(2 * c_a);\n",
    "        print(f\"Квадратное уравнение имеет один корень кратности 2: {root_0:.3f}\");\n",
    "    if D < 0:\n",
    "        print(\"Квадратное уравнение не имеет корней\");\n",
    "    return 0;"
   ]
  },
  {
   "cell_type": "markdown",
   "id": "c22728d0-68ca-47f9-a3ec-9fe8cb7084ad",
   "metadata": {},
   "source": [
    "Вывод начальных условий работы программы:"
   ]
  },
  {
   "cell_type": "code",
   "execution_count": 3,
   "id": "eb0d0986-bd9c-4f7d-9467-5b9b6b45a734",
   "metadata": {},
   "outputs": [
    {
     "name": "stdout",
     "output_type": "stream",
     "text": [
      "Введите значения коэффициентов a, b, c квадратного уравнения вида: a*x(^2)+b*x+c=0\n"
     ]
    }
   ],
   "source": [
    "print(\"Введите значения коэффициентов a, b, c квадратного уравнения вида: a*x(^2)+b*x+c=0\");"
   ]
  },
  {
   "cell_type": "markdown",
   "id": "7fa4e76c-14be-46f9-94d0-5c49070d83e8",
   "metadata": {},
   "source": [
    "Ввод значений коэффициентов квадратного уравнения:"
   ]
  },
  {
   "cell_type": "code",
   "execution_count": 5,
   "id": "d1437129-3b85-4d7b-9fc6-5e864d274c74",
   "metadata": {},
   "outputs": [
    {
     "name": "stdin",
     "output_type": "stream",
     "text": [
      "Введите значение коэффициента a:  2\n",
      "Введите значение коэффициента b:  -4\n",
      "Введите значение коэффициента c:  2\n"
     ]
    }
   ],
   "source": [
    "a = float(input(\"Введите значение коэффициента a: \"));\n",
    "b = float(input(\"Введите значение коэффициента b: \"));\n",
    "c = float(input(\"Введите значение коэффициента c: \")); "
   ]
  },
  {
   "cell_type": "markdown",
   "id": "4a4f0679-2606-4362-a75e-f923197058be",
   "metadata": {},
   "source": [
    "Вызов функции нахождения корней квадратного уравнения:"
   ]
  },
  {
   "cell_type": "code",
   "execution_count": 7,
   "id": "148b57ce-1827-4afa-9bce-610b37840aa4",
   "metadata": {},
   "outputs": [
    {
     "name": "stdout",
     "output_type": "stream",
     "text": [
      "Квадратное уравнение имеет один корень кратности 2: 1.000\n"
     ]
    }
   ],
   "source": [
    "root_calculation(a, b, c);"
   ]
  }
 ],
 "metadata": {
  "kernelspec": {
   "display_name": "Python 3 (ipykernel)",
   "language": "python",
   "name": "python3"
  },
  "language_info": {
   "codemirror_mode": {
    "name": "ipython",
    "version": 3
   },
   "file_extension": ".py",
   "mimetype": "text/x-python",
   "name": "python",
   "nbconvert_exporter": "python",
   "pygments_lexer": "ipython3",
   "version": "3.12.7"
  }
 },
 "nbformat": 4,
 "nbformat_minor": 5
}
