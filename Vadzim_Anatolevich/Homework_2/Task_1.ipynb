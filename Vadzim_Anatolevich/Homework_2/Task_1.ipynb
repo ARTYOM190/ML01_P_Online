{
 "cells": [
  {
   "cell_type": "markdown",
   "id": "100c13ad-9861-41af-af26-e8a1f6c76506",
   "metadata": {},
   "source": [
    "Цель: напишите программу, которая рассчитывает расход топлива на маршрут. На вход программы подается длина маршрута и расход топлива на 100 километров. Используйте try catch (проверка что пользователь ввел число>0). "
   ]
  },
  {
   "cell_type": "markdown",
   "id": "b4353402-1f83-4385-824c-8636608a1eac",
   "metadata": {},
   "source": [
    "Начальные значения длины пути и расхода топлива для конструкции try-except:"
   ]
  },
  {
   "cell_type": "code",
   "execution_count": 16,
   "id": "a3fc7dac-9964-416b-a847-92d38fb2f4e7",
   "metadata": {},
   "outputs": [],
   "source": [
    "path_length = 0;\n",
    "fuel_consumption = 0;"
   ]
  },
  {
   "cell_type": "markdown",
   "id": "5de1d2ab-a49d-48f1-9d0c-11a8b6afbb1e",
   "metadata": {},
   "source": [
    "Ввод значений длины пути и расхода топлива (проверка правильности введенных величин осуществляется применением конструкции try-except):"
   ]
  },
  {
   "cell_type": "code",
   "execution_count": 19,
   "id": "54f9bb19-9d15-4a51-b418-fb79692b1f28",
   "metadata": {},
   "outputs": [
    {
     "name": "stdin",
     "output_type": "stream",
     "text": [
      "Введите длину маршрута в км:  -10\n"
     ]
    },
    {
     "name": "stdout",
     "output_type": "stream",
     "text": [
      "Длина маршрута не может быть отрицательной величиной или равнятся нулю!\n"
     ]
    },
    {
     "name": "stdin",
     "output_type": "stream",
     "text": [
      "Введите длину маршрута в км:  100\n",
      "Введите расход топлива на 100 км пути в литрах:  -2\n"
     ]
    },
    {
     "name": "stdout",
     "output_type": "stream",
     "text": [
      "Величина расхода топлива не может быть отрицательной величиной или равнятся нулю!\n"
     ]
    },
    {
     "name": "stdin",
     "output_type": "stream",
     "text": [
      "Введите расход топлива на 100 км пути в литрах:  5\n"
     ]
    }
   ],
   "source": [
    "while path_length <= 0:\n",
    "    try:        \n",
    "        path_length = float(input(\"Введите длину маршрута в км: \"));\n",
    "        if path_length <= 0:\n",
    "            print(\"Длина маршрута не может быть отрицательной величиной или равнятся нулю!\");\n",
    "    except:\n",
    "        continue;\n",
    "while fuel_consumption <= 0:\n",
    "     try:        \n",
    "         fuel_consumption = float(input(\"Введите расход топлива на 100 км пути в литрах: \"));\n",
    "         if fuel_consumption <= 0:\n",
    "             print(\"Величина расхода топлива не может быть отрицательной величиной или равнятся нулю!\");\n",
    "     except:\n",
    "         continue;     "
   ]
  },
  {
   "cell_type": "markdown",
   "id": "20d3b2ff-885a-45dc-b539-096b78786149",
   "metadata": {},
   "source": [
    "Вычисление количества потраченого топлива:"
   ]
  },
  {
   "cell_type": "code",
   "execution_count": 22,
   "id": "9e450f94-b25f-4b9b-bf4d-6269956d32cd",
   "metadata": {},
   "outputs": [],
   "source": [
    "fuel_use = (path_length * fuel_consumption)/100;"
   ]
  },
  {
   "cell_type": "markdown",
   "id": "4e89c468-d1e7-4915-b6e5-b89971a5f904",
   "metadata": {},
   "source": [
    "Вывод результата:"
   ]
  },
  {
   "cell_type": "code",
   "execution_count": 27,
   "id": "31cc0eaf-9093-4bf0-a2a0-a52d6b20e91c",
   "metadata": {},
   "outputs": [
    {
     "name": "stdout",
     "output_type": "stream",
     "text": [
      "Количество топлива, затраченного на 100.0 км пути, при расходе 5.0 л/100 км, составляет: 5.00 л.\n"
     ]
    }
   ],
   "source": [
    "print(\"Количество топлива, затраченного на\", path_length, \"км пути, при расходе\", fuel_consumption, f\"л/100 км, составляет: {fuel_use:.2f} л.\");"
   ]
  }
 ],
 "metadata": {
  "kernelspec": {
   "display_name": "Python 3 (ipykernel)",
   "language": "python",
   "name": "python3"
  },
  "language_info": {
   "codemirror_mode": {
    "name": "ipython",
    "version": 3
   },
   "file_extension": ".py",
   "mimetype": "text/x-python",
   "name": "python",
   "nbconvert_exporter": "python",
   "pygments_lexer": "ipython3",
   "version": "3.12.7"
  }
 },
 "nbformat": 4,
 "nbformat_minor": 5
}
