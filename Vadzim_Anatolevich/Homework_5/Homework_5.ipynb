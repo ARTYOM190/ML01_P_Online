{
 "cells": [
  {
   "cell_type": "markdown",
   "id": "19c99e8f-3068-4b42-ae3c-5347628ec42d",
   "metadata": {},
   "source": [
    "## Цель работы"
   ]
  },
  {
   "cell_type": "markdown",
   "id": "f1809c70-9243-4047-abe1-c4e74ab90d46",
   "metadata": {},
   "source": [
    "        • Есть алфавит, характеристиками которого являются: \n",
    "          1. Язык;\n",
    "          2. Список букв.\n",
    "        • Для алфавита можно:\n",
    "          1. Напечатать все буквы алфавита;\n",
    "          2. Посчитать количество букв.\n",
    "        • Так же есть английский алфавит, который обладает следующими свойствами: \n",
    "          1. Язык;\n",
    "          2. Список букв;\n",
    "          3. Количество букв.\n",
    "        • Для английского алфавита можно: \n",
    "          1. Посчитать количество букв;\n",
    "          2. Определить, относится ли буква к английскому алфавиту;\n",
    "          3. Получить пример текста на английском языке.\n",
    "        Программу необходимо выполнить на языке программирования Pyhon."
   ]
  },
  {
   "cell_type": "markdown",
   "id": "2b5da6f2-f9da-42b7-a41c-284191e9d8dc",
   "metadata": {},
   "source": [
    "## Дополнительные задачи"
   ]
  },
  {
   "cell_type": "markdown",
   "id": "55b812f9-d6e4-4513-b29b-84058ad453c8",
   "metadata": {},
   "source": [
    "        • Код должен содержать приватное статическую переменную \"__letters_num\", которая будет хранить количество букв в алфавите.\n",
    "        • Код должен содержать статический метод \"example()\", который будет возвращать пример текста на английском языке.\n",
    "        • Необходимо провести ряд тестов написанного кода:\n",
    "          1. Создать объект класса EngAlphabet;\n",
    "          2. Напечатать буквы алфавита для этого объекта;\n",
    "          3. Вывести количество букв в алфавите;\n",
    "          4. Проверить, относится ли буква \"F\" к английскому алфавиту;\n",
    "          5. Проверить, относится ли буква \"Щ\" к английскому алфавиту;\n",
    "          6. Вывести пример текста на английском языке."
   ]
  },
  {
   "cell_type": "markdown",
   "id": "108d4bd6-01a1-47e2-8efe-368acfb6bcb8",
   "metadata": {},
   "source": [
    "# Решение задачи"
   ]
  },
  {
   "cell_type": "markdown",
   "id": "2b818dca-d402-4d84-b631-f4d2184211ad",
   "metadata": {},
   "source": [
    "        Импортируем модуль \"string\":"
   ]
  },
  {
   "cell_type": "code",
   "execution_count": 141,
   "id": "7275f00e-ed0f-4d69-b722-40dbb752e90c",
   "metadata": {},
   "outputs": [],
   "source": [
    "import string;"
   ]
  },
  {
   "cell_type": "markdown",
   "id": "c3962669-1092-4940-9010-4bfea163e7df",
   "metadata": {},
   "source": [
    "        Создадим класс \"Alphabet\", конструктор которого будет принимать на вход два параметра: \"lang\" - язык алфавита, \"letters\" - буквы алфавита. Также внутри класса определим метод \"print()\", который будет выводить в консоль буквы алфавита и метод \"letters_num()\", который выводит в консоль количество букв в алфавите и возвращает длину строки, состоящей из букв алфавита:"
   ]
  },
  {
   "cell_type": "code",
   "execution_count": 144,
   "id": "c08ef7bd-ced3-4fa8-8775-c64fa2b68258",
   "metadata": {},
   "outputs": [],
   "source": [
    "class Alphabet:\n",
    "    def __init__(self, lang, letters):\n",
    "        self.lang = lang;\n",
    "        self.letters = letters;\n",
    "    def print(self):\n",
    "        print(f\"{self.lang} alphabet letters:\", \", \".join(self.letters));\n",
    "    def letters_num(self):\n",
    "        print(\"Letters number in alphabet:\", len(self.letters));\n",
    "        return len(self.letters);   "
   ]
  },
  {
   "cell_type": "markdown",
   "id": "68a88b5b-59be-4006-8c5d-ac75fb8c8dbc",
   "metadata": {},
   "source": [
    "        Создадим класс \"EngAlphabet\", который будет наследовать класс \"Alphabet\". Внутри класса определим конструктор, принимающий на вход значение обозначения языка (в данном случае строку \"ENG\") и строку, в которую входят все буквы алфавита (реализовано при помощи вызова предопределенной константы \"ascii_uppercase\" из модуля \"string\", которая содержит в себе все буквы из набора ASCII в верхнем регистре). Также конструктор должен быть способен вызывать методы родительского класса, что можно реализовать при помощи функции \"super()\". Определим метод \"is_en_letter()\", который проверяет наличие буквы, переданной ему на вход, в алфавите и выводит результат в консоль. Переопределим метод \"letters_num()\", который теперь будет возвращать значение приватной переменной \"__letters_num\" и выводить количество букв в алфавите в консоль. Также определим статический метод \"example()\", который будет возвращать значение переменной \"example_text\", представляющей собой строку с образцом текста на английском языке, и выводить её в консоль. \"Статичность\" метода \"example()\" определяется декоратором \"@staticmethod\", который ставится перед объявлением метода."
   ]
  },
  {
   "cell_type": "code",
   "execution_count": 147,
   "id": "c89dc218-8421-4837-9428-a6c49c761a47",
   "metadata": {},
   "outputs": [],
   "source": [
    "class EngAlphabet(Alphabet):\n",
    "    def __init__(self):\n",
    "        super().__init__(\"ENG\", list(string.ascii_uppercase));  \n",
    "    __letters_num = len(string.ascii_uppercase);   \n",
    "    def is_en_letter(self, letter):\n",
    "        if letter.upper() in self.letters:\n",
    "            print(f\"Letter {letter.upper()} in english alphabet\");\n",
    "        if letter.upper() not in self.letters:\n",
    "            print(f\"Letter {letter.upper()} not in english alphabet\");\n",
    "    def letters_num(self):\n",
    "        print(\"Letters number in alphabet:\", self.__letters_num);\n",
    "        return self.__letters_num;   \n",
    "    @staticmethod\n",
    "    def example():\n",
    "        example_text = \"Example text\";\n",
    "        print(f'\"{example_text}\"');\n",
    "        return example_text;"
   ]
  },
  {
   "cell_type": "markdown",
   "id": "c3c62da9-fc3c-48fd-ba68-f298d1c441ac",
   "metadata": {},
   "source": [
    "        Теперь проведём следующие тесты:\n",
    "        1. Создать объект класса EngAlphabet;\n",
    "        2. Напечатать буквы алфавита для этого объекта;\n",
    "        3. Вывести количество букв в алфавите;\n",
    "        4. Проверить, относится ли буква \"F\" к английскому алфавиту;\n",
    "        5. Проверить, относится ли буква \"Щ\" к английскому алфавиту;\n",
    "        6. Вывести пример текста на английском языке."
   ]
  },
  {
   "cell_type": "code",
   "execution_count": 150,
   "id": "4bb637ae-be2f-484f-a850-a0b25407ed9d",
   "metadata": {},
   "outputs": [
    {
     "name": "stdout",
     "output_type": "stream",
     "text": [
      "ENG alphabet letters: A, B, C, D, E, F, G, H, I, J, K, L, M, N, O, P, Q, R, S, T, U, V, W, X, Y, Z\n",
      "Letters number in alphabet: 26\n",
      "Letter F in english alphabet\n",
      "Letter Щ not in english alphabet\n",
      "\"Example text\"\n"
     ]
    }
   ],
   "source": [
    "EA = EngAlphabet()\n",
    "EA.print();\n",
    "EA.letters_num();\n",
    "EA.is_en_letter(\"F\"); \n",
    "EA.is_en_letter(\"Щ\");   \n",
    "EA.example();"
   ]
  },
  {
   "cell_type": "markdown",
   "id": "2d409aed-c500-4bc2-bece-635a15850d3d",
   "metadata": {},
   "source": [
    "## Выводы"
   ]
  },
  {
   "cell_type": "markdown",
   "id": "99f29fcf-7a2c-4fb6-8e15-24b924c9f66f",
   "metadata": {},
   "source": [
    "В результате данной работы были выполнены все поставленные цели и дополнительные задачи."
   ]
  }
 ],
 "metadata": {
  "kernelspec": {
   "display_name": "Python 3 (ipykernel)",
   "language": "python",
   "name": "python3"
  },
  "language_info": {
   "codemirror_mode": {
    "name": "ipython",
    "version": 3
   },
   "file_extension": ".py",
   "mimetype": "text/x-python",
   "name": "python",
   "nbconvert_exporter": "python",
   "pygments_lexer": "ipython3",
   "version": "3.12.7"
  }
 },
 "nbformat": 4,
 "nbformat_minor": 5
}
