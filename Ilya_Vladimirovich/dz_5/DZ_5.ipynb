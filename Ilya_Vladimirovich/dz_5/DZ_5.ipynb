{
 "cells": [
  {
   "cell_type": "markdown",
   "metadata": {},
   "source": [
    "### Задание:\n",
    "1.\tОбщее число оценок в файле\n",
    "2.\tОбщее количество пользователей, поставивших оценки\n",
    "3.\tОбщее количество оцененных фильмов\n",
    "4.\tID самого активного пользователя\n",
    "5.\tФильм, собравший наибольшее количество оценок\n"
   ]
  },
  {
   "cell_type": "markdown",
   "metadata": {
    "vscode": {
     "languageId": "plaintext"
    }
   },
   "source": [
    "### Анализ\n",
    "\n",
    "Файл имеет всего 4 столбца: userId, movieId, rating, timestamp\n",
    "1. Общее число оценок будем считать за число строк таблицы\n",
    "2. Используем столбец userId и подсчитаем число уникальных ид\n",
    "3. Используем столбец movieId и подсчитаем число уникальных ид\n",
    "4. Можно найти пользователя ид которого встречается в столбце userId максимальное число раз\n",
    "5. Можно найти фильм ид которого встречается в столбце movieId максимальное число раз"
   ]
  },
  {
   "cell_type": "markdown",
   "metadata": {},
   "source": [
    "### Установка библиотеки pandas"
   ]
  },
  {
   "cell_type": "code",
   "execution_count": 1,
   "metadata": {},
   "outputs": [
    {
     "name": "stdout",
     "output_type": "stream",
     "text": [
      "Defaulting to user installation because normal site-packages is not writeable\n",
      "Requirement already satisfied: pandas in /home/itiv422/.local/lib/python3.10/site-packages (2.2.2)\n",
      "Requirement already satisfied: tzdata>=2022.7 in /home/itiv422/.local/lib/python3.10/site-packages (from pandas) (2024.1)\n",
      "Requirement already satisfied: pytz>=2020.1 in /usr/lib/python3/dist-packages (from pandas) (2022.1)\n",
      "Requirement already satisfied: numpy>=1.22.4 in /home/itiv422/.local/lib/python3.10/site-packages (from pandas) (2.0.2)\n",
      "Requirement already satisfied: python-dateutil>=2.8.2 in /home/itiv422/.local/lib/python3.10/site-packages (from pandas) (2.9.0.post0)\n",
      "Requirement already satisfied: six>=1.5 in /usr/lib/python3/dist-packages (from python-dateutil>=2.8.2->pandas) (1.16.0)\n"
     ]
    }
   ],
   "source": [
    "!pip install pandas"
   ]
  },
  {
   "cell_type": "markdown",
   "metadata": {},
   "source": [
    "### Код программы"
   ]
  },
  {
   "cell_type": "code",
   "execution_count": 7,
   "metadata": {},
   "outputs": [
    {
     "name": "stdout",
     "output_type": "stream",
     "text": [
      "Общее число оценок: 100004\n",
      "Общее количество пользователей: 671\n",
      "Общее количество оцененных фильмов: 9066\n",
      "ID самого активного пользователя: 547\n",
      "Фильм, собравший наибольшее количество оценок: 356\n"
     ]
    }
   ],
   "source": [
    "import pandas as pd\n",
    "\n",
    "df = pd.read_csv('./ratings_small.csv')\n",
    "\n",
    "print(f'Общее число оценок: {len(df)}')\n",
    "print(f'Общее количество пользователей: {df.userId.nunique()}')\n",
    "print(f'Общее количество оцененных фильмов: {df.movieId.nunique()}')\n",
    "print(f'ID самого активного пользователя: {df.userId.value_counts().idxmax()}')\n",
    "print(f'Фильм, собравший наибольшее количество оценок: {df.movieId.value_counts().idxmax()}')"
   ]
  },
  {
   "cell_type": "markdown",
   "metadata": {},
   "source": [
    "### Выводы\n",
    "\n",
    "Изучили базовые принципы работы с библиотекой pandas"
   ]
  }
 ],
 "metadata": {
  "kernelspec": {
   "display_name": "Python 3",
   "language": "python",
   "name": "python3"
  },
  "language_info": {
   "codemirror_mode": {
    "name": "ipython",
    "version": 3
   },
   "file_extension": ".py",
   "mimetype": "text/x-python",
   "name": "python",
   "nbconvert_exporter": "python",
   "pygments_lexer": "ipython3",
   "version": "3.10.12"
  }
 },
 "nbformat": 4,
 "nbformat_minor": 2
}
