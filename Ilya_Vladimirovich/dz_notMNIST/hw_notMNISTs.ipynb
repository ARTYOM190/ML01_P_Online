{
  "cells": [
    {
      "cell_type": "markdown",
      "metadata": {},
      "source": [
        "### Задание\n",
        "Обучить модель на датасете с буквами\n",
        "\n",
        "### Анализ\n",
        "Будут использоваться следующие техники:\n",
        "- Сверточная архитектура\n",
        "- Аугментация данных\n",
        "- Label smoothing\n",
        "- Динамическое изменение скорости обучения\n",
        "- Weight decay\n",
        "- BatchNorm2d, Dropout"
      ]
    },
    {
      "cell_type": "code",
      "execution_count": 1,
      "metadata": {
        "id": "rYtE2-RhDzre"
      },
      "outputs": [],
      "source": [
        "from matplotlib import pyplot as plt\n",
        "import numpy as np\n",
        "import os\n",
        "import cv2"
      ]
    },
    {
      "cell_type": "code",
      "execution_count": 2,
      "metadata": {
        "id": "cJSRH_GaMMZ7"
      },
      "outputs": [],
      "source": [
        "base_dir = './notMNIST_small'"
      ]
    },
    {
      "cell_type": "code",
      "execution_count": 3,
      "metadata": {
        "colab": {
          "base_uri": "https://localhost:8080/"
        },
        "id": "tPpUZEP0GOSE",
        "outputId": "cd55197e-d0ee-4025-9a50-a0721649f73a"
      },
      "outputs": [
        {
          "data": {
            "text/plain": [
              "['RGVtb2NyYXRpY2FCb2xkT2xkc3R5bGUub3Rm.png',\n",
              " 'RmF2b3JpdC50dGY=.png',\n",
              " 'RWxlbWVudGFTeW1ib2wtQm9sZEl0YWxpYy5vdGY=.png',\n",
              " 'RXJpYyBCbGFjay50dGY=.png',\n",
              " 'R2FyYW1vbmRQcmVtclByby1NZWRTdWJoLm90Zg==.png']"
            ]
          },
          "execution_count": 3,
          "metadata": {},
          "output_type": "execute_result"
        }
      ],
      "source": [
        "os.listdir(f'{base_dir}/A')[:5]"
      ]
    },
    {
      "cell_type": "code",
      "execution_count": 4,
      "metadata": {
        "colab": {
          "base_uri": "https://localhost:8080/",
          "height": 265
        },
        "id": "DEpR0DW1GjMG",
        "outputId": "cf96979d-9a3d-4758-f794-4610912574b7"
      },
      "outputs": [
        {
          "data": {
            "image/png": "[encoded data removed]",
            "text/plain": [
              "<Figure size 640x480 with 1 Axes>"
            ]
          },
          "metadata": {},
          "output_type": "display_data"
        }
      ],
      "source": [
        "img = cv2.imread(\"./notMNIST_small/A/Q2FwdGFpbiBTaGluZXIudHRm.png\")\n",
        "plt.imshow(img)\n",
        "plt.show()"
      ]
    },
    {
      "cell_type": "code",
      "execution_count": 5,
      "metadata": {
        "colab": {
          "base_uri": "https://localhost:8080/"
        },
        "id": "0O-qq307uLdO",
        "outputId": "c1ac9f6c-1809-4933-a029-6d36ea51b138"
      },
      "outputs": [
        {
          "name": "stdout",
          "output_type": "stream",
          "text": [
            "total A images: 1873\n",
            "total B images: 1873\n",
            "total C images: 1873\n",
            "total D images: 1873\n",
            "total E images: 1873\n",
            "total F images: 1873\n",
            "total G images: 1872\n",
            "total H images: 1872\n",
            "total I images: 1872\n",
            "total J images: 1872\n"
          ]
        }
      ],
      "source": [
        "folders = 'ABCDEFGHIJ'    # имеющиеся буквы\n",
        "for folder in folders:\n",
        "  print(f\"total {folder} images: {len(os.listdir(f'{base_dir}/{folder}'))}\")    # смотрим количество данных каждого класса"
      ]
    },
    {
      "cell_type": "code",
      "execution_count": 6,
      "metadata": {
        "colab": {
          "base_uri": "https://localhost:8080/"
        },
        "id": "3F2ipEBJwTPr",
        "outputId": "81e0c583-e880-45d9-e6e7-a7b12b018527"
      },
      "outputs": [
        {
          "name": "stdout",
          "output_type": "stream",
          "text": [
            "./notMNIST_small/A/RGVtb2NyYXRpY2FCb2xkT2xkc3R5bGUgQm9sZC50dGY=.png\n",
            "./notMNIST_small/F/Q3Jvc3NvdmVyIEJvbGRPYmxpcXVlLnR0Zg==.png\n"
          ]
        }
      ],
      "source": [
        "imgs = []\n",
        "labels = []\n",
        "for folder in folders:    # каждая папка с буквами\n",
        "  for img in os.listdir(base_dir + f\"/{folder}\"):   # каждая буква\n",
        "    if img.endswith('.png'):    # только png\n",
        "      try:    # если удалось прочитать \n",
        "        #imgs.append(cv2.imread(base_dir + f\"/{folder}/{img}\")[:, :, 0])   # добавляем изображение\n",
        "        if not np.all(cv2.imread(base_dir + f\"/{folder}/{img}\")[:, :, 0] ==cv2.imread(base_dir + f\"/{folder}/{img}\")[:, :, 0][0]):\n",
        "            imgs.append(cv2.imread(base_dir + f\"/{folder}/{img}\")[:, :, 0])\n",
        "            labels.append(folder)   # добавляем метку класса\n",
        "      except:   # если возникла ошибка при чтении\n",
        "        print(base_dir + f\"/{folder}/{img}\")     # выводим название изображение, которое не удалось прочитать\n",
        "        continue\n",
        "imgs = np.array(imgs).astype('float32')/255.    # масштабируем признаки"
      ]
    },
    {
      "cell_type": "code",
      "execution_count": 7,
      "metadata": {
        "id": "x8i9VVHT1qnm"
      },
      "outputs": [],
      "source": [
        "def to_categorical(labels):\n",
        "  \"\"\"\n",
        "  This function convert the latter into a categorical shape(view)\n",
        "  labels: this param consists of the letters which will convert\n",
        "  Example: labels -> ['A', 'B'] -> [[1, 0, 0, 0, 0, 0, 0, 0, 0, 0], [0, 1, 0, 0, 0, 0, 0, 0, 0, 0]] \n",
        "  \"\"\"\n",
        "  categories = 'ABCDEFGHIJ'\n",
        "  new_labels = np.zeros(shape=(len(labels), len(categories)))\n",
        "  for i, label in enumerate(labels):\n",
        "    new_labels[i][categories.find(label)] = 1 \n",
        "  return new_labels"
      ]
    },
    {
      "cell_type": "code",
      "execution_count": 8,
      "metadata": {
        "colab": {
          "base_uri": "https://localhost:8080/",
          "height": 316
        },
        "id": "2AGsFpBK4MfV",
        "outputId": "8d273120-1ec8-47e9-c76b-9cf3b46639c1"
      },
      "outputs": [
        {
          "name": "stdout",
          "output_type": "stream",
          "text": [
            "A\n",
            "[1. 0. 0. 0. 0. 0. 0. 0. 0. 0.]\n"
          ]
        },
        {
          "data": {
            "image/png": "[encoded data removed]",
            "text/plain": [
              "<Figure size 640x480 with 1 Axes>"
            ]
          },
          "metadata": {},
          "output_type": "display_data"
        }
      ],
      "source": [
        "print(labels[0])    # выводим пример изображения с меткой\n",
        "labels = to_categorical(labels)\n",
        "plt.imshow(imgs[0])\n",
        "print(labels[0])"
      ]
    },
    {
      "cell_type": "code",
      "execution_count": 9,
      "metadata": {
        "id": "gEJqazHg4Q4c"
      },
      "outputs": [],
      "source": [
        "indices = np.arange(labels.shape[0])    # перемешиваем данные\n",
        "np.random.shuffle(indices)\n",
        "imgs = imgs[indices]\n",
        "labels = labels[indices]"
      ]
    },
    {
      "cell_type": "code",
      "execution_count": 10,
      "metadata": {
        "colab": {
          "base_uri": "https://localhost:8080/",
          "height": 282
        },
        "id": "Iz8decGm91zI",
        "outputId": "812203fd-bb29-4832-c98c-287cb52bdef5"
      },
      "outputs": [
        {
          "name": "stdout",
          "output_type": "stream",
          "text": [
            "[0. 0. 0. 0. 0. 0. 0. 0. 0. 1.]\n"
          ]
        },
        {
          "data": {
            "image/png": "[encoded data removed]",
            "text/plain": [
              "<Figure size 640x480 with 1 Axes>"
            ]
          },
          "metadata": {},
          "output_type": "display_data"
        }
      ],
      "source": [
        "plt.imshow(imgs[0])\n",
        "print(labels[0])"
      ]
    },
    {
      "cell_type": "code",
      "execution_count": 11,
      "metadata": {
        "colab": {
          "base_uri": "https://localhost:8080/"
        },
        "id": "q93xwEz7-iQu",
        "outputId": "3a627a14-1f0c-4eff-a19c-f13e0671c3cb"
      },
      "outputs": [
        {
          "name": "stdout",
          "output_type": "stream",
          "text": [
            "Images shape:  (18442, 28, 28)\n",
            "Labels shape:  (18442, 10)\n"
          ]
        }
      ],
      "source": [
        "print(\"Images shape: \", imgs.shape)   # выводим размеры датасета\n",
        "print(\"Labels shape: \", labels.shape)"
      ]
    },
    {
      "cell_type": "code",
      "execution_count": 12,
      "metadata": {
        "colab": {
          "base_uri": "https://localhost:8080/"
        },
        "id": "qQu9_VlMBgDb",
        "outputId": "ea40c0bf-bc07-432b-cb33-9401264aa9be"
      },
      "outputs": [
        {
          "name": "stdout",
          "output_type": "stream",
          "text": [
            "Train images shape:  (17942, 28, 28)\n",
            "Test images shape:  (500, 28, 28)\n",
            "Train labels shape:  (17942, 10)\n",
            "Test labels shape:  (500, 10)\n"
          ]
        }
      ],
      "source": [
        "# разбиваем на тестовую и тренировочную выборку\n",
        "test_imgs = imgs[:500]\n",
        "test_labels = labels[:500]\n",
        "train_imgs = imgs[500:]\n",
        "train_labels = labels[500:]\n",
        "print(\"Train images shape: \", train_imgs.shape)\n",
        "print(\"Test images shape: \", test_imgs.shape)\n",
        "print(\"Train labels shape: \", train_labels.shape)\n",
        "print(\"Test labels shape: \", test_labels.shape)"
      ]
    },
    {
      "cell_type": "markdown",
      "metadata": {},
      "source": [
        "Создание CNN модели"
      ]
    },
    {
      "cell_type": "code",
      "execution_count": 13,
      "metadata": {},
      "outputs": [],
      "source": [
        "import torch\n",
        "import torch.nn as nn\n",
        "import torch.optim as optim\n",
        "import torchvision.transforms as transforms\n",
        "from torch.utils.data import DataLoader, TensorDataset\n",
        "from torch.optim.lr_scheduler import CosineAnnealingLR\n",
        "from torchinfo import summary\n",
        "\n",
        "device = 'cuda' if torch.cuda.is_available() else 'cpu'\n",
        "\n",
        "class CNN_net(nn.Module):\n",
        "    def __init__(self, num_classes=10):\n",
        "        super(CNN_net, self).__init__()\n",
        "        \n",
        "        self.features = nn.Sequential(\n",
        "            nn.Conv2d(1, 32, kernel_size=3, stride=1, padding=1),\n",
        "            nn.BatchNorm2d(32),\n",
        "            nn.GELU(),\n",
        "            nn.Conv2d(32, 64, kernel_size=3, stride=1, padding=1),\n",
        "            nn.BatchNorm2d(64),\n",
        "            nn.GELU(),\n",
        "            nn.MaxPool2d(kernel_size=2, stride=2),\n",
        "            nn.Conv2d(64, 128, kernel_size=3, stride=1, padding=1),\n",
        "            nn.BatchNorm2d(128),\n",
        "            nn.GELU(),\n",
        "            nn.Conv2d(128, 256, kernel_size=3, stride=1, padding=1),\n",
        "            nn.BatchNorm2d(256),\n",
        "            nn.GELU(),\n",
        "            nn.MaxPool2d(kernel_size=2, stride=2),\n",
        "        )\n",
        "\n",
        "        self.classifier = nn.Sequential(\n",
        "            nn.Linear(256 * 7 * 7, 512),\n",
        "            nn.Dropout(0.2),\n",
        "            nn.ReLU(),\n",
        "            nn.Linear(512, num_classes)\n",
        "        )\n",
        "\n",
        "    def forward(self, x):\n",
        "        x = self.features(x)\n",
        "        x = x.view(x.size(0), -1)\n",
        "        x = self.classifier(x)\n",
        "        return x"
      ]
    },
    {
      "cell_type": "markdown",
      "metadata": {},
      "source": [
        "Создание загрузчиков датасетов с аугментацией"
      ]
    },
    {
      "cell_type": "code",
      "execution_count": 14,
      "metadata": {},
      "outputs": [],
      "source": [
        "train_transform = transforms.Compose([\n",
        "    transforms.RandomAffine(degrees=30, translate=(0.1, 0.1), scale=(0.8, 1.2), shear=15),\n",
        "    transforms.RandomHorizontalFlip(),\n",
        "    transforms.GaussianBlur(kernel_size=3, sigma=(0.1, 2.0)),\n",
        "    transforms.RandomErasing(p=0.5, scale=(0.02, 0.33), ratio=(0.3, 3.3)),\n",
        "    transforms.ToTensor(),\n",
        "    transforms.Normalize((0.5,), (0.5,))\n",
        "])\n",
        "\n",
        "test_transform = transforms.Compose([\n",
        "    transforms.ToTensor(),\n",
        "    transforms.Normalize((0.5,), (0.5,))\n",
        "])\n",
        "\n",
        "train_dataset = TensorDataset(torch.tensor(train_imgs, dtype=torch.float32).unsqueeze(1), torch.tensor(train_labels, dtype=torch.float32))\n",
        "test_dataset = TensorDataset(torch.tensor(test_imgs, dtype=torch.float32).unsqueeze(1), torch.tensor(test_labels, dtype=torch.float32))\n",
        "\n",
        "train_loader = DataLoader(train_dataset, batch_size=64, shuffle=True, num_workers=32)\n",
        "test_loader = DataLoader(test_dataset, batch_size=64, shuffle=False, num_workers=32)"
      ]
    },
    {
      "cell_type": "markdown",
      "metadata": {},
      "source": [
        "Определение параметров обучения и вывод иформации о модели"
      ]
    },
    {
      "cell_type": "code",
      "execution_count": 15,
      "metadata": {},
      "outputs": [
        {
          "data": {
            "text/plain": [
              "==========================================================================================\n",
              "Layer (type:depth-idx)                   Output Shape              Param #\n",
              "==========================================================================================\n",
              "CNN_net                                  [1, 10]                   --\n",
              "├─Sequential: 1-1                        [1, 256, 7, 7]            --\n",
              "│    └─Conv2d: 2-1                       [1, 32, 28, 28]           320\n",
              "│    └─BatchNorm2d: 2-2                  [1, 32, 28, 28]           64\n",
              "│    └─GELU: 2-3                         [1, 32, 28, 28]           --\n",
              "│    └─Conv2d: 2-4                       [1, 64, 28, 28]           18,496\n",
              "│    └─BatchNorm2d: 2-5                  [1, 64, 28, 28]           128\n",
              "│    └─GELU: 2-6                         [1, 64, 28, 28]           --\n",
              "│    └─MaxPool2d: 2-7                    [1, 64, 14, 14]           --\n",
              "│    └─Conv2d: 2-8                       [1, 128, 14, 14]          73,856\n",
              "│    └─BatchNorm2d: 2-9                  [1, 128, 14, 14]          256\n",
              "│    └─GELU: 2-10                        [1, 128, 14, 14]          --\n",
              "│    └─Conv2d: 2-11                      [1, 256, 14, 14]          295,168\n",
              "│    └─BatchNorm2d: 2-12                 [1, 256, 14, 14]          512\n",
              "│    └─GELU: 2-13                        [1, 256, 14, 14]          --\n",
              "│    └─MaxPool2d: 2-14                   [1, 256, 7, 7]            --\n",
              "├─Sequential: 1-2                        [1, 10]                   --\n",
              "│    └─Linear: 2-15                      [1, 512]                  6,423,040\n",
              "│    └─Dropout: 2-16                     [1, 512]                  --\n",
              "│    └─ReLU: 2-17                        [1, 512]                  --\n",
              "│    └─Linear: 2-18                      [1, 10]                   5,130\n",
              "==========================================================================================\n",
              "Total params: 6,816,970\n",
              "Trainable params: 6,816,970\n",
              "Non-trainable params: 0\n",
              "Total mult-adds (M): 93.51\n",
              "==========================================================================================\n",
              "Input size (MB): 0.00\n",
              "Forward/backward pass size (MB): 2.41\n",
              "Params size (MB): 27.27\n",
              "Estimated Total Size (MB): 29.68\n",
              "=========================================================================================="
            ]
          },
          "execution_count": 15,
          "metadata": {},
          "output_type": "execute_result"
        }
      ],
      "source": [
        "model = CNN_net(num_classes=10).to(device)\n",
        "criterion = nn.CrossEntropyLoss(label_smoothing=0.1)\n",
        "optimizer = optim.AdamW(model.parameters(), lr=1e-5)\n",
        "scheduler = CosineAnnealingLR(optimizer, T_max=20)\n",
        "summary(model, input_size=(1, 1, 28, 28))"
      ]
    },
    {
      "cell_type": "markdown",
      "metadata": {},
      "source": [
        "Определение функций обучения и инференса модели"
      ]
    },
    {
      "cell_type": "code",
      "execution_count": 16,
      "metadata": {},
      "outputs": [],
      "source": [
        "def train(model, train_loader, criterion, optimizer):\n",
        "    model.train()\n",
        "    running_loss = 0.0\n",
        "    for images, labels in train_loader:\n",
        "        images, labels = images.to(device), labels.to(device)\n",
        "        optimizer.zero_grad()\n",
        "        outputs = model(images)\n",
        "        loss = criterion(outputs, labels)\n",
        "        loss.backward()\n",
        "        optimizer.step()\n",
        "        running_loss += loss.item()\n",
        "\n",
        "def evaluate(model, test_loader, criterion, epoch):\n",
        "    model.eval()\n",
        "    correct = 0\n",
        "    total = 0\n",
        "    running_loss = 0.0\n",
        "    with torch.no_grad():\n",
        "        for images, labels in test_loader:\n",
        "            images, labels = images.to(device), labels.to(device)\n",
        "            outputs = model(images)\n",
        "            loss = criterion(outputs, labels)\n",
        "            running_loss += loss.item()\n",
        "            _, predicted = torch.max(outputs.data, 1)\n",
        "            _, labels = torch.max(labels.data, 1)\n",
        "            total += labels.size(0)\n",
        "            correct += (predicted == labels).sum().item()\n",
        "    print(f\"Test Loss: {running_loss / len(test_loader)}, Accuracy: {100 * correct / total}%, Epoch: {epoch}\")"
      ]
    },
    {
      "cell_type": "markdown",
      "metadata": {},
      "source": [
        "Обучение модели"
      ]
    },
    {
      "cell_type": "code",
      "execution_count": 17,
      "metadata": {},
      "outputs": [
        {
          "name": "stdout",
          "output_type": "stream",
          "text": [
            "Test Loss: 0.7225301712751389, Accuracy: 93.4%, Epoch: 1\n",
            "Test Loss: 0.6750679910182953, Accuracy: 94.0%, Epoch: 2\n",
            "Test Loss: 0.6436007916927338, Accuracy: 96.0%, Epoch: 3\n",
            "Test Loss: 0.6329025849699974, Accuracy: 96.4%, Epoch: 4\n",
            "Test Loss: 0.6239566802978516, Accuracy: 96.4%, Epoch: 5\n",
            "Test Loss: 0.6212677583098412, Accuracy: 95.8%, Epoch: 6\n",
            "Test Loss: 0.6116872057318687, Accuracy: 95.6%, Epoch: 7\n",
            "Test Loss: 0.6065933182835579, Accuracy: 96.0%, Epoch: 8\n",
            "Test Loss: 0.6043331474065781, Accuracy: 96.6%, Epoch: 9\n",
            "Test Loss: 0.6021736785769463, Accuracy: 96.6%, Epoch: 10\n",
            "Test Loss: 0.6010017544031143, Accuracy: 96.6%, Epoch: 11\n",
            "Test Loss: 0.6003563329577446, Accuracy: 96.4%, Epoch: 12\n",
            "Test Loss: 0.5993868038058281, Accuracy: 96.0%, Epoch: 13\n",
            "Test Loss: 0.5966645032167435, Accuracy: 96.6%, Epoch: 14\n",
            "Test Loss: 0.5977922677993774, Accuracy: 96.6%, Epoch: 15\n",
            "Test Loss: 0.5968212708830833, Accuracy: 96.4%, Epoch: 16\n",
            "Test Loss: 0.5962347313761711, Accuracy: 96.6%, Epoch: 17\n",
            "Test Loss: 0.5963958278298378, Accuracy: 96.6%, Epoch: 18\n",
            "Test Loss: 0.5963495969772339, Accuracy: 96.6%, Epoch: 19\n",
            "Test Loss: 0.5964419171214104, Accuracy: 96.6%, Epoch: 20\n",
            "Test Loss: 0.5959241017699242, Accuracy: 96.4%, Epoch: 21\n",
            "Test Loss: 0.5961953476071358, Accuracy: 96.6%, Epoch: 22\n",
            "Test Loss: 0.5961676612496376, Accuracy: 96.6%, Epoch: 23\n",
            "Test Loss: 0.59661515802145, Accuracy: 96.6%, Epoch: 24\n",
            "Test Loss: 0.5963418036699295, Accuracy: 96.6%, Epoch: 25\n",
            "Test Loss: 0.5953935608267784, Accuracy: 96.6%, Epoch: 26\n",
            "Test Loss: 0.5966395139694214, Accuracy: 96.6%, Epoch: 27\n",
            "Test Loss: 0.5968227460980415, Accuracy: 96.6%, Epoch: 28\n",
            "Test Loss: 0.5987295582890511, Accuracy: 96.6%, Epoch: 29\n",
            "Test Loss: 0.5956020876765251, Accuracy: 96.6%, Epoch: 30\n",
            "Test Loss: 0.5963781177997589, Accuracy: 96.8%, Epoch: 31\n",
            "Test Loss: 0.596362940967083, Accuracy: 96.6%, Epoch: 32\n",
            "Test Loss: 0.5959419757127762, Accuracy: 96.8%, Epoch: 33\n",
            "Test Loss: 0.5987829342484474, Accuracy: 97.0%, Epoch: 34\n",
            "Test Loss: 0.5972538739442825, Accuracy: 97.0%, Epoch: 35\n",
            "Test Loss: 0.6037409231066704, Accuracy: 96.2%, Epoch: 36\n",
            "Test Loss: 0.5989348143339157, Accuracy: 96.6%, Epoch: 37\n",
            "Test Loss: 0.5980367809534073, Accuracy: 96.6%, Epoch: 38\n",
            "Test Loss: 0.5955721661448479, Accuracy: 96.6%, Epoch: 39\n",
            "Test Loss: 0.5965307503938675, Accuracy: 96.8%, Epoch: 40\n"
          ]
        }
      ],
      "source": [
        "num_epochs = 40\n",
        "for epoch in range(1, num_epochs + 1):\n",
        "    train(model, train_loader, criterion, optimizer)\n",
        "    scheduler.step()\n",
        "    evaluate(model, test_loader, criterion, epoch)"
      ]
    },
    {
      "cell_type": "markdown",
      "metadata": {},
      "source": [
        "### Выводы\n",
        "- Метод позволяет обучить модель с точностью до ~97.5%\n",
        "- Использованы различные приемы для улучшения обучения: - Аугментация данных, Label smoothing, динамическое изменение скорости обучения, Weight decay, BatchNorm2d, Dropout"
      ]
    }
  ],
  "metadata": {
    "accelerator": "GPU",
    "colab": {
      "provenance": []
    },
    "gpuClass": "standard",
    "kernelspec": {
      "display_name": "Python 3",
      "language": "python",
      "name": "python3"
    },
    "language_info": {
      "codemirror_mode": {
        "name": "ipython",
        "version": 3
      },
      "file_extension": ".py",
      "mimetype": "text/x-python",
      "name": "python",
      "nbconvert_exporter": "python",
      "pygments_lexer": "ipython3",
      "version": "3.10.12"
    }
  },
  "nbformat": 4,
  "nbformat_minor": 0
}
