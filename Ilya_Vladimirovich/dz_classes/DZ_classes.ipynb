{
 "cells": [
  {
   "cell_type": "markdown",
   "metadata": {},
   "source": [
    "### Задание:\n",
    "Есть Алфавит, характеристиками которого являются: \n",
    "1. Язык\n",
    "2. Список букв\n",
    "\n",
    "Для Алфавита можно: \n",
    "1. Напечатать все буквы алфавита\n",
    "2. Посчитать количество букв\n",
    "\n",
    "Так же есть Английский алфавит, который обладает следующими свойствами: \n",
    "1. Язык\n",
    "2. Список букв\n",
    "3. Количество букв\n",
    "\n",
    "Для Английского алфавита можно: \n",
    "1. Посчитать количество букв\n",
    "2. Определить, относится ли буква к английскому алфавиту\n",
    "3. Получить пример текста на английском языке\n",
    "\n",
    "\n",
    "Класс Alphabet\n",
    "1. Создайте класс Alphabet\n",
    "2. Создайте метод __init__(), внутри которого будут определены два динамических свойства: 1) lang - язык и 2) letters - список букв. Начальные значения свойств берутся из входных параметров метода.\n",
    "3. Создайте метод print(), который выведет в консоль буквы алфавита\n",
    "4. Создайте метод letters_num(), который вернет количество букв в алфавите\n",
    "\n",
    "Класс EngAlphabet\n",
    "1. Создайте класс EngAlphabet путем наследования от класса Alphabet\n",
    "2. Создайте метод __init__(), внутри которого будет вызываться родительский метод __init__(). В качестве параметров ему будут передаваться обозначение языка(например, 'En') и строка, состоящая из всех букв алфавита(можно воспользоваться свойством ascii_uppercase из модуля string).\n",
    "3. Добавьте приватное статическое свойство __letters_num, которое будет хранить количество букв в алфавите.\n",
    "4. Создайте метод is_en_letter(), который будет принимать букву в качестве параметра и определять, относится ли эта буква к английскому алфавиту.\n",
    "5. Переопределите метод letters_num() - пусть в текущем классе классе он будет возвращать значение свойства __letters_num.\n",
    "6. Создайте статический метод example(), который будет возвращать пример текста на английском языке.\n",
    "\n",
    "\n",
    "Тесты:\n",
    "1. Создайте объект класса EngAlphabet\n",
    "2. Напечатайте буквы алфавита для этого объекта\n",
    "3. Выведите количество букв в алфавите\n",
    "4. Проверьте, относится ли буква F к английскому алфавиту\n",
    "5. Проверьте, относится ли буква Щ к английскому алфавиту\n",
    "6. Выведите пример текста на английском языке\n"
   ]
  },
  {
   "cell_type": "markdown",
   "metadata": {},
   "source": [
    "### Анализ задания:\n",
    "\n",
    "Требуется использовать базовый синтаксис для наследования.\n"
   ]
  },
  {
   "cell_type": "code",
   "execution_count": 21,
   "metadata": {},
   "outputs": [],
   "source": [
    "import string\n",
    "\n",
    "class Alphabet:\n",
    "    def __init__(self, lang, letters):\n",
    "        self.lang = lang\n",
    "        self.letters = letters\n",
    "\n",
    "    def print(self):\n",
    "        print(self.letters)\n",
    "\n",
    "    def letters_num(self):\n",
    "        return len(self.letters)\n",
    "\n",
    "class EngAlphabet(Alphabet):\n",
    "    __letters_num = len(string.ascii_uppercase)\n",
    "\n",
    "    def __init__(self):\n",
    "        super().__init__('En', string.ascii_uppercase)\n",
    "\n",
    "    def is_en_letter(self, letter):\n",
    "        return letter.upper() in self.letters\n",
    "\n",
    "    def letters_num(self):\n",
    "        return EngAlphabet.__letters_num\n",
    "\n",
    "    @staticmethod\n",
    "    def example():\n",
    "        return \"Simple english text.\""
   ]
  },
  {
   "cell_type": "markdown",
   "metadata": {},
   "source": [
    "### Тесты"
   ]
  },
  {
   "cell_type": "code",
   "execution_count": 23,
   "metadata": {},
   "outputs": [
    {
     "name": "stdout",
     "output_type": "stream",
     "text": [
      "ABCDEFGHIJKLMNOPQRSTUVWXYZ\n",
      "Количество букв в алфавите: 26\n",
      "Буква 'F' относится к английскому алфавиту: True\n",
      "Буква 'Щ' относится к английскому алфавиту: False\n",
      "Пример текста на английском языке: Simple english text.\n"
     ]
    }
   ],
   "source": [
    "# Создайте объект класса EngAlphabet\n",
    "eng_alphabet = EngAlphabet()\n",
    "assert isinstance(eng_alphabet, EngAlphabet)\n",
    "\n",
    "# Напечатайте буквы алфавита для этого объекта\n",
    "assert eng_alphabet.letters == \"ABCDEFGHIJKLMNOPQRSTUVWXYZ\"\n",
    "eng_alphabet.print()\n",
    "\n",
    "# Выведите количество букв в алфавите\n",
    "assert EngAlphabet._EngAlphabet__letters_num == 26\n",
    "print(f\"Количество букв в алфавите: {eng_alphabet.letters_num()}\")\n",
    "\n",
    "# Проверьте, относится ли буква F к английскому алфавиту\n",
    "assert eng_alphabet.is_en_letter('F') == True\n",
    "print(f\"Буква 'F' относится к английскому алфавиту: {eng_alphabet.is_en_letter('F')}\")\n",
    "\n",
    "# Проверьте, относится ли буква Щ к английскому алфавиту\n",
    "assert eng_alphabet.is_en_letter('Щ') == False\n",
    "print(f\"Буква 'Щ' относится к английскому алфавиту: {eng_alphabet.is_en_letter('Щ')}\")\n",
    "\n",
    "# Выведите пример текста на английском языке\n",
    "assert EngAlphabet.example() == \"Simple english text.\"\n",
    "print(f\"Пример текста на английском языке: {EngAlphabet.example()}\")"
   ]
  },
  {
   "cell_type": "markdown",
   "metadata": {},
   "source": [
    "### Выводы\n",
    "Ознакомились с принципами наследования в python, написанием простых тестов."
   ]
  }
 ],
 "metadata": {
  "kernelspec": {
   "display_name": "Python 3",
   "language": "python",
   "name": "python3"
  },
  "language_info": {
   "codemirror_mode": {
    "name": "ipython",
    "version": 3
   },
   "file_extension": ".py",
   "mimetype": "text/x-python",
   "name": "python",
   "nbconvert_exporter": "python",
   "pygments_lexer": "ipython3",
   "version": "3.12.2"
  }
 },
 "nbformat": 4,
 "nbformat_minor": 2
}
