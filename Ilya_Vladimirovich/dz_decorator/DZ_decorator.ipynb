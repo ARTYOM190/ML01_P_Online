{
 "cells": [
  {
   "cell_type": "markdown",
   "metadata": {},
   "source": [
    "### Задание 1\n",
    "Напишите декоратор, оптимизирующий работу декорируемой функции. Декоратор должен сохранять результат работы функции на ближайшие три запуска и вместо выполнения функции возвращать сохранённый результат. \n",
    "После трёх запусков функция должна вызываться вновь, а результат работы функции — вновь кешироваться."
   ]
  },
  {
   "cell_type": "markdown",
   "metadata": {},
   "source": [
    "### Анализ\n",
    "Будем хранить результат вычисления функции и возвращать его вместо вызова самой функции. Как некий ключ будем использовать параметры функции чтобы при изменении параметров функция вновь пересчитала результирующее значение"
   ]
  },
  {
   "cell_type": "code",
   "execution_count": 31,
   "metadata": {},
   "outputs": [
    {
     "name": "stdout",
     "output_type": "stream",
     "text": [
      "Выполнение функции с параметрами: 2\n",
      "4\n",
      "Кеширующий результат с параметрами: 2\n",
      "4\n",
      "Выполнение функции с параметрами: 3\n",
      "9\n",
      "Кеширующий результат с параметрами: 3\n",
      "9\n",
      "Кеширующий результат с параметрами: 2\n",
      "4\n",
      "Кеширующий результат с параметрами: 2\n",
      "4\n",
      "Выполнение функции с параметрами: 2\n",
      "4\n"
     ]
    }
   ],
   "source": [
    "def save_result(func):\n",
    "    cache = {}\n",
    "    call_counts = {}\n",
    "    max_calls = 3\n",
    "\n",
    "    def wrapper(*args, **kwargs):\n",
    "        key = (args, frozenset(kwargs.items()))\n",
    "        if key not in call_counts:\n",
    "            call_counts[key] = 0\n",
    "\n",
    "        if call_counts[key] < max_calls and key in cache:\n",
    "            call_counts[key] += 1\n",
    "            print(f\"Кеширующий результат с параметрами: {', '.join(map(str, args))}\")\n",
    "\n",
    "            return cache[key]\n",
    "        else:\n",
    "            result = func(*args, **kwargs)\n",
    "            cache[key] = result\n",
    "\n",
    "            return result\n",
    "\n",
    "    return wrapper\n",
    "\n",
    "@save_result\n",
    "def pow2(x):\n",
    "    print(f\"Выполнение функции с параметрами: {x}\")\n",
    "    return x * x\n",
    "\n",
    "\n",
    "print(pow2(2))\n",
    "print(pow2(2))\n",
    "print(pow2(3))\n",
    "print(pow2(3))\n",
    "print(pow2(2))\n",
    "print(pow2(2))\n",
    "print(pow2(2))\n"
   ]
  },
  {
   "cell_type": "markdown",
   "metadata": {},
   "source": [
    "### Вывод\n",
    "Реализовали кеширующую функцию. По логам видно, что 1 вызов с параметром 2 был вычислен. Затем при повторном вызове результат был взят из кеша. При вызове функции с параметром 3 результат был корректно вычислен и при повторном вызове с 3 взят из кеша. После этого при вызове с параметром 2 программа продолжила корректно работать и взяла результат из кеша. На 4 раз при вызове с параметром 2 результат был пересчитан. "
   ]
  },
  {
   "cell_type": "markdown",
   "metadata": {},
   "source": [
    "### Задание 2\n",
    "Реализовать с использованием потоков и процессов скачивание файлов из интернета. \n",
    "Список файлов для скачивания подготовить самостоятельно (например изображений, не менее 100 изображений или других объектов). Сравнить производительность с последовательным методом. Сравнивть производительность Thread и multiprocessing решений. Попробовать подобрать оптимальное число потоков/процессов."
   ]
  },
  {
   "cell_type": "markdown",
   "metadata": {},
   "source": [
    "### Анализ\n",
    "Запустим локальный сервер для раздачи статических файлов с помощью команды. Нет необходимости dosить сайты\n",
    "\n",
    "`python3 -m http.server 8000 --bind 127.0.0.1`\n",
    "\n",
    "Сгенерируем картинки из любого видео с помощью команды\n",
    "\n",
    "`ffmpeg -i someVideo.mp4 %04d.bmp`\n",
    "\n",
    "По предварительной оценке последовательный метод будет самым медленным. Особой разницы между мультипотоками и мультипроцессами не ожидается так как не требуется больших вычислений и время создания процесса мало по сравнению с загрузкой файла. В таком случае мультипроцессорны вариант выглядит более предпочтительным."
   ]
  },
  {
   "cell_type": "code",
   "execution_count": null,
   "metadata": {
    "vscode": {
     "languageId": "bat"
    }
   },
   "outputs": [
    {
     "name": "stdout",
     "output_type": "stream",
     "text": [
      "ffmpeg version 4.4.2-0ubuntu0.22.04.1 Copyright (c) 2000-2021 the FFmpeg developers\n",
      "  built with gcc 11 (Ubuntu 11.2.0-19ubuntu1)\n",
      "  configuration: --prefix=/usr --extra-version=0ubuntu0.22.04.1 --toolchain=hardened --libdir=/usr/lib/x86_64-linux-gnu --incdir=/usr/include/x86_64-linux-gnu --arch=amd64 --enable-gpl --disable-stripping --enable-gnutls --enable-ladspa --enable-libaom --enable-libass --enable-libbluray --enable-libbs2b --enable-libcaca --enable-libcdio --enable-libcodec2 --enable-libdav1d --enable-libflite --enable-libfontconfig --enable-libfreetype --enable-libfribidi --enable-libgme --enable-libgsm --enable-libjack --enable-libmp3lame --enable-libmysofa --enable-libopenjpeg --enable-libopenmpt --enable-libopus --enable-libpulse --enable-librabbitmq --enable-librubberband --enable-libshine --enable-libsnappy --enable-libsoxr --enable-libspeex --enable-libsrt --enable-libssh --enable-libtheora --enable-libtwolame --enable-libvidstab --enable-libvorbis --enable-libvpx --enable-libwebp --enable-libx265 --enable-libxml2 --enable-libxvid --enable-libzimg --enable-libzmq --enable-libzvbi --enable-lv2 --enable-omx --enable-openal --enable-opencl --enable-opengl --enable-sdl2 --enable-pocketsphinx --enable-librsvg --enable-libmfx --enable-libdc1394 --enable-libdrm --enable-libiec61883 --enable-chromaprint --enable-frei0r --enable-libx264 --enable-shared\n",
      "  libavutil      56. 70.100 / 56. 70.100\n",
      "  libavcodec     58.134.100 / 58.134.100\n",
      "  libavformat    58. 76.100 / 58. 76.100\n",
      "  libavdevice    58. 13.100 / 58. 13.100\n",
      "  libavfilter     7.110.100 /  7.110.100\n",
      "  libswscale      5.  9.100 /  5.  9.100\n",
      "  libswresample   3.  9.100 /  3.  9.100\n",
      "  libpostproc    55.  9.100 / 55.  9.100\n",
      "Input #0, matroska,webm, from 'test.webm':\n",
      "  Metadata:\n",
      "    encoder         : GStreamer matroskamux version 1.20.3\n",
      "    creation_time   : 2024-11-19T19:18:55.855814Z\n",
      "  Duration: N/A, start: 0.016000, bitrate: N/A\n",
      "  Stream #0:0(eng): Video: vp8, yuv420p(tv, bt709, progressive), 2560x1440, SAR 1:1 DAR 16:9, 1k tbr, 1k tbn, 1k tbc (default)\n",
      "    Metadata:\n",
      "      title           : Video\n",
      "Stream mapping:\n",
      "  Stream #0:0 -> #0:0 (vp8 (native) -> bmp (native))\n",
      "Press [q] to stop, [?] for help\n",
      "Output #0, image2, to './img/%04d.bmp':\n",
      "  Metadata:\n",
      "    encoder         : Lavf58.76.100\n",
      "  Stream #0:0(eng): Video: bmp, bgr24(pc, gbr/bt709/bt709, progressive), 2560x1440 [SAR 1:1 DAR 16:9], q=2-31, 200 kb/s, 1k fps, 1k tbn (default)\n",
      "    Metadata:\n",
      "      title           : Video\n",
      "      encoder         : Lavc58.134.100 bmp\n",
      "\u001b[0;33mMore than 1000 frames duplicatede=00:00:00.90 bitrate=N/A dup=879 drop=0 speed=0.0885x    \n",
      "frame= 9996 fps= 81 q=-0.0 Lsize=N/A time=00:00:09.99 bitrate=N/A dup=9735 drop=0 speed=0.0807x       \n",
      "video:107957327kB audio:0kB subtitle:0kB other streams:0kB global headers:0kB muxing overhead: unknown\n",
      "Serving HTTP on 127.0.0.1 port 8000 (http://127.0.0.1:8000/) ...\n",
      "^C\n",
      "\n",
      "Keyboard interrupt received, exiting.\n"
     ]
    }
   ],
   "source": [
    "!ffmpeg -i test.webm ./img/%04d.bmp\n",
    "!python3 -m http.server 8000 --bind 127.0.0.1"
   ]
  },
  {
   "cell_type": "code",
   "execution_count": 51,
   "metadata": {},
   "outputs": [
    {
     "name": "stdout",
     "output_type": "stream",
     "text": [
      "Последовательная загрузка заняла 8.706597805023193 секунд\n",
      "Мультипоточная загрузка заняла 4.488717317581177 секунд\n",
      "Мультипроцессорная загрузка заняла 1.7495882511138916 секунд\n"
     ]
    }
   ],
   "source": [
    "import requests\n",
    "import multiprocessing\n",
    "from concurrent.futures import ThreadPoolExecutor\n",
    "import time\n",
    "\n",
    "def download_file(url):\n",
    "    requests.get(url)\n",
    "\n",
    "def sequential_download(urls):\n",
    "    for url in urls:\n",
    "        download_file(url)\n",
    "\n",
    "def threaded_download(urls, num_threads):\n",
    "    with ThreadPoolExecutor(max_workers=num_threads) as executor:\n",
    "        executor.map(download_file, urls)\n",
    "\n",
    "def process_download(urls, num_processes):\n",
    "    with multiprocessing.Pool(processes=num_processes) as pool:\n",
    "        pool.map(download_file, urls)\n",
    "\n",
    "urls =  [f\"http://127.0.0.1:8000/img/{i:04}.bmp\" for i in range(1, 500)]\n",
    "\n",
    "start_time = time.time()\n",
    "sequential_download(urls)\n",
    "print(f\"Последовательная загрузка заняла {time.time() - start_time} секунд\")\n",
    "\n",
    "start_time = time.time()\n",
    "threaded_download(urls, 2)\n",
    "print(f\"Мультипоточная загрузка заняла {time.time() - start_time} секунд\")\n",
    "\n",
    "start_time = time.time()\n",
    "process_download(urls, 8)\n",
    "print(f\"Мультипроцессорная загрузка заняла {time.time() - start_time} секунд\")"
   ]
  },
  {
   "cell_type": "markdown",
   "metadata": {},
   "source": [
    "### Вывод\n",
    "На Ryzen 9 5950X были получены следующие результаты:\n",
    "- Оптимальное количество потоков для мультипоточной заргузки: 2. При дальнейшем увеличении числа потоков время увеличивается. \n",
    "- Оптимальное число процессов: 8. Далее время перестает уменьшаться.\n",
    "\n",
    "Результаты не соответствуют начальным предположениям. "
   ]
  }
 ],
 "metadata": {
  "kernelspec": {
   "display_name": "Python 3",
   "language": "python",
   "name": "python3"
  },
  "language_info": {
   "codemirror_mode": {
    "name": "ipython",
    "version": 3
   },
   "file_extension": ".py",
   "mimetype": "text/x-python",
   "name": "python",
   "nbconvert_exporter": "python",
   "pygments_lexer": "ipython3",
   "version": "3.10.12"
  }
 },
 "nbformat": 4,
 "nbformat_minor": 2
}
