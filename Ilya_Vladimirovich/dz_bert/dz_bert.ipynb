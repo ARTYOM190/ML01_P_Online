{
 "cells": [
  {
   "cell_type": "markdown",
   "id": "5b2b65fa",
   "metadata": {},
   "source": [
    "### Задание\n",
    "- Обучить Bert для задачи оптимизации\n",
    "- Датасет: IDMB\n",
    "\n",
    "### Анализ\n",
    "- Bert из библиотеки transformers\n",
    "- Использование техник накопления градиента, регуляризации, warmup, weight_decay и планировщика скорости обучения\n",
    "\n",
    "### Имплементация"
   ]
  },
  {
   "cell_type": "markdown",
   "id": "565fa2c7",
   "metadata": {},
   "source": [
    "Подключение библиотек, подготовка данных для модели"
   ]
  },
  {
   "cell_type": "code",
   "execution_count": 1,
   "id": "14ac90b8",
   "metadata": {},
   "outputs": [],
   "source": [
    "import torch\n",
    "from torch.utils.data import DataLoader, Dataset\n",
    "from transformers import BertTokenizer, BertForSequenceClassification, get_cosine_with_hard_restarts_schedule_with_warmup\n",
    "from torch.optim import AdamW\n",
    "from datasets import load_dataset\n",
    "import matplotlib.pyplot as plt\n",
    "from sklearn.metrics import accuracy_score, f1_score, precision_score, recall_score\n",
    "from tqdm import tqdm\n",
    "import torch.amp as amp\n",
    "\n",
    "MAX_LEN = 256\n",
    "BATCH_SIZE = 64\n",
    "EPOCHS = 25\n",
    "LEARNING_RATE = 5e-5\n",
    "GRADIENT_ACCUMULATION_STEPS = 32\n",
    "WARMUP_STEPS = 400\n",
    "DEVICE = torch.device('cuda' if torch.cuda.is_available() else 'cpu')\n",
    "\n",
    "dataset = load_dataset('imdb')\n",
    "tokenizer = BertTokenizer.from_pretrained('bert-base-uncased')\n",
    "\n",
    "class IMDBDataset(Dataset):\n",
    "    def __init__(self, reviews, labels):\n",
    "        self.reviews = reviews\n",
    "        self.labels = labels\n",
    "        \n",
    "    def __len__(self):\n",
    "        return len(self.reviews)\n",
    "    \n",
    "    def __getitem__(self, idx):\n",
    "        encoding = tokenizer.encode_plus(\n",
    "            self.reviews[idx],\n",
    "            add_special_tokens=True,\n",
    "            max_length=MAX_LEN,\n",
    "            padding='max_length',\n",
    "            truncation=True,\n",
    "            return_attention_mask=True,\n",
    "            return_tensors='pt'\n",
    "        )\n",
    "        return {\n",
    "            'input_ids': encoding['input_ids'].flatten(),\n",
    "            'attention_mask': encoding['attention_mask'].flatten(),\n",
    "            'labels': torch.tensor(self.labels[idx], dtype=torch.long)\n",
    "        }\n",
    "\n",
    "train_dataset = IMDBDataset(dataset['train']['text'], dataset['train']['label'])\n",
    "val_dataset = IMDBDataset(dataset['test']['text'], dataset['test']['label'])\n",
    "\n",
    "train_loader = DataLoader(train_dataset, batch_size=BATCH_SIZE, shuffle=True, drop_last=True, num_workers=10)\n",
    "val_loader = DataLoader(val_dataset, batch_size=BATCH_SIZE, num_workers=10)"
   ]
  },
  {
   "cell_type": "markdown",
   "id": "2602a558",
   "metadata": {},
   "source": [
    "- Создание модели Bert\n",
    "- Оптимизатор AdamW\n",
    "- Использование техники накопления градиента\n",
    "- Планировщик с плавным повышением скорости обучения в начале и изменяющийся по косиносному закону в конце"
   ]
  },
  {
   "cell_type": "code",
   "execution_count": 2,
   "id": "4ed2403d",
   "metadata": {},
   "outputs": [
    {
     "name": "stderr",
     "output_type": "stream",
     "text": [
      "Some weights of BertForSequenceClassification were not initialized from the model checkpoint at bert-base-uncased and are newly initialized: ['classifier.bias', 'classifier.weight']\n",
      "You should probably TRAIN this model on a down-stream task to be able to use it for predictions and inference.\n"
     ]
    }
   ],
   "source": [
    "model = BertForSequenceClassification.from_pretrained(\n",
    "    'bert-base-uncased',\n",
    "    num_labels=2,\n",
    "    output_attentions=False,\n",
    "    output_hidden_states=False\n",
    ").to(DEVICE)\n",
    "\n",
    "optimizer = AdamW(model.parameters(), lr=LEARNING_RATE, weight_decay=0.02)\n",
    "total_steps = len(train_loader) * EPOCHS // GRADIENT_ACCUMULATION_STEPS\n",
    "scheduler = get_cosine_with_hard_restarts_schedule_with_warmup(\n",
    "    optimizer,\n",
    "    num_warmup_steps=WARMUP_STEPS,\n",
    "    num_training_steps=total_steps\n",
    ")\n",
    "\n",
    "scaler = amp.GradScaler(DEVICE)"
   ]
  },
  {
   "cell_type": "markdown",
   "id": "9c63eb8e",
   "metadata": {},
   "source": [
    "Функции обучения и инференса"
   ]
  },
  {
   "cell_type": "code",
   "execution_count": 3,
   "id": "0773e13c",
   "metadata": {},
   "outputs": [],
   "source": [
    "train_losses = []\n",
    "val_losses = []\n",
    "accuracies = []\n",
    "f1_scores = []\n",
    "\n",
    "def train_epoch(model, dataloader):\n",
    "    model.train()\n",
    "    total_loss = 0\n",
    "    optimizer.zero_grad()\n",
    "    \n",
    "    for i, batch in enumerate(tqdm(dataloader)):\n",
    "        input_ids = batch['input_ids'].to(DEVICE)\n",
    "        attention_mask = batch['attention_mask'].to(DEVICE)\n",
    "        labels = batch['labels'].to(DEVICE)\n",
    "        \n",
    "        with amp.autocast(str(DEVICE)):\n",
    "            outputs = model(\n",
    "                input_ids,\n",
    "                attention_mask=attention_mask,\n",
    "                labels=labels\n",
    "            )\n",
    "            loss = outputs.loss / GRADIENT_ACCUMULATION_STEPS\n",
    "        \n",
    "        scaler.scale(loss).backward()\n",
    "        \n",
    "        if (i + 1) % GRADIENT_ACCUMULATION_STEPS == 0:\n",
    "            torch.nn.utils.clip_grad_norm_(model.parameters(), 1.0)\n",
    "            scaler.step(optimizer)\n",
    "            scaler.update()\n",
    "            scheduler.step()\n",
    "            optimizer.zero_grad()\n",
    "        \n",
    "        total_loss += loss.item() * GRADIENT_ACCUMULATION_STEPS\n",
    "    \n",
    "    return total_loss / len(dataloader)\n",
    "\n",
    "def evaluate(model, dataloader):\n",
    "    model.eval()\n",
    "    total_loss = 0\n",
    "    predictions = []\n",
    "    true_labels = []\n",
    "    \n",
    "    with torch.no_grad():\n",
    "        for batch in dataloader:\n",
    "            input_ids = batch['input_ids'].to(DEVICE)\n",
    "            attention_mask = batch['attention_mask'].to(DEVICE)\n",
    "            labels = batch['labels'].to(DEVICE)\n",
    "            \n",
    "            outputs = model(\n",
    "                input_ids,\n",
    "                attention_mask=attention_mask,\n",
    "                labels=labels\n",
    "            )\n",
    "            \n",
    "            loss = outputs.loss\n",
    "            total_loss += loss.item()\n",
    "            \n",
    "            logits = outputs.logits\n",
    "            preds = torch.argmax(logits, dim=1)\n",
    "            \n",
    "            predictions.extend(preds.cpu().numpy())\n",
    "            true_labels.extend(labels.cpu().numpy())\n",
    "    \n",
    "    accuracy = accuracy_score(true_labels, predictions)\n",
    "    f1 = f1_score(true_labels, predictions)\n",
    "    precision = precision_score(true_labels, predictions)\n",
    "    recall = recall_score(true_labels, predictions)\n",
    "    \n",
    "    return {\n",
    "        'loss': total_loss / len(dataloader),\n",
    "        'accuracy': accuracy,\n",
    "        'f1': f1,\n",
    "        'precision': precision,\n",
    "        'recall': recall\n",
    "    }"
   ]
  },
  {
   "cell_type": "markdown",
   "id": "dd32967d",
   "metadata": {},
   "source": [
    "Обучение модели"
   ]
  },
  {
   "cell_type": "code",
   "execution_count": 4,
   "id": "910a203f",
   "metadata": {},
   "outputs": [
    {
     "name": "stdout",
     "output_type": "stream",
     "text": [
      "Epoch 1/25\n"
     ]
    },
    {
     "name": "stderr",
     "output_type": "stream",
     "text": [
      "100%|██████████| 390/390 [02:50<00:00,  2.28it/s]\n"
     ]
    },
    {
     "name": "stdout",
     "output_type": "stream",
     "text": [
      "Train Loss: 0.7026; Val Loss: 0.6990; Accuracy: 0.4914; F1 Score: 0.1317; Precision: 0.4498; Recall: 0.0771\n",
      "\n",
      "Epoch 2/25\n"
     ]
    },
    {
     "name": "stderr",
     "output_type": "stream",
     "text": [
      "100%|██████████| 390/390 [02:52<00:00,  2.26it/s]\n"
     ]
    },
    {
     "name": "stdout",
     "output_type": "stream",
     "text": [
      "Train Loss: 0.7009; Val Loss: 0.6959; Accuracy: 0.4914; F1 Score: 0.3246; Precision: 0.4829; Recall: 0.2445\n",
      "\n",
      "Epoch 3/25\n"
     ]
    },
    {
     "name": "stderr",
     "output_type": "stream",
     "text": [
      "100%|██████████| 390/390 [02:52<00:00,  2.26it/s]\n"
     ]
    },
    {
     "name": "stdout",
     "output_type": "stream",
     "text": [
      "Train Loss: 0.6968; Val Loss: 0.6912; Accuracy: 0.5252; F1 Score: 0.5579; Precision: 0.5220; Recall: 0.5992\n",
      "\n",
      "Epoch 4/25\n"
     ]
    },
    {
     "name": "stderr",
     "output_type": "stream",
     "text": [
      "100%|██████████| 390/390 [02:48<00:00,  2.32it/s]\n"
     ]
    },
    {
     "name": "stdout",
     "output_type": "stream",
     "text": [
      "Train Loss: 0.6904; Val Loss: 0.6837; Accuracy: 0.5747; F1 Score: 0.6493; Precision: 0.5524; Recall: 0.7873\n",
      "\n",
      "Epoch 5/25\n"
     ]
    },
    {
     "name": "stderr",
     "output_type": "stream",
     "text": [
      "100%|██████████| 390/390 [02:42<00:00,  2.40it/s]\n"
     ]
    },
    {
     "name": "stdout",
     "output_type": "stream",
     "text": [
      "Train Loss: 0.6815; Val Loss: 0.6721; Accuracy: 0.6410; F1 Score: 0.6810; Precision: 0.6127; Recall: 0.7663\n",
      "\n",
      "Epoch 6/25\n"
     ]
    },
    {
     "name": "stderr",
     "output_type": "stream",
     "text": [
      "100%|██████████| 390/390 [02:46<00:00,  2.34it/s]\n"
     ]
    },
    {
     "name": "stdout",
     "output_type": "stream",
     "text": [
      "Train Loss: 0.6695; Val Loss: 0.6563; Accuracy: 0.6638; F1 Score: 0.7164; Precision: 0.6194; Recall: 0.8493\n",
      "\n",
      "Epoch 7/25\n"
     ]
    },
    {
     "name": "stderr",
     "output_type": "stream",
     "text": [
      "100%|██████████| 390/390 [02:46<00:00,  2.35it/s]\n"
     ]
    },
    {
     "name": "stdout",
     "output_type": "stream",
     "text": [
      "Train Loss: 0.6497; Val Loss: 0.6311; Accuracy: 0.7006; F1 Score: 0.7404; Precision: 0.6536; Recall: 0.8539\n",
      "\n",
      "Epoch 8/25\n"
     ]
    },
    {
     "name": "stderr",
     "output_type": "stream",
     "text": [
      "100%|██████████| 390/390 [02:49<00:00,  2.29it/s]\n"
     ]
    },
    {
     "name": "stdout",
     "output_type": "stream",
     "text": [
      "Train Loss: 0.6197; Val Loss: 0.5942; Accuracy: 0.7326; F1 Score: 0.7638; Precision: 0.6839; Recall: 0.8647\n",
      "\n",
      "Epoch 9/25\n"
     ]
    },
    {
     "name": "stderr",
     "output_type": "stream",
     "text": [
      "100%|██████████| 390/390 [02:41<00:00,  2.41it/s]\n"
     ]
    },
    {
     "name": "stdout",
     "output_type": "stream",
     "text": [
      "Train Loss: 0.5778; Val Loss: 0.5426; Accuracy: 0.7656; F1 Score: 0.7901; Precision: 0.7154; Recall: 0.8822\n",
      "\n",
      "Epoch 10/25\n"
     ]
    },
    {
     "name": "stderr",
     "output_type": "stream",
     "text": [
      "100%|██████████| 390/390 [02:38<00:00,  2.46it/s]\n"
     ]
    },
    {
     "name": "stdout",
     "output_type": "stream",
     "text": [
      "Train Loss: 0.5198; Val Loss: 0.4734; Accuracy: 0.8074; F1 Score: 0.8208; Precision: 0.7674; Recall: 0.8822\n",
      "\n",
      "Epoch 11/25\n"
     ]
    },
    {
     "name": "stderr",
     "output_type": "stream",
     "text": [
      "100%|██████████| 390/390 [02:46<00:00,  2.34it/s]\n"
     ]
    },
    {
     "name": "stdout",
     "output_type": "stream",
     "text": [
      "Train Loss: 0.4486; Val Loss: 0.4030; Accuracy: 0.8414; F1 Score: 0.8492; Precision: 0.8091; Recall: 0.8936\n",
      "\n",
      "Epoch 12/25\n"
     ]
    },
    {
     "name": "stderr",
     "output_type": "stream",
     "text": [
      "100%|██████████| 390/390 [02:44<00:00,  2.37it/s]\n"
     ]
    },
    {
     "name": "stdout",
     "output_type": "stream",
     "text": [
      "Train Loss: 0.3859; Val Loss: 0.3494; Accuracy: 0.8625; F1 Score: 0.8666; Precision: 0.8419; Recall: 0.8927\n",
      "\n",
      "Epoch 13/25\n"
     ]
    },
    {
     "name": "stderr",
     "output_type": "stream",
     "text": [
      "100%|██████████| 390/390 [02:42<00:00,  2.40it/s]\n"
     ]
    },
    {
     "name": "stdout",
     "output_type": "stream",
     "text": [
      "Train Loss: 0.3485; Val Loss: 0.3204; Accuracy: 0.8728; F1 Score: 0.8760; Precision: 0.8540; Recall: 0.8992\n",
      "\n",
      "Epoch 14/25\n"
     ]
    },
    {
     "name": "stderr",
     "output_type": "stream",
     "text": [
      "100%|██████████| 390/390 [02:46<00:00,  2.35it/s]\n"
     ]
    },
    {
     "name": "stdout",
     "output_type": "stream",
     "text": [
      "Train Loss: 0.3216; Val Loss: 0.2987; Accuracy: 0.8800; F1 Score: 0.8840; Precision: 0.8560; Recall: 0.9138\n",
      "\n",
      "Epoch 15/25\n"
     ]
    },
    {
     "name": "stderr",
     "output_type": "stream",
     "text": [
      "100%|██████████| 390/390 [02:48<00:00,  2.31it/s]\n"
     ]
    },
    {
     "name": "stdout",
     "output_type": "stream",
     "text": [
      "Train Loss: 0.2988; Val Loss: 0.2745; Accuracy: 0.8890; F1 Score: 0.8900; Precision: 0.8823; Recall: 0.8978\n",
      "\n",
      "Epoch 16/25\n"
     ]
    },
    {
     "name": "stderr",
     "output_type": "stream",
     "text": [
      "100%|██████████| 390/390 [02:42<00:00,  2.40it/s]\n"
     ]
    },
    {
     "name": "stdout",
     "output_type": "stream",
     "text": [
      "Train Loss: 0.2873; Val Loss: 0.2638; Accuracy: 0.8933; F1 Score: 0.8946; Precision: 0.8838; Recall: 0.9057\n",
      "\n",
      "Epoch 17/25\n"
     ]
    },
    {
     "name": "stderr",
     "output_type": "stream",
     "text": [
      "100%|██████████| 390/390 [02:45<00:00,  2.36it/s]\n"
     ]
    },
    {
     "name": "stdout",
     "output_type": "stream",
     "text": [
      "Train Loss: 0.2728; Val Loss: 0.2640; Accuracy: 0.8933; F1 Score: 0.8973; Precision: 0.8648; Recall: 0.9324\n",
      "\n",
      "Epoch 18/25\n"
     ]
    },
    {
     "name": "stderr",
     "output_type": "stream",
     "text": [
      "100%|██████████| 390/390 [02:42<00:00,  2.40it/s]\n"
     ]
    },
    {
     "name": "stdout",
     "output_type": "stream",
     "text": [
      "Train Loss: 0.2623; Val Loss: 0.2482; Accuracy: 0.8998; F1 Score: 0.9019; Precision: 0.8834; Recall: 0.9211\n",
      "\n",
      "Epoch 19/25\n"
     ]
    },
    {
     "name": "stderr",
     "output_type": "stream",
     "text": [
      "100%|██████████| 390/390 [02:45<00:00,  2.35it/s]\n"
     ]
    },
    {
     "name": "stdout",
     "output_type": "stream",
     "text": [
      "Train Loss: 0.2506; Val Loss: 0.2587; Accuracy: 0.8948; F1 Score: 0.9000; Precision: 0.8580; Recall: 0.9463\n",
      "\n",
      "Epoch 20/25\n"
     ]
    },
    {
     "name": "stderr",
     "output_type": "stream",
     "text": [
      "100%|██████████| 390/390 [02:42<00:00,  2.40it/s]\n"
     ]
    },
    {
     "name": "stdout",
     "output_type": "stream",
     "text": [
      "Train Loss: 0.2421; Val Loss: 0.2362; Accuracy: 0.9052; F1 Score: 0.9067; Precision: 0.8923; Recall: 0.9216\n",
      "\n",
      "Epoch 21/25\n"
     ]
    },
    {
     "name": "stderr",
     "output_type": "stream",
     "text": [
      "100%|██████████| 390/390 [02:45<00:00,  2.35it/s]\n"
     ]
    },
    {
     "name": "stdout",
     "output_type": "stream",
     "text": [
      "Train Loss: 0.2330; Val Loss: 0.2448; Accuracy: 0.9011; F1 Score: 0.9050; Precision: 0.8707; Recall: 0.9421\n",
      "\n",
      "Epoch 22/25\n"
     ]
    },
    {
     "name": "stderr",
     "output_type": "stream",
     "text": [
      "100%|██████████| 390/390 [02:41<00:00,  2.42it/s]\n"
     ]
    },
    {
     "name": "stdout",
     "output_type": "stream",
     "text": [
      "Train Loss: 0.2281; Val Loss: 0.2361; Accuracy: 0.9051; F1 Score: 0.9082; Precision: 0.8794; Recall: 0.9390\n",
      "\n",
      "Epoch 23/25\n"
     ]
    },
    {
     "name": "stderr",
     "output_type": "stream",
     "text": [
      "100%|██████████| 390/390 [02:45<00:00,  2.35it/s]\n"
     ]
    },
    {
     "name": "stdout",
     "output_type": "stream",
     "text": [
      "Train Loss: 0.2195; Val Loss: 0.2323; Accuracy: 0.9071; F1 Score: 0.9099; Precision: 0.8829; Recall: 0.9386\n",
      "\n",
      "Epoch 24/25\n"
     ]
    },
    {
     "name": "stderr",
     "output_type": "stream",
     "text": [
      "100%|██████████| 390/390 [02:59<00:00,  2.17it/s]\n"
     ]
    },
    {
     "name": "stdout",
     "output_type": "stream",
     "text": [
      "Train Loss: 0.2109; Val Loss: 0.2234; Accuracy: 0.9117; F1 Score: 0.9129; Precision: 0.9012; Recall: 0.9249\n",
      "\n",
      "Epoch 25/25\n"
     ]
    },
    {
     "name": "stderr",
     "output_type": "stream",
     "text": [
      "100%|██████████| 390/390 [02:41<00:00,  2.41it/s]\n"
     ]
    },
    {
     "name": "stdout",
     "output_type": "stream",
     "text": [
      "Train Loss: 0.2033; Val Loss: 0.2247; Accuracy: 0.9123; F1 Score: 0.9139; Precision: 0.8977; Recall: 0.9306\n",
      "\n"
     ]
    }
   ],
   "source": [
    "best_val_loss = float('inf')\n",
    "\n",
    "for epoch in range(EPOCHS):\n",
    "    print(f'Epoch {epoch + 1}/{EPOCHS}')\n",
    "    \n",
    "    train_loss = train_epoch(model, train_loader)\n",
    "    train_losses.append(train_loss)\n",
    "    \n",
    "    val_metrics = evaluate(model, val_loader)\n",
    "    val_losses.append(val_metrics['loss'])\n",
    "    accuracies.append(val_metrics['accuracy'])\n",
    "    f1_scores.append(val_metrics['f1'])\n",
    "    \n",
    "    if val_metrics['loss'] < best_val_loss:\n",
    "        best_val_loss = val_metrics['loss']\n",
    "        torch.save(model.state_dict(), 'best_model.pth')\n",
    "    \n",
    "    print(f'Train Loss: {train_loss:.4f}; Val Loss: {val_metrics[\"loss\"]:.4f}; Accuracy: {val_metrics[\"accuracy\"]:.4f}; F1 Score: {val_metrics[\"f1\"]:.4f}; Precision: {val_metrics[\"precision\"]:.4f}; Recall: {val_metrics[\"recall\"]:.4f}\\n')"
   ]
  },
  {
   "cell_type": "markdown",
   "id": "f8a86000",
   "metadata": {},
   "source": [
    "Вывод графиков"
   ]
  },
  {
   "cell_type": "code",
   "execution_count": 5,
   "id": "0146f868",
   "metadata": {},
   "outputs": [
    {
     "data": {
      "image/png": "[encoded data removed]",
      "text/plain": [
       "<Figure size 1200x800 with 3 Axes>"
      ]
     },
     "metadata": {},
     "output_type": "display_data"
    }
   ],
   "source": [
    "plt.figure(figsize=(12, 8))\n",
    "plt.subplot(2, 2, 1)\n",
    "plt.plot(train_losses, label='Train Loss')\n",
    "plt.plot(val_losses, label='Val Loss')\n",
    "plt.legend()\n",
    "plt.title('Loss Evolution')\n",
    "plt.subplot(2, 2, 2)\n",
    "plt.plot(accuracies, label='Accuracy')\n",
    "plt.title('Validation Accuracy')\n",
    "plt.subplot(2, 2, 3)\n",
    "plt.plot(f1_scores, label='F1 Score')\n",
    "plt.title('Validation F1 Score')\n",
    "plt.tight_layout()\n",
    "plt.show()"
   ]
  },
  {
   "cell_type": "markdown",
   "id": "da86d427",
   "metadata": {},
   "source": [
    "### Выводы\n",
    "- Точность модели достигла 91.4%. Однако, начиная с 18-й эпохи, наблюдаются признаки переобучения.\n",
    "- В процессе обучения были использованы различные техники, такие как накопление градиента, регуляризация, warmup, weight decay, а также планировщик скорости обучения.\n",
    "- Поскольку модель требовательна к вычислительным ресурсам, подбор гиперпараметров для её обучения оказался сложной задачей."
   ]
  }
 ],
 "metadata": {
  "kernelspec": {
   "display_name": "Python 3",
   "language": "python",
   "name": "python3"
  },
  "language_info": {
   "codemirror_mode": {
    "name": "ipython",
    "version": 3
   },
   "file_extension": ".py",
   "mimetype": "text/x-python",
   "name": "python",
   "nbconvert_exporter": "python",
   "pygments_lexer": "ipython3",
   "version": "3.10.12"
  }
 },
 "nbformat": 4,
 "nbformat_minor": 5
}
