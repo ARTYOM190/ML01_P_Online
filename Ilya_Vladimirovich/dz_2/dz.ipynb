{
 "cells": [
  {
   "cell_type": "markdown",
   "metadata": {},
   "source": [
    "Цель задания: изучить базовый синтаксис Python\n",
    "Выводы: Изучили синтаксис ветвлений, циклов, исключений, функций"
   ]
  },
  {
   "cell_type": "markdown",
   "metadata": {},
   "source": [
    "1.\tНапишите программу, которая рассчитывает расход топлива маршрута, на вход подается длина маршрута и расход топлива на 100 километров. Используйте try catch (проверка что пользователь ввел число>0). "
   ]
  },
  {
   "cell_type": "code",
   "execution_count": 2,
   "metadata": {},
   "outputs": [],
   "source": [
    "def calculate_fuel_consumption(fuel_consumption_per_100km, distance):\n",
    "    if distance <= 0 or fuel_consumption_per_100km <= 0:\n",
    "            raise ValueError(\"The values must be greater than 0.\")\n",
    "    \n",
    "    return distance * (fuel_consumption_per_100km / 100.0)"
   ]
  },
  {
   "cell_type": "code",
   "execution_count": 3,
   "metadata": {},
   "outputs": [
    {
     "name": "stdout",
     "output_type": "stream",
     "text": [
      "Fuel consumption: 100.0\n"
     ]
    }
   ],
   "source": [
    "try:\n",
    "    fuel_consumption_per_100km = 20\n",
    "    distance = 500\n",
    "    fuel_consumption = calculate_fuel_consumption(fuel_consumption_per_100km, distance)\n",
    "    print(f\"Fuel consumption: {fuel_consumption}\")\n",
    "except ValueError as e:\n",
    "    print(e)"
   ]
  },
  {
   "cell_type": "markdown",
   "metadata": {},
   "source": [
    "2.\tНапишите программу, которая ищет корни квадратного уравнения вида a*x*x+b*x+c. На вход программы подаются a,b,c. Результатом работы программы – действительные корни или сообщение что корней нет."
   ]
  },
  {
   "cell_type": "code",
   "execution_count": 11,
   "metadata": {},
   "outputs": [],
   "source": [
    "import math\n",
    "\n",
    "def find_roots(a, b, c):\n",
    "    discriminant = b**2 - 4*a*c\n",
    "\n",
    "    if discriminant > 0:\n",
    "        root1 = (-b + math.sqrt(discriminant)) / (2*a)\n",
    "        root2 = (-b - math.sqrt(discriminant)) / (2*a)\n",
    "        \n",
    "        return [root1, root2]\n",
    "    elif discriminant == 0:\n",
    "        root = -b / (2*a)\n",
    "        \n",
    "        return [root]\n",
    "    else:\n",
    "        return []"
   ]
  },
  {
   "cell_type": "code",
   "execution_count": 12,
   "metadata": {},
   "outputs": [
    {
     "name": "stdout",
     "output_type": "stream",
     "text": [
      "[-0.41886116991581024, -3.58113883008419]\n"
     ]
    }
   ],
   "source": [
    "roots = find_roots(2, 8, 3)\n",
    "if len(roots) > 0:\n",
    "    print(roots)\n",
    "else:\n",
    "    print(\"Has no real roots.\")"
   ]
  },
  {
   "cell_type": "markdown",
   "metadata": {},
   "source": [
    "3.\tНапишите программу, находящую наибольшее и наименьшее значение функции y = -26*x**2+25*x-9 на отрезке [-5,5]. Для решения и используйте while и какой то шаг (например 0.1). Найти производную и особую точку."
   ]
  },
  {
   "cell_type": "code",
   "execution_count": 25,
   "metadata": {},
   "outputs": [],
   "source": [
    "def find_extrema(start, end, step):\n",
    "    x = start\n",
    "    max_value = float('-inf')\n",
    "    min_value = float('inf')\n",
    "\n",
    "    while x <= end:\n",
    "        y = -26*x**2 + 25*x - 9\n",
    "        if y > max_value:\n",
    "            max_value = y\n",
    "        if y < min_value:\n",
    "            min_value = y\n",
    "        x += step\n",
    "    \n",
    "    return min_value, max_value"
   ]
  },
  {
   "cell_type": "code",
   "execution_count": 26,
   "metadata": {},
   "outputs": [
    {
     "name": "stdout",
     "output_type": "stream",
     "text": [
      "Min value: -784, max value: -2.990400000000003\n"
     ]
    }
   ],
   "source": [
    "min_value, max_value = find_extrema(-5, 5, 0.01)\n",
    "print(f\"Min value: {min_value}, max value: {max_value}\")"
   ]
  },
  {
   "cell_type": "markdown",
   "metadata": {},
   "source": [
    "Производная функции y = -26*x**2+25*x-9 равна:\n",
    "y' = -52*x + 25\n",
    "\n",
    "Особая точка:\n",
    "-52*x + 25 = 0\n",
    "x = 25/52"
   ]
  }
 ],
 "metadata": {
  "kernelspec": {
   "display_name": "base",
   "language": "python",
   "name": "python3"
  },
  "language_info": {
   "codemirror_mode": {
    "name": "ipython",
    "version": 3
   },
   "file_extension": ".py",
   "mimetype": "text/x-python",
   "name": "python",
   "nbconvert_exporter": "python",
   "pygments_lexer": "ipython3",
   "version": "3.12.3"
  }
 },
 "nbformat": 4,
 "nbformat_minor": 2
}
