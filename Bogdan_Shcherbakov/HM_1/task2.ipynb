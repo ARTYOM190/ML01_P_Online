{
 "cells": [
  {
   "cell_type": "markdown",
   "metadata": {},
   "source": [
    "\n",
    "Цель задания: изучить синтаксис python\n",
    "\n",
    "Задание: 2. Напишите программу, которая ищет корни квадратного уравнения вида a*x*x+b*x+c. На вход программы подаются a,b,c. Результатом работы программы – действительные корни или сообщение что корней нет. \n",
    "\n",
    "Задание достаточно простое, не знаю как его еще можно улучшить. Решаем обычный дискриминант и прогоняем через конструкцию if else три различных варианта. По аналогии можно вынести инпут в отдельные функции, на данный момент не вижу в это смысла и не могу придумать для чего нам это может быть нужно, т.к. программа принимает любые значения. "
   ]
  },
  {
   "cell_type": "code",
   "execution_count": null,
   "metadata": {},
   "outputs": [
    {
     "name": "stdout",
     "output_type": "stream",
     "text": [
      "(-0.41886116991581024, -3.58113883008419)\n"
     ]
    }
   ],
   "source": [
    "import math\n",
    "\n",
    "def square_equation():\n",
    "    arg_a = float(input(\"Введите первый аргумент: \"))\n",
    "    arg_b = float(input(\"Введите второй аргумент: \"))\n",
    "    arg_c = float(input(\"Введите третий аргумент: \"))\n",
    "    \n",
    "    discriminant = arg_b**2 - 4 * arg_a * arg_c\n",
    "    \n",
    "    if discriminant < 0:\n",
    "        return \"Корней нет\"\n",
    "    elif discriminant == 0:\n",
    "        return -arg_b / (2 * arg_a)\n",
    "    elif discriminant > 0:\n",
    "        return (-arg_b + math.sqrt(discriminant)) / (2 * arg_a), (-arg_b - math.sqrt(discriminant)) / (2 * arg_a)\n",
    "    \n",
    "print(square_equation())"
   ]
  }
 ],
 "metadata": {
  "kernelspec": {
   "display_name": "Python 3",
   "language": "python",
   "name": "python3"
  },
  "language_info": {
   "codemirror_mode": {
    "name": "ipython",
    "version": 3
   },
   "file_extension": ".py",
   "mimetype": "text/x-python",
   "name": "python",
   "nbconvert_exporter": "python",
   "pygments_lexer": "ipython3",
   "version": "3.11.4"
  }
 },
 "nbformat": 4,
 "nbformat_minor": 2
}
