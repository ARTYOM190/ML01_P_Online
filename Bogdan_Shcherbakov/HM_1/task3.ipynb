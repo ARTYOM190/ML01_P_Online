{
 "cells": [
  {
   "cell_type": "markdown",
   "metadata": {},
   "source": [
    "Цель задания: изучить синтаксис python\n",
    "\n",
    "Задание: Напишите программу, находящую наибольшее и наименьшее значение функции y = -26*x**2+25*x-9 на отрезке [-5,5]. Для решения и используйте while и какой то шаг (например 0.1). Найти производную и особую точку.\n",
    "\n",
    " ![alt text](image.png)\n",
    "\n",
    "Уравнение задано в условии поэтому нам остается только решить его. Нужно еще сделать: возможность ввода конца, начала отрезка и шаг; нарисовать график с помощбю библеотеки pyplot;\n",
    "\n",
    "Сделал возможность ввода конца, начала отрезка и шага, сделал вывод особой точки и производной данной функции"
   ]
  },
  {
   "cell_type": "code",
   "execution_count": 16,
   "metadata": {},
   "outputs": [
    {
     "name": "stdout",
     "output_type": "stream",
     "text": [
      "Значенте введено неверно, поробуйте снова\n",
      "Значенте введено неверно, поробуйте снова\n",
      "Значенте введено неверно, поробуйте снова\n",
      "Значенте введено неверно, поробуйте снова\n",
      "Значенте введено неверно, поробуйте снова\n",
      "Значенте введено неверно, поробуйте снова\n",
      "Значенте введено неверно, поробуйте снова\n",
      "Минимальное значение: -2358.999999999999, Максимальное значение: -63.0\n",
      "Производная: y = -52*x+25\n",
      "Особая точка: -25/(-52) = 0,4808\n"
     ]
    }
   ],
   "source": [
    "import matplotlib as plt\n",
    "\n",
    "def find_extremum(start, end, step):\n",
    "    x = start\n",
    "    max_value = float('-inf')\n",
    "    min_value = float('inf')\n",
    "\n",
    "    while x <= end:\n",
    "        y = -26*x**2 + 25*x - 9\n",
    "        if y > max_value:\n",
    "            max_value = y\n",
    "        if y < min_value:\n",
    "            min_value = y\n",
    "        x += step\n",
    "    \n",
    "    return min_value, max_value\n",
    "\n",
    "def start_input():\n",
    "    while(True):\n",
    "        start = input('Введите начало отрезка: ')\n",
    "        try:\n",
    "            start = float(start)\n",
    "            if type(start) is not float:\n",
    "                raise ValueError\n",
    "            else:\n",
    "                return start\n",
    "        except Exception:\n",
    "            print(\"Значенте введено неверно, поробуйте снова\")\n",
    "    \n",
    "def end_input():\n",
    "    while(True):\n",
    "        end = input('Введите конец отрезка: ')\n",
    "        try:\n",
    "            end = float(end)\n",
    "            if type(end) is not float:\n",
    "                raise ValueError\n",
    "            else:\n",
    "                return end\n",
    "        except Exception:\n",
    "            print(\"Значенте введено неверно, поробуйте снова\")\n",
    "    \n",
    "def step_input():\n",
    "    while(True):\n",
    "        step = input('Введите шаг: ')\n",
    "        try:\n",
    "            step = float(step)\n",
    "            if type(step) is not float:\n",
    "                raise ValueError\n",
    "            else:\n",
    "                return step\n",
    "        except Exception:\n",
    "            print(\"Значенте введено неверно, поробуйте снова\")\n",
    "    \n",
    "min_value, max_value = find_extremum(start_input(), end_input(), step_input())\n",
    "\n",
    "print(f\"Минимальное значение: {min_value}, Максимальное значение: {max_value}\")\n",
    "print(\"Производная: y = -52*x+25\")\n",
    "print(\"Особая точка: -25/(-52) = 0,4808\")"
   ]
  }
 ],
 "metadata": {
  "kernelspec": {
   "display_name": "Python 3",
   "language": "python",
   "name": "python3"
  },
  "language_info": {
   "codemirror_mode": {
    "name": "ipython",
    "version": 3
   },
   "file_extension": ".py",
   "mimetype": "text/x-python",
   "name": "python",
   "nbconvert_exporter": "python",
   "pygments_lexer": "ipython3",
   "version": "3.11.4"
  }
 },
 "nbformat": 4,
 "nbformat_minor": 2
}
