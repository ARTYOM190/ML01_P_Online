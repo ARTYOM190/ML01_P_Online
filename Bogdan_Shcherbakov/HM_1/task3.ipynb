{
 "cells": [
  {
   "cell_type": "markdown",
   "metadata": {},
   "source": [
    "Цель задания: изучить синтаксис python\n",
    "\n",
    "Задание: Напишите программу, находящую наибольшее и наименьшее значение функции y = -26*x**2+25*x-9 на отрезке [-5,5]. Для решения и используйте while и какой то шаг (например 0.1). Найти производную и особую точку.\n",
    "\n",
    " ![alt text](image.png)\n",
    "\n",
    "Уравнение задано в условии поэтому нам остается только решить его. Нужно еще сделать: возможность ввода конца, начала отрезка и шаг; нарисовать график с помощбю библеотеки pyplot; найти производную и особую точку"
   ]
  },
  {
   "cell_type": "code",
   "execution_count": 3,
   "metadata": {},
   "outputs": [
    {
     "name": "stdout",
     "output_type": "stream",
     "text": [
      "Min value: -784, max value: -2.990400000000003\n"
     ]
    }
   ],
   "source": [
    "def find_extremum(start, end, step):\n",
    "    x = start\n",
    "    max_value = float('-inf')\n",
    "    min_value = float('inf')\n",
    "\n",
    "    while x <= end:\n",
    "        y = -26*x**2 + 25*x - 9\n",
    "        if y > max_value:\n",
    "            max_value = y\n",
    "        if y < min_value:\n",
    "            min_value = y\n",
    "        x += step\n",
    "    \n",
    "    return min_value, max_value\n",
    "min_value, max_value = find_extremum(-5, 5, 0.01)\n",
    "print(f\"Min value: {min_value}, max value: {max_value}\")"
   ]
  }
 ],
 "metadata": {
  "kernelspec": {
   "display_name": "Python 3",
   "language": "python",
   "name": "python3"
  },
  "language_info": {
   "codemirror_mode": {
    "name": "ipython",
    "version": 3
   },
   "file_extension": ".py",
   "mimetype": "text/x-python",
   "name": "python",
   "nbconvert_exporter": "python",
   "pygments_lexer": "ipython3",
   "version": "3.11.4"
  }
 },
 "nbformat": 4,
 "nbformat_minor": 2
}
