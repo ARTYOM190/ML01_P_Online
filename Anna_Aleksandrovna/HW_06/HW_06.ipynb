{
 "cells": [
  {
   "cell_type": "markdown",
   "metadata": {},
   "source": [
    "ЗАДАНИЕ\n",
    "\n",
    "Напишите декоратор, оптимизирующий работу декорируемой функции. Декоратор должен сохранять результат работы функции на ближайшие три запуска и вместо выполнения функции возвращать сохранённый результат. \n",
    "После трёх запусков функция должна вызываться вновь, а результат работы функции — вновь кешироваться.\n",
    "\n",
    "Реализовать с использованием потоков и процессов скачивание файлов из интернета. \n",
    "Список файлов для скачивания подготовить самостоятельно (например изображений, не менее 100 изображений или других объектов). Сравнить производительность с последовательным методом. Сравнивть производительность Thread и multiprocessing решений. Попробовать подобрать оптимальное число потоков/процессов. "
   ]
  },
  {
   "cell_type": "markdown",
   "metadata": {},
   "source": [
    "РЕШЕНИЕ\n",
    "1. Импорт библиотек\n",
    "\n",
    "requests - библиотека для выполнения HTTP-запросов.\n",
    "\n",
    "os - библиотека для взаимодействия с операционной системой, хотя в этом коде она не используется.\n",
    "\n",
    "time - библиотека для работы со временем, используется для измерения производительности.\n",
    "\n",
    "ThreadPoolExecutor и ProcessPoolExecutor - классы из модуля concurrent.futures позволяют выполнять функции асинхронно, либо в потоках, либо в процессах."
   ]
  },
  {
   "cell_type": "code",
   "execution_count": null,
   "metadata": {},
   "outputs": [],
   "source": [
    "import requests\n",
    "import os\n",
    "import time\n",
    "from concurrent.futures import ThreadPoolExecutor, ProcessPoolExecutor"
   ]
  },
  {
   "cell_type": "markdown",
   "metadata": {},
   "source": [
    "2. Декоратор cache_results\n",
    "\n",
    "Назначение: Декоратор, который кэширует результаты функции, чтобы не выполнять её повторно для одних и тех же аргументов больше трёх раз.\n",
    "cache - cловарь для хранения результатов вызовов функции.\n",
    "call_count - cчетчик количества вызовов функции.\n",
    "wrapper: Вложенная функция, которая оборачивает оригинальную функцию. Она проверяет, была ли функция вызвана с теми же аргументами, и если да, возвращает закэшированный результат. Если функция вызывается более трех раз, кэш очищается."
   ]
  },
  {
   "cell_type": "code",
   "execution_count": null,
   "metadata": {},
   "outputs": [],
   "source": [
    "def cache_results(func):\n",
    "    cache = {}\n",
    "    call_count = 0\n",
    "\n",
    "    def wrapper(*args):\n",
    "        nonlocal call_count\n",
    "        call_count += 1\n",
    "        \n",
    "        if call_count <= 3 and args in cache:\n",
    "            return cache[args]\n",
    "        \n",
    "        result = func(*args)\n",
    "        if call_count <= 3:\n",
    "            cache[args] = result\n",
    "        else:\n",
    "            call_count = 1\n",
    "            cache.clear()  # Очищаем кеш, если было больше 3 вызовов\n",
    "        \n",
    "        return result\n",
    "\n",
    "    return wrapper"
   ]
  },
  {
   "cell_type": "markdown",
   "metadata": {},
   "source": [
    "3. Функция download_file\n",
    "\n",
    "Назначение: Загружает файл по указанному URL и сохраняет его на локальном диске.\n",
    "Имя файла: Генерируется из URL, заменяя недопустимые символы.\n",
    "requests.get - отправляет HTTP GET-запрос по указанному URL.\n",
    "r.raise_for_status() - проверяет, был ли запрос успешным (статус-код 200). Если нет, выбрасывает исключение.\n",
    "Запись файла: Файл записывается в бинарном режиме, используя потоковое чтение данных для экономии памяти."
   ]
  },
  {
   "cell_type": "code",
   "execution_count": null,
   "metadata": {},
   "outputs": [],
   "source": [
    "@cache_results\n",
    "def download_file(url):\n",
    "    # Генерируем имя файла, убирая недопустимые символы\n",
    "    local_filename = url.split('/')[-1].replace('?', '_')  # Заменяем '?' на '_'\n",
    "    \n",
    "    with requests.get(url, stream=True) as r:\n",
    "        r.raise_for_status()\n",
    "        with open(local_filename, 'wb') as f:\n",
    "            for chunk in r.iter_content(chunk_size=8192):\n",
    "                f.write(chunk)\n",
    "    return local_filename"
   ]
  },
  {
   "cell_type": "markdown",
   "metadata": {},
   "source": [
    "4. Функция download_files_in_threads\n",
    "\n",
    "Назначение: Загружает файлы по списку URL-адресов, используя многопоточность.\n",
    "ThreadPoolExecutor: Создает пул потоков, позволяющий одновременно выполнять несколько загрузок.\n",
    "executor.map: Применяет функцию download_file ко всем URL в списке urls.\n"
   ]
  },
  {
   "cell_type": "code",
   "execution_count": null,
   "metadata": {},
   "outputs": [],
   "source": [
    "def download_files_in_threads(urls):\n",
    "    with ThreadPoolExecutor(max_workers=5) as executor:\n",
    "        executor.map(download_file, urls)"
   ]
  },
  {
   "cell_type": "markdown",
   "metadata": {},
   "source": [
    "5. Функция download_files_in_processes\n",
    "\n",
    "Назначение: Загружает файлы по списку URL-адресов, используя многопроцессорность.\n",
    "ProcessPoolExecutor: Создает пул процессов, позволяя выполнять загрузки в разных процессах, что может быть более эффективно для CPU-bound задач."
   ]
  },
  {
   "cell_type": "code",
   "execution_count": null,
   "metadata": {},
   "outputs": [],
   "source": [
    "def download_files_in_processes(urls):\n",
    "    with ProcessPoolExecutor(max_workers=5) as executor:\n",
    "        executor.map(download_file, urls)"
   ]
  },
  {
   "cell_type": "markdown",
   "metadata": {},
   "source": [
    "6. Функция generate_file_urls\n",
    "\n",
    "Назначение: Генерирует список из 100 URL-адресов для изображений размером 150x150 пикселей с текстом от 0 до 99.\n",
    "Возврат: Возвращает список строк, представляющих URL-адреса."
   ]
  },
  {
   "cell_type": "code",
   "execution_count": null,
   "metadata": {},
   "outputs": [],
   "source": [
    "def generate_file_urls():\n",
    "    # Генерация списка URL-адресов\n",
    "    return [f\"https://via.placeholder.com/150?text={i}\" for i in range(100)]"
   ]
  },
  {
   "cell_type": "markdown",
   "metadata": {},
   "source": [
    "7. Основной блок кода\n",
    "\n",
    "Назначение: Основной блок, который выполняется при запуске скрипта.\n",
    "Генерация URL: Создает список URL-адресов с помощью generate_file_urls().\n",
    "Измерение времени: Сравнивает время загрузки с использованием трех различных методов (последовательный, многопоточный и многопроцессорный) и выводит результаты."
   ]
  },
  {
   "cell_type": "code",
   "execution_count": null,
   "metadata": {},
   "outputs": [],
   "source": [
    "if __name__ == \"__main__\":\n",
    "    urls = generate_file_urls()\n",
    "\n",
    "    # Сравнение производительности последовательного метода\n",
    "    start_time = time.time()\n",
    "    for url in urls:\n",
    "        download_file(url)\n",
    "    sequential_time = time.time() - start_time\n",
    "    print(f\"Sequential download time: {sequential_time:.2f} seconds\")\n",
    "\n",
    "    # Сравнение производительности с использованием потоков\n",
    "    start_time = time.time()\n",
    "    download_files_in_threads(urls)\n",
    "    thread_time = time.time() - start_time\n",
    "    print(f\"Threaded download time: {thread_time:.2f} seconds\")\n",
    "\n",
    "    # Сравнение производительности с использованием процессов\n",
    "    start_time = time.time()\n",
    "    download_files_in_processes(urls)\n",
    "    process_time = time.time() - start_time\n",
    "    print(f\"Process download time: {process_time:.2f} seconds\")"
   ]
  },
  {
   "cell_type": "markdown",
   "metadata": {},
   "source": [
    "ВЫВОД:\n",
    "\n",
    "На выходе программы мы получаем что-то такое:"
   ]
  },
  {
   "cell_type": "code",
   "execution_count": null,
   "metadata": {},
   "outputs": [],
   "source": [
    "Sequential download time: X.XX seconds\n",
    "Threaded download time: Y.YY seconds\n",
    "Process download time: Z.ZZ seconds"
   ]
  },
  {
   "cell_type": "markdown",
   "metadata": {},
   "source": [
    "X.XX — время, затраченное на последовательную загрузку всех 100 изображений.\n",
    "\n",
    "Y.YY — время, затраченное на загрузку изображений с использованием потоков.\n",
    "\n",
    "Z.ZZ — время, затраченное на загрузку изображений с использованием процессов."
   ]
  }
 ],
 "metadata": {
  "language_info": {
   "name": "python"
  }
 },
 "nbformat": 4,
 "nbformat_minor": 2
}
