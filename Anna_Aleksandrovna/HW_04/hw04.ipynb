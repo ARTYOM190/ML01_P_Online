{
 "cells": [
  {
   "cell_type": "markdown",
   "metadata": {},
   "source": [
    "Задание:\n",
    "1.\tОбщее число оценок в файле\n",
    "2.\tОбщее количество пользователей, поставивших оценки\n",
    "3.\tОбщее количество оцененных фильмов\n",
    "4.\tID самого активного пользователя\n",
    "5.\tФильм, собравший наибольшее количество оценок\n"
   ]
  },
  {
   "cell_type": "markdown",
   "metadata": {},
   "source": [
    "Импортируем библиотеку pandas и даем ей псевдоним pd. Эта библиотека предоставляет мощные инструменты для анализа и манипуляции данными, особенно в табличном формате"
   ]
  },
  {
   "cell_type": "code",
   "execution_count": null,
   "metadata": {},
   "outputs": [],
   "source": [
    "import pandas as pd\n"
   ]
  },
  {
   "cell_type": "markdown",
   "metadata": {},
   "source": [
    "Задаем переменную file_path, которая содержит строку с путем к Excel файлу, содержащему данные о оценках. Вы можете изменить data = pd.read_csv(file_path) на путь к вашему файлу."
   ]
  },
  {
   "cell_type": "code",
   "execution_count": null,
   "metadata": {},
   "outputs": [],
   "source": [
    "file_path = 'ratings_small.csv'  # Укажите путь к вашему файлу\n",
    "data = pd.read_csv(file_path)"
   ]
  },
  {
   "cell_type": "markdown",
   "metadata": {},
   "source": [
    "Вычисляем общее количество оценок в файле, используя функцию len(), которая возвращает количество строк в DataFrame. Каждая строка соответствует одной оценке.\n",
    "\n",
    "Выводим на экран общее количество оценок, используя форматированные строки (f-строки) для удобного отображения результата."
   ]
  },
  {
   "cell_type": "code",
   "execution_count": null,
   "metadata": {},
   "outputs": [],
   "source": [
    "total_ratings = len(data)\n",
    "print(f'Total number of ratings: {total_ratings}')"
   ]
  },
  {
   "cell_type": "markdown",
   "metadata": {},
   "source": [
    "Считаем общее количество уникальных пользователей, которые поставили оценки, используя метод nunique() на столбце userId. Метод возвращает количество уникальных значений в этом столбце."
   ]
  },
  {
   "cell_type": "code",
   "execution_count": null,
   "metadata": {},
   "outputs": [],
   "source": [
    "total_users = data['userId'].nunique()\n",
    "print(f'Total number of users who gave ratings: {total_users}')"
   ]
  },
  {
   "cell_type": "code",
   "execution_count": null,
   "metadata": {},
   "outputs": [],
   "source": [
    "total_users = data['userId'].nunique()\n",
    "print(f'Total number of users who gave ratings: {total_users}')"
   ]
  },
  {
   "cell_type": "markdown",
   "metadata": {},
   "source": [
    "Считаем общее количество уникальных фильмов, которые были оценены, с помощью метода nunique() на столбце movieId."
   ]
  },
  {
   "cell_type": "code",
   "execution_count": null,
   "metadata": {},
   "outputs": [],
   "source": [
    "total_movies = data['movieId'].nunique()\n",
    "print(f'Total number of rated movies: {total_movies}')"
   ]
  },
  {
   "cell_type": "markdown",
   "metadata": {},
   "source": [
    "Находим ID самого активного пользователя. Сначала data['userId'].value_counts() подсчитывает количество оценок для каждого пользователя, возвращая серию, где индексом являются userId, а значениями — количество оценок. Затем idxmax() находит индекс (ID пользователя) с максимальным значением."
   ]
  },
  {
   "cell_type": "code",
   "execution_count": null,
   "metadata": {},
   "outputs": [],
   "source": [
    "most_active_user = data['userId'].value_counts().idxmax()\n",
    "print(f'ID of the most active user: {most_active_user}')\n"
   ]
  },
  {
   "cell_type": "markdown",
   "metadata": {},
   "source": [
    "Находим фильм с наибольшим количеством оценок. Аналогично предыдущему шагу, data['movieId'].value_counts() подсчитывает количество оценок для каждого фильма, а idxmax() находит ID фильма с максимальным количеством оценок."
   ]
  },
  {
   "cell_type": "code",
   "execution_count": null,
   "metadata": {},
   "outputs": [],
   "source": [
    "\n",
    "most_rated_movie = data['movieId'].value_counts().idxmax()\n",
    "print(f'Movie with the highest number of ratings: {most_rated_movie}')"
   ]
  },
  {
   "cell_type": "markdown",
   "metadata": {},
   "source": [
    "ВЫВОД:\n",
    "Т.о. программа считывает данные из Excel файла и выполняет анализ, выводя информацию о количестве оценок, пользователей, фильмов, а также определяя самого активного пользователя и наиболее оцененный фильм. "
   ]
  }
 ],
 "metadata": {
  "kernelspec": {
   "display_name": "base",
   "language": "python",
   "name": "python3"
  },
  "language_info": {
   "codemirror_mode": {
    "name": "ipython",
    "version": 3
   },
   "file_extension": ".py",
   "mimetype": "text/x-python",
   "name": "python",
   "nbconvert_exporter": "python",
   "pygments_lexer": "ipython3",
   "version": "3.12.7"
  }
 },
 "nbformat": 4,
 "nbformat_minor": 2
}
