{
 "cells": [
  {
   "cell_type": "code",
   "execution_count": null,
   "metadata": {},
   "outputs": [],
   "source": [
    "ЗАДАНИЕ\n",
    "Есть Алфавит, характеристиками которого являются: \n",
    "1. Язык\n",
    "2. Список букв\n",
    "\n",
    "Для Алфавита можно: \n",
    "1. Напечатать все буквы алфавита\n",
    "2. Посчитать количество букв\n",
    "\n",
    "Так же есть Английский алфавит, который обладает следующими свойствами: \n",
    "1. Язык\n",
    "2. Список букв\n",
    "3. Количество букв\n",
    "\n",
    "Для Английского алфавита можно: \n",
    "1. Посчитать количество букв\n",
    "2. Определить, относится ли буква к английскому алфавиту\n",
    "3. Получить пример текста на английском языке\n",
    "\n",
    "\n",
    "Класс Alphabet\n",
    "1. Создайте класс Alphabet\n",
    "2. Создайте метод __init__(), внутри которого будут определены два динамических свойства: 1) lang - язык и 2) letters - список букв. Начальные значения свойств берутся из входных параметров метода.\n",
    "3. Создайте метод print(), который выведет в консоль буквы алфавита\n",
    "4. Создайте метод letters_num(), который вернет количество букв в алфавите\n",
    "\n",
    "Класс EngAlphabet\n",
    "1. Создайте класс EngAlphabet путем наследования от класса Alphabet\n",
    "2. Создайте метод __init__(), внутри которого будет вызываться родительский метод __init__(). В качестве параметров ему будут передаваться обозначение языка(например, 'En') и строка, состоящая из всех букв алфавита(можно воспользоваться свойством ascii_uppercase из модуля string).\n",
    "3. Добавьте приватное статическое свойство __letters_num, которое будет хранить количество букв в алфавите.\n",
    "4. Создайте метод is_en_letter(), который будет принимать букву в качестве параметра и определять, относится ли эта буква к английскому алфавиту.\n",
    "5. Переопределите метод letters_num() - пусть в текущем классе классе он будет возвращать значение свойства __letters_num.\n",
    "6. Создайте статический метод example(), который будет возвращать пример текста на английском языке.\n",
    "\n"
   ]
  },
  {
   "cell_type": "markdown",
   "metadata": {},
   "source": [
    "РЕШЕНИЕ\n",
    "Импортируем модуль string, который содержит различные константы и функции для работы со строками. В этом модуле есть, например, ascii_uppercase, который представляет собой строку всех заглавных букв английского алфавита."
   ]
  },
  {
   "cell_type": "code",
   "execution_count": null,
   "metadata": {},
   "outputs": [],
   "source": [
    "import string"
   ]
  },
  {
   "cell_type": "markdown",
   "metadata": {},
   "source": [
    "Определяем класс Alphabet, который будет представлять общий алфавит с определенными характеристиками, такими как язык и список букв.\n",
    "\n",
    "метод инициализации (конструктор), который вызывается при создании нового экземпляра класса. Он принимает два параметра: lang (язык) и letters (список букв).\n",
    "\n",
    "Устанавливаем значение свойства lang экземпляра класса равным переданному значению lang. Это свойство будет хранить информацию о языке алфавита.\n",
    "\n",
    "Устанавливаем значение свойства letters экземпляра класса равным переданному значению letters. Это свойство будет хранить список букв алфавита."
   ]
  },
  {
   "cell_type": "code",
   "execution_count": null,
   "metadata": {},
   "outputs": [],
   "source": [
    "class Alphabet:\n",
    "    def __init__(self, lang, letters):\n",
    "        self.lang = lang  # Язык\n",
    "        self.letters = letters  # Список букв"
   ]
  },
  {
   "cell_type": "markdown",
   "metadata": {},
   "source": [
    "Определяем метод print_letters, который будет выводить буквы алфавита на экран.\n",
    "\n",
    "Выводим строку с буквами алфавита, используя свойство letters."
   ]
  },
  {
   "cell_type": "code",
   "execution_count": null,
   "metadata": {},
   "outputs": [],
   "source": [
    "def print_letters(self):\n",
    "        \"\"\"Выводит буквы алфавита на экран.\"\"\"\n",
    "        print(\"Letters in the alphabet:\", self.letters)"
   ]
  },
  {
   "cell_type": "markdown",
   "metadata": {},
   "source": [
    "Определяем метод letters_num, который будет возвращать количество букв в алфавите.\n",
    "\n",
    "Возвращаем длину списка letters, которая соответствует количеству букв в алфавите."
   ]
  },
  {
   "cell_type": "code",
   "execution_count": null,
   "metadata": {},
   "outputs": [],
   "source": [
    "def letters_num(self):\n",
    "        \"\"\"Возвращает количество букв в алфавите.\"\"\"\n",
    "        return len(self.letters)"
   ]
  },
  {
   "cell_type": "markdown",
   "metadata": {},
   "source": [
    " Определяем класс EngAlphabet, который наследует от класса Alphabet. Это означает, что EngAlphabet будет иметь все свойства и методы родительского класса.\n",
    "\n",
    " Создаем приватное статическое свойство __letters_num, которое хранит количество букв в английском алфавите. Мы используем string.ascii_uppercase, чтобы получить строку всех заглавных букв."
   ]
  },
  {
   "cell_type": "code",
   "execution_count": null,
   "metadata": {},
   "outputs": [],
   "source": [
    "class EngAlphabet(Alphabet):\n",
    "    __letters_num = len(string.ascii_uppercase)"
   ]
  },
  {
   "cell_type": "markdown",
   "metadata": {},
   "source": [
    "Определяем метод инициализации для класса EngAlphabet.\n",
    "\n",
    "Вызываем конструктор родительского класса Alphabet с параметрами 'En' (язык) и string.ascii_uppercase (список букв английского алфавита)."
   ]
  },
  {
   "cell_type": "code",
   "execution_count": null,
   "metadata": {},
   "outputs": [],
   "source": [
    "def __init__(self):\n",
    "        super().__init__('En', string.ascii_uppercase)  # Вызываем родительский конструктор"
   ]
  },
  {
   "cell_type": "markdown",
   "metadata": {},
   "source": [
    "Определяем метод is_en_letter, который принимает букву в качестве параметра и проверяет, относится ли она к английскому алфавиту.\n",
    "\n",
    "Приводим переданную букву к верхнему регистру и проверяем, содержится ли она в списке letters. Метод возвращает True, если буква есть, и False, если ее нет."
   ]
  },
  {
   "cell_type": "code",
   "execution_count": null,
   "metadata": {},
   "outputs": [],
   "source": [
    "def is_en_letter(self, letter):\n",
    "        \"\"\"Определяет, относится ли буква к английскому алфавиту.\"\"\"\n",
    "        return letter.upper() in self.letters  # Проверяем, есть ли буква в английском алфавите"
   ]
  },
  {
   "cell_type": "markdown",
   "metadata": {},
   "source": [
    "Переопределяем метод letters_num из родительского класса Alphabet.\n",
    "\n",
    "Возвращаем значение приватного статического свойства __letters_num, которое хранит количество букв в английском алфавите."
   ]
  },
  {
   "cell_type": "code",
   "execution_count": null,
   "metadata": {},
   "outputs": [],
   "source": [
    "def letters_num(self):\n",
    "        \"\"\"Возвращает количество букв в английском алфавите.\"\"\"\n",
    "        return EngAlphabet.__letters_num  # Возвращаем количество букв"
   ]
  },
  {
   "cell_type": "markdown",
   "metadata": {},
   "source": [
    "Декоратор для определения статического метода, который не зависит от экземпляра класса.\n",
    "\n",
    "Определяем статический метод example, который будет возвращать пример текста на английском языке.\n",
    "\n",
    "Возвращаем строку, представляющую пример текста на английском языке."
   ]
  },
  {
   "cell_type": "code",
   "execution_count": null,
   "metadata": {},
   "outputs": [],
   "source": [
    "@staticmethod\n",
    "def example():\n",
    "    \"\"\"Возвращает пример текста на английском языке.\"\"\"\n",
    "    return \"This is an example sentence in English.\""
   ]
  },
  {
   "cell_type": "markdown",
   "metadata": {},
   "source": [
    "Проверяем, является ли этот файл основным исполняемым скриптом. Это позволяет запустить код внутри блока только если файл выполняется напрямую, а не импортируется.\n",
    "\n",
    "english_alphabet = EngAlphabet() - Создаем экземпляр класса EngAlphabet.\n",
    "english_alphabet.print_letters()- Вызываем метод print_letters для вывода букв английского алфавита.\n",
    "print(\"Number of letters in the English alphabet:\", english_alphabet.letters_num()): Вызываем метод letters_num и выводим количество букв в английском алфавите.\n",
    "Определяем переменную letter и присваиваем ей значение 'A'.\n",
    "print(f'Is \"{letter}\" an English letter? {english_alphabet.is_en_letter(letter)}') - Вызываем метод is_en_letter, чтобы проверить, является ли буква 'A' английской, и выводим результат.\n",
    "print(\"Example text:\", EngAlphabet.example()) - Вызываем статический метод example и выводим пример текста на английском языке."
   ]
  },
  {
   "cell_type": "code",
   "execution_count": null,
   "metadata": {},
   "outputs": [],
   "source": [
    "# Пример использования классов\n",
    "if __name__ == \"__main__\":\n",
    "    # Создаем экземпляр английского алфавита\n",
    "    english_alphabet = EngAlphabet()\n",
    "    \n",
    "    # Печатаем буквы английского алфавита\n",
    "    english_alphabet.print_letters()\n",
    "    \n",
    "    # Получаем количество букв\n",
    "    print(\"Number of letters in the English alphabet:\", english_alphabet.letters_num())\n",
    "    \n",
    "    # Проверяем, является ли буква английской\n",
    "    letter = 'A'\n",
    "    print(f'Is \"{letter}\" an English letter? {english_alphabet.is_en_letter(letter)}')\n",
    "    \n",
    "    # Получаем пример текста на английском языке\n",
    "    print(\"Example text:\", EngAlphabet.example())"
   ]
  },
  {
   "cell_type": "markdown",
   "metadata": {},
   "source": [
    "ВЫВОД\n",
    "Таким образом, программа создает два класса: Alphabet, который представляет общий алфавит, и EngAlphabet, который наследует от Alphabet и предоставляет дополнительные функции, специфичные для английского алфавита. "
   ]
  }
 ],
 "metadata": {
  "language_info": {
   "name": "python"
  }
 },
 "nbformat": 4,
 "nbformat_minor": 2
}
