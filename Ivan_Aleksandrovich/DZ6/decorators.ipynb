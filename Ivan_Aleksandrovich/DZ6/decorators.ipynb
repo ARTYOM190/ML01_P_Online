{
 "cells": [
  {
   "cell_type": "markdown",
   "metadata": {},
   "source": [
    "Задание:\n",
    "Напишите декоратор, оптимизирующий работу декорируемой функции. Декоратор должен сохранять результат работы функции на ближайшие три запуска и вместо выполнения функции возвращать сохранённый результат. \n",
    "После трёх запусков функция должна вызываться вновь, а результат работы функции — вновь кешироваться."
   ]
  },
  {
   "cell_type": "code",
   "execution_count": 49,
   "metadata": {},
   "outputs": [],
   "source": [
    "\n",
    "def dec_wrapper(times):\n",
    "    \n",
    "    results = []\n",
    "    \n",
    "    def count_calls(func):\n",
    "        \n",
    "        def wrapper(*args, **kwargs):\n",
    "            result = func(*args, **kwargs)\n",
    "            results.append(result)\n",
    "            wrapper.calls += 1\n",
    "            if wrapper.calls == times+1:\n",
    "                print(f\"Функцию вызвали {times} раз\")\n",
    "                wrapper.calls = 0\n",
    "                results.clear()\n",
    "            print (f\"Функция {func.__name__} была вызвана {wrapper.calls} раз\")\n",
    "            \n",
    "            \n",
    "               # return None\n",
    "            \n",
    "            return result\n",
    "        \n",
    "        wrapper.last_result = results\n",
    "            \n",
    "        wrapper.calls = 0\n",
    "        \n",
    "        return wrapper\n",
    "    return count_calls"
   ]
  },
  {
   "cell_type": "code",
   "execution_count": 53,
   "metadata": {},
   "outputs": [],
   "source": [
    "\n",
    "@dec_wrapper(5)\n",
    "#@functools.cache\n",
    "def factorial(n):\n",
    "    return n * factorial(n-1) if n else 1\n",
    "        "
   ]
  },
  {
   "cell_type": "code",
   "execution_count": 54,
   "metadata": {},
   "outputs": [
    {
     "name": "stdout",
     "output_type": "stream",
     "text": [
      "Функция factorial была вызвана 1 раз\n",
      "Функция factorial была вызвана 2 раз\n",
      "Функция factorial была вызвана 3 раз\n"
     ]
    },
    {
     "data": {
      "text/plain": [
       "2"
      ]
     },
     "execution_count": 54,
     "metadata": {},
     "output_type": "execute_result"
    }
   ],
   "source": [
    "factorial(2)"
   ]
  },
  {
   "cell_type": "code",
   "execution_count": 55,
   "metadata": {},
   "outputs": [
    {
     "data": {
      "text/plain": [
       "[1, 1, 2]"
      ]
     },
     "execution_count": 55,
     "metadata": {},
     "output_type": "execute_result"
    }
   ],
   "source": [
    "factorial.last_result"
   ]
  },
  {
   "cell_type": "code",
   "execution_count": null,
   "metadata": {},
   "outputs": [],
   "source": []
  }
 ],
 "metadata": {
  "kernelspec": {
   "display_name": "DZ3",
   "language": "python",
   "name": "python3"
  },
  "language_info": {
   "codemirror_mode": {
    "name": "ipython",
    "version": 3
   },
   "file_extension": ".py",
   "mimetype": "text/x-python",
   "name": "python",
   "nbconvert_exporter": "python",
   "pygments_lexer": "ipython3",
   "version": "3.12.7"
  }
 },
 "nbformat": 4,
 "nbformat_minor": 2
}
