{
 "cells": [
  {
   "cell_type": "markdown",
   "metadata": {},
   "source": [
    "Задание:\n",
    "Напишите декоратор, оптимизирующий работу декорируемой функции. Декоратор должен сохранять результат работы функции на ближайшие три запуска и вместо выполнения функции возвращать сохранённый результат. \n",
    "После трёх запусков функция должна вызываться вновь, а результат работы функции — вновь кешироваться."
   ]
  },
  {
   "cell_type": "code",
   "execution_count": 17,
   "metadata": {},
   "outputs": [],
   "source": [
    "CALL_TIMES = 10 # константа, количество вызовов функции до очистки кеша\n",
    "def custom_cache(func):\n",
    "    \n",
    "    cache_dict = {}  # Словарь для хранения кешированных результатов\n",
    "    calls = 0  # Счётчик вызовов\n",
    "    \n",
    "\n",
    "    def wrapper(*args, **kwargs):\n",
    "        nonlocal calls\n",
    "        if args in cache_dict:\n",
    "            result = cache_dict[args]\n",
    "            print(f\"Результат взят из кеша для аргумента {args[0]}: {result}\")\n",
    "        else:\n",
    "            result = func(*args, **kwargs)\n",
    "            cache_dict[args] = result  # Сохраняем результат в кеш\n",
    "            print(f\"Выполняется расчет для аргумента {args[0]}: {result}\")\n",
    "        calls += 1\n",
    "        if calls == CALL_TIMES: # Если функция вызвана CALL_TIMES раз, очищаем кеш\n",
    "            cache_dict.clear()  # Очищаем кеш\n",
    "            print(\"Кеш очищен\")\n",
    "            calls = 0  # Сброс счётчика вызовов\n",
    "        return result\n",
    "    return wrapper"
   ]
  },
  {
   "cell_type": "code",
   "execution_count": 18,
   "metadata": {},
   "outputs": [],
   "source": [
    "\n",
    "@custom_cache\n",
    "def factorial(n):\n",
    "    return n * factorial(n-1) if n else 1\n",
    "        "
   ]
  },
  {
   "cell_type": "code",
   "execution_count": 22,
   "metadata": {},
   "outputs": [
    {
     "name": "stdout",
     "output_type": "stream",
     "text": [
      "Результат взят из кеша для аргумента 6: 720\n",
      "Кеш очищен\n",
      "Выполняется расчет для аргумента 7: 5040\n",
      "Выполняется расчет для аргумента 8: 40320\n"
     ]
    },
    {
     "data": {
      "text/plain": [
       "40320"
      ]
     },
     "execution_count": 22,
     "metadata": {},
     "output_type": "execute_result"
    }
   ],
   "source": [
    "factorial(8)"
   ]
  }
 ],
 "metadata": {
  "kernelspec": {
   "display_name": "DZ3",
   "language": "python",
   "name": "python3"
  },
  "language_info": {
   "codemirror_mode": {
    "name": "ipython",
    "version": 3
   },
   "file_extension": ".py",
   "mimetype": "text/x-python",
   "name": "python",
   "nbconvert_exporter": "python",
   "pygments_lexer": "ipython3",
   "version": "3.12.7"
  }
 },
 "nbformat": 4,
 "nbformat_minor": 2
}
