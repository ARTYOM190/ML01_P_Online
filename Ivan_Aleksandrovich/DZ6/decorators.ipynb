{
 "cells": [
  {
   "cell_type": "markdown",
   "metadata": {},
   "source": [
    "Задание:\n",
    "Напишите декоратор, оптимизирующий работу декорируемой функции. Декоратор должен сохранять результат работы функции на ближайшие три запуска и вместо выполнения функции возвращать сохранённый результат. \n",
    "После трёх запусков функция должна вызываться вновь, а результат работы функции — вновь кешироваться."
   ]
  },
  {
   "cell_type": "markdown",
   "metadata": {},
   "source": [
    "Для реализации задачи необходимо написать декоратор, осуществляющий кеширование значений функции, пока она не будет вызвана 3 раза. \n",
    "Для хранения данных удобно использовать словарь, сохраняющий пары {аргумент функции:возвращаемое значение}\n",
    "Также необходимо реализовать счетчик вызовов функции."
   ]
  },
  {
   "cell_type": "code",
   "execution_count": 32,
   "metadata": {},
   "outputs": [],
   "source": [
    "CALL_TIMES = 3 # константа, количество вызовов функции до очистки кеша\n",
    "def custom_cache(func):\n",
    "    \n",
    "    cache_dict = {}  # Словарь для хранения кешированных результатов\n",
    "    calls = 0  # Счётчик вызовов\n",
    "    \n",
    "\n",
    "    def wrapper(*args, **kwargs):\n",
    "        nonlocal calls\n",
    "        if args in cache_dict: # Если функция уже вызывалась с этим аргументом, значение берется из словаря\n",
    "            result = cache_dict[args]\n",
    "            print(f\"Результат взят из кеша для аргумента {args[0]}: {result}\")\n",
    "        else:\n",
    "            result = func(*args, **kwargs) # Вызываем функцию\n",
    "            cache_dict[args] = result  # Сохраняем результат в кеш\n",
    "            print(f\"Выполняется расчет для аргумента {args[0]}: {result}\")\n",
    "        calls += 1\n",
    "        if calls == CALL_TIMES: # Если функция вызвана CALL_TIMES раз, очищаем кеш\n",
    "            cache_dict.clear() \n",
    "            print(\"Кеш очищен\")\n",
    "            calls = 0  # Сброс счётчика вызовов\n",
    "        return result\n",
    "    return wrapper"
   ]
  },
  {
   "cell_type": "code",
   "execution_count": 33,
   "metadata": {},
   "outputs": [],
   "source": [
    "# Используем функцию расчета факториала для примера\n",
    "@custom_cache\n",
    "def factorial(n):\n",
    "    return n * factorial(n-1) if n else 1\n",
    "        "
   ]
  },
  {
   "cell_type": "code",
   "execution_count": 34,
   "metadata": {},
   "outputs": [
    {
     "name": "stdout",
     "output_type": "stream",
     "text": [
      "Выполняется расчет для аргумента 0: 1\n",
      "Выполняется расчет для аргумента 1: 1\n",
      "Выполняется расчет для аргумента 2: 2\n",
      "Кеш очищен\n",
      "Выполняется расчет для аргумента 3: 6\n",
      "Выполняется расчет для аргумента 4: 24\n",
      "Выполняется расчет для аргумента 5: 120\n",
      "Кеш очищен\n"
     ]
    },
    {
     "data": {
      "text/plain": [
       "120"
      ]
     },
     "execution_count": 34,
     "metadata": {},
     "output_type": "execute_result"
    }
   ],
   "source": [
    "factorial(5)"
   ]
  },
  {
   "cell_type": "markdown",
   "metadata": {},
   "source": [
    "Реализован декоратор, осуществляющий хранение последних 3 возвращаемых функцией значений и переданных при этом аргументов. При вызове функции второй и третий раз функция не будет вызвана, при условии что аргументы совпадают с первым вызовом. Далее кеш будет очищен и процесс начнется заново."
   ]
  }
 ],
 "metadata": {
  "kernelspec": {
   "display_name": "DZ3",
   "language": "python",
   "name": "python3"
  },
  "language_info": {
   "codemirror_mode": {
    "name": "ipython",
    "version": 3
   },
   "file_extension": ".py",
   "mimetype": "text/x-python",
   "name": "python",
   "nbconvert_exporter": "python",
   "pygments_lexer": "ipython3",
   "version": "3.12.7"
  }
 },
 "nbformat": 4,
 "nbformat_minor": 2
}
