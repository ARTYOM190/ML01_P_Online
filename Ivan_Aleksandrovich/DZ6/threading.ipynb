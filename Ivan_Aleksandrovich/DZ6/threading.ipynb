{
 "cells": [
  {
   "cell_type": "markdown",
   "metadata": {},
   "source": [
    "Реализовать с использованием потоков и процессов скачивание файлов из интернета. \n",
    "Список файлов для скачивания подготовить самостоятельно (например изображений, не менее 100 изображений или других объектов). Сравнить производительность с последовательным методом. Сравнивть производительность Thread и multiprocessing решений. Попробовать подобрать оптимальное число потоков/процессов. "
   ]
  },
  {
   "cell_type": "markdown",
   "metadata": {},
   "source": [
    "Создадим список ссылок на картинки, которые будут скачиваться."
   ]
  },
  {
   "cell_type": "code",
   "execution_count": 86,
   "metadata": {},
   "outputs": [],
   "source": [
    "import requests\n",
    "from bs4 import BeautifulSoup\n",
    "\n",
    "url = \"https://unsplash.com/\"\n",
    "response = requests.get(url)\n",
    "soup = BeautifulSoup(response.text, 'html.parser')\n",
    "image_tags = soup.find_all('img')\n",
    "image_links = [img['src'] for img in image_tags if 'src' in img.attrs] # Выбираем ссылки на изображения\n",
    "absolute_links = [requests.compat.urljoin(url, link) for link in image_links] # Делаем ссылки абсолютными\n",
    "\n",
    "\n"
   ]
  },
  {
   "cell_type": "markdown",
   "metadata": {},
   "source": [
    "Реализуем метод download, выполняющий поочередное скачивание изображений и помещающий их в папку."
   ]
  },
  {
   "cell_type": "code",
   "execution_count": 91,
   "metadata": {},
   "outputs": [],
   "source": [
    "import urllib.request\n",
    "import os\n",
    "import time\n",
    "\n",
    "#dirname = \"download\"\n",
    "#file_path = os.makedirs(dirname, exist_ok=True)\n",
    "def delete_files_in_folder(folder_path): # Метод, удаляющий файлы из каталога после загрузки\n",
    "    for filename in os.listdir(folder_path):\n",
    "        file_path = os.path.join(folder_path, filename)\n",
    "        try:\n",
    "            if os.path.isfile(file_path):\n",
    "                os.remove(file_path)\n",
    "        except Exception as e:\n",
    "            print(f'Ошибка при удалении файла {file_path}. {e}')\n",
    "\n",
    "def download (links, thread_number):\n",
    "    dirname = \"download\"\n",
    "    object_counter = 0\n",
    "    file_path = os.makedirs(dirname, exist_ok=True) # Создаем папку для файлов\n",
    "    for i, link in enumerate(links): # Загружаем файлы\n",
    "        try:\n",
    "                response = requests.get(link)\n",
    "                file_name = f\"image_{i}_{thread_number}.jpg\"\n",
    "                if not file_name.endswith('.jpg'): \n",
    "                    file_name += '.jpg'\n",
    "                save_path = os.path.join(dirname, file_name)\n",
    "\n",
    "                with open(save_path, 'wb') as file:\n",
    "                    file.write(response.content)\n",
    "                object_counter += 1\n",
    "        except requests.RequestException as e:\n",
    "            continue\n",
    "    print(f\"Поток {thread_number} загрузил {object_counter} объектов\")\n",
    "\n",
    "\n"
   ]
  },
  {
   "cell_type": "code",
   "execution_count": 92,
   "metadata": {},
   "outputs": [
    {
     "name": "stdout",
     "output_type": "stream",
     "text": [
      "Поток 0 загрузил 114 объектов\n",
      "Время выполнения: 30.479105472564697 секунд\n"
     ]
    }
   ],
   "source": [
    "# Запускаем скачивание с 1 потоком и одним процессом, замеряем время выполнения\n",
    "start_time = time.time()\n",
    "download (absolute_links,0)\n",
    "end_time = time.time()\n",
    "\n",
    "print(f\"Время выполнения: {end_time - start_time} секунд\")"
   ]
  },
  {
   "cell_type": "code",
   "execution_count": 93,
   "metadata": {},
   "outputs": [
    {
     "name": "stdout",
     "output_type": "stream",
     "text": [
      "\n",
      "Запуск с 2 потоками...\n",
      "Поток 1 загрузил 52 объектов\n",
      "Поток 0 загрузил 62 объектов\n",
      "Время выполнения с 2 потоками: 18.63957118988037 секунд\n",
      "\n",
      "Запуск с 4 потоками...\n",
      "Поток 1 загрузил 33 объектов\n",
      "Поток 3 загрузил 27 объектов\n",
      "Поток 0 загрузил 29 объектов\n",
      "Поток 2 загрузил 25 объектов\n",
      "Время выполнения с 4 потоками: 9.626161336898804 секунд\n",
      "\n",
      "Запуск с 8 потоками...\n",
      "Поток 2 загрузил 16 объектов\n",
      "Поток 1 загрузил 17 объектов\n",
      "Поток 3 загрузил 17 объектов\n",
      "Поток 6 загрузил 12 объектов\n",
      "Поток 7 загрузил 15 объектов\n",
      "Поток 5 загрузил 13 объектов\n",
      "Поток 4 загрузил 12 объектов\n",
      "Поток 0 загрузил 12 объектов\n",
      "Время выполнения с 8 потоками: 5.004340410232544 секунд\n",
      "\n",
      "Запуск с 10 потоками...\n",
      "Поток 6 загрузил 10 объектов\n",
      "Поток 3 загрузил 14 объектов\n",
      "Поток 5 загрузил 10 объектов\n",
      "Поток 1 загрузил 12 объектов\n",
      "Поток 2 загрузил 13 объектов\n",
      "Поток 0 загрузил 10 объектов\n",
      "Поток 7 загрузил 10 объектов\n",
      "Поток 8 загрузил 10 объектов\n",
      "Поток 4 загрузил 13 объектов\n",
      "Поток 9 загрузил 12 объектов\n",
      "Время выполнения с 10 потоками: 5.454962253570557 секунд\n",
      "\n",
      "Запуск с 12 потоками...\n",
      "Поток 8 загрузил 8 объектов\n",
      "Поток 1 загрузил 9 объектов\n",
      "Поток 10 загрузил 8 объектов\n",
      "Поток 6 загрузил 9 объектов\n",
      "Поток 5 загрузил 10 объектов\n",
      "Поток 4 загрузил 11 объектов\n",
      "Поток 11 загрузил 8 объектов\n",
      "Поток 0 загрузил 8 объектов\n",
      "Поток 2 загрузил 10 объектов\n",
      "Поток 3 загрузил 11 объектов\n",
      "Поток 9 загрузил 8 объектов\n",
      "Поток 7 загрузил 8 объектов\n",
      "Время выполнения с 12 потоками: 5.862089395523071 секунд\n"
     ]
    }
   ],
   "source": [
    "import threading\n",
    "def run_with_threads(num_threads):\n",
    "    threads = []\n",
    "    \n",
    "    last_item = 0\n",
    "    batch_size = (len(absolute_links)//num_threads)\n",
    "    for i in range(num_threads):\n",
    "        # Создаем поток для выполнения задачи\n",
    "        \n",
    "        thread = threading.Thread(target=download, args=(absolute_links[last_item:last_item+batch_size],i,))\n",
    "        threads.append(thread)\n",
    "       # thread.start()  # Запускаем поток\n",
    "        last_item += batch_size\n",
    "        \n",
    "    for thread in threads:\n",
    "        thread.start()\n",
    "\n",
    "    \n",
    "    # Ждем завершения всех потоков\n",
    "    for thread in threads:\n",
    "        thread.join()\n",
    "\n",
    "# Цикл, который будет запускать код с разным количеством потоков\n",
    "times_of_execution_threads = {}\n",
    "for num_threads in [2,4,8,10,12]:  # Запускаем загрузку с различным числом потоков\n",
    "    print(f\"\\nЗапуск с {num_threads} потоками...\")\n",
    "    start_time = time.time()  # Засекаем время начала\n",
    "    run_with_threads(num_threads)\n",
    "    delete_files_in_folder(\"download\") \n",
    "    end_time = time.time()  # Засекаем время окончания\n",
    "    print(f\"Время выполнения с {num_threads} потоками: {end_time - start_time} секунд\")\n",
    "    times_of_execution_threads[num_threads] = end_time - start_time\n",
    "        \n",
    "#print (times_of_execution_threads)"
   ]
  },
  {
   "cell_type": "code",
   "execution_count": 94,
   "metadata": {},
   "outputs": [
    {
     "name": "stdout",
     "output_type": "stream",
     "text": [
      "Время выполнения с 2 потоками - 18.63957118988037 секунд\n",
      "Время выполнения с 4 потоками - 9.626161336898804 секунд\n",
      "Время выполнения с 8 потоками - 5.004340410232544 секунд\n",
      "Время выполнения с 10 потоками - 5.454962253570557 секунд\n",
      "Время выполнения с 12 потоками - 5.862089395523071 секунд\n"
     ]
    }
   ],
   "source": [
    "# Выведем результаты работы разного количества потоков\n",
    "for key in times_of_execution_threads.keys():\n",
    "    print(f\"Время выполнения с {key} потоками - {times_of_execution_threads[key]} секунд\")"
   ]
  },
  {
   "cell_type": "markdown",
   "metadata": {},
   "source": [
    "Наиболее быстро скачивание происходит при работе с 8 потоками, при этом ускорение скачивания нелинейно и различается между запусками скрипта. Оптимальное число потоков - 8-10."
   ]
  },
  {
   "cell_type": "markdown",
   "metadata": {},
   "source": [
    "Для оценки скорости загрузки с разным числом запущенных процессов был запущен код в файле prosesses.py.\n",
    "Результат работы различного числа процессов:\n",
    "\n",
    "Время выполнения с 2 процессами - 18.145548105239868 секунд\n",
    "Время выполнения с 4 процессами - 11.212659358978271 секунд\n",
    "Время выполнения с 8 процессами - 6.246687412261963 секунд\n",
    "Время выполнения с 10 процессами - 6.31508994102478 секунд"
   ]
  },
  {
   "cell_type": "markdown",
   "metadata": {},
   "source": [
    "Наиболее быстро скачивание происходит при работе с 8 процессами, однако увеличение числа потоков дает больший прирост производительности, чем увеличение числа процессов.\n",
    "В целом, увеличение количества процессов/потоков ускоряет процесс скачивания, за счет избегания ожидания ответа сервера на каждый запрос по очереди, а параллельного выполнения запросов."
   ]
  }
 ],
 "metadata": {
  "kernelspec": {
   "display_name": "DZ3",
   "language": "python",
   "name": "python3"
  },
  "language_info": {
   "codemirror_mode": {
    "name": "ipython",
    "version": 3
   },
   "file_extension": ".py",
   "mimetype": "text/x-python",
   "name": "python",
   "nbconvert_exporter": "python",
   "pygments_lexer": "ipython3",
   "version": "3.12.7"
  }
 },
 "nbformat": 4,
 "nbformat_minor": 2
}
