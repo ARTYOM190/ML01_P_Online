{
 "cells": [
  {
   "cell_type": "markdown",
   "metadata": {},
   "source": [
    "Реализовать с использованием потоков и процессов скачивание файлов из интернета. \n",
    "Список файлов для скачивания подготовить самостоятельно (например изображений, не менее 100 изображений или других объектов). Сравнить производительность с последовательным методом. Сравнивть производительность Thread и multiprocessing решений. Попробовать подобрать оптимальное число потоков/процессов. "
   ]
  },
  {
   "cell_type": "code",
   "execution_count": 37,
   "metadata": {},
   "outputs": [],
   "source": [
    "import requests\n",
    "from bs4 import BeautifulSoup\n",
    "\n",
    "url = \"https://www.w3schools.com/python/python_tuples.asp\"\n",
    "response = requests.get(url)\n",
    "soup = BeautifulSoup(response.text, 'html.parser')\n",
    "image_tags = soup.find_all('img')\n",
    "image_links = [img['src'] for img in image_tags if 'src' in img.attrs]\n",
    "absolute_links = [requests.compat.urljoin(url, link) for link in image_links]\n",
    "\n",
    "\n"
   ]
  },
  {
   "cell_type": "code",
   "execution_count": 40,
   "metadata": {},
   "outputs": [
    {
     "data": {
      "text/plain": [
       "['https://www.w3schools.com/images/colorpicker2000.png',\n",
       " 'https://www.w3schools.com/signup/lynxlogo.svg',\n",
       " 'https://www.w3schools.com/images/img_fullaccess_up_sep1_green_300.png',\n",
       " 'https://www.w3schools.com/images/colorpicker2000.png']"
      ]
     },
     "execution_count": 40,
     "metadata": {},
     "output_type": "execute_result"
    }
   ],
   "source": [
    "absolute_links"
   ]
  },
  {
   "cell_type": "code",
   "execution_count": 41,
   "metadata": {},
   "outputs": [],
   "source": [
    "import urllib.request\n",
    "import os\n",
    "dirname = \"download\"\n",
    "file_path = os.makedirs(dirname, exist_ok=True)\n",
    "\n",
    "def download (links):\n",
    "    for link in links:\n",
    "        try:\n",
    "                response = requests.get(link)\n",
    "                response.raise_for_status()\n",
    "\n",
    "                file_name = os.path.basename(link.split(\"?\")[0])\n",
    "                save_path = os.path.join(dirname, file_name)\n",
    "\n",
    "                # Сохраняем весь контент за один вызов\n",
    "                with open(save_path, 'wb') as file:\n",
    "                    file.write(response.content)\n",
    "\n",
    "                print(f\"Сохранено: {save_path}\")\n",
    "        except requests.RequestException as e:\n",
    "            print(f\"Ошибка при загрузке {link}: {e}\")\n",
    "\n",
    "        "
   ]
  },
  {
   "cell_type": "code",
   "execution_count": 29,
   "metadata": {},
   "outputs": [],
   "source": [
    "def save_image(link, save_folder):\n",
    "    \"\"\"Скачивает и сохраняет изображение по указанной ссылке.\"\"\"\n",
    "    try:\n",
    "        response = requests.get(link)\n",
    "        response.raise_for_status()\n",
    "\n",
    "        file_name = os.path.basename(link.split(\"?\")[0])\n",
    "        save_path = os.path.join(save_folder, file_name)\n",
    "\n",
    "        # Сохраняем весь контент за один вызов\n",
    "        with open(save_path, 'wb') as file:\n",
    "            file.write(response.content)\n",
    "\n",
    "        print(f\"Сохранено: {save_path}\")\n",
    "    except requests.RequestException as e:\n",
    "        print(f\"Ошибка при загрузке {link}: {e}\")\n",
    "\n",
    "def download_images(image_links, save_folder):\n",
    "    \"\"\"Создаёт папку и загружает изображения из списка ссылок.\"\"\"\n",
    "    os.makedirs(save_folder, exist_ok=True)\n",
    "    for i, link in enumerate(image_links, 1):\n",
    "        print(f\"Загрузка {i}/{len(image_links)}: {link}\")\n",
    "        save_image(link, save_folder)\n"
   ]
  }
 ],
 "metadata": {
  "kernelspec": {
   "display_name": "DZ3",
   "language": "python",
   "name": "python3"
  },
  "language_info": {
   "codemirror_mode": {
    "name": "ipython",
    "version": 3
   },
   "file_extension": ".py",
   "mimetype": "text/x-python",
   "name": "python",
   "nbconvert_exporter": "python",
   "pygments_lexer": "ipython3",
   "version": "3.12.7"
  }
 },
 "nbformat": 4,
 "nbformat_minor": 2
}
