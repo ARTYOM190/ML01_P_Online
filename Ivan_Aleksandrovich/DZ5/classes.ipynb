{
 "cells": [
  {
   "cell_type": "markdown",
   "metadata": {},
   "source": [
    "Есть Алфавит, характеристиками которого являются: \n",
    "1. Язык\n",
    "2. Список букв\n",
    "\n",
    "Для Алфавита можно: \n",
    "1. Напечатать все буквы алфавита\n",
    "2. Посчитать количество букв\n",
    "\n",
    "Так же есть Английский алфавит, который обладает следующими свойствами: \n",
    "1. Язык\n",
    "2. Список букв\n",
    "3. Количество букв\n",
    "\n",
    "Для Английского алфавита можно: \n",
    "1. Посчитать количество букв\n",
    "2. Определить, относится ли буква к английскому алфавиту\n",
    "3. Получить пример текста на английском языке\n",
    "\n",
    "\n",
    "Класс Alphabet\n",
    "1. Создайте класс Alphabet\n",
    "2. Создайте метод __init__(), внутри которого будут определены два динамических свойства: 1) lang - язык и 2) letters - список букв. Начальные значения свойств берутся из входных параметров метода.\n",
    "3. Создайте метод print(), который выведет в консоль буквы алфавита\n",
    "4. Создайте метод letters_num(), который вернет количество букв в алфавите\n",
    "\n",
    "Класс EngAlphabet\n",
    "1. Создайте класс EngAlphabet путем наследования от класса Alphabet\n",
    "2. Создайте метод __init__(), внутри которого будет вызываться родительский метод __init__(). В качестве параметров ему будут передаваться обозначение языка(например, 'En') и строка, состоящая из всех букв алфавита(можно воспользоваться свойством ascii_uppercase из модуля string).\n",
    "3. Добавьте приватное статическое свойство __letters_num, которое будет хранить количество букв в алфавите.\n",
    "4. Создайте метод is_en_letter(), который будет принимать букву в качестве параметра и определять, относится ли эта буква к английскому алфавиту.\n",
    "5. Переопределите метод letters_num() - пусть в текущем классе классе он будет возвращать значение свойства __letters_num.\n",
    "6. Создайте статический метод example(), который будет возвращать пример текста на английском языке.\n",
    "\n",
    "\n",
    "Тесты:\n",
    "1. Создайте объект класса EngAlphabet\n",
    "2. Напечатайте буквы алфавита для этого объекта\n",
    "3. Выведите количество букв в алфавите\n",
    "4. Проверьте, относится ли буква F к английскому алфавиту\n",
    "5. Проверьте, относится ли буква Щ к английскому алфавиту\n",
    "6. Выведите пример текста на английском языке\n"
   ]
  },
  {
   "cell_type": "code",
   "execution_count": 99,
   "metadata": {},
   "outputs": [],
   "source": [
    "# Импортируем библиотеку string\n",
    "import string"
   ]
  },
  {
   "cell_type": "code",
   "execution_count": 100,
   "metadata": {},
   "outputs": [],
   "source": [
    "# Создаем класс Alphabet, реализуем конструктор и методы класса\n",
    "\n",
    "class Alphabet(object):\n",
    "    \n",
    "    def __init__(self, lang, letters) -> None:\n",
    "        self.lang = lang\n",
    "        self.letters = letters\n",
    "    \n",
    "    # Для реализации метода print определим магический метод __str__\n",
    "    def __str__(self) -> str:\n",
    "        return (str(self.letters))\n",
    "       \n",
    "    def letters_num(self):\n",
    "        return len(self.letters)"
   ]
  },
  {
   "cell_type": "code",
   "execution_count": 101,
   "metadata": {},
   "outputs": [],
   "source": [
    "# Создаем класс EngAlphabet, наследуемый от класса Alphabet, реализуем конструктор и методы класса\n",
    "class EngAlphabet (Alphabet):\n",
    "    \n",
    "    __letters_num = 26 # Явно указываем количество букв в английском алфавите\n",
    "    \n",
    "    # В конструкторе вызываем родительский метод __init__ с параметрами\n",
    "    def __init__(self) -> None:\n",
    "        super().__init__(\"En\", string.ascii_uppercase)\n",
    "      \n",
    "    # Метод, реализующий проверку буквы на принадлежность алфавиту, возвращает значение типа bool  \n",
    "    def is_en_letter(self,letter):\n",
    "        return (letter.upper() in self.letters)\n",
    "    \n",
    "    def letters_num(self):\n",
    "        return (self.__letters_num)\n",
    "    \n",
    "    # Статический метод реализуется с помощью декоратора и может быть вызван без создания экзмемпляра класса\n",
    "    @staticmethod\n",
    "    def example():\n",
    "        return \"This is an example of english text\"\n",
    "        \n"
   ]
  },
  {
   "cell_type": "markdown",
   "metadata": {},
   "source": [
    "Проводим тесты:\n",
    "1. Создаем объект класса EngAlphabet\n",
    "2. Печатаем буквы алфавита для этого объекта\n",
    "3. Выводим количество букв в алфавите\n",
    "4. Проверяем, относится ли буква F к английскому алфавиту\n",
    "5. Проверяем, относится ли буква Щ к английскому алфавиту\n",
    "6. Выводим пример текста на английском языке\n"
   ]
  },
  {
   "cell_type": "code",
   "execution_count": 102,
   "metadata": {},
   "outputs": [],
   "source": [
    "a = EngAlphabet()"
   ]
  },
  {
   "cell_type": "code",
   "execution_count": 103,
   "metadata": {},
   "outputs": [
    {
     "name": "stdout",
     "output_type": "stream",
     "text": [
      "ABCDEFGHIJKLMNOPQRSTUVWXYZ\n"
     ]
    }
   ],
   "source": [
    "print (a)"
   ]
  },
  {
   "cell_type": "code",
   "execution_count": 104,
   "metadata": {},
   "outputs": [
    {
     "data": {
      "text/plain": [
       "26"
      ]
     },
     "execution_count": 104,
     "metadata": {},
     "output_type": "execute_result"
    }
   ],
   "source": [
    "a.letters_num()"
   ]
  },
  {
   "cell_type": "code",
   "execution_count": 105,
   "metadata": {},
   "outputs": [
    {
     "data": {
      "text/plain": [
       "True"
      ]
     },
     "execution_count": 105,
     "metadata": {},
     "output_type": "execute_result"
    }
   ],
   "source": [
    "a.is_en_letter('F')"
   ]
  },
  {
   "cell_type": "code",
   "execution_count": 106,
   "metadata": {},
   "outputs": [
    {
     "data": {
      "text/plain": [
       "False"
      ]
     },
     "execution_count": 106,
     "metadata": {},
     "output_type": "execute_result"
    }
   ],
   "source": [
    "a.is_en_letter('Щ')"
   ]
  },
  {
   "cell_type": "code",
   "execution_count": 107,
   "metadata": {},
   "outputs": [
    {
     "data": {
      "text/plain": [
       "'This is an example of english text'"
      ]
     },
     "execution_count": 107,
     "metadata": {},
     "output_type": "execute_result"
    }
   ],
   "source": [
    "EngAlphabet.example()"
   ]
  },
  {
   "cell_type": "markdown",
   "metadata": {},
   "source": [
    "В результате выполнения работы созданы классы Alphabet и его дочерний класс EngAlphabet, определены поля и методы классов согласно заданию."
   ]
  }
 ],
 "metadata": {
  "kernelspec": {
   "display_name": "DZ3",
   "language": "python",
   "name": "python3"
  },
  "language_info": {
   "codemirror_mode": {
    "name": "ipython",
    "version": 3
   },
   "file_extension": ".py",
   "mimetype": "text/x-python",
   "name": "python",
   "nbconvert_exporter": "python",
   "pygments_lexer": "ipython3",
   "version": "3.12.7"
  }
 },
 "nbformat": 4,
 "nbformat_minor": 2
}
