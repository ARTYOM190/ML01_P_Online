{
 "cells": [
  {
   "cell_type": "markdown",
   "id": "1ddd09e7-7f9f-41bc-9b2b-e32eeb549514",
   "metadata": {},
   "source": [
    "Задание 1.\tНапишите программу, которая рассчитывает расход топлива маршрута, на вход подается длина маршрута и расход топлива на 100 километров. Используйте try catch (проверка что пользователь ввел число>0). \n",
    "\n",
    "В задаче необходимо реализовать действия:\n",
    "    - ввод данных\n",
    "    - обработка исключения (данные неверного типа, нулевые данные)\n",
    "    - расчет и вывод рассчитанного значения"
   ]
  },
  {
   "cell_type": "code",
   "execution_count": null,
   "id": "9bcbf4e2-6696-4e75-ae27-fb81f841ffc6",
   "metadata": {
    "scrolled": true
   },
   "outputs": [],
   "source": [
    "while (True):\n",
    "    try:\n",
    "        length = int(input(\"Введите длину маршрута\"))\n",
    "        consumption = int(input(\"Введите расход топлива на 100 км\"))\n",
    "        assert (length > 0 and consumption > 0), \"Zero\"\n",
    "    except (ValueError, AssertionError):\n",
    "        print (\"Введите корректные данные\")\n",
    "    else: break    \n",
    "    \n",
    "print (\"Расход топлива на маршруте:\", length/100*consumption)\n",
    "     "
   ]
  },
  {
   "cell_type": "code",
   "execution_count": null,
   "id": "2cf34b6e-8ddc-439a-af5c-d73c74bd1d98",
   "metadata": {},
   "outputs": [],
   "source": []
  },
  {
   "cell_type": "code",
   "execution_count": null,
   "id": "9e5f96c3-f89a-42fc-8fbe-6e60b33f9982",
   "metadata": {},
   "outputs": [],
   "source": []
  }
 ],
 "metadata": {
  "kernelspec": {
   "display_name": "Python 3 (ipykernel)",
   "language": "python",
   "name": "python3"
  },
  "language_info": {
   "codemirror_mode": {
    "name": "ipython",
    "version": 3
   },
   "file_extension": ".py",
   "mimetype": "text/x-python",
   "name": "python",
   "nbconvert_exporter": "python",
   "pygments_lexer": "ipython3",
   "version": "3.12.7"
  }
 },
 "nbformat": 4,
 "nbformat_minor": 5
}
