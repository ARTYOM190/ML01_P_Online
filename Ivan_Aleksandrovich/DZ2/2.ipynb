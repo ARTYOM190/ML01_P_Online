{
 "cells": [
  {
   "cell_type": "markdown",
   "id": "c419850d-274b-4667-8d8c-12057d2423c8",
   "metadata": {},
   "source": [
    "2.\tНапишите программу, которая ищет корни квадратного уравнения вида a*x*x+b*x+c. На вход программы подаются a,b,c. Результатом работы программы – действительные корни или сообщение что корней нет. \n",
    "\n",
    "Необходимо реализовать следующие шаги:\n",
    "    - ввод данных\n",
    "    - вычисление дискриминанта\n",
    "    - вычисление корней уравнения, в случаях если дискриминант положителен либо равен 0"
   ]
  },
  {
   "cell_type": "code",
   "execution_count": 23,
   "id": "5ef22959-0405-410f-81cf-9fd56faddbec",
   "metadata": {},
   "outputs": [
    {
     "name": "stdin",
     "output_type": "stream",
     "text": [
      "Введите коэффициенты уравнения через пробел -9 0 0\n"
     ]
    },
    {
     "name": "stdout",
     "output_type": "stream",
     "text": [
      "0\n",
      "Корень уравнения: -0.0\n"
     ]
    }
   ],
   "source": [
    "1\n",
    "import math\n",
    "try:\n",
    "    a, b, c = map(int, input(\"Введите коэффициенты уравнения через пробел\").split())\n",
    "    D = b**2-4*a*c\n",
    "    print (D)\n",
    "    if (D<0):\n",
    "        print (\"Нет корней\")\n",
    "    elif (D == 0):\n",
    "        x = (-b + math.sqrt(D))/(2*a)\n",
    "        print (\"Корень уравнения:\", x)\n",
    "    else:\n",
    "        x1 = (-b + math.sqrt(D))/(2*a)\n",
    "        x2 = (-b - math.sqrt(D))/(2*a)\n",
    "        print (\"Корни уравнения:\", x1, x2)\n",
    "except ValueError:\n",
    "    print (\"Неверный ввод\")"
   ]
  },
  {
   "cell_type": "code",
   "execution_count": null,
   "id": "4cd527fb-8526-4baa-8797-14d4b9ef1569",
   "metadata": {},
   "outputs": [],
   "source": []
  },
  {
   "cell_type": "code",
   "execution_count": null,
   "id": "a151090b-eba6-4d57-b0f4-49408d772ba4",
   "metadata": {},
   "outputs": [],
   "source": []
  },
  {
   "cell_type": "code",
   "execution_count": null,
   "id": "cb1ab108-9c0d-4d02-bbce-b721b3c5d20a",
   "metadata": {},
   "outputs": [],
   "source": []
  }
 ],
 "metadata": {
  "kernelspec": {
   "display_name": "Python 3 (ipykernel)",
   "language": "python",
   "name": "python3"
  },
  "language_info": {
   "codemirror_mode": {
    "name": "ipython",
    "version": 3
   },
   "file_extension": ".py",
   "mimetype": "text/x-python",
   "name": "python",
   "nbconvert_exporter": "python",
   "pygments_lexer": "ipython3",
   "version": "3.12.7"
  }
 },
 "nbformat": 4,
 "nbformat_minor": 5
}
