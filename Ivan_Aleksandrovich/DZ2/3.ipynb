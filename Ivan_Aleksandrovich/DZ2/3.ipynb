{
 "cells": [
  {
   "cell_type": "raw",
   "id": "f60171a6-ac28-4099-8888-bb9a32e88076",
   "metadata": {},
   "source": [
    "3.\tНапишите программу, находящую наибольшее и наименьшее значение функции y = -26*x**2+25*x-9 на отрезке [-5,5]. Для решения и используйте while и какой то шаг (например 0.1). Найти производную и особую точку. \n",
    "\n",
    "Необходимо реализовать следующие шаги:\n",
    "    - инициализация переменных\n",
    "    - перебор значений функции с шагом 0,1\n",
    "    - нахождение минимального и максимального значения функции на заданном интервале\n",
    "    - выаод результатов\n"
   ]
  },
  {
   "cell_type": "code",
   "execution_count": 5,
   "id": "02ce2a76-ccc4-40b4-bfd6-a2fe0fc3923d",
   "metadata": {},
   "outputs": [
    {
     "name": "stdout",
     "output_type": "stream",
     "text": [
      "Наименьшее значение: -784 ; Наибольшее значение:  -2.999999999999999 ; Особая точка:  0.4807692307692308 ; Производная:  y_ = -52*x+25\n"
     ]
    }
   ],
   "source": [
    "x = -5\n",
    "y = -26*x**2+25*x-9\n",
    "y_lower = y\n",
    "y_higher = y\n",
    "while (x <= 5):\n",
    "    x += 0.1\n",
    "    y = -26*x**2+25*x-9\n",
    "    if (y<y_lower):\n",
    "        y_lower = y\n",
    "    if (y>y_higher):\n",
    "        y_higher = y\n",
    "print (\"Наименьшее значение:\",y_lower,';', \"Наибольшее значение: \", y_higher,';',  \"Особая точка: \", 25/52,';',  \"Производная: \", \"y_ = -52*x+25\")"
   ]
  },
  {
   "cell_type": "code",
   "execution_count": null,
   "id": "5803eb1f-37d1-4a6c-b7b5-45ef1a78f01f",
   "metadata": {},
   "outputs": [],
   "source": []
  }
 ],
 "metadata": {
  "kernelspec": {
   "display_name": "Python 3 (ipykernel)",
   "language": "python",
   "name": "python3"
  },
  "language_info": {
   "codemirror_mode": {
    "name": "ipython",
    "version": 3
   },
   "file_extension": ".py",
   "mimetype": "text/x-python",
   "name": "python",
   "nbconvert_exporter": "python",
   "pygments_lexer": "ipython3",
   "version": "3.10.15"
  }
 },
 "nbformat": 4,
 "nbformat_minor": 5
}
