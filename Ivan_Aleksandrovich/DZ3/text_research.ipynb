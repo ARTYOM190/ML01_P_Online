{
 "cells": [
  {
   "cell_type": "markdown",
   "metadata": {},
   "source": [
    "Задание:\n",
    "1.\tЗагрузить файл длиной не менее 2000 символов. \n",
    "2.\tСоставить программу, которая считает число уникальных слов в тексте (без критерия схожести)\n",
    "3.\tСоставить программу, которая считает число гласных и согласных букв. \n",
    "4.\tСоставить программу, которая считает число предложений, их длину и число (количество) раз использования каждого слова в тексте (с критерием схожести, критерий схожести слов выбрать самостоятельно, например, spacy (en_core_web_sm) или расстояние Левенштейна). \n",
    "5.\tВывести 10 наиболее часто встречаемых слов. \n"
   ]
  },
  {
   "cell_type": "code",
   "execution_count": 1,
   "metadata": {},
   "outputs": [],
   "source": [
    "# Загрузка отрывка текста\n",
    "text = \"\"\"\n",
    "\n",
    "It is a truth universally acknowledged, that a single man in possession of a good fortune, must be in want of a wife.\n",
    "However little known the feelings or views of such a man may be on his first entering a neighbourhood, this truth is so well fixed in the minds of the surrounding families, that he is considered as the rightful property of some one or other of their daughters.\n",
    "\n",
    "Mr. Bennet was among the earliest of those who waited on Mr. Bingley.\n",
    "He had always intended to visit him, though to the last always assuring his wife that he should not go; and till the evening after the visit was paid, she had no knowledge of it. It was then disclosed in the following manner.\n",
    "Observing his second daughter employed in trimming a hat, he suddenly addressed her with: \"I hope Mr. Bingley will like it, Lizzy.\"\n",
    "His wife was slightly offended.\n",
    "The ladies of Longbourn soon waited on those of Netherfield. The visit was soon returned in due form. Miss Bennet’s pleasing manners grew on the goodwill of Mrs. \n",
    "Hurst and Miss Bingley; and though the mother was found to be intolerable, and the younger sisters not worth speaking to, a wish of being better acquainted with them was expressed towards the two eldest.\n",
    "By Jane, this attention was received with the greatest pleasure; but Elizabeth still saw superciliousness in their treatment of everybody, hardly excepting even her sister, and could not like them; though their kindness to Jane, such as it was, had a value as arising in all probability from the influence of their brother’s admiration.\n",
    "It was generally evident whenever they met, that he did admire her and to her it was equally evident that Jane was yielding to the preference which she had begun to entertain for him from the first, and was in a way to be very much in love; but she considered with pleasure that it was not likely to be discovered by the world in general, since Jane united with great strength of feeling a composure of temper and a uniform cheerfulness of manner which would guard her from the suspicions of the impertinent.\"\"\""
   ]
  },
  {
   "cell_type": "code",
   "execution_count": 2,
   "metadata": {},
   "outputs": [],
   "source": [
    "# С помощью регулярных выражений отделям слова и убираем знаки препинания\n",
    "import re\n",
    "words = re.findall(r\"\\b\\w+(?:'\\w+)?\\b\", text.lower())\n"
   ]
  },
  {
   "cell_type": "code",
   "execution_count": 68,
   "metadata": {},
   "outputs": [
    {
     "name": "stdout",
     "output_type": "stream",
     "text": [
      "Количество уникальных слов: 192\n"
     ]
    }
   ],
   "source": [
    "# Выделям уникальные слова с помощью добавления их в set\n",
    "uniq_words = set(words)\n",
    "print (\"Количество уникальных слов:\", len(uniq_words))"
   ]
  },
  {
   "cell_type": "code",
   "execution_count": 38,
   "metadata": {},
   "outputs": [
    {
     "name": "stdout",
     "output_type": "stream",
     "text": [
      "Количество гласных: 609\n",
      "Количество согласных: 1033\n"
     ]
    }
   ],
   "source": [
    "# Найдем и выведем количество гласных и согласных букв в тексте с помощью регулярных выражений\n",
    "vowels = re.findall(r'[aeiouAEIOU]', text)\n",
    "consonants = re.findall(r'[bcdfghjklmnpqrstvwxyzBCDFGHJKLMNPQRSTVWXYZ]', text)\n",
    "print (\"Количество гласных:\", len(vowels))\n",
    "print (\"Количество согласных:\", len(consonants))"
   ]
  },
  {
   "cell_type": "code",
   "execution_count": 74,
   "metadata": {},
   "outputs": [
    {
     "name": "stdout",
     "output_type": "stream",
     "text": [
      "Количество предложений:  12\n"
     ]
    }
   ],
   "source": [
    "# Для подсчета количества предложений, необходимо посчитать количество знаков препинания, которыми заканчиваются предложения, но при этом исключить \n",
    "# обращения, такие как  Mr, Mrs, Ms и т.д.\n",
    "titles = re.findall(r'\\b(Mr|Mrs|Ms|Dr|Prof)\\b', text, re.IGNORECASE) # Ищем обращения\n",
    "sentences = re.findall(r'[.!?]+', text) # Ищем знаки препинания\n",
    "\n",
    "# Выводим количество предложений\n",
    "print(\"Количество предложений: \", len(sentences) - len(titles))\n"
   ]
  },
  {
   "cell_type": "code",
   "execution_count": 3,
   "metadata": {},
   "outputs": [],
   "source": [
    "import spacy\n",
    "nlp = spacy.load(\"en_core_web_sm\")\n",
    "doc = nlp(' '.join(words))\n"
   ]
  },
  {
   "cell_type": "code",
   "execution_count": 4,
   "metadata": {},
   "outputs": [],
   "source": [
    "tokens = {}\n",
    "counter = 0\n",
    "for token in doc:\n",
    "    token = str(token)\n",
    "    if token in tokens.keys():\n",
    "        tokens[token] += 1\n",
    "    else:\n",
    "        tokens[token] = 1\n",
    "    \n"
   ]
  },
  {
   "cell_type": "code",
   "execution_count": 6,
   "metadata": {},
   "outputs": [
    {
     "name": "stdout",
     "output_type": "stream",
     "text": [
      "10 наиболее часто встречаемых слов в тексте: \n",
      "the\n",
      "of\n",
      "was\n",
      "a\n",
      "in\n",
      "to\n",
      "it\n",
      "and\n",
      "that\n",
      "be\n"
     ]
    }
   ],
   "source": [
    "sorted_tokens = sorted(tokens.items(), key= lambda item: item[1],reverse=1)\n",
    "print (\"10 наиболее часто встречаемых слов в тексте: \")\n",
    "for item in sorted_tokens[0:10]:\n",
    "    print (item[0])\n",
    "    "
   ]
  }
 ],
 "metadata": {
  "kernelspec": {
   "display_name": "DZ3",
   "language": "python",
   "name": "python3"
  },
  "language_info": {
   "codemirror_mode": {
    "name": "ipython",
    "version": 3
   },
   "file_extension": ".py",
   "mimetype": "text/x-python",
   "name": "python",
   "nbconvert_exporter": "python",
   "pygments_lexer": "ipython3",
   "version": "3.12.7"
  }
 },
 "nbformat": 4,
 "nbformat_minor": 2
}
