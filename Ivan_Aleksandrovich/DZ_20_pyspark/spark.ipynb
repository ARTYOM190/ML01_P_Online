{
 "cells": [
  {
   "cell_type": "markdown",
   "id": "d9b6a790-6471-45d1-b9d9-1471407593cf",
   "metadata": {},
   "source": [
    "Для произвольно выбранного датасета провести обработку данных и построить предсказательную модель с использованием функционала pySpark.\n",
    "Используем для выполнения задания датасет Walmart."
   ]
  },
  {
   "cell_type": "code",
   "execution_count": 5,
   "id": "5be57b5d-c604-4542-b5ba-63a4e0dd4abd",
   "metadata": {},
   "outputs": [],
   "source": [
    "from pyspark.sql import SparkSession\n",
    "\n",
    "from pyspark.sql.functions import col, month, udf, lit, sum, to_date\n",
    "from pyspark.sql.types import StringType, DoubleType\n",
    "from pyspark.ml.feature import StringIndexer, OneHotEncoder, StringIndexerModel, VectorAssembler, StandardScaler, PolynomialExpansion\n",
    "from pyspark.ml import Pipeline\n",
    "from pyspark.ml.regression import GBTRegressor\n",
    "from pyspark.ml.evaluation import RegressionEvaluator\n",
    "spark.sparkContext.setLogLevel(\"ERROR\")"
   ]
  },
  {
   "cell_type": "code",
   "execution_count": 6,
   "id": "c5bf99d3-7e2d-45b9-b1a6-a6f8ba8546d0",
   "metadata": {},
   "outputs": [],
   "source": [
    "from hyperopt import fmin, tpe, hp, Trials, STATUS_OK\n",
    "from hyperopt.spark import SparkTrials"
   ]
  },
  {
   "cell_type": "code",
   "execution_count": 7,
   "id": "bef50860-9ccb-466a-a179-48620e791c2f",
   "metadata": {},
   "outputs": [
    {
     "name": "stdout",
     "output_type": "stream",
     "text": [
      "+-----+----------+------------+------------+-----------+----------+-----------+------------+\n",
      "|Store|      Date|Weekly_Sales|Holiday_Flag|Temperature|Fuel_Price|        CPI|Unemployment|\n",
      "+-----+----------+------------+------------+-----------+----------+-----------+------------+\n",
      "|    1|05-02-2010|   1643690.9|           0|      42.31|     2.572|211.0963582|       8.106|\n",
      "|    1|12-02-2010|  1641957.44|           1|      38.51|     2.548|211.2421698|       8.106|\n",
      "|    1|19-02-2010|  1611968.17|           0|      39.93|     2.514|211.2891429|       8.106|\n",
      "|    1|26-02-2010|  1409727.59|           0|      46.63|     2.561|211.3196429|       8.106|\n",
      "|    1|05-03-2010|  1554806.68|           0|       46.5|     2.625|211.3501429|       8.106|\n",
      "+-----+----------+------------+------------+-----------+----------+-----------+------------+\n",
      "only showing top 5 rows\n",
      "\n"
     ]
    }
   ],
   "source": [
    "\n",
    "# Создаем сессию Spark\n",
    "spark = SparkSession.builder.appName(\"WalmartData\").getOrCreate()\n",
    "\n",
    "# Загрузка датасета\n",
    "data = spark.read.csv('Walmart.csv', header=True, inferSchema=True)\n",
    "\n",
    "# Просмотр первых строк датасета\n",
    "data.show(5)"
   ]
  },
  {
   "cell_type": "code",
   "execution_count": 8,
   "id": "7f8961e0-f378-40d4-a0cd-4aafb0bbad61",
   "metadata": {},
   "outputs": [
    {
     "data": {
      "text/plain": [
       "Row(Store=1, Date='05-02-2010', Weekly_Sales=1643690.9, Holiday_Flag=0, Temperature=42.31, Fuel_Price=2.572, CPI=211.0963582, Unemployment=8.106)"
      ]
     },
     "execution_count": 8,
     "metadata": {},
     "output_type": "execute_result"
    }
   ],
   "source": [
    "data.head()"
   ]
  },
  {
   "cell_type": "code",
   "execution_count": 9,
   "id": "b93aae15-61b6-4dfa-b6e6-95e5579d285c",
   "metadata": {},
   "outputs": [
    {
     "data": {
      "text/plain": [
       "[('Store', 'int'),\n",
       " ('Date', 'string'),\n",
       " ('Weekly_Sales', 'double'),\n",
       " ('Holiday_Flag', 'int'),\n",
       " ('Temperature', 'double'),\n",
       " ('Fuel_Price', 'double'),\n",
       " ('CPI', 'double'),\n",
       " ('Unemployment', 'double')]"
      ]
     },
     "execution_count": 9,
     "metadata": {},
     "output_type": "execute_result"
    }
   ],
   "source": [
    "data.dtypes"
   ]
  },
  {
   "cell_type": "code",
   "execution_count": 10,
   "id": "1b182e38-2a03-4412-8846-38d12a09ddae",
   "metadata": {},
   "outputs": [
    {
     "name": "stdout",
     "output_type": "stream",
     "text": [
      "+-----+----+------------+------------+-----------+----------+---+------------+\n",
      "|Store|Date|Weekly_Sales|Holiday_Flag|Temperature|Fuel_Price|CPI|Unemployment|\n",
      "+-----+----+------------+------------+-----------+----------+---+------------+\n",
      "|    0|   0|           0|           0|          0|         0|  0|           0|\n",
      "+-----+----+------------+------------+-----------+----------+---+------------+\n",
      "\n"
     ]
    }
   ],
   "source": [
    "\n",
    "# Подсчет пропущенных значений в каждом столбце\n",
    "missing_counts = data.select(\n",
    "    [sum(col(column).isNull().cast(\"int\")).alias(column) for column in data.columns]\n",
    ")\n",
    "\n",
    "# Вывод результата\n",
    "missing_counts.show()"
   ]
  },
  {
   "cell_type": "markdown",
   "id": "a847c81a-de8c-4284-a0f3-0367a1cc1321",
   "metadata": {},
   "source": [
    "Пропусков нет"
   ]
  },
  {
   "cell_type": "code",
   "execution_count": 11,
   "id": "fbfca9da-6aad-48c5-9048-e2f698aaf264",
   "metadata": {},
   "outputs": [],
   "source": [
    "\n",
    "# Преобразование столбца 'Date' в тип Date\n",
    "data = data.withColumn('Date', to_date(col('Date'), 'dd-MM-yyyy'))"
   ]
  },
  {
   "cell_type": "code",
   "execution_count": 12,
   "id": "5e602e83-755c-433f-91cf-79a4cb764503",
   "metadata": {},
   "outputs": [
    {
     "name": "stdout",
     "output_type": "stream",
     "text": [
      "+-----+----------+------------+------------+-----------+----------+-----------+------------+\n",
      "|Store|      Date|Weekly_Sales|Holiday_Flag|Temperature|Fuel_Price|        CPI|Unemployment|\n",
      "+-----+----------+------------+------------+-----------+----------+-----------+------------+\n",
      "|    1|2010-02-05|   1643690.9|           0|      42.31|     2.572|211.0963582|       8.106|\n",
      "|    1|2010-02-12|  1641957.44|           1|      38.51|     2.548|211.2421698|       8.106|\n",
      "|    1|2010-02-19|  1611968.17|           0|      39.93|     2.514|211.2891429|       8.106|\n",
      "|    1|2010-02-26|  1409727.59|           0|      46.63|     2.561|211.3196429|       8.106|\n",
      "|    1|2010-03-05|  1554806.68|           0|       46.5|     2.625|211.3501429|       8.106|\n",
      "+-----+----------+------------+------------+-----------+----------+-----------+------------+\n",
      "only showing top 5 rows\n",
      "\n"
     ]
    }
   ],
   "source": [
    "data.show(5)"
   ]
  },
  {
   "cell_type": "code",
   "execution_count": 13,
   "id": "9b1aa17e-94a2-4a55-ae9a-f03080ad0f2d",
   "metadata": {},
   "outputs": [
    {
     "name": "stderr",
     "output_type": "stream",
     "text": [
      "[Stage 11:>                                                         (0 + 1) / 1]"
     ]
    },
    {
     "name": "stdout",
     "output_type": "stream",
     "text": [
      "+-----+------------+------------+-----------+----------+-----------+------------+------+------+------+------+\n",
      "|Store|Weekly_Sales|Holiday_Flag|Temperature|Fuel_Price|        CPI|Unemployment|winter|spring|summer|autumn|\n",
      "+-----+------------+------------+-----------+----------+-----------+------------+------+------+------+------+\n",
      "|    1|   1643690.9|           0|      42.31|     2.572|211.0963582|       8.106|   1.0|   0.0|   0.0|   0.0|\n",
      "|    1|  1641957.44|           1|      38.51|     2.548|211.2421698|       8.106|   1.0|   0.0|   0.0|   0.0|\n",
      "|    1|  1611968.17|           0|      39.93|     2.514|211.2891429|       8.106|   1.0|   0.0|   0.0|   0.0|\n",
      "|    1|  1409727.59|           0|      46.63|     2.561|211.3196429|       8.106|   1.0|   0.0|   0.0|   0.0|\n",
      "|    1|  1554806.68|           0|       46.5|     2.625|211.3501429|       8.106|   0.0|   1.0|   0.0|   0.0|\n",
      "|    1|  1439541.59|           0|      57.79|     2.667|211.3806429|       8.106|   0.0|   1.0|   0.0|   0.0|\n",
      "|    1|  1472515.79|           0|      54.58|      2.72| 211.215635|       8.106|   0.0|   1.0|   0.0|   0.0|\n",
      "|    1|  1404429.92|           0|      51.45|     2.732|211.0180424|       8.106|   0.0|   1.0|   0.0|   0.0|\n",
      "|    1|  1594968.28|           0|      62.27|     2.719|210.8204499|       7.808|   0.0|   1.0|   0.0|   0.0|\n",
      "|    1|  1545418.53|           0|      65.86|      2.77|210.6228574|       7.808|   0.0|   1.0|   0.0|   0.0|\n",
      "|    1|  1466058.28|           0|      66.32|     2.808|   210.4887|       7.808|   0.0|   1.0|   0.0|   0.0|\n",
      "|    1|  1391256.12|           0|      64.84|     2.795|210.4391228|       7.808|   0.0|   1.0|   0.0|   0.0|\n",
      "|    1|  1425100.71|           0|      67.41|      2.78|210.3895456|       7.808|   0.0|   1.0|   0.0|   0.0|\n",
      "|    1|  1603955.12|           0|      72.55|     2.835|210.3399684|       7.808|   0.0|   1.0|   0.0|   0.0|\n",
      "|    1|   1494251.5|           0|      74.78|     2.854|210.3374261|       7.808|   0.0|   1.0|   0.0|   0.0|\n",
      "|    1|  1399662.07|           0|      76.44|     2.826|210.6170934|       7.808|   0.0|   1.0|   0.0|   0.0|\n",
      "|    1|  1432069.95|           0|      80.44|     2.759|210.8967606|       7.808|   0.0|   1.0|   0.0|   0.0|\n",
      "|    1|  1615524.71|           0|      80.69|     2.705|211.1764278|       7.808|   0.0|   0.0|   1.0|   0.0|\n",
      "|    1|  1542561.09|           0|      80.43|     2.668|211.4560951|       7.808|   0.0|   0.0|   1.0|   0.0|\n",
      "|    1|  1503284.06|           0|      84.11|     2.637|211.4537719|       7.808|   0.0|   0.0|   1.0|   0.0|\n",
      "+-----+------------+------------+-----------+----------+-----------+------------+------+------+------+------+\n",
      "only showing top 20 rows\n",
      "\n"
     ]
    },
    {
     "name": "stderr",
     "output_type": "stream",
     "text": [
      "                                                                                "
     ]
    }
   ],
   "source": [
    "\n",
    "# Определяем функцию для определения времени года\n",
    "def get_season(month):\n",
    "    if month in [12, 1, 2]:\n",
    "        return 'winter'\n",
    "    elif month in [3, 4, 5]:\n",
    "        return 'spring'\n",
    "    elif month in [6, 7, 8]:\n",
    "        return 'summer'\n",
    "    elif month in [9, 10, 11]:\n",
    "        return 'autumn'\n",
    "\n",
    "# Регистрируем UDF (пользовательскую функцию)\n",
    "get_season_udf = udf(get_season, StringType())\n",
    "\n",
    "# Добавляем колонку с временем года\n",
    "data = data.withColumn('month', month(col('Date')))  # Извлекаем месяц из даты\n",
    "data = data.withColumn('season', get_season_udf(col('month')))\n",
    "\n",
    "# Указываем явный порядок времен года\n",
    "seasons = ['winter', 'spring', 'summer', 'autumn']\n",
    "\n",
    "# Создаем StringIndexerModel с явным порядком меток\n",
    "indexer_model = StringIndexerModel.from_labels(\n",
    "    labels=seasons,\n",
    "    inputCol='season',\n",
    "    outputCol='season_index',\n",
    "    handleInvalid='keep'  # Обработка неизвестных значений\n",
    ")\n",
    "\n",
    "# Кодируем колонку 'season_index' в бинарные колонки\n",
    "encoder = OneHotEncoder(inputCols=['season_index'], outputCols=['season_encoded'])\n",
    "\n",
    "# Создаем пайплайн для выполнения преобразований\n",
    "pipeline = Pipeline(stages=[indexer_model, encoder])\n",
    "model = pipeline.fit(data)\n",
    "data = model.transform(data)\n",
    "\n",
    "# Функция для извлечения значения из вектора\n",
    "def extract_value(vector, index):\n",
    "    try:\n",
    "        return float(vector[index])\n",
    "    except:\n",
    "        return 0.0\n",
    "\n",
    "# Регистрируем UDF для извлечения значений\n",
    "extract_value_udf = udf(extract_value, DoubleType())\n",
    "\n",
    "# Создаем отдельные колонки для каждого времени года\n",
    "for i, season in enumerate(seasons):\n",
    "    data = data.withColumn(season, extract_value_udf(col('season_encoded'), lit(i)))\n",
    "\n",
    "# Удаляем временные колонки\n",
    "data = data.drop('Date','month', 'season', 'season_index', 'season_encoded')\n",
    "\n",
    "# Просмотр результата\n",
    "data.show()"
   ]
  },
  {
   "cell_type": "code",
   "execution_count": 14,
   "id": "275655a4-8859-48f0-b40f-498c6f13056d",
   "metadata": {},
   "outputs": [],
   "source": [
    "\n",
    "# Разделяем данные на тренировочную и тестовую выборки\n",
    "train_data, test_data = data.randomSplit([0.8, 0.2], seed=42)\n",
    "\n",
    "# Разделяем train_data и test_data на X_train, X_test, y_train, y_test\n",
    "X_train = train_data.drop('Weekly_Sales')\n",
    "y_train = train_data.select('Weekly_Sales')\n",
    "\n",
    "X_test = test_data.drop('Weekly_Sales')\n",
    "y_test = test_data.select('Weekly_Sales')"
   ]
  },
  {
   "cell_type": "code",
   "execution_count": 15,
   "id": "aced45bd-6509-4093-a33c-6c6610c678fc",
   "metadata": {},
   "outputs": [
    {
     "name": "stderr",
     "output_type": "stream",
     "text": [
      "                                                                                "
     ]
    },
    {
     "name": "stdout",
     "output_type": "stream",
     "text": [
      "+------------+------------------+\n",
      "|Weekly_Sales|        prediction|\n",
      "+------------+------------------+\n",
      "|  1327405.42|1448272.6267190638|\n",
      "|  1367320.01|1634289.3368308933|\n",
      "|  1380020.27|1406605.6249667257|\n",
      "|  1394393.84|1516647.5838208413|\n",
      "|   1422711.6|1470002.8248235479|\n",
      "+------------+------------------+\n",
      "only showing top 5 rows\n",
      "\n"
     ]
    }
   ],
   "source": [
    "\n",
    "# 1. Собираем все признаки в один вектор\n",
    "assembler = VectorAssembler(\n",
    "    inputCols=X_train.columns,  # Все колонки с признаками\n",
    "    outputCol=\"features\"\n",
    ")\n",
    "\n",
    "# 2. Масштабируем признаки\n",
    "scaler = StandardScaler(\n",
    "    inputCol=\"features\",\n",
    "    outputCol=\"scaled_features\",\n",
    "    withStd=True,\n",
    "    withMean=True\n",
    ")\n",
    "\n",
    "# 3. Добавляем PolynomialFeatures (используем PolynomialExpansion)\n",
    "poly_expansion = PolynomialExpansion(\n",
    "    inputCol=\"scaled_features\",\n",
    "    outputCol=\"poly_features\",\n",
    "    degree=2  # Степень полинома (можно изменить)\n",
    ")\n",
    "\n",
    "# 4. Создаем модель Gradient Boosting\n",
    "gbt = GBTRegressor(\n",
    "    featuresCol=\"poly_features\",  # Используем полиномиальные признаки\n",
    "    labelCol=\"Weekly_Sales\",     # Целевая переменная\n",
    "    maxIter=100,                 # Количество итераций\n",
    "    maxDepth=5,                  # Глубина дерева\n",
    "    seed=42                      # Для воспроизводимости\n",
    ")\n",
    "\n",
    "# 5. Создаем пайплайн\n",
    "pipeline = Pipeline(stages=[assembler, scaler, poly_expansion, gbt])\n",
    "\n",
    "# 6. Обучаем модель\n",
    "model = pipeline.fit(train_data)\n",
    "\n",
    "# 7. Делаем предсказания на тестовых данных\n",
    "predictions = model.transform(test_data)\n",
    "\n",
    "# Просмотр результата\n",
    "predictions.select(\"Weekly_Sales\", \"prediction\").show(5)"
   ]
  },
  {
   "cell_type": "code",
   "execution_count": 16,
   "id": "731262fb-541b-4d58-864f-e1a977ba06e6",
   "metadata": {},
   "outputs": [
    {
     "name": "stdout",
     "output_type": "stream",
     "text": [
      "Root Mean Squared Error (RMSE): 157320.68994475214\n"
     ]
    }
   ],
   "source": [
    "from pyspark.ml.evaluation import RegressionEvaluator\n",
    "\n",
    "# Оценка модели\n",
    "evaluator = RegressionEvaluator(\n",
    "    labelCol=\"Weekly_Sales\",\n",
    "    predictionCol=\"prediction\",\n",
    "    metricName=\"rmse\" \n",
    ")\n",
    "\n",
    "rmse = evaluator.evaluate(predictions)\n",
    "print(f\"Root Mean Squared Error (RMSE): {rmse}\")"
   ]
  },
  {
   "cell_type": "code",
   "execution_count": 17,
   "id": "cca2867f-76c7-4ad1-971f-60fa0fe1f240",
   "metadata": {},
   "outputs": [
    {
     "name": "stdout",
     "output_type": "stream",
     "text": [
      "R2: 0.9237319137257813\n"
     ]
    }
   ],
   "source": [
    "# Оценка модели\n",
    "evaluator = RegressionEvaluator(\n",
    "    labelCol=\"Weekly_Sales\",\n",
    "    predictionCol=\"prediction\",\n",
    "    metricName=\"r2\" \n",
    ")\n",
    "\n",
    "r2 = evaluator.evaluate(predictions)\n",
    "print(f\"R2: {r2}\")"
   ]
  },
  {
   "cell_type": "markdown",
   "id": "46187757-a9b4-4dbe-86f8-32356b6529a5",
   "metadata": {},
   "source": [
    "В ходе работы выполнена предобработка данных и обучение модели с использованием PySpark."
   ]
  }
 ],
 "metadata": {
  "kernelspec": {
   "display_name": "Python 3 (ipykernel)",
   "language": "python",
   "name": "python3"
  },
  "language_info": {
   "codemirror_mode": {
    "name": "ipython",
    "version": 3
   },
   "file_extension": ".py",
   "mimetype": "text/x-python",
   "name": "python",
   "nbconvert_exporter": "python",
   "pygments_lexer": "ipython3",
   "version": "3.9.21"
  }
 },
 "nbformat": 4,
 "nbformat_minor": 5
}
