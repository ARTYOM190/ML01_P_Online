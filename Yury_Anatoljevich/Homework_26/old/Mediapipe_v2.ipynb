{
 "cells": [
  {
   "cell_type": "markdown",
   "metadata": {},
   "source": [
    "Cleansing the dataset of the loaded images from the garbage files using the mediapipe for detecting faces.\n",
    "\n",
    "For running the code we should have two folders in the working directory: <br>\n",
    "input_folder = \"wiki_crop\" - with the images to be processed, unpacked from wiki_crop.tar with the size 774 MB <br>\n",
    "output_folder = \"wiki_crop_cleaned\" - empty folder for processed images <br>"
   ]
  },
  {
   "cell_type": "markdown",
   "metadata": {},
   "source": [
    "1. Importing necessary modules:"
   ]
  },
  {
   "cell_type": "code",
   "execution_count": null,
   "metadata": {},
   "outputs": [],
   "source": [
    "import os\n",
    "import cv2\n",
    "import mediapipe as mp\n",
    "import numpy as np"
   ]
  },
  {
   "cell_type": "markdown",
   "metadata": {},
   "source": [
    "2. Defining functions for loading images and detecting faces on them"
   ]
  },
  {
   "cell_type": "code",
   "execution_count": null,
   "metadata": {},
   "outputs": [],
   "source": [
    "def load_images_from_folder(folder):\n",
    "    \"\"\"Загрузка всех графических файлов из папки и её подпапок.\"\"\"\n",
    "    image_paths = []\n",
    "    for root, _, files in os.walk(folder):\n",
    "        for file in files:\n",
    "            if file.lower().endswith(('.png', '.jpg', '.jpeg', '.bmp', '.tiff')):\n",
    "                image_paths.append(os.path.join(root, file))\n",
    "    return image_paths\n",
    "\n",
    "def detect_faces_and_filter_images(image_paths, output_folder, min_face_size=100):\n",
    "    \"\"\"Обнаружение лиц и сохранение изображений, где лица достаточно большие.\"\"\"\n",
    "    mp_face_detection = mp.solutions.face_detection.FaceDetection()\n",
    "\n",
    "    # Убедимся, что выходная папка существует\n",
    "    os.makedirs(output_folder, exist_ok=True)\n",
    "\n",
    "    for image_path in image_paths:\n",
    "        # Открытие изображения через OpenCV\n",
    "        img = cv2.imread(image_path)\n",
    "        if img is None:  # Если изображение не загружено, пропускаем его\n",
    "            print(f\"Не удалось загрузить изображение: {image_path}\")\n",
    "            continue\n",
    "        \n",
    "        # Преобразование из BGR в RGB (mediapipe ожидает RGB)\n",
    "        img_rgb = cv2.cvtColor(img, cv2.COLOR_BGR2RGB)\n",
    "        height, width, _ = img.shape\n",
    "\n",
    "        # Обнаружение лиц\n",
    "        results = mp_face_detection.process(img_rgb)\n",
    "\n",
    "        if results.detections:\n",
    "            for detection in results.detections:\n",
    "                # Извлечение размеров обнаруженного лица\n",
    "                bboxC = detection.location_data.relative_bounding_box\n",
    "                face_width = int(bboxC.width * width)\n",
    "                face_height = int(bboxC.height * height)\n",
    "\n",
    "                # Проверка на минимальный размер лица\n",
    "                if face_width >= min_face_size and face_height >= min_face_size:\n",
    "                    # Сохранение изображения в выходную папку\n",
    "                    output_path = os.path.join(output_folder, os.path.basename(image_path))\n",
    "                    # resize image to 224 x 224:\n",
    "                    I = cv2.resize(img, (224, 224)) # size for EfficientNet\n",
    "                    cv2.imwrite(output_path, I)\n",
    "                    print(f\"Сохранено изображение: {output_path}\")\n",
    "                    break  # Сохраняем один раз, если есть подходящее лицо"
   ]
  },
  {
   "cell_type": "markdown",
   "metadata": {},
   "source": [
    "3. Loading images one by one, detecting images and saving them to another folder if the face is large enough"
   ]
  },
  {
   "cell_type": "code",
   "execution_count": null,
   "metadata": {},
   "outputs": [],
   "source": [
    "# Папка с изображениями и выходная папка\n",
    "input_folder = \"wiki_crop\"\n",
    "output_folder = \"wiki_crop_cleaned\"\n",
    "\n",
    "# Загрузка изображений и их фильтрация\n",
    "min_face_size = 100\n",
    "image_paths = load_images_from_folder(input_folder)\n",
    "detect_faces_and_filter_images(image_paths, output_folder, min_face_size=min_face_size)"
   ]
  }
 ],
 "metadata": {
  "kernelspec": {
   "display_name": "Python 3",
   "language": "python",
   "name": "python3"
  },
  "language_info": {
   "codemirror_mode": {
    "name": "ipython",
    "version": 3
   },
   "file_extension": ".py",
   "mimetype": "text/x-python",
   "name": "python",
   "nbconvert_exporter": "python",
   "pygments_lexer": "ipython3",
   "version": "3.10.5"
  }
 },
 "nbformat": 4,
 "nbformat_minor": 2
}
