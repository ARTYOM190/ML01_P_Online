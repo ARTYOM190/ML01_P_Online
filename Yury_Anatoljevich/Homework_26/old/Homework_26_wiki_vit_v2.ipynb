{
 "cells": [
  {
   "cell_type": "markdown",
   "metadata": {},
   "source": [
    "Задание №26\n",
    "\n",
    "ДЗ должна быть выполнена строго на torch <br>\n",
    "1 - использовать dataloader. <br>\n",
    "2 - в цикл обучения добавить сохранения лучшей модели / шедулер для скорости обучения. <br>\n",
    "3 - вывести графики обучения. Выводить информацию по обучению в процессе. <br>\n",
    "\n",
    "Решить задачу предсказания возраста. Свести к задаче классификации. \n",
    "0-9, 10-19, 20-29, 30-39, 40-49, 50-59, ...\n",
    " \n",
    "В качестве фичеэкстрактора используйте любую вариацию vit. ** -\n",
    "\n",
    "Анализ и план работы: <br>\n",
    "Загружаем данные из предварительно очищенного и обработанного датасета wiki_crop (полученного при выполнении предыдущей работы). <br>\n",
    "При загрузке файлов извлекаем возраст из заголовка файла и назначаем файлу метку от 0 до 9 в соответствии с разбиением отрезка 0-100 на десятилетия. <br>\n",
    "Загружаем предобученную сеть VIT. Изменяем последний слой для выдачи решения задачи классификации. <br>\n",
    "Обучаем сеть, контролируя качество обучения с помощью валидационной выборки, функция качества log loss для определения возраста. <br>\n",
    "Строим графики. <br>\n",
    "Проверяем метрики на тестовом наборе. <br>\n",
    "Делаем выводы."
   ]
  },
  {
   "cell_type": "markdown",
   "metadata": {},
   "source": [
    "1. Loading necessary modules:"
   ]
  },
  {
   "cell_type": "code",
   "execution_count": 6,
   "metadata": {},
   "outputs": [],
   "source": [
    "%reset -f \n",
    "\n",
    "import torch\n",
    "from torchvision import datasets, transforms, models\n",
    "from torch.utils.data import Dataset, DataLoader, random_split\n",
    "import torch.nn as nn\n",
    "import torch.optim as optim\n",
    "from torch.optim.lr_scheduler import ReduceLROnPlateau, CosineAnnealingLR\n",
    "from torchvision.models import vit_b_16\n",
    "\n",
    "import requests\n",
    "from transformers import AutoModelForImageClassification, AutoImageProcessor\n",
    "from PIL import Image\n",
    "\n",
    "import os, re, cv2\n",
    "from datetime import datetime"
   ]
  },
  {
   "cell_type": "markdown",
   "metadata": {},
   "source": [
    "2. CUDA enable (pip3 install torch torchvision torchaudio --index-url https://download.pytorch.org/whl/cu118)"
   ]
  },
  {
   "cell_type": "code",
   "execution_count": 7,
   "metadata": {},
   "outputs": [
    {
     "name": "stdout",
     "output_type": "stream",
     "text": [
      "CUDA is available: False\n",
      "Device: cpu\n"
     ]
    }
   ],
   "source": [
    "print(f'CUDA is available: {torch.cuda.is_available()}')       # True\n",
    "if torch.cuda.is_available():\n",
    "    print(f'Device count: {torch.cuda.device_count()}')        # 1\n",
    "    print(f'Current device #: {torch.cuda.current_device()}')  # 0\n",
    "    print(f'GPU name: {torch.cuda.get_device_name(0)}') \n",
    "\n",
    "device = torch.device('cuda' if torch.cuda.is_available() else 'cpu')\n",
    "print(f'Device: {device}')\n",
    "# device = 'cpu'\n",
    "# print(f'Now Device: {device}')"
   ]
  },
  {
   "cell_type": "markdown",
   "metadata": {},
   "source": [
    "3. Custom dataset"
   ]
  },
  {
   "cell_type": "code",
   "execution_count": 8,
   "metadata": {},
   "outputs": [],
   "source": [
    "# Custom Dataset for loading images, and age label calculation\n",
    "class AgeDataset(Dataset):\n",
    "    def __init__(self, folder, transform=None):\n",
    "        self.folder = folder\n",
    "        self.transform = transform\n",
    "        self.image_paths = []\n",
    "        self.age_classes = []\n",
    "\n",
    "        # Loading images, calculating the age\n",
    "        for file_name in os.listdir(folder):\n",
    "            if file_name.lower().endswith(('.png', '.jpg', '.jpeg')):\n",
    "                # Extracting date of birth and the year of photo taking\n",
    "                match = re.search(r'_(\\d{4})-(\\d{2})-(\\d{2})_(\\d{4})', file_name)\n",
    "                if match:\n",
    "                    birth_year = int(match.group(1))\n",
    "                    birth_month = int(match.group(2))\n",
    "                    birth_day = int(match.group(3))\n",
    "                    if birth_day == 0: # sometimes in the dataset we have zeroth date of birth\n",
    "                        birth_day = 1\n",
    "                    shoot_year = int(match.group(4))\n",
    "                    # print(f'Y: {birth_year}, M: {birth_month}, D: {birth_day}, Shoot: {shoot_year}')\n",
    "                    # Age calculation:\n",
    "                    birth_date = datetime(birth_year, birth_month, birth_day)\n",
    "                    shoot_date = datetime(shoot_year, 7, 1)  # Say the photo is taken on the 1st of July (middle of the year)\n",
    "                    age = (shoot_date - birth_date).days // 365  # Age in years\n",
    "                    if age >= 0: # there is possibility for age to be less than zero, it's an error\n",
    "                        # calculating class label:\n",
    "                        age_label = age // 10\n",
    "                        if age_label > 9:\n",
    "                            age_label = 9 \n",
    "                        self.image_paths.append(os.path.join(folder, file_name))\n",
    "                        self.age_classes.append(age_label)\n",
    "        # print(self.age_classes)\n",
    "\n",
    "    def __len__(self):\n",
    "        return len(self.image_paths)\n",
    "\n",
    "    def __getitem__(self, idx):\n",
    "        image_path = self.image_paths[idx]\n",
    "        age_label = self.age_classes[idx]\n",
    "        # print(age_class)\n",
    "        image_bgr = cv2.imread(image_path)  # Load image \n",
    "        image_rgb = cv2.cvtColor(image_bgr, cv2.COLOR_BGR2RGB) # convert to RGB\n",
    "\n",
    "        if self.transform:\n",
    "            image_rgb = self.transform(image_rgb)  # Transform to pytorch tensor; also normalize\n",
    "\n",
    "        # return image_rgb, torch.tensor(age_label, dtype=torch.int64)\n",
    "        return image_rgb, age_label"
   ]
  },
  {
   "cell_type": "markdown",
   "metadata": {},
   "source": [
    "4. Loading the data (pre-processed images) and calculating corresponding ages of people and the labels for the age"
   ]
  },
  {
   "cell_type": "code",
   "execution_count": 9,
   "metadata": {},
   "outputs": [],
   "source": [
    "# Folder with the images prepared\n",
    "folder ='wiki_crop_cleaned'\n",
    " \n",
    "# Transforms for the images\n",
    "transform = transforms.Compose([\n",
    "    transforms.ToTensor(),\n",
    "    # transforms.Normalize(mean=[0.5, 0.5, 0.5], std=[0.5, 0.5, 0.5]) # normalizing images\n",
    "    transforms.Normalize(mean=[0.485, 0.456, 0.406], std=[0.229, 0.224, 0.225]) # normalization like in ImageNet\n",
    "                         \n",
    "])\n",
    "\n",
    "# Creating the Dataset\n",
    "dataset = AgeDataset(folder, transform=transform)\n",
    "\n",
    "# Splitting the Dataset into traning, validation and the test one\n",
    "train_size = int(0.7 * len(dataset))  # 70% for the train\n",
    "val_size = int(0.15 * len(dataset))   # 15% for the validation\n",
    "test_size = len(dataset) - train_size - val_size  # the rest 15% for the test \n",
    "\n",
    "train_dataset, val_dataset, test_dataset = random_split(dataset, [train_size, val_size, test_size])\n",
    "# saving datasets for reproducible stop and rerun of the neural network training\n",
    "\n",
    "# Save indices to corresponding variables\n",
    "train_indices = train_dataset.indices\n",
    "val_indices = val_dataset.indices\n",
    "test_indices = test_dataset.indices"
   ]
  },
  {
   "cell_type": "markdown",
   "metadata": {},
   "source": [
    "4. Initializing the VIT model (and loading the previosly saved state if any)"
   ]
  },
  {
   "cell_type": "code",
   "execution_count": 10,
   "metadata": {},
   "outputs": [
    {
     "name": "stderr",
     "output_type": "stream",
     "text": [
      "c:\\Users\\varaksa_yua\\AppData\\Local\\Programs\\Python\\Python310\\lib\\site-packages\\huggingface_hub\\file_download.py:144: UserWarning: `huggingface_hub` cache-system uses symlinks by default to efficiently store duplicated files but your machine does not support them in C:\\Users\\varaksa_yua\\.cache\\huggingface\\hub\\models--OpenGVLab--pvt_v2_b0. Caching files will still work but in a degraded version that might require more space on your disk. This warning can be disabled by setting the `HF_HUB_DISABLE_SYMLINKS_WARNING` environment variable. For more details, see https://huggingface.co/docs/huggingface_hub/how-to-cache#limitations.\n",
      "To support symlinks on Windows, you either need to activate Developer Mode or to run Python as an administrator. In order to activate developer mode, see this article: https://docs.microsoft.com/en-us/windows/apps/get-started/enable-your-device-for-development\n",
      "  warnings.warn(message)\n"
     ]
    },
    {
     "ename": "NameError",
     "evalue": "name 'init_empty_weights' is not defined",
     "output_type": "error",
     "traceback": [
      "\u001b[1;31m---------------------------------------------------------------------------\u001b[0m",
      "\u001b[1;31mNameError\u001b[0m                                 Traceback (most recent call last)",
      "Cell \u001b[1;32mIn[10], line 6\u001b[0m\n\u001b[0;32m      1\u001b[0m num_classes \u001b[38;5;241m=\u001b[39m \u001b[38;5;241m10\u001b[39m \u001b[38;5;66;03m# ten classes for ages from 0 to 99\u001b[39;00m\n\u001b[0;32m      3\u001b[0m \u001b[38;5;66;03m# Load pretrained ViT model\u001b[39;00m\n\u001b[0;32m      4\u001b[0m \u001b[38;5;66;03m# model = vit_b_16(pretrained=True)\u001b[39;00m\n\u001b[1;32m----> 6\u001b[0m model \u001b[38;5;241m=\u001b[39m \u001b[43mAutoModelForImageClassification\u001b[49m\u001b[38;5;241;43m.\u001b[39;49m\u001b[43mfrom_pretrained\u001b[49m\u001b[43m(\u001b[49m\u001b[38;5;124;43m\"\u001b[39;49m\u001b[38;5;124;43mOpenGVLab/pvt_v2_b0\u001b[39;49m\u001b[38;5;124;43m\"\u001b[39;49m\u001b[43m)\u001b[49m\n\u001b[0;32m      7\u001b[0m processor \u001b[38;5;241m=\u001b[39m AutoImageProcessor\u001b[38;5;241m.\u001b[39mfrom_pretrained(\u001b[38;5;124m\"\u001b[39m\u001b[38;5;124mOpenGVLab/pvt_v2_b0\u001b[39m\u001b[38;5;124m\"\u001b[39m)\n",
      "File \u001b[1;32mc:\\Users\\varaksa_yua\\AppData\\Local\\Programs\\Python\\Python310\\lib\\site-packages\\transformers\\models\\auto\\auto_factory.py:571\u001b[0m, in \u001b[0;36m_BaseAutoModelClass.from_pretrained\u001b[1;34m(cls, pretrained_model_name_or_path, *model_args, **kwargs)\u001b[0m\n\u001b[0;32m    569\u001b[0m     \u001b[38;5;28;01mif\u001b[39;00m model_class\u001b[38;5;241m.\u001b[39mconfig_class \u001b[38;5;241m==\u001b[39m config\u001b[38;5;241m.\u001b[39msub_configs\u001b[38;5;241m.\u001b[39mget(\u001b[38;5;124m\"\u001b[39m\u001b[38;5;124mtext_config\u001b[39m\u001b[38;5;124m\"\u001b[39m, \u001b[38;5;28;01mNone\u001b[39;00m):\n\u001b[0;32m    570\u001b[0m         config \u001b[38;5;241m=\u001b[39m config\u001b[38;5;241m.\u001b[39mget_text_config()\n\u001b[1;32m--> 571\u001b[0m     \u001b[38;5;28;01mreturn\u001b[39;00m model_class\u001b[38;5;241m.\u001b[39mfrom_pretrained(\n\u001b[0;32m    572\u001b[0m         pretrained_model_name_or_path, \u001b[38;5;241m*\u001b[39mmodel_args, config\u001b[38;5;241m=\u001b[39mconfig, \u001b[38;5;241m*\u001b[39m\u001b[38;5;241m*\u001b[39mhub_kwargs, \u001b[38;5;241m*\u001b[39m\u001b[38;5;241m*\u001b[39mkwargs\n\u001b[0;32m    573\u001b[0m     )\n\u001b[0;32m    574\u001b[0m \u001b[38;5;28;01mraise\u001b[39;00m \u001b[38;5;167;01mValueError\u001b[39;00m(\n\u001b[0;32m    575\u001b[0m     \u001b[38;5;124mf\u001b[39m\u001b[38;5;124m\"\u001b[39m\u001b[38;5;124mUnrecognized configuration class \u001b[39m\u001b[38;5;132;01m{\u001b[39;00mconfig\u001b[38;5;241m.\u001b[39m\u001b[38;5;18m__class__\u001b[39m\u001b[38;5;132;01m}\u001b[39;00m\u001b[38;5;124m for this kind of AutoModel: \u001b[39m\u001b[38;5;132;01m{\u001b[39;00m\u001b[38;5;28mcls\u001b[39m\u001b[38;5;241m.\u001b[39m\u001b[38;5;18m__name__\u001b[39m\u001b[38;5;132;01m}\u001b[39;00m\u001b[38;5;124m.\u001b[39m\u001b[38;5;130;01m\\n\u001b[39;00m\u001b[38;5;124m\"\u001b[39m\n\u001b[0;32m    576\u001b[0m     \u001b[38;5;124mf\u001b[39m\u001b[38;5;124m\"\u001b[39m\u001b[38;5;124mModel type should be one of \u001b[39m\u001b[38;5;132;01m{\u001b[39;00m\u001b[38;5;124m'\u001b[39m\u001b[38;5;124m, \u001b[39m\u001b[38;5;124m'\u001b[39m\u001b[38;5;241m.\u001b[39mjoin(c\u001b[38;5;241m.\u001b[39m\u001b[38;5;18m__name__\u001b[39m\u001b[38;5;250m \u001b[39m\u001b[38;5;28;01mfor\u001b[39;00m\u001b[38;5;250m \u001b[39mc\u001b[38;5;250m \u001b[39m\u001b[38;5;129;01min\u001b[39;00m\u001b[38;5;250m \u001b[39m\u001b[38;5;28mcls\u001b[39m\u001b[38;5;241m.\u001b[39m_model_mapping\u001b[38;5;241m.\u001b[39mkeys())\u001b[38;5;132;01m}\u001b[39;00m\u001b[38;5;124m.\u001b[39m\u001b[38;5;124m\"\u001b[39m\n\u001b[0;32m    577\u001b[0m )\n",
      "File \u001b[1;32mc:\\Users\\varaksa_yua\\AppData\\Local\\Programs\\Python\\Python310\\lib\\site-packages\\transformers\\modeling_utils.py:279\u001b[0m, in \u001b[0;36mrestore_default_torch_dtype.<locals>._wrapper\u001b[1;34m(*args, **kwargs)\u001b[0m\n\u001b[0;32m    277\u001b[0m old_dtype \u001b[38;5;241m=\u001b[39m torch\u001b[38;5;241m.\u001b[39mget_default_dtype()\n\u001b[0;32m    278\u001b[0m \u001b[38;5;28;01mtry\u001b[39;00m:\n\u001b[1;32m--> 279\u001b[0m     \u001b[38;5;28;01mreturn\u001b[39;00m func(\u001b[38;5;241m*\u001b[39margs, \u001b[38;5;241m*\u001b[39m\u001b[38;5;241m*\u001b[39mkwargs)\n\u001b[0;32m    280\u001b[0m \u001b[38;5;28;01mfinally\u001b[39;00m:\n\u001b[0;32m    281\u001b[0m     torch\u001b[38;5;241m.\u001b[39mset_default_dtype(old_dtype)\n",
      "File \u001b[1;32mc:\\Users\\varaksa_yua\\AppData\\Local\\Programs\\Python\\Python310\\lib\\site-packages\\transformers\\modeling_utils.py:4333\u001b[0m, in \u001b[0;36mPreTrainedModel.from_pretrained\u001b[1;34m(cls, pretrained_model_name_or_path, config, cache_dir, ignore_mismatched_sizes, force_download, local_files_only, token, revision, use_safetensors, weights_only, *model_args, **kwargs)\u001b[0m\n\u001b[0;32m   4330\u001b[0m config\u001b[38;5;241m.\u001b[39mname_or_path \u001b[38;5;241m=\u001b[39m pretrained_model_name_or_path\n\u001b[0;32m   4332\u001b[0m \u001b[38;5;66;03m# Instantiate model.\u001b[39;00m\n\u001b[1;32m-> 4333\u001b[0m model_init_context \u001b[38;5;241m=\u001b[39m \u001b[38;5;28;43mcls\u001b[39;49m\u001b[38;5;241;43m.\u001b[39;49m\u001b[43mget_init_context\u001b[49m\u001b[43m(\u001b[49m\u001b[43mis_quantized\u001b[49m\u001b[43m,\u001b[49m\u001b[43m \u001b[49m\u001b[43m_is_ds_init_called\u001b[49m\u001b[43m)\u001b[49m\n\u001b[0;32m   4335\u001b[0m config \u001b[38;5;241m=\u001b[39m copy\u001b[38;5;241m.\u001b[39mdeepcopy(config)  \u001b[38;5;66;03m# We do not want to modify the config inplace in from_pretrained.\u001b[39;00m\n\u001b[0;32m   4336\u001b[0m \u001b[38;5;28;01mif\u001b[39;00m \u001b[38;5;129;01mnot\u001b[39;00m \u001b[38;5;28mgetattr\u001b[39m(config, \u001b[38;5;124m\"\u001b[39m\u001b[38;5;124m_attn_implementation_autoset\u001b[39m\u001b[38;5;124m\"\u001b[39m, \u001b[38;5;28;01mFalse\u001b[39;00m):\n",
      "File \u001b[1;32mc:\\Users\\varaksa_yua\\AppData\\Local\\Programs\\Python\\Python310\\lib\\site-packages\\transformers\\modeling_utils.py:3736\u001b[0m, in \u001b[0;36mPreTrainedModel.get_init_context\u001b[1;34m(cls, is_quantized, _is_ds_init_called)\u001b[0m\n\u001b[0;32m   3734\u001b[0m         init_contexts\u001b[38;5;241m.\u001b[39mappend(set_quantized_state())\n\u001b[0;32m   3735\u001b[0m \u001b[38;5;28;01melse\u001b[39;00m:\n\u001b[1;32m-> 3736\u001b[0m     init_contexts \u001b[38;5;241m=\u001b[39m [no_init_weights(), \u001b[43minit_empty_weights\u001b[49m()]\n\u001b[0;32m   3738\u001b[0m \u001b[38;5;28;01mreturn\u001b[39;00m init_contexts\n",
      "\u001b[1;31mNameError\u001b[0m: name 'init_empty_weights' is not defined"
     ]
    }
   ],
   "source": [
    "num_classes = 10 # ten classes for ages from 0 to 99\n",
    "\n",
    "# Load pretrained ViT model\n",
    "# model = vit_b_16(pretrained=True)\n",
    "\n",
    "model = AutoModelForImageClassification.from_pretrained(\"OpenGVLab/pvt_v2_b0\")\n",
    "processor = AutoImageProcessor.from_pretrained(\"OpenGVLab/pvt_v2_b0\")"
   ]
  },
  {
   "cell_type": "code",
   "execution_count": null,
   "metadata": {},
   "outputs": [],
   "source": [
    "# Freeze all parameters\n",
    "for name, param in model.named_parameters():\n",
    "    if \"classifier\" not in name:  # Или любое другое условие для выбора слоев\n",
    "        param.requires_grad = False    \n",
    "\n",
    "# new classifier layer\n",
    "model.classifier= nn.Sequential(\n",
    "          nn.Linear(256, num_classes))"
   ]
  },
  {
   "cell_type": "code",
   "execution_count": null,
   "metadata": {},
   "outputs": [
    {
     "name": "stderr",
     "output_type": "stream",
     "text": [
      "C:\\Users\\User\\AppData\\Local\\Temp\\ipykernel_15308\\1442437008.py:11: FutureWarning: You are using `torch.load` with `weights_only=False` (the current default value), which uses the default pickle module implicitly. It is possible to construct malicious pickle data which will execute arbitrary code during unpickling (See https://github.com/pytorch/pytorch/blob/main/SECURITY.md#untrusted-models for more details). In a future release, the default value for `weights_only` will be flipped to `True`. This limits the functions that could be executed during unpickling. Arbitrary objects will no longer be allowed to be loaded via this mode unless they are explicitly allowlisted by the user via `torch.serialization.add_safe_globals`. We recommend you start setting `weights_only=True` for any use case where you don't have full control of the loaded file. Please open an issue on GitHub for any issues related to this experimental feature.\n",
      "  checkpoint = torch.load('checkpoint_vit_v2.pth')\n",
      "C:\\Users\\User\\AppData\\Local\\Temp\\ipykernel_15308\\1442437008.py:35: FutureWarning: You are using `torch.load` with `weights_only=False` (the current default value), which uses the default pickle module implicitly. It is possible to construct malicious pickle data which will execute arbitrary code during unpickling (See https://github.com/pytorch/pytorch/blob/main/SECURITY.md#untrusted-models for more details). In a future release, the default value for `weights_only` will be flipped to `True`. This limits the functions that could be executed during unpickling. Arbitrary objects will no longer be allowed to be loaded via this mode unless they are explicitly allowlisted by the user via `torch.serialization.add_safe_globals`. We recommend you start setting `weights_only=True` for any use case where you don't have full control of the loaded file. Please open an issue on GitHub for any issues related to this experimental feature.\n",
      "  checkpoint_best = torch.load('best_model_vit_v2.pth')\n"
     ]
    },
    {
     "name": "stdout",
     "output_type": "stream",
     "text": [
      "Checkpoint loaded\n",
      "Best model loaded\n"
     ]
    }
   ],
   "source": [
    "# Optimizer and loss function \n",
    "criterion = nn.CrossEntropyLoss()\n",
    "optimizer = torch.optim.Adam(model.parameters(), lr=0.01)  #\n",
    "\n",
    "# Decreasing learning rate scheduler\n",
    "# scheduler = ReduceLROnPlateau(optimizer, mode='max', patience=1, factor=0.5, verbose=True)\n",
    "scheduler = CosineAnnealingLR(optimizer, T_max=5, eta_min=0)  # T_max: Number of epochs for decay\n",
    "\n",
    "# Trying to read the saved checkpoint to restore models state for keeping on the training\n",
    "try:\n",
    "    checkpoint = torch.load('checkpoint_vit_v2.pth')\n",
    "    model.load_state_dict(checkpoint['model_state_dict']) # load model state       \n",
    "    optimizer.load_state_dict(checkpoint['optimizer_state_dict'])\n",
    "    # Move optimizer to the device being used\n",
    "    for state in optimizer.state.values():\n",
    "        for k, v in state.items():\n",
    "            if isinstance(v, torch.Tensor):\n",
    "                state[k] = v.to(device)\n",
    "    train_loss_values = checkpoint['train_loss_values']\n",
    "    val_accuracy_values = checkpoint['val_accuracy_values']\n",
    "    current_epoch = checkpoint['epoch'] \n",
    "    # to remember the datasets for restarting training process\n",
    "    train_indices = checkpoint['train_indices']\n",
    "    val_indices = checkpoint['val_indices']\n",
    "    test_indices = checkpoint['test_indices']\n",
    "    print('Checkpoint loaded')\n",
    "except:\n",
    "    current_epoch = 1        \n",
    "    train_loss_values = []\n",
    "    val_accuracy_values = []\n",
    "    print('No checkpoint loaded')\n",
    "    \n",
    "# Trying to read the saved best model checkpoint to extract the best validation accuracy reached\n",
    "try:\n",
    "    checkpoint_best = torch.load('best_model_vit_v2.pth')\n",
    "    best_val_accuracy =  checkpoint_best['best_val_accuracy']  \n",
    "    print('Best model loaded')\n",
    "except:\n",
    "    best_val_accuracy = 0     \n",
    "    print('No best model loaded')\n",
    "\n",
    "# Move the model to GPU if available, otherwise to CPU\n",
    "model = model.to(device)"
   ]
  },
  {
   "cell_type": "markdown",
   "metadata": {},
   "source": [
    "4a. Recreate Datasets and DataLoaders in accordance with the indices loaded from the saved checkpoint, if any"
   ]
  },
  {
   "cell_type": "code",
   "execution_count": null,
   "metadata": {},
   "outputs": [],
   "source": [
    "# This is done for the dataloaders to be identical at each file run\n",
    "# (additionally, this changes nothing if no checkpoint is loaded, \n",
    "# otherwise it restores datasets and dataloader used at previously stage of training)\n",
    "\n",
    "batch_size = 32\n",
    "\n",
    "# Recreate subsets using Subset\n",
    "train_dataset = torch.utils.data.Subset(dataset, train_indices)\n",
    "val_dataset = torch.utils.data.Subset(dataset, val_indices)\n",
    "test_dataset = torch.utils.data.Subset(dataset, test_indices)\n",
    "\n",
    "# Create DataLoaders (or create them from datasets just loaded)\n",
    "train_loader = DataLoader(train_dataset, batch_size=batch_size, shuffle=True)\n",
    "val_loader = DataLoader(val_dataset, batch_size=batch_size, shuffle=False)\n",
    "test_loader = DataLoader(test_dataset, batch_size=batch_size, shuffle=False) "
   ]
  },
  {
   "cell_type": "markdown",
   "metadata": {},
   "source": [
    "5. Model training"
   ]
  },
  {
   "cell_type": "code",
   "execution_count": null,
   "metadata": {},
   "outputs": [
    {
     "name": "stdout",
     "output_type": "stream",
     "text": [
      "Epoch [6/15]\n",
      "Average Loss: 1.4403301699318154\n",
      "Current Validation Accuracy: 39.18%\n",
      "Best Validation Accuracy reached so far: 39.18 %\n",
      "New best model saved with new Validation Accuracy: 39.18%\n",
      "Epoch [7/15]\n",
      "Average Loss: 1.4403097888414007\n",
      "Current Validation Accuracy: 39.18%\n",
      "Best Validation Accuracy reached so far: 39.18 %\n",
      "New best model saved with new Validation Accuracy: 39.18%\n",
      "Epoch [8/15]\n",
      "Average Loss: 1.4402935306956297\n",
      "Current Validation Accuracy: 39.18%\n",
      "Best Validation Accuracy reached so far: 39.18 %\n",
      "New best model saved with new Validation Accuracy: 39.18%\n",
      "Epoch [9/15]\n",
      "Average Loss: 1.4403201835433932\n",
      "Current Validation Accuracy: 39.18%\n",
      "Best Validation Accuracy reached so far: 39.18 %\n",
      "New best model saved with new Validation Accuracy: 39.18%\n",
      "Epoch [10/15]\n",
      "Average Loss: 1.440313409497268\n",
      "Current Validation Accuracy: 39.18%\n",
      "Best Validation Accuracy reached so far: 39.18 %\n",
      "New best model saved with new Validation Accuracy: 39.18%\n",
      "Epoch [11/15]\n",
      "Average Loss: 1.4402958277585733\n",
      "Current Validation Accuracy: 39.18%\n",
      "Best Validation Accuracy reached so far: 39.18 %\n",
      "New best model saved with new Validation Accuracy: 39.18%\n",
      "Epoch [12/15]\n",
      "Average Loss: 1.4618124491976996\n",
      "Current Validation Accuracy: 38.75%\n",
      "Epoch [13/15]\n",
      "Average Loss: 1.5525106465729483\n",
      "Current Validation Accuracy: 36.55%\n",
      "Epoch [14/15]\n",
      "Average Loss: 1.6853067000416944\n",
      "Current Validation Accuracy: 36.81%\n",
      "Epoch [15/15]\n",
      "Average Loss: 1.7862703743642263\n",
      "Current Validation Accuracy: 34.15%\n"
     ]
    }
   ],
   "source": [
    "epochs = 15\n",
    "\n",
    "while current_epoch <= epochs:\n",
    "    print(f'Epoch [{current_epoch}/{epochs}]')\n",
    "    model.train()\n",
    "    running_loss = 0.0\n",
    "    i = 0\n",
    "    for inputs, labels in train_loader:\n",
    "        inputs, labels = inputs.to(device), labels.to(device)\n",
    "        # print(f'Current batch: {i}')\n",
    "        i += 1\n",
    "        \n",
    "        optimizer.zero_grad()\n",
    "        \n",
    "        outputs = model(inputs)\n",
    "        tmp = outputs.to_tuple()[0] # extract output tensor\n",
    "        loss = criterion(tmp, labels) #\n",
    "        # print(f'Loss for the current batch: {loss:.2f}')\n",
    "        loss.backward()\n",
    "        optimizer.step()\n",
    "\n",
    "        running_loss += loss.item()\n",
    "    \n",
    "    average_loss = running_loss/len(train_loader) # len(train_loader) is the total number of batches\n",
    "    print(f'Average Loss: {average_loss}')\n",
    "    train_loss_values.append(average_loss) # appending new value of average loss\n",
    "    \n",
    "   \n",
    "    model.eval()\n",
    "    # evaluation on the validation dataset\n",
    "    total_val = 0\n",
    "    correct_val = 0\n",
    "    with torch.no_grad():\n",
    "        for inputs, labels in val_loader:\n",
    "            inputs, labels = inputs.to(device), labels.to(device)\n",
    "            outputs = model(inputs)\n",
    "            tmp = outputs.to_tuple()[0] # extract output tensor\n",
    "            _, predicted = torch.max(tmp, 1)\n",
    "            total_val += labels.size(0)\n",
    "            correct_val += (predicted == labels).sum().item()            \n",
    "  \n",
    "    val_accuracy = 100 * correct_val / total_val\n",
    "    print(f'Current Validation Accuracy: {val_accuracy:.2f}%')\n",
    "    val_accuracy_values.append(val_accuracy)\n",
    "    \n",
    "    # Keep the best model if validation accuracy improves\n",
    "    if val_accuracy >= best_val_accuracy:\n",
    "        print(f\"Best Validation Accuracy reached so far: {best_val_accuracy:.2f} %\")        \n",
    "        best_val_accuracy = val_accuracy        \n",
    "        torch.save({'model_state_dict': model.state_dict(),  # model weights\n",
    "                    'best_val_accuracy' : best_val_accuracy}, \n",
    "                   'best_model_vit_v2.pth')\n",
    "        print(f\"New best model saved with new Validation Accuracy: {best_val_accuracy:.2f}%\")   \n",
    "\n",
    "    # Decreasing the learning rate\n",
    "    # scheduler.step(best_val_accuracy) # for reduce on plateau\n",
    "    scheduler.step() # for cosine annealing\n",
    "    \n",
    "    current_epoch += 1"
   ]
  },
  {
   "cell_type": "markdown",
   "metadata": {},
   "source": [
    "6. Saving the current state of the model (so-called checkpoint)"
   ]
  },
  {
   "cell_type": "code",
   "execution_count": null,
   "metadata": {},
   "outputs": [],
   "source": [
    "# Save model weights and additional information like optimizer state, epoch, etc.\n",
    "try:\n",
    "    torch.save({\n",
    "        'epoch': current_epoch,\n",
    "        'model_state_dict': model.state_dict(),  # model weights\n",
    "        'optimizer_state_dict': optimizer.state_dict(), # optimizer   \n",
    "        'train_loss_values' : train_loss_values,\n",
    "        'val_accuracy_values' : val_accuracy_values,\n",
    "        'train_indices': train_indices,\n",
    "        'val_indices': val_indices,\n",
    "        'test_indices': test_indices \n",
    "        }, 'checkpoint_vit_v2.pth')\n",
    "except:\n",
    "    print('Error. No current model saved')"
   ]
  },
  {
   "cell_type": "markdown",
   "metadata": {},
   "source": [
    "7. Evaluation of the current model on the test dataset"
   ]
  },
  {
   "cell_type": "code",
   "execution_count": null,
   "metadata": {},
   "outputs": [
    {
     "name": "stdout",
     "output_type": "stream",
     "text": [
      "Test Accuracy for the current model: 33.73 %\n"
     ]
    }
   ],
   "source": [
    "# evaluation of the current model on the test dataset\n",
    "total_test = 0\n",
    "correct_test = 0\n",
    "with torch.no_grad():\n",
    "    for inputs, labels in test_loader:\n",
    "        inputs, labels = inputs.to(device), labels.to(device)\n",
    "        outputs = model(inputs)\n",
    "        tmp = outputs.to_tuple()[0] # extract output tensor\n",
    "        _, predicted = torch.max(tmp, 1)\n",
    "        total_test += labels.size(0)\n",
    "        correct_test += (predicted == labels).sum().item()            \n",
    "  \n",
    "test_accuracy = 100 * correct_test / total_test\n",
    "print(f'Test Accuracy for the current model: {test_accuracy:.2f} %')"
   ]
  },
  {
   "cell_type": "markdown",
   "metadata": {},
   "source": [
    "8. Training plots "
   ]
  },
  {
   "cell_type": "code",
   "execution_count": null,
   "metadata": {},
   "outputs": [
    {
     "data": {
      "image/png": "[encoded data removed]",
      "text/plain": [
       "<Figure size 1000x400 with 2 Axes>"
      ]
     },
     "metadata": {},
     "output_type": "display_data"
    }
   ],
   "source": [
    "import matplotlib.pyplot as plt\n",
    "\n",
    "# Learning plots\n",
    "\n",
    "plt.figure(figsize=(10, 4))\n",
    "plt.subplot(1, 2, 1)\n",
    "plt.plot(range(epochs), train_loss_values, 'g-^', label='Training Loss') # 'g^-' - green triangles + solid line\n",
    "plt.xlabel('Epochs')\n",
    "plt.ylabel('Loss (cross-enthropy)')\n",
    "plt.title('Training Loss')\n",
    "plt.legend()\n",
    "plt.axis([-0.05*epochs, 1.05*epochs-1, 0, 1.05*max(train_loss_values)])\n",
    "\n",
    "plt.subplot(1, 2, 2)\n",
    "plt.plot(range(epochs), val_accuracy_values, 'D-', label = 'Validation Accuracy') # 'D-' diamonds + solid line\n",
    "plt.xlabel('Epochs')\n",
    "plt.ylabel('Accuracy')\n",
    "plt.title('Validation Accuracy, %')\n",
    "plt.legend()\n",
    "plt.axis([-0.05*epochs, 1.05*epochs-1, 0, 1.05*max(val_accuracy_values)])\n",
    "\n",
    "plt.show()"
   ]
  },
  {
   "cell_type": "markdown",
   "metadata": {},
   "source": [
    "9. Loading the best model (i.e. showing the best metrics on the validation dataset)"
   ]
  },
  {
   "cell_type": "code",
   "execution_count": null,
   "metadata": {},
   "outputs": [
    {
     "name": "stdout",
     "output_type": "stream",
     "text": [
      "Best validation accuracy reached: 39.18\n"
     ]
    },
    {
     "name": "stderr",
     "output_type": "stream",
     "text": [
      "C:\\Users\\User\\AppData\\Local\\Temp\\ipykernel_15308\\1757296826.py:2: FutureWarning: You are using `torch.load` with `weights_only=False` (the current default value), which uses the default pickle module implicitly. It is possible to construct malicious pickle data which will execute arbitrary code during unpickling (See https://github.com/pytorch/pytorch/blob/main/SECURITY.md#untrusted-models for more details). In a future release, the default value for `weights_only` will be flipped to `True`. This limits the functions that could be executed during unpickling. Arbitrary objects will no longer be allowed to be loaded via this mode unless they are explicitly allowlisted by the user via `torch.serialization.add_safe_globals`. We recommend you start setting `weights_only=True` for any use case where you don't have full control of the loaded file. Please open an issue on GitHub for any issues related to this experimental feature.\n",
      "  checkpoint_best = torch.load('best_model_vit_v2.pth', map_location=torch.device(device.type)) # loads model with mapping the storages to the CPU/GPU if any\n"
     ]
    }
   ],
   "source": [
    "try:\n",
    "    checkpoint_best = torch.load('best_model_vit_v2.pth', map_location=torch.device(device.type)) # loads model with mapping the storages to the CPU/GPU if any\n",
    "    model.load_state_dict(checkpoint_best['model_state_dict']) # load model state\n",
    "    tmp = checkpoint_best['best_val_accuracy']     \n",
    "    print(f'Best validation accuracy reached: {tmp:.2f}')   \n",
    "except:\n",
    "    print('Error. No best model found')"
   ]
  },
  {
   "cell_type": "markdown",
   "metadata": {},
   "source": [
    "10. Final evaluation of the best model on the test dataset "
   ]
  },
  {
   "cell_type": "code",
   "execution_count": null,
   "metadata": {},
   "outputs": [
    {
     "name": "stdout",
     "output_type": "stream",
     "text": [
      "Test Accuracy of the best model: 35.77%\n"
     ]
    }
   ],
   "source": [
    "model.eval() # switch the loaded model to the evaluation mode \n",
    "\n",
    "# evaluation of the best model on the test dataset\n",
    "with torch.no_grad():\n",
    "    for inputs, labels in test_loader:\n",
    "        inputs, labels = inputs.to(device), labels.to(device)\n",
    "        outputs = model(inputs)\n",
    "        tmp = outputs.to_tuple()[0] # extract output tensor\n",
    "        _, predicted = torch.max(tmp, 1)\n",
    "        total_test += labels.size(0)\n",
    "        correct_test += (predicted == labels).sum().item()            \n",
    "  \n",
    "test_accuracy = 100 * correct_test / total_test\n",
    "print(f'Test Accuracy of the best model: {test_accuracy:.2f}%')"
   ]
  },
  {
   "cell_type": "markdown",
   "metadata": {},
   "source": [
    "**Выводы:** <br>\n",
    "На основе предобученной нейронной сети VIT произведено решение задачи классификации на предварительно обработанных снимках из датасета wiki_crop для определения диапазона возраста персонажа на снимках <br>\n",
    "\n",
    "Достигнутая точность решения задачи классификации (а именно, точность попадания найденного нейросетью возраста в правильный десятилетний диапазон возрастов ) на тестовой выборке составила: <br> \n",
    "\n",
    "на короткой выборке из 500 рисунков <br>\n",
    "28% (20 эпох) <br>\n",
    "\n",
    "на полной выборке из 25000 рисунков <br>\n",
    "37.80% (5 эпох) <br>\n",
    "35.77% (15 эпох) <br>\n",
    "% (15 эпох) <br>\n",
    "% (20 эпох) <br>\n"
   ]
  }
 ],
 "metadata": {
  "kernelspec": {
   "display_name": "Python 3",
   "language": "python",
   "name": "python3"
  },
  "language_info": {
   "codemirror_mode": {
    "name": "ipython",
    "version": 3
   },
   "file_extension": ".py",
   "mimetype": "text/x-python",
   "name": "python",
   "nbconvert_exporter": "python",
   "pygments_lexer": "ipython3",
   "version": "3.10.5"
  }
 },
 "nbformat": 4,
 "nbformat_minor": 4
}
