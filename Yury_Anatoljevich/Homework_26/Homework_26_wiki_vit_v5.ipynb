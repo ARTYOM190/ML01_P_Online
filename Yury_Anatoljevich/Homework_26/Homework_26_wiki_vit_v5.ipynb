{
 "cells": [
  {
   "cell_type": "markdown",
   "metadata": {},
   "source": [
    "Задание №26\n",
    "\n",
    "ДЗ должна быть выполнена строго на torch <br>\n",
    "1 - использовать dataloader. <br>\n",
    "2 - в цикл обучения добавить сохранения лучшей модели / шедулер для скорости обучения. <br>\n",
    "3 - вывести графики обучения. Выводить информацию по обучению в процессе. <br>\n",
    "\n",
    "Решить задачу предсказания возраста. Свести к задаче классификации. \n",
    "0-9, 10-19, 20-29, 30-39, 40-49, 50-59, ...\n",
    " \n",
    "В качестве фичеэкстрактора используйте любую вариацию vit. ** -\n",
    "\n",
    "Анализ и план работы: <br>\n",
    "Загружаем данные из датасета UTKFace. <br>\n",
    "При загрузке файлов извлекаем возраст из заголовка файла и назначаем файлу метку от 0 до 9 в соответствии с разбиением отрезка времени 0-100 лет на десятилетия. <br>\n",
    "Загружаем предобученную сеть VIT. Изменяем последний слой для выдачи решения задачи классификации. <br>\n",
    "Обучаем сеть, контролируя качество обучения (accuracy определения класса) с помощью валидационной выборки <br>\n",
    "Используемая функция потерь - кросс-энтропия, поскольку решается задача классификации. <br>\n",
    "Строим графики. <br>\n",
    "Проверяем метрики на тестовом наборе. <br>\n",
    "Делаем выводы."
   ]
  },
  {
   "cell_type": "markdown",
   "metadata": {},
   "source": [
    "1. Loading necessary modules:"
   ]
  },
  {
   "cell_type": "code",
   "execution_count": 5,
   "metadata": {},
   "outputs": [],
   "source": [
    "%reset -f \n",
    "\n",
    "import torch\n",
    "from torchvision import datasets, transforms, models\n",
    "from torch.utils.data import Dataset, DataLoader, random_split\n",
    "import torch.nn as nn\n",
    "import torch.optim as optim\n",
    "from torch.optim.lr_scheduler import ReduceLROnPlateau, CosineAnnealingLR\n",
    "from torchvision.models import vit_b_16\n",
    "\n",
    "import requests\n",
    "from transformers import ViTForImageClassification, ViTImageProcessor\n",
    "\n",
    "import os, re, cv2\n",
    "from datetime import datetime\n",
    "\n",
    "from PIL import Image"
   ]
  },
  {
   "cell_type": "markdown",
   "metadata": {},
   "source": [
    "2. CUDA enable (pip3 install torch torchvision torchaudio --index-url https://download.pytorch.org/whl/cu118)"
   ]
  },
  {
   "cell_type": "code",
   "execution_count": 6,
   "metadata": {},
   "outputs": [
    {
     "name": "stdout",
     "output_type": "stream",
     "text": [
      "CUDA is available: True\n",
      "Device count: 1\n",
      "Current device #: 0\n",
      "GPU name: NVIDIA GeForce RTX 3060\n",
      "Device: cuda\n"
     ]
    }
   ],
   "source": [
    "print(f'CUDA is available: {torch.cuda.is_available()}')       # True\n",
    "if torch.cuda.is_available():\n",
    "    print(f'Device count: {torch.cuda.device_count()}')        # 1\n",
    "    print(f'Current device #: {torch.cuda.current_device()}')  # 0\n",
    "    print(f'GPU name: {torch.cuda.get_device_name(0)}') \n",
    "\n",
    "device = torch.device('cuda' if torch.cuda.is_available() else 'cpu')\n",
    "print(f'Device: {device}')\n",
    "# device = 'cpu'\n",
    "# print(f'Now Device: {device}')"
   ]
  },
  {
   "cell_type": "markdown",
   "metadata": {},
   "source": [
    "3. Custom dataset"
   ]
  },
  {
   "cell_type": "code",
   "execution_count": 7,
   "metadata": {},
   "outputs": [],
   "source": [
    "# Custom Dataset for loading images, and age label calculation\n",
    "class AgeDataset(Dataset):\n",
    "    def __init__(self, folder, transform=None):\n",
    "        self.folder = folder\n",
    "        self.transform = transform\n",
    "        self.image_paths = []\n",
    "        self.age_classes = []\n",
    "\n",
    "        # Loading images, calculating the age\n",
    "        for file_name in os.listdir(folder):            \n",
    "            if file_name.lower().endswith(('.png', '.jpg', '.jpeg')):\n",
    "                # Extracting age for a person on the picture\n",
    "                match = re.search(r'^\\d+_', file_name)\n",
    "                # print(int(match.group()[:-1]))\n",
    "                if match:\n",
    "                    age = int(match.group()[:-1])  # Age in years\n",
    "                    # print('Age:', age)\n",
    "                    if age > 0 and age < 100:\n",
    "                        # calculating class label:\n",
    "                        age_label = age // 10\n",
    "                        if age_label > 9:\n",
    "                            age_label = 9 \n",
    "                        self.image_paths.append(os.path.join(folder, file_name))\n",
    "                        self.age_classes.append(age_label)\n",
    "        # print(self.age_classes)\n",
    "\n",
    "    def __len__(self):\n",
    "        return len(self.image_paths)\n",
    "\n",
    "    def __getitem__(self, idx):\n",
    "        image_path = self.image_paths[idx]\n",
    "        age_label = self.age_classes[idx]\n",
    "        # print(age_class)\n",
    "        image_bgr = cv2.imread(image_path)  # Load image \n",
    "        image_rgb = cv2.cvtColor(image_bgr, cv2.COLOR_BGR2RGB) # convert to RGB\n",
    "\n",
    "        # Transform to pytorch tensor; \n",
    "        # to apply transform the preliminary conversion to PIL image is done for Resize to work properly; \n",
    "        # also normalize\n",
    "        if self.transform:\n",
    "            image_rgb = self.transform(Image.fromarray(image_rgb))  \n",
    "            # print(f'Image rgb: {type(image_rgb)}')\n",
    "\n",
    "        return image_rgb, torch.tensor(age_label, dtype=torch.int64) # \n",
    "        # return image_rgb, age_label"
   ]
  },
  {
   "cell_type": "markdown",
   "metadata": {},
   "source": [
    "4. Loading the data (pre-processed images) and calculating corresponding ages of people and the labels for the age"
   ]
  },
  {
   "cell_type": "code",
   "execution_count": 8,
   "metadata": {},
   "outputs": [],
   "source": [
    "# Folder with the images prepared\n",
    "\n",
    "folder = \"f:/MLearning/Lesson36 NeuralNetworks 2025.04.03/Homework_26/UTKFace good/UTKFace/\"\n",
    "# folder = \"d:/CurrentWork/ML/Lesson36 NeuralNetworks 2025.04.03/Homework_26/UTKFace/\"\n",
    " \n",
    "# Transforms for the images\n",
    "transform = transforms.Compose([\n",
    "    transforms.Resize((224, 224)),  # Resize to 224x224 pixels\n",
    "    transforms.ToTensor(),\n",
    "    # transforms.Normalize(mean=[0.5, 0.5, 0.5], std=[0.5, 0.5, 0.5]) # normalizing images\n",
    "    transforms.Normalize(mean=[0.485, 0.456, 0.406], std=[0.229, 0.224, 0.225]) # normalization like in ImageNet                         \n",
    "])\n",
    "\n",
    "# Creating the Dataset\n",
    "dataset = AgeDataset(folder, transform=transform)\n",
    "\n",
    "# Splitting the Dataset into traning, validation and the test one\n",
    "train_size = int(0.7 * len(dataset))  # 70% for the train\n",
    "val_size = int(0.15 * len(dataset))   # 15% for the validation\n",
    "test_size = len(dataset) - train_size - val_size  # the rest 15% for the test \n",
    "\n",
    "train_dataset, val_dataset, test_dataset = random_split(dataset, [train_size, val_size, test_size])\n",
    "# saving datasets for reproducible stop and rerun of the neural network training\n",
    "\n",
    "# Save indices to corresponding variables\n",
    "train_indices = train_dataset.indices\n",
    "val_indices = val_dataset.indices\n",
    "test_indices = test_dataset.indices"
   ]
  },
  {
   "cell_type": "markdown",
   "metadata": {},
   "source": [
    "4. Initializing the VIT model (and loading the previosly saved state if any)"
   ]
  },
  {
   "cell_type": "code",
   "execution_count": 9,
   "metadata": {},
   "outputs": [],
   "source": [
    "num_classes = 10 # ten classes for ages from 0 to 99\n",
    "\n",
    "# Load pretrained ViT model\n",
    "model = ViTForImageClassification.from_pretrained(\"google/vit-base-patch16-224\")\n",
    "# Load the image processor for preprocessing\n",
    "processor = ViTImageProcessor.from_pretrained(\"google/vit-base-patch16-224\")"
   ]
  },
  {
   "cell_type": "code",
   "execution_count": 10,
   "metadata": {},
   "outputs": [],
   "source": [
    "# Freeze all parameters except for the classifier layer\n",
    "for param in model.parameters():\n",
    "    param.requires_grad = False\n",
    "for param in model.classifier.parameters():\n",
    "    param.requires_grad = True  \n",
    "\n",
    "# new classifier layer\n",
    "model.classifier= nn.Sequential(\n",
    "    torch.nn.Dropout(p=0.5),  # Dropout rate    \n",
    "    nn.Linear(model.classifier.in_features, num_classes))"
   ]
  },
  {
   "cell_type": "code",
   "execution_count": 11,
   "metadata": {},
   "outputs": [
    {
     "name": "stderr",
     "output_type": "stream",
     "text": [
      "C:\\Users\\User\\AppData\\Local\\Temp\\ipykernel_7424\\2748028698.py:12: FutureWarning: You are using `torch.load` with `weights_only=False` (the current default value), which uses the default pickle module implicitly. It is possible to construct malicious pickle data which will execute arbitrary code during unpickling (See https://github.com/pytorch/pytorch/blob/main/SECURITY.md#untrusted-models for more details). In a future release, the default value for `weights_only` will be flipped to `True`. This limits the functions that could be executed during unpickling. Arbitrary objects will no longer be allowed to be loaded via this mode unless they are explicitly allowlisted by the user via `torch.serialization.add_safe_globals`. We recommend you start setting `weights_only=True` for any use case where you don't have full control of the loaded file. Please open an issue on GitHub for any issues related to this experimental feature.\n",
      "  checkpoint = torch.load('checkpoint_vit_v5.pth')\n",
      "C:\\Users\\User\\AppData\\Local\\Temp\\ipykernel_7424\\2748028698.py:36: FutureWarning: You are using `torch.load` with `weights_only=False` (the current default value), which uses the default pickle module implicitly. It is possible to construct malicious pickle data which will execute arbitrary code during unpickling (See https://github.com/pytorch/pytorch/blob/main/SECURITY.md#untrusted-models for more details). In a future release, the default value for `weights_only` will be flipped to `True`. This limits the functions that could be executed during unpickling. Arbitrary objects will no longer be allowed to be loaded via this mode unless they are explicitly allowlisted by the user via `torch.serialization.add_safe_globals`. We recommend you start setting `weights_only=True` for any use case where you don't have full control of the loaded file. Please open an issue on GitHub for any issues related to this experimental feature.\n",
      "  checkpoint_best = torch.load('best_model_vit_v5.pth')\n"
     ]
    },
    {
     "name": "stdout",
     "output_type": "stream",
     "text": [
      "No checkpoint loaded\n",
      "No best model loaded\n"
     ]
    }
   ],
   "source": [
    "# Optimizer and loss function \n",
    "criterion = nn.CrossEntropyLoss()\n",
    "optimizer = torch.optim.Adam(model.parameters(), lr=0.0001)\n",
    "# optimizer = torch.optim.Adam(model.parameters(), lr=0.0001, weight_decay=1e-4)\n",
    "\n",
    "# Decreasing learning rate scheduler\n",
    "# scheduler = ReduceLROnPlateau(optimizer, mode='max', patience=1, factor=0.5, verbose=True)\n",
    "scheduler = CosineAnnealingLR(optimizer, T_max=5, eta_min=0)  # T_max: Number of epochs for decay\n",
    "\n",
    "# Trying to read the saved checkpoint to restore models state for keeping on the training\n",
    "try:\n",
    "    checkpoint = torch.load('checkpoint_vit_v5.pth')\n",
    "    model.load_state_dict(checkpoint['model_state_dict']) # load model state       \n",
    "    optimizer.load_state_dict(checkpoint['optimizer_state_dict'])\n",
    "    # Move optimizer to the device being used\n",
    "    for state in optimizer.state.values():\n",
    "        for k, v in state.items():\n",
    "            if isinstance(v, torch.Tensor):\n",
    "                state[k] = v.to(device)\n",
    "    train_loss_values = checkpoint['train_loss_values']\n",
    "    val_accuracy_values = checkpoint['val_accuracy_values']\n",
    "    current_epoch = checkpoint['epoch'] \n",
    "    # to remember the datasets for restarting training process\n",
    "    train_indices = checkpoint['train_indices']\n",
    "    val_indices = checkpoint['val_indices']\n",
    "    test_indices = checkpoint['test_indices']\n",
    "    print('Checkpoint loaded')\n",
    "except:\n",
    "    current_epoch = 1        \n",
    "    train_loss_values = []\n",
    "    val_accuracy_values = []\n",
    "    print('No checkpoint loaded')\n",
    "    \n",
    "# Trying to read the saved best model checkpoint to extract the best validation accuracy reached\n",
    "try:\n",
    "    checkpoint_best = torch.load('best_model_vit_v5.pth')\n",
    "    best_val_accuracy =  checkpoint_best['best_val_accuracy']  \n",
    "    print('Best model loaded')\n",
    "except:\n",
    "    best_val_accuracy = 0     \n",
    "    print('No best model loaded')\n",
    "\n",
    "# Move the model to GPU if available, otherwise to CPU\n",
    "model = model.to(device)"
   ]
  },
  {
   "cell_type": "markdown",
   "metadata": {},
   "source": [
    "4a. Recreate Datasets and DataLoaders in accordance with the indices loaded from the saved checkpoint, if any"
   ]
  },
  {
   "cell_type": "code",
   "execution_count": 12,
   "metadata": {},
   "outputs": [],
   "source": [
    "# This is done for the dataloaders to be identical at each file run\n",
    "# (additionally, this changes nothing if no checkpoint is loaded, \n",
    "# otherwise it restores datasets and dataloader used at previously stage of training)\n",
    "\n",
    "batch_size = 32\n",
    "\n",
    "# Recreate subsets using Subset\n",
    "train_dataset = torch.utils.data.Subset(dataset, train_indices)\n",
    "val_dataset = torch.utils.data.Subset(dataset, val_indices)\n",
    "test_dataset = torch.utils.data.Subset(dataset, test_indices)\n",
    "\n",
    "# Create DataLoaders (or create them from datasets just loaded)\n",
    "train_loader = DataLoader(train_dataset, batch_size=batch_size, shuffle=True)\n",
    "val_loader = DataLoader(val_dataset, batch_size=batch_size, shuffle=False)\n",
    "test_loader = DataLoader(test_dataset, batch_size=batch_size, shuffle=False) "
   ]
  },
  {
   "cell_type": "markdown",
   "metadata": {},
   "source": [
    "5. Model training"
   ]
  },
  {
   "cell_type": "code",
   "execution_count": 13,
   "metadata": {},
   "outputs": [
    {
     "name": "stdout",
     "output_type": "stream",
     "text": [
      "Epoch [1/20]\n",
      "Average Loss: 1.5946701140247257\n",
      "Current Validation Accuracy: 51.30%\n",
      "Best Validation Accuracy reached so far: 0.00 %\n",
      "New best model saved with new Validation Accuracy: 51.30%\n",
      "Epoch [2/20]\n",
      "Average Loss: 1.276489159545383\n",
      "Current Validation Accuracy: 54.34%\n",
      "Best Validation Accuracy reached so far: 51.30 %\n",
      "New best model saved with new Validation Accuracy: 54.34%\n",
      "Epoch [3/20]\n",
      "Average Loss: 1.2022921451040216\n",
      "Current Validation Accuracy: 55.44%\n",
      "Best Validation Accuracy reached so far: 54.34 %\n",
      "New best model saved with new Validation Accuracy: 55.44%\n",
      "Epoch [4/20]\n",
      "Average Loss: 1.1748174530198676\n",
      "Current Validation Accuracy: 55.49%\n",
      "Best Validation Accuracy reached so far: 55.44 %\n",
      "New best model saved with new Validation Accuracy: 55.49%\n",
      "Epoch [5/20]\n",
      "Average Loss: 1.1624547283391695\n",
      "Current Validation Accuracy: 55.55%\n",
      "Best Validation Accuracy reached so far: 55.49 %\n",
      "New best model saved with new Validation Accuracy: 55.55%\n",
      "Epoch [6/20]\n",
      "Average Loss: 1.1609280409730078\n",
      "Current Validation Accuracy: 55.55%\n",
      "Best Validation Accuracy reached so far: 55.55 %\n",
      "New best model saved with new Validation Accuracy: 55.55%\n",
      "Epoch [7/20]\n",
      "Average Loss: 1.1600728510199367\n",
      "Current Validation Accuracy: 55.44%\n",
      "Epoch [8/20]\n",
      "Average Loss: 1.1549847635753367\n",
      "Current Validation Accuracy: 55.94%\n",
      "Best Validation Accuracy reached so far: 55.55 %\n",
      "New best model saved with new Validation Accuracy: 55.94%\n",
      "Epoch [9/20]\n",
      "Average Loss: 1.1366829418767834\n",
      "Current Validation Accuracy: 56.79%\n",
      "Best Validation Accuracy reached so far: 55.94 %\n",
      "New best model saved with new Validation Accuracy: 56.79%\n",
      "Epoch [10/20]\n",
      "Average Loss: 1.1213638172646747\n",
      "Current Validation Accuracy: 56.48%\n",
      "Epoch [11/20]\n",
      "Average Loss: 1.1042177983232446\n",
      "Current Validation Accuracy: 57.94%\n",
      "Best Validation Accuracy reached so far: 56.79 %\n",
      "New best model saved with new Validation Accuracy: 57.94%\n",
      "Epoch [12/20]\n",
      "Average Loss: 1.0895233151995538\n",
      "Current Validation Accuracy: 57.72%\n",
      "Epoch [13/20]\n",
      "Average Loss: 1.077868672756615\n",
      "Current Validation Accuracy: 58.08%\n",
      "Best Validation Accuracy reached so far: 57.94 %\n",
      "New best model saved with new Validation Accuracy: 58.08%\n",
      "Epoch [14/20]\n",
      "Average Loss: 1.072216446565385\n",
      "Current Validation Accuracy: 58.25%\n",
      "Best Validation Accuracy reached so far: 58.08 %\n",
      "New best model saved with new Validation Accuracy: 58.25%\n",
      "Epoch [15/20]\n",
      "Average Loss: 1.0684198726788452\n",
      "Current Validation Accuracy: 58.20%\n",
      "Epoch [16/20]\n",
      "Average Loss: 1.062552836986122\n",
      "Current Validation Accuracy: 58.20%\n",
      "Epoch [17/20]\n",
      "Average Loss: 1.0702770656140155\n",
      "Current Validation Accuracy: 58.28%\n",
      "Best Validation Accuracy reached so far: 58.25 %\n",
      "New best model saved with new Validation Accuracy: 58.28%\n",
      "Epoch [18/20]\n",
      "Average Loss: 1.0624297956242064\n",
      "Current Validation Accuracy: 58.45%\n",
      "Best Validation Accuracy reached so far: 58.28 %\n",
      "New best model saved with new Validation Accuracy: 58.45%\n",
      "Epoch [19/20]\n",
      "Average Loss: 1.0629772814314338\n",
      "Current Validation Accuracy: 58.48%\n",
      "Best Validation Accuracy reached so far: 58.45 %\n",
      "New best model saved with new Validation Accuracy: 58.48%\n",
      "Epoch [20/20]\n",
      "Average Loss: 1.0608279552008655\n",
      "Current Validation Accuracy: 58.68%\n",
      "Best Validation Accuracy reached so far: 58.48 %\n",
      "New best model saved with new Validation Accuracy: 58.68%\n"
     ]
    }
   ],
   "source": [
    "epochs = 20\n",
    "\n",
    "while current_epoch <= epochs:\n",
    "    print(f'Epoch [{current_epoch}/{epochs}]')\n",
    "    model.train()\n",
    "    running_loss = 0.0\n",
    "    i = 0\n",
    "    for inputs, labels in train_loader:\n",
    "        inputs, labels = inputs.to(device), labels.to(device)\n",
    "        # print(f'Current batch: {i}')\n",
    "        i += 1\n",
    "        \n",
    "        optimizer.zero_grad()\n",
    "        \n",
    "        outputs = model(inputs)\n",
    "        tmp = outputs.to_tuple()[0] # extract output tensor\n",
    "        loss = criterion(tmp, labels) #\n",
    "        # print(f'Loss for the current batch: {loss:.2f}')\n",
    "        loss.backward()\n",
    "        optimizer.step()\n",
    "\n",
    "        running_loss += loss.item()\n",
    "    \n",
    "    average_loss = running_loss/len(train_loader) # len(train_loader) is the total number of batches\n",
    "    print(f'Average Loss: {average_loss}')\n",
    "    train_loss_values.append(average_loss) # appending new value of average loss\n",
    "    \n",
    "   \n",
    "    model.eval()\n",
    "    # evaluation on the validation dataset\n",
    "    total_val = 0\n",
    "    correct_val = 0\n",
    "    with torch.no_grad():\n",
    "        for inputs, labels in val_loader:\n",
    "            inputs, labels = inputs.to(device), labels.to(device)\n",
    "            outputs = model(inputs)\n",
    "            tmp = outputs.to_tuple()[0] # extract output tensor\n",
    "            _, predicted = torch.max(tmp, 1)\n",
    "            total_val += labels.size(0)\n",
    "            correct_val += (predicted == labels).sum().item()            \n",
    "  \n",
    "    val_accuracy = 100 * correct_val / total_val\n",
    "    print(f'Current Validation Accuracy: {val_accuracy:.2f}%')\n",
    "    val_accuracy_values.append(val_accuracy)\n",
    "    \n",
    "    # Keep the best model if validation accuracy improves\n",
    "    if val_accuracy >= best_val_accuracy:\n",
    "        print(f\"Best Validation Accuracy reached so far: {best_val_accuracy:.2f} %\")        \n",
    "        best_val_accuracy = val_accuracy        \n",
    "        torch.save({'model_state_dict': model.state_dict(),  # model weights\n",
    "                    'best_val_accuracy' : best_val_accuracy}, \n",
    "                   'best_model_vit_v5.pth')\n",
    "        print(f\"New best model saved with new Validation Accuracy: {best_val_accuracy:.2f}%\")   \n",
    "\n",
    "    # Decreasing the learning rate\n",
    "    # scheduler.step(best_val_accuracy) # for reduce on plateau\n",
    "    scheduler.step() # for cosine annealing\n",
    "    \n",
    "    current_epoch += 1"
   ]
  },
  {
   "cell_type": "markdown",
   "metadata": {},
   "source": [
    "6. Saving the current state of the model (so-called checkpoint)"
   ]
  },
  {
   "cell_type": "code",
   "execution_count": 14,
   "metadata": {},
   "outputs": [],
   "source": [
    "# Save model weights and additional information like optimizer state, epoch, etc.\n",
    "try:\n",
    "    torch.save({\n",
    "        'epoch': current_epoch,\n",
    "        'model_state_dict': model.state_dict(),  # model weights\n",
    "        'optimizer_state_dict': optimizer.state_dict(), # optimizer   \n",
    "        'train_loss_values' : train_loss_values,\n",
    "        'val_accuracy_values' : val_accuracy_values,\n",
    "        'train_indices': train_indices,\n",
    "        'val_indices': val_indices,\n",
    "        'test_indices': test_indices \n",
    "        }, 'checkpoint_vit_v5.pth')\n",
    "except:\n",
    "    print('Error. No current model saved')"
   ]
  },
  {
   "cell_type": "markdown",
   "metadata": {},
   "source": [
    "7. Evaluation of the current model on the test dataset"
   ]
  },
  {
   "cell_type": "code",
   "execution_count": 15,
   "metadata": {},
   "outputs": [
    {
     "name": "stdout",
     "output_type": "stream",
     "text": [
      "Test Accuracy for the current model: 58.14 %\n"
     ]
    }
   ],
   "source": [
    "# evaluation of the current model on the test dataset\n",
    "total_test = 0\n",
    "correct_test = 0\n",
    "with torch.no_grad():\n",
    "    for inputs, labels in test_loader:\n",
    "        inputs, labels = inputs.to(device), labels.to(device)\n",
    "        outputs = model(inputs)\n",
    "        tmp = outputs.to_tuple()[0] # extract output tensor\n",
    "        _, predicted = torch.max(tmp, 1)\n",
    "        total_test += labels.size(0)\n",
    "        correct_test += (predicted == labels).sum().item()            \n",
    "  \n",
    "test_accuracy = 100 * correct_test / total_test\n",
    "print(f'Test Accuracy for the current model: {test_accuracy:.2f} %')"
   ]
  },
  {
   "cell_type": "markdown",
   "metadata": {},
   "source": [
    "8. Training plots "
   ]
  },
  {
   "cell_type": "code",
   "execution_count": 16,
   "metadata": {},
   "outputs": [
    {
     "data": {
      "image/png": "[encoded data removed]",
      "text/plain": [
       "<Figure size 1000x400 with 2 Axes>"
      ]
     },
     "metadata": {},
     "output_type": "display_data"
    }
   ],
   "source": [
    "import matplotlib.pyplot as plt\n",
    "\n",
    "# Learning plots\n",
    "\n",
    "plt.figure(figsize=(10, 4))\n",
    "plt.subplot(1, 2, 1)\n",
    "plt.plot(range(epochs), train_loss_values, 'g-^', label='Training Loss') # 'g^-' - green triangles + solid line\n",
    "plt.xlabel('Epochs')\n",
    "plt.ylabel('Loss (cross-enthropy)')\n",
    "plt.title('Training Loss')\n",
    "plt.legend()\n",
    "plt.axis([-0.05*epochs, 1.05*epochs-1, 0, 1.05*max(train_loss_values)])\n",
    "\n",
    "plt.subplot(1, 2, 2)\n",
    "plt.plot(range(epochs), val_accuracy_values, 'D-', label = 'Validation Accuracy') # 'D-' diamonds + solid line\n",
    "plt.xlabel('Epochs')\n",
    "plt.ylabel('Accuracy')\n",
    "plt.title('Validation Accuracy, %')\n",
    "plt.legend()\n",
    "plt.axis([-0.05*epochs, 1.05*epochs-1, 0, 1.05*max(val_accuracy_values)])\n",
    "\n",
    "plt.show()"
   ]
  },
  {
   "cell_type": "markdown",
   "metadata": {},
   "source": [
    "9. Loading the best model (i.e. showing the best metrics on the validation dataset)"
   ]
  },
  {
   "cell_type": "code",
   "execution_count": 17,
   "metadata": {},
   "outputs": [
    {
     "name": "stdout",
     "output_type": "stream",
     "text": [
      "Best validation accuracy reached: 58.68\n"
     ]
    },
    {
     "name": "stderr",
     "output_type": "stream",
     "text": [
      "C:\\Users\\User\\AppData\\Local\\Temp\\ipykernel_7424\\1157528541.py:2: FutureWarning: You are using `torch.load` with `weights_only=False` (the current default value), which uses the default pickle module implicitly. It is possible to construct malicious pickle data which will execute arbitrary code during unpickling (See https://github.com/pytorch/pytorch/blob/main/SECURITY.md#untrusted-models for more details). In a future release, the default value for `weights_only` will be flipped to `True`. This limits the functions that could be executed during unpickling. Arbitrary objects will no longer be allowed to be loaded via this mode unless they are explicitly allowlisted by the user via `torch.serialization.add_safe_globals`. We recommend you start setting `weights_only=True` for any use case where you don't have full control of the loaded file. Please open an issue on GitHub for any issues related to this experimental feature.\n",
      "  checkpoint_best = torch.load('best_model_vit_v5.pth', map_location=torch.device(device.type)) # loads model with mapping the storages to the CPU/GPU if any\n"
     ]
    }
   ],
   "source": [
    "try:\n",
    "    checkpoint_best = torch.load('best_model_vit_v5.pth', map_location=torch.device(device.type)) # loads model with mapping the storages to the CPU/GPU if any\n",
    "    model.load_state_dict(checkpoint_best['model_state_dict']) # load model state\n",
    "    tmp = checkpoint_best['best_val_accuracy']     \n",
    "    print(f'Best validation accuracy reached: {tmp:.2f}')   \n",
    "except:\n",
    "    print('Error. No best model found')"
   ]
  },
  {
   "cell_type": "markdown",
   "metadata": {},
   "source": [
    "10. Final evaluation of the best model on the test dataset "
   ]
  },
  {
   "cell_type": "code",
   "execution_count": 18,
   "metadata": {},
   "outputs": [
    {
     "name": "stdout",
     "output_type": "stream",
     "text": [
      "Test Accuracy of the best model: 58.14%\n"
     ]
    }
   ],
   "source": [
    "model.eval() # switch the loaded model to the evaluation mode \n",
    "\n",
    "# evaluation of the best model on the test dataset\n",
    "with torch.no_grad():\n",
    "    for inputs, labels in test_loader:\n",
    "        inputs, labels = inputs.to(device), labels.to(device)\n",
    "        outputs = model(inputs)\n",
    "        tmp = outputs.to_tuple()[0] # extract output tensor\n",
    "        _, predicted = torch.max(tmp, 1)\n",
    "        total_test += labels.size(0)\n",
    "        correct_test += (predicted == labels).sum().item()            \n",
    "  \n",
    "test_accuracy = 100 * correct_test / total_test\n",
    "print(f'Test Accuracy of the best model: {test_accuracy:.2f}%')"
   ]
  },
  {
   "cell_type": "markdown",
   "metadata": {},
   "source": [
    "**Выводы:** <br>\n",
    "На основе предобученной нейронной сети VIT произведено решение задачи классификации на снимках из датасета UTK_Face для определения диапазона возраста персонажа на снимках <br>\n",
    "Модель: <br>\n",
    "model = ViTForImageClassification.from_pretrained(\"google/vit-base-patch16-224\")  <br>\n",
    "processor = ViTImageProcessor.from_pretrained(\"google/vit-base-patch16-224\") <br>\n",
    "\n",
    "Достигнутая точность решения задачи классификации (а именно, точность попадания найденного нейросетью возраста в правильный десятилетний диапазон возрастов ) на тестовой выборке составила: <br> \n",
    "\n",
    "На выборке из 23 700 рисунков UTKFace (lr = 0.0001, cosine annealing, dropout) <br>\n",
    "58.14% (20 эпох) <br>"
   ]
  }
 ],
 "metadata": {
  "kernelspec": {
   "display_name": "base",
   "language": "python",
   "name": "python3"
  },
  "language_info": {
   "codemirror_mode": {
    "name": "ipython",
    "version": 3
   },
   "file_extension": ".py",
   "mimetype": "text/x-python",
   "name": "python",
   "nbconvert_exporter": "python",
   "pygments_lexer": "ipython3",
   "version": "3.12.3"
  }
 },
 "nbformat": 4,
 "nbformat_minor": 4
}
