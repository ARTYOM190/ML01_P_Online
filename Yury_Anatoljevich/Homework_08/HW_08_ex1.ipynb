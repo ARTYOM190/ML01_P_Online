{
 "cells": [
  {
   "cell_type": "markdown",
   "metadata": {},
   "source": [
    "ДЗ по итогам лекции 8, задание 1.\n",
    "\n",
    "Подготовить данные для модели:\n",
    "    \n",
    "   Анализ данных, необходимые корректировки. \n",
    "1. Обработать пропуски. \n",
    "2. Оценить выбросы. \n",
    "3. Корреляция. \n",
    "4. Тест на нормальность распределения.\n",
    "5. Масштабировать данные.\n",
    "\n",
    "Анализ задания: следует загрузить файл данных, представленный в формате csv, в датафрейм модуля pandas.\n",
    "*) Далее следует провести поиск пропусков и удалить строки с пропусками.\n",
    "*) Кроме того, предварительный анализ файла данных показывает, что колонка living region содержит много дублей типа \"московская обл\" и \"обл московская\" или \"чеченская республика\" и \"чеченская респ\". Придется поработать с данными этой колонки, чтобы привести систему обозначений регионов к однозначной. Поскольку регионов слишком много, что затруднит анализ корреляции данных, то мы приведем всю систему к федеральным округам и двум столицам - Москва и Санкт-Петербург.\n",
    "*) Далее для оценки выбросов числовых данных следует провести оценку матожидания и дисперсии каждого столбца данных, представленного в численном виде. Все значения, отстоящие более чем на 3 выборочных стандартных отклонения, удаляем из массива данных (точнее, удаляем из выборки все объекты, для которых хотя бы в одном столбце имеются выбросы).\n",
    "*) С помощью функций подключенной библиотек оценим нормальность распределений данных\n",
    "*) В конце числовые колонки данных масштабируем, поделив на максимальный элемент каждой колонки"
   ]
  },
  {
   "cell_type": "markdown",
   "metadata": {},
   "source": [
    "Загружаем данные.\n",
    "Выводим для ознакомления заголовочную строку и первые пять строк. "
   ]
  },
  {
   "cell_type": "code",
   "execution_count": 11,
   "metadata": {},
   "outputs": [
    {
     "name": "stdout",
     "output_type": "stream",
     "text": [
      "Rows in the initial table: 170746\n",
      "Initial column number: 15\n",
      "   client_id gender   age marital_status job_position  credit_sum  \\\n",
      "0          1      M   NaN            NaN          UMN    59998.00   \n",
      "1          2      F   NaN            MAR          UMN    10889.00   \n",
      "2          3      M  32.0            MAR          SPC    10728.00   \n",
      "3          4      F  27.0            NaN          SPC    12009.09   \n",
      "4          5      M  45.0            NaN          SPC         NaN   \n",
      "\n",
      "   credit_month tariff_id  score_shk education        living_region  \\\n",
      "0            10       1.6        NaN       GRD   КРАСНОДАРСКИЙ КРАЙ   \n",
      "1             6       1.1        NaN       NaN               МОСКВА   \n",
      "2            12       1.1        NaN       NaN      ОБЛ САРАТОВСКАЯ   \n",
      "3            12       1.1        NaN       NaN    ОБЛ ВОЛГОГРАДСКАЯ   \n",
      "4            10       1.1   0.421385       SCH  ЧЕЛЯБИНСКАЯ ОБЛАСТЬ   \n",
      "\n",
      "   monthly_income  credit_count  overdue_credit_count  open_account_flg  \n",
      "0         30000.0           1.0                   1.0                 0  \n",
      "1             NaN           2.0                   0.0                 0  \n",
      "2             NaN           5.0                   0.0                 0  \n",
      "3             NaN           2.0                   0.0                 0  \n",
      "4             NaN           1.0                   0.0                 0  \n"
     ]
    }
   ],
   "source": [
    "import pandas as pd\n",
    "import sklearn as sk\n",
    "from sklearn.preprocessing import OneHotEncoder\n",
    "\n",
    "data_table = pd.read_csv('credit_train.csv', sep = ';', decimal = ',', encoding = 'windows-1251')\n",
    "print(f'Rows in the initial table: {len(data_table)}') \n",
    "print(f'Initial column number: {data_table.shape[1]}')\n",
    "print(data_table.head())\n"
   ]
  },
  {
   "cell_type": "markdown",
   "metadata": {},
   "source": [
    "Видим сразу много NaN. \n",
    "Это процедура загрузки так заменила пропуски.\n",
    "Такие строки подлежат устранению.\n",
    "Удаляем строки c NaN (то есть с отсутствовавшими изначально значениями, которые при загрузке с помощью функции read_csv превратились в NaN) c помощью dropna:"
   ]
  },
  {
   "cell_type": "code",
   "execution_count": 12,
   "metadata": {},
   "outputs": [
    {
     "name": "stdout",
     "output_type": "stream",
     "text": [
      "    client_id gender   age marital_status job_position  credit_sum  \\\n",
      "7           8      F  26.0            UNM          SPC     47878.0   \n",
      "9          10      F  32.0            UNM          SPC     26268.0   \n",
      "10         11      M  26.0            MAR          SPC     16793.0   \n",
      "12         13      M  37.0            MAR          SPC     42289.0   \n",
      "13         14      M  43.0            MAR          INP     57567.0   \n",
      "\n",
      "    credit_month tariff_id  score_shk education        living_region  \\\n",
      "7             10       1.1   0.512525       GRD       МОСКОВСКАЯ ОБЛ   \n",
      "9             10       1.1   0.465026       GRD  КРАЙ СТАВРОПОЛЬСКИЙ   \n",
      "10            14       1.0   0.445430       SCH      САНКТ-ПЕТЕРБУРГ   \n",
      "12            10       1.6   0.691609       SCH    ОБЛ АРХАНГЕЛЬСКАЯ   \n",
      "13            10       1.1   0.341164       GRD  ХАНТЫ-МАНСИЙСКИЙ АО   \n",
      "\n",
      "    monthly_income  credit_count  overdue_credit_count  open_account_flg  \n",
      "7          60000.0           3.0                   0.0                 0  \n",
      "9          39500.0           7.0                   0.0                 0  \n",
      "10         36000.0           2.0                   0.0                 0  \n",
      "12         70000.0           1.0                   0.0                 0  \n",
      "13         60000.0           7.0                   0.0                 0  \n",
      "Размер таблицы (161331, 15)\n"
     ]
    }
   ],
   "source": [
    "data_table.dropna(inplace=True) # inplace means we change data_table itself, not create new modified one\n",
    "print(data_table.head())\n",
    "print(f'Размер таблицы {data_table.shape}')"
   ]
  },
  {
   "cell_type": "markdown",
   "metadata": {},
   "source": [
    "Теперь следует обработать колонку living region. \n",
    "Поскольку регионов слишком много, работа сразу со всеми даст громоздкие результаты, анализ которых затруднен.\n",
    "Даже Путину это было ясно еще в 2000 г., отчего вся территория России была им поделена на федеральные округа. \n",
    "На данный момент их восемь. Еще имеет смысл отдельно рассматривать Москву и Петербург, поскольку в социологическом плане они сильно отличаются от остальной России.\n",
    "Поэтому мы объединим все регионы по федеральным округам плюс отдельно укажем Москву и Петербург. \n",
    "Получим ровно десять living regions:\n",
    "1. Центральный ФО\n",
    "2. Северо-Западный ФО\n",
    "3. Южный ФО\n",
    "4. Северо-Кавказский ФО\n",
    "5. Приволжский  ФО\n",
    "6. Уральский ФО\n",
    "7. Сибирский ФО\n",
    "8. Дальневосточный ФО\n",
    "9. Москва\n",
    "10. Санкт-Петербург\n",
    "\n",
    "С таким количеством регионов уже можно работать.\n",
    "Попутно отметим, что в таблице два раза встречается регион Россия. Придется его целенаправленно уничтожить."
   ]
  },
  {
   "cell_type": "code",
   "execution_count": 13,
   "metadata": {},
   "outputs": [
    {
     "name": "stdout",
     "output_type": "stream",
     "text": [
      "Now the table shape is: (161329, 15)\n",
      "    client_id gender   age marital_status job_position  credit_sum  \\\n",
      "7           8      F  26.0            UNM          SPC     47878.0   \n",
      "9          10      F  32.0            UNM          SPC     26268.0   \n",
      "10         11      M  26.0            MAR          SPC     16793.0   \n",
      "12         13      M  37.0            MAR          SPC     42289.0   \n",
      "13         14      M  43.0            MAR          INP     57567.0   \n",
      "\n",
      "    credit_month tariff_id  score_shk education         living_region  \\\n",
      "7             10       1.1   0.512525       GRD        Центральный ФО   \n",
      "9             10       1.1   0.465026       GRD  Северо-Кавказский ФО   \n",
      "10            14       1.0   0.445430       SCH       Санкт-Петербург   \n",
      "12            10       1.6   0.691609       SCH    Северо-Западный ФО   \n",
      "13            10       1.1   0.341164       GRD          Уральский ФО   \n",
      "\n",
      "    monthly_income  credit_count  overdue_credit_count  open_account_flg  \n",
      "7          60000.0           3.0                   0.0                 0  \n",
      "9          39500.0           7.0                   0.0                 0  \n",
      "10         36000.0           2.0                   0.0                 0  \n",
      "12         70000.0           1.0                   0.0                 0  \n",
      "13         60000.0           7.0                   0.0                 0  \n"
     ]
    }
   ],
   "source": [
    "# looking for the region 'Россия' and removing it:\n",
    "indices = data_table.index[data_table['living_region'] == 'РОССИЯ']\n",
    "for ind in indices:\n",
    "    data_table = data_table.drop(index = ind)\n",
    "\n",
    "# function returning the string replace_to if a data_cell contains a string from string_set\n",
    "def replace_cell_value(data_cell, string_set, replace_to):\n",
    "    for str in string_set:\n",
    "        if str in data_cell:\n",
    "            return replace_to            \n",
    "    return data_cell # if no string in string_set is present in data_cell\n",
    "\n",
    "# the regions of every federal district, keywords:\n",
    "central_fo = ['БЕЛГОРОД', 'БРЯНСК', 'ВЛАДИМИР', 'ВОРОНЕЖ', 'ГУСЬ', 'ИВАНОВ', 'КАЛУГ', 'КАЛУЖ', 'КОСТРОМ', 'КУРСК', 'ЛИПЕЦК', 'МОСКОВСК', 'МЫТИЩ', 'ОРЕЛ', 'ОРЁЛ', 'ОРЛОВСК', 'РЯЗАН', 'СМОЛЕНСК', 'ТАМБОВ', 'ТВЕР', 'ТУЛА', 'ТУЛЬСК', 'ЯРОСЛАВ'] \n",
    "north_west_fo = ['КАРЕЛ','КОМИ','АРХАНГ','ВОЛОГ','КАЛИНИНГР','ЛЕНИНГР','МУРМАН','НОВГОРОД','ПСКОВ','НЕНЕЦК']\n",
    "south_fo = ['АДЫГ','КАЛМЫК','КРЫМ','КРАСНОДАР','АСТРАХАН','ВОЛГОГРАД','РОСТОВ','СЕВАСТ']\n",
    "caucas_fo =['ДАГЕСТ','ИНГУШ','КАБАРДИН','БАЛКАР','КАРАЧАЕВ','ЧЕРКЕС','ОСЕТИ','АЛАНИ','ЧЕЧЕН','ЧЕЧНЯ','СТАВРОПОЛ']\n",
    "volga_fo = ['ПРИВОЛЖСК','БАШКИР','БАШКОР', 'ГОРЬКИЙ', 'ГОРЬКОВСК', 'МАРИЙ','МОРДОВ','ТАТАР','УДМУРТ','ЧУВАШ','ПЕРМ','КИРОВ','НИЖЕГОРОД','НИЖНИЙ','ОРЕНБУРГ','ПЕНЗ','САМАР','САРАТОВ','УЛЬЯН','СИМБИРС']\n",
    "urals_fo =['ЕКАТЕРИНБ','СВЕРДЛОВ','КУРГАН','ТЮМЕН','ЧЕЛЯБ','ТАГИЛ','ХАНТЫ','МАНСИ','ЯМАЛ','НЕНЕЦ', '74']\n",
    "siberia_fo = ['АЛТАЙ','ТЫВА','ТУВА','ТУВИН','ХАКАС','КРАСНОЯРСК','ИРКУТСК','КЕМЕРОВ','КУЗБАСС','НОВОСИБ','ОМСК', 'ЭВЕНК']\n",
    "far_east_fo = ['ВЛАДИВОСТ','ХАБАРОВ','БУРЯТ','САХА','ЯКУТ','БАЙКАЛ','КАМЧАТ','ПРИМОРСК','АМУР','МАГАДАН','САХАЛИН','ЕВРЕЙ','ЧИТА', 'ЧИТИН', 'ЧУКОТ']\n",
    "moskau = ['МОСКВ']\n",
    "piter = ['ПЕТЕРБ', '98']\n",
    "regions = [central_fo, north_west_fo, south_fo, caucas_fo, volga_fo, urals_fo, siberia_fo, far_east_fo, moskau, piter]\n",
    "\n",
    "# regions to be put into dataset:\n",
    "federal_districts = ['Центральный ФО', 'Северо-Западный ФО', 'Южный ФО', 'Северо-Кавказский ФО', 'Приволжский  ФО', 'Уральский ФО', 'Сибирский ФО', 'Дальневосточный ФО', 'Москва', 'Санкт-Петербург']\n",
    "\n",
    "# Replacing the cells in living_region with federal districts\n",
    "i = 0\n",
    "for region in regions:\n",
    "    data_table['living_region'] = data_table['living_region'].map(lambda x: replace_cell_value(x, region, federal_districts[i]))\n",
    "    i += 1\n",
    "\n",
    "# saving result for debugging purposes\n",
    "# data_table.to_csv('tmp.csv', index = False, sep=';', decimal = ',', encoding = 'windows-1251') \n",
    "print(f'Now the table shape is: {data_table.shape}')\n",
    "print(data_table.head())"
   ]
  },
  {
   "cell_type": "markdown",
   "metadata": {},
   "source": [
    "Все колонки делим на две категории - числовые и нечисловые. \n",
    "Числовые будут далее исследоваться на выбросы и затем проверяться на нормальность, затем нормироваться.\n",
    "Нечисловые колонки кодируем энкодером OneHotEncoder.\n",
    "Особняком стоит колонка open_account_flg - флаг, сигнализирующий, открыт ли счет. Имеет два значения 0 и 1, а значит, по факту это нечисловая колонка \"Счет открыт\" или \"Счет закрыт\".\n",
    "Поэтому с ней возникает вопрос - стоит ли ее кодировать с помощью OneHotEncoder или нет. По виду она уже сейчас не отличается от любой колонки, получаемой на выходе OneHotEncoder, поэтому кодировать ее и превращать тем самым в две колонки не будем."
   ]
  },
  {
   "cell_type": "code",
   "execution_count": 14,
   "metadata": {},
   "outputs": [
    {
     "name": "stdout",
     "output_type": "stream",
     "text": [
      "New length of table: 161329\n",
      "New column number: 69\n"
     ]
    }
   ],
   "source": [
    "# Column titles of categorical features\n",
    "# Even though tariff_id consists from zeros and units, but is in fact non-numerical, since it is the tariff category. \n",
    "categorical_features = ['gender', 'marital_status', 'job_position', 'education', 'tariff_id'] \n",
    "# Column titles of numerical features\n",
    "numerical_features = ['credit_sum', 'credit_month', 'score_shk', 'monthly_income', 'credit_count', 'overdue_credit_count', 'open_account_flg']\n",
    "\n",
    "# creating dataframe for encoded values. First including only numeric data there\n",
    "data_table_encoded = data_table[numerical_features] # dataframe for encoded data set\n",
    "data_table_encoded.reset_index(drop=True, inplace = True) # changing series indices to sequential incrementing values\n",
    "# print(data_table_encoded.head()) \n",
    "\n",
    "encoder = OneHotEncoder() # init encoder\n",
    "\n",
    "# transform the categorical data using OneHotEncoder\n",
    "for feature in categorical_features:\n",
    "    # print(feature)\n",
    "    tmp_data = encoder.fit_transform(data_table[[feature]]) # coded data is sparse matrix\n",
    "    tmp_data = tmp_data.todense() # to usual matrix \n",
    "    # print(tmp_data)\n",
    "    # extract the feature names for the encoded columns\n",
    "    tmp_titles = encoder.get_feature_names_out([feature])\n",
    "    # print(tmp_titles)\n",
    "    tmp_df = pd.DataFrame(tmp_data, columns = tmp_titles)    \n",
    "    data_table_encoded = pd.concat([data_table_encoded, tmp_df], axis = 1, ignore_index = False, sort = False) # merging into the encoded dataframe     \n",
    "    # print(f'Current table size: {data_table_encoded.shape}')\n",
    "\n",
    "print(f'New length of table: {len(data_table_encoded)}')\n",
    "print(f'New column number: {data_table_encoded.shape[1]}')\n",
    "\n",
    "# for debugging only:\n",
    "# print(data_table_encoded.head())\n",
    "# data_table_encoded.to_csv('tmp1.csv', sep = ';', decimal = '.', encoding = 'windows-1251') \n",
    "\n"
   ]
  },
  {
   "cell_type": "markdown",
   "metadata": {},
   "source": [
    "Рассчитываем выбросы и отсеиваем строки с выбросами (где значения отстоят больше чем на 3 стандартных отклонения от среднего)."
   ]
  },
  {
   "cell_type": "code",
   "execution_count": 15,
   "metadata": {},
   "outputs": [
    {
     "name": "stdout",
     "output_type": "stream",
     "text": [
      "Feature: credit_sum, mean: 25933.6, std: 16192.4\n",
      "Feature: credit_month, mean: 11.0, std: 3.5\n",
      "Feature: score_shk, mean: 0.5, std: 0.1\n",
      "Feature: monthly_income, mean: 40027.9, std: 24647.5\n",
      "Feature: credit_count, mean: 2.1, std: 1.8\n",
      "Feature: overdue_credit_count, mean: 0.0, std: 0.2\n",
      "Feature: open_account_flg, mean: 0.2, std: 0.4\n",
      "Now the table shape is: (161329, 15)\n"
     ]
    }
   ],
   "source": [
    "# calculating the means and standard deviations over the numerical columns\n",
    "# removing outliers (i.e. leaving only rows withot outliers)\n",
    "for feature in numerical_features:\n",
    "    mean = data_table_encoded[feature].mean()\n",
    "    std = data_table_encoded[feature].std()\n",
    "    print(f'Feature: {feature}, mean: {mean:.1f}, std: {std:.1f}')\n",
    "    # z_scores i.e. distance from the data value to mean, in std values\n",
    "    z_scores = (data_table_encoded[feature] - mean) / std\n",
    "    # if z_scores are > 3 the data is considered to be an outlier:\n",
    "    data_table_encoded = data_table_encoded[z_scores <= 3] # leaving only items closer to the mean value (not farther than 3*sigma)\n",
    "    # print(f'Current table size: {data_table_encoded.shape}')\n",
    "\n",
    " \n",
    "data_table_encoded.reset_index(drop=True, inplace = True) # changing final series indices to incrementing values\n",
    "# for debugging only:\n",
    "# print(data_table_encoded.head())\n",
    "# data_table_encoded.to_csv('tmp2.csv', sep = ';', decimal = '.', encoding = 'windows-1251')   \n",
    "print(f'Now the table shape is: {data_table.shape}')"
   ]
  },
  {
   "cell_type": "markdown",
   "metadata": {},
   "source": [
    "Расчет и визуализация корреляционной матрицы, только для числовых колонок:"
   ]
  },
  {
   "cell_type": "code",
   "execution_count": 16,
   "metadata": {},
   "outputs": [
    {
     "data": {
      "image/png": "[encoded data removed]",
      "text/plain": [
       "<Figure size 640x480 with 2 Axes>"
      ]
     },
     "metadata": {},
     "output_type": "display_data"
    }
   ],
   "source": [
    "import seaborn as sns\n",
    "import matplotlib.pyplot as plt\n",
    "\n",
    "# picking the numeric columns only: \n",
    "data_table_numeric = data_table_encoded[numerical_features]\n",
    "\n",
    "corr = data_table_numeric.corr()\n",
    "sns.heatmap(corr, annot = True, cmap = 'seismic')\n",
    "plt.title(\"Correlation matrix\")\n",
    "plt.savefig('CorrMatrix.png') \n",
    "plt.show()\n"
   ]
  },
  {
   "cell_type": "markdown",
   "metadata": {},
   "source": [
    "Из корреляционной матрицы намечается положительная корреляция между суммой кредита и месячным доходом, и отрцательная корреляция между числом взятых кредитов и кредитным рейтингом гражданина"
   ]
  },
  {
   "cell_type": "markdown",
   "metadata": {},
   "source": [
    "Тест на нормальность распределения.\n",
    "Проверка с помощью теста Шапиро-Вилка в нашем случае не годится, поскольку для N>5000 практически всегда гипотеза нормального распределения отвергается. А у нас около двухсот тысяч строк в файле.\n",
    "То есть в нашем случае почти наверняка результат будет отрицательным.\n",
    "Но проверить не худо:"
   ]
  },
  {
   "cell_type": "code",
   "execution_count": 17,
   "metadata": {},
   "outputs": [
    {
     "name": "stdout",
     "output_type": "stream",
     "text": [
      "credit_sum\n",
      "The p-value is 2.1804362475202267e-123\n",
      "There is evidence that the data in credit_sum are not normally distributed\n",
      "credit_month\n",
      "The p-value is 1.7360460900111226e-145\n",
      "There is evidence that the data in credit_month are not normally distributed\n",
      "score_shk\n",
      "The p-value is 8.256280048219302e-55\n",
      "There is evidence that the data in score_shk are not normally distributed\n",
      "monthly_income\n",
      "The p-value is 4.751442887226207e-116\n",
      "There is evidence that the data in monthly_income are not normally distributed\n",
      "credit_count\n",
      "The p-value is 3.183267734616934e-120\n",
      "There is evidence that the data in credit_count are not normally distributed\n",
      "overdue_credit_count\n",
      "The p-value is 1.0\n",
      "The null hypothesis (that the data came from a normally distributed population)\n",
      " can not be rejected for overdue_credit_count\n",
      "open_account_flg\n",
      "The p-value is 4.570215395049979e-174\n",
      "There is evidence that the data in open_account_flg are not normally distributed\n"
     ]
    },
    {
     "name": "stderr",
     "output_type": "stream",
     "text": [
      "c:\\Users\\varaksa_yua\\AppData\\Local\\Programs\\Python\\Python310\\lib\\site-packages\\scipy\\stats\\_axis_nan_policy.py:573: UserWarning: scipy.stats.shapiro: For N > 5000, computed p-value may not be accurate. Current N is 143093.\n",
      "  res = hypotest_fun_out(*samples, **kwds)\n",
      "c:\\Users\\varaksa_yua\\AppData\\Local\\Programs\\Python\\Python310\\lib\\site-packages\\scipy\\stats\\_axis_nan_policy.py:573: UserWarning: scipy.stats.shapiro: Input data has range zero. The results may not be accurate.\n",
      "  res = hypotest_fun_out(*samples, **kwds)\n"
     ]
    }
   ],
   "source": [
    "from scipy.stats import shapiro\n",
    "for feature in numerical_features:\n",
    "    print(feature)\n",
    "    # print(data_table_encoded[feature])\n",
    "    s, p = shapiro(data_table_encoded[feature])\n",
    "    print(f'The p-value is {p}')\n",
    "    if p > 0.05:\n",
    "        print(f'The null hypothesis (that the data came from a normally distributed population)\\n can not be rejected for {feature}')\n",
    "    else:\n",
    "        print(f'There is evidence that the data in {feature} are not normally distributed')\n",
    "      \n",
    "    "
   ]
  },
  {
   "cell_type": "markdown",
   "metadata": {},
   "source": [
    "Действительно, значения доверительной вероятности получились весьма малыми, и даже выскочило предупреждение о неприменимости теста.\n"
   ]
  },
  {
   "cell_type": "markdown",
   "metadata": {},
   "source": [
    "Самое простое, что можно сделать - ограничить размер набора данных. Например, посчитать р-value по выборке мощностью 100 единиц.\n"
   ]
  },
  {
   "cell_type": "code",
   "execution_count": 18,
   "metadata": {},
   "outputs": [
    {
     "name": "stdout",
     "output_type": "stream",
     "text": [
      "The p-value is 1.9289681915293215e-08\n",
      "There is evidence that the data in credit_sum are not normally distributed\n",
      "\n",
      "The p-value is 6.144199995177517e-10\n",
      "There is evidence that the data in credit_month are not normally distributed\n",
      "\n",
      "The p-value is 0.1866709045210332\n",
      "The null hypothesis (that the data came from a normally distributed population) \n",
      "can not be rejected for score_shk\n",
      "\n",
      "The p-value is 0.0070223098612760635\n",
      "There is evidence that the data in monthly_income are not normally distributed\n",
      "\n",
      "The p-value is 1.133339973521953e-07\n",
      "There is evidence that the data in credit_count are not normally distributed\n",
      "\n",
      "The p-value is 1.0\n",
      "The null hypothesis (that the data came from a normally distributed population) \n",
      "can not be rejected for overdue_credit_count\n",
      "\n",
      "The p-value is 2.994975300471226e-17\n",
      "There is evidence that the data in open_account_flg are not normally distributed\n",
      "\n"
     ]
    }
   ],
   "source": [
    "for feature in numerical_features:      \n",
    "    s, p = shapiro(data_table_encoded[feature][1:100])\n",
    "    print(f'The p-value is {p}')\n",
    "    if p > 0.05:\n",
    "        print(f'The null hypothesis (that the data came from a normally distributed population) \\ncan not be rejected for {feature}\\n')\n",
    "    else:\n",
    "        print(f'There is evidence that the data in {feature} are not normally distributed\\n')"
   ]
  },
  {
   "cell_type": "markdown",
   "metadata": {},
   "source": [
    "Видим, что для набора из 100 элементов выборки нельзя отвергнуть гипотезу о нормальном распределении данных для кредитного рейтинга (score_shk) и числа просроченных кредитов (overdue_credit_count)\n",
    "\n",
    "Далее следует масштабировать данные - то есть поделить числовые колонки на их максимумы.\n",
    "В финале сохранить полученные предобработанные данные для дальнейшего использования в какой-либо модели."
   ]
  },
  {
   "cell_type": "code",
   "execution_count": 19,
   "metadata": {},
   "outputs": [
    {
     "name": "stdout",
     "output_type": "stream",
     "text": [
      "(143093, 69)\n"
     ]
    }
   ],
   "source": [
    "for feature in numerical_features:\n",
    "    data_table_encoded[feature] = data_table_encoded[feature] / data_table_encoded[feature].max()\n",
    "\n",
    "data_table_encoded.to_csv('credit_train_preprocessed.csv', sep = ';', decimal = '.', encoding = 'windows-1251')  \n",
    "print(data_table_encoded.shape) "
   ]
  },
  {
   "cell_type": "markdown",
   "metadata": {},
   "source": [
    "Выводы:\n",
    "Проведена предобработка файла данных по кредитам.\n",
    "Убраны все строки данных с пропусками.\n",
    "Регионы выдачи кредитов поделены на 10 групп - Москва, Петербург, и 8 федеральных округов.\n",
    "Построена матрица корреляции числовых колонок данных. Намеки на наличие корреляции (хотя значение коэффициента корреляции недостаточно высокое, чтобы уверенно утверждать корреляцию данных) получено для двух пар параметров: размер дохода - размер кредита, и число просроченных кредитов - кредитный рейтинг гражданина. Это целиком разумно, и логично было бы ожидать даже более высокой корреляции в данных парах параметров.\n",
    "Были убраны выбросы и проведена нормировка данных.\n",
    "Мы получили, что обработанный файл стал гораздо больше исходного, несмотря на то, что множество строк с данными было отсеяно из-за неполноты или плохого качества данных (изначально файл содержал 170 тысяч строк, теперь 143 тысячи строк). В первую очередь распухание файла данных обусловлено использованием OneHotEncoder, который для каждого значения категориальных данных создает свою колонку с бинарными значениями, отчего в предобработанном файле оказывается гораздо больше колонок, чем в исходном.\n"
   ]
  }
 ],
 "metadata": {
  "kernelspec": {
   "display_name": "Python 3",
   "language": "python",
   "name": "python3"
  },
  "language_info": {
   "codemirror_mode": {
    "name": "ipython",
    "version": 3
   },
   "file_extension": ".py",
   "mimetype": "text/x-python",
   "name": "python",
   "nbconvert_exporter": "python",
   "pygments_lexer": "ipython3",
   "version": "3.10.5"
  }
 },
 "nbformat": 4,
 "nbformat_minor": 2
}
