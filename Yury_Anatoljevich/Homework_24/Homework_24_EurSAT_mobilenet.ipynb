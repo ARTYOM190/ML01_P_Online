{
 "cells": [
  {
   "cell_type": "markdown",
   "metadata": {},
   "source": [
    "Задание №24 \n",
    "\n",
    "Используя предобученные нейронные сети для задачи классификации изображений, подобрать модель таким образом, чтобы метрики качества были максимальны. Вывести графики обучения. Проанализировать результат. Использовать колбэки для изменения скорости обучения и сохранения лучшей модели. Использовать набор данных с EuroSat\n",
    "\n",
    "Анализ и план работы: <br>\n",
    "Загружаем данные из датасета EurSAT <br>\n",
    "Загружаем предобученную сеть MobileNet. Изменяем последний слой в соответствии с набором классов EurSAT <br>\n",
    "Обучаем сеть <br>\n",
    "Строим графики <br>\n",
    "Проверяем метрики на тестовом наборе <br>\n",
    "Делаем выводы"
   ]
  },
  {
   "cell_type": "code",
   "execution_count": 1,
   "metadata": {},
   "outputs": [],
   "source": [
    "%reset -f \n",
    "\n",
    "import torch\n",
    "from torchvision import datasets, transforms\n",
    "from torch.utils.data import DataLoader, random_split\n",
    "\n",
    "import torch.nn as nn\n",
    "from torchvision import models\n",
    "\n",
    "import torch.optim as optim\n",
    "from torch.optim.lr_scheduler import ReduceLROnPlateau"
   ]
  },
  {
   "cell_type": "markdown",
   "metadata": {},
   "source": [
    "Загрузка необходимых модулей"
   ]
  },
  {
   "cell_type": "code",
   "execution_count": 2,
   "metadata": {},
   "outputs": [],
   "source": [
    "dtype = torch.float # speeding up on the GPU\n",
    "# torch.set_num_threads(4)  # limiting thread number"
   ]
  },
  {
   "cell_type": "markdown",
   "metadata": {},
   "source": [
    "1. CUDA enable (pip3 install torch torchvision torchaudio --index-url https://download.pytorch.org/whl/cu118)"
   ]
  },
  {
   "cell_type": "code",
   "execution_count": 3,
   "metadata": {},
   "outputs": [
    {
     "name": "stdout",
     "output_type": "stream",
     "text": [
      "CUDA is available: True\n",
      "Device count: 1\n",
      "Current device #: 0\n",
      "GPU name: NVIDIA GeForce GTX 1660 SUPER\n",
      "Device: cuda\n"
     ]
    }
   ],
   "source": [
    "print(f'CUDA is available: {torch.cuda.is_available()}')       # True\n",
    "if torch.cuda.is_available():\n",
    "    print(f'Device count: {torch.cuda.device_count()}')        # 1\n",
    "    print(f'Current device #: {torch.cuda.current_device()}')  # 0\n",
    "    print(f'GPU name: {torch.cuda.get_device_name(0)}') \n",
    "\n",
    "device = torch.device('cuda' if torch.cuda.is_available() else 'cpu')\n",
    "print(f'Device: {device}')"
   ]
  },
  {
   "cell_type": "markdown",
   "metadata": {},
   "source": [
    "Трансформация данных и загрузка данных"
   ]
  },
  {
   "cell_type": "code",
   "execution_count": 4,
   "metadata": {},
   "outputs": [
    {
     "name": "stdout",
     "output_type": "stream",
     "text": [
      "Classes: ['AnnualCrop', 'Forest', 'HerbaceousVegetation', 'Highway', 'Industrial', 'Pasture', 'PermanentCrop', 'Residential', 'River', 'SeaLake'], total 10\n"
     ]
    }
   ],
   "source": [
    "batch_size = 32\n",
    "\n",
    "# Transformations\n",
    "transform = transforms.Compose([\n",
    "    transforms.Resize((64, 64)),  # Приведение к размеру 64x64\n",
    "    transforms.ToTensor(),\n",
    "    transforms.Normalize(mean=[0.485, 0.456, 0.406],  # Нормализация как в ImageNet\n",
    "                         std=[0.229, 0.224, 0.225])\n",
    "])\n",
    "\n",
    "# EurSAT data loading\n",
    "dataset = datasets.EuroSAT(root=\"./data\", download=True, transform=transform)\n",
    "# Define train/test split sizes\n",
    "train_size = int(0.8 * len(dataset))  # 80% for training\n",
    "val_size = int(0.1 * len(dataset))  # 10% for validation\n",
    "test_size = len(dataset) - train_size - val_size # 10% for testing\n",
    "\n",
    "# Randomly split the dataset\n",
    "train_dataset, tmp_dataset = random_split(dataset, [train_size, val_size + test_size])\n",
    "val_dataset, test_dataset = random_split(tmp_dataset, [val_size, test_size])\n",
    "\n",
    "train_loader = DataLoader(train_dataset, batch_size=batch_size, shuffle=True)\n",
    "val_loader = DataLoader(val_dataset, batch_size=batch_size, shuffle=False)\n",
    "test_loader = DataLoader(test_dataset, batch_size=batch_size, shuffle=False)\n",
    "\n",
    "# Classes for EurSAT images\n",
    "classes = dataset.classes\n",
    "print(f\"Classes: {classes}, total {len(classes)}\")"
   ]
  },
  {
   "cell_type": "markdown",
   "metadata": {},
   "source": [
    "8. Initializing the ResNet model (and loading the previosly saved state if any)"
   ]
  },
  {
   "cell_type": "code",
   "execution_count": 5,
   "metadata": {},
   "outputs": [
    {
     "name": "stderr",
     "output_type": "stream",
     "text": [
      "/opt/conda/lib/python3.10/site-packages/torchvision/models/_utils.py:208: UserWarning: The parameter 'pretrained' is deprecated since 0.13 and may be removed in the future, please use 'weights' instead.\n",
      "  warnings.warn(\n",
      "/opt/conda/lib/python3.10/site-packages/torchvision/models/_utils.py:223: UserWarning: Arguments other than a weight enum or `None` for 'weights' are deprecated since 0.13 and may be removed in the future. The current behavior is equivalent to passing `weights=MobileNet_V2_Weights.IMAGENET1K_V1`. You can also use `weights=MobileNet_V2_Weights.DEFAULT` to get the most up-to-date weights.\n",
      "  warnings.warn(msg)\n",
      "/opt/conda/lib/python3.10/site-packages/torch/optim/lr_scheduler.py:28: UserWarning: The verbose parameter is deprecated. Please use get_last_lr() to access the learning rate.\n",
      "  warnings.warn(\"The verbose parameter is deprecated. Please use get_last_lr() \"\n"
     ]
    }
   ],
   "source": [
    "# Загрузка предобученной модели\n",
    "\n",
    "# model = models.resnet18(pretrained=True)  # Можно заменить на MobileNet, EfficientNet и т.д.\n",
    "model = models.mobilenet_v2(pretrained=True)  \n",
    "# model = models.efficientnet_b0(pretrained=True)  \n",
    "\n",
    "# Замена последнего слоя классификации\n",
    "num_classes = 10  # Классы EuroSat\n",
    "# model.fc = nn.Linear(model.fc.in_features, num_classes) # for ResNet18\n",
    "model.classifier[1] = nn.Linear(model.last_channel, 10) # for MobileNet\n",
    "# model.classifier[1] = nn.Linear(model.classifier[1].in_features, 10) # for EfficientNet\n",
    "\n",
    "# Настройка оптимизатора и функции потерь\n",
    "criterion = nn.CrossEntropyLoss()\n",
    "optimizer = optim.Adam(model.parameters(), lr=0.001)\n",
    "# Decreasing learning rate scheduler\n",
    "scheduler = ReduceLROnPlateau(optimizer, mode='max', patience=3, factor=0.5, verbose=True)\n",
    "\n",
    "# trying to read the saved checkpoint to restore models state for keeping on the training\n",
    "try:\n",
    "    checkpoint = torch.load('checkpoint_mobilenet.pth')\n",
    "    model.load_state_dict(checkpoint['model_state_dict']) # load model state       \n",
    "    optimizer.load_state_dict(checkpoint['optimizer_state_dict'])\n",
    "    # Переместить параметры оптимизатора на нужное устройство\n",
    "    for state in optimizer.state.values():\n",
    "        for k, v in state.items():\n",
    "            if isinstance(v, torch.Tensor):\n",
    "                state[k] = v.to(device)\n",
    "    train_loss_values = checkpoint['train_loss_values']\n",
    "    val_accuracy_values = checkpoint['val_accuracy_values']                \n",
    "    current_epoch = checkpoint['epoch'] \n",
    "except:\n",
    "    current_epoch = 1\n",
    "    best_val_accuracy = 0\n",
    "    print('No checkpoint loaded')\n",
    "    train_loss_values = []\n",
    "    val_accuracy_values = []\n",
    "    \n",
    "# trying to read the saved best model checkpoint to extract the best validation accuracy reached\n",
    "try:\n",
    "    checkpoint_best = torch.load('best_model_mobilenet.pth')\n",
    "    best_val_accuracy =  checkpoint_best['best_val_accuracy']  \n",
    "except:\n",
    "    best_val_accuracy = 0    \n",
    "    print('No best model loaded')\n",
    "    \n",
    "# Перемещение на GPU, если доступно\n",
    "model = model.to(device)\n"
   ]
  },
  {
   "cell_type": "markdown",
   "metadata": {},
   "source": [
    "Обучение модели"
   ]
  },
  {
   "cell_type": "code",
   "execution_count": 6,
   "metadata": {},
   "outputs": [
    {
     "name": "stdout",
     "output_type": "stream",
     "text": [
      "Epoch [16/20]\n",
      "Loss: 0.04443651174272721\n",
      "Validation Accuracy: 99.41%\n",
      "New best model saved with accuracy: 99.41%\n",
      "Epoch [17/20]\n",
      "Loss: 0.03597007735298205\n",
      "Validation Accuracy: 99.15%\n",
      "Epoch [18/20]\n",
      "Loss: 0.034566174957327785\n",
      "Validation Accuracy: 99.41%\n",
      "Epoch [19/20]\n",
      "Loss: 0.04144018642263728\n",
      "Validation Accuracy: 98.33%\n",
      "Epoch [20/20]\n",
      "Loss: 0.03150831222619335\n",
      "Validation Accuracy: 99.15%\n"
     ]
    }
   ],
   "source": [
    "epochs = 20\n",
    "\n",
    "while current_epoch <= epochs:\n",
    "    print(f'Epoch [{current_epoch}/{epochs}]')\n",
    "    model.train()\n",
    "    running_loss = 0.0\n",
    "    for inputs, labels in train_loader:\n",
    "        inputs, labels = inputs.to(device), labels.to(device)\n",
    "        \n",
    "        optimizer.zero_grad()\n",
    "        \n",
    "        outputs = model(inputs)\n",
    "        loss = criterion(outputs, labels)\n",
    "        loss.backward()\n",
    "        optimizer.step()\n",
    "        \n",
    "        running_loss += loss.item()\n",
    "    \n",
    "    average_loss = running_loss/len(train_loader)\n",
    "    print(f'Loss: {average_loss}')\n",
    "    train_loss_values.append(average_loss) # appending new value of average loss\n",
    "    \n",
    "   \n",
    "    model.eval()\n",
    "    # evaluation on the validation dataset\n",
    "    correct_val = 0\n",
    "    total_val = 0\n",
    "    with torch.no_grad():\n",
    "        for inputs, labels in val_loader:\n",
    "            inputs, labels = inputs.to(device), labels.to(device)\n",
    "            outputs = model(inputs)\n",
    "            _, predicted = torch.max(outputs, 1)\n",
    "            total_val += labels.size(0)\n",
    "            correct_val += (predicted == labels).sum().item()\n",
    "    \n",
    "    val_accuracy = 100 * correct_val / total_val\n",
    "    print(f'Validation Accuracy: {val_accuracy:.2f}%')\n",
    "    val_accuracy_values.append(val_accuracy)\n",
    "    \n",
    "    # Keep the best model if validation accuracy improves\n",
    "    if val_accuracy > best_val_accuracy:\n",
    "        best_val_accuracy = val_accuracy        \n",
    "        torch.save({'model_state_dict': model.state_dict(),  # model weights\n",
    "                    'best_val_accuracy' : best_val_accuracy}, \n",
    "                   'best_model_mobilenet.pth')\n",
    "        print(f\"New best model saved with accuracy: {best_val_accuracy:.2f}%\")   \n",
    "\n",
    "    # Decreasing the learning rate\n",
    "    scheduler.step(val_accuracy)\n",
    "    \n",
    "    current_epoch += 1"
   ]
  },
  {
   "cell_type": "code",
   "execution_count": 7,
   "metadata": {},
   "outputs": [],
   "source": [
    "# 10. Save the current state of the model (i.e. checkpoint)"
   ]
  },
  {
   "cell_type": "code",
   "execution_count": 8,
   "metadata": {},
   "outputs": [],
   "source": [
    "# Save model weights and additional information like optimizer state, epoch, etc.\n",
    "try:\n",
    "    torch.save({\n",
    "        'epoch': current_epoch,\n",
    "        'model_state_dict': model.state_dict(),  # model weights\n",
    "        'optimizer_state_dict': optimizer.state_dict(), # optimizer    \n",
    "        'train_loss_values' : train_loss_values,\n",
    "        'val_accuracy_values' : val_accuracy_values\n",
    "        }, 'checkpoint_mobilenet.pth')\n",
    "except:\n",
    "    print('Error. No current model saved')"
   ]
  },
  {
   "cell_type": "markdown",
   "metadata": {},
   "source": [
    "Графики обучения"
   ]
  },
  {
   "cell_type": "code",
   "execution_count": 9,
   "metadata": {},
   "outputs": [
    {
     "data": {
      "image/png": "[encoded data removed]",
      "text/plain": [
       "<Figure size 800x400 with 2 Axes>"
      ]
     },
     "metadata": {},
     "output_type": "display_data"
    }
   ],
   "source": [
    "import matplotlib.pyplot as plt\n",
    "\n",
    "# Learning plots\n",
    "\n",
    "plt.figure(figsize=(8, 4))\n",
    "plt.subplot(1, 2, 1)\n",
    "plt.plot(range(epochs), train_loss_values, 'g-^', label='Training Loss') # 'g^-' - green triangles + solid line\n",
    "plt.xlabel('Epochs')\n",
    "plt.ylabel('Loss')\n",
    "plt.title('Training Loss (MobileNet)')\n",
    "plt.legend()\n",
    "plt.axis([-0.05*epochs, 1.05*epochs-1, 0, 1.05*max(train_loss_values)])\n",
    "\n",
    "plt.subplot(1, 2, 2)\n",
    "plt.plot(range(epochs), val_accuracy_values, 'D-', label = 'Validation Accuracy') # 'D-' diamonds + solid line\n",
    "plt.xlabel('Epochs')\n",
    "plt.ylabel('Accuracy')\n",
    "plt.title('Validation Accuracy (Mobilenet), %')\n",
    "plt.legend()\n",
    "plt.axis([-0.05*epochs, 1.05*epochs-1, 0, 1.05*max(val_accuracy_values)])\n",
    "\n",
    "plt.show()"
   ]
  },
  {
   "cell_type": "markdown",
   "metadata": {},
   "source": [
    "Evaluating the model using the Satellite test dataset"
   ]
  },
  {
   "cell_type": "code",
   "execution_count": 10,
   "metadata": {},
   "outputs": [
    {
     "name": "stdout",
     "output_type": "stream",
     "text": [
      "Test Accuracy: 98.89%\n"
     ]
    }
   ],
   "source": [
    "model.eval()\n",
    "# evaluation on the test dataset\n",
    "correct_test = 0\n",
    "total_test = 0\n",
    "with torch.no_grad():\n",
    "    for inputs, labels in test_loader:\n",
    "        inputs, labels = inputs.to(device), labels.to(device)\n",
    "        outputs = model(inputs)\n",
    "        _, predicted = torch.max(outputs, 1)\n",
    "        total_test += labels.size(0)\n",
    "        correct_test += (predicted == labels).sum().item()\n",
    "    \n",
    "test_accuracy = 100 * correct_test / total_test\n",
    "print(f'Test Accuracy: {test_accuracy:.2f}%')   "
   ]
  },
  {
   "cell_type": "markdown",
   "metadata": {},
   "source": [
    "Выводы: <br>\n",
    "На основе предобученной модели mobilenet проведена классификация изображения EurSAT <br>\n",
    "Достигнутая точность классификации составила: <br> \n",
    "94.81% (за 5 эпох) <br>\n",
    "95.85% (за 10 эпох) <br>\n",
    "98.33% (за 15 эпох) <br>\n",
    "98.89% (за 20 эпох) <br>\n",
    "\n",
    "Для дальнейшего повышения точности классификации снимков EurSAT можно разблокировать последние слои сети MobileNet и переобучать уже их.\n"
   ]
  }
 ],
 "metadata": {
  "kernelspec": {
   "display_name": "Python 3 (ipykernel)",
   "language": "python",
   "name": "python3"
  },
  "language_info": {
   "codemirror_mode": {
    "name": "ipython",
    "version": 3
   },
   "file_extension": ".py",
   "mimetype": "text/x-python",
   "name": "python",
   "nbconvert_exporter": "python",
   "pygments_lexer": "ipython3",
   "version": "3.10.13"
  }
 },
 "nbformat": 4,
 "nbformat_minor": 4
}
