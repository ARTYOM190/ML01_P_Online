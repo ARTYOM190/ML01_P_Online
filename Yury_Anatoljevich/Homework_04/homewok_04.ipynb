{
 "cells": [
  {
   "cell_type": "markdown",
   "metadata": {},
   "source": [
    "1.\tЗагрузить файл длиной не менее 2000 символов. \n",
    "2.\tСоставить программу, которая считает число уникальных слов в тексте (без критерия схожести)\n",
    "3.\tСоставить программу, которая считает число гласных и согласных букв. \n",
    "4.\tСоставить программу, которая считает число предложений, их длину и число (количество) раз использования каждого слова в тексте (с критерием схожести, критерий схожести слов выбрать самостоятельно, например, spacy (en_core_web_sm) или расстояние Левенштейна). \n",
    "5.\tВывести 10 наиболее часто встречаемых слов. \n",
    "\n",
    "Анализ, часть А:\n",
    "\n",
    "А. Для подсчета уникальных слов в тексте без критерия схожести можно находить каждое следующее слово и заносить его в словарь dict в виде ключа, если этого ключа еще нет в словаре. Значение, соответствующее этому ключу, будет присваиваться равным единице. Если же такой ключ уже есть, то соответствующее ему значение увеличивается на единицу. После прохождения всего текста числом уникальных слов будет считаться число ключей в полученном словаре. Значения ключей будут далее использованы для нахождения 10 наиболее встречаемых слов. Для этого нужно будет найти ключ, которому соответствует максимальное значение, и вывести его. Далее среди оставшихся ключей произвети аналогичный поиск, и т.д., пока не будет выведено десять наиболее часто встречающихся слов. Однако, если выяснится, что десятое по встречаемости слово встречается n раз, и имеется еще несколько слов, не включенных в десятку, но которые тоже встречаются n раз, то придется расширить десятку, включив в нее и эти слова. \n",
    "\n",
    "Чтобы процессу не мешали числа и знаки препинания, можно предварительно заместить их все пробелами. \n",
    "Чтобы не было путаницы с регистрами, можно привести весь текст к нижнему регистру. Однако в таком случае собственные имена будут тоже приведены в нижнем регистре. Поэтому лучше не приводить текст к нижнему регистру, а при занесении очередного слова в словарь проводить проверку, с тем чтобы слова, имеющие первую букву только в верхнем регистре, заносились именно в таком виде, а слова, которые встречаются в тексте с первой буквой в верхнем и нижнем регистре, заносились в нижнем регистре.\n",
    "\n"
   ]
  },
  {
   "cell_type": "markdown",
   "metadata": {},
   "source": [
    "Загружаем текстовый файл:"
   ]
  },
  {
   "cell_type": "code",
   "execution_count": 71,
   "metadata": {},
   "outputs": [],
   "source": [
    "# import\n",
    "\n",
    "file_name = 'GospelJohn.txt' # file with text\n",
    "# file_name = 'example.txt' # file with text\n",
    "try:\n",
    "    file_obj = open(file_name,\"r\") # open file\n",
    "    text = file_obj.read()         # reading file \n",
    "except:\n",
    "    print('Error reading file!')"
   ]
  },
  {
   "cell_type": "markdown",
   "metadata": {},
   "source": [
    "Убираем не-алфавитные знаки и разбиваем текст на слова. Рассчитываем встречаемость каждого слова в тексте"
   ]
  },
  {
   "cell_type": "code",
   "execution_count": null,
   "metadata": {},
   "outputs": [
    {
     "name": "stdout",
     "output_type": "stream",
     "text": [
      "{'not': 16, 'in': 10, 'the': 67, 'beginning': 2, 'was': 24, 'Word': 4, 'and': 62, 'with': 7, 'God': 12, 'same': 4, 'all': 3, 'things': 3, 'were': 5, 'made': 6, 'by': 5, 'him': 39, 'without': 1, 'any': 3, 'thing': 2, 'that': 18, 'life': 2, 'light': 6, 'of': 41, 'men': 2, 'shineth': 1, 'darkness': 2, 'comprehended': 1, 'it': 4, 'there': 3, 'a': 5, 'man': 6, 'sent': 6, 'from': 3, 'whose': 2, 'name': 2, 'John': 9, 'came': 4, 'for': 6, 'witness': 4, 'to': 13, 'bear': 2, 'through': 1, 'might': 1, 'believe': 2, 'he': 26, 'but': 8, 'true': 1, 'which': 11, 'lighteth': 1, 'every': 1, 'cometh': 3, 'into': 2, 'world': 5, 'knew': 3, 'unto': 20, 'his': 7, 'own': 3, 'received': 3, 'as': 5, 'many': 1, 'them': 7, 'gave': 1, 'power': 1, 'become': 1, 'sons': 1, 'even': 1, 'on': 2, 'born': 1, 'blood': 1, 'nor': 3, 'will': 2, 'flesh': 2, 'dwelt': 2, 'among': 2, 'us': 2, 'we': 5, 'beheld': 2, 'glory': 2, 'only': 2, 'begotten': 2, 'Father': 2, 'full': 1, 'grace': 4, 'truth': 2, 'bare': 3, 'cried': 1, 'saying': 3, 'this': 4, 'whom': 6, 'I': 16, 'spake': 1, 'after': 4, 'me': 12, 'is': 13, 'preferred': 3, 'before': 6, 'fulness': 1, 'have': 3, 'law': 2, 'given': 1, 'Moses': 2, 'Jesus': 12, 'Christ': 4, 'no': 3, 'hath': 2, 'seen': 1, 'at': 1, 'time': 1, 'son': 6, 'bosom': 1, 'declared': 1, 'record': 3, 'when': 3, 'Jews': 1, 'priests': 1, 'Levites': 1, 'Jerusalem': 1, 'ask': 1, 'who': 3, 'art': 7, 'thou': 17, 'confessed': 2, 'denied': 1, 'am': 5, 'they': 7, 'asked': 2, 'What': 3, 'then': 4, 'Elias': 2, 'saith': 13, 'prophet': 3, 'answered': 5, 'said': 12, 'may': 1, 'give': 1, 'an': 2, 'answer': 1, 'sayest': 1, 'thyself': 1, 'voice': 1, 'one': 3, 'crying': 1, 'wilderness': 1, 'Make': 1, 'straight': 1, 'way': 1, 'Lord': 1, 'Esaias': 1, 'Pharisees': 1, 'Why': 1, 'baptizest': 1, 'if': 1, 'be': 3, 'neither': 1, 'baptize': 2, 'water': 3, 'standeth': 1, 'you': 2, 'ye': 3, 'know': 1, 'coming': 3, 'shoe': 1, 's': 2, 'latchet': 1, 'worthy': 1, 'unloose': 1, 'these': 2, 'done': 1, 'Bethabara': 1, 'beyond': 1, 'Jordan': 1, 'where': 3, 'baptizing': 2, 'next': 2, 'day': 4, 'seeth': 1, 'Behold': 3, 'Lamb': 2, 'taketh': 1, 'away': 1, 'sin': 1, 'should': 1, 'manifest': 1, 'Israel': 2, 'therefore': 1, 'come': 4, 'saw': 7, 'Spirit': 2, 'descending': 3, 'heaven': 2, 'like': 1, 'dove': 1, 'abode': 2, 'upon': 4, 'shalt': 3, 'see': 5, 'remaining': 1, 'baptizeth': 1, 'Holy': 1, 'Ghost': 1, 'Again': 1, 'stood': 1, 'two': 3, 'disciples': 2, 'looking': 1, 'walked': 1, 'heard': 2, 'speak': 2, 'followed': 2, 'turned': 1, 'following': 2, 'seek': 1, 'Rabbi': 2, 'say': 2, 'being': 2, 'interpreted': 2, 'Master': 1, 'dwellest': 1, 'about': 1, 'tenth': 1, 'hour': 1, 'Andrew': 2, 'Simon': 3, 'Peter': 2, 'brother': 2, 'first': 1, 'findeth': 3, 'found': 2, 'Messias': 1, 'brought': 1, 'Jona': 1, 'called': 2, 'Cephas': 1, 'interpretation': 1, 'stone': 1, 'would': 1, 'go': 1, 'forth': 1, 'Galilee': 1, 'Philip': 5, 'Follow': 1, 'Now': 1, 'Bethsaida': 1, 'city': 1, 'Nathanael': 5, 'prophets': 1, 'did': 1, 'write': 1, 'Nazareth': 2, 'Joseph': 1, 'Can': 1, 'good': 1, 'out': 1, 'Israelite': 1, 'indeed': 1, 'guile': 1, 'Whence': 1, 'knowest': 1, 'thee': 4, 'wast': 1, 'under': 2, 'fig': 2, 'tree': 2, 'King': 1, 'Because': 1, 'believest': 1, 'greater': 1, 'than': 1, 'verily': 2, 'Hereafter': 1, 'shall': 1, 'open': 1, 'angels': 1, 'ascending': 1}\n"
     ]
    }
   ],
   "source": [
    "# replace non-alphabetic signs by whitespaces:\n",
    "text_no_signs = \"\".join([c if c.isalpha() else \" \" for c in text])\n",
    "\n",
    "word_list = text_no_signs.split() # split text into words and put to the list\n",
    "word_dict = dict() # empty dictionary for all words\n",
    "# putting all the words into dict:\n",
    "for aword in word_list:\n",
    "    if (aword in word_dict) or aword.lower() in word_dict: # if already in dict\n",
    "        if aword.lower() in word_list: # check if the word exists in lower case\n",
    "            word_dict[aword.lower()] += 1\n",
    "        else:\n",
    "            word_dict[aword] += 1            \n",
    "    else:                                                   # if not in dict yet\n",
    "        if aword.lower() in word_list: # check if the word exists in lower case\n",
    "            word_dict[aword.lower()] = 1\n",
    "        else:\n",
    "            word_dict[aword] = 1  \n",
    "                 \n",
    "\n",
    "# print(word_dict)   \n"
   ]
  },
  {
   "cell_type": "markdown",
   "metadata": {},
   "source": [
    "Сортируем словарь по увеличению частоты встречаемости слова, извлекаем десять последних (то есть самых частых) слов.\n",
    "Если 11-е, 12-е и т.д. слова встречаются так же часто, как и десятое, выводим также и их, потому что по факту они все делят десятое место в списке наиболее частых слов"
   ]
  },
  {
   "cell_type": "code",
   "execution_count": null,
   "metadata": {},
   "outputs": [
    {
     "name": "stdout",
     "output_type": "stream",
     "text": [
      "The most frequent words:\n",
      "1. The word \"the\" has the frequency 67\n",
      "2. The word \"and\" has the frequency 62\n",
      "3. The word \"of\" has the frequency 41\n",
      "4. The word \"him\" has the frequency 39\n",
      "5. The word \"he\" has the frequency 26\n",
      "6. The word \"was\" has the frequency 24\n",
      "7. The word \"unto\" has the frequency 20\n",
      "8. The word \"that\" has the frequency 18\n",
      "9. The word \"thou\" has the frequency 17\n",
      "10. The word \"I\" has the frequency 16\n"
     ]
    }
   ],
   "source": [
    "# sorting the list of the most frequent words:\n",
    "word_dict_sorted = sorted(word_dict.items(), key = lambda item: item[1])\n",
    "print('The most frequent words:')\n",
    "# extracting the most frequent words\n",
    "for i in range(10):\n",
    "    aword = word_dict_sorted[-i-1][0]\n",
    "    frequency = word_dict_sorted[-i-1][1]\n",
    "    print(f'{i+1}. The word \"{aword}\" has the frequency {frequency}')\n",
    "# extracting also the 11th, 12th etc, if the frequency is the same as for the 10th one:\n",
    "while word_dict_sorted[-i-2][1] == word_dict_sorted[-10][1]:\n",
    "    aword = word_dict_sorted[-i-2][0]\n",
    "    frequency = word_dict_sorted[-i-2][1]\n",
    "    print(f'{i}. The word \"{aword}\" has frequency {frequency}')\n",
    "    i += 1"
   ]
  },
  {
   "cell_type": "code",
   "execution_count": 70,
   "metadata": {},
   "outputs": [
    {
     "data": {
      "text/plain": [
       "('not', 14)"
      ]
     },
     "execution_count": 70,
     "metadata": {},
     "output_type": "execute_result"
    }
   ],
   "source": [
    "word_dict_sorted[-11]\n"
   ]
  }
 ],
 "metadata": {
  "kernelspec": {
   "display_name": "Python 3",
   "language": "python",
   "name": "python3"
  },
  "language_info": {
   "codemirror_mode": {
    "name": "ipython",
    "version": 3
   },
   "file_extension": ".py",
   "mimetype": "text/x-python",
   "name": "python",
   "nbconvert_exporter": "python",
   "pygments_lexer": "ipython3",
   "version": "3.12.7"
  }
 },
 "nbformat": 4,
 "nbformat_minor": 2
}
