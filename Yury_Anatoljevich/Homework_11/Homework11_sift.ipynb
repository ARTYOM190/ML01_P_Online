{
 "cells": [
  {
   "cell_type": "markdown",
   "metadata": {},
   "source": [
    "Для любых видео восстановить траекторию движения (t вектор). Выполнить визуализацию. \n",
    "Определить параметры которые влияют на \"точность\" определения вектора t\n",
    "Использовать решение на базе нейронных сетей. \n",
    "Любые идеи. \n",
    "\n",
    "***slam прикрутить. \n",
    "Видео 1 но что бы работало.    \n",
    "\n",
    "Анализ задания и пути решения.\n",
    "Грузим из интернета качественное видео полета дрона. Сохраняем кусок не менее 2 мин.\n",
    "Анализируем с помощью детектора sift.\n",
    "Выводим траекторию на трехмерный график.\n",
    "Результаты сохраняем в таблице csv.\n"
   ]
  },
  {
   "cell_type": "code",
   "execution_count": 41,
   "metadata": {},
   "outputs": [],
   "source": [
    "# quit # reset all variables for repeated run of the program\n",
    "\n",
    "# loading necessary libraries and two pictures\n",
    "import cv2\n",
    "import numpy as np\n",
    "import matplotlib.pyplot as plt\n",
    "\n",
    "def filter_matches_distance(matches, dist_threshold):\n",
    "    \"\"\"\n",
    "    Filter matched features from two images by distance between the best matches\n",
    "\n",
    "    Arguments:\n",
    "    match -- list of matched features from two images\n",
    "    dist_threshold -- maximum allowed relative distance between the best matches, (0.0, 1.0) \n",
    "\n",
    "    Returns:\n",
    "    filtered_match -- list of good matches, satisfying the distance threshold\n",
    "    \"\"\"\n",
    "    filtered_match = []\n",
    "    for m, n in matches:\n",
    "        if m.distance <= dist_threshold * n.distance:\n",
    "            filtered_match.append(m)\n",
    "\n",
    "    return filtered_match"
   ]
  },
  {
   "cell_type": "markdown",
   "metadata": {},
   "source": [
    "Согласно информации из лекции, это не будет работать если:\n",
    "- Небольшое перемещение камеры (должно быть минимум несколько пикселей)\n",
    "- Не исправленное изображение\n",
    "- Мало точек или точки все сосредоточены в одной области\n",
    "\n",
    "Поэтому мы далее анализируем не соседние кадры, а через N (например, 5 или 10) кадров. Учитывая фреймрейт 30 кадров в секунду, это вполне еще ВЧ дискретизация по времени."
   ]
  },
  {
   "cell_type": "code",
   "execution_count": 42,
   "metadata": {},
   "outputs": [],
   "source": [
    "def match_features(des1, des2, matching='BF', detector='sift', sort=True, k=2):\n",
    "    \"\"\"\n",
    "    Match features from two images\n",
    "\n",
    "    Arguments:\n",
    "    des1 -- list of the keypoint descriptors in the first image\n",
    "    des2 -- list of the keypoint descriptors in the second image\n",
    "    matching -- (str) can be 'BF' for Brute Force or 'FLANN'\n",
    "    detector -- (str) can be 'sift or 'orb'. Default is 'sift'\n",
    "    sort -- (bool) whether to sort matches by distance. Default is True\n",
    "    k -- (int) number of neighbors to match to each feature.\n",
    "\n",
    "    Returns:\n",
    "    matches -- list of matched features from two images. Each match[i] is k or less matches for \n",
    "               the same query descriptor\n",
    "    \"\"\"\n",
    "    if matching == 'BF':\n",
    "        if detector == 'sift':\n",
    "            matcher = cv2.BFMatcher_create(cv2.NORM_L2, crossCheck=False)\n",
    "        elif detector == 'orb':\n",
    "            matcher = cv2.BFMatcher_create(cv2.NORM_HAMMING2, crossCheck=False)\n",
    "        matches = matcher.knnMatch(des1, des2, k=k)\n",
    "    elif matching == 'FLANN':\n",
    "        FLANN_INDEX_KDTREE = 1\n",
    "        index_params = dict(algorithm = FLANN_INDEX_KDTREE, trees=5)\n",
    "        search_params = dict(checks=50)\n",
    "        matcher = cv2.FlannBasedMatcher(index_params, search_params)\n",
    "        matches = matcher.knnMatch(des1, des2, k=k)\n",
    "    \n",
    "    if sort:\n",
    "        matches = sorted(matches, key = lambda x:x[0].distance)\n",
    "\n",
    "    return matches"
   ]
  },
  {
   "cell_type": "code",
   "execution_count": null,
   "metadata": {},
   "outputs": [],
   "source": []
  },
  {
   "cell_type": "markdown",
   "metadata": {},
   "source": [
    "Загружаем видео и считываем попарно кадр и следующий кадр. Рассчитываем позицию камеры, если номер следующего считанного кадра кратен десяти."
   ]
  },
  {
   "cell_type": "code",
   "execution_count": null,
   "metadata": {},
   "outputs": [
    {
     "name": "stdout",
     "output_type": "stream",
     "text": [
      "Video is opened\n",
      "Current frame is 5\n",
      "Current frame is 10\n",
      "Current frame is 15\n",
      "Current frame is 20\n",
      "Current frame is 25\n",
      "Current frame is 30\n",
      "Current frame is 35\n",
      "Current frame is 40\n",
      "Current frame is 45\n",
      "Current frame is 50\n",
      "Current frame is 55\n",
      "Current frame is 60\n",
      "Current frame is 65\n",
      "Current frame is 70\n",
      "Current frame is 75\n",
      "Current frame is 80\n",
      "Current frame is 85\n",
      "Current frame is 90\n",
      "Current frame is 95\n",
      "Current frame is 100\n",
      "Current frame is 105\n",
      "Current frame is 110\n",
      "Current frame is 115\n",
      "Current frame is 120\n",
      "Current frame is 125\n",
      "Current frame is 130\n",
      "Current frame is 135\n",
      "Current frame is 140\n",
      "Current frame is 145\n",
      "Current frame is 150\n",
      "Current frame is 155\n",
      "Current frame is 160\n",
      "Current frame is 165\n",
      "Current frame is 170\n",
      "Current frame is 175\n",
      "Current frame is 180\n",
      "Current frame is 185\n",
      "Current frame is 190\n",
      "Current frame is 195\n",
      "Current frame is 200\n",
      "Current frame is 205\n",
      "Current frame is 210\n",
      "Current frame is 215\n",
      "Current frame is 220\n",
      "Current frame is 225\n",
      "Current frame is 230\n",
      "Current frame is 235\n",
      "Current frame is 240\n",
      "Current frame is 245\n",
      "Current frame is 250\n",
      "Current frame is 255\n",
      "Current frame is 260\n",
      "Current frame is 265\n",
      "Current frame is 270\n",
      "Current frame is 275\n",
      "Current frame is 280\n",
      "Current frame is 285\n",
      "Current frame is 290\n",
      "Current frame is 295\n",
      "Current frame is 300\n",
      "Current frame is 305\n",
      "Current frame is 310\n",
      "Current frame is 315\n",
      "Current frame is 320\n",
      "Current frame is 325\n",
      "Current frame is 330\n",
      "Current frame is 335\n",
      "Current frame is 340\n",
      "Current frame is 345\n",
      "Current frame is 350\n",
      "Current frame is 355\n",
      "Current frame is 360\n",
      "Current frame is 365\n",
      "Current frame is 370\n",
      "Current frame is 375\n",
      "Current frame is 380\n",
      "Current frame is 385\n",
      "Current frame is 390\n",
      "Current frame is 395\n",
      "Current frame is 400\n",
      "Current frame is 405\n",
      "Current frame is 410\n",
      "Current frame is 415\n",
      "Current frame is 420\n",
      "Current frame is 425\n",
      "Current frame is 430\n",
      "Current frame is 435\n",
      "Current frame is 440\n",
      "Current frame is 445\n",
      "Current frame is 450\n",
      "Current frame is 455\n",
      "Current frame is 460\n",
      "Current frame is 465\n",
      "Current frame is 470\n",
      "Current frame is 475\n",
      "Current frame is 480\n",
      "Current frame is 485\n",
      "Current frame is 490\n",
      "Current frame is 495\n",
      "Current frame is 500\n",
      "Current frame is 505\n",
      "Current frame is 510\n",
      "Current frame is 515\n",
      "Current frame is 520\n",
      "Current frame is 525\n",
      "Current frame is 530\n",
      "Current frame is 535\n",
      "Current frame is 540\n",
      "Current frame is 545\n",
      "Current frame is 550\n",
      "Current frame is 555\n",
      "Current frame is 560\n",
      "Current frame is 565\n",
      "Current frame is 570\n",
      "Current frame is 575\n",
      "Current frame is 580\n",
      "Current frame is 585\n",
      "Current frame is 590\n",
      "Current frame is 595\n",
      "Current frame is 600\n",
      "Current frame is 605\n",
      "Current frame is 610\n",
      "Current frame is 615\n",
      "Current frame is 620\n",
      "Current frame is 625\n",
      "Current frame is 630\n",
      "Current frame is 635\n",
      "Current frame is 640\n",
      "Current frame is 645\n",
      "Current frame is 650\n",
      "Current frame is 655\n",
      "Current frame is 660\n",
      "Current frame is 665\n",
      "Current frame is 670\n",
      "Current frame is 675\n",
      "Current frame is 680\n",
      "Current frame is 685\n",
      "Current frame is 690\n",
      "Current frame is 695\n",
      "Current frame is 700\n",
      "Current frame is 705\n",
      "Current frame is 710\n",
      "Current frame is 715\n",
      "Current frame is 720\n",
      "Current frame is 725\n",
      "Current frame is 730\n",
      "Current frame is 735\n",
      "Current frame is 740\n",
      "Current frame is 745\n",
      "Current frame is 750\n",
      "Current frame is 755\n",
      "Current frame is 760\n",
      "Current frame is 765\n",
      "Current frame is 770\n",
      "Current frame is 775\n",
      "Current frame is 780\n",
      "Current frame is 785\n",
      "Current frame is 790\n",
      "Current frame is 795\n",
      "Current frame is 800\n",
      "Current frame is 805\n",
      "Current frame is 810\n",
      "Current frame is 815\n",
      "Current frame is 820\n",
      "Current frame is 825\n",
      "Current frame is 830\n",
      "Current frame is 835\n",
      "Current frame is 840\n",
      "Current frame is 845\n",
      "Current frame is 850\n",
      "Current frame is 855\n",
      "Current frame is 860\n",
      "Current frame is 865\n",
      "Current frame is 870\n",
      "Current frame is 875\n",
      "Current frame is 880\n",
      "Current frame is 885\n",
      "Current frame is 890\n",
      "Current frame is 895\n",
      "Current frame is 900\n",
      "Current frame is 905\n",
      "Current frame is 910\n",
      "Current frame is 915\n",
      "Current frame is 920\n",
      "Current frame is 925\n",
      "Current frame is 930\n",
      "Current frame is 935\n",
      "Current frame is 940\n",
      "Current frame is 945\n",
      "Current frame is 950\n",
      "Current frame is 955\n",
      "Current frame is 960\n",
      "Current frame is 965\n",
      "Current frame is 970\n",
      "Current frame is 975\n",
      "Current frame is 980\n",
      "Current frame is 985\n",
      "Current frame is 990\n",
      "Current frame is 995\n",
      "Current frame is 1000\n",
      "Current frame is 1005\n",
      "Current frame is 1010\n",
      "Current frame is 1015\n",
      "Current frame is 1020\n",
      "Current frame is 1025\n",
      "Current frame is 1030\n",
      "Current frame is 1035\n",
      "Current frame is 1040\n",
      "Current frame is 1045\n",
      "Current frame is 1050\n",
      "Current frame is 1055\n",
      "Current frame is 1060\n",
      "Current frame is 1065\n",
      "Current frame is 1070\n",
      "Current frame is 1075\n",
      "Current frame is 1080\n",
      "Current frame is 1085\n",
      "Current frame is 1090\n",
      "Current frame is 1095\n",
      "Current frame is 1100\n",
      "Current frame is 1105\n",
      "Current frame is 1110\n",
      "Current frame is 1115\n",
      "Current frame is 1120\n",
      "Current frame is 1125\n",
      "Current frame is 1130\n",
      "Current frame is 1135\n",
      "Current frame is 1140\n",
      "Current frame is 1145\n",
      "Current frame is 1150\n",
      "Current frame is 1155\n",
      "Current frame is 1160\n",
      "Current frame is 1165\n",
      "Current frame is 1170\n",
      "Current frame is 1175\n",
      "Current frame is 1180\n",
      "Current frame is 1185\n",
      "Current frame is 1190\n",
      "Current frame is 1195\n",
      "Current frame is 1200\n",
      "Current frame is 1205\n",
      "Current frame is 1210\n",
      "Current frame is 1215\n",
      "Current frame is 1220\n",
      "Current frame is 1225\n",
      "Current frame is 1230\n",
      "Current frame is 1235\n",
      "Current frame is 1240\n",
      "Current frame is 1245\n",
      "Current frame is 1250\n",
      "The video is over\n"
     ]
    }
   ],
   "source": [
    "\n",
    "# video_path = 'vid.mp4'  # file name (and path if necessary)\n",
    "video_path = 'narach.mp4'  # file name (and path if necessary)\n",
    "myvid = cv2.VideoCapture(video_path) # loading into cv2\n",
    "# Check if video opened successfully\n",
    "if not myvid.isOpened():\n",
    "     print(\"Video file not found\")\n",
    "else:\n",
    "     print(\"Video is opened\") \n",
    "\n",
    "# camera matrix K\n",
    "K = np.array([[3000 ,   0.    , 960],\n",
    "       [  0.    , 3000 , 540 ],\n",
    "      [  0.    ,   0.    ,   1.]], dtype=np.float32)\n",
    "\n",
    "sift = cv2.SIFT_create()\n",
    "poses = [] # list for camera poses\n",
    "# List for camera positions\n",
    "positions = [np.array([0, 0, 0])]\n",
    "\n",
    "# Reading the first frame of the video\n",
    "ret, frame = myvid.read()\n",
    "img1 = cv2. cvtColor(frame, cv2. COLOR_BGR2GRAY)\n",
    "i = 0\n",
    "interval = 5 # interval between frames considered, e.g. interval = 5 for each 5th frame to be taken into account\n",
    "while True: # i < 1000:\n",
    "     i += 1\n",
    "     ret, frame = myvid.read() # read next frame          \n",
    "     if ret and i % interval == 0: # each 10-th frame\n",
    "         print(f'Current frame is {i}')\n",
    "         img2 = cv2. cvtColor(frame, cv2. COLOR_BGR2GRAY)\n",
    "         try:\n",
    "             keypoints1, descriptors1 = sift.detectAndCompute(img1, None)\n",
    "             keypoints2, descriptors2 = sift.detectAndCompute(img2, None)      \n",
    "             matches = match_features(descriptors1, descriptors2, matching = 'BF', detector = 'sift', sort = True)\n",
    "             matches = filter_matches_distance(matches, 0.7)\n",
    "             # matches = matcher.match(np.array(descriptors1,dtype=np.uint8), np.array(descriptors2,dtype=np.uint8))\n",
    "             pts1 = np.float32([keypoints1[m.queryIdx].pt for m in matches]).reshape(-1, 1, 2)\n",
    "             pts2 = np.float32([keypoints2[m.trainIdx].pt for m in matches]).reshape(-1, 1, 2)\n",
    "       \n",
    "             F, mask = cv2.findEssentialMat(pts1, pts2, K, method=cv2.LMEDS, prob = 0.999, threshold = 1.0) # LMEDS    \n",
    "             # F, mask = cv2.findEssentialMat(pts1, pts2, K, method=cv2.RANSAC, prob = 0.999, threshold = 1.0) #RANSAC    \n",
    "             a, R, t, b = cv2.recoverPose(F, pts1, pts2, K, mask)\n",
    "             # print(R)\n",
    "             poses.append((R, t))\n",
    "\n",
    "             # Обновить позицию камеры\n",
    "             current_position = positions[-1]\n",
    "             new_position = current_position + np.dot(R, t).T[0]\n",
    "             positions.append(new_position)\n",
    "             # Saving current frame as previous one\n",
    "             img1 = img2 \n",
    "         except:\n",
    "              pass\n",
    "     elif ret and i % interval != 0:\n",
    "          pass\n",
    "     else:\n",
    "          print('The video is over')\n",
    "          myvid.release()          # releasing video channel after viewing is over\n",
    "          # cv2.destroyAllWindows()  # close all windows\n",
    "          break                    # break the cycle\n"
   ]
  },
  {
   "cell_type": "markdown",
   "metadata": {},
   "source": [
    "Визуализируем результат\n"
   ]
  },
  {
   "cell_type": "code",
   "execution_count": 44,
   "metadata": {},
   "outputs": [
    {
     "name": "stdout",
     "output_type": "stream",
     "text": [
      "[(array([[ 9.99998955e-01, -4.56662280e-04,  1.37141661e-03],\n",
      "       [ 4.57904506e-04,  9.99999485e-01, -9.05620328e-04],\n",
      "       [-1.37100234e-03,  9.06247360e-04,  9.99998650e-01]]), array([[-0.48763349],\n",
      "       [-0.0354462 ],\n",
      "       [ 0.87232858]])), (array([[ 0.99997972, -0.00106224,  0.00627896],\n",
      "       [ 0.00107229,  0.99999815, -0.00159831],\n",
      "       [-0.00627725,  0.00160501,  0.99997901]]), array([[ 0.98119254],\n",
      "       [-0.18401272],\n",
      "       [-0.05831391]])), (array([[ 0.99995569, -0.00121749,  0.00933478],\n",
      "       [ 0.00123165,  0.9999981 , -0.00151133],\n",
      "       [-0.00933292,  0.00152276,  0.99995529]]), array([[ 0.99035845],\n",
      "       [-0.13789556],\n",
      "       [-0.01322681]])), (array([[ 0.99982472, -0.00231375,  0.01857913],\n",
      "       [ 0.0022863 ,  0.99999626,  0.00149835],\n",
      "       [-0.01858252, -0.00145561,  0.99982627]]), array([[-0.99283011],\n",
      "       [-0.09831942],\n",
      "       [-0.0679828 ]])), (array([[ 0.99990103, -0.00153645,  0.01398431],\n",
      "       [ 0.0014765 ,  0.99998968,  0.00429594],\n",
      "       [-0.01399076, -0.00427486,  0.99989299]]), array([[-0.94023809],\n",
      "       [-0.3207807 ],\n",
      "       [-0.11424568]])), (array([[ 0.99993828, -0.00137413,  0.0110245 ],\n",
      "       [ 0.00135021,  0.99999672,  0.00217681],\n",
      "       [-0.01102745, -0.00216179,  0.99993686]]), array([[-0.97184692],\n",
      "       [-0.21928455],\n",
      "       [-0.08618494]])), (array([[ 9.99989948e-01, -4.27436995e-03,  1.35383003e-03],\n",
      "       [ 4.27407697e-03,  9.99990842e-01,  2.19228571e-04],\n",
      "       [-1.35475470e-03, -2.13439994e-04,  9.99999060e-01]]), array([[-0.16444852],\n",
      "       [ 0.09640404],\n",
      "       [ 0.98166336]])), (array([[ 0.99989962, -0.00141058,  0.01409807],\n",
      "       [ 0.00134025,  0.99998661,  0.00499736],\n",
      "       [-0.01410493, -0.00497796,  0.99988813]]), array([[0.91920449],\n",
      "       [0.36073391],\n",
      "       [0.1579055 ]])), (array([[ 9.99988139e-01, -3.89567640e-04,  4.85490613e-03],\n",
      "       [ 3.84919150e-04,  9.99999467e-01,  9.58380523e-04],\n",
      "       [-4.85527689e-03, -9.56500410e-04,  9.99987756e-01]]), array([[-0.94613115],\n",
      "       [-0.22098689],\n",
      "       [-0.23664454]])), (array([[ 9.99999968e-01, -1.10138976e-04,  2.29107377e-04],\n",
      "       [ 1.10093090e-04,  9.99999974e-01,  2.00284578e-04],\n",
      "       [-2.29129430e-04, -2.00259348e-04,  9.99999954e-01]]), array([[0.15659566],\n",
      "       [0.12893804],\n",
      "       [0.97921028]])), (array([[ 9.99999981e-01,  1.60466506e-04,  1.14286867e-04],\n",
      "       [-1.60475614e-04,  9.99999984e-01,  7.96907774e-05],\n",
      "       [-1.14274077e-04, -7.97091162e-05,  9.99999990e-01]]), array([[-0.14246752],\n",
      "       [-0.11191831],\n",
      "       [-0.98345173]])), (array([[ 9.99999831e-01,  3.55587291e-04,  4.60300668e-04],\n",
      "       [-3.55614626e-04,  9.99999935e-01,  5.93054874e-05],\n",
      "       [-4.60279550e-04, -5.94691670e-05,  9.99999892e-01]]), array([[0.58096098],\n",
      "       [0.13448929],\n",
      "       [0.8027434 ]])), (array([[ 9.99999895e-01,  3.20604208e-04,  3.26717745e-04],\n",
      "       [-3.20642929e-04,  9.99999942e-01,  1.18468800e-04],\n",
      "       [-3.26679744e-04, -1.18573547e-04,  9.99999940e-01]]), array([[0.24910898],\n",
      "       [0.08343027],\n",
      "       [0.96487518]])), (array([[ 9.99999954e-01,  2.88094685e-04,  9.82585906e-05],\n",
      "       [-2.88104823e-04,  9.99999953e-01,  1.03177601e-04],\n",
      "       [-9.82288611e-05, -1.03205905e-04,  9.99999990e-01]]), array([[0.13555552],\n",
      "       [0.05056314],\n",
      "       [0.98947869]])), (array([[ 9.99999999e-01,  3.71507252e-05,  1.44796675e-05],\n",
      "       [-3.71536346e-05,  9.99999979e-01,  2.00979750e-04],\n",
      "       [-1.44722006e-05, -2.00980288e-04,  9.99999980e-01]]), array([[0.14397568],\n",
      "       [0.05859909],\n",
      "       [0.9878447 ]])), (array([[ 9.99999997e-01,  8.10487013e-05,  1.35015533e-05],\n",
      "       [-8.10512151e-05,  9.99999979e-01,  1.86287068e-04],\n",
      "       [-1.34864547e-05, -1.86288162e-04,  9.99999983e-01]]), array([[0.14916022],\n",
      "       [0.02112221],\n",
      "       [0.98858742]])), (array([[ 9.99999992e-01, -1.17314697e-04,  4.68591292e-05],\n",
      "       [ 1.17303294e-04,  9.99999964e-01,  2.43273483e-04],\n",
      "       [-4.68876671e-05, -2.43267984e-04,  9.99999969e-01]]), array([[-0.11794319],\n",
      "       [-0.0474166 ],\n",
      "       [-0.99188763]])), (array([[ 9.99999934e-01,  5.52325658e-05, -3.59432574e-04],\n",
      "       [-5.52326701e-05,  9.99999998e-01, -2.80106944e-07],\n",
      "       [ 3.59432558e-04,  2.99959346e-07,  9.99999935e-01]]), array([[-0.98576304],\n",
      "       [ 0.01083476],\n",
      "       [-0.16779105]])), (array([[ 9.99999959e-01,  2.85285686e-04,  3.03936634e-05],\n",
      "       [-2.85286682e-04,  9.99999959e-01,  3.27459760e-05],\n",
      "       [-3.03843202e-05, -3.27546455e-05,  9.99999999e-01]]), array([[ 0.3593135 ],\n",
      "       [-0.05354832],\n",
      "       [ 0.93167934]])), (array([[ 9.99999992e-01,  6.71815575e-05, -1.04625133e-04],\n",
      "       [-6.71738081e-05,  9.99999995e-01,  7.40704857e-05],\n",
      "       [ 1.04630109e-04, -7.40634570e-05,  9.99999992e-01]]), array([[ 0.15165324],\n",
      "       [-0.00888983],\n",
      "       [ 0.98839378]])), (array([[ 9.99999941e-01, -4.22611274e-05, -3.40020418e-04],\n",
      "       [ 4.22619133e-05,  9.99999999e-01,  2.30422926e-06],\n",
      "       [ 3.40020320e-04, -2.31859903e-06,  9.99999942e-01]]), array([[ 0.1324612 ],\n",
      "       [-0.01407653],\n",
      "       [ 0.99108823]])), (array([[ 9.99999955e-01,  2.92032248e-04, -6.18688916e-05],\n",
      "       [-2.92026165e-04,  9.99999953e-01,  9.83001577e-05],\n",
      "       [ 6.18975954e-05, -9.82820860e-05,  9.99999993e-01]]), array([[ 0.12614954],\n",
      "       [-0.01723536],\n",
      "       [ 0.9918615 ]])), (array([[ 9.99999939e-01,  2.13671828e-04, -2.76455812e-04],\n",
      "       [-2.13588377e-04,  9.99999932e-01,  3.01852822e-04],\n",
      "       [ 2.76520290e-04, -3.01793756e-04,  9.99999916e-01]]), array([[ 0.30702644],\n",
      "       [-0.11015165],\n",
      "       [ 0.94530491]])), (array([[ 9.99999940e-01, -2.94623709e-04, -1.79617582e-04],\n",
      "       [ 2.94672345e-04,  9.99999920e-01,  2.70804968e-04],\n",
      "       [ 1.79537782e-04, -2.70857880e-04,  9.99999947e-01]]), array([[ 0.50868976],\n",
      "       [-0.1064048 ],\n",
      "       [ 0.85434931]])), (array([[ 9.99999978e-01,  2.47674936e-07,  2.08496158e-04],\n",
      "       [-3.77454144e-07,  9.99999806e-01,  6.22453905e-04],\n",
      "       [-2.08495964e-04, -6.22453970e-04,  9.99999785e-01]]), array([[0.1666569 ],\n",
      "       [0.09022228],\n",
      "       [0.98187851]])), (array([[ 9.99999980e-01, -2.86651744e-05, -1.99051595e-04],\n",
      "       [ 2.87085247e-05,  9.99999976e-01,  2.17784680e-04],\n",
      "       [ 1.99045348e-04, -2.17790390e-04,  9.99999956e-01]]), array([[ 0.24725618],\n",
      "       [-0.03886129],\n",
      "       [ 0.96817053]])), (array([[ 9.99999885e-01, -1.50543341e-05,  4.79046065e-04],\n",
      "       [ 1.48582534e-05,  9.99999916e-01,  4.09315935e-04],\n",
      "       [-4.79052187e-04, -4.09308770e-04,  9.99999801e-01]]), array([[-0.37246877],\n",
      "       [-0.06143215],\n",
      "       [-0.92600924]])), (array([[ 9.99999962e-01, -4.08513357e-05, -2.71057326e-04],\n",
      "       [ 4.08898116e-05,  9.99999989e-01,  1.41943293e-04],\n",
      "       [ 2.71051525e-04, -1.41954371e-04,  9.99999953e-01]]), array([[ 0.15453231],\n",
      "       [-0.04627995],\n",
      "       [ 0.9869032 ]])), (array([[ 9.99999995e-01, -2.11296144e-05,  9.94506343e-05],\n",
      "       [ 2.11141994e-05,  9.99999988e-01,  1.55000335e-04],\n",
      "       [-9.94539081e-05, -1.54998235e-04,  9.99999983e-01]]), array([[0.30953269],\n",
      "       [0.06744694],\n",
      "       [0.94849376]])), (array([[ 9.99999986e-01,  4.42103844e-05, -1.61169447e-04],\n",
      "       [-4.42039477e-05,  9.99999998e-01,  3.99413276e-05],\n",
      "       [ 1.61171212e-04, -3.99342027e-05,  9.99999986e-01]]), array([[0.29726609],\n",
      "       [0.00733413],\n",
      "       [0.95476651]])), (array([[ 9.99999983e-01,  1.22409793e-04,  1.38962613e-04],\n",
      "       [-1.22428365e-04,  9.99999984e-01,  1.33648894e-04],\n",
      "       [-1.38946251e-04, -1.33665905e-04,  9.99999981e-01]]), array([[-0.2177692 ],\n",
      "       [-0.0133176 ],\n",
      "       [-0.97590943]])), (array([[ 9.99999983e-01,  1.57895544e-04, -9.59987928e-05],\n",
      "       [-1.57859151e-04,  9.99999916e-01,  3.78987463e-04],\n",
      "       [ 9.60586251e-05, -3.78972302e-04,  9.99999924e-01]]), array([[ 0.07131827],\n",
      "       [-0.08429805],\n",
      "       [ 0.99388508]])), (array([[ 9.99999996e-01,  5.63524205e-05,  6.49780847e-05],\n",
      "       [-5.64054057e-05,  9.99999666e-01,  8.15717471e-04],\n",
      "       [-6.49320954e-05, -8.15721133e-04,  9.99999665e-01]]), array([[-0.08114824],\n",
      "       [ 0.01875929],\n",
      "       [-0.99652549]])), (array([[ 9.99999800e-01,  6.27737082e-04, -7.55600340e-05],\n",
      "       [-6.27644451e-04,  9.99999059e-01,  1.21976755e-03],\n",
      "       [ 7.63256562e-05, -1.21971988e-03,  9.99999253e-01]]), array([[-0.09536644],\n",
      "       [ 0.05074991],\n",
      "       [-0.99414772]])), (array([[ 9.99999994e-01,  1.09564704e-04, -1.91498395e-05],\n",
      "       [-1.09540815e-04,  9.99999221e-01,  1.24306924e-03],\n",
      "       [ 1.92860211e-05, -1.24306714e-03,  9.99999227e-01]]), array([[-0.10362771],\n",
      "       [ 0.03045858],\n",
      "       [-0.99414967]])), (array([[ 9.99999167e-01,  1.28990138e-03,  3.62408805e-05],\n",
      "       [-1.28994011e-03,  9.99998574e-01,  1.08960166e-03],\n",
      "       [-3.48353502e-05, -1.08964751e-03,  9.99999406e-01]]), array([[-0.14359743],\n",
      "       [ 0.03721703],\n",
      "       [-0.98893613]])), (array([[ 9.99998771e-01,  1.55644765e-03, -1.88793280e-04],\n",
      "       [-1.55621368e-03,  9.99998029e-01,  1.23316751e-03],\n",
      "       [ 1.90712268e-04, -1.23287219e-03,  9.99999222e-01]]), array([[ 0.10217565],\n",
      "       [-0.05674934],\n",
      "       [ 0.99314634]])), (array([[ 9.99999637e-01,  8.51745532e-04, -3.32732146e-05],\n",
      "       [-8.51712668e-04,  9.99999161e-01,  9.75523383e-04],\n",
      "       [ 3.41040844e-05, -9.75494689e-04,  9.99999524e-01]]), array([[ 0.12748595],\n",
      "       [-0.02455215],\n",
      "       [ 0.99153645]])), (array([[ 9.99999661e-01,  8.23381518e-04,  2.60358755e-05],\n",
      "       [-8.23383722e-04,  9.99999657e-01,  8.47489236e-05],\n",
      "       [-2.59660858e-05, -8.47703324e-05,  9.99999996e-01]]), array([[ 0.2627996 ],\n",
      "       [-0.06797279],\n",
      "       [ 0.96245315]])), (array([[ 9.99999618e-01,  8.07077800e-04,  3.36435577e-04],\n",
      "       [-8.07045784e-04,  9.99999670e-01, -9.52862732e-05],\n",
      "       [-3.36512370e-04,  9.50147179e-05,  9.99999939e-01]]), array([[ 0.29374886],\n",
      "       [-0.08159183],\n",
      "       [ 0.95239403]])), (array([[ 9.99999941e-01,  3.40936340e-04,  4.77909147e-05],\n",
      "       [-3.40933184e-04,  9.99999940e-01, -6.60319377e-05],\n",
      "       [-4.78134245e-05,  6.60156402e-05,  9.99999997e-01]]), array([[ 0.18710153],\n",
      "       [-0.06615944],\n",
      "       [ 0.98011017]])), (array([[ 9.99999713e-01, -2.95269425e-05,  7.57425637e-04],\n",
      "       [ 2.95192215e-05,  1.00000000e+00,  1.02048854e-05],\n",
      "       [-7.57425938e-04, -1.01825239e-05,  9.99999713e-01]]), array([[-0.25705455],\n",
      "       [ 0.03930189],\n",
      "       [-0.96559739]])), (array([[ 9.99994790e-01, -2.58135717e-03,  1.93807617e-03],\n",
      "       [ 2.57966464e-03,  9.99996290e-01,  8.75293110e-04],\n",
      "       [-1.94032842e-03, -8.70288963e-04,  9.99997739e-01]]), array([[-0.15157184],\n",
      "       [-0.04545242],\n",
      "       [-0.98740065]])), (array([[ 0.99972391, -0.00472227,  0.02301733],\n",
      "       [ 0.00431642,  0.99983491,  0.01765015],\n",
      "       [-0.02309687, -0.01754592,  0.99957925]]), array([[-0.73830567],\n",
      "       [-0.59200459],\n",
      "       [-0.32316451]])), (array([[ 0.99953193, -0.00577661,  0.03004238],\n",
      "       [ 0.00533485,  0.99987677,  0.01476417],\n",
      "       [-0.03012396, -0.01459698,  0.99943958]]), array([[-0.84582486],\n",
      "       [-0.42955964],\n",
      "       [-0.31632076]])), (array([[ 0.99928673, -0.00775605,  0.0369578 ],\n",
      "       [ 0.00693995,  0.99973036,  0.02215931],\n",
      "       [-0.03711971, -0.02188702,  0.99907111]]), array([[-0.80523051],\n",
      "       [-0.5027976 ],\n",
      "       [-0.31432213]])), (array([[ 0.99954736, -0.00629448,  0.02941865],\n",
      "       [ 0.00573542,  0.99980209,  0.01904933],\n",
      "       [-0.02953273, -0.01887198,  0.99938564]]), array([[-0.78883361],\n",
      "       [-0.53258754],\n",
      "       [-0.30674428]])), (array([[ 0.99960186, -0.00550073,  0.0276741 ],\n",
      "       [ 0.00510508,  0.99988404,  0.01434736],\n",
      "       [-0.02774981, -0.01420037,  0.99951403]]), array([[-0.83078405],\n",
      "       [-0.43924865],\n",
      "       [-0.3418457 ]])), (array([[ 0.99997229, -0.00635108,  0.0038825 ],\n",
      "       [ 0.00634159,  0.99997689,  0.00245166],\n",
      "       [-0.00389798, -0.00242697,  0.99998946]]), array([[0.19137577],\n",
      "       [0.12719876],\n",
      "       [0.97323984]])), (array([[ 9.99995706e-01, -9.01678439e-04,  2.78841979e-03],\n",
      "       [ 9.01148130e-04,  9.99999576e-01,  1.91432895e-04],\n",
      "       [-2.78859122e-03, -1.88919293e-04,  9.99996094e-01]]), array([[-0.5138562 ],\n",
      "       [ 0.02892055],\n",
      "       [-0.85738871]])), (array([[ 9.99999937e-01,  3.29497510e-04,  1.30131967e-04],\n",
      "       [-3.29489047e-04,  9.99999944e-01, -6.50563689e-05],\n",
      "       [-1.30153395e-04,  6.50134878e-05,  9.99999989e-01]]), array([[-0.31654572],\n",
      "       [ 0.11154975],\n",
      "       [-0.94199547]])), (array([[ 9.99999940e-01,  3.36160539e-04, -8.57859836e-05],\n",
      "       [-3.36129749e-04,  9.99999879e-01,  3.58676896e-04],\n",
      "       [ 8.59065462e-05, -3.58648039e-04,  9.99999932e-01]]), array([[-0.2603108 ],\n",
      "       [ 0.10146451],\n",
      "       [-0.96017875]])), (array([[ 9.99999490e-01,  3.28012330e-04,  9.55509454e-04],\n",
      "       [-3.28615179e-04,  9.99999747e-01,  6.30829835e-04],\n",
      "       [-9.55302292e-04, -6.31143508e-04,  9.99999345e-01]]), array([[ 0.38126098],\n",
      "       [-0.10568554],\n",
      "       [ 0.91840657]])), (array([[ 9.99999960e-01,  1.38088957e-04, -2.46115276e-04],\n",
      "       [-1.37743096e-04,  9.99999004e-01,  1.40474178e-03],\n",
      "       [ 2.46309010e-04, -1.40470782e-03,  9.99998983e-01]]), array([[ 0.1795577 ],\n",
      "       [-0.08179634],\n",
      "       [ 0.98034096]])), (array([[ 9.99999825e-01,  3.35259147e-04, -4.87940334e-04],\n",
      "       [-3.34336670e-04,  9.99998159e-01,  1.88940674e-03],\n",
      "       [ 4.88572877e-04, -1.88924327e-03,  9.99998096e-01]]), array([[-0.16259104],\n",
      "       [ 0.09913218],\n",
      "       [-0.98170106]])), (array([[ 9.99999857e-01,  1.38475327e-04, -5.17492989e-04],\n",
      "       [-1.37601219e-04,  9.99998565e-01,  1.68877472e-03],\n",
      "       [ 5.17726100e-04, -1.68870327e-03,  9.99998440e-01]]), array([[ 0.13958055],\n",
      "       [-0.0996163 ],\n",
      "       [ 0.98518722]])), (array([[ 9.99999889e-01,  4.53812269e-04, -1.22845105e-04],\n",
      "       [-4.53593387e-04,  9.99998320e-01,  1.77597472e-03],\n",
      "       [ 1.23650858e-04, -1.77591880e-03,  9.99998415e-01]]), array([[ 0.1814702 ],\n",
      "       [-0.07779127],\n",
      "       [ 0.98031479]])), (array([[ 9.99999802e-01,  1.75322368e-04, -6.04110162e-04],\n",
      "       [-1.73927546e-04,  9.99997321e-01,  2.30816684e-03],\n",
      "       [ 6.04513217e-04, -2.30806132e-03,  9.99997154e-01]]), array([[ 0.1346761 ],\n",
      "       [-0.090682  ],\n",
      "       [ 0.98673153]])), (array([[ 9.99999845e-01,  9.97314918e-05, -5.47954140e-04],\n",
      "       [-9.87095169e-05,  9.99998256e-01,  1.86478448e-03],\n",
      "       [ 5.48139162e-04, -1.86473010e-03,  9.99998111e-01]]), array([[ 0.11386131],\n",
      "       [-0.098656  ],\n",
      "       [ 0.98858616]])), (array([[ 9.99999895e-01,  4.17554198e-04, -1.86361428e-04],\n",
      "       [-4.17196241e-04,  9.99998076e-01,  1.91669136e-03],\n",
      "       [ 1.87161392e-04, -1.91661341e-03,  9.99998146e-01]]), array([[-0.16753783],\n",
      "       [ 0.1040399 ],\n",
      "       [-0.98036053]])), (array([[ 9.99999716e-01,  1.33957297e-04, -7.41833669e-04],\n",
      "       [-1.32042658e-04,  9.99996662e-01,  2.58040221e-03],\n",
      "       [ 7.42176857e-04, -2.58030353e-03,  9.99996396e-01]]), array([[ 0.10220031],\n",
      "       [-0.08333883],\n",
      "       [ 0.99126673]])), (array([[ 9.99999834e-01, -7.13227414e-05, -5.71369516e-04],\n",
      "       [ 7.24547503e-05,  9.99998034e-01,  1.98144464e-03],\n",
      "       [ 5.71227071e-04, -1.98148571e-03,  9.99997874e-01]]), array([[-0.11780769],\n",
      "       [ 0.09626582],\n",
      "       [-0.98835937]])), (array([[ 9.99999962e-01,  1.27884969e-04, -2.42392723e-04],\n",
      "       [-1.27399407e-04,  9.99997988e-01,  2.00216289e-03],\n",
      "       [ 2.42648281e-04, -2.00213193e-03,  9.99997966e-01]]), array([[-0.14085974],\n",
      "       [ 0.07532004],\n",
      "       [-0.98716028]])), (array([[ 9.99999944e-01,  2.53392868e-05, -3.34484456e-04],\n",
      "       [-2.44987260e-05,  9.99996843e-01,  2.51276886e-03],\n",
      "       [ 3.34547072e-04, -2.51276052e-03,  9.99996787e-01]]), array([[ 0.16184421],\n",
      "       [-0.07481932],\n",
      "       [ 0.98397587]])), (array([[ 9.99999889e-01,  1.53931110e-04, -4.44375034e-04],\n",
      "       [-1.53056378e-04,  9.99998052e-01,  1.96781734e-03],\n",
      "       [ 4.44677077e-04, -1.96774910e-03,  9.99997965e-01]]), array([[ 0.10301318],\n",
      "       [-0.07239311],\n",
      "       [ 0.9920421 ]])), (array([[ 9.99999936e-01,  6.75350119e-05, -3.50133342e-04],\n",
      "       [-6.69028347e-05,  9.99998368e-01,  1.80523017e-03],\n",
      "       [ 3.50254687e-04, -1.80520663e-03,  9.99998309e-01]]), array([[ 0.13633244],\n",
      "       [-0.08787417],\n",
      "       [ 0.98675812]])), (array([[ 9.99999887e-01, -4.74640327e-04,  2.93201216e-05],\n",
      "       [ 4.74571786e-04,  9.99997254e-01,  2.29503545e-03],\n",
      "       [-3.04093575e-05, -2.29502127e-03,  9.99997366e-01]]), array([[ 0.11306362],\n",
      "       [-0.07634727],\n",
      "       [ 0.99065015]])), (array([[ 0.99999779, -0.00154771,  0.00142106],\n",
      "       [ 0.0015452 ,  0.99999724,  0.00177037],\n",
      "       [-0.0014238 , -0.00176817,  0.99999742]]), array([[-0.15686573],\n",
      "       [-0.00242743],\n",
      "       [-0.98761696]])), (array([[ 0.99999478, -0.00267857,  0.0018067 ],\n",
      "       [ 0.00267538,  0.99999486,  0.00176857],\n",
      "       [-0.00181143, -0.00176373,  0.9999968 ]]), array([[-0.10578678],\n",
      "       [-0.01116091],\n",
      "       [-0.9943262 ]])), (array([[ 0.99997728, -0.00527251,  0.00419994],\n",
      "       [ 0.00525957,  0.9999814 ,  0.00308702],\n",
      "       [-0.00421614, -0.00306486,  0.99998642]]), array([[0.19268605],\n",
      "       [0.07197155],\n",
      "       [0.97861749]])), (array([[ 0.99998886, -0.00403209,  0.00245351],\n",
      "       [ 0.00402685,  0.99998961,  0.00213753],\n",
      "       [-0.0024621 , -0.00212763,  0.99999471]]), array([[-0.09585475],\n",
      "       [-0.04376317],\n",
      "       [-0.99443283]])), (array([[ 0.99998737, -0.00418098,  0.00279044],\n",
      "       [ 0.00417472,  0.99998876,  0.00224665],\n",
      "       [-0.0027998 , -0.00223498,  0.99999358]]), array([[-0.13926789],\n",
      "       [-0.05353185],\n",
      "       [-0.98880675]])), (array([[-0.890935  ,  0.00989446,  0.45402305],\n",
      "       [ 0.00656142, -0.9993778 ,  0.03465486],\n",
      "       [ 0.45408345,  0.03385427,  0.89031574]]), array([[0.23482971],\n",
      "       [0.01886789],\n",
      "       [0.97185339]])), (array([[ 9.99999281e-01, -9.96185903e-05,  1.19509780e-03],\n",
      "       [ 9.86898522e-05,  9.99999693e-01,  7.77156944e-04],\n",
      "       [-1.19517486e-03, -7.77038441e-04,  9.99998984e-01]]), array([[ 0.3865452 ],\n",
      "       [-0.00547109],\n",
      "       [ 0.92225424]])), (array([[ 9.99999975e-01,  2.24450009e-04,  2.20779345e-05],\n",
      "       [-2.24452791e-04,  9.99999967e-01,  1.26063310e-04],\n",
      "       [-2.20496388e-05, -1.26068262e-04,  9.99999992e-01]]), array([[-0.24067676],\n",
      "       [ 0.05812484],\n",
      "       [-0.96886335]])), (array([[ 9.99999993e-01,  1.17360839e-04, -1.92285916e-05],\n",
      "       [-1.17359106e-04,  9.99999989e-01,  9.01264110e-05],\n",
      "       [ 1.92391687e-05, -9.01241537e-05,  9.99999996e-01]]), array([[ 0.25756403],\n",
      "       [-0.0822943 ],\n",
      "       [ 0.96275045]])), (array([[ 9.99999928e-01,  3.70271311e-04,  8.35393434e-05],\n",
      "       [-3.70282202e-04,  9.99999923e-01,  1.30391387e-04],\n",
      "       [-8.34910568e-05, -1.30422311e-04,  9.99999988e-01]]), array([[-0.25378638],\n",
      "       [ 0.05952366],\n",
      "       [-0.96542706]])), (array([[ 9.99999674e-01,  1.69548367e-04,  7.89724052e-04],\n",
      "       [-1.69736287e-04,  9.99999957e-01,  2.37894883e-04],\n",
      "       [-7.89683684e-04, -2.38028851e-04,  9.99999660e-01]]), array([[ 0.30607717],\n",
      "       [-0.03278046],\n",
      "       [ 0.95144217]])), (array([[ 9.99999887e-01,  5.63831578e-06, -4.74593400e-04],\n",
      "       [-5.59342056e-06,  9.99999996e-01,  9.45985017e-05],\n",
      "       [ 4.74593931e-04, -9.45958364e-05,  9.99999883e-01]]), array([[ 0.19804708],\n",
      "       [-0.09238269],\n",
      "       [ 0.97582929]])), (array([[ 9.99999996e-01, -9.05686051e-05,  1.57367948e-05],\n",
      "       [ 9.05673861e-05,  9.99999993e-01,  7.74443133e-05],\n",
      "       [-1.57438087e-05, -7.74428878e-05,  9.99999997e-01]]), array([[ 0.25330989],\n",
      "       [-0.07420961],\n",
      "       [ 0.96453462]])), (array([[ 9.99999782e-01, -4.04183468e-05,  6.58925573e-04],\n",
      "       [ 4.02852995e-05,  9.99999979e-01,  2.01927580e-04],\n",
      "       [-6.58933721e-04, -2.01900991e-04,  9.99999763e-01]]), array([[-0.32336962],\n",
      "       [ 0.04189029],\n",
      "       [-0.94534506]])), (array([[ 9.99999881e-01,  1.27858775e-05,  4.88553795e-04],\n",
      "       [-1.28765094e-05,  9.99999983e-01,  1.85507916e-04],\n",
      "       [-4.88551414e-04, -1.85514185e-04,  9.99999863e-01]]), array([[ 0.2684921 ],\n",
      "       [-0.05210266],\n",
      "       [ 0.96187177]])), (array([[ 9.99999933e-01, -1.58300332e-04, -3.28841853e-04],\n",
      "       [ 1.58318610e-04,  9.99999986e-01,  5.55580179e-05],\n",
      "       [ 3.28833054e-04, -5.56100760e-05,  9.99999944e-01]]), array([[-0.21597476],\n",
      "       [ 0.09594082],\n",
      "       [-0.97167395]])), (array([[ 9.99999982e-01, -1.10698791e-04,  1.52114756e-04],\n",
      "       [ 1.10688565e-04,  9.99999992e-01,  6.72283761e-05],\n",
      "       [-1.52122197e-04, -6.72115375e-05,  9.99999986e-01]]), array([[ 0.28144309],\n",
      "       [-0.07324549],\n",
      "       [ 0.95677839]])), (array([[ 9.99997453e-01, -1.47666524e-03,  1.70713943e-03],\n",
      "       [ 1.47553099e-03,  9.99998690e-01,  6.65483177e-04],\n",
      "       [-1.70811989e-03, -6.62962545e-04,  9.99998321e-01]]), array([[0.2192437 ],\n",
      "       [0.00906365],\n",
      "       [0.97562803]])), (array([[ 0.999992  , -0.00278338,  0.00287389],\n",
      "       [ 0.0027798 ,  0.99999536,  0.00124925],\n",
      "       [-0.00287736, -0.00124125,  0.99999509]]), array([[-0.24499813],\n",
      "       [-0.060292  ],\n",
      "       [-0.96764704]])), (array([[ 9.99995355e-01, -2.25426971e-03,  2.05117021e-03],\n",
      "       [ 2.25273632e-03,  9.99997182e-01,  7.49573935e-04],\n",
      "       [-2.05285417e-03, -7.44949708e-04,  9.99997615e-01]]), array([[0.15153516],\n",
      "       [0.01273151],\n",
      "       [0.98836987]])), (array([[ 0.99996669, -0.00680704,  0.00450295],\n",
      "       [ 0.00679457,  0.99997305,  0.00277913],\n",
      "       [-0.00452175, -0.00274845,  0.999986  ]]), array([[0.19918239],\n",
      "       [0.12532601],\n",
      "       [0.97191551]])), (array([[ 0.99998467, -0.00467359,  0.00297066],\n",
      "       [ 0.00466982,  0.99998829,  0.00127316],\n",
      "       [-0.00297657, -0.00125927,  0.99999478]]), array([[-0.11050772],\n",
      "       [-0.04310758],\n",
      "       [-0.99293997]])), (array([[ 0.99997854, -0.00540714,  0.00369972],\n",
      "       [ 0.00540038,  0.99998373,  0.00183464],\n",
      "       [-0.00370957, -0.00181462,  0.99999147]]), array([[0.17587831],\n",
      "       [0.09020991],\n",
      "       [0.98026986]])), (array([[ 0.99995854, -0.00740479,  0.00529926],\n",
      "       [ 0.00738829,  0.99996782,  0.00312709],\n",
      "       [-0.00532224, -0.00308781,  0.99998107]]), array([[0.22319867],\n",
      "       [0.14637819],\n",
      "       [0.96371976]])), (array([[ 0.99996134, -0.00787011,  0.00392216],\n",
      "       [ 0.00785596,  0.99996263,  0.00360944],\n",
      "       [-0.00395042, -0.00357849,  0.99998579]]), array([[0.19412347],\n",
      "       [0.22247536],\n",
      "       [0.95541656]])), (array([[ 0.99996836, -0.0066756 ,  0.0043258 ],\n",
      "       [ 0.00666184,  0.99997273,  0.00318735],\n",
      "       [-0.00434696, -0.00315843,  0.99998556]]), array([[0.23983485],\n",
      "       [0.19541285],\n",
      "       [0.95094325]])), (array([[ 0.99996016, -0.00678736,  0.00579749],\n",
      "       [ 0.00676569,  0.99997008,  0.00374974],\n",
      "       [-0.00582277, -0.00371037,  0.99997616]]), array([[-0.28932099],\n",
      "       [-0.18182344],\n",
      "       [-0.93980509]])), (array([[ 0.99999262, -0.00214479,  0.00318874],\n",
      "       [ 0.0021409 ,  0.99999696,  0.00122221],\n",
      "       [-0.00319135, -0.00121538,  0.99999417]]), array([[-0.33572229],\n",
      "       [-0.07102362],\n",
      "       [-0.93927961]])), (array([[ 9.99999924e-01, -1.80698082e-04, -3.44594952e-04],\n",
      "       [ 1.80715127e-04,  9.99999982e-01,  4.94334523e-05],\n",
      "       [ 3.44586013e-04, -4.94957221e-05,  9.99999939e-01]]), array([[-0.19480909],\n",
      "       [ 0.07694008],\n",
      "       [-0.97781882]])), (array([[ 9.99999505e-01, -2.14447232e-04,  9.71283483e-04],\n",
      "       [ 2.14177284e-04,  9.99999938e-01,  2.78024750e-04],\n",
      "       [-9.71343045e-04, -2.77816585e-04,  9.99999490e-01]]), array([[-0.34063059],\n",
      "       [ 0.02880644],\n",
      "       [-0.93975582]])), (array([[ 9.99999993e-01,  1.00544974e-04,  5.96534153e-05],\n",
      "       [-1.00548650e-04,  9.99999993e-01,  6.16114493e-05],\n",
      "       [-5.96472202e-05, -6.16174470e-05,  9.99999996e-01]]), array([[-0.28292554],\n",
      "       [ 0.05785316],\n",
      "       [-0.95739551]])), (array([[ 9.99997993e-01, -4.37788486e-04,  1.95505804e-03],\n",
      "       [ 4.36779688e-04,  9.99999771e-01,  5.16391043e-04],\n",
      "       [-1.95528366e-03, -5.15536077e-04,  9.99997956e-01]]), array([[0.41880647],\n",
      "       [0.01274375],\n",
      "       [0.90798609]])), (array([[ 9.99997701e-01, -1.25246092e-03,  1.74024406e-03],\n",
      "       [ 1.25175185e-03,  9.99999133e-01,  4.08483541e-04],\n",
      "       [-1.74075416e-03, -4.06304248e-04,  9.99998402e-01]]), array([[ 0.26044639],\n",
      "       [-0.02630817],\n",
      "       [ 0.96512981]])), (array([[ 9.99997527e-01, -1.18582674e-03,  1.88152987e-03],\n",
      "       [ 1.18510362e-03,  9.99999224e-01,  3.85391336e-04],\n",
      "       [-1.88198542e-03, -3.83160575e-04,  9.99998156e-01]]), array([[ 0.33498091],\n",
      "       [-0.01851173],\n",
      "       [ 0.94204305]])), (array([[ 9.99997154e-01, -1.30150320e-03,  1.99957186e-03],\n",
      "       [ 1.30051599e-03,  9.99999032e-01,  4.94935649e-04],\n",
      "       [-2.00021409e-03, -4.92333765e-04,  9.99997878e-01]]), array([[-0.31055624],\n",
      "       [ 0.00396903],\n",
      "       [-0.95054672]])), (array([[ 9.99995402e-01, -1.90743131e-03,  2.35741908e-03],\n",
      "       [ 1.90570338e-03,  9.99997914e-01,  7.35003455e-04],\n",
      "       [-2.35881614e-03, -7.30507534e-04,  9.99996951e-01]]), array([[0.25465911],\n",
      "       [0.00488761],\n",
      "       [0.96701854]])), (array([[ 9.99997705e-01, -1.14076929e-03,  1.81357581e-03],\n",
      "       [ 1.14001886e-03,  9.99999264e-01,  4.14764784e-04],\n",
      "       [-1.81404762e-03, -4.12696321e-04,  9.99998269e-01]]), array([[ 0.28437465],\n",
      "       [-0.00810618],\n",
      "       [ 0.95867896]])), (array([[ 9.99997428e-01, -1.50311782e-03,  1.69863499e-03],\n",
      "       [ 1.50198389e-03,  9.99998648e-01,  6.68629042e-04],\n",
      "       [-1.69963772e-03, -6.66075999e-04,  9.99998334e-01]]), array([[0.21398113],\n",
      "       [0.01521389],\n",
      "       [0.97671931]])), (array([[ 9.99994960e-01, -1.62740120e-03,  2.72597447e-03],\n",
      "       [ 1.62537522e-03,  9.99998401e-01,  7.45261933e-04],\n",
      "       [-2.72718296e-03, -7.40827446e-04,  9.99996007e-01]]), array([[-0.31822004],\n",
      "       [-0.00490324],\n",
      "       [-0.9480042 ]])), (array([[ 9.99999275e-01, -6.97791502e-04,  9.81821962e-04],\n",
      "       [ 6.97754049e-04,  9.99999756e-01,  3.84889049e-05],\n",
      "       [-9.81848579e-04, -3.78038067e-05,  9.99999517e-01]]), array([[-0.3588379 ],\n",
      "       [ 0.09221079],\n",
      "       [-0.92883396]])), (array([[ 9.99999663e-01, -6.29641703e-04,  5.26718304e-04],\n",
      "       [ 6.29586008e-04,  9.99999796e-01,  1.05899493e-04],\n",
      "       [-5.26784875e-04, -1.05567843e-04,  9.99999856e-01]]), array([[ 0.23164244],\n",
      "       [-0.06202662],\n",
      "       [ 0.97082155]])), (array([[ 9.99999241e-01, -4.68307449e-04,  1.13918976e-03],\n",
      "       [ 4.68205344e-04,  9.99999886e-01,  8.98944897e-05],\n",
      "       [-1.13923173e-03, -8.93610467e-05,  9.99999347e-01]]), array([[ 0.30906696],\n",
      "       [-0.06278145],\n",
      "       [ 0.94896581]])), (array([[ 9.99999843e-01, -2.23829641e-04,  5.14101053e-04],\n",
      "       [ 2.23820035e-04,  9.99999975e-01,  1.87425347e-05],\n",
      "       [-5.14105235e-04, -1.86274656e-05,  9.99999868e-01]]), array([[ 0.26804586],\n",
      "       [-0.070837  ],\n",
      "       [ 0.96079838]])), (array([[ 9.99999816e-01, -4.68952476e-04,  3.85531531e-04],\n",
      "       [ 4.68946943e-04,  9.99999890e-01,  1.44410878e-05],\n",
      "       [-3.85538260e-04, -1.42602913e-05,  9.99999926e-01]]), array([[ 0.27177319],\n",
      "       [-0.08813557],\n",
      "       [ 0.95831699]])), (array([[ 9.99999146e-01, -5.13158695e-04,  1.20218949e-03],\n",
      "       [ 5.12993176e-04,  9.99999859e-01,  1.37985312e-04],\n",
      "       [-1.20226013e-03, -1.37368479e-04,  9.99999268e-01]]), array([[ 0.28805461],\n",
      "       [-0.05943706],\n",
      "       [ 0.95576764]])), (array([[ 9.99999261e-01, -9.48058518e-04,  7.60512637e-04],\n",
      "       [ 9.47946068e-04,  9.99999540e-01,  1.48207474e-04],\n",
      "       [-7.60652796e-04, -1.47486439e-04,  9.99999700e-01]]), array([[ 0.20779669],\n",
      "       [-0.0571429 ],\n",
      "       [ 0.97650152]])), (array([[ 9.99993417e-01, -1.43953233e-03,  3.33076533e-03],\n",
      "       [ 1.43769655e-03,  9.99998813e-01,  5.53486259e-04],\n",
      "       [-3.33155814e-03, -5.48693986e-04,  9.99994300e-01]]), array([[-0.45659362],\n",
      "       [ 0.00350512],\n",
      "       [-0.88966847]])), (array([[ 9.99990757e-01, -2.18989467e-03,  3.69996867e-03],\n",
      "       [ 2.18672732e-03,  9.99997239e-01,  8.59877029e-04],\n",
      "       [-3.70184150e-03, -8.51778259e-04,  9.99992785e-01]]), array([[0.34856568],\n",
      "       [0.01091192],\n",
      "       [0.93722084]])), (array([[ 0.9999921 , -0.00258386,  0.00301998],\n",
      "       [ 0.00258067,  0.99999611,  0.00105931],\n",
      "       [-0.0030227 , -0.0010515 ,  0.99999488]]), array([[-0.28005475],\n",
      "       [-0.04403731],\n",
      "       [-0.95897344]])), (array([[ 9.99990188e-01, -2.35898119e-03,  3.74942432e-03],\n",
      "       [ 2.35549574e-03,  9.99996790e-01,  9.33741236e-04],\n",
      "       [-3.75161496e-03, -9.24900322e-04,  9.99992535e-01]]), array([[0.3616208 ],\n",
      "       [0.04688093],\n",
      "       [0.93114584]])), (array([[ 0.99997889, -0.00347621,  0.00549017],\n",
      "       [ 0.00346806,  0.99999287,  0.00149348],\n",
      "       [-0.00549532, -0.00147441,  0.99998381]]), array([[0.38647234],\n",
      "       [0.08169744],\n",
      "       [0.91867549]])), (array([[ 9.99984862e-01, -2.16950613e-03,  5.05663541e-03],\n",
      "       [ 2.16567567e-03,  9.99997364e-01,  7.62864766e-04],\n",
      "       [-5.05827712e-03, -7.51902185e-04,  9.99986924e-01]]), array([[-0.52754958],\n",
      "       [-0.05612186],\n",
      "       [-0.84766844]])), (array([[ 9.99997607e-01, -1.43360263e-03,  1.65230816e-03],\n",
      "       [ 1.43368174e-03,  9.99998971e-01, -4.66934756e-05],\n",
      "       [-1.65223952e-03,  4.90622479e-05,  9.99998634e-01]]), array([[-0.22774851],\n",
      "       [ 0.0105439 ],\n",
      "       [-0.9736629 ]])), (array([[ 9.99993983e-01, -1.35080763e-03,  3.19528800e-03],\n",
      "       [ 1.35081703e-03,  9.99999088e-01, -7.82701305e-07],\n",
      "       [-3.19528403e-03,  5.09894604e-06,  9.99994895e-01]]), array([[ 0.37395732],\n",
      "       [-0.00427541],\n",
      "       [ 0.92743606]])), (array([[ 9.99999578e-01, -5.22757682e-04,  7.55998296e-04],\n",
      "       [ 5.23145598e-04,  9.99999732e-01, -5.13011480e-04],\n",
      "       [-7.55729912e-04,  5.13406760e-04,  9.99999583e-01]]), array([[ 0.35637242],\n",
      "       [-0.08771376],\n",
      "       [ 0.93021771]])), (array([[ 9.99999446e-01, -1.91851171e-04,  1.03485991e-03],\n",
      "       [ 1.92456939e-04,  9.99999810e-01, -5.85295072e-04],\n",
      "       [-1.03474742e-03,  5.85493914e-04,  9.99999293e-01]]), array([[-0.3816353 ],\n",
      "       [ 0.09405017],\n",
      "       [-0.91951567]])), (array([[ 9.99999978e-01, -1.84037497e-04, -1.04510902e-04],\n",
      "       [ 1.83958630e-04,  9.99999699e-01, -7.54136821e-04],\n",
      "       [ 1.04649660e-04,  7.54117578e-04,  9.99999710e-01]]), array([[-0.28291884],\n",
      "       [ 0.11129482],\n",
      "       [-0.95266489]])), (array([[ 9.99999650e-01, -1.71739012e-04,  8.19159827e-04],\n",
      "       [ 1.72262834e-04,  9.99999781e-01, -6.39435130e-04],\n",
      "       [-8.19049831e-04,  6.39576017e-04,  9.99999460e-01]]), array([[-0.34817732],\n",
      "       [ 0.10700982],\n",
      "       [-0.93130095]])), (array([[ 9.99995200e-01, -9.38839136e-04,  2.95281996e-03],\n",
      "       [ 9.38469232e-04,  9.99999552e-01,  1.26654590e-04],\n",
      "       [-2.95293755e-03, -1.23882851e-04,  9.99995632e-01]]), array([[0.41082418],\n",
      "       [0.00397466],\n",
      "       [0.91170593]])), (array([[ 0.99998056, -0.00414286,  0.00465984],\n",
      "       [ 0.00413629,  0.99999044,  0.00141869],\n",
      "       [-0.00466567, -0.00139939,  0.99998814]]), array([[-0.29494687],\n",
      "       [-0.07356018],\n",
      "       [-0.95267793]])), (array([[ 0.9999699 , -0.0047933 ,  0.00610121],\n",
      "       [ 0.00477937,  0.99998595,  0.00229485],\n",
      "       [-0.00611212, -0.00226562,  0.99997875]]), array([[0.3990482 ],\n",
      "       [0.14819281],\n",
      "       [0.90487536]])), (array([[ 0.99997953, -0.00501882,  0.00396847],\n",
      "       [ 0.00501275,  0.99998625,  0.00153938],\n",
      "       [-0.00397614, -0.00151945,  0.99999094]]), array([[-0.21718804],\n",
      "       [-0.08586353],\n",
      "       [-0.97234603]])), (array([[ 0.99996733, -0.0063709 ,  0.00497404],\n",
      "       [ 0.0063623 ,  0.99997824,  0.00174351],\n",
      "       [-0.00498504, -0.00171181,  0.99998611]]), array([[-0.21993377],\n",
      "       [-0.07920447],\n",
      "       [-0.97229409]])), (array([[ 0.99996562, -0.00635988,  0.00532131],\n",
      "       [ 0.00634484,  0.99997584,  0.00283972],\n",
      "       [-0.00533924, -0.00280586,  0.99998181]]), array([[-0.29441821],\n",
      "       [-0.17371453],\n",
      "       [-0.93975591]])), (array([[ 0.99997222, -0.00637426,  0.00386329],\n",
      "       [ 0.00636601,  0.99997744,  0.00214424],\n",
      "       [-0.00387687, -0.00211958,  0.99999024]]), array([[-0.19629681],\n",
      "       [-0.12442253],\n",
      "       [-0.97261842]])), (array([[ 9.99982057e-01, -3.56319722e-03,  4.81561735e-03],\n",
      "       [ 3.55977428e-03,  9.99993405e-01,  7.19183872e-04],\n",
      "       [-4.81814818e-03, -7.02028456e-04,  9.99988146e-01]]), array([[0.31921606],\n",
      "       [0.02860449],\n",
      "       [0.94725017]])), (array([[ 0.99998195, -0.00298967,  0.0052115 ],\n",
      "       [ 0.00298324,  0.99999478,  0.00123998],\n",
      "       [-0.00521518, -0.00122441,  0.99998565]]), array([[0.42815011],\n",
      "       [0.0829829 ],\n",
      "       [0.89988962]])), (array([[ 9.99987469e-01, -2.41787587e-03,  4.38354770e-03],\n",
      "       [ 2.41418118e-03,  9.99996726e-01,  8.47949555e-04],\n",
      "       [-4.38558359e-03, -8.37356251e-04,  9.99990033e-01]]), array([[0.40460568],\n",
      "       [0.05491552],\n",
      "       [0.91284091]])), (array([[ 9.99995878e-01, -1.50174874e-03,  2.44735893e-03],\n",
      "       [ 1.50196506e-03,  9.99998868e-01, -8.65553547e-05],\n",
      "       [-2.44722618e-03,  9.02308455e-05,  9.99997001e-01]]), array([[-0.29168749],\n",
      "       [ 0.02238108],\n",
      "       [-0.95625179]])), (array([[ 9.99995406e-01, -9.29560015e-04,  2.88519659e-03],\n",
      "       [ 9.30309594e-04,  9.99999534e-01, -2.58470618e-04],\n",
      "       [-2.88495498e-03,  2.61153556e-04,  9.99995804e-01]]), array([[ 0.47738738],\n",
      "       [-0.05970365],\n",
      "       [ 0.87666229]])), (array([[ 9.99997176e-01, -8.05325260e-04,  2.23582720e-03],\n",
      "       [ 8.05894537e-04,  9.99999643e-01, -2.53726690e-04],\n",
      "       [-2.23562207e-03,  2.55527815e-04,  9.99997468e-01]]), array([[-0.38018439],\n",
      "       [ 0.05767281],\n",
      "       [-0.92311087]])), (array([[ 9.99998977e-01, -4.81303152e-04,  1.34690705e-03],\n",
      "       [ 4.82237446e-04,  9.99999643e-01, -6.93420149e-04],\n",
      "       [-1.34657283e-03,  6.94068969e-04,  9.99998853e-01]]), array([[-0.3590234 ],\n",
      "       [ 0.11509376],\n",
      "       [-0.92620496]])), (array([[ 9.99999887e-01, -2.89727034e-04, -3.76908270e-04],\n",
      "       [ 2.89525148e-04,  9.99999815e-01, -5.35582510e-04],\n",
      "       [ 3.77063373e-04,  5.35473325e-04,  9.99999786e-01]]), array([[-0.29991739],\n",
      "       [ 0.15800053],\n",
      "       [-0.94078977]])), (array([[ 9.99999645e-01,  3.85249898e-06,  8.42111673e-04],\n",
      "       [-3.18717383e-06,  9.99999688e-01, -7.90067516e-04],\n",
      "       [-8.42114454e-04,  7.90064552e-04,  9.99999333e-01]]), array([[ 0.43956486],\n",
      "       [-0.16564944],\n",
      "       [ 0.88280405]])), (array([[ 9.99999879e-01,  3.20008453e-04,  3.72853760e-04],\n",
      "       [-3.19724099e-04,  9.99999658e-01, -7.62450838e-04],\n",
      "       [-3.73097623e-04,  7.62331535e-04,  9.99999640e-01]]), array([[-0.33599209],\n",
      "       [ 0.12740244],\n",
      "       [-0.93320841]])), (array([[ 9.99999941e-01,  5.10453458e-05,  3.40388729e-04],\n",
      "       [-5.08237919e-05,  9.99999787e-01, -6.50861999e-04],\n",
      "       [-3.40421880e-04,  6.50844660e-04,  9.99999730e-01]]), array([[ 0.33543623],\n",
      "       [-0.13173962],\n",
      "       [ 0.93280609]])), (array([[ 9.99997676e-01, -5.81514408e-05,  2.15498721e-03],\n",
      "       [ 5.87778563e-05,  9.99999956e-01, -2.90619607e-04],\n",
      "       [-2.15497022e-03,  2.90745598e-04,  9.99997636e-01]]), array([[-0.46966674],\n",
      "       [ 0.06159109],\n",
      "       [-0.88069273]])), (array([[ 9.99999988e-01, -1.23645022e-04, -9.72224846e-05],\n",
      "       [ 1.23573208e-04,  9.99999720e-01, -7.38320824e-04],\n",
      "       [ 9.73137470e-05,  7.38308801e-04,  9.99999723e-01]]), array([[-0.31488354],\n",
      "       [ 0.15644189],\n",
      "       [-0.93614865]])), (array([[ 9.99998426e-01, -1.15037687e-04,  1.77037977e-03],\n",
      "       [ 1.16034076e-04,  9.99999835e-01, -5.62718357e-04],\n",
      "       [-1.77031475e-03,  5.62922896e-04,  9.99998275e-01]]), array([[-0.39541296],\n",
      "       [ 0.10682874],\n",
      "       [-0.91226981]])), (array([[ 9.99998220e-01, -5.73712501e-04,  1.79732944e-03],\n",
      "       [ 5.74409551e-04,  9.99999760e-01, -3.87333617e-04],\n",
      "       [-1.79710679e-03,  3.88365331e-04,  9.99998310e-01]]), array([[ 0.36123177],\n",
      "       [-0.08943422],\n",
      "       [ 0.92817731]])), (array([[ 9.99980535e-01, -2.01588008e-03,  5.90478679e-03],\n",
      "       [ 2.01298074e-03,  9.99997850e-01,  4.96918121e-04],\n",
      "       [-5.90577583e-03, -4.85022226e-04,  9.99982443e-01]]), array([[ 0.46513982],\n",
      "       [-0.00228273],\n",
      "       [ 0.88523428]])), (array([[ 9.99992277e-01, -1.74325367e-03,  3.52236333e-03],\n",
      "       [ 1.74255729e-03,  9.99998462e-01,  2.00762235e-04],\n",
      "       [-3.52270789e-03, -1.94622765e-04,  9.99993776e-01]]), array([[ 0.38943257],\n",
      "       [-0.02327591],\n",
      "       [ 0.92076083]])), (array([[ 9.99992749e-01, -1.81855819e-03,  3.34584740e-03],\n",
      "       [ 1.81685048e-03,  9.99998218e-01,  5.13364014e-04],\n",
      "       [-3.34677502e-03, -5.07281387e-04,  9.99994271e-01]]), array([[-0.32397573],\n",
      "       [ 0.0060955 ],\n",
      "       [-0.94604575]])), (array([[ 9.99991920e-01, -2.30607359e-03,  3.29262649e-03],\n",
      "       [ 2.30336984e-03,  9.99997007e-01,  8.24708229e-04],\n",
      "       [-3.29451847e-03, -8.17117429e-04,  9.99994239e-01]]), array([[ 0.25404876],\n",
      "       [-0.02509145],\n",
      "       [ 0.96686589]])), (array([[-0.80573916, -0.01400765,  0.59210488],\n",
      "       [-0.01704367, -0.99875788, -0.0468211 ],\n",
      "       [ 0.59202527, -0.04781723,  0.80449959]]), array([[ 0.31331786],\n",
      "       [-0.02421628],\n",
      "       [ 0.9493395 ]])), (array([[ 0.99998927, -0.00265581,  0.00379491],\n",
      "       [ 0.00265136,  0.99999579,  0.0011764 ],\n",
      "       [-0.00379802, -0.00116632,  0.99999211]]), array([[-0.32628922],\n",
      "       [-0.01252237],\n",
      "       [-0.94518704]])), (array([[ 9.99988602e-01, -2.56127091e-03,  4.02925537e-03],\n",
      "       [ 2.55736612e-03,  9.99996256e-01,  9.73964272e-04],\n",
      "       [-4.03173487e-03, -9.63648890e-04,  9.99991408e-01]]), array([[-0.29366619],\n",
      "       [ 0.02277412],\n",
      "       [-0.9556367 ]])), (array([[ 9.99994572e-01, -1.94486583e-03,  2.65977846e-03],\n",
      "       [ 1.94289742e-03,  9.99997837e-01,  7.42447913e-04],\n",
      "       [-2.66121667e-03, -7.37276206e-04,  9.99996187e-01]]), array([[-0.23961937],\n",
      "       [ 0.02065296],\n",
      "       [-0.97064721]])), (array([[ 0.99998917, -0.00219974,  0.0041016 ],\n",
      "       [ 0.00219507,  0.99999694,  0.00114374],\n",
      "       [-0.00410411, -0.00113473,  0.99999093]]), array([[-0.34265198],\n",
      "       [-0.01136539],\n",
      "       [-0.93939366]])), (array([[ 0.99998132, -0.00339851,  0.00508124],\n",
      "       [ 0.00338946,  0.99999266,  0.00178816],\n",
      "       [-0.00508728, -0.00177091,  0.99998549]]), array([[-0.31939763],\n",
      "       [-0.02847831],\n",
      "       [-0.94719277]])), (array([[ 9.99993985e-01, -1.68118960e-03,  3.03360520e-03],\n",
      "       [ 1.67914948e-03,  9.99998362e-01,  6.74928516e-04],\n",
      "       [-3.03473491e-03, -6.69830580e-04,  9.99995171e-01]]), array([[-0.29287242],\n",
      "       [ 0.03278257],\n",
      "       [-0.95558937]])), (array([[ 9.99991310e-01, -2.32795939e-03,  3.45842454e-03],\n",
      "       [ 2.32475352e-03,  9.99996865e-01,  9.30703656e-04],\n",
      "       [-3.46058034e-03, -9.22655583e-04,  9.99993587e-01]]), array([[ 0.3153409 ],\n",
      "       [-0.00770951],\n",
      "       [ 0.94894714]])), (array([[ 9.99985556e-01, -2.44210669e-03,  4.78782816e-03],\n",
      "       [ 2.43758711e-03,  9.99996578e-01,  9.49580852e-04],\n",
      "       [-4.79013075e-03, -9.37896388e-04,  9.99988087e-01]]), array([[ 0.39914089],\n",
      "       [-0.02681408],\n",
      "       [ 0.91649744]])), (array([[ 9.99992026e-01, -2.11394234e-03,  3.38808782e-03],\n",
      "       [ 2.11086550e-03,  9.99997357e-01,  9.11453373e-04],\n",
      "       [-3.39000562e-03, -9.04294308e-04,  9.99993845e-01]]), array([[ 0.2986633 ],\n",
      "       [-0.01132088],\n",
      "       [ 0.9542914 ]])), (array([[ 9.99994204e-01, -1.77563644e-03,  2.90502565e-03],\n",
      "       [ 1.77376869e-03,  9.99998219e-01,  6.45388637e-04],\n",
      "       [-2.90616645e-03, -6.40232052e-04,  9.99995572e-01]]), array([[ 0.28016749],\n",
      "       [-0.03957936],\n",
      "       [ 0.95913485]])), (array([[ 9.99987530e-01, -2.09793736e-03,  4.53203747e-03],\n",
      "       [ 2.09491311e-03,  9.99997580e-01,  6.71948806e-04],\n",
      "       [-4.53343620e-03, -6.62446202e-04,  9.99989505e-01]]), array([[ 0.41274934],\n",
      "       [-0.0511924 ],\n",
      "       [ 0.90940492]])), (array([[ 9.99994249e-01, -1.80282045e-03,  2.87263869e-03],\n",
      "       [ 1.80075264e-03,  9.99998118e-01,  7.22253531e-04],\n",
      "       [-2.87393538e-03, -7.17076465e-04,  9.99995613e-01]]), array([[ 0.28616993],\n",
      "       [-0.03107062],\n",
      "       [ 0.95767499]])), (array([[ 9.99994938e-01, -1.74368595e-03,  2.66141545e-03],\n",
      "       [ 1.74162243e-03,  9.99998181e-01,  7.77468570e-04],\n",
      "       [-2.66276627e-03, -7.72829454e-04,  9.99996156e-01]]), array([[-0.26238285],\n",
      "       [ 0.0224064 ],\n",
      "       [-0.96470368]])), (array([[ 0.9999883 , -0.00229655,  0.00425739],\n",
      "       [ 0.00229211,  0.99999682,  0.00104838],\n",
      "       [-0.00425979, -0.00103861,  0.99999039]]), array([[-0.32459726],\n",
      "       [ 0.0172186 ],\n",
      "       [-0.94569559]])), (array([[ 9.99993794e-01, -1.80513106e-03,  3.02531753e-03],\n",
      "       [ 1.80276514e-03,  9.99998067e-01,  7.84586375e-04],\n",
      "       [-3.02672797e-03, -7.79127569e-04,  9.99995116e-01]]), array([[ 0.29471767],\n",
      "       [-0.02487713],\n",
      "       [ 0.9552605 ]])), (array([[ 9.99992735e-01, -1.77004088e-03,  3.37587545e-03],\n",
      "       [ 1.76765497e-03,  9.99998186e-01,  7.09606120e-04],\n",
      "       [-3.37712535e-03, -7.03633582e-04,  9.99994050e-01]]), array([[-0.34762428],\n",
      "       [ 0.03362378],\n",
      "       [-0.93703084]])), (array([[ 9.99991638e-01, -2.24218793e-03,  3.42007611e-03],\n",
      "       [ 2.23912188e-03,  9.99997088e-01,  9.00050059e-04],\n",
      "       [-3.42208423e-03, -8.92384565e-04,  9.99993746e-01]]), array([[-0.28038554],\n",
      "       [ 0.02845476],\n",
      "       [-0.95946562]])), (array([[ 9.99993018e-01, -2.12538310e-03,  3.07368952e-03],\n",
      "       [ 2.12277405e-03,  9.99997384e-01,  8.51846307e-04],\n",
      "       [-3.07549198e-03, -8.45315611e-04,  9.99994913e-01]]), array([[-0.28977252],\n",
      "       [ 0.01824102],\n",
      "       [-0.95692171]])), (array([[ 9.99995476e-01, -1.56075574e-03,  2.57132241e-03],\n",
      "       [ 1.55914476e-03,  9.99998587e-01,  6.28401558e-04],\n",
      "       [-2.57229956e-03, -6.24389651e-04,  9.99996497e-01]]), array([[ 0.24915088],\n",
      "       [-0.0388668 ],\n",
      "       [ 0.96768446]])), (array([[ 0.99998921, -0.00232809,  0.00401884],\n",
      "       [ 0.00232395,  0.99999676,  0.00103426],\n",
      "       [-0.00402124, -0.00102491,  0.99999139]]), array([[-0.29918655],\n",
      "       [ 0.02253081],\n",
      "       [-0.9539286 ]])), (array([[ 0.99999131, -0.00200702,  0.00365272],\n",
      "       [ 0.00200293,  0.99999736,  0.00112542],\n",
      "       [-0.00365497, -0.00111809,  0.9999927 ]]), array([[-0.31461188],\n",
      "       [-0.00642047],\n",
      "       [-0.94919868]])), (array([[ 9.99995971e-01, -1.11816514e-03,  2.60900836e-03],\n",
      "       [ 1.11731141e-03,  9.99999322e-01,  3.28660955e-04],\n",
      "       [-2.60937409e-03, -3.25744557e-04,  9.99996543e-01]]), array([[-0.32520709],\n",
      "       [ 0.08137535],\n",
      "       [-0.94213502]])), (array([[ 9.99992291e-01, -1.70004705e-03,  3.53937840e-03],\n",
      "       [ 1.69806427e-03,  9.99998400e-01,  5.63137390e-04],\n",
      "       [-3.54033010e-03, -5.57122957e-04,  9.99993578e-01]]), array([[-0.34611982],\n",
      "       [ 0.06626457],\n",
      "       [-0.93584725]])), (array([[ 9.99997729e-01, -8.40837932e-04,  1.95852273e-03],\n",
      "       [ 8.40282173e-04,  9.99999606e-01,  2.84569576e-04],\n",
      "       [-1.95876124e-03, -2.82923218e-04,  9.99998042e-01]]), array([[-0.25101606],\n",
      "       [ 0.08436798],\n",
      "       [-0.96429922]])), (array([[ 9.99994523e-01, -1.55019094e-03,  2.92413038e-03],\n",
      "       [ 1.54805104e-03,  9.99998532e-01,  7.33928891e-04],\n",
      "       [-2.92526381e-03, -7.29398168e-04,  9.99995455e-01]]), array([[ 0.29459612],\n",
      "       [-0.03098111],\n",
      "       [ 0.95511952]])), (array([[ 9.99991534e-01, -1.59373711e-03,  3.79375080e-03],\n",
      "       [ 1.59038210e-03,  9.99998342e-01,  8.87203991e-04],\n",
      "       [-3.79515848e-03, -8.81162966e-04,  9.99992410e-01]]), array([[ 0.32146812],\n",
      "       [-0.03189074],\n",
      "       [ 0.94638324]])), (array([[ 9.99997684e-01, -5.98899324e-04,  2.06735036e-03],\n",
      "       [ 5.98404190e-04,  9.99999792e-01,  2.40112023e-04],\n",
      "       [-2.06749374e-03, -2.38874356e-04,  9.99997834e-01]]), array([[-0.27937338],\n",
      "       [ 0.09121191],\n",
      "       [-0.95584042]])), (array([[ 9.99997660e-01, -5.37588956e-04,  2.09530699e-03],\n",
      "       [ 5.37435429e-04,  9.99999853e-01,  7.38343306e-05],\n",
      "       [-2.09534638e-03, -7.27080657e-05,  9.99997802e-01]]), array([[-0.34165961],\n",
      "       [ 0.11600982],\n",
      "       [-0.93263628]])), (array([[ 9.99998830e-01, -2.32302468e-04,  1.51178043e-03],\n",
      "       [ 2.32122704e-04,  9.99999966e-01,  1.19083276e-04],\n",
      "       [-1.51180804e-03, -1.18732218e-04,  9.99998850e-01]]), array([[ 0.26180451],\n",
      "       [-0.11675577],\n",
      "       [ 0.95803262]])), (array([[ 9.99998203e-01, -2.86867304e-04,  1.87404783e-03],\n",
      "       [ 2.86554759e-04,  9.99999945e-01,  1.67041611e-04],\n",
      "       [-1.87409565e-03, -1.66504293e-04,  9.99998230e-01]]), array([[-0.31676621],\n",
      "       [ 0.09588294],\n",
      "       [-0.94364486]])), (array([[ 9.99999535e-01,  5.07116825e-05,  9.63280581e-04],\n",
      "       [-5.07724280e-05,  9.99999997e-01,  6.30366420e-05],\n",
      "       [-9.63277382e-04, -6.30855208e-05,  9.99999534e-01]]), array([[-0.26702247],\n",
      "       [ 0.12378947],\n",
      "       [-0.95570663]])), (array([[ 9.99999801e-01, -2.74521211e-04,  5.68265721e-04],\n",
      "       [ 2.74526154e-04,  9.99999962e-01, -8.61941300e-06],\n",
      "       [-5.68263334e-04,  8.77541509e-06,  9.99999838e-01]]), array([[ 0.29888626],\n",
      "       [-0.17233127],\n",
      "       [ 0.93859945]])), (array([[ 9.99999762e-01,  4.52304890e-05,  6.88860168e-04],\n",
      "       [-4.53279534e-05,  9.99999989e-01,  1.41471597e-04],\n",
      "       [-6.88853761e-04, -1.41502788e-04,  9.99999753e-01]]), array([[ 0.25869473],\n",
      "       [-0.10781614],\n",
      "       [ 0.95992329]])), (array([[ 9.99999832e-01,  2.12018361e-05,  5.78598678e-04],\n",
      "       [-2.12098816e-05,  1.00000000e+00,  1.38990774e-05],\n",
      "       [-5.78598384e-04, -1.39113470e-05,  9.99999833e-01]]), array([[-0.2750891 ],\n",
      "       [ 0.14329695],\n",
      "       [-0.95067974]])), (array([[ 9.99999789e-01, -1.25595148e-04,  6.37874864e-04],\n",
      "       [ 1.25524343e-04,  9.99999986e-01,  1.11040336e-04],\n",
      "       [-6.37888801e-04, -1.10960244e-04,  9.99999790e-01]]), array([[-0.23081187],\n",
      "       [ 0.13257936],\n",
      "       [-0.96392354]])), (array([[ 9.99999815e-01, -3.04699366e-04,  5.25824979e-04],\n",
      "       [ 3.04626397e-04,  9.99999944e-01,  1.38844580e-04],\n",
      "       [-5.25867256e-04, -1.38684374e-04,  9.99999852e-01]]), array([[ 0.21177136],\n",
      "       [-0.12683445],\n",
      "       [ 0.96905413]])), (array([[ 9.99999806e-01, -2.05597298e-04,  5.88836421e-04],\n",
      "       [ 2.05560269e-04,  9.99999977e-01,  6.29441045e-05],\n",
      "       [-5.88849349e-04, -6.28230508e-05,  9.99999825e-01]]), array([[ 0.23242478],\n",
      "       [-0.13613106],\n",
      "       [ 0.96304053]])), (array([[ 9.99998510e-01, -7.27436077e-04,  1.56521965e-03],\n",
      "       [ 7.26976055e-04,  9.99999692e-01,  2.94451360e-04],\n",
      "       [-1.56543336e-03, -2.93313044e-04,  9.99998732e-01]]), array([[ 0.2358395 ],\n",
      "       [-0.10492263],\n",
      "       [ 0.96611126]])), (array([[ 9.99997503e-01, -8.59596095e-04,  2.06276370e-03],\n",
      "       [ 8.59434502e-04,  9.99999628e-01,  7.92232601e-05],\n",
      "       [-2.06283103e-03, -7.74502520e-05,  9.99997869e-01]]), array([[-0.32580842],\n",
      "       [ 0.12858719],\n",
      "       [-0.93665052]])), (array([[ 9.99999415e-01, -7.78752461e-04,  7.50380627e-04],\n",
      "       [ 7.78605960e-04,  9.99999678e-01,  1.95508362e-04],\n",
      "       [-7.50532637e-04, -1.94923997e-04,  9.99999699e-01]]), array([[ 0.18455346],\n",
      "       [-0.12702534],\n",
      "       [ 0.97457918]])), (array([[ 9.99997761e-01, -7.94257416e-04,  1.96154631e-03],\n",
      "       [ 7.93680264e-04,  9.99999642e-01,  2.94994101e-04],\n",
      "       [-1.96177991e-03, -2.93436600e-04,  9.99998033e-01]]), array([[-0.2614237 ],\n",
      "       [ 0.1008737 ],\n",
      "       [-0.95993862]])), (array([[ 9.99998167e-01, -6.92058487e-04,  1.78498344e-03],\n",
      "       [ 6.91579092e-04,  9.99999725e-01,  2.69174555e-04],\n",
      "       [-1.78516923e-03, -2.67939605e-04,  9.99998371e-01]]), array([[ 0.25496387],\n",
      "       [-0.09962451],\n",
      "       [ 0.96180475]])), (array([[ 9.99998204e-01, -7.81802335e-04,  1.72647524e-03],\n",
      "       [ 7.81563018e-04,  9.99999685e-01,  1.39286511e-04],\n",
      "       [-1.72658359e-03, -1.37936912e-04,  9.99998500e-01]]), array([[ 0.2706334 ],\n",
      "       [-0.11666467],\n",
      "       [ 0.95558721]])), (array([[ 9.99998853e-01, -7.93214552e-04,  1.29017918e-03],\n",
      "       [ 7.92785402e-04,  9.99999630e-01,  3.33105955e-04],\n",
      "       [-1.29044293e-03, -3.32082738e-04,  9.99999112e-01]]), array([[-0.20030376],\n",
      "       [ 0.09895296],\n",
      "       [-0.97472392]])), (array([[ 9.99998524e-01, -8.87642838e-04,  1.47102834e-03],\n",
      "       [ 8.87209224e-04,  9.99999563e-01,  2.95395639e-04],\n",
      "       [-1.47128990e-03, -2.94090093e-04,  9.99998874e-01]]), array([[ 0.21894312],\n",
      "       [-0.08901651],\n",
      "       [ 0.97166865]])), (array([[ 9.99998504e-01, -7.07849078e-04,  1.57841714e-03],\n",
      "       [ 7.07654580e-04,  9.99999742e-01,  1.23778615e-04],\n",
      "       [-1.57850435e-03, -1.22661455e-04,  9.99998747e-01]]), array([[ 0.25997464],\n",
      "       [-0.12060688],\n",
      "       [ 0.95805384]])), (array([[ 9.99996668e-01, -1.00209496e-03,  2.37896638e-03],\n",
      "       [ 1.00121521e-03,  9.99999430e-01,  3.70964447e-04],\n",
      "       [-2.37933676e-03, -3.68581354e-04,  9.99997101e-01]]), array([[-0.25237507],\n",
      "       [ 0.08888037],\n",
      "       [-0.96353884]])), (array([[ 9.99998387e-01, -8.11765670e-04,  1.60240127e-03],\n",
      "       [ 8.11410203e-04,  9.99999646e-01,  2.22471562e-04],\n",
      "       [-1.60258130e-03, -2.21170998e-04,  9.99998691e-01]]), array([[-0.26333254],\n",
      "       [ 0.11309426],\n",
      "       [-0.95805306]])), (array([[ 9.99996756e-01, -8.16325674e-04,  2.41291800e-03],\n",
      "       [ 8.15467540e-04,  9.99999604e-01,  3.56603993e-04],\n",
      "       [-2.41320815e-03, -3.54635180e-04,  9.99997025e-01]]), array([[-0.29055079],\n",
      "       [ 0.07774411],\n",
      "       [-0.95369602]])), (array([[ 9.99997821e-01, -9.88506571e-04,  1.83884970e-03],\n",
      "       [ 9.88154592e-04,  9.99999493e-01,  1.92310751e-04],\n",
      "       [-1.83903887e-03, -1.90493264e-04,  9.99998291e-01]]), array([[ 0.24614752],\n",
      "       [-0.11672779],\n",
      "       [ 0.96217775]])), (array([[ 9.99999392e-01, -5.17964297e-04,  9.73659100e-04],\n",
      "       [ 5.17721839e-04,  9.99999835e-01,  2.49252784e-04],\n",
      "       [-9.73788043e-04, -2.48748548e-04,  9.99999495e-01]]), array([[-0.17572969],\n",
      "       [ 0.10267639],\n",
      "       [-0.97906927]])), (array([[ 9.99998875e-01, -5.92209943e-04,  1.37788945e-03],\n",
      "       [ 5.91988844e-04,  9.99999812e-01,  1.60864790e-04],\n",
      "       [-1.37798446e-03, -1.60048914e-04,  9.99999038e-01]]), array([[ 0.24612269],\n",
      "       [-0.11670167],\n",
      "       [ 0.96218727]])), (array([[ 9.99997215e-01, -9.73169742e-04,  2.15008634e-03],\n",
      "       [ 9.72671719e-04,  9.99999500e-01,  2.32663280e-04],\n",
      "       [-2.15031168e-03, -2.30571304e-04,  9.99997661e-01]]), array([[ 0.24986517],\n",
      "       [-0.10646934],\n",
      "       [ 0.96240931]])), (array([[ 9.99999542e-01, -3.74319087e-04,  8.80439529e-04],\n",
      "       [ 3.74240484e-04,  9.99999926e-01,  8.94395336e-05],\n",
      "       [-8.80472942e-04, -8.91099965e-05,  9.99999608e-01]]), array([[ 0.18788722],\n",
      "       [-0.12420734],\n",
      "       [ 0.97430536]])), (array([[ 9.99999368e-01, -4.82711827e-04,  1.01581439e-03],\n",
      "       [ 4.82491553e-04,  9.99999860e-01,  2.17078677e-04],\n",
      "       [-1.01591904e-03, -2.16588418e-04,  9.99999460e-01]]), array([[ 0.21880293],\n",
      "       [-0.11253197],\n",
      "       [ 0.96925839]])), (array([[ 9.99999275e-01, -2.54114111e-04,  1.17699563e-03],\n",
      "       [ 2.54039146e-04,  9.99999966e-01,  6.38407728e-05],\n",
      "       [-1.17701181e-03, -6.35417236e-05,  9.99999305e-01]]), array([[ 0.24135459],\n",
      "       [-0.13653388],\n",
      "       [ 0.96078429]])), (array([[ 9.99999459e-01, -3.86274559e-04,  9.65791920e-04],\n",
      "       [ 3.86105292e-04,  9.99999910e-01,  1.75442872e-04],\n",
      "       [-9.65859602e-04, -1.75069879e-04,  9.99999518e-01]]), array([[ 0.21294473],\n",
      "       [-0.10935703],\n",
      "       [ 0.97092512]])), (array([[ 9.99999288e-01, -3.39505693e-04,  1.14433254e-03],\n",
      "       [ 3.39399950e-04,  9.99999938e-01,  9.25985261e-05],\n",
      "       [-1.14436391e-03, -9.22100737e-05,  9.99999341e-01]]), array([[ 0.25243793],\n",
      "       [-0.12424193],\n",
      "       [ 0.95960358]])), (array([[ 9.99998766e-01, -3.18478195e-04,  1.53863330e-03],\n",
      "       [ 3.18263395e-04,  9.99999940e-01,  1.39847057e-04],\n",
      "       [-1.53867775e-03, -1.39357194e-04,  9.99998807e-01]]), array([[-0.26052179],\n",
      "       [ 0.11903654],\n",
      "       [-0.95810161]])), (array([[ 9.99998940e-01, -4.61167292e-04,  1.38132891e-03],\n",
      "       [ 4.60911366e-04,  9.99999877e-01,  1.85588171e-04],\n",
      "       [-1.38141433e-03, -1.84951304e-04,  9.99999029e-01]]), array([[ 0.26434947],\n",
      "       [-0.11243261],\n",
      "       [ 0.95785086]])), (array([[ 9.99999214e-01, -3.12179568e-04,  1.21446657e-03],\n",
      "       [ 3.12151698e-04,  9.99999951e-01,  2.31383929e-05],\n",
      "       [-1.21447374e-03, -2.27592769e-05,  9.99999262e-01]]), array([[-0.28350634],\n",
      "       [ 0.14026435],\n",
      "       [-0.94865698]])), (array([[ 9.99998699e-01, -5.81630984e-04,  1.50444330e-03],\n",
      "       [ 5.81379568e-04,  9.99999817e-01,  1.67547735e-04],\n",
      "       [-1.50454048e-03, -1.66672864e-04,  9.99998854e-01]]), array([[ 0.25826187],\n",
      "       [-0.11832454],\n",
      "       [ 0.95880139]])), (array([[ 9.99999398e-01, -5.09232005e-04,  9.71680040e-04],\n",
      "       [ 5.08994960e-04,  9.99999841e-01,  2.44185417e-04],\n",
      "       [-9.71804232e-04, -2.43690689e-04,  9.99999498e-01]]), array([[-0.24752388],\n",
      "       [ 0.10924893],\n",
      "       [-0.96270276]])), (array([[ 9.99997744e-01, -2.61079771e-04,  2.10805760e-03],\n",
      "       [ 2.60565987e-04,  9.99999936e-01,  2.43994503e-04],\n",
      "       [-2.10812117e-03, -2.43444665e-04,  9.99997748e-01]]), array([[ 0.31535355],\n",
      "       [-0.09435447],\n",
      "       [ 0.94427187]])), (array([[ 9.99999708e-01, -1.63639976e-04,  7.47099203e-04],\n",
      "       [ 1.63545164e-04,  9.99999979e-01,  1.26966658e-04],\n",
      "       [-7.47119964e-04, -1.26844436e-04,  9.99999713e-01]]), array([[-0.21517158],\n",
      "       [ 0.12926524],\n",
      "       [-0.96798331]])), (array([[ 9.99998836e-01, -4.70651928e-04,  1.45116042e-03],\n",
      "       [ 4.70467758e-04,  9.99999881e-01,  1.27250634e-04],\n",
      "       [-1.45122013e-03, -1.26567762e-04,  9.99998939e-01]]), array([[-0.26191924],\n",
      "       [ 0.11701649],\n",
      "       [-0.95796944]])), (array([[ 9.99998610e-01, -3.58597883e-04,  1.62837320e-03],\n",
      "       [ 3.58409448e-04,  9.99999929e-01,  1.16010195e-04],\n",
      "       [-1.62841469e-03, -1.15426410e-04,  9.99998667e-01]]), array([[ 0.28649921],\n",
      "       [-0.11005747],\n",
      "       [ 0.95173817]])), (array([[ 9.99998232e-01, -6.13520509e-04,  1.77768396e-03],\n",
      "       [ 6.13277120e-04,  9.99999802e-01,  1.37454978e-04],\n",
      "       [-1.77776794e-03, -1.36364522e-04,  9.99998410e-01]]), array([[ 0.2593447 ],\n",
      "       [-0.1155414 ],\n",
      "       [ 0.95884853]])), (array([[ 9.99999559e-01, -6.79470438e-04,  6.48635359e-04],\n",
      "       [ 6.79325301e-04,  9.99999744e-01,  2.23951260e-04],\n",
      "       [-6.48787362e-04, -2.23510527e-04,  9.99999765e-01]]), array([[ 0.18167741],\n",
      "       [-0.12016572],\n",
      "       [ 0.97598848]])), (array([[ 9.99999050e-01, -5.52940706e-04,  1.26238207e-03],\n",
      "       [ 5.52761610e-04,  9.99999837e-01,  1.42216525e-04],\n",
      "       [-1.26246050e-03, -1.41518593e-04,  9.99999193e-01]]), array([[ 0.25382241],\n",
      "       [-0.11781001],\n",
      "       [ 0.96004947]])), (array([[ 9.99997985e-01, -8.56140874e-04,  1.81592643e-03],\n",
      "       [ 8.55613047e-04,  9.99999591e-01,  2.91422259e-04],\n",
      "       [-1.81617518e-03, -2.89867941e-04,  9.99998309e-01]]), array([[ 0.23533578],\n",
      "       [-0.10168588],\n",
      "       [ 0.96658008]])), (array([[ 9.99998168e-01, -8.40502056e-04,  1.71968817e-03],\n",
      "       [ 8.39988769e-04,  9.99999602e-01,  2.99177009e-04],\n",
      "       [-1.71993894e-03, -2.97731942e-04,  9.99998477e-01]]), array([[ 0.22935312],\n",
      "       [-0.08564282],\n",
      "       [ 0.96956818]])), (array([[ 9.99999008e-01, -7.35834736e-04,  1.20145803e-03],\n",
      "       [ 7.35719471e-04,  9.99999725e-01,  9.63771309e-05],\n",
      "       [-1.20152861e-03, -9.54930991e-05,  9.99999274e-01]]), array([[-0.21579989],\n",
      "       [ 0.1302601 ],\n",
      "       [-0.96771004]])), (array([[ 9.99998596e-01, -1.01089581e-03,  1.33646305e-03],\n",
      "       [ 1.01056011e-03,  9.99999458e-01,  2.51838471e-04],\n",
      "       [-1.33671691e-03, -2.50487541e-04,  9.99999075e-01]]), array([[-0.2223375 ],\n",
      "       [ 0.12515516],\n",
      "       [-0.96690342]])), (array([[ 9.99998060e-01, -6.69258495e-04,  1.85257876e-03],\n",
      "       [ 6.68926324e-04,  9.99999760e-01,  1.79915887e-04],\n",
      "       [-1.85269873e-03, -1.78676299e-04,  9.99998268e-01]]), array([[-0.27685596],\n",
      "       [ 0.1106224 ],\n",
      "       [-0.95452264]])), (array([[ 9.99998909e-01, -6.30357563e-04,  1.33582494e-03],\n",
      "       [ 6.30213494e-04,  9.99999796e-01,  1.08268803e-04],\n",
      "       [-1.33589291e-03, -1.07426830e-04,  9.99999102e-01]]), array([[ 0.23711831],\n",
      "       [-0.13473054],\n",
      "       [ 0.96209282]])), (array([[ 9.99997055e-01, -1.02728585e-03,  2.19858716e-03],\n",
      "       [ 1.02674468e-03,  9.99999442e-01,  2.47260970e-04],\n",
      "       [-2.19883994e-03, -2.45002854e-04,  9.99997553e-01]]), array([[-0.26082795],\n",
      "       [ 0.10424165],\n",
      "       [-0.95974083]])), (array([[ 9.99998247e-01, -8.59876157e-04,  1.66308068e-03],\n",
      "       [ 8.59495412e-04,  9.99999604e-01,  2.29640392e-04],\n",
      "       [-1.66327749e-03, -2.28210579e-04,  9.99998591e-01]]), array([[-0.25456869],\n",
      "       [ 0.10346566],\n",
      "       [-0.96150384]])), (array([[ 9.99997370e-01, -7.09031537e-04,  2.18123489e-03],\n",
      "       [ 7.08397474e-04,  9.99999707e-01,  2.91448766e-04],\n",
      "       [-2.18144090e-03, -2.89902818e-04,  9.99997579e-01]]), array([[ 0.27865167],\n",
      "       [-0.0867883 ],\n",
      "       [ 0.95646277]])), (array([[ 9.99996687e-01, -6.23094988e-04,  2.49749732e-03],\n",
      "       [ 6.22574904e-04,  9.99999784e-01,  2.09013871e-04],\n",
      "       [-2.49762702e-03, -2.07458300e-04,  9.99996859e-01]]), array([[-0.27437328],\n",
      "       [ 0.10276142],\n",
      "       [-0.95611683]])), (array([[ 9.99998447e-01, -6.07819484e-04,  1.65410533e-03],\n",
      "       [ 6.07641869e-04,  9.99999810e-01,  1.07878736e-04],\n",
      "       [-1.65417059e-03, -1.06873465e-04,  9.99998626e-01]]), array([[-0.2622088 ],\n",
      "       [ 0.11666115],\n",
      "       [-0.95793357]])), (array([[ 9.99999229e-01, -8.01455118e-04,  9.48752295e-04],\n",
      "       [ 8.01259148e-04,  9.99999658e-01,  2.06917528e-04],\n",
      "       [-9.48917805e-04, -2.06157172e-04,  9.99999529e-01]]), array([[-0.17505291],\n",
      "       [ 0.11187423],\n",
      "       [-0.97818231]])), (array([[ 9.99996995e-01, -1.10228725e-03,  2.18973102e-03],\n",
      "       [ 1.10180622e-03,  9.99999369e-01,  2.20869420e-04],\n",
      "       [-2.18997310e-03, -2.18456097e-04,  9.99997578e-01]]), array([[ 0.26549078],\n",
      "       [-0.11296476],\n",
      "       [ 0.95747251]])), (array([[ 9.99998034e-01, -7.51964250e-04,  1.83498852e-03],\n",
      "       [ 7.51546076e-04,  9.99999691e-01,  2.28568275e-04],\n",
      "       [-1.83515983e-03, -2.27188747e-04,  9.99998290e-01]]), array([[ 0.26134292],\n",
      "       [-0.09902457],\n",
      "       [ 0.96015312]])), (array([[ 9.99999037e-01, -5.59756553e-04,  1.26987200e-03],\n",
      "       [ 5.59548278e-04,  9.99999830e-01,  1.64361562e-04],\n",
      "       [-1.26996379e-03, -1.63650849e-04,  9.99999180e-01]]), array([[ 0.22276007],\n",
      "       [-0.1145494 ],\n",
      "       [ 0.96812003]])), (array([[ 9.99996289e-01, -1.10392619e-03,  2.49066692e-03],\n",
      "       [ 1.10319007e-03,  9.99999347e-01,  2.96908442e-04],\n",
      "       [-2.49099306e-03, -2.94159661e-04,  9.99996854e-01]]), array([[ 0.27085141],\n",
      "       [-0.10130781],\n",
      "       [ 0.95727543]])), (array([[ 9.99998420e-01, -6.18070339e-04,  1.66683435e-03],\n",
      "       [ 6.17766333e-04,  9.99999792e-01,  1.82894001e-04],\n",
      "       [-1.66694704e-03, -1.81863998e-04,  9.99998594e-01]]), array([[ 0.22678747],\n",
      "       [-0.10367941],\n",
      "       [ 0.96841005]])), (array([[ 9.99998875e-01, -8.51797412e-04,  1.23494040e-03],\n",
      "       [ 8.51447334e-04,  9.99999597e-01,  2.83975672e-04],\n",
      "       [-1.23518179e-03, -2.82923866e-04,  9.99999197e-01]]), array([[-0.1821209 ],\n",
      "       [ 0.10317325],\n",
      "       [-0.97784828]])), (array([[ 9.99996892e-01, -1.26680848e-03,  2.14714463e-03],\n",
      "       [ 1.26616043e-03,  9.99999152e-01,  3.03152554e-04],\n",
      "       [-2.14752685e-03, -3.00432982e-04,  9.99997649e-01]]), array([[-0.24137953],\n",
      "       [ 0.10264103],\n",
      "       [-0.96498743]])), (array([[ 9.99996219e-01, -1.27575149e-03,  2.43625568e-03],\n",
      "       [ 1.27470417e-03,  9.99999095e-01,  4.31393630e-04],\n",
      "       [-2.43680382e-03, -4.28286493e-04,  9.99996939e-01]]), array([[-0.25786087],\n",
      "       [ 0.07526628],\n",
      "       [-0.96324595]])), (array([[ 9.99997654e-01, -1.11305195e-03,  1.85810173e-03],\n",
      "       [ 1.11228872e-03,  9.99999297e-01,  4.11738741e-04],\n",
      "       [-1.85855871e-03, -4.09671029e-04,  9.99998189e-01]]), array([[-0.20502072],\n",
      "       [ 0.07688491],\n",
      "       [-0.97573317]])), (array([[ 9.99994679e-01, -1.37860566e-03,  2.95666532e-03],\n",
      "       [ 1.37691145e-03,  9.99998887e-01,  5.74971677e-04],\n",
      "       [-2.95745468e-03, -5.70897551e-04,  9.99995464e-01]]), array([[-0.24653894],\n",
      "       [ 0.06678344],\n",
      "       [-0.96682911]])), (array([[ 9.99993628e-01, -1.20071079e-03,  3.36188777e-03],\n",
      "       [ 1.19974010e-03,  9.99999238e-01,  2.90733505e-04],\n",
      "       [-3.36223429e-03, -2.86698261e-04,  9.99994307e-01]]), array([[ 0.3733014 ],\n",
      "       [-0.08678505],\n",
      "       [ 0.92364193]])), (array([[ 9.99995809e-01, -1.44968810e-03,  2.50608361e-03],\n",
      "       [ 1.44862645e-03,  9.99998860e-01,  4.25392408e-04],\n",
      "       [-2.50669744e-03, -4.21760246e-04,  9.99996769e-01]]), array([[ 0.27818813],\n",
      "       [-0.07625407],\n",
      "       [ 0.957495  ]])), (array([[ 9.99997211e-01, -1.22669860e-03,  2.01812353e-03],\n",
      "       [ 1.22617695e-03,  9.99999215e-01,  2.59698383e-04],\n",
      "       [-2.01844051e-03, -2.57223082e-04,  9.99997930e-01]]), array([[-0.22424188],\n",
      "       [ 0.10734709],\n",
      "       [-0.96860321]])), (array([[ 9.99996500e-01, -1.26866445e-03,  2.32187758e-03],\n",
      "       [ 1.26747886e-03,  9.99999066e-01,  5.12014213e-04],\n",
      "       [-2.32252499e-03, -5.09069490e-04,  9.99997173e-01]]), array([[ 0.25738553],\n",
      "       [-0.06584869],\n",
      "       [ 0.96406257]])), (array([[ 9.99997584e-01, -1.32904839e-03,  1.75103991e-03],\n",
      "       [ 1.32839057e-03,  9.99999047e-01,  3.76779244e-04],\n",
      "       [-1.75153900e-03, -3.74452269e-04,  9.99998396e-01]]), array([[ 0.19829909],\n",
      "       [-0.07972219],\n",
      "       [ 0.97689398]])), (array([[ 9.99993227e-01, -1.30420683e-03,  3.44174286e-03],\n",
      "       [ 1.30198352e-03,  9.99998942e-01,  6.48144594e-04],\n",
      "       [-3.44258454e-03, -6.43659112e-04,  9.99993867e-01]]), array([[ 0.28150001],\n",
      "       [-0.05569853],\n",
      "       [ 0.95794333]]))]\n"
     ]
    }
   ],
   "source": [
    "print(poses)"
   ]
  },
  {
   "cell_type": "code",
   "execution_count": 45,
   "metadata": {},
   "outputs": [],
   "source": [
    "# F, mask = cv2.findEssentialMat(pts1, pts2, K, method=cv2.LMEDS, prob=0.999, threshold=1.0)\n",
    "# a, R, t, b = cv2.recoverPose(F, pts1, pts2, K, mask)"
   ]
  },
  {
   "cell_type": "code",
   "execution_count": 46,
   "metadata": {},
   "outputs": [],
   "source": [
    "# poses"
   ]
  },
  {
   "cell_type": "code",
   "execution_count": 47,
   "metadata": {},
   "outputs": [],
   "source": [
    "import matplotlib.pyplot as plt\n",
    "from mpl_toolkits.mplot3d import Axes3D\n",
    "\n",
    "def create_trajectory(poses):\n",
    "    trajectory = [np.array([0, 0, 0])]\n",
    "    current_pose = np.eye(4)\n",
    "    pose_cam = [np.array([[0, 0, 0],[0, 0, 0],[0, 0, 0]])]\n",
    "\n",
    "    for R, t in poses:\n",
    "        T = np.eye(4)\n",
    "        T[:3, :3] = R\n",
    "        T[:3, 3] = t.T\n",
    "        current_pose = np.dot(current_pose, T)\n",
    "        trajectory.append(current_pose[:3, 3])\n",
    "        pose_cam.append(current_pose[:3, :3])\n",
    "\n",
    "    return np.array(trajectory),np.array(pose_cam)"
   ]
  },
  {
   "cell_type": "code",
   "execution_count": 48,
   "metadata": {},
   "outputs": [],
   "source": [
    "trajectory, pose_cam = create_trajectory(poses)"
   ]
  },
  {
   "cell_type": "code",
   "execution_count": 49,
   "metadata": {},
   "outputs": [
    {
     "data": {
      "application/vnd.plotly.v1+json": {
       "config": {
        "plotlyServerURL": "https://plot.ly"
       },
       "data": [
        {
         "line": {
          "color": "blue",
          "width": 2
         },
         "marker": {
          "color": "blue",
          "size": 3
         },
         "mode": "lines+markers",
         "name": "Camera Trajectory",
         "type": "scatter3d",
         "x": [
          -0.48763348815418217,
          0.4935620897406857,
          1.4839983633578298,
          0.4904280113601004,
          -0.45164234500066214,
          -1.4250624163022394,
          -1.5306071290514998,
          -0.607979759063918,
          -1.566095860288081,
          -1.3329226181584135,
          -1.552812078155708,
          -0.9107612862437752,
          -0.5850898736193061,
          -0.36977493521386084,
          -0.1462039560544813,
          0.08312044791565415,
          -0.11501880746553592,
          -1.1112727414846493,
          -0.6764325076663984,
          -0.44449777321527806,
          -0.23150361745368536,
          -0.02502625764248037,
          0.3590932054887561,
          0.9365201531934497,
          1.180621762210194,
          1.505849443204427,
          1.0607574294793967,
          1.2954544384445705,
          1.6797317382574724,
          2.053189556314235,
          1.7574832851036941,
          1.910121370778103,
          1.7484486607749616,
          1.572321464273982,
          1.388334376857237,
          1.1648813421964448,
          1.3475943891276319,
          1.5548012944033474,
          1.8948763356486058,
          2.2650739002250084,
          2.531348853421296,
          2.1966987478237767,
          1.9653009793598926,
          1.2084934655662654,
          0.3408675479201938,
          -0.48760892616538554,
          -1.2988098053407977,
          -2.1612757348906775,
          -1.7613226243639468,
          -2.459462965711315,
          -2.992654200680832,
          -3.474979911432425,
          -2.884834874966463,
          -2.4766541287607273,
          -2.8694167464889504,
          -2.4986924212006985,
          -2.090271988273048,
          -1.7252460409772226,
          -1.3801899074546287,
          -1.7752140627925386,
          -1.4426537493357103,
          -1.7896778160079,
          -2.1569469267623678,
          -1.7703657440327605,
          -1.4396812380262944,
          -1.0773729974200585,
          -0.7379213288999124,
          -1.1142172415559146,
          -1.4430338517441006,
          -1.0360795543336407,
          -1.3580421695383513,
          -1.7218910630780473,
          -1.2646211090999542,
          -0.9585940372998132,
          -1.3986387245526344,
          -0.9777232534325153,
          -1.4055348617338912,
          -1.0236664426487168,
          -0.5509735382772218,
          -0.1251193810687743,
          -0.4888145716977819,
          -0.07453646563785599,
          -0.5301173097329392,
          -0.13113466987165617,
          0.3350960990571412,
          -0.11019456411850659,
          0.41223824165523393,
          0.8978097757033838,
          0.34299649992773507,
          0.8427975228105287,
          1.2995364829719636,
          1.7785167787647693,
          2.214361361763383,
          1.827949764798793,
          1.4956806830870506,
          1.0515961019908386,
          0.7377585340536481,
          0.3727730386836503,
          0.6106221798425384,
          1.0000542193470456,
          1.3167636999144001,
          0.9756386151623508,
          1.3698360766973394,
          1.7320584763673021,
          2.1617768346804613,
          1.8338746179316143,
          1.5645942578519403,
          1.96217966130704,
          2.2851771143595365,
          2.6454404324911174,
          2.998507108646244,
          3.3406853503394456,
          3.757727468665982,
          3.5823070686404206,
          3.870317536829363,
          3.513916377544612,
          3.7870348737859327,
          4.034594470909728,
          3.949519575071879,
          3.5653046453013504,
          3.804989419632171,
          4.045356066515618,
          3.833201482521488,
          3.526225024256624,
          3.283437029900429,
          3.479935830346942,
          3.1591466277092355,
          3.3759889592808707,
          2.988008035728969,
          2.606266769820541,
          2.2919373521725586,
          1.8910125942081368,
          2.159105708576596,
          2.317091602702273,
          2.492129791536824,
          2.217947763846976,
          2.2874435085998406,
          2.1152878260782026,
          1.9363037917988264,
          1.7097191449652622,
          1.7887491110301343,
          1.5913881098969704,
          1.787703867035654,
          1.7181667151002888,
          1.5100541827339506,
          1.3725471656155215,
          1.5481045692638413,
          1.6286224442606143,
          1.7814154685475503,
          1.561010132649723,
          1.8441161447426369,
          2.065873291002205,
          1.8352989943494722,
          1.6271928960516795,
          1.4699192866101518,
          1.2138186975941858,
          0.9810702284188152,
          0.757762643596711,
          1.0008264197945302,
          1.3347487114750713,
          1.569145575529797,
          1.7943202076927676,
          2.156542003713748,
          2.3924413833873412,
          2.179475646149078,
          1.9039475383457614,
          2.1553674984537152,
          1.8471584172186901,
          1.603460954419098,
          1.3499958137847672,
          1.5711063910275591,
          1.3026149831126066,
          1.0225418347133055,
          0.7079146665235425,
          0.3742061868002972,
          0.125698330877933,
          0.40533338410266984,
          0.7138204053892572,
          0.4283102275854761,
          0.07429523923024117,
          0.35293552158436026,
          0.0248266898748013,
          -0.2637215396823408,
          0.0686461394322333,
          0.3465674971456102,
          0.04333417809433837,
          -0.2148985914219298,
          0.024052048288932204,
          0.28578685529920067,
          0.5435922065778807,
          0.19147791550158644,
          0.40862288999605356,
          0.1230742059453242,
          0.40384646753668596,
          0.7056404478613465,
          0.47453077890949813,
          0.7222515584373076,
          1.018842744489734,
          0.7361848626948748,
          0.4346732559963982,
          0.11464007107435009,
          0.40421180678564406,
          0.1841598336094207,
          0.4762614840366841,
          0.7705673119838441,
          1.0120361729673266,
          1.2809373509032849,
          1.5785551362248522,
          1.843026324213792,
          2.150004802204719,
          1.8356131883064246,
          2.153327644112803,
          1.8088826557421354,
          2.124677292880904,
          1.820126791317525,
          2.186169306412237,
          1.9044923037316734,
          1.5808172338374578,
          1.9273388827681766,
          2.250960808981053,
          2.503490262075597,
          2.824638282767326,
          3.1251209035999516,
          3.417292243461314,
          3.1246420949270326,
          2.826009016087263,
          2.4784075564700023,
          2.796496601667539,
          2.4628926041459285,
          2.1334464917531193,
          2.482572242813319,
          2.1312656898959195,
          1.7854489794527657,
          1.5216630052775448,
          1.8718837692267531,
          2.216374120656657,
          2.53044990421222,
          2.887196621285425,
          3.2054656713342213,
          2.927848811403797,
          2.5936222624148066,
          2.2496722724569245,
          1.9526281640146705,
          1.6179880532784365,
          2.0780974127465455,
          2.450254423798754,
          2.117336418610699,
          2.4710691732415304,
          2.775790117063229,
          3.1522321797471933
         ],
         "y": [
          -0.03544619522231874,
          -0.21895671321383298,
          -0.35529752978241835,
          -0.4561147844839187,
          -0.7814537520133924,
          -1.0073721553444894,
          -0.908191210482244,
          -0.5355254559141627,
          -0.771552348863135,
          -0.6300874499201508,
          -0.7545991383797598,
          -0.6033693590238308,
          -0.506038806933804,
          -0.44275163600112644,
          -0.37127548285659506,
          -0.3370026517523609,
          -0.39737902415060544,
          -0.40118677649301193,
          -0.43913815434183107,
          -0.4344356901041449,
          -0.4350639405643898,
          -0.43891592789811384,
          -0.533963409856909,
          -0.623748486683323,
          -0.5191539218260965,
          -0.5422007193021959,
          -0.620623255776356,
          -0.6513502242710517,
          -0.566846152452792,
          -0.5423535493182112,
          -0.5721704997482585,
          -0.6413792978340285,
          -0.638219311136598,
          -0.6040177704531317,
          -0.5913498118894494,
          -0.5735063439283545,
          -0.610318099574201,
          -0.6136952885015557,
          -0.6592163074525442,
          -0.7184935702721783,
          -0.7627150942779,
          -0.7453002492097736,
          -0.8125070399101687,
          -1.417493837783483,
          -1.8694065813998533,
          -2.401601961990899,
          -2.9728067521794013,
          -3.4633127848018574,
          -3.222741300858382,
          -3.309069497834594,
          -3.3170771764240716,
          -3.3351731396483366,
          -3.321891051405857,
          -3.283741228915458,
          -3.305653812575844,
          -3.282733532134586,
          -3.2357792216689,
          -3.2006246597642978,
          -3.1715408219816914,
          -3.1977422283496604,
          -3.149806773706726,
          -3.1875661339137036,
          -3.2485906404291485,
          -3.1848993688772027,
          -3.117036072459796,
          -3.0622832028284197,
          -2.9945146553236266,
          -3.1434588735188522,
          -3.3023396374651752,
          -3.0805909152265096,
          -3.277002936429129,
          -3.4865865365966107,
          -3.3065808602740443,
          -3.1094390144179282,
          -3.3613103395012787,
          -3.0863852653515167,
          -3.3393063788452118,
          -3.11347216374442,
          -2.8285345671673223,
          -2.5617021394265165,
          -2.7955545298670024,
          -2.550680057848526,
          -2.838396465896249,
          -2.5735671519473926,
          -2.388149112151395,
          -2.5216750084505826,
          -2.342270091614983,
          -2.2762528184921447,
          -2.4210641477807395,
          -2.3256802560687246,
          -2.2909336774593574,
          -2.3373979283259865,
          -2.3635446147647987,
          -2.34322524307558,
          -2.4250470034976424,
          -2.6606582518047635,
          -2.8386247252378007,
          -3.0492752019194764,
          -2.920057041480433,
          -2.7393783853440876,
          -2.5731746388189713,
          -2.7262842473207916,
          -2.5784387605427384,
          -2.4215133040730725,
          -2.2829909423477974,
          -2.422051174330085,
          -2.6506957744440354,
          -2.44028438629139,
          -2.236105470121985,
          -2.020702641569122,
          -1.7889257198890516,
          -1.5867083944009952,
          -1.3803438748263384,
          -1.5084768178924217,
          -1.3834466599720574,
          -1.4807168582610981,
          -1.3968733475460777,
          -1.352774481328153,
          -1.399407283773433,
          -1.5473826424910089,
          -1.4224518758862033,
          -1.2145714828292475,
          -1.4255598276442885,
          -1.665564006844068,
          -1.8943258246987014,
          -1.7817434629249134,
          -1.8392146167217878,
          -1.8733176427268188,
          -1.920470784784535,
          -1.970977377836101,
          -1.9132113767668546,
          -1.9132412393808231,
          -1.8391413842768947,
          -1.8396128726598733,
          -1.811177849960471,
          -1.9323044278279506,
          -1.80804047402611,
          -1.9475747531649672,
          -2.146080708998053,
          -2.396137260282129,
          -2.163069000363674,
          -2.3786681243703516,
          -2.1580605460196063,
          -2.2867260979365303,
          -2.5350056990745644,
          -2.7220364143049123,
          -2.5455176250481353,
          -2.473589697933834,
          -2.36893069629253,
          -2.467165697603083,
          -2.3399222929571355,
          -2.2257009866071864,
          -2.3800407562011237,
          -2.4966032551095765,
          -2.60748869192691,
          -2.7703695104801276,
          -2.948081950450616,
          -3.0648070366715365,
          -2.917761052747591,
          -2.771672219777468,
          -2.626649726815083,
          -2.5106218412000825,
          -2.37925154277187,
          -2.250053671542553,
          -2.3846554689583486,
          -2.5382999707537195,
          -2.395503488264351,
          -2.5420481377328596,
          -2.682125658247396,
          -2.8361265633786306,
          -2.7085036538452067,
          -2.8637921775408253,
          -3.0525831857128956,
          -3.1608661388623926,
          -3.2892184162120106,
          -3.38205709529148,
          -3.227377101941795,
          -3.0663096707696194,
          -3.1631532029765985,
          -3.249522277384714,
          -3.1798434937942512,
          -3.281887402995244,
          -3.346914636577462,
          -3.3225448453014566,
          -3.2432775218707666,
          -3.2916123440445855,
          -3.3410792650882937,
          -3.2898862814198595,
          -3.2429547806311176,
          -3.1645739284050993,
          -3.23961070824373,
          -3.1926172828423347,
          -3.282528231521897,
          -3.191894323081291,
          -3.1136837128293644,
          -3.1944356091317925,
          -3.0990958321434006,
          -3.0246851969624116,
          -3.1289543463600142,
          -3.213176432413008,
          -3.3383665773005466,
          -3.2596098685224697,
          -3.336978437304025,
          -3.2567928616445645,
          -3.165224692438051,
          -3.1039614086626908,
          -3.0239241795648364,
          -2.9616781459436674,
          -2.878959507441991,
          -2.801415683279704,
          -2.8862328586953097,
          -2.7936060930527935,
          -2.863869090406444,
          -2.7773556460022424,
          -2.8709546663537746,
          -2.7476038611284106,
          -2.8157778328382728,
          -2.9066454437792197,
          -2.8030979794622186,
          -2.710254799302676,
          -2.6388283650712068,
          -2.5482054770035227,
          -2.445501279276127,
          -2.327726267126094,
          -2.3999722657558933,
          -2.479215179549558,
          -2.585594605012308,
          -2.510784360482796,
          -2.621115185757466,
          -2.7317793290170282,
          -2.5988008051730174,
          -2.7163120583969875,
          -2.818536590706274,
          -2.905881841204369,
          -2.7980893800389555,
          -2.676741794153037,
          -2.5784358902977873,
          -2.4557626337755907,
          -2.344315149994637,
          -2.4464149875427723,
          -2.563688782908204,
          -2.7122322689271865,
          -2.8481740714804333,
          -3.0046225596803295,
          -2.83799223139246,
          -2.6805275057764315,
          -2.796885607585191,
          -2.6318337722113117,
          -2.49277743993007,
          -2.31004649415334
         ],
         "z": [
          0.8723285782747497,
          0.8125027669050571,
          0.7913563809065811,
          0.7398409775250762,
          0.6582444097470248,
          0.6206380296559195,
          1.6100941700618048,
          1.709487185520621,
          1.5472995091088149,
          2.5093899006634715,
          1.5418437959123659,
          2.293442315363552,
          3.233902253175384,
          4.2083940239435105,
          5.180457384434676,
          6.153203852324354,
          5.174891259574461,
          5.088499130456494,
          5.988206674035109,
          6.960926657270358,
          7.937979928547194,
          8.916423724622868,
          9.834801759103803,
          10.646292215020392,
          11.610384732094227,
          12.555739586443222,
          11.663695302177494,
          12.635278117685225,
          13.55462028396209,
          14.481944051868409,
          13.527130588078853,
          14.512986438124475,
          13.526147064505691,
          12.54237398840146,
          11.559526963432807,
          10.58497560411304,
          11.567452492964575,
          12.545743805918447,
          13.485039714115484,
          14.412099566171602,
          15.37498175320952,
          14.432800226116774,
          13.462265157181248,
          13.21481140096709,
          13.007446651827003,
          12.833105581610393,
          12.707892877419718,
          12.583167770377738,
          13.46756749363257,
          12.756830196039283,
          11.910873350783401,
          11.035068324043458,
          11.842256295997018,
          12.754359946615125,
          11.834981153737784,
          12.763441241939782,
          13.675026697448962,
          14.605360086389764,
          15.543491417866477,
          14.625194405454966,
          15.567057362631681,
          14.629961568239747,
          13.701850901406225,
          14.621904384138327,
          15.563202599629369,
          16.493651341933823,
          17.431830423297278,
          16.517381405590662,
          15.586448250250182,
          16.47257222803471,
          15.546417601453575,
          14.638844630717463,
          15.509764917357131,
          16.44115233617804,
          15.57922338967414,
          16.44365752237337,
          15.575897107194335,
          16.47209765271704,
          17.305987324204644,
          18.170538474972616,
          17.268851795577497,
          18.145441861567907,
          17.303025478160198,
          18.180908322031005,
          19.045922206672326,
          18.160548240313428,
          18.99414156998119,
          19.865842209519524,
          19.04656697619878,
          19.907439121599698,
          20.79636105154945,
          21.672956140306873,
          22.572598208164436,
          21.650495610366647,
          20.710866717207296,
          19.846415316315518,
          18.913766446008438,
          18.006897125299385,
          18.96956552774268,
          19.872725485792262,
          20.806573128376304,
          19.879108237214744,
          20.78616395400326,
          21.704950835869298,
          22.597225282343416,
          21.662804398516315,
          20.727277950726574,
          21.620392106193343,
          22.544504445421364,
          23.45214532322505,
          24.35857975591463,
          25.276197434571817,
          26.161346888959283,
          25.18522720769264,
          26.134657262948945,
          25.205401258295066,
          26.16372090889285,
          27.13158946188452,
          26.136306766448556,
          25.224998815778847,
          26.187777872732994,
          27.135939049563436,
          26.181751253140487,
          25.2607933561453,
          24.318072814050062,
          25.29209203010307,
          24.34668663877493,
          25.322297415086812,
          24.40183699543049,
          23.478948762782057,
          22.531393958920273,
          21.61528297352637,
          22.57582203754292,
          23.563263294001253,
          24.54741423869094,
          23.593395073356202,
          24.583207586535732,
          23.608070362386893,
          22.644452128348192,
          21.703106751252612,
          22.67235050319655,
          21.716021243496073,
          22.671422949519922,
          21.68217588217495,
          20.736106955758483,
          19.763424411552197,
          20.731939106878798,
          21.726093644718386,
          22.70879440543077,
          21.738345348331283,
          22.68895573218523,
          23.657344735250902,
          22.69660817966202,
          21.725472228469048,
          20.7441621695809,
          19.791333576783064,
          18.83517122719161,
          17.8674372881321,
          18.826237308632876,
          19.75744832446132,
          20.7187113408394,
          21.686096432098296,
          22.608884173227434,
          23.572034936472434,
          22.6042911941031,
          21.655356196920273,
          22.612642553371664,
          21.672678815796427,
          20.712996662752232,
          19.75798925770137,
          20.7248514534633,
          19.77416862607854,
          18.83293699317457,
          17.889918145486938,
          16.956020750983686,
          15.991850213572567,
          16.939414637063308,
          17.87690759187061,
          16.923437472443617,
          15.992194340385332,
          16.95005887160411,
          16.010946719010416,
          15.055692104725786,
          15.998527105748314,
          16.955854850234434,
          16.004165142828406,
          15.039349688728292,
          16.009031012774955,
          16.97302910666986,
          17.936041486058823,
          17.00309721779234,
          17.97810474495346,
          17.02396745381322,
          17.97945289680105,
          18.92961261699751,
          17.96004186034252,
          18.924170867433343,
          19.876272083548507,
          18.922735263943128,
          17.972999831705824,
          17.033901227632917,
          17.987811910401273,
          17.01539675540525,
          17.968416639391844,
          18.919731177294267,
          19.888203995310548,
          20.84804054309511,
          21.800694249936537,
          22.76153378782418,
          23.710085931559387,
          22.764589257919052,
          23.708240574273912,
          22.7720671068069,
          23.71694232136791,
          22.769056138650427,
          23.69144296422492,
          22.73435865459374,
          21.79256381153563,
          22.724873132231206,
          23.666493540236537,
          24.63144283414412,
          25.574125941537083,
          26.52236749427917,
          27.47145387321244,
          26.517967425356552,
          25.566894954492128,
          24.63530671760302,
          25.58041136082447,
          24.64417662432309,
          23.706509995704003,
          24.63410253671698,
          23.705245814050336,
          22.772528843167734,
          21.81191041369438,
          22.74235450218908,
          23.673268655680882,
          24.617563287377557,
          25.543675079761027,
          26.48510180029743,
          25.529850784985218,
          24.594682633863993,
          23.667518550667662,
          22.72238119347649,
          21.79311273558803,
          22.665198574840403,
          23.579913841637318,
          22.644164733187267,
          23.564833528108107,
          24.50706942365067,
          25.415309906616375
         ]
        },
        {
         "line": {
          "color": "green",
          "width": 2
         },
         "mode": "lines",
         "name": "Camera Direction 0",
         "showlegend": true,
         "type": "scatter3d",
         "x": [
          0,
          0
         ],
         "y": [
          0,
          0
         ],
         "z": [
          0,
          0
         ]
        },
        {
         "line": {
          "color": "green",
          "width": 2
         },
         "mode": "lines",
         "showlegend": false,
         "type": "scatter3d",
         "x": [
          -0.48763348815418217,
          -0.4869477798496705
         ],
         "y": [
          -0.03544619522231874,
          -0.03589900538620042
         ],
         "z": [
          0.8723285782747497,
          1.3723279030413704
         ]
        },
        {
         "line": {
          "color": "green",
          "width": 2
         },
         "mode": "lines",
         "showlegend": false,
         "type": "scatter3d",
         "x": [
          0.4935620897406857,
          0.49738762628937466
         ],
         "y": [
          -0.21895671321383298,
          -0.22020723140286672
         ],
         "z": [
          0.8125027669050571,
          1.3124865681170301
         ]
        },
        {
         "line": {
          "color": "green",
          "width": 2
         },
         "mode": "lines",
         "showlegend": false,
         "type": "scatter3d",
         "x": [
          1.4839983633578298,
          1.4924921240507787
         ],
         "y": [
          -0.35529752978241835,
          -0.35729648748472115
         ],
         "z": [
          0.7913563809065811,
          1.2912802353058246
         ]
        },
        {
         "line": {
          "color": "green",
          "width": 2
         },
         "mode": "lines",
         "showlegend": false,
         "type": "scatter3d",
         "x": [
          0.4904280113601004,
          0.5082064449378688
         ],
         "y": [
          -0.4561147844839187,
          -0.45733830352664234
         ],
         "z": [
          0.7398409775250762,
          1.2395233069111309
         ]
        },
        {
         "line": {
          "color": "green",
          "width": 2
         },
         "mode": "lines",
         "showlegend": false,
         "type": "scatter3d",
         "x": [
          -0.45164234500066214,
          -0.4268890422698755
         ],
         "y": [
          -0.7814537520133924,
          -0.7804931905106481
         ],
         "z": [
          0.6582444097470248,
          1.1576303840449802
         ]
        },
        {
         "line": {
          "color": "green",
          "width": 2
         },
         "mode": "lines",
         "showlegend": false,
         "type": "scatter3d",
         "x": [
          -1.4250624163022394,
          -1.3948126583320688
         ],
         "y": [
          -1.0073721553444894,
          -1.0052865561082551
         ],
         "z": [
          0.6206380296559195,
          1.119717785224679
         ]
        },
        {
         "line": {
          "color": "green",
          "width": 2
         },
         "mode": "lines",
         "showlegend": false,
         "type": "scatter3d",
         "x": [
          -1.5306071290514998,
          -1.4996826492685245
         ],
         "y": [
          -0.908191210482244,
          -0.905990595049885
         ],
         "z": [
          1.6100941700618048,
          2.109132078283086
         ]
        },
        {
         "line": {
          "color": "green",
          "width": 2
         },
         "mode": "lines",
         "showlegend": false,
         "type": "scatter3d",
         "x": [
          -0.607979759063918,
          -0.5700550029320609
         ],
         "y": [
          -0.5355254559141627,
          -0.5307402148925943
         ],
         "z": [
          1.709487185520621,
          2.208023858535461
         ]
        },
        {
         "line": {
          "color": "green",
          "width": 2
         },
         "mode": "lines",
         "showlegend": false,
         "type": "scatter3d",
         "x": [
          -1.566095860288081,
          -1.5257581696265057
         ],
         "y": [
          -0.771552348863135,
          -0.76625518725947
         ],
         "z": [
          1.5472995091088149,
          2.045641571141548
         ]
        },
        {
         "line": {
          "color": "green",
          "width": 2
         },
         "mode": "lines",
         "showlegend": false,
         "type": "scatter3d",
         "x": [
          -1.3329226181584135,
          -1.2924722318624693
         ],
         "y": [
          -0.6300874499201508,
          -0.624688572338712
         ],
         "z": [
          2.5093899006634715,
          3.0077217362603657
         ]
        },
        {
         "line": {
          "color": "green",
          "width": 2
         },
         "mode": "lines",
         "showlegend": false,
         "type": "scatter3d",
         "x": [
          -1.552812078155708,
          -1.512305332484821
         ],
         "y": [
          -0.7545991383797598,
          -0.7491596227828223
         ],
         "z": [
          1.5418437959123659,
          2.040170611591821
         ]
        },
        {
         "line": {
          "color": "green",
          "width": 2
         },
         "mode": "lines",
         "showlegend": false,
         "type": "scatter3d",
         "x": [
          -0.9107612862437752,
          -0.8700256104813168
         ],
         "y": [
          -0.6033693590238308,
          -0.597897015439507
         ],
         "z": [
          2.293442315363552,
          2.7917501099803648
         ]
        },
        {
         "line": {
          "color": "green",
          "width": 2
         },
         "mode": "lines",
         "showlegend": false,
         "type": "scatter3d",
         "x": [
          -0.5850898736193061,
          -0.5441922486816111
         ],
         "y": [
          -0.506038806933804,
          -0.5005050396611058
         ],
         "z": [
          3.233902253175384,
          3.732196103924345
         ]
        },
        {
         "line": {
          "color": "green",
          "width": 2
         },
         "mode": "lines",
         "showlegend": false,
         "type": "scatter3d",
         "x": [
          -0.36977493521386084,
          -0.328829072894046
         ],
         "y": [
          -0.44275163600112644,
          -0.4371656423239781
         ],
         "z": [
          4.2083940239435105,
          4.706683330504997
         ]
        },
        {
         "line": {
          "color": "green",
          "width": 2
         },
         "mode": "lines",
         "showlegend": false,
         "type": "scatter3d",
         "x": [
          -0.1462039560544813,
          -0.10525225820214358
         ],
         "y": [
          -0.37127548285659506,
          -0.36558892098451445
         ],
         "z": [
          5.180457384434676,
          5.6787450738843415
         ]
        },
        {
         "line": {
          "color": "green",
          "width": 2
         },
         "mode": "lines",
         "showlegend": false,
         "type": "scatter3d",
         "x": [
          0.08312044791565415,
          0.12407759673342836
         ],
         "y": [
          -0.3370026517523609,
          -0.3312228736480916
         ],
         "z": [
          6.153203852324354,
          6.651490021233129
         ]
        },
        {
         "line": {
          "color": "green",
          "width": 2
         },
         "mode": "lines",
         "showlegend": false,
         "type": "scatter3d",
         "x": [
          -0.11501880746553592,
          -0.07403996934392512
         ],
         "y": [
          -0.39737902415060544,
          -0.3914773292850902
         ],
         "z": [
          5.174891259574461,
          5.673174216160293
         ]
        },
        {
         "line": {
          "color": "green",
          "width": 2
         },
         "mode": "lines",
         "showlegend": false,
         "type": "scatter3d",
         "x": [
          -1.1112727414846493,
          -1.0704729986768826
         ],
         "y": [
          -0.40118677649301193,
          -0.3952875301754223
         ],
         "z": [
          5.088499130456494,
          5.586796812449602
         ]
        },
        {
         "line": {
          "color": "green",
          "width": 2
         },
         "mode": "lines",
         "showlegend": false,
         "type": "scatter3d",
         "x": [
          -0.6764325076663984,
          -0.6356178447056754
         ],
         "y": [
          -0.43913815434183107,
          -0.4332223431202068
         ],
         "z": [
          5.988206674035109,
          6.486502937782886
         ]
        },
        {
         "line": {
          "color": "green",
          "width": 2
         },
         "mode": "lines",
         "showlegend": false,
         "type": "scatter3d",
         "x": [
          -0.44449777321527806,
          -0.40373574128310213
         ],
         "y": [
          -0.4344356901041449,
          -0.4284835034311831
         ],
         "z": [
          6.960926657270358,
          7.459226795968483
         ]
        },
        {
         "line": {
          "color": "green",
          "width": 2
         },
         "mode": "lines",
         "showlegend": false,
         "type": "scatter3d",
         "x": [
          -0.23150361745368536,
          -0.1909110323426797
         ],
         "y": [
          -0.4350639405643898,
          -0.4291127173380123
         ],
         "z": [
          7.937979928547194,
          8.436293910867695
         ]
        },
        {
         "line": {
          "color": "green",
          "width": 2
         },
         "mode": "lines",
         "showlegend": false,
         "type": "scatter3d",
         "x": [
          -0.02502625764248037,
          0.015534838406576774
         ],
         "y": [
          -0.43891592789811384,
          -0.43291594822550145
         ],
         "z": [
          8.916423724622868,
          9.414739686369256
         ]
        },
        {
         "line": {
          "color": "green",
          "width": 2
         },
         "mode": "lines",
         "showlegend": false,
         "type": "scatter3d",
         "x": [
          0.3590932054887561,
          0.39951455611766984
         ],
         "y": [
          -0.533963409856909,
          -0.5278142121624335
         ],
         "z": [
          9.834801759103803,
          10.333127256927312
         ]
        },
        {
         "line": {
          "color": "green",
          "width": 2
         },
         "mode": "lines",
         "showlegend": false,
         "type": "scatter3d",
         "x": [
          0.9365201531934497,
          0.976850242097224
         ],
         "y": [
          -0.623748486683323,
          -0.6174649832013049
         ],
         "z": [
          10.646292215020392,
          11.144623431695612
         ]
        },
        {
         "line": {
          "color": "green",
          "width": 2
         },
         "mode": "lines",
         "showlegend": false,
         "type": "scatter3d",
         "x": [
          1.180621762210194,
          1.2210516157149653
         ],
         "y": [
          -0.5191539218260965,
          -0.5125579603886382
         ],
         "z": [
          11.610384732094227,
          12.10870382689022
         ]
        },
        {
         "line": {
          "color": "green",
          "width": 2
         },
         "mode": "lines",
         "showlegend": false,
         "type": "scatter3d",
         "x": [
          1.505849443204427,
          1.5461786548699463
         ],
         "y": [
          -0.5422007193021959,
          -0.5354971056105748
         ],
         "z": [
          12.555739586443222,
          13.05406539979219
         ]
        },
        {
         "line": {
          "color": "green",
          "width": 2
         },
         "mode": "lines",
         "showlegend": false,
         "type": "scatter3d",
         "x": [
          1.0607574294793967,
          1.1013226215163825
         ],
         "y": [
          -0.620623255776356,
          -0.6137120706602456
         ],
         "z": [
          11.663695302177494,
          12.16199912587875
         ]
        },
        {
         "line": {
          "color": "green",
          "width": 2
         },
         "mode": "lines",
         "showlegend": false,
         "type": "scatter3d",
         "x": [
          1.2954544384445705,
          1.3358836078019714
         ],
         "y": [
          -0.6513502242710517,
          -0.6443697495919969
         ],
         "z": [
          12.635278117685225,
          13.133592030031977
         ]
        },
        {
         "line": {
          "color": "green",
          "width": 2
         },
         "mode": "lines",
         "showlegend": false,
         "type": "scatter3d",
         "x": [
          1.6797317382574724,
          1.7202094222750548
         ],
         "y": [
          -0.566846152452792,
          -0.5597875764105712
         ],
         "z": [
          13.55462028396209,
          14.05292915765473
         ]
        },
        {
         "line": {
          "color": "green",
          "width": 2
         },
         "mode": "lines",
         "showlegend": false,
         "type": "scatter3d",
         "x": [
          2.053189556314235,
          2.0935866575621596
         ],
         "y": [
          -0.5423535493182112,
          -0.5352760041494876
         ],
         "z": [
          14.481944051868409,
          14.980259195693227
         ]
        },
        {
         "line": {
          "color": "green",
          "width": 2
         },
         "mode": "lines",
         "showlegend": false,
         "type": "scatter3d",
         "x": [
          1.7574832851036941,
          1.797948734929297
         ],
         "y": [
          -0.5721704997482585,
          -0.5650252845420193
         ],
         "z": [
          13.527130588078853,
          14.025439220625058
         ]
        },
        {
         "line": {
          "color": "green",
          "width": 2
         },
         "mode": "lines",
         "showlegend": false,
         "type": "scatter3d",
         "x": [
          1.910121370778103,
          1.9505364529679443
         ],
         "y": [
          -0.6413792978340285,
          -0.634045209353184
         ],
         "z": [
          14.512986438124475,
          15.011296414221427
         ]
        },
        {
         "line": {
          "color": "green",
          "width": 2
         },
         "mode": "lines",
         "showlegend": false,
         "type": "scatter3d",
         "x": [
          1.7484486607749616,
          1.7888907222415231
         ],
         "y": [
          -0.638219311136598,
          -0.6304770480815242
         ],
         "z": [
          13.526147064505691,
          14.024448677012737
         ]
        },
        {
         "line": {
          "color": "green",
          "width": 2
         },
         "mode": "lines",
         "showlegend": false,
         "type": "scatter3d",
         "x": [
          1.572321464273982,
          1.6127177811908013
         ],
         "y": [
          -0.6040177704531317,
          -0.5956661999582137
         ],
         "z": [
          12.54237398840146,
          13.040669471874693
         ]
        },
        {
         "line": {
          "color": "green",
          "width": 2
         },
         "mode": "lines",
         "showlegend": false,
         "type": "scatter3d",
         "x": [
          1.388334376857237,
          1.428713231818837
         ],
         "y": [
          -0.5913498118894494,
          -0.5823769491026042
         ],
         "z": [
          11.559526963432807,
          12.057813061779328
         ]
        },
        {
         "line": {
          "color": "green",
          "width": 2
         },
         "mode": "lines",
         "showlegend": false,
         "type": "scatter3d",
         "x": [
          1.1648813421964448,
          1.2052713236720733
         ],
         "y": [
          -0.5735063439283545,
          -0.5639886037886169
         ],
         "z": [
          10.58497560411304,
          11.083250690806155
         ]
        },
        {
         "line": {
          "color": "green",
          "width": 2
         },
         "mode": "lines",
         "showlegend": false,
         "type": "scatter3d",
         "x": [
          1.3475943891276319,
          1.3878831760456818
         ],
         "y": [
          -0.610318099574201,
          -0.6001848673498745
         ],
         "z": [
          11.567452492964575,
          12.065723635269004
         ]
        },
        {
         "line": {
          "color": "green",
          "width": 2
         },
         "mode": "lines",
         "showlegend": false,
         "type": "scatter3d",
         "x": [
          1.5548012944033474,
          1.5950685867826726
         ],
         "y": [
          -0.6136952885015557,
          -0.6030745570767697
         ],
         "z": [
          12.545743805918447,
          13.044006533029798
         ]
        },
        {
         "line": {
          "color": "green",
          "width": 2
         },
         "mode": "lines",
         "showlegend": false,
         "type": "scatter3d",
         "x": [
          1.8948763356486058,
          1.9351562104654265
         ],
         "y": [
          -0.6592163074525442,
          -0.6485531137801144
         ],
         "z": [
          13.485039714115484,
          13.98330051729535
         ]
        },
        {
         "line": {
          "color": "green",
          "width": 2
         },
         "mode": "lines",
         "showlegend": false,
         "type": "scatter3d",
         "x": [
          2.2650739002250084,
          2.3055218401242663
         ],
         "y": [
          -0.7184935702721783,
          -0.7078768728692656
         ],
         "z": [
          14.412099566171602,
          14.91034774719604
         ]
        },
        {
         "line": {
          "color": "green",
          "width": 2
         },
         "mode": "lines",
         "showlegend": false,
         "type": "scatter3d",
         "x": [
          2.531348853421296,
          2.5718208617599907
         ],
         "y": [
          -0.7627150942779,
          -0.7521312629925626
         ],
         "z": [
          15.37498175320952,
          15.87322867899668
         ]
        },
        {
         "line": {
          "color": "green",
          "width": 2
         },
         "mode": "lines",
         "showlegend": false,
         "type": "scatter3d",
         "x": [
          2.1966987478237767,
          2.237548167374947
         ],
         "y": [
          -0.7453002492097736,
          -0.7347092008929411
         ],
         "z": [
          14.432800226116774,
          14.931016197978257
         ]
        },
        {
         "line": {
          "color": "green",
          "width": 2
         },
         "mode": "lines",
         "showlegend": false,
         "type": "scatter3d",
         "x": [
          1.9653009793598926,
          2.007112874792673
         ],
         "y": [
          -0.8125070399101687,
          -0.801473039362591
         ],
         "z": [
          13.462265157181248,
          13.960391663434663
         ]
        },
        {
         "line": {
          "color": "green",
          "width": 2
         },
         "mode": "lines",
         "showlegend": false,
         "type": "scatter3d",
         "x": [
          1.2084934655662654,
          1.2616676016431334
         ],
         "y": [
          -1.417493837783483,
          -1.397548094294535
         ],
         "z": [
          13.21481140096709,
          13.711575609187802
         ]
        },
        {
         "line": {
          "color": "green",
          "width": 2
         },
         "mode": "lines",
         "showlegend": false,
         "type": "scatter3d",
         "x": [
          0.3408675479201938,
          0.40882679817907386
         ],
         "y": [
          -1.8694065813998533,
          -1.8419168395507077
         ],
         "z": [
          13.007446651827003,
          13.502043310122747
         ]
        },
        {
         "line": {
          "color": "green",
          "width": 2
         },
         "mode": "lines",
         "showlegend": false,
         "type": "scatter3d",
         "x": [
          -0.48760892616538554,
          -0.4016701014961292
         ],
         "y": [
          -2.401601961990899,
          -2.362779291688524
         ],
         "z": [
          12.833105581610393,
          13.324132381983917
         ]
        },
        {
         "line": {
          "color": "green",
          "width": 2
         },
         "mode": "lines",
         "showlegend": false,
         "type": "scatter3d",
         "x": [
          -1.2988098053407977,
          -1.1987666314283245
         ],
         "y": [
          -2.9728067521794013,
          -2.924205976548246
         ],
         "z": [
          12.707892877419718,
          13.195365264290572
         ]
        },
        {
         "line": {
          "color": "green",
          "width": 2
         },
         "mode": "lines",
         "showlegend": false,
         "type": "scatter3d",
         "x": [
          -2.1612757348906775,
          -2.048049473582042
         ],
         "y": [
          -3.4633127848018574,
          -3.407260944807187
         ],
         "z": [
          12.583167770377738,
          13.06694251649754
         ]
        },
        {
         "line": {
          "color": "green",
          "width": 2
         },
         "mode": "lines",
         "showlegend": false,
         "type": "scatter3d",
         "x": [
          -1.7613226243639468,
          -1.6462728242584739
         ],
         "y": [
          -3.222741300858382,
          -3.165420491442723
         ],
         "z": [
          13.46756749363257,
          13.950762969918953
         ]
        },
        {
         "line": {
          "color": "green",
          "width": 2
         },
         "mode": "lines",
         "showlegend": false,
         "type": "scatter3d",
         "x": [
          -2.459462965711315,
          -2.3430648618325622
         ],
         "y": [
          -3.309069497834594,
          -3.2516084310686293
         ],
         "z": [
          12.756830196039283,
          13.239685979083815
         ]
        },
        {
         "line": {
          "color": "green",
          "width": 2
         },
         "mode": "lines",
         "showlegend": false,
         "type": "scatter3d",
         "x": [
          -2.992654200680832,
          -2.8761910062389306
         ],
         "y": [
          -3.3170771764240716,
          -3.259646246551946
         ],
         "z": [
          11.910873350783401,
          12.393717023864461
         ]
        },
        {
         "line": {
          "color": "green",
          "width": 2
         },
         "mode": "lines",
         "showlegend": false,
         "type": "scatter3d",
         "x": [
          -3.474979911432425,
          -3.358568950205303
         ],
         "y": [
          -3.3351731396483366,
          -3.277565567674967
         ],
         "z": [
          11.035068324043458,
          11.517903550344844
         ]
        },
        {
         "line": {
          "color": "green",
          "width": 2
         },
         "mode": "lines",
         "showlegend": false,
         "type": "scatter3d",
         "x": [
          -2.884834874966463,
          -2.7679787615269524
         ],
         "y": [
          -3.321891051405857,
          -3.2639548406869734
         ],
         "z": [
          11.842256295997018,
          12.324944647046998
         ]
        },
        {
         "line": {
          "color": "green",
          "width": 2
         },
         "mode": "lines",
         "showlegend": false,
         "type": "scatter3d",
         "x": [
          -2.4766541287607273,
          -2.3599587466739305
         ],
         "y": [
          -3.283741228915458,
          -3.2251117474583495
         ],
         "z": [
          12.754359946615125,
          13.23700347107566
         ]
        },
        {
         "line": {
          "color": "green",
          "width": 2
         },
         "mode": "lines",
         "showlegend": false,
         "type": "scatter3d",
         "x": [
          -2.8694167464889504,
          -2.7530139567627026
         ],
         "y": [
          -3.305653812575844,
          -3.2460945401686176
         ],
         "z": [
          11.834981153737784,
          12.317581489019753
         ]
        },
        {
         "line": {
          "color": "green",
          "width": 2
         },
         "mode": "lines",
         "showlegend": false,
         "type": "scatter3d",
         "x": [
          -2.4986924212006985,
          -2.3825907560727404
         ],
         "y": [
          -3.282733532134586,
          -3.22234460319142
         ],
         "z": [
          12.763441241939782,
          13.246011009554385
         ]
        },
        {
         "line": {
          "color": "green",
          "width": 2
         },
         "mode": "lines",
         "showlegend": false,
         "type": "scatter3d",
         "x": [
          -2.090271988273048,
          -1.974282708129023
         ],
         "y": [
          -3.2357792216689,
          -3.1745112902770116
         ],
         "z": [
          13.675026697448962,
          14.15751268426581
         ]
        },
        {
         "line": {
          "color": "green",
          "width": 2
         },
         "mode": "lines",
         "showlegend": false,
         "type": "scatter3d",
         "x": [
          -1.7252460409772226,
          -1.6096186501865373
         ],
         "y": [
          -3.2006246597642978,
          -3.138221498815971
         ],
         "z": [
          14.605360086389764,
          15.087787440509112
         ]
        },
        {
         "line": {
          "color": "green",
          "width": 2
         },
         "mode": "lines",
         "showlegend": false,
         "type": "scatter3d",
         "x": [
          -1.3801899074546287,
          -1.2648842966927984
         ],
         "y": [
          -3.1715408219816914,
          -3.10822164563277
         ],
         "z": [
          15.543491417866477,
          16.025876428032976
         ]
        },
        {
         "line": {
          "color": "green",
          "width": 2
         },
         "mode": "lines",
         "showlegend": false,
         "type": "scatter3d",
         "x": [
          -1.7752140627925386,
          -1.6600565394227853
         ],
         "y": [
          -3.1977422283496604,
          -3.1334758983727906
         ],
         "z": [
          14.625194405454966,
          15.107489526353621
         ]
        },
        {
         "line": {
          "color": "green",
          "width": 2
         },
         "mode": "lines",
         "showlegend": false,
         "type": "scatter3d",
         "x": [
          -1.4426537493357103,
          -1.3279341929602146
         ],
         "y": [
          -3.149806773706726,
          -3.084273159647154
         ],
         "z": [
          15.567057362631681,
          16.04928632154363
         ]
        },
        {
         "line": {
          "color": "green",
          "width": 2
         },
         "mode": "lines",
         "showlegend": false,
         "type": "scatter3d",
         "x": [
          -1.7896778160079,
          -1.6752958420578596
         ],
         "y": [
          -3.1875661339137036,
          -3.1210597007204575
         ],
         "z": [
          14.629961568239747,
          15.112137530290122
         ]
        },
        {
         "line": {
          "color": "green",
          "width": 2
         },
         "mode": "lines",
         "showlegend": false,
         "type": "scatter3d",
         "x": [
          -2.1569469267623678,
          -2.042743896929348
         ],
         "y": [
          -3.2485906404291485,
          -3.1810963638488077
         ],
         "z": [
          13.701850901406225,
          14.183932005169746
         ]
        },
        {
         "line": {
          "color": "green",
          "width": 2
         },
         "mode": "lines",
         "showlegend": false,
         "type": "scatter3d",
         "x": [
          -1.7703657440327605,
          -1.6564025058991945
         ],
         "y": [
          -3.1848993688772027,
          -3.1161661513160013
         ],
         "z": [
          14.621904384138327,
          15.103867168134972
         ]
        },
        {
         "line": {
          "color": "green",
          "width": 2
         },
         "mode": "lines",
         "showlegend": false,
         "type": "scatter3d",
         "x": [
          -1.4396812380262944,
          -1.3259949180048443
         ],
         "y": [
          -3.117036072459796,
          -3.0473357155453096
         ],
         "z": [
          15.563202599629369,
          16.04509188243816
         ]
        },
        {
         "line": {
          "color": "green",
          "width": 2
         },
         "mode": "lines",
         "showlegend": false,
         "type": "scatter3d",
         "x": [
          -1.0773729974200585,
          -0.9639130347255653
         ],
         "y": [
          -3.0622832028284197,
          -2.991694947012902
         ],
         "z": [
          16.493651341933823,
          16.975464723863265
         ]
        },
        {
         "line": {
          "color": "green",
          "width": 2
         },
         "mode": "lines",
         "showlegend": false,
         "type": "scatter3d",
         "x": [
          -0.7379213288999124,
          -0.6245190454323929
         ],
         "y": [
          -2.9945146553236266,
          -2.922790654737193
         ],
         "z": [
          17.431830423297278,
          17.913489628383434
         ]
        },
        {
         "line": {
          "color": "green",
          "width": 2
         },
         "mode": "lines",
         "showlegend": false,
         "type": "scatter3d",
         "x": [
          -1.1142172415559146,
          -1.0001808271490187
         ],
         "y": [
          -3.1434588735188522,
          -3.070837395515885
         ],
         "z": [
          16.517381405590662,
          16.998756329243612
         ]
        },
        {
         "line": {
          "color": "green",
          "width": 2
         },
         "mode": "lines",
         "showlegend": false,
         "type": "scatter3d",
         "x": [
          -1.4430338517441006,
          -1.3281779915879184
         ],
         "y": [
          -3.3023396374651752,
          -3.228814701511696
         ],
         "z": [
          15.586448250250182,
          16.06749109156561
         ]
        },
        {
         "line": {
          "color": "green",
          "width": 2
         },
         "mode": "lines",
         "showlegend": false,
         "type": "scatter3d",
         "x": [
          -1.0360795543336407,
          -0.919291921675119
         ],
         "y": [
          -3.0805909152265096,
          -3.005468191164067
         ],
         "z": [
          16.47257222803471,
          16.952902557274346
         ]
        },
        {
         "line": {
          "color": "green",
          "width": 2
         },
         "mode": "lines",
         "showlegend": false,
         "type": "scatter3d",
         "x": [
          -1.3580421695383513,
          -1.2401450375953251
         ],
         "y": [
          -3.277002936429129,
          -3.2007765529982186
         ],
         "z": [
          15.546417601453575,
          16.026302801005148
         ]
        },
        {
         "line": {
          "color": "green",
          "width": 2
         },
         "mode": "lines",
         "showlegend": false,
         "type": "scatter3d",
         "x": [
          -1.7218910630780473,
          -1.6027314685590037
         ],
         "y": [
          -3.4865865365966107,
          -3.409191574108063
         ],
         "z": [
          14.638844630717463,
          15.118230707711207
         ]
        },
        {
         "line": {
          "color": "green",
          "width": 2
         },
         "mode": "lines",
         "showlegend": false,
         "type": "scatter3d",
         "x": [
          -1.2646211090999542,
          -0.9403098336791538
         ],
         "y": [
          -3.3065808602740443,
          -3.209987192834427
         ],
         "z": [
          15.509764917357131,
          15.877857106958455
         ]
        },
        {
         "line": {
          "color": "green",
          "width": 2
         },
         "mode": "lines",
         "showlegend": false,
         "type": "scatter3d",
         "x": [
          -0.9585940372998132,
          -0.6346947616225767
         ],
         "y": [
          -3.1094390144179282,
          -3.013205419532887
         ],
         "z": [
          16.44115233617804,
          16.809701321295705
         ]
        },
        {
         "line": {
          "color": "green",
          "width": 2
         },
         "mode": "lines",
         "showlegend": false,
         "type": "scatter3d",
         "x": [
          -1.3986387245526344,
          -1.0747414674080924
         ],
         "y": [
          -3.3613103395012787,
          -3.265138174454589
         ],
         "z": [
          15.57922338967414,
          15.947790183463914
         ]
        },
        {
         "line": {
          "color": "green",
          "width": 2
         },
         "mode": "lines",
         "showlegend": false,
         "type": "scatter3d",
         "x": [
          -0.9777232534325153,
          -0.6538142293144021
         ],
         "y": [
          -3.0863852653515167,
          -2.9902576316099285
         ],
         "z": [
          16.44365752237337,
          16.812225592241195
         ]
        },
        {
         "line": {
          "color": "green",
          "width": 2
         },
         "mode": "lines",
         "showlegend": false,
         "type": "scatter3d",
         "x": [
          -1.4055348617338912,
          -1.0816508751576195
         ],
         "y": [
          -3.3393063788452118,
          -3.243241213600939
         ],
         "z": [
          15.575897107194335,
          15.944503465340867
         ]
        },
        {
         "line": {
          "color": "green",
          "width": 2
         },
         "mode": "lines",
         "showlegend": false,
         "type": "scatter3d",
         "x": [
          -1.0236664426487168,
          -0.7000689726980429
         ],
         "y": [
          -3.11347216374442,
          -3.017509643820488
         ],
         "z": [
          16.47209765271704,
          16.840982285375233
         ]
        },
        {
         "line": {
          "color": "green",
          "width": 2
         },
         "mode": "lines",
         "showlegend": false,
         "type": "scatter3d",
         "x": [
          -0.5509735382772218,
          -0.22719205466437015
         ],
         "y": [
          -2.8285345671673223,
          -2.7326268901402324
         ],
         "z": [
          17.305987324204644,
          17.674724721761123
         ]
        },
        {
         "line": {
          "color": "green",
          "width": 2
         },
         "mode": "lines",
         "showlegend": false,
         "type": "scatter3d",
         "x": [
          -0.1251193810687743,
          0.19865999662824618
         ],
         "y": [
          -2.5617021394265165,
          -2.46583216002065
         ],
         "z": [
          18.170538474972616,
          18.539287524634915
         ]
        },
        {
         "line": {
          "color": "green",
          "width": 2
         },
         "mode": "lines",
         "showlegend": false,
         "type": "scatter3d",
         "x": [
          -0.4888145716977819,
          -0.16527417688979035
         ],
         "y": [
          -2.7955545298670024,
          -2.6997718758178264
         ],
         "z": [
          17.268851795577497,
          17.63783322615468
         ]
        },
        {
         "line": {
          "color": "green",
          "width": 2
         },
         "mode": "lines",
         "showlegend": false,
         "type": "scatter3d",
         "x": [
          -0.07453646563785599,
          0.24882841294829883
         ],
         "y": [
          -2.550680057848526,
          -2.4549797425338666
         ],
         "z": [
          18.145441861567907,
          18.51459847460042
         ]
        },
        {
         "line": {
          "color": "green",
          "width": 2
         },
         "mode": "lines",
         "showlegend": false,
         "type": "scatter3d",
         "x": [
          -0.5301173097329392,
          -0.20662535318964786
         ],
         "y": [
          -2.838396465896249,
          -2.7427292134061694
         ],
         "z": [
          17.303025478160198,
          17.67207931007743
         ]
        },
        {
         "line": {
          "color": "green",
          "width": 2
         },
         "mode": "lines",
         "showlegend": false,
         "type": "scatter3d",
         "x": [
          -0.13113466987165617,
          0.19230310852026627
         ],
         "y": [
          -2.5735671519473926,
          -2.477930192236098
         ],
         "z": [
          18.180908322031005,
          18.55001748670465
         ]
        },
        {
         "line": {
          "color": "green",
          "width": 2
         },
         "mode": "lines",
         "showlegend": false,
         "type": "scatter3d",
         "x": [
          0.3350960990571412,
          0.6579208906652678
         ],
         "y": [
          -2.388149112151395,
          -2.2928087379243927
         ],
         "z": [
          19.045922206672326,
          19.415644219765166
         ]
        },
        {
         "line": {
          "color": "green",
          "width": 2
         },
         "mode": "lines",
         "showlegend": false,
         "type": "scatter3d",
         "x": [
          -0.11019456411850659,
          0.21160306293042197
         ],
         "y": [
          -2.5216750084505826,
          -2.426900019886122
         ],
         "z": [
          18.160548240313428,
          18.531309603953552
         ]
        },
        {
         "line": {
          "color": "green",
          "width": 2
         },
         "mode": "lines",
         "showlegend": false,
         "type": "scatter3d",
         "x": [
          0.41223824165523393,
          0.7332949079202571
         ],
         "y": [
          -2.342270091614983,
          -2.247832325922683
         ],
         "z": [
          18.99414156998119,
          19.365630635039413
         ]
        },
        {
         "line": {
          "color": "green",
          "width": 2
         },
         "mode": "lines",
         "showlegend": false,
         "type": "scatter3d",
         "x": [
          0.8978097757033838,
          1.2172935353283656
         ],
         "y": [
          -2.2762528184921447,
          -2.1831185854430446
         ],
         "z": [
          19.865842209519524,
          20.2390126021959
         ]
        },
        {
         "line": {
          "color": "green",
          "width": 2
         },
         "mode": "lines",
         "showlegend": false,
         "type": "scatter3d",
         "x": [
          0.34299649992773507,
          0.661414155869777
         ],
         "y": [
          -2.4210641477807395,
          -2.3285261099284638
         ],
         "z": [
          19.04656697619878,
          19.420795392991018
         ]
        },
        {
         "line": {
          "color": "green",
          "width": 2
         },
         "mode": "lines",
         "showlegend": false,
         "type": "scatter3d",
         "x": [
          0.8427975228105287,
          1.1598998998100276
         ],
         "y": [
          -2.3256802560687246,
          -2.2340170207062533
         ],
         "z": [
          19.907439121599698,
          20.28299728458401
         ]
        },
        {
         "line": {
          "color": "green",
          "width": 2
         },
         "mode": "lines",
         "showlegend": false,
         "type": "scatter3d",
         "x": [
          1.2995364829719636,
          1.6147798709979162
         ],
         "y": [
          -2.2909336774593574,
          -2.2007858608937227
         ],
         "z": [
          20.79636105154945,
          21.17384612075665
         ]
        },
        {
         "line": {
          "color": "green",
          "width": 2
         },
         "mode": "lines",
         "showlegend": false,
         "type": "scatter3d",
         "x": [
          1.7785167787647693,
          2.092458124425334
         ],
         "y": [
          -2.3373979283259865,
          -2.249025449999853
         ],
         "z": [
          21.672956140306873,
          22.05194312762877
         ]
        },
        {
         "line": {
          "color": "green",
          "width": 2
         },
         "mode": "lines",
         "showlegend": false,
         "type": "scatter3d",
         "x": [
          2.214361361763383,
          2.526824050720053
         ],
         "y": [
          -2.3635446147647987,
          -2.276758999212297
         ],
         "z": [
          22.572598208164436,
          22.953170573087508
         ]
        },
        {
         "line": {
          "color": "green",
          "width": 2
         },
         "mode": "lines",
         "showlegend": false,
         "type": "scatter3d",
         "x": [
          1.827949764798793,
          2.138398686891683
         ],
         "y": [
          -2.34322524307558,
          -2.2583319766886896
         ],
         "z": [
          21.650495610366647,
          22.033137218263025
         ]
        },
        {
         "line": {
          "color": "green",
          "width": 2
         },
         "mode": "lines",
         "showlegend": false,
         "type": "scatter3d",
         "x": [
          1.4956806830870506,
          1.8049703421179137
         ],
         "y": [
          -2.4250470034976424,
          -2.340792784625073
         ],
         "z": [
          20.710866717207296,
          21.09458684101988
         ]
        },
        {
         "line": {
          "color": "green",
          "width": 2
         },
         "mode": "lines",
         "showlegend": false,
         "type": "scatter3d",
         "x": [
          1.0515961019908386,
          1.3610224829353745
         ],
         "y": [
          -2.6606582518047635,
          -2.576423994031218
         ],
         "z": [
          19.846415316315518,
          20.230029581682313
         ]
        },
        {
         "line": {
          "color": "green",
          "width": 2
         },
         "mode": "lines",
         "showlegend": false,
         "type": "scatter3d",
         "x": [
          0.7377585340536481,
          1.0468257349356946
         ],
         "y": [
          -2.8386247252378007,
          -2.7545399472460996
         ],
         "z": [
          18.913766446008438,
          19.297702919202926
         ]
        },
        {
         "line": {
          "color": "green",
          "width": 2
         },
         "mode": "lines",
         "showlegend": false,
         "type": "scatter3d",
         "x": [
          0.3727730386836503,
          0.6818209765646945
         ],
         "y": [
          -3.0492752019194764,
          -2.965221556935375
         ],
         "z": [
          18.006897125299385,
          18.390855921078774
         ]
        },
        {
         "line": {
          "color": "green",
          "width": 2
         },
         "mode": "lines",
         "showlegend": false,
         "type": "scatter3d",
         "x": [
          0.6106221798425384,
          0.9189434602102519
         ],
         "y": [
          -2.920057041480433,
          -2.8362833561489595
         ],
         "z": [
          18.96956552774268,
          19.354169164904885
         ]
        },
        {
         "line": {
          "color": "green",
          "width": 2
         },
         "mode": "lines",
         "showlegend": false,
         "type": "scatter3d",
         "x": [
          1.0000542193470456,
          1.3077245359297114
         ],
         "y": [
          -2.7393783853440876,
          -2.6558293440763494
         ],
         "z": [
          19.872725485792262,
          20.257898867527246
         ]
        },
        {
         "line": {
          "color": "green",
          "width": 2
         },
         "mode": "lines",
         "showlegend": false,
         "type": "scatter3d",
         "x": [
          1.3167636999144001,
          1.623725906175502
         ],
         "y": [
          -2.5731746388189713,
          -2.4898422104577547
         ],
         "z": [
          20.806573128376304,
          21.19235792630222
         ]
        },
        {
         "line": {
          "color": "green",
          "width": 2
         },
         "mode": "lines",
         "showlegend": false,
         "type": "scatter3d",
         "x": [
          0.9756386151623508,
          1.2818528062046417
         ],
         "y": [
          -2.7262842473207916,
          -2.643225589634207
         ],
         "z": [
          19.879108237214744,
          20.26554597940308
         ]
        },
        {
         "line": {
          "color": "green",
          "width": 2
         },
         "mode": "lines",
         "showlegend": false,
         "type": "scatter3d",
         "x": [
          1.3698360766973394,
          1.6751768746706992
         ],
         "y": [
          -2.5784387605427384,
          -2.495779485355056
         ],
         "z": [
          20.78616395400326,
          21.173377643480322
         ]
        },
        {
         "line": {
          "color": "green",
          "width": 2
         },
         "mode": "lines",
         "showlegend": false,
         "type": "scatter3d",
         "x": [
          1.7320584763673021,
          2.036717044136336
         ],
         "y": [
          -2.4215133040730725,
          -2.3390890405398337
         ],
         "z": [
          21.704950835869298,
          22.092751555138772
         ]
        },
        {
         "line": {
          "color": "green",
          "width": 2
         },
         "mode": "lines",
         "showlegend": false,
         "type": "scatter3d",
         "x": [
          2.1617768346804613,
          2.4658138738916264
         ],
         "y": [
          -2.2829909423477974,
          -2.2009260860715063
         ],
         "z": [
          22.597225282343416,
          22.985589593463864
         ]
        },
        {
         "line": {
          "color": "green",
          "width": 2
         },
         "mode": "lines",
         "showlegend": false,
         "type": "scatter3d",
         "x": [
          1.8338746179316143,
          2.1368917172625963
         ],
         "y": [
          -2.422051174330085,
          -2.3404040896012757
         ],
         "z": [
          21.662804398516315,
          22.052052893784214
         ]
        },
        {
         "line": {
          "color": "green",
          "width": 2
         },
         "mode": "lines",
         "showlegend": false,
         "type": "scatter3d",
         "x": [
          1.5645942578519403,
          1.867228602902946
         ],
         "y": [
          -2.6506957744440354,
          -2.5690867592407223
         ],
         "z": [
          20.727277950726574,
          21.116832082822604
         ]
        },
        {
         "line": {
          "color": "green",
          "width": 2
         },
         "mode": "lines",
         "showlegend": false,
         "type": "scatter3d",
         "x": [
          1.96217966130704,
          2.2646141961866673
         ],
         "y": [
          -2.44028438629139,
          -2.358738028091167
         ],
         "z": [
          21.620392106193343,
          22.01011449915585
         ]
        },
        {
         "line": {
          "color": "green",
          "width": 2
         },
         "mode": "lines",
         "showlegend": false,
         "type": "scatter3d",
         "x": [
          2.2851771143595365,
          2.5871701104936777
         ],
         "y": [
          -2.236105470121985,
          -2.154626472459906
         ],
         "z": [
          22.544504445421364,
          22.934583159562376
         ]
        },
        {
         "line": {
          "color": "green",
          "width": 2
         },
         "mode": "lines",
         "showlegend": false,
         "type": "scatter3d",
         "x": [
          2.6454404324911174,
          2.94723261606406
         ],
         "y": [
          -2.020702641569122,
          -1.9392434382338866
         ],
         "z": [
          23.45214532322505,
          23.84238355319011
         ]
        },
        {
         "line": {
          "color": "green",
          "width": 2
         },
         "mode": "lines",
         "showlegend": false,
         "type": "scatter3d",
         "x": [
          2.998507108646244,
          3.3001486802385758
         ],
         "y": [
          -1.7889257198890516,
          -1.7074816073638095
         ],
         "z": [
          24.35857975591463,
          24.748937564626434
         ]
        },
        {
         "line": {
          "color": "green",
          "width": 2
         },
         "mode": "lines",
         "showlegend": false,
         "type": "scatter3d",
         "x": [
          3.3406853503394456,
          3.6418632137350695
         ],
         "y": [
          -1.5867083944009952,
          -1.5053575100656282
         ],
         "z": [
          25.276197434571817,
          25.666932547171516
         ]
        },
        {
         "line": {
          "color": "green",
          "width": 2
         },
         "mode": "lines",
         "showlegend": false,
         "type": "scatter3d",
         "x": [
          3.757727468665982,
          4.058615864099111
         ],
         "y": [
          -1.3803438748263384,
          -1.299082245436438
         ],
         "z": [
          26.161346888959283,
          26.552323513685845
         ]
        },
        {
         "line": {
          "color": "green",
          "width": 2
         },
         "mode": "lines",
         "showlegend": false,
         "type": "scatter3d",
         "x": [
          3.5823070686404206,
          3.8819196353303216
         ],
         "y": [
          -1.5084768178924217,
          -1.4275610830840781
         ],
         "z": [
          25.18522720769264,
          25.57725393349321
         ]
        },
        {
         "line": {
          "color": "green",
          "width": 2
         },
         "mode": "lines",
         "showlegend": false,
         "type": "scatter3d",
         "x": [
          3.870317536829363,
          4.168526023978751
         ],
         "y": [
          -1.3834466599720574,
          -1.3030396362425345
         ],
         "z": [
          26.134657262948945,
          26.527857477505133
         ]
        },
        {
         "line": {
          "color": "green",
          "width": 2
         },
         "mode": "lines",
         "showlegend": false,
         "type": "scatter3d",
         "x": [
          3.513916377544612,
          3.811000922971666
         ],
         "y": [
          -1.4807168582610981,
          -1.4009053516097585
         ],
         "z": [
          25.205401258295066,
          25.599572409287173
         ]
        },
        {
         "line": {
          "color": "green",
          "width": 2
         },
         "mode": "lines",
         "showlegend": false,
         "type": "scatter3d",
         "x": [
          3.7870348737859327,
          4.082695678171724
         ],
         "y": [
          -1.3968733475460777,
          -1.3176189759739094
         ],
         "z": [
          26.16372090889285,
          26.559073199055238
         ]
        },
        {
         "line": {
          "color": "green",
          "width": 2
         },
         "mode": "lines",
         "showlegend": false,
         "type": "scatter3d",
         "x": [
          4.034594470909728,
          4.328173450998964
         ],
         "y": [
          -1.352774481328153,
          -1.2744065713216741
         ],
         "z": [
          27.13158946188452,
          27.528666095711014
         ]
        },
        {
         "line": {
          "color": "green",
          "width": 2
         },
         "mode": "lines",
         "showlegend": false,
         "type": "scatter3d",
         "x": [
          3.949519575071879,
          4.241132932487995
         ],
         "y": [
          -1.399407283773433,
          -1.3215645273651193
         ],
         "z": [
          26.136306766448556,
          26.534932098121363
         ]
        },
        {
         "line": {
          "color": "green",
          "width": 2
         },
         "mode": "lines",
         "showlegend": false,
         "type": "scatter3d",
         "x": [
          3.5653046453013504,
          3.8562535279797867
         ],
         "y": [
          -1.5473826424910089,
          -1.4695677779273193
         ],
         "z": [
          25.224998815778847,
          25.624114832146397
         ]
        },
        {
         "line": {
          "color": "green",
          "width": 2
         },
         "mode": "lines",
         "showlegend": false,
         "type": "scatter3d",
         "x": [
          3.804989419632171,
          4.094657747475575
         ],
         "y": [
          -1.4224518758862033,
          -1.3447379358875902
         ],
         "z": [
          26.187777872732994,
          26.587843871506067
         ]
        },
        {
         "line": {
          "color": "green",
          "width": 2
         },
         "mode": "lines",
         "showlegend": false,
         "type": "scatter3d",
         "x": [
          4.045356066515618,
          4.334684034011511
         ],
         "y": [
          -1.2145714828292475,
          -1.1366293027847294
         ],
         "z": [
          27.135939049563436,
          27.53620688963381
         ]
        },
        {
         "line": {
          "color": "green",
          "width": 2
         },
         "mode": "lines",
         "showlegend": false,
         "type": "scatter3d",
         "x": [
          3.833201482521488,
          4.122071541068851
         ],
         "y": [
          -1.4255598276442885,
          -1.3473632278642682
         ],
         "z": [
          26.181751253140487,
          26.582300102917497
         ]
        },
        {
         "line": {
          "color": "green",
          "width": 2
         },
         "mode": "lines",
         "showlegend": false,
         "type": "scatter3d",
         "x": [
          3.526225024256624,
          3.8150821220285107
         ],
         "y": [
          -1.665564006844068,
          -1.586992385387894
         ],
         "z": [
          25.2607933561453,
          25.66127815906365
         ]
        },
        {
         "line": {
          "color": "green",
          "width": 2
         },
         "mode": "lines",
         "showlegend": false,
         "type": "scatter3d",
         "x": [
          3.283437029900429,
          3.571918360006997
         ],
         "y": [
          -1.8943258246987014,
          -1.8154662993617405
         ],
         "z": [
          24.318072814050062,
          24.718771825083998
         ]
        },
        {
         "line": {
          "color": "green",
          "width": 2
         },
         "mode": "lines",
         "showlegend": false,
         "type": "scatter3d",
         "x": [
          3.479935830346942,
          3.767238861238137
         ],
         "y": [
          -1.7817434629249134,
          -1.7030447671405815
         ],
         "z": [
          25.29209203010307,
          25.69366827905534
         ]
        },
        {
         "line": {
          "color": "green",
          "width": 2
         },
         "mode": "lines",
         "showlegend": false,
         "type": "scatter3d",
         "x": [
          3.1591466277092355,
          3.4446749185735497
         ],
         "y": [
          -1.8392146167217878,
          -1.7613737424317484
         ],
         "z": [
          24.34668663877493,
          24.749693330289926
         ]
        },
        {
         "line": {
          "color": "green",
          "width": 2
         },
         "mode": "lines",
         "showlegend": false,
         "type": "scatter3d",
         "x": [
          3.3759889592808707,
          3.6592207700030794
         ],
         "y": [
          -1.8733176427268188,
          -1.7968303778234571
         ],
         "z": [
          25.322297415086812,
          25.72717942222299
         ]
        },
        {
         "line": {
          "color": "green",
          "width": 2
         },
         "mode": "lines",
         "showlegend": false,
         "type": "scatter3d",
         "x": [
          2.988008035728969,
          3.2697475264006033
         ],
         "y": [
          -1.920470784784535,
          -1.8448978088081796
         ],
         "z": [
          24.40183699543049,
          24.807930069365717
         ]
        },
        {
         "line": {
          "color": "green",
          "width": 2
         },
         "mode": "lines",
         "showlegend": false,
         "type": "scatter3d",
         "x": [
          2.606266769820541,
          2.8861200725251606
         ],
         "y": [
          -1.970977377836101,
          -1.8964725989034057
         ],
         "z": [
          23.478948762782057,
          23.88654067497059
         ]
        },
        {
         "line": {
          "color": "green",
          "width": 2
         },
         "mode": "lines",
         "showlegend": false,
         "type": "scatter3d",
         "x": [
          2.2919373521725586,
          2.5698488519119542
         ],
         "y": [
          -1.9132113767668546,
          -1.840347762120219
         ],
         "z": [
          22.531393958920273,
          22.94060795180569
         ]
        },
        {
         "line": {
          "color": "green",
          "width": 2
         },
         "mode": "lines",
         "showlegend": false,
         "type": "scatter3d",
         "x": [
          1.8910125942081368,
          2.1675220123178516
         ],
         "y": [
          -1.9132412393808231,
          -1.8416229066579135
         ],
         "z": [
          21.61528297352637,
          22.0256649372073
         ]
        },
        {
         "line": {
          "color": "green",
          "width": 2
         },
         "mode": "lines",
         "showlegend": false,
         "type": "scatter3d",
         "x": [
          2.159105708576596,
          2.43370679604303
         ],
         "y": [
          -1.8391413842768947,
          -1.7681299487099778
         ],
         "z": [
          22.57582203754292,
          22.98758849900011
         ]
        },
        {
         "line": {
          "color": "green",
          "width": 2
         },
         "mode": "lines",
         "showlegend": false,
         "type": "scatter3d",
         "x": [
          2.317091602702273,
          2.589661922803435
         ],
         "y": [
          -1.8396128726598733,
          -1.7694962484362378
         ],
         "z": [
          23.563263294001253,
          23.976529648314582
         ]
        },
        {
         "line": {
          "color": "green",
          "width": 2
         },
         "mode": "lines",
         "showlegend": false,
         "type": "scatter3d",
         "x": [
          2.492129791536824,
          2.762971624192151
         ],
         "y": [
          -1.811177849960471,
          -1.7417257635439019
         ],
         "z": [
          24.54741423869094,
          24.96192733785222
         ]
        },
        {
         "line": {
          "color": "green",
          "width": 2
         },
         "mode": "lines",
         "showlegend": false,
         "type": "scatter3d",
         "x": [
          2.217947763846976,
          2.487774749308377
         ],
         "y": [
          -1.9323044278279506,
          -1.862951418078488
         ],
         "z": [
          23.593395073356202,
          24.008586063089243
         ]
        },
        {
         "line": {
          "color": "green",
          "width": 2
         },
         "mode": "lines",
         "showlegend": false,
         "type": "scatter3d",
         "x": [
          2.2874435085998406,
          2.556058671682117
         ],
         "y": [
          -1.80804047402611,
          -1.738730028810476
         ],
         "z": [
          24.583207586535732,
          24.999190706801794
         ]
        },
        {
         "line": {
          "color": "green",
          "width": 2
         },
         "mode": "lines",
         "showlegend": false,
         "type": "scatter3d",
         "x": [
          2.1152878260782026,
          2.382957777972181
         ],
         "y": [
          -1.9475747531649672,
          -1.8782724602636538
         ],
         "z": [
          23.608070362386893,
          24.024663676125478
         ]
        },
        {
         "line": {
          "color": "green",
          "width": 2
         },
         "mode": "lines",
         "showlegend": false,
         "type": "scatter3d",
         "x": [
          1.9363037917988264,
          2.2033560463820763
         ],
         "y": [
          -2.146080708998053,
          -2.07651834310115
         ],
         "z": [
          22.644452128348192,
          23.061398372572583
         ]
        },
        {
         "line": {
          "color": "green",
          "width": 2
         },
         "mode": "lines",
         "showlegend": false,
         "type": "scatter3d",
         "x": [
          1.7097191449652622,
          1.9768797579938133
         ],
         "y": [
          -2.396137260282129,
          -2.3262889882452633
         ],
         "z": [
          21.703106751252612,
          22.11993576384611
         ]
        },
        {
         "line": {
          "color": "green",
          "width": 2
         },
         "mode": "lines",
         "showlegend": false,
         "type": "scatter3d",
         "x": [
          1.7887491110301343,
          2.055491467307339
         ],
         "y": [
          -2.163069000363674,
          -2.0928833560302103
         ],
         "z": [
          22.67235050319655,
          23.089390657974455
         ]
        },
        {
         "line": {
          "color": "green",
          "width": 2
         },
         "mode": "lines",
         "showlegend": false,
         "type": "scatter3d",
         "x": [
          1.5913881098969704,
          1.857908406164059
         ],
         "y": [
          -2.3786681243703516,
          -2.30813039956082
         ],
         "z": [
          21.716021243496073,
          22.13314396051877
         ]
        },
        {
         "line": {
          "color": "green",
          "width": 2
         },
         "mode": "lines",
         "showlegend": false,
         "type": "scatter3d",
         "x": [
          1.787703867035654,
          2.054025384439133
         ],
         "y": [
          -2.1580605460196063,
          -2.0872235801892933
         ],
         "z": [
          22.671422949519922,
          23.088621911215494
         ]
        },
        {
         "line": {
          "color": "green",
          "width": 2
         },
         "mode": "lines",
         "showlegend": false,
         "type": "scatter3d",
         "x": [
          1.7181667151002888,
          1.9835702360830443
         ],
         "y": [
          -2.2867260979365303,
          -2.2158764256823735
         ],
         "z": [
          21.68217588217495,
          22.099957278351745
         ]
        },
        {
         "line": {
          "color": "green",
          "width": 2
         },
         "mode": "lines",
         "showlegend": false,
         "type": "scatter3d",
         "x": [
          1.5100541827339506,
          1.7754320012636509
         ],
         "y": [
          -2.5350056990745644,
          -2.4637874695300654
         ],
         "z": [
          20.736106955758483,
          21.15384201199983
         ]
        },
        {
         "line": {
          "color": "green",
          "width": 2
         },
         "mode": "lines",
         "showlegend": false,
         "type": "scatter3d",
         "x": [
          1.3725471656155215,
          1.6371408646294203
         ],
         "y": [
          -2.7220364143049123,
          -2.6506490392286794
         ],
         "z": [
          19.763424411552197,
          20.181627731866453
         ]
        },
        {
         "line": {
          "color": "green",
          "width": 2
         },
         "mode": "lines",
         "showlegend": false,
         "type": "scatter3d",
         "x": [
          1.5481045692638413,
          1.8119177940802853
         ],
         "y": [
          -2.5455176250481353,
          -2.4740492271207364
         ],
         "z": [
          20.731939106878798,
          21.150621385593382
         ]
        },
        {
         "line": {
          "color": "green",
          "width": 2
         },
         "mode": "lines",
         "showlegend": false,
         "type": "scatter3d",
         "x": [
          1.6286224442606143,
          1.8900248003899371
         ],
         "y": [
          -2.473589697933834,
          -2.4027274045884286
         ],
         "z": [
          21.726093644718386,
          22.146387998227766
         ]
        },
        {
         "line": {
          "color": "green",
          "width": 2
         },
         "mode": "lines",
         "showlegend": false,
         "type": "scatter3d",
         "x": [
          1.7814154685475503,
          2.0413675204301263
         ],
         "y": [
          -2.36893069629253,
          -2.2983876216606527
         ],
         "z": [
          22.70879440543077,
          23.13004089543813
         ]
        },
        {
         "line": {
          "color": "green",
          "width": 2
         },
         "mode": "lines",
         "showlegend": false,
         "type": "scatter3d",
         "x": [
          1.561010132649723,
          1.8196117032938868
         ],
         "y": [
          -2.467165697603083,
          -2.397087900678631
         ],
         "z": [
          21.738345348331283,
          22.1604997395658
         ]
        },
        {
         "line": {
          "color": "green",
          "width": 2
         },
         "mode": "lines",
         "showlegend": false,
         "type": "scatter3d",
         "x": [
          1.8441161447426369,
          2.1014161128078266
         ],
         "y": [
          -2.3399222929571355,
          -2.2704628698807623
         ],
         "z": [
          22.68895573218523,
          23.112006692448354
         ]
        },
        {
         "line": {
          "color": "green",
          "width": 2
         },
         "mode": "lines",
         "showlegend": false,
         "type": "scatter3d",
         "x": [
          2.065873291002205,
          2.0207005324510856
         ],
         "y": [
          -2.2257009866071864,
          -2.1859887022846434
         ],
         "z": [
          23.657344735250902,
          24.153713908708287
         ]
        },
        {
         "line": {
          "color": "green",
          "width": 2
         },
         "mode": "lines",
         "showlegend": false,
         "type": "scatter3d",
         "x": [
          1.8352989943494722,
          1.7918618462639817
         ],
         "y": [
          -2.3800407562011237,
          -2.3393651039985897
         ],
         "z": [
          22.69660817966202,
          23.193054254763936
         ]
        },
        {
         "line": {
          "color": "green",
          "width": 2
         },
         "mode": "lines",
         "showlegend": false,
         "type": "scatter3d",
         "x": [
          1.6271928960516795,
          1.5856241990164301
         ],
         "y": [
          -2.4966032551095765,
          -2.455034635454157
         ],
         "z": [
          21.725472228469048,
          22.222004295194587
         ]
        },
        {
         "line": {
          "color": "green",
          "width": 2
         },
         "mode": "lines",
         "showlegend": false,
         "type": "scatter3d",
         "x": [
          1.4699192866101518,
          1.429572780055021
         ],
         "y": [
          -2.60748869192691,
          -2.565279385210719
         ],
         "z": [
          20.7441621695809,
          21.240740999008146
         ]
        },
        {
         "line": {
          "color": "green",
          "width": 2
         },
         "mode": "lines",
         "showlegend": false,
         "type": "scatter3d",
         "x": [
          1.2138186975941858,
          1.1753557364177205
         ],
         "y": [
          -2.7703695104801276,
          -2.72716976402381
         ],
         "z": [
          19.791333576783064,
          20.287976690622013
         ]
        },
        {
         "line": {
          "color": "green",
          "width": 2
         },
         "mode": "lines",
         "showlegend": false,
         "type": "scatter3d",
         "x": [
          0.9810702284188152,
          0.9449005680879965
         ],
         "y": [
          -2.948081950450616,
          -2.9034705785645056
         ],
         "z": [
          18.83517122719161,
          19.33186185642674
         ]
        },
        {
         "line": {
          "color": "green",
          "width": 2
         },
         "mode": "lines",
         "showlegend": false,
         "type": "scatter3d",
         "x": [
          0.757762643596711,
          0.72300105251553
         ],
         "y": [
          -3.0648070366715365,
          -3.019539751620566
         ],
         "z": [
          17.8674372881321,
          18.364169111845477
         ]
        },
        {
         "line": {
          "color": "green",
          "width": 2
         },
         "mode": "lines",
         "showlegend": false,
         "type": "scatter3d",
         "x": [
          1.0008264197945302,
          0.9676521728142873
         ],
         "y": [
          -2.917761052747591,
          -2.8716654994836506
         ],
         "z": [
          18.826237308632876,
          19.323001507530687
         ]
        },
        {
         "line": {
          "color": "green",
          "width": 2
         },
         "mode": "lines",
         "showlegend": false,
         "type": "scatter3d",
         "x": [
          1.3347487114750713,
          1.3038062846287513
         ],
         "y": [
          -2.771672219777468,
          -2.72459045708726
         ],
         "z": [
          19.75744832446132,
          20.25426405875608
         ]
        },
        {
         "line": {
          "color": "green",
          "width": 2
         },
         "mode": "lines",
         "showlegend": false,
         "type": "scatter3d",
         "x": [
          1.569145575529797,
          1.53975534499719
         ],
         "y": [
          -2.626649726815083,
          -2.5787507079969525
         ],
         "z": [
          20.7187113408394,
          21.21554320208171
         ]
        },
        {
         "line": {
          "color": "green",
          "width": 2
         },
         "mode": "lines",
         "showlegend": false,
         "type": "scatter3d",
         "x": [
          1.7943202076927676,
          1.7662745405682616
         ],
         "y": [
          -2.5106218412000825,
          -2.4620857771049636
         ],
         "z": [
          21.686096432098296,
          22.182944186483574
         ]
        },
        {
         "line": {
          "color": "green",
          "width": 2
         },
         "mode": "lines",
         "showlegend": false,
         "type": "scatter3d",
         "x": [
          2.156542003713748,
          2.130629528688759
         ],
         "y": [
          -2.37925154277187,
          -2.3298811478742603
         ],
         "z": [
          22.608884173227434,
          23.105765555194733
         ]
        },
        {
         "line": {
          "color": "green",
          "width": 2
         },
         "mode": "lines",
         "showlegend": false,
         "type": "scatter3d",
         "x": [
          2.3924413833873412,
          2.367847321259867
         ],
         "y": [
          -2.250053671542553,
          -2.2000085783361394
         ],
         "z": [
          23.572034936472434,
          24.068915828391244
         ]
        },
        {
         "line": {
          "color": "green",
          "width": 2
         },
         "mode": "lines",
         "showlegend": false,
         "type": "scatter3d",
         "x": [
          2.179475646149078,
          2.1560900089808372
         ],
         "y": [
          -2.3846554689583486,
          -2.333931038531938
         ],
         "z": [
          22.6042911941031,
          23.101161543522498
         ]
        },
        {
         "line": {
          "color": "green",
          "width": 2
         },
         "mode": "lines",
         "showlegend": false,
         "type": "scatter3d",
         "x": [
          1.9039475383457614,
          1.8825154798108272
         ],
         "y": [
          -2.5382999707537195,
          -2.486580817989188
         ],
         "z": [
          21.655356196920273,
          22.152212107727696
         ]
        },
        {
         "line": {
          "color": "green",
          "width": 2
         },
         "mode": "lines",
         "showlegend": false,
         "type": "scatter3d",
         "x": [
          2.1553674984537152,
          2.1353177858257038
         ],
         "y": [
          -2.395503488264351,
          -2.3430557699534726
         ],
         "z": [
          22.612642553371664,
          23.109479796206294
         ]
        },
        {
         "line": {
          "color": "green",
          "width": 2
         },
         "mode": "lines",
         "showlegend": false,
         "type": "scatter3d",
         "x": [
          1.8471584172186901,
          1.8286690162832715
         ],
         "y": [
          -2.5420481377328596,
          -2.4888654737871687
         ],
         "z": [
          21.672678815796427,
          22.169498447361736
         ]
        },
        {
         "line": {
          "color": "green",
          "width": 2
         },
         "mode": "lines",
         "showlegend": false,
         "type": "scatter3d",
         "x": [
          1.603460954419098,
          1.5865302821066045
         ],
         "y": [
          -2.682125658247396,
          -2.6281087632318823
         ],
         "z": [
          20.712996662752232,
          21.209781855152258
         ]
        },
        {
         "line": {
          "color": "green",
          "width": 2
         },
         "mode": "lines",
         "showlegend": false,
         "type": "scatter3d",
         "x": [
          1.3499958137847672,
          1.3344594949575848
         ],
         "y": [
          -2.8361265633786306,
          -2.781336648973702
         ],
         "z": [
          19.75798925770137,
          20.25473535791435
         ]
        },
        {
         "line": {
          "color": "green",
          "width": 2
         },
         "mode": "lines",
         "showlegend": false,
         "type": "scatter3d",
         "x": [
          1.5711063910275591,
          1.556745180847609
         ],
         "y": [
          -2.7085036538452067,
          -2.653105676458402
         ],
         "z": [
          20.7248514534633,
          21.221565475556112
         ]
        },
        {
         "line": {
          "color": "green",
          "width": 2
         },
         "mode": "lines",
         "showlegend": false,
         "type": "scatter3d",
         "x": [
          1.3026149831126066,
          1.290082960147811
         ],
         "y": [
          -2.8637921775408253,
          -2.8074166341061435
         ],
         "z": [
          19.77416862607854,
          20.270822173838802
         ]
        },
        {
         "line": {
          "color": "green",
          "width": 2
         },
         "mode": "lines",
         "showlegend": false,
         "type": "scatter3d",
         "x": [
          1.0225418347133055,
          1.0116483268772538
         ],
         "y": [
          -3.0525831857128956,
          -2.9952267828556507
         ],
         "z": [
          18.83293699317457,
          19.329516870473583
         ]
        },
        {
         "line": {
          "color": "green",
          "width": 2
         },
         "mode": "lines",
         "showlegend": false,
         "type": "scatter3d",
         "x": [
          0.7079146665235425,
          0.6982474013059139
         ],
         "y": [
          -3.1608661388623926,
          -3.1030362429665446
         ],
         "z": [
          17.889918145486938,
          18.38646849250513
         ]
        },
        {
         "line": {
          "color": "green",
          "width": 2
         },
         "mode": "lines",
         "showlegend": false,
         "type": "scatter3d",
         "x": [
          0.3742061868002972,
          0.3661876432683753
         ],
         "y": [
          -3.2892184162120106,
          -3.2306884955710253
         ],
         "z": [
          16.956020750983686,
          17.452518436123693
         ]
        },
        {
         "line": {
          "color": "green",
          "width": 2
         },
         "mode": "lines",
         "showlegend": false,
         "type": "scatter3d",
         "x": [
          0.125698330877933,
          0.11859478807545638
         ],
         "y": [
          -3.38205709529148,
          -3.3231516173437794
         ],
         "z": [
          15.991850213572567,
          16.48831741727026
         ]
        },
        {
         "line": {
          "color": "green",
          "width": 2
         },
         "mode": "lines",
         "showlegend": false,
         "type": "scatter3d",
         "x": [
          0.40533338410266984,
          0.3995577803957504
         ],
         "y": [
          -3.227377101941795,
          -3.167761470626038
         ],
         "z": [
          16.939414637063308,
          17.435814293494136
         ]
        },
        {
         "line": {
          "color": "green",
          "width": 2
         },
         "mode": "lines",
         "showlegend": false,
         "type": "scatter3d",
         "x": [
          0.7138204053892572,
          0.7097742949014244
         ],
         "y": [
          -3.0663096707696194,
          -3.005802109592651
         ],
         "z": [
          17.87690759187061,
          18.3732164312341
         ]
        },
        {
         "line": {
          "color": "green",
          "width": 2
         },
         "mode": "lines",
         "showlegend": false,
         "type": "scatter3d",
         "x": [
          0.4283102275854761,
          0.42523592996825416
         ],
         "y": [
          -3.1631532029765985,
          -3.1022754902036507
         ],
         "z": [
          16.923437472443617,
          17.419708016382803
         ]
        },
        {
         "line": {
          "color": "green",
          "width": 2
         },
         "mode": "lines",
         "showlegend": false,
         "type": "scatter3d",
         "x": [
          0.07429523923024117,
          0.07222670324061502
         ],
         "y": [
          -3.249522277384714,
          -3.188350577899291
         ],
         "z": [
          15.992194340385332,
          16.488433944146383
         ]
        },
        {
         "line": {
          "color": "green",
          "width": 2
         },
         "mode": "lines",
         "showlegend": false,
         "type": "scatter3d",
         "x": [
          0.35293552158436026,
          0.35158436435504586
         ],
         "y": [
          -3.1798434937942512,
          -3.1184278310716267
         ],
         "z": [
          16.95005887160411,
          17.446270812962318
         ]
        },
        {
         "line": {
          "color": "green",
          "width": 2
         },
         "mode": "lines",
         "showlegend": false,
         "type": "scatter3d",
         "x": [
          0.0248266898748013,
          0.02436233481276861
         ],
         "y": [
          -3.281887402995244,
          -3.2201599735372493
         ],
         "z": [
          16.010946719010416,
          16.507121596273347
         ]
        },
        {
         "line": {
          "color": "green",
          "width": 2
         },
         "mode": "lines",
         "showlegend": false,
         "type": "scatter3d",
         "x": [
          -0.2637215396823408,
          -0.26372727293207826
         ],
         "y": [
          -3.346914636577462,
          -3.2850378788638976
         ],
         "z": [
          15.055692104725786,
          15.551848599011597
         ]
        },
        {
         "line": {
          "color": "green",
          "width": 2
         },
         "mode": "lines",
         "showlegend": false,
         "type": "scatter3d",
         "x": [
          0.0686461394322333,
          0.06891666615659342
         ],
         "y": [
          -3.3225448453014566,
          -3.2606020469755173
         ],
         "z": [
          15.998527105748314,
          16.494675285782105
         ]
        },
        {
         "line": {
          "color": "green",
          "width": 2
         },
         "mode": "lines",
         "showlegend": false,
         "type": "scatter3d",
         "x": [
          0.3465674971456102,
          0.3471539573092262
         ],
         "y": [
          -3.2432775218707666,
          -3.1811816064535745
         ],
         "z": [
          16.955854850234434,
          17.451983617141753
         ]
        },
        {
         "line": {
          "color": "green",
          "width": 2
         },
         "mode": "lines",
         "showlegend": false,
         "type": "scatter3d",
         "x": [
          0.04333417809433837,
          0.044199080641631416
         ],
         "y": [
          -3.2916123440445855,
          -3.2294382730115245
         ],
         "z": [
          16.004165142828406,
          16.50028371417477
         ]
        },
        {
         "line": {
          "color": "green",
          "width": 2
         },
         "mode": "lines",
         "showlegend": false,
         "type": "scatter3d",
         "x": [
          -0.2148985914219298,
          -0.2137386434033957
         ],
         "y": [
          -3.3410792650882937,
          -3.2787730703386746
         ],
         "z": [
          15.039349688728292,
          15.535451082211939
         ]
        },
        {
         "line": {
          "color": "green",
          "width": 2
         },
         "mode": "lines",
         "showlegend": false,
         "type": "scatter3d",
         "x": [
          0.024052048288932204,
          0.02544930294968364
         ],
         "y": [
          -3.2898862814198595,
          -3.2274484303711573
         ],
         "z": [
          16.009031012774955,
          16.505115241949632
         ]
        },
        {
         "line": {
          "color": "green",
          "width": 2
         },
         "mode": "lines",
         "showlegend": false,
         "type": "scatter3d",
         "x": [
          0.28578685529920067,
          0.2874613556533586
         ],
         "y": [
          -3.2429547806311176,
          -3.1804138959099966
         ],
         "z": [
          16.97302910666986,
          17.469099498637433
         ]
        },
        {
         "line": {
          "color": "green",
          "width": 2
         },
         "mode": "lines",
         "showlegend": false,
         "type": "scatter3d",
         "x": [
          0.5435922065778807,
          0.5459877322918101
         ],
         "y": [
          -3.1645739284050993,
          -3.10169804571422
         ],
         "z": [
          17.936041486058823,
          18.432066570941025
         ]
        },
        {
         "line": {
          "color": "green",
          "width": 2
         },
         "mode": "lines",
         "showlegend": false,
         "type": "scatter3d",
         "x": [
          0.19147791550158644,
          0.19486200612483853
         ],
         "y": [
          -3.23961070824373,
          -3.176441221148175
         ],
         "z": [
          17.00309721779234,
          17.499079237457103
         ]
        },
        {
         "line": {
          "color": "green",
          "width": 2
         },
         "mode": "lines",
         "showlegend": false,
         "type": "scatter3d",
         "x": [
          0.40862288999605356,
          0.4123455534337677
         ],
         "y": [
          -3.1926172828423347,
          -3.129260710216201
         ],
         "z": [
          17.97810474495346,
          18.474060475318577
         ]
        },
        {
         "line": {
          "color": "green",
          "width": 2
         },
         "mode": "lines",
         "showlegend": false,
         "type": "scatter3d",
         "x": [
          0.1230742059453242,
          0.1277087596577582
         ],
         "y": [
          -3.282528231521897,
          -3.2187858283539703
         ],
         "z": [
          17.02396745381322,
          17.519866059326752
         ]
        },
        {
         "line": {
          "color": "green",
          "width": 2
         },
         "mode": "lines",
         "showlegend": false,
         "type": "scatter3d",
         "x": [
          0.40384646753668596,
          0.40931043980519993
         ],
         "y": [
          -3.191894323081291,
          -3.127800031002169
         ],
         "z": [
          17.97945289680105,
          18.475297697852675
         ]
        },
        {
         "line": {
          "color": "green",
          "width": 2
         },
         "mode": "lines",
         "showlegend": false,
         "type": "scatter3d",
         "x": [
          0.7056404478613465,
          0.7119217422959543
         ],
         "y": [
          -3.1136837128293644,
          -3.0493068057574786
         ],
         "z": [
          18.92961261699751,
          19.42541112362705
         ]
        },
        {
         "line": {
          "color": "green",
          "width": 2
         },
         "mode": "lines",
         "showlegend": false,
         "type": "scatter3d",
         "x": [
          0.47453077890949813,
          0.48139355510440857
         ],
         "y": [
          -3.1944356091317925,
          -3.129737291675569
         ],
         "z": [
          17.96004186034252,
          18.455790819011355
         ]
        },
        {
         "line": {
          "color": "green",
          "width": 2
         },
         "mode": "lines",
         "showlegend": false,
         "type": "scatter3d",
         "x": [
          0.7222515584373076,
          0.7297877789082711
         ],
         "y": [
          -3.0990958321434006,
          -3.034071149253996
         ],
         "z": [
          18.924170867433343,
          19.419867343107867
         ]
        },
        {
         "line": {
          "color": "green",
          "width": 2
         },
         "mode": "lines",
         "showlegend": false,
         "type": "scatter3d",
         "x": [
          1.018842744489734,
          1.0271259563484667
         ],
         "y": [
          -3.0246851969624116,
          -2.959402476092177
         ],
         "z": [
          19.876272083548507,
          20.37192272135409
         ]
        },
        {
         "line": {
          "color": "green",
          "width": 2
         },
         "mode": "lines",
         "showlegend": false,
         "type": "scatter3d",
         "x": [
          0.7361848626948748,
          0.7455699515032969
         ],
         "y": [
          -3.1289543463600142,
          -3.0631938324425203
         ],
         "z": [
          18.922735263943128,
          19.41830309473662
         ]
        },
        {
         "line": {
          "color": "green",
          "width": 2
         },
         "mode": "lines",
         "showlegend": false,
         "type": "scatter3d",
         "x": [
          0.4346732559963982,
          0.44480370708009365
         ],
         "y": [
          -3.213176432413008,
          -3.1471066988638796
         ],
         "z": [
          17.972999831705824,
          18.46851185403181
         ]
        },
        {
         "line": {
          "color": "green",
          "width": 2
         },
         "mode": "lines",
         "showlegend": false,
         "type": "scatter3d",
         "x": [
          0.11464007107435009,
          0.12588967443695706
         ],
         "y": [
          -3.3383665773005466,
          -3.27182028860764
         ],
         "z": [
          17.033901227632917,
          17.529325326648483
         ]
        },
        {
         "line": {
          "color": "green",
          "width": 2
         },
         "mode": "lines",
         "showlegend": false,
         "type": "scatter3d",
         "x": [
          0.40421180678564406,
          0.41632424859768946
         ],
         "y": [
          -3.2596098685224697,
          -3.1927380356158186
         ],
         "z": [
          17.987811910401273,
          18.483171826741962
         ]
        },
        {
         "line": {
          "color": "green",
          "width": 2
         },
         "mode": "lines",
         "showlegend": false,
         "type": "scatter3d",
         "x": [
          0.1841598336094207,
          0.1967097795210457
         ],
         "y": [
          -3.336978437304025,
          -3.2698632805610757
         ],
         "z": [
          17.01539675540525,
          17.510712871227238
         ]
        },
        {
         "line": {
          "color": "green",
          "width": 2
         },
         "mode": "lines",
         "showlegend": false,
         "type": "scatter3d",
         "x": [
          0.4762614840366841,
          0.48945537009853857
         ],
         "y": [
          -3.2567928616445645,
          -3.189425018509023
         ],
         "z": [
          17.968416639391844,
          18.46368171496436
         ]
        },
        {
         "line": {
          "color": "green",
          "width": 2
         },
         "mode": "lines",
         "showlegend": false,
         "type": "scatter3d",
         "x": [
          0.7705673119838441,
          0.7847681235117867
         ],
         "y": [
          -3.165224692438051,
          -3.0974710062159456
         ],
         "z": [
          18.919731177294267,
          19.414915764044768
         ]
        },
        {
         "line": {
          "color": "green",
          "width": 2
         },
         "mode": "lines",
         "showlegend": false,
         "type": "scatter3d",
         "x": [
          1.0120361729673266,
          1.0266498993823676
         ],
         "y": [
          -3.1039614086626908,
          -3.036052208507629
         ],
         "z": [
          19.888203995310548,
          20.383355264656153
         ]
        },
        {
         "line": {
          "color": "green",
          "width": 2
         },
         "mode": "lines",
         "showlegend": false,
         "type": "scatter3d",
         "x": [
          1.2809373509032849,
          1.296012451152415
         ],
         "y": [
          -3.0239241795648364,
          -2.955780949395173
         ],
         "z": [
          20.84804054309511,
          21.34314582637789
         ]
        },
        {
         "line": {
          "color": "green",
          "width": 2
         },
         "mode": "lines",
         "showlegend": false,
         "type": "scatter3d",
         "x": [
          1.5785551362248522,
          1.594189341050368
         ],
         "y": [
          -2.9616781459436674,
          -2.893353376862325
         ],
         "z": [
          21.800694249936537,
          22.295757172775094
         ]
        },
        {
         "line": {
          "color": "green",
          "width": 2
         },
         "mode": "lines",
         "showlegend": false,
         "type": "scatter3d",
         "x": [
          1.843026324213792,
          1.859103056022119
         ],
         "y": [
          -2.878959507441991,
          -2.810426862426084
         ],
         "z": [
          22.76153378782418,
          23.256553802835175
         ]
        },
        {
         "line": {
          "color": "green",
          "width": 2
         },
         "mode": "lines",
         "showlegend": false,
         "type": "scatter3d",
         "x": [
          2.150004802204719,
          2.1666209446973053
         ],
         "y": [
          -2.801415683279704,
          -2.7326917566303472
         ],
         "z": [
          23.710085931559387,
          24.205061613502004
         ]
        },
        {
         "line": {
          "color": "green",
          "width": 2
         },
         "mode": "lines",
         "showlegend": false,
         "type": "scatter3d",
         "x": [
          1.8356131883064246,
          1.8529524570077613
         ],
         "y": [
          -2.8862328586953097,
          -2.8172443016721003
         ],
         "z": [
          22.764589257919052,
          23.259503319914423
         ]
        },
        {
         "line": {
          "color": "green",
          "width": 2
         },
         "mode": "lines",
         "showlegend": false,
         "type": "scatter3d",
         "x": [
          2.153327644112803,
          2.1713080644428873
         ],
         "y": [
          -2.7936060930527935,
          -2.7243511844155557
         ],
         "z": [
          23.708240574273912,
          24.203094554872635
         ]
        },
        {
         "line": {
          "color": "green",
          "width": 2
         },
         "mode": "lines",
         "showlegend": false,
         "type": "scatter3d",
         "x": [
          1.8088826557421354,
          1.8274451704246453
         ],
         "y": [
          -2.863869090406444,
          -2.7944468131750773
         ],
         "z": [
          22.7720671068069,
          23.266876141155176
         ]
        },
        {
         "line": {
          "color": "green",
          "width": 2
         },
         "mode": "lines",
         "showlegend": false,
         "type": "scatter3d",
         "x": [
          2.124677292880904,
          2.143942382199874
         ],
         "y": [
          -2.7773556460022424,
          -2.7076595553216394
         ],
         "z": [
          23.71694232136791,
          24.2116860037706
         ]
        },
        {
         "line": {
          "color": "green",
          "width": 2
         },
         "mode": "lines",
         "showlegend": false,
         "type": "scatter3d",
         "x": [
          1.820126791317525,
          1.8398274723670147
         ],
         "y": [
          -2.8709546663537746,
          -2.801016554228935
         ],
         "z": [
          22.769056138650427,
          23.263748511381802
         ]
        },
        {
         "line": {
          "color": "green",
          "width": 2
         },
         "mode": "lines",
         "showlegend": false,
         "type": "scatter3d",
         "x": [
          2.186169306412237,
          2.2068526780603905
         ],
         "y": [
          -2.7476038611284106,
          -2.6772770181409964
         ],
         "z": [
          23.69144296422492,
          24.186040106647607
         ]
        },
        {
         "line": {
          "color": "green",
          "width": 2
         },
         "mode": "lines",
         "showlegend": false,
         "type": "scatter3d",
         "x": [
          1.9044923037316734,
          1.9255184913161902
         ],
         "y": [
          -2.8157778328382728,
          -2.7452938571402563
         ],
         "z": [
          22.73435865459374,
          23.228918973064058
         ]
        },
        {
         "line": {
          "color": "green",
          "width": 2
         },
         "mode": "lines",
         "showlegend": false,
         "type": "scatter3d",
         "x": [
          1.5808172338374578,
          1.6025251238884068
         ],
         "y": [
          -2.9066454437792197,
          -2.835913301794193
         ],
         "z": [
          21.79256381153563,
          22.28705924285906
         ]
        },
        {
         "line": {
          "color": "green",
          "width": 2
         },
         "mode": "lines",
         "showlegend": false,
         "type": "scatter3d",
         "x": [
          1.9273388827681766,
          1.9498151083245878
         ],
         "y": [
          -2.8030979794622186,
          -2.732099981857816
         ],
         "z": [
          22.724873132231206,
          23.21929613293091
         ]
        },
        {
         "line": {
          "color": "green",
          "width": 2
         },
         "mode": "lines",
         "showlegend": false,
         "type": "scatter3d",
         "x": [
          2.250960808981053,
          2.274274201488541
         ],
         "y": [
          -2.710254799302676,
          -2.6389613233596383
         ],
         "z": [
          23.666493540236537,
          24.160835250005952
         ]
        },
        {
         "line": {
          "color": "green",
          "width": 2
         },
         "mode": "lines",
         "showlegend": false,
         "type": "scatter3d",
         "x": [
          2.503490262075597,
          2.5270857520206844
         ],
         "y": [
          -2.6388283650712068,
          -2.5673439345604643
         ],
         "z": [
          24.63144283414412,
          25.125743581714673
         ]
        },
        {
         "line": {
          "color": "green",
          "width": 2
         },
         "mode": "lines",
         "showlegend": false,
         "type": "scatter3d",
         "x": [
          2.824638282767326,
          2.8488219341967125
         ],
         "y": [
          -2.5482054770035227,
          -2.476489353028029
         ],
         "z": [
          25.574125941537083,
          26.068364698177508
         ]
        },
        {
         "line": {
          "color": "green",
          "width": 2
         },
         "mode": "lines",
         "showlegend": false,
         "type": "scatter3d",
         "x": [
          3.1251209035999516,
          3.1501386781363774
         ],
         "y": [
          -2.445501279276127,
          -2.3734101409967403
         ],
         "z": [
          26.52236749427917,
          27.016510164708293
         ]
        },
        {
         "line": {
          "color": "green",
          "width": 2
         },
         "mode": "lines",
         "showlegend": false,
         "type": "scatter3d",
         "x": [
          3.417292243461314,
          3.443096414227698
         ],
         "y": [
          -2.327726267126094,
          -2.255268468849975
         ],
         "z": [
          27.47145387321244,
          27.96550246620713
         ]
        },
        {
         "line": {
          "color": "green",
          "width": 2
         },
         "mode": "lines",
         "showlegend": false,
         "type": "scatter3d",
         "x": [
          3.1246420949270326,
          3.1510106618375984
         ],
         "y": [
          -2.3999722657558933,
          -2.3273117243753685
         ],
         "z": [
          26.517967425356552,
          27.011956437790403
         ]
        },
        {
         "line": {
          "color": "green",
          "width": 2
         },
         "mode": "lines",
         "showlegend": false,
         "type": "scatter3d",
         "x": [
          2.826009016087263,
          2.852985551767254
         ],
         "y": [
          -2.479215179549558,
          -2.406259777506667
         ],
         "z": [
          25.566894954492128,
          26.060807675360365
         ]
        },
        {
         "line": {
          "color": "green",
          "width": 2
         },
         "mode": "lines",
         "showlegend": false,
         "type": "scatter3d",
         "x": [
          2.4784075564700023,
          2.5062493862418482
         ],
         "y": [
          -2.585594605012308,
          -2.512310533877662
         ],
         "z": [
          24.63530671760302,
          25.129122753625428
         ]
        },
        {
         "line": {
          "color": "green",
          "width": 2
         },
         "mode": "lines",
         "showlegend": false,
         "type": "scatter3d",
         "x": [
          2.796496601667539,
          2.8249650696345476
         ],
         "y": [
          -2.510784360482796,
          -2.4372732747889105
         ],
         "z": [
          25.58041136082447,
          26.074157921938284
         ]
        },
        {
         "line": {
          "color": "green",
          "width": 2
         },
         "mode": "lines",
         "showlegend": false,
         "type": "scatter3d",
         "x": [
          2.4628926041459285,
          2.4923826270970593
         ],
         "y": [
          -2.621115185757466,
          -2.547197180540898
         ],
         "z": [
          24.64417662432309,
          25.13780246142154
         ]
        },
        {
         "line": {
          "color": "green",
          "width": 2
         },
         "mode": "lines",
         "showlegend": false,
         "type": "scatter3d",
         "x": [
          2.1334464917531193,
          2.1637029768511225
         ],
         "y": [
          -2.7317793290170282,
          -2.6575326640398114
         ],
         "z": [
          23.706509995704003,
          24.200040114186425
         ]
        },
        {
         "line": {
          "color": "green",
          "width": 2
         },
         "mode": "lines",
         "showlegend": false,
         "type": "scatter3d",
         "x": [
          2.482572242813319,
          2.5138348215968613
         ],
         "y": [
          -2.5988008051730174,
          -2.5241271802032057
         ],
         "z": [
          24.63410253671698,
          25.12750551694883
         ]
        },
        {
         "line": {
          "color": "green",
          "width": 2
         },
         "mode": "lines",
         "showlegend": false,
         "type": "scatter3d",
         "x": [
          2.1312656898959195,
          2.1636969182590633
         ],
         "y": [
          -2.7163120583969875,
          -2.6412085946716735
         ],
         "z": [
          23.705245814050336,
          24.198508102456127
         ]
        },
        {
         "line": {
          "color": "green",
          "width": 2
         },
         "mode": "lines",
         "showlegend": false,
         "type": "scatter3d",
         "x": [
          1.7854489794527657,
          1.818658143810625
         ],
         "y": [
          -2.818536590706274,
          -2.743162773280826
         ],
         "z": [
          22.772528843167734,
          23.265698123485727
         ]
        },
        {
         "line": {
          "color": "green",
          "width": 2
         },
         "mode": "lines",
         "showlegend": false,
         "type": "scatter3d",
         "x": [
          1.5216630052775448,
          1.555298114026805
         ],
         "y": [
          -2.905881841204369,
          -2.8302837176988263
         ],
         "z": [
          21.81191041369438,
          22.305016490702023
         ]
        },
        {
         "line": {
          "color": "green",
          "width": 2
         },
         "mode": "lines",
         "showlegend": false,
         "type": "scatter3d",
         "x": [
          1.8718837692267531,
          1.9065371265522937
         ],
         "y": [
          -2.7980893800389555,
          -2.7220952358636654
         ],
         "z": [
          22.74235450218908,
          23.235329181941633
         ]
        },
        {
         "line": {
          "color": "green",
          "width": 2
         },
         "mode": "lines",
         "showlegend": false,
         "type": "scatter3d",
         "x": [
          2.216374120656657,
          2.251874186517831
         ],
         "y": [
          -2.676741794153037,
          -2.6003944431507984
         ],
         "z": [
          23.673268655680882,
          24.166128501193572
         ]
        },
        {
         "line": {
          "color": "green",
          "width": 2
         },
         "mode": "lines",
         "showlegend": false,
         "type": "scatter3d",
         "x": [
          2.53044990421222,
          2.5665347925588105
         ],
         "y": [
          -2.5784358902977873,
          -2.501840880663965
         ],
         "z": [
          24.617563287377557,
          25.11034222902605
         ]
        },
        {
         "line": {
          "color": "green",
          "width": 2
         },
         "mode": "lines",
         "showlegend": false,
         "type": "scatter3d",
         "x": [
          2.887196621285425,
          2.9244316716314596
         ],
         "y": [
          -2.4557626337755907,
          -2.378693715206908
         ],
         "z": [
          25.543675079761027,
          26.036294540213394
         ]
        },
        {
         "line": {
          "color": "green",
          "width": 2
         },
         "mode": "lines",
         "showlegend": false,
         "type": "scatter3d",
         "x": [
          3.2054656713342213,
          3.243472178844169
         ],
         "y": [
          -2.344315149994637,
          -2.266936017601628
         ],
         "z": [
          26.48510180029743,
          26.977613703967787
         ]
        },
        {
         "line": {
          "color": "green",
          "width": 2
         },
         "mode": "lines",
         "showlegend": false,
         "type": "scatter3d",
         "x": [
          2.927848811403797,
          2.9664057123804124
         ],
         "y": [
          -2.4464149875427723,
          -2.3687352276441875
         ],
         "z": [
          25.529850784985218,
          26.022272576023322
         ]
        },
        {
         "line": {
          "color": "green",
          "width": 2
         },
         "mode": "lines",
         "showlegend": false,
         "type": "scatter3d",
         "x": [
          2.5936222624148066,
          2.6331624845637482
         ],
         "y": [
          -2.563688782908204,
          -2.4855763912765187
         ],
         "z": [
          24.594682633863993,
          25.086957988829067
         ]
        },
        {
         "line": {
          "color": "green",
          "width": 2
         },
         "mode": "lines",
         "showlegend": false,
         "type": "scatter3d",
         "x": [
          2.2496722724569245,
          2.2903149185472933
         ],
         "y": [
          -2.7122322689271865,
          -2.6335864999677856
         ],
         "z": [
          23.667518550667662,
          24.159619168776963
         ]
        },
        {
         "line": {
          "color": "green",
          "width": 2
         },
         "mode": "lines",
         "showlegend": false,
         "type": "scatter3d",
         "x": [
          1.9526281640146705,
          1.9940990970320278
         ],
         "y": [
          -2.8481740714804333,
          -2.769081478125387
         ],
         "z": [
          22.72238119347649,
          23.214341073335653
         ]
        },
        {
         "line": {
          "color": "green",
          "width": 2
         },
         "mode": "lines",
         "showlegend": false,
         "type": "scatter3d",
         "x": [
          1.6179880532784365,
          1.6607873496980634
         ],
         "y": [
          -3.0046225596803295,
          -2.9248561594326308
         ],
         "z": [
          21.79311273558803,
          22.284850004480177
         ]
        },
        {
         "line": {
          "color": "green",
          "width": 2
         },
         "mode": "lines",
         "showlegend": false,
         "type": "scatter3d",
         "x": [
          2.0780974127465455,
          2.122457854866158
         ],
         "y": [
          -2.83799223139246,
          -2.7576307125544672
         ],
         "z": [
          22.665198574840403,
          23.156700535635068
         ]
        },
        {
         "line": {
          "color": "green",
          "width": 2
         },
         "mode": "lines",
         "showlegend": false,
         "type": "scatter3d",
         "x": [
          2.450254423798754,
          2.4957475416353336
         ],
         "y": [
          -2.6805275057764315,
          -2.599622606666951
         ],
         "z": [
          23.579913841637318,
          24.071223085932182
         ]
        },
        {
         "line": {
          "color": "green",
          "width": 2
         },
         "mode": "lines",
         "showlegend": false,
         "type": "scatter3d",
         "x": [
          2.117336418610699,
          2.163752837110511
         ],
         "y": [
          -2.796885607585191,
          -2.715581470392706
         ],
         "z": [
          22.644164733187267,
          23.13532168709206
         ]
        },
        {
         "line": {
          "color": "green",
          "width": 2
         },
         "mode": "lines",
         "showlegend": false,
         "type": "scatter3d",
         "x": [
          2.4710691732415304,
          2.518515918605979
         ],
         "y": [
          -2.6318337722113117,
          -2.5499683930771764
         ],
         "z": [
          23.564833528108107,
          24.055798767258032
         ]
        },
        {
         "line": {
          "color": "green",
          "width": 2
         },
         "mode": "lines",
         "showlegend": false,
         "type": "scatter3d",
         "x": [
          2.775790117063229,
          2.8240145176107134
         ],
         "y": [
          -2.49277743993007,
          -2.410492553424088
         ],
         "z": [
          24.50706942365067,
          24.997888743405436
         ]
        },
        {
         "line": {
          "color": "green",
          "width": 2
         },
         "mode": "lines",
         "showlegend": false,
         "type": "scatter3d",
         "x": [
          3.1522321797471933,
          3.2019971115499355
         ],
         "y": [
          -2.31004649415334,
          -2.2269795409227795
         ],
         "z": [
          25.415309906616375,
          25.905843629049052
         ]
        }
       ],
       "layout": {
        "scene": {
         "xaxis": {
          "title": {
           "text": "X-axis"
          }
         },
         "yaxis": {
          "title": {
           "text": "Y-axis"
          }
         },
         "zaxis": {
          "title": {
           "text": "Z-axis"
          }
         }
        },
        "showlegend": true,
        "template": {
         "data": {
          "bar": [
           {
            "error_x": {
             "color": "#2a3f5f"
            },
            "error_y": {
             "color": "#2a3f5f"
            },
            "marker": {
             "line": {
              "color": "#E5ECF6",
              "width": 0.5
             },
             "pattern": {
              "fillmode": "overlay",
              "size": 10,
              "solidity": 0.2
             }
            },
            "type": "bar"
           }
          ],
          "barpolar": [
           {
            "marker": {
             "line": {
              "color": "#E5ECF6",
              "width": 0.5
             },
             "pattern": {
              "fillmode": "overlay",
              "size": 10,
              "solidity": 0.2
             }
            },
            "type": "barpolar"
           }
          ],
          "carpet": [
           {
            "aaxis": {
             "endlinecolor": "#2a3f5f",
             "gridcolor": "white",
             "linecolor": "white",
             "minorgridcolor": "white",
             "startlinecolor": "#2a3f5f"
            },
            "baxis": {
             "endlinecolor": "#2a3f5f",
             "gridcolor": "white",
             "linecolor": "white",
             "minorgridcolor": "white",
             "startlinecolor": "#2a3f5f"
            },
            "type": "carpet"
           }
          ],
          "choropleth": [
           {
            "colorbar": {
             "outlinewidth": 0,
             "ticks": ""
            },
            "type": "choropleth"
           }
          ],
          "contour": [
           {
            "colorbar": {
             "outlinewidth": 0,
             "ticks": ""
            },
            "colorscale": [
             [
              0,
              "#0d0887"
             ],
             [
              0.1111111111111111,
              "#46039f"
             ],
             [
              0.2222222222222222,
              "#7201a8"
             ],
             [
              0.3333333333333333,
              "#9c179e"
             ],
             [
              0.4444444444444444,
              "#bd3786"
             ],
             [
              0.5555555555555556,
              "#d8576b"
             ],
             [
              0.6666666666666666,
              "#ed7953"
             ],
             [
              0.7777777777777778,
              "#fb9f3a"
             ],
             [
              0.8888888888888888,
              "#fdca26"
             ],
             [
              1,
              "#f0f921"
             ]
            ],
            "type": "contour"
           }
          ],
          "contourcarpet": [
           {
            "colorbar": {
             "outlinewidth": 0,
             "ticks": ""
            },
            "type": "contourcarpet"
           }
          ],
          "heatmap": [
           {
            "colorbar": {
             "outlinewidth": 0,
             "ticks": ""
            },
            "colorscale": [
             [
              0,
              "#0d0887"
             ],
             [
              0.1111111111111111,
              "#46039f"
             ],
             [
              0.2222222222222222,
              "#7201a8"
             ],
             [
              0.3333333333333333,
              "#9c179e"
             ],
             [
              0.4444444444444444,
              "#bd3786"
             ],
             [
              0.5555555555555556,
              "#d8576b"
             ],
             [
              0.6666666666666666,
              "#ed7953"
             ],
             [
              0.7777777777777778,
              "#fb9f3a"
             ],
             [
              0.8888888888888888,
              "#fdca26"
             ],
             [
              1,
              "#f0f921"
             ]
            ],
            "type": "heatmap"
           }
          ],
          "heatmapgl": [
           {
            "colorbar": {
             "outlinewidth": 0,
             "ticks": ""
            },
            "colorscale": [
             [
              0,
              "#0d0887"
             ],
             [
              0.1111111111111111,
              "#46039f"
             ],
             [
              0.2222222222222222,
              "#7201a8"
             ],
             [
              0.3333333333333333,
              "#9c179e"
             ],
             [
              0.4444444444444444,
              "#bd3786"
             ],
             [
              0.5555555555555556,
              "#d8576b"
             ],
             [
              0.6666666666666666,
              "#ed7953"
             ],
             [
              0.7777777777777778,
              "#fb9f3a"
             ],
             [
              0.8888888888888888,
              "#fdca26"
             ],
             [
              1,
              "#f0f921"
             ]
            ],
            "type": "heatmapgl"
           }
          ],
          "histogram": [
           {
            "marker": {
             "pattern": {
              "fillmode": "overlay",
              "size": 10,
              "solidity": 0.2
             }
            },
            "type": "histogram"
           }
          ],
          "histogram2d": [
           {
            "colorbar": {
             "outlinewidth": 0,
             "ticks": ""
            },
            "colorscale": [
             [
              0,
              "#0d0887"
             ],
             [
              0.1111111111111111,
              "#46039f"
             ],
             [
              0.2222222222222222,
              "#7201a8"
             ],
             [
              0.3333333333333333,
              "#9c179e"
             ],
             [
              0.4444444444444444,
              "#bd3786"
             ],
             [
              0.5555555555555556,
              "#d8576b"
             ],
             [
              0.6666666666666666,
              "#ed7953"
             ],
             [
              0.7777777777777778,
              "#fb9f3a"
             ],
             [
              0.8888888888888888,
              "#fdca26"
             ],
             [
              1,
              "#f0f921"
             ]
            ],
            "type": "histogram2d"
           }
          ],
          "histogram2dcontour": [
           {
            "colorbar": {
             "outlinewidth": 0,
             "ticks": ""
            },
            "colorscale": [
             [
              0,
              "#0d0887"
             ],
             [
              0.1111111111111111,
              "#46039f"
             ],
             [
              0.2222222222222222,
              "#7201a8"
             ],
             [
              0.3333333333333333,
              "#9c179e"
             ],
             [
              0.4444444444444444,
              "#bd3786"
             ],
             [
              0.5555555555555556,
              "#d8576b"
             ],
             [
              0.6666666666666666,
              "#ed7953"
             ],
             [
              0.7777777777777778,
              "#fb9f3a"
             ],
             [
              0.8888888888888888,
              "#fdca26"
             ],
             [
              1,
              "#f0f921"
             ]
            ],
            "type": "histogram2dcontour"
           }
          ],
          "mesh3d": [
           {
            "colorbar": {
             "outlinewidth": 0,
             "ticks": ""
            },
            "type": "mesh3d"
           }
          ],
          "parcoords": [
           {
            "line": {
             "colorbar": {
              "outlinewidth": 0,
              "ticks": ""
             }
            },
            "type": "parcoords"
           }
          ],
          "pie": [
           {
            "automargin": true,
            "type": "pie"
           }
          ],
          "scatter": [
           {
            "fillpattern": {
             "fillmode": "overlay",
             "size": 10,
             "solidity": 0.2
            },
            "type": "scatter"
           }
          ],
          "scatter3d": [
           {
            "line": {
             "colorbar": {
              "outlinewidth": 0,
              "ticks": ""
             }
            },
            "marker": {
             "colorbar": {
              "outlinewidth": 0,
              "ticks": ""
             }
            },
            "type": "scatter3d"
           }
          ],
          "scattercarpet": [
           {
            "marker": {
             "colorbar": {
              "outlinewidth": 0,
              "ticks": ""
             }
            },
            "type": "scattercarpet"
           }
          ],
          "scattergeo": [
           {
            "marker": {
             "colorbar": {
              "outlinewidth": 0,
              "ticks": ""
             }
            },
            "type": "scattergeo"
           }
          ],
          "scattergl": [
           {
            "marker": {
             "colorbar": {
              "outlinewidth": 0,
              "ticks": ""
             }
            },
            "type": "scattergl"
           }
          ],
          "scattermapbox": [
           {
            "marker": {
             "colorbar": {
              "outlinewidth": 0,
              "ticks": ""
             }
            },
            "type": "scattermapbox"
           }
          ],
          "scatterpolar": [
           {
            "marker": {
             "colorbar": {
              "outlinewidth": 0,
              "ticks": ""
             }
            },
            "type": "scatterpolar"
           }
          ],
          "scatterpolargl": [
           {
            "marker": {
             "colorbar": {
              "outlinewidth": 0,
              "ticks": ""
             }
            },
            "type": "scatterpolargl"
           }
          ],
          "scatterternary": [
           {
            "marker": {
             "colorbar": {
              "outlinewidth": 0,
              "ticks": ""
             }
            },
            "type": "scatterternary"
           }
          ],
          "surface": [
           {
            "colorbar": {
             "outlinewidth": 0,
             "ticks": ""
            },
            "colorscale": [
             [
              0,
              "#0d0887"
             ],
             [
              0.1111111111111111,
              "#46039f"
             ],
             [
              0.2222222222222222,
              "#7201a8"
             ],
             [
              0.3333333333333333,
              "#9c179e"
             ],
             [
              0.4444444444444444,
              "#bd3786"
             ],
             [
              0.5555555555555556,
              "#d8576b"
             ],
             [
              0.6666666666666666,
              "#ed7953"
             ],
             [
              0.7777777777777778,
              "#fb9f3a"
             ],
             [
              0.8888888888888888,
              "#fdca26"
             ],
             [
              1,
              "#f0f921"
             ]
            ],
            "type": "surface"
           }
          ],
          "table": [
           {
            "cells": {
             "fill": {
              "color": "#EBF0F8"
             },
             "line": {
              "color": "white"
             }
            },
            "header": {
             "fill": {
              "color": "#C8D4E3"
             },
             "line": {
              "color": "white"
             }
            },
            "type": "table"
           }
          ]
         },
         "layout": {
          "annotationdefaults": {
           "arrowcolor": "#2a3f5f",
           "arrowhead": 0,
           "arrowwidth": 1
          },
          "autotypenumbers": "strict",
          "coloraxis": {
           "colorbar": {
            "outlinewidth": 0,
            "ticks": ""
           }
          },
          "colorscale": {
           "diverging": [
            [
             0,
             "#8e0152"
            ],
            [
             0.1,
             "#c51b7d"
            ],
            [
             0.2,
             "#de77ae"
            ],
            [
             0.3,
             "#f1b6da"
            ],
            [
             0.4,
             "#fde0ef"
            ],
            [
             0.5,
             "#f7f7f7"
            ],
            [
             0.6,
             "#e6f5d0"
            ],
            [
             0.7,
             "#b8e186"
            ],
            [
             0.8,
             "#7fbc41"
            ],
            [
             0.9,
             "#4d9221"
            ],
            [
             1,
             "#276419"
            ]
           ],
           "sequential": [
            [
             0,
             "#0d0887"
            ],
            [
             0.1111111111111111,
             "#46039f"
            ],
            [
             0.2222222222222222,
             "#7201a8"
            ],
            [
             0.3333333333333333,
             "#9c179e"
            ],
            [
             0.4444444444444444,
             "#bd3786"
            ],
            [
             0.5555555555555556,
             "#d8576b"
            ],
            [
             0.6666666666666666,
             "#ed7953"
            ],
            [
             0.7777777777777778,
             "#fb9f3a"
            ],
            [
             0.8888888888888888,
             "#fdca26"
            ],
            [
             1,
             "#f0f921"
            ]
           ],
           "sequentialminus": [
            [
             0,
             "#0d0887"
            ],
            [
             0.1111111111111111,
             "#46039f"
            ],
            [
             0.2222222222222222,
             "#7201a8"
            ],
            [
             0.3333333333333333,
             "#9c179e"
            ],
            [
             0.4444444444444444,
             "#bd3786"
            ],
            [
             0.5555555555555556,
             "#d8576b"
            ],
            [
             0.6666666666666666,
             "#ed7953"
            ],
            [
             0.7777777777777778,
             "#fb9f3a"
            ],
            [
             0.8888888888888888,
             "#fdca26"
            ],
            [
             1,
             "#f0f921"
            ]
           ]
          },
          "colorway": [
           "#636efa",
           "#EF553B",
           "#00cc96",
           "#ab63fa",
           "#FFA15A",
           "#19d3f3",
           "#FF6692",
           "#B6E880",
           "#FF97FF",
           "#FECB52"
          ],
          "font": {
           "color": "#2a3f5f"
          },
          "geo": {
           "bgcolor": "white",
           "lakecolor": "white",
           "landcolor": "#E5ECF6",
           "showlakes": true,
           "showland": true,
           "subunitcolor": "white"
          },
          "hoverlabel": {
           "align": "left"
          },
          "hovermode": "closest",
          "mapbox": {
           "style": "light"
          },
          "paper_bgcolor": "white",
          "plot_bgcolor": "#E5ECF6",
          "polar": {
           "angularaxis": {
            "gridcolor": "white",
            "linecolor": "white",
            "ticks": ""
           },
           "bgcolor": "#E5ECF6",
           "radialaxis": {
            "gridcolor": "white",
            "linecolor": "white",
            "ticks": ""
           }
          },
          "scene": {
           "xaxis": {
            "backgroundcolor": "#E5ECF6",
            "gridcolor": "white",
            "gridwidth": 2,
            "linecolor": "white",
            "showbackground": true,
            "ticks": "",
            "zerolinecolor": "white"
           },
           "yaxis": {
            "backgroundcolor": "#E5ECF6",
            "gridcolor": "white",
            "gridwidth": 2,
            "linecolor": "white",
            "showbackground": true,
            "ticks": "",
            "zerolinecolor": "white"
           },
           "zaxis": {
            "backgroundcolor": "#E5ECF6",
            "gridcolor": "white",
            "gridwidth": 2,
            "linecolor": "white",
            "showbackground": true,
            "ticks": "",
            "zerolinecolor": "white"
           }
          },
          "shapedefaults": {
           "line": {
            "color": "#2a3f5f"
           }
          },
          "ternary": {
           "aaxis": {
            "gridcolor": "white",
            "linecolor": "white",
            "ticks": ""
           },
           "baxis": {
            "gridcolor": "white",
            "linecolor": "white",
            "ticks": ""
           },
           "bgcolor": "#E5ECF6",
           "caxis": {
            "gridcolor": "white",
            "linecolor": "white",
            "ticks": ""
           }
          },
          "title": {
           "x": 0.05
          },
          "xaxis": {
           "automargin": true,
           "gridcolor": "white",
           "linecolor": "white",
           "ticks": "",
           "title": {
            "standoff": 15
           },
           "zerolinecolor": "white",
           "zerolinewidth": 2
          },
          "yaxis": {
           "automargin": true,
           "gridcolor": "white",
           "linecolor": "white",
           "ticks": "",
           "title": {
            "standoff": 15
           },
           "zerolinecolor": "white",
           "zerolinewidth": 2
          }
         }
        },
        "title": {
         "text": "Camera Motion Trajectory"
        }
       }
      }
     },
     "metadata": {},
     "output_type": "display_data"
    }
   ],
   "source": [
    "import plotly.graph_objects as go\n",
    "import numpy as np\n",
    "# Создание фигуры\n",
    "fig = go.Figure()\n",
    "\n",
    "fig.add_trace(go.Scatter3d(\n",
    "    x=trajectory[1:, 0],\n",
    "    y=trajectory[1:, 1],\n",
    "    z=trajectory[1:, 2],\n",
    "    mode='lines+markers',\n",
    "    marker=dict(size=3, color='blue'),\n",
    "    line=dict(color='blue', width=2),\n",
    "    name='Camera Trajectory'\n",
    "))\n",
    "\n",
    "# Добавление ориентации камеры в каждой точке траектории\n",
    "for i, (R, t) in enumerate(zip(pose_cam,trajectory)):\n",
    "    # Направление камеры (ось Z камеры)\n",
    "    camera_direction = R @ np.array([0, 0, 1])  # Направление оси Z камеры\n",
    "    camera_direction_end = t + camera_direction * 0.5  # Конец вектора направления\n",
    "\n",
    "    # Добавляем линию, представляющую направление камеры\n",
    "    fig.add_trace(go.Scatter3d(\n",
    "        x=[t[0], camera_direction_end[0]],\n",
    "        y=[t[1], camera_direction_end[1]],\n",
    "        z=[t[2], camera_direction_end[2]],\n",
    "        mode='lines',\n",
    "        line=dict(color='green', width=2),\n",
    "        name=f'Camera Direction {i}' if i == 0 else None,\n",
    "        showlegend=False if i > 0 else True\n",
    "    ))\n",
    "\n",
    "# Настройка макета графика\n",
    "fig.update_layout(\n",
    "    title='Camera Motion Trajectory',\n",
    "    scene = dict(\n",
    "        xaxis_title='X-axis',\n",
    "        yaxis_title='Y-axis',\n",
    "        zaxis_title='Z-axis'\n",
    "    ),\n",
    "    showlegend=True\n",
    ")\n",
    "\n",
    "# Показать график\n",
    "fig.show()"
   ]
  },
  {
   "cell_type": "code",
   "execution_count": 50,
   "metadata": {},
   "outputs": [],
   "source": [
    "fig.write_html(\"camera_trajectory_sift.html\")"
   ]
  },
  {
   "cell_type": "markdown",
   "metadata": {},
   "source": [
    "Выводы: с  помощью детектора sift проанализировали видеролик и рассчитали 3D-траекторию движения дрона и ориентацию его камеры.\n",
    "Для нахождения эссенциальной матрицы использовался метод cv2.LMEDS и cv2.RANSAC.\n",
    "На точность расчета в нашем случае влияет размер промежутка между кадрами, принимаемыми во внимание, и метод расчет эссенциальной матрицы.\n",
    "Так, если в рассмотрение принимался каждый пятый кадр, траектория выглядела неестественно изорванной.\n",
    "При рассмотрении каждого десятого кадра траектория выглядит плавной."
   ]
  },
  {
   "cell_type": "markdown",
   "metadata": {},
   "source": [
    "---"
   ]
  }
 ],
 "metadata": {
  "kernelspec": {
   "display_name": "Python 3",
   "language": "python",
   "name": "python3"
  },
  "language_info": {
   "codemirror_mode": {
    "name": "ipython",
    "version": 3
   },
   "file_extension": ".py",
   "mimetype": "text/x-python",
   "name": "python",
   "nbconvert_exporter": "python",
   "pygments_lexer": "ipython3",
   "version": "3.10.5"
  }
 },
 "nbformat": 4,
 "nbformat_minor": 2
}
