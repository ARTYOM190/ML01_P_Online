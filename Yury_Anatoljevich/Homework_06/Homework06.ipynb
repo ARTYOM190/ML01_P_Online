{
 "cells": [
  {
   "cell_type": "markdown",
   "metadata": {},
   "source": [
    "Домашнее задание по результатам Лекции №6 (классы в Python)\n",
    "***\n",
    "Есть Алфавит, характеристиками которого являются: \n",
    "1. Язык\n",
    "2. Список букв\n",
    "\n",
    "Для Алфавита можно: \n",
    "1. Напечатать все буквы алфавита\n",
    "2. Посчитать количество букв\n",
    "\n",
    "Так же есть Английский алфавит, который обладает следующими свойствами: \n",
    "1. Язык\n",
    "2. Список букв\n",
    "3. Количество букв\n",
    "\n",
    "Для Английского алфавита можно: \n",
    "1. Посчитать количество букв\n",
    "2. Определить, относится ли буква к английскому алфавиту\n",
    "3. Получить пример текста на английском языке\n",
    "\n",
    "\n",
    "Класс Alphabet\n",
    "1. Создайте класс Alphabet\n",
    "2. Создайте метод __init__(), внутри которого будут определены два динамических свойства: 1) lang - язык и 2) letters - список букв. Начальные значения свойств берутся из входных параметров метода.\n",
    "3. Создайте метод print(), который выведет в консоль буквы алфавита\n",
    "4. Создайте метод letters_num(), который вернет количество букв в алфавите\n",
    "\n",
    "Класс EngAlphabet\n",
    "1. Создайте класс EngAlphabet путем наследования от класса Alphabet\n",
    "2. Создайте метод __init__(), внутри которого будет вызываться родительский метод __init__(). В качестве параметров ему будут передаваться обозначение языка(например, 'En') и строка, состоящая из всех букв алфавита(можно воспользоваться свойством ascii_uppercase из модуля string).\n",
    "3. Добавьте приватное статическое свойство __letters_num, которое будет хранить количество букв в алфавите.\n",
    "4. Создайте метод is_en_letter(), который будет принимать букву в качестве параметра и определять, относится ли эта буква к английскому алфавиту.\n",
    "5. Переопределите метод letters_num() - пусть в текущем классе классе он будет возвращать значение свойства __letters_num.\n",
    "6. Создайте статический метод example(), который будет возвращать пример текста на английском языке.\n",
    "\n",
    "***\n",
    "В самом задании достаточно подробно изложены необходимые действия. \n",
    "Можно добавить следующий шаг: после создания описанных классов создать объект класса EngAlphabet и немного с ним поэкспериментировать, чтобы протестировать его работу.\n"
   ]
  },
  {
   "cell_type": "markdown",
   "metadata": {},
   "source": [
    "Создание класса Alphabet"
   ]
  },
  {
   "cell_type": "code",
   "execution_count": 53,
   "metadata": {},
   "outputs": [],
   "source": [
    "import string\n",
    "\n",
    "class Alphabet():\n",
    "    def __init__(self, **kwargs):\n",
    "        \"\"\" Class Alphabet constructor \"\"\"\n",
    "        self.lang = kwargs['language'] # initialize language\n",
    "        self.letters = kwargs['letters'] # initialize letters of the alphabet\n",
    "    \n",
    "    def print(self):\n",
    "        print(self.letters)\n",
    "\n",
    "    def letters_num(self):\n",
    "        return len(self.letters)\n"
   ]
  },
  {
   "cell_type": "markdown",
   "metadata": {},
   "source": [
    "Создание класса EngAlphabet"
   ]
  },
  {
   "cell_type": "code",
   "execution_count": 54,
   "metadata": {},
   "outputs": [],
   "source": [
    "class EngAlphabet(Alphabet):\n",
    "    def __init__(self):\n",
    "        \"\"\" Class EngAlphabet constructor \"\"\"\n",
    "        Alphabet.__init__(self, **{'language' : 'En', 'letters' : string.ascii_uppercase})        \n",
    "        \n",
    "    __letters_num = len(string.ascii_uppercase) # private static property\n",
    "\n",
    "    def is_en_letter(self, ch):\n",
    "        \"\"\" Checks if a symbol ch is in English alphabet\"\"\"\n",
    "        if ch.lower() in self.letters.lower():\n",
    "            return True \n",
    "        else:\n",
    "            return False\n",
    "\n",
    "    def letters_num(self):\n",
    "        return(self.__letters_num) \n",
    "    \n",
    "    @staticmethod\n",
    "    def example():\n",
    "        \"\"\" Returns example of English text\"\"\"\n",
    "        return \"The quick brown fox jumps over the lazy dog\""
   ]
  },
  {
   "cell_type": "markdown",
   "metadata": {},
   "source": [
    "Some experimentation with an object of class EngAlphabet"
   ]
  },
  {
   "cell_type": "code",
   "execution_count": 55,
   "metadata": {},
   "outputs": [],
   "source": [
    "alpha = EngAlphabet() # creating an object of class Alphabet\n"
   ]
  },
  {
   "cell_type": "code",
   "execution_count": 56,
   "metadata": {},
   "outputs": [
    {
     "name": "stdout",
     "output_type": "stream",
     "text": [
      "26\n"
     ]
    },
    {
     "data": {
      "text/plain": [
       "'The quick brown fox jumps over the lazy dog'"
      ]
     },
     "execution_count": 56,
     "metadata": {},
     "output_type": "execute_result"
    }
   ],
   "source": [
    "print(alpha.letters_num())    # number of letters in English alphabet\n",
    "alpha.example()               # example of pre-defined English text"
   ]
  },
  {
   "cell_type": "markdown",
   "metadata": {},
   "source": [
    "Checking if a letter belongs to English alphabet"
   ]
  },
  {
   "cell_type": "code",
   "execution_count": 57,
   "metadata": {},
   "outputs": [
    {
     "name": "stdout",
     "output_type": "stream",
     "text": [
      "If the letter D belongs to English alphabet:\n",
      "True\n",
      "If the letter ä belongs to English alphabet:\n",
      "False\n",
      "If the letter Ю belongs to English alphabet:\n",
      "False\n"
     ]
    }
   ],
   "source": [
    "ch = 'D'\n",
    "print(f'If the letter {ch} belongs to English alphabet:\\n{alpha.is_en_letter(ch)}')\n",
    "ch = 'ä'\n",
    "print(f'If the letter {ch} belongs to English alphabet:\\n{alpha.is_en_letter(ch)}')\n",
    "ch = 'Ю'\n",
    "print(f'If the letter {ch} belongs to English alphabet:\\n{alpha.is_en_letter(ch)}')\n"
   ]
  },
  {
   "cell_type": "markdown",
   "metadata": {},
   "source": [
    "Выводы:\n",
    "1. В ходе выполнения домашнего задания изучена работа с классами и наследованием в языке Python\n",
    "2. Создан объект класса EngAlphabet, унаследованного от класса Alphabet,  и продемонстрирована работа методов класса (вывод числа букв алфавита и образца текста)\n",
    "3. На нескольких примерах продемонстрировано, что метод is_en_letter верно определяет принадлежность символа к английскому алфавиту\n"
   ]
  }
 ],
 "metadata": {
  "kernelspec": {
   "display_name": "base",
   "language": "python",
   "name": "python3"
  },
  "language_info": {
   "codemirror_mode": {
    "name": "ipython",
    "version": 3
   },
   "file_extension": ".py",
   "mimetype": "text/x-python",
   "name": "python",
   "nbconvert_exporter": "python",
   "pygments_lexer": "ipython3",
   "version": "3.12.7"
  }
 },
 "nbformat": 4,
 "nbformat_minor": 2
}
