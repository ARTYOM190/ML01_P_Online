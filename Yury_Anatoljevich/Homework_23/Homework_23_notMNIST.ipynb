{
  "cells": [
    {
      "cell_type": "markdown",
      "metadata": {},
      "source": [
        "Работа №25 <br>\n",
        "Выполнить классификацию изображений на наборе notMNIST_small. <br> \n",
        "Используйте BN и коллбеки. <br>\n",
        "Остальное по желанию\n"
      ]
    },
    {
      "cell_type": "markdown",
      "metadata": {},
      "source": [
        "Loading necessary modules"
      ]
    },
    {
      "cell_type": "code",
      "execution_count": null,
      "metadata": {
        "id": "rYtE2-RhDzre"
      },
      "outputs": [],
      "source": [
        "%reset -f \n",
        "\n",
        "import tensorflow as tf\n",
        "import keras\n",
        "from keras import models\n",
        "from keras import optimizers\n",
        "from keras import layers\n",
        "from keras.metrics import AUC\n",
        "from matplotlib import pyplot as plt\n",
        "import numpy as np\n",
        "import tarfile\n",
        "import os, shutil\n",
        "import cv2\n",
        "from tensorflow.keras.utils import to_categorical\n",
        "from sklearn.preprocessing import LabelEncoder"
      ]
    },
    {
      "cell_type": "markdown",
      "metadata": {},
      "source": [
        "Specifying data directory"
      ]
    },
    {
      "cell_type": "code",
      "execution_count": null,
      "metadata": {
        "id": "cJSRH_GaMMZ7"
      },
      "outputs": [],
      "source": [
        "base_dir = './notMNIST_small'   # folder with notMNIST images"
      ]
    },
    {
      "cell_type": "markdown",
      "metadata": {},
      "source": [
        "Looking at the number of images available"
      ]
    },
    {
      "cell_type": "code",
      "execution_count": null,
      "metadata": {
        "colab": {
          "base_uri": "https://localhost:8080/"
        },
        "id": "0O-qq307uLdO",
        "outputId": "c1ac9f6c-1809-4933-a029-6d36ea51b138"
      },
      "outputs": [],
      "source": [
        "folders = 'ABCDEFGHIJ'    # letters to be recognized\n",
        "for folder in folders:\n",
        "  print(f\"Total {folder} images: {len(os.listdir(f'{base_dir}/{folder}'))}\")    # how many images for each letter"
      ]
    },
    {
      "cell_type": "markdown",
      "metadata": {},
      "source": [
        "Loading images and assigning label values (letters)"
      ]
    },
    {
      "cell_type": "code",
      "execution_count": 242,
      "metadata": {
        "colab": {
          "base_uri": "https://localhost:8080/"
        },
        "id": "3F2ipEBJwTPr",
        "outputId": "81e0c583-e880-45d9-e6e7-a7b12b018527"
      },
      "outputs": [
        {
          "name": "stdout",
          "output_type": "stream",
          "text": [
            "./notMNIST_small/F/Q3Jvc3NvdmVyIEJvbGRPYmxpcXVlLnR0Zg==.png\n"
          ]
        }
      ],
      "source": [
        "imgs = []\n",
        "labels = []\n",
        "for folder in folders:    # each folder with letters\n",
        "  for img in os.listdir(base_dir + f\"/{folder}\"):   # each letter\n",
        "    if img.endswith('.png'):    # png only\n",
        "      try:    # trying to read \n",
        "        if not np.all(cv2.imread(base_dir + f\"/{folder}/{img}\")[:, :, 0] == cv2.imread(base_dir + f\"/{folder}/{img}\")[:, :, 0][0]):\n",
        "            imgs.append(cv2.imread(base_dir + f\"/{folder}/{img}\")[:, :, 0])\n",
        "            labels.append(folder)   # adding label for the class\n",
        "      except:   # if an error is raised\n",
        "        print(base_dir + f\"/{folder}/{img}\")     # name of picture not succeeded to be read\n",
        "        continue\n",
        "imgs = np.array(imgs).astype('float32')/255.    # scaling images to [0;1]"
      ]
    },
    {
      "cell_type": "markdown",
      "metadata": {},
      "source": [
        "Loaded image example:"
      ]
    },
    {
      "cell_type": "code",
      "execution_count": 243,
      "metadata": {
        "colab": {
          "base_uri": "https://localhost:8080/",
          "height": 316
        },
        "id": "2AGsFpBK4MfV",
        "outputId": "8d273120-1ec8-47e9-c76b-9cf3b46639c1"
      },
      "outputs": [
        {
          "data": {
            "text/plain": [
              "(-0.5, 27.5, 27.5, -0.5)"
            ]
          },
          "execution_count": 243,
          "metadata": {},
          "output_type": "execute_result"
        },
        {
          "data": {
            "image/png": "[encoded data removed]",
            "text/plain": [
              "<Figure size 100x100 with 1 Axes>"
            ]
          },
          "metadata": {},
          "output_type": "display_data"
        }
      ],
      "source": [
        "# image example with its label\n",
        "plt.figure(figsize=(1,1))\n",
        "plt.imshow(imgs[0], cmap = 'gray')\n",
        "plt.title(labels[0], color = 'red')\n",
        "plt.axis(\"off\")"
      ]
    },
    {
      "cell_type": "markdown",
      "metadata": {},
      "source": [
        "Shuffling images and their labels, accordingly"
      ]
    },
    {
      "cell_type": "code",
      "execution_count": 244,
      "metadata": {
        "id": "gEJqazHg4Q4c"
      },
      "outputs": [],
      "source": [
        "indices = np.arange(len(labels))    # data shuffle\n",
        "np.random.shuffle(indices) # shuffled indices\n",
        "imgs = imgs[indices] # rearranged images\n",
        "labels = [labels[i] for i in indices] # rearranged labels"
      ]
    },
    {
      "cell_type": "markdown",
      "metadata": {},
      "source": [
        "Looking what image is now on the 1st place"
      ]
    },
    {
      "cell_type": "code",
      "execution_count": 245,
      "metadata": {
        "colab": {
          "base_uri": "https://localhost:8080/",
          "height": 282
        },
        "id": "Iz8decGm91zI",
        "outputId": "812203fd-bb29-4832-c98c-287cb52bdef5"
      },
      "outputs": [
        {
          "data": {
            "text/plain": [
              "(-0.5, 27.5, 27.5, -0.5)"
            ]
          },
          "execution_count": 245,
          "metadata": {},
          "output_type": "execute_result"
        },
        {
          "data": {
            "image/png": "[encoded data removed]",
            "text/plain": [
              "<Figure size 100x100 with 1 Axes>"
            ]
          },
          "metadata": {},
          "output_type": "display_data"
        }
      ],
      "source": [
        "plt.figure(figsize=(1,1))\n",
        "plt.imshow(imgs[0], cmap = 'gray')\n",
        "plt.title(labels[0], color = 'red')\n",
        "plt.axis(\"off\")"
      ]
    },
    {
      "cell_type": "markdown",
      "metadata": {},
      "source": [
        "Convert labels to categorical values by the one-hot encoding method (with preliminary transformation to numbers by LabelEncoder)"
      ]
    },
    {
      "cell_type": "code",
      "execution_count": 246,
      "metadata": {},
      "outputs": [
        {
          "data": {
            "text/plain": [
              "(18442, 10)"
            ]
          },
          "execution_count": 246,
          "metadata": {},
          "output_type": "execute_result"
        }
      ],
      "source": [
        "# Since the keras' method to_categorical can work with numerical data only, we'll first transform letters to numericals by use of LabelEncoder form sklearn:\n",
        "encoder = LabelEncoder()\n",
        "labels_num = encoder.fit_transform(labels)\n",
        "new_labels = to_categorical(labels_num, num_classes=len(folders))\n",
        "new_labels.shape"
      ]
    },
    {
      "cell_type": "code",
      "execution_count": 247,
      "metadata": {
        "colab": {
          "base_uri": "https://localhost:8080/"
        },
        "id": "q93xwEz7-iQu",
        "outputId": "3a627a14-1f0c-4eff-a19c-f13e0671c3cb"
      },
      "outputs": [
        {
          "name": "stdout",
          "output_type": "stream",
          "text": [
            "Images shape:  (18442, 28, 28)\n",
            "Labels shape:  (18442, 10)\n"
          ]
        }
      ],
      "source": [
        "print(\"Images shape: \", imgs.shape)   # image dataset array  shape\n",
        "print(\"Labels shape: \", new_labels.shape) # categorical labels array shape"
      ]
    },
    {
      "cell_type": "markdown",
      "metadata": {},
      "source": [
        "Preparing train and test sub-samples:"
      ]
    },
    {
      "cell_type": "code",
      "execution_count": 248,
      "metadata": {
        "colab": {
          "base_uri": "https://localhost:8080/"
        },
        "id": "qQu9_VlMBgDb",
        "outputId": "ea40c0bf-bc07-432b-cb33-9401264aa9be"
      },
      "outputs": [
        {
          "name": "stdout",
          "output_type": "stream",
          "text": [
            "Train images shape:  (17942, 28, 28)\n",
            "Test images shape:  (500, 28, 28)\n",
            "Train labels shape:  (17942, 10)\n",
            "Test labels shape:  (500, 10)\n"
          ]
        }
      ],
      "source": [
        "# breaking down the dataset into train ans set sub-samples\n",
        "test_imgs = imgs[:500]\n",
        "test_labels = np.array(new_labels[:500])\n",
        "train_imgs = imgs[500:]\n",
        "train_labels = np.array(new_labels[500:])\n",
        "print(\"Train images shape: \", train_imgs.shape)\n",
        "print(\"Test images shape: \", test_imgs.shape)\n",
        "print(\"Train labels shape: \", train_labels.shape)\n",
        "print(\"Test labels shape: \", test_labels.shape)"
      ]
    },
    {
      "cell_type": "markdown",
      "metadata": {},
      "source": [
        "Reshape the data to (num_samples, 28, 28, 1) for the 1st convolutional layer"
      ]
    },
    {
      "cell_type": "code",
      "execution_count": 249,
      "metadata": {},
      "outputs": [
        {
          "name": "stdout",
          "output_type": "stream",
          "text": [
            "Train images shape:  (17942, 28, 28, 1)\n",
            "Test images shape:  (500, 28, 28, 1)\n",
            "Train labels shape:  (17942, 10)\n",
            "Test labels shape:  (500, 10)\n"
          ]
        }
      ],
      "source": [
        "X_train = train_imgs.reshape((train_imgs.shape[0], 28, 28, 1))\n",
        "X_test = test_imgs.reshape((test_imgs.shape[0], 28, 28, 1))\n",
        "y_train = train_labels\n",
        "y_test = test_labels\n",
        "print(\"Train images shape: \", X_train.shape)\n",
        "print(\"Test images shape: \", X_test.shape)\n",
        "print(\"Train labels shape: \", y_train.shape)\n",
        "print(\"Test labels shape: \", y_test.shape)"
      ]
    },
    {
      "cell_type": "markdown",
      "metadata": {},
      "source": [
        "Building a convolutional neural network model with augmentation, tf is used"
      ]
    },
    {
      "cell_type": "code",
      "execution_count": 250,
      "metadata": {},
      "outputs": [
        {
          "name": "stderr",
          "output_type": "stream",
          "text": [
            "c:\\Users\\varaksa_yua\\AppData\\Local\\Programs\\Python\\Python310\\lib\\site-packages\\keras\\src\\layers\\convolutional\\base_conv.py:107: UserWarning: Do not pass an `input_shape`/`input_dim` argument to a layer. When using Sequential models, prefer using an `Input(shape)` object as the first layer in the model instead.\n",
            "  super().__init__(activity_regularizer=activity_regularizer, **kwargs)\n"
          ]
        }
      ],
      "source": [
        "# 3. Create the model\n",
        "model = models.Sequential()\n",
        "\n",
        "# data augmentation\n",
        "model.add(layers.RandomZoom(0.3))\n",
        "model.add(layers.RandomRotation(0.1))\n",
        "model.add(layers.RandomTranslation(height_factor=0.2, width_factor=0.2))\n",
        "model.add(layers.RandomContrast(0.2))\n",
        "\n",
        "# model layers:\n",
        "model.add(layers.Conv2D(32, (3, 3), activation='relu', input_shape=(28, 28, 1)))\n",
        "model.add(layers.BatchNormalization())\n",
        "model.add(layers.MaxPooling2D((2, 2)))\n",
        "model.add(layers.Conv2D(64, (3, 3), activation='relu'))\n",
        "model.add(layers.BatchNormalization())\n",
        "model.add(layers.MaxPooling2D((2, 2)))\n",
        "model.add(layers.Flatten())\n",
        "model.add(layers.Dense(64, activation='relu'))\n",
        "model.add(layers.BatchNormalization())\n",
        "model.add(layers.Dense(len(folders), activation='softmax'))"
      ]
    },
    {
      "cell_type": "markdown",
      "metadata": {},
      "source": [
        "Adding the callbacks"
      ]
    },
    {
      "cell_type": "code",
      "execution_count": 251,
      "metadata": {},
      "outputs": [],
      "source": [
        "# 1. **Learning Rate Scheduling**:\n",
        "# learning rate scheduling to adjust the learning rate during training\n",
        "from keras.callbacks import ReduceLROnPlateau\n",
        "reduce_lr = ReduceLROnPlateau(monitor='val_loss', factor=0.2, patience=5, min_lr=0.0001)\n",
        "\n",
        "# 2. **Early Stopping**:\n",
        "# early stopping to stop training when the validation loss stops improving\n",
        "from keras.callbacks import EarlyStopping\n",
        "early_stopping = EarlyStopping(monitor='val_loss', patience=10, restore_best_weights=True)\n",
        "\n",
        "# 3. **Model Checkpoint**:\n",
        "# - Save the best model during training.\n",
        "from keras.callbacks import ModelCheckpoint\n",
        "checkpoint = ModelCheckpoint('best_model.keras', monitor='val_loss', save_best_only=True)"
      ]
    },
    {
      "cell_type": "markdown",
      "metadata": {},
      "source": [
        "Compiling the model "
      ]
    },
    {
      "cell_type": "code",
      "execution_count": 252,
      "metadata": {},
      "outputs": [],
      "source": [
        "model.compile(optimizer='adam', \n",
        "              loss='categorical_crossentropy', \n",
        "              metrics=['accuracy'])"
      ]
    },
    {
      "cell_type": "markdown",
      "metadata": {},
      "source": [
        "Training the model with the added callbacks."
      ]
    },
    {
      "cell_type": "code",
      "execution_count": 253,
      "metadata": {},
      "outputs": [
        {
          "name": "stdout",
          "output_type": "stream",
          "text": [
            "Epoch 1/100\n",
            "\u001b[1m449/449\u001b[0m \u001b[32m━━━━━━━━━━━━━━━━━━━━\u001b[0m\u001b[37m\u001b[0m \u001b[1m7s\u001b[0m 10ms/step - accuracy: 0.4897 - loss: 1.5421 - val_accuracy: 0.7657 - val_loss: 0.8890 - learning_rate: 0.0010\n",
            "Epoch 2/100\n",
            "\u001b[1m449/449\u001b[0m \u001b[32m━━━━━━━━━━━━━━━━━━━━\u001b[0m\u001b[37m\u001b[0m \u001b[1m5s\u001b[0m 10ms/step - accuracy: 0.6949 - loss: 0.9341 - val_accuracy: 0.8663 - val_loss: 0.4858 - learning_rate: 0.0010\n",
            "Epoch 3/100\n",
            "\u001b[1m449/449\u001b[0m \u001b[32m━━━━━━━━━━━━━━━━━━━━\u001b[0m\u001b[37m\u001b[0m \u001b[1m5s\u001b[0m 10ms/step - accuracy: 0.7340 - loss: 0.8196 - val_accuracy: 0.8660 - val_loss: 0.4711 - learning_rate: 0.0010\n",
            "Epoch 4/100\n",
            "\u001b[1m449/449\u001b[0m \u001b[32m━━━━━━━━━━━━━━━━━━━━\u001b[0m\u001b[37m\u001b[0m \u001b[1m4s\u001b[0m 9ms/step - accuracy: 0.7597 - loss: 0.7436 - val_accuracy: 0.8568 - val_loss: 0.4696 - learning_rate: 0.0010\n",
            "Epoch 5/100\n",
            "\u001b[1m449/449\u001b[0m \u001b[32m━━━━━━━━━━━━━━━━━━━━\u001b[0m\u001b[37m\u001b[0m \u001b[1m4s\u001b[0m 9ms/step - accuracy: 0.7778 - loss: 0.6868 - val_accuracy: 0.8657 - val_loss: 0.4536 - learning_rate: 0.0010\n",
            "Epoch 6/100\n",
            "\u001b[1m449/449\u001b[0m \u001b[32m━━━━━━━━━━━━━━━━━━━━\u001b[0m\u001b[37m\u001b[0m \u001b[1m5s\u001b[0m 10ms/step - accuracy: 0.7784 - loss: 0.6680 - val_accuracy: 0.8573 - val_loss: 0.4747 - learning_rate: 0.0010\n",
            "Epoch 7/100\n",
            "\u001b[1m449/449\u001b[0m \u001b[32m━━━━━━━━━━━━━━━━━━━━\u001b[0m\u001b[37m\u001b[0m \u001b[1m5s\u001b[0m 10ms/step - accuracy: 0.7891 - loss: 0.6588 - val_accuracy: 0.8702 - val_loss: 0.4745 - learning_rate: 0.0010\n",
            "Epoch 8/100\n",
            "\u001b[1m449/449\u001b[0m \u001b[32m━━━━━━━━━━━━━━━━━━━━\u001b[0m\u001b[37m\u001b[0m \u001b[1m4s\u001b[0m 10ms/step - accuracy: 0.8006 - loss: 0.6121 - val_accuracy: 0.8883 - val_loss: 0.3976 - learning_rate: 0.0010\n",
            "Epoch 9/100\n",
            "\u001b[1m449/449\u001b[0m \u001b[32m━━━━━━━━━━━━━━━━━━━━\u001b[0m\u001b[37m\u001b[0m \u001b[1m4s\u001b[0m 10ms/step - accuracy: 0.8085 - loss: 0.6115 - val_accuracy: 0.8816 - val_loss: 0.4010 - learning_rate: 0.0010\n",
            "Epoch 10/100\n",
            "\u001b[1m449/449\u001b[0m \u001b[32m━━━━━━━━━━━━━━━━━━━━\u001b[0m\u001b[37m\u001b[0m \u001b[1m4s\u001b[0m 9ms/step - accuracy: 0.8099 - loss: 0.5846 - val_accuracy: 0.8944 - val_loss: 0.3917 - learning_rate: 0.0010\n",
            "Epoch 11/100\n",
            "\u001b[1m449/449\u001b[0m \u001b[32m━━━━━━━━━━━━━━━━━━━━\u001b[0m\u001b[37m\u001b[0m \u001b[1m4s\u001b[0m 9ms/step - accuracy: 0.8105 - loss: 0.5925 - val_accuracy: 0.8958 - val_loss: 0.3968 - learning_rate: 0.0010\n",
            "Epoch 12/100\n",
            "\u001b[1m449/449\u001b[0m \u001b[32m━━━━━━━━━━━━━━━━━━━━\u001b[0m\u001b[37m\u001b[0m \u001b[1m4s\u001b[0m 9ms/step - accuracy: 0.8079 - loss: 0.5940 - val_accuracy: 0.9044 - val_loss: 0.3563 - learning_rate: 0.0010\n",
            "Epoch 13/100\n",
            "\u001b[1m449/449\u001b[0m \u001b[32m━━━━━━━━━━━━━━━━━━━━\u001b[0m\u001b[37m\u001b[0m \u001b[1m4s\u001b[0m 9ms/step - accuracy: 0.8168 - loss: 0.5679 - val_accuracy: 0.8994 - val_loss: 0.3852 - learning_rate: 0.0010\n",
            "Epoch 14/100\n",
            "\u001b[1m449/449\u001b[0m \u001b[32m━━━━━━━━━━━━━━━━━━━━\u001b[0m\u001b[37m\u001b[0m \u001b[1m4s\u001b[0m 9ms/step - accuracy: 0.8193 - loss: 0.5688 - val_accuracy: 0.8911 - val_loss: 0.3968 - learning_rate: 0.0010\n",
            "Epoch 15/100\n",
            "\u001b[1m449/449\u001b[0m \u001b[32m━━━━━━━━━━━━━━━━━━━━\u001b[0m\u001b[37m\u001b[0m \u001b[1m4s\u001b[0m 9ms/step - accuracy: 0.8203 - loss: 0.5493 - val_accuracy: 0.9036 - val_loss: 0.3633 - learning_rate: 0.0010\n",
            "Epoch 16/100\n",
            "\u001b[1m449/449\u001b[0m \u001b[32m━━━━━━━━━━━━━━━━━━━━\u001b[0m\u001b[37m\u001b[0m \u001b[1m4s\u001b[0m 9ms/step - accuracy: 0.8262 - loss: 0.5470 - val_accuracy: 0.8980 - val_loss: 0.3976 - learning_rate: 0.0010\n",
            "Epoch 17/100\n",
            "\u001b[1m449/449\u001b[0m \u001b[32m━━━━━━━━━━━━━━━━━━━━\u001b[0m\u001b[37m\u001b[0m \u001b[1m4s\u001b[0m 9ms/step - accuracy: 0.8297 - loss: 0.5313 - val_accuracy: 0.8888 - val_loss: 0.4021 - learning_rate: 0.0010\n",
            "Epoch 18/100\n",
            "\u001b[1m449/449\u001b[0m \u001b[32m━━━━━━━━━━━━━━━━━━━━\u001b[0m\u001b[37m\u001b[0m \u001b[1m4s\u001b[0m 9ms/step - accuracy: 0.8320 - loss: 0.5176 - val_accuracy: 0.9025 - val_loss: 0.3452 - learning_rate: 2.0000e-04\n",
            "Epoch 19/100\n",
            "\u001b[1m449/449\u001b[0m \u001b[32m━━━━━━━━━━━━━━━━━━━━\u001b[0m\u001b[37m\u001b[0m \u001b[1m4s\u001b[0m 9ms/step - accuracy: 0.8356 - loss: 0.5112 - val_accuracy: 0.9047 - val_loss: 0.3393 - learning_rate: 2.0000e-04\n",
            "Epoch 20/100\n",
            "\u001b[1m449/449\u001b[0m \u001b[32m━━━━━━━━━━━━━━━━━━━━\u001b[0m\u001b[37m\u001b[0m \u001b[1m4s\u001b[0m 9ms/step - accuracy: 0.8381 - loss: 0.4982 - val_accuracy: 0.9058 - val_loss: 0.3468 - learning_rate: 2.0000e-04\n",
            "Epoch 21/100\n",
            "\u001b[1m449/449\u001b[0m \u001b[32m━━━━━━━━━━━━━━━━━━━━\u001b[0m\u001b[37m\u001b[0m \u001b[1m4s\u001b[0m 9ms/step - accuracy: 0.8447 - loss: 0.4840 - val_accuracy: 0.9055 - val_loss: 0.3407 - learning_rate: 2.0000e-04\n",
            "Epoch 22/100\n",
            "\u001b[1m449/449\u001b[0m \u001b[32m━━━━━━━━━━━━━━━━━━━━\u001b[0m\u001b[37m\u001b[0m \u001b[1m4s\u001b[0m 9ms/step - accuracy: 0.8462 - loss: 0.4752 - val_accuracy: 0.9050 - val_loss: 0.3452 - learning_rate: 2.0000e-04\n",
            "Epoch 23/100\n",
            "\u001b[1m449/449\u001b[0m \u001b[32m━━━━━━━━━━━━━━━━━━━━\u001b[0m\u001b[37m\u001b[0m \u001b[1m4s\u001b[0m 9ms/step - accuracy: 0.8456 - loss: 0.4669 - val_accuracy: 0.9044 - val_loss: 0.3402 - learning_rate: 2.0000e-04\n",
            "Epoch 24/100\n",
            "\u001b[1m449/449\u001b[0m \u001b[32m━━━━━━━━━━━━━━━━━━━━\u001b[0m\u001b[37m\u001b[0m \u001b[1m4s\u001b[0m 9ms/step - accuracy: 0.8431 - loss: 0.4696 - val_accuracy: 0.9044 - val_loss: 0.3449 - learning_rate: 2.0000e-04\n",
            "Epoch 25/100\n",
            "\u001b[1m449/449\u001b[0m \u001b[32m━━━━━━━━━━━━━━━━━━━━\u001b[0m\u001b[37m\u001b[0m \u001b[1m4s\u001b[0m 9ms/step - accuracy: 0.8516 - loss: 0.4571 - val_accuracy: 0.9072 - val_loss: 0.3414 - learning_rate: 1.0000e-04\n",
            "Epoch 26/100\n",
            "\u001b[1m449/449\u001b[0m \u001b[32m━━━━━━━━━━━━━━━━━━━━\u001b[0m\u001b[37m\u001b[0m \u001b[1m4s\u001b[0m 9ms/step - accuracy: 0.8446 - loss: 0.4858 - val_accuracy: 0.9094 - val_loss: 0.3362 - learning_rate: 1.0000e-04\n",
            "Epoch 27/100\n",
            "\u001b[1m449/449\u001b[0m \u001b[32m━━━━━━━━━━━━━━━━━━━━\u001b[0m\u001b[37m\u001b[0m \u001b[1m4s\u001b[0m 9ms/step - accuracy: 0.8485 - loss: 0.4639 - val_accuracy: 0.9083 - val_loss: 0.3344 - learning_rate: 1.0000e-04\n",
            "Epoch 28/100\n",
            "\u001b[1m449/449\u001b[0m \u001b[32m━━━━━━━━━━━━━━━━━━━━\u001b[0m\u001b[37m\u001b[0m \u001b[1m4s\u001b[0m 9ms/step - accuracy: 0.8524 - loss: 0.4585 - val_accuracy: 0.9069 - val_loss: 0.3373 - learning_rate: 1.0000e-04\n",
            "Epoch 29/100\n",
            "\u001b[1m449/449\u001b[0m \u001b[32m━━━━━━━━━━━━━━━━━━━━\u001b[0m\u001b[37m\u001b[0m \u001b[1m4s\u001b[0m 9ms/step - accuracy: 0.8468 - loss: 0.4726 - val_accuracy: 0.9092 - val_loss: 0.3382 - learning_rate: 1.0000e-04\n",
            "Epoch 30/100\n",
            "\u001b[1m449/449\u001b[0m \u001b[32m━━━━━━━━━━━━━━━━━━━━\u001b[0m\u001b[37m\u001b[0m \u001b[1m4s\u001b[0m 9ms/step - accuracy: 0.8460 - loss: 0.4689 - val_accuracy: 0.9081 - val_loss: 0.3336 - learning_rate: 1.0000e-04\n",
            "Epoch 31/100\n",
            "\u001b[1m449/449\u001b[0m \u001b[32m━━━━━━━━━━━━━━━━━━━━\u001b[0m\u001b[37m\u001b[0m \u001b[1m4s\u001b[0m 9ms/step - accuracy: 0.8477 - loss: 0.4489 - val_accuracy: 0.9089 - val_loss: 0.3325 - learning_rate: 1.0000e-04\n",
            "Epoch 32/100\n",
            "\u001b[1m449/449\u001b[0m \u001b[32m━━━━━━━━━━━━━━━━━━━━\u001b[0m\u001b[37m\u001b[0m \u001b[1m4s\u001b[0m 9ms/step - accuracy: 0.8516 - loss: 0.4565 - val_accuracy: 0.9092 - val_loss: 0.3323 - learning_rate: 1.0000e-04\n",
            "Epoch 33/100\n",
            "\u001b[1m449/449\u001b[0m \u001b[32m━━━━━━━━━━━━━━━━━━━━\u001b[0m\u001b[37m\u001b[0m \u001b[1m4s\u001b[0m 9ms/step - accuracy: 0.8478 - loss: 0.4749 - val_accuracy: 0.9108 - val_loss: 0.3310 - learning_rate: 1.0000e-04\n",
            "Epoch 34/100\n",
            "\u001b[1m449/449\u001b[0m \u001b[32m━━━━━━━━━━━━━━━━━━━━\u001b[0m\u001b[37m\u001b[0m \u001b[1m4s\u001b[0m 9ms/step - accuracy: 0.8464 - loss: 0.4685 - val_accuracy: 0.9075 - val_loss: 0.3325 - learning_rate: 1.0000e-04\n",
            "Epoch 35/100\n",
            "\u001b[1m449/449\u001b[0m \u001b[32m━━━━━━━━━━━━━━━━━━━━\u001b[0m\u001b[37m\u001b[0m \u001b[1m4s\u001b[0m 9ms/step - accuracy: 0.8502 - loss: 0.4560 - val_accuracy: 0.9078 - val_loss: 0.3277 - learning_rate: 1.0000e-04\n",
            "Epoch 36/100\n",
            "\u001b[1m449/449\u001b[0m \u001b[32m━━━━━━━━━━━━━━━━━━━━\u001b[0m\u001b[37m\u001b[0m \u001b[1m4s\u001b[0m 9ms/step - accuracy: 0.8547 - loss: 0.4524 - val_accuracy: 0.9092 - val_loss: 0.3251 - learning_rate: 1.0000e-04\n",
            "Epoch 37/100\n",
            "\u001b[1m449/449\u001b[0m \u001b[32m━━━━━━━━━━━━━━━━━━━━\u001b[0m\u001b[37m\u001b[0m \u001b[1m4s\u001b[0m 9ms/step - accuracy: 0.8543 - loss: 0.4471 - val_accuracy: 0.9078 - val_loss: 0.3313 - learning_rate: 1.0000e-04\n",
            "Epoch 38/100\n",
            "\u001b[1m449/449\u001b[0m \u001b[32m━━━━━━━━━━━━━━━━━━━━\u001b[0m\u001b[37m\u001b[0m \u001b[1m4s\u001b[0m 9ms/step - accuracy: 0.8595 - loss: 0.4421 - val_accuracy: 0.9078 - val_loss: 0.3355 - learning_rate: 1.0000e-04\n",
            "Epoch 39/100\n",
            "\u001b[1m449/449\u001b[0m \u001b[32m━━━━━━━━━━━━━━━━━━━━\u001b[0m\u001b[37m\u001b[0m \u001b[1m4s\u001b[0m 9ms/step - accuracy: 0.8453 - loss: 0.4689 - val_accuracy: 0.9086 - val_loss: 0.3286 - learning_rate: 1.0000e-04\n",
            "Epoch 40/100\n",
            "\u001b[1m449/449\u001b[0m \u001b[32m━━━━━━━━━━━━━━━━━━━━\u001b[0m\u001b[37m\u001b[0m \u001b[1m4s\u001b[0m 9ms/step - accuracy: 0.8467 - loss: 0.4594 - val_accuracy: 0.9125 - val_loss: 0.3294 - learning_rate: 1.0000e-04\n",
            "Epoch 41/100\n",
            "\u001b[1m449/449\u001b[0m \u001b[32m━━━━━━━━━━━━━━━━━━━━\u001b[0m\u001b[37m\u001b[0m \u001b[1m4s\u001b[0m 9ms/step - accuracy: 0.8497 - loss: 0.4611 - val_accuracy: 0.9120 - val_loss: 0.3249 - learning_rate: 1.0000e-04\n",
            "Epoch 42/100\n",
            "\u001b[1m449/449\u001b[0m \u001b[32m━━━━━━━━━━━━━━━━━━━━\u001b[0m\u001b[37m\u001b[0m \u001b[1m4s\u001b[0m 9ms/step - accuracy: 0.8552 - loss: 0.4611 - val_accuracy: 0.9086 - val_loss: 0.3312 - learning_rate: 1.0000e-04\n",
            "Epoch 43/100\n",
            "\u001b[1m449/449\u001b[0m \u001b[32m━━━━━━━━━━━━━━━━━━━━\u001b[0m\u001b[37m\u001b[0m \u001b[1m4s\u001b[0m 9ms/step - accuracy: 0.8580 - loss: 0.4441 - val_accuracy: 0.9100 - val_loss: 0.3322 - learning_rate: 1.0000e-04\n",
            "Epoch 44/100\n",
            "\u001b[1m449/449\u001b[0m \u001b[32m━━━━━━━━━━━━━━━━━━━━\u001b[0m\u001b[37m\u001b[0m \u001b[1m4s\u001b[0m 9ms/step - accuracy: 0.8533 - loss: 0.4575 - val_accuracy: 0.9108 - val_loss: 0.3262 - learning_rate: 1.0000e-04\n",
            "Epoch 45/100\n",
            "\u001b[1m449/449\u001b[0m \u001b[32m━━━━━━━━━━━━━━━━━━━━\u001b[0m\u001b[37m\u001b[0m \u001b[1m4s\u001b[0m 9ms/step - accuracy: 0.8490 - loss: 0.4575 - val_accuracy: 0.9097 - val_loss: 0.3297 - learning_rate: 1.0000e-04\n",
            "Epoch 46/100\n",
            "\u001b[1m449/449\u001b[0m \u001b[32m━━━━━━━━━━━━━━━━━━━━\u001b[0m\u001b[37m\u001b[0m \u001b[1m4s\u001b[0m 9ms/step - accuracy: 0.8521 - loss: 0.4616 - val_accuracy: 0.9072 - val_loss: 0.3350 - learning_rate: 1.0000e-04\n",
            "Epoch 47/100\n",
            "\u001b[1m449/449\u001b[0m \u001b[32m━━━━━━━━━━━━━━━━━━━━\u001b[0m\u001b[37m\u001b[0m \u001b[1m4s\u001b[0m 9ms/step - accuracy: 0.8544 - loss: 0.4448 - val_accuracy: 0.9114 - val_loss: 0.3351 - learning_rate: 1.0000e-04\n",
            "Epoch 48/100\n",
            "\u001b[1m449/449\u001b[0m \u001b[32m━━━━━━━━━━━━━━━━━━━━\u001b[0m\u001b[37m\u001b[0m \u001b[1m4s\u001b[0m 9ms/step - accuracy: 0.8573 - loss: 0.4295 - val_accuracy: 0.9089 - val_loss: 0.3365 - learning_rate: 1.0000e-04\n",
            "Epoch 49/100\n",
            "\u001b[1m449/449\u001b[0m \u001b[32m━━━━━━━━━━━━━━━━━━━━\u001b[0m\u001b[37m\u001b[0m \u001b[1m4s\u001b[0m 9ms/step - accuracy: 0.8542 - loss: 0.4533 - val_accuracy: 0.9106 - val_loss: 0.3319 - learning_rate: 1.0000e-04\n",
            "Epoch 50/100\n",
            "\u001b[1m449/449\u001b[0m \u001b[32m━━━━━━━━━━━━━━━━━━━━\u001b[0m\u001b[37m\u001b[0m \u001b[1m4s\u001b[0m 9ms/step - accuracy: 0.8530 - loss: 0.4465 - val_accuracy: 0.9083 - val_loss: 0.3348 - learning_rate: 1.0000e-04\n",
            "Epoch 51/100\n",
            "\u001b[1m449/449\u001b[0m \u001b[32m━━━━━━━━━━━━━━━━━━━━\u001b[0m\u001b[37m\u001b[0m \u001b[1m4s\u001b[0m 9ms/step - accuracy: 0.8551 - loss: 0.4457 - val_accuracy: 0.9083 - val_loss: 0.3379 - learning_rate: 1.0000e-04\n"
          ]
        },
        {
          "data": {
            "text/plain": [
              "<keras.src.callbacks.history.History at 0x1ef274c7580>"
            ]
          },
          "execution_count": 253,
          "metadata": {},
          "output_type": "execute_result"
        }
      ],
      "source": [
        "epochs = 100\n",
        "batch_size = 32\n",
        "model.fit(X_train, y_train, \n",
        "                    epochs = epochs, \n",
        "                    batch_size = batch_size, \n",
        "                    validation_split = 0.2, \n",
        "                    callbacks=[reduce_lr, early_stopping, checkpoint])"
      ]
    },
    {
      "cell_type": "markdown",
      "metadata": {},
      "source": [
        "Evaluating the model"
      ]
    },
    {
      "cell_type": "code",
      "execution_count": 254,
      "metadata": {},
      "outputs": [
        {
          "name": "stdout",
          "output_type": "stream",
          "text": [
            "\u001b[1m16/16\u001b[0m \u001b[32m━━━━━━━━━━━━━━━━━━━━\u001b[0m\u001b[37m\u001b[0m \u001b[1m0s\u001b[0m 2ms/step - accuracy: 0.9134 - loss: 0.3478 \n",
            "Test loss: 28.62%\n",
            "Test accuracy: 91.60%\n"
          ]
        }
      ],
      "source": [
        "test_loss, test_accuracy = model.evaluate(X_test, y_test)\n",
        "print(f'Test loss: {test_loss * 100:.2f}%')\n",
        "print(f'Test accuracy: {test_accuracy * 100:.2f}%')"
      ]
    },
    {
      "cell_type": "markdown",
      "metadata": {},
      "source": [
        "Making some predictions based on the test dataset"
      ]
    },
    {
      "cell_type": "code",
      "execution_count": 255,
      "metadata": {},
      "outputs": [
        {
          "name": "stdout",
          "output_type": "stream",
          "text": [
            "\u001b[1m16/16\u001b[0m \u001b[32m━━━━━━━━━━━━━━━━━━━━\u001b[0m\u001b[37m\u001b[0m \u001b[1m0s\u001b[0m 6ms/step\n",
            "Predicted: H, Actual: H\n",
            "Predicted: J, Actual: J\n",
            "Predicted: B, Actual: B\n",
            "Predicted: H, Actual: H\n",
            "Predicted: I, Actual: I\n",
            "Predicted: D, Actual: I\n",
            "Predicted: F, Actual: F\n",
            "Predicted: A, Actual: A\n",
            "Predicted: D, Actual: D\n",
            "Predicted: J, Actual: J\n",
            "Predicted: C, Actual: C\n",
            "Predicted: F, Actual: F\n",
            "Predicted: B, Actual: E\n",
            "Predicted: F, Actual: F\n",
            "Predicted: I, Actual: I\n"
          ]
        }
      ],
      "source": [
        "predictions = model.predict(X_test)\n",
        "predicted_class_numbers = np.argmax(predictions, axis=1)\n",
        "predicted_classes = [folders[i] for i in predicted_class_numbers]\n",
        "\n",
        "# Display some predictions\n",
        "for i in range(15):\n",
        "    pr_class = predicted_classes[i]\n",
        "    act_class = labels[i]\n",
        "    print(f\"Predicted: {pr_class}, Actual: {act_class}\")"
      ]
    },
    {
      "cell_type": "markdown",
      "metadata": {},
      "source": [
        "Let's draw some pictures from the test sample with their corresponding values predicted by the model:"
      ]
    },
    {
      "cell_type": "code",
      "execution_count": 256,
      "metadata": {},
      "outputs": [
        {
          "data": {
            "image/png": "[encoded data removed]",
            "text/plain": [
              "<Figure size 640x480 with 16 Axes>"
            ]
          },
          "metadata": {},
          "output_type": "display_data"
        }
      ],
      "source": [
        "import matplotlib.pyplot as plt\n",
        "\n",
        "for i in range(16):\n",
        "    I = X_test[i,:,:,:]\n",
        "    # Add the image to the figure\n",
        "    plt.subplot(4, 4, i+1)  # 4 rows, 4 columns, i-th position\n",
        "    plt.imshow(I, cmap='gray')  \n",
        "    plt.axis('off')  # Hide the axis labels\n",
        "    plt.title(f'Predicted letter: {predicted_classes[i]}', fontsize = 7, color = 'red') \n",
        "plt.show()"
      ]
    },
    {
      "cell_type": "markdown",
      "metadata": {},
      "source": [
        "**Conclusions** \n",
        "\n",
        "A convolutional neural network was built in tf/keras for recognition of block letters from the dataset notMNIST <br>\n",
        "Some data augmentation as well as the batch normalization was used for improving the performance of the model. <br>\n",
        "Also the callbacks were used for improving the performance (adaptive learning rate), prevention of excessive iterations i.e. decreasing the learning time (early stopping), as well as saving the trained model (model checkpoint).\n",
        "\n",
        "The recognition results on the test sample are the following: <br>\n",
        "Batch size: 32  <br>\n",
        "Epochs: 5, test accuracy 86.6%  <br>\n",
        "Epochs: 20, test accuracy 88.20%  <br>\n",
        "Epochs: 50, test accuracy 90.0%  <br>\n",
        "Epochs: 100, test accuracy 91.60%  (in fact we had early stopping after 51st epoch) <br> "
      ]
    }
  ],
  "metadata": {
    "accelerator": "GPU",
    "colab": {
      "provenance": []
    },
    "gpuClass": "standard",
    "kernelspec": {
      "display_name": "Python 3",
      "language": "python",
      "name": "python3"
    },
    "language_info": {
      "codemirror_mode": {
        "name": "ipython",
        "version": 3
      },
      "file_extension": ".py",
      "mimetype": "text/x-python",
      "name": "python",
      "nbconvert_exporter": "python",
      "pygments_lexer": "ipython3",
      "version": "3.10.5"
    }
  },
  "nbformat": 4,
  "nbformat_minor": 0
}
