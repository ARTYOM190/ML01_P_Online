{
 "cells": [
  {
   "cell_type": "markdown",
   "metadata": {},
   "source": [
    "Задание №25\n",
    "\n",
    "Используя предобученные нейронные сети для задачи классификации изображений, решить задачу регрессии для отыскания возраста человека, изображенного на снимке.\n",
    "\n",
    "Анализ и план работы: <br>\n",
    "Загружаем данные из предварительно очищенного и обработанного датасета wiki_crop (обработка снимков производится отдельным файлом) <br>\n",
    "Загружаем предобученную сеть EfficientNet. Изменяем последний слой для выдачи решения задачи регрессии <br>\n",
    "Обучаем сеть, контролируя качество обучения с помощью валидационной выборки, функция качества RMSE определения возраста <br>\n",
    "Строим графики <br>\n",
    "Проверяем метрики на тестовом наборе <br>\n",
    "Делаем выводы"
   ]
  },
  {
   "cell_type": "markdown",
   "metadata": {},
   "source": [
    "1. Loading necessary modules:"
   ]
  },
  {
   "cell_type": "code",
   "execution_count": 87,
   "metadata": {},
   "outputs": [],
   "source": [
    "%reset -f \n",
    "\n",
    "import torch\n",
    "from torchvision import datasets, transforms, models\n",
    "from torch.utils.data import Dataset, DataLoader, random_split\n",
    "import torch.nn as nn\n",
    "import torch.optim as optim\n",
    "from torch.optim.lr_scheduler import ReduceLROnPlateau\n",
    "\n",
    "import os, re, cv2\n",
    "from datetime import datetime"
   ]
  },
  {
   "cell_type": "code",
   "execution_count": 88,
   "metadata": {},
   "outputs": [],
   "source": [
    "dtype = torch.float # speeding up on the GPU"
   ]
  },
  {
   "cell_type": "markdown",
   "metadata": {},
   "source": [
    "2. CUDA enable (pip3 install torch torchvision torchaudio --index-url https://download.pytorch.org/whl/cu118)"
   ]
  },
  {
   "cell_type": "code",
   "execution_count": 89,
   "metadata": {},
   "outputs": [
    {
     "name": "stdout",
     "output_type": "stream",
     "text": [
      "CUDA is available: False\n",
      "Device: cpu\n"
     ]
    }
   ],
   "source": [
    "print(f'CUDA is available: {torch.cuda.is_available()}')       # True\n",
    "if torch.cuda.is_available():\n",
    "    print(f'Device count: {torch.cuda.device_count()}')        # 1\n",
    "    print(f'Current device #: {torch.cuda.current_device()}')  # 0\n",
    "    print(f'GPU name: {torch.cuda.get_device_name(0)}') \n",
    "\n",
    "device = torch.device('cuda' if torch.cuda.is_available() else 'cpu')\n",
    "print(f'Device: {device}')"
   ]
  },
  {
   "cell_type": "markdown",
   "metadata": {},
   "source": [
    "3. Loading the data (pre-processed images) and corresponding ages of people"
   ]
  },
  {
   "cell_type": "code",
   "execution_count": 90,
   "metadata": {},
   "outputs": [],
   "source": [
    "batch_size = 16\n",
    "\n",
    "# Custom Dataset for loading images, and age calculation\n",
    "class AgeDataset(Dataset):\n",
    "    def __init__(self, folder, transform=None):\n",
    "        self.folder = folder\n",
    "        self.transform = transform\n",
    "        self.image_paths = []\n",
    "        self.ages = []\n",
    "\n",
    "        # Loading images, calculating the age\n",
    "        for file_name in os.listdir(folder):\n",
    "            if file_name.lower().endswith(('.png', '.jpg', '.jpeg')):\n",
    "                # Extracting date of birth and the year of photo taking\n",
    "                match = re.search(r'_(\\d{4})-(\\d{2})-(\\d{2})_(\\d{4})', file_name)\n",
    "                if match:\n",
    "                    birth_year = int(match.group(1))\n",
    "                    birth_month = int(match.group(2))\n",
    "                    birth_day = int(match.group(3))\n",
    "                    if birth_day == 0: # sometimes in the dataset we have zeroth date of birth\n",
    "                        birth_day = 1\n",
    "                    shoot_year = int(match.group(4))\n",
    "                    # print(f'Y: {birth_year}, M: {birth_month}, D: {birth_day}, Shoot: {shoot_year}')\n",
    "                    # Age calculation:\n",
    "                    birth_date = datetime(birth_year, birth_month, birth_day)\n",
    "                    shoot_date = datetime(shoot_year, 7, 1)  # Say the photo is taken on the 1st of July (middle of the year)\n",
    "                    age = (shoot_date - birth_date).days // 365  # Age in years\n",
    "                    \n",
    "                    self.image_paths.append(os.path.join(folder, file_name))\n",
    "                    self.ages.append(age)\n",
    "\n",
    "    def __len__(self):\n",
    "        return len(self.image_paths)\n",
    "\n",
    "    def __getitem__(self, idx):\n",
    "        image_path = self.image_paths[idx]\n",
    "        age = self.ages[idx]\n",
    "        image_bgr = cv2.imread(image_path)  # Load image \n",
    "        image_rgb = cv2.cvtColor(image_bgr, cv2.COLOR_BGR2RGB) # convert to RGB\n",
    "\n",
    "        if self.transform:\n",
    "            image_rgb = self.transform(image_rgb)  # Transform to pytorch tensor; also normalize\n",
    "\n",
    "        return image_rgb, torch.tensor(age, dtype=torch.float32)\n",
    "\n",
    "# Folder with the images prepared\n",
    "folder = 'wiki_crop_cleaned'\n",
    "\n",
    "# Transforms for the images\n",
    "transform = transforms.Compose([\n",
    "    transforms.ToTensor(),\n",
    "    transforms.Normalize(mean=[0.5, 0.5, 0.5], std=[0.5, 0.5, 0.5]) # normalizing images\n",
    "])\n",
    "\n",
    "# Creating the Dataset\n",
    "dataset = AgeDataset(folder, transform=transform)\n",
    "\n",
    "# Splitting the Dataset into traning, validation and the test one\n",
    "train_size = int(0.7 * len(dataset))  # 70% for the train\n",
    "val_size = int(0.15 * len(dataset))   # 15% for the validation\n",
    "test_size = len(dataset) - train_size - val_size  # the rest 15% for the test \n",
    "\n",
    "train_dataset, val_dataset, test_dataset = random_split(dataset, [train_size, val_size, test_size])\n",
    "# saving datasets for reproducible stop and rerun of the neural network training\n",
    "\n",
    "# Save indices to corresponding variables\n",
    "train_indices = train_dataset.indices\n",
    "val_indices = val_dataset.indices\n",
    "test_indices = test_dataset.indices"
   ]
  },
  {
   "cell_type": "markdown",
   "metadata": {},
   "source": [
    "4. Initializing the EfficientNet model (and loading the previosly saved state if any)"
   ]
  },
  {
   "cell_type": "code",
   "execution_count": 91,
   "metadata": {},
   "outputs": [
    {
     "name": "stderr",
     "output_type": "stream",
     "text": [
      "c:\\Users\\varaksa_yua\\AppData\\Local\\Programs\\Python\\Python310\\lib\\site-packages\\torchvision\\models\\_utils.py:208: UserWarning: The parameter 'pretrained' is deprecated since 0.13 and may be removed in the future, please use 'weights' instead.\n",
      "  warnings.warn(\n",
      "c:\\Users\\varaksa_yua\\AppData\\Local\\Programs\\Python\\Python310\\lib\\site-packages\\torchvision\\models\\_utils.py:223: UserWarning: Arguments other than a weight enum or `None` for 'weights' are deprecated since 0.13 and may be removed in the future. The current behavior is equivalent to passing `weights=EfficientNet_B0_Weights.IMAGENET1K_V1`. You can also use `weights=EfficientNet_B0_Weights.DEFAULT` to get the most up-to-date weights.\n",
      "  warnings.warn(msg)\n",
      "c:\\Users\\varaksa_yua\\AppData\\Local\\Programs\\Python\\Python310\\lib\\site-packages\\torch\\optim\\lr_scheduler.py:62: UserWarning: The verbose parameter is deprecated. Please use get_last_lr() to access the learning rate.\n",
      "  warnings.warn(\n",
      "C:\\Users\\varaksa_yua\\AppData\\Local\\Temp\\ipykernel_12420\\1355182893.py:16: FutureWarning: You are using `torch.load` with `weights_only=False` (the current default value), which uses the default pickle module implicitly. It is possible to construct malicious pickle data which will execute arbitrary code during unpickling (See https://github.com/pytorch/pytorch/blob/main/SECURITY.md#untrusted-models for more details). In a future release, the default value for `weights_only` will be flipped to `True`. This limits the functions that could be executed during unpickling. Arbitrary objects will no longer be allowed to be loaded via this mode unless they are explicitly allowlisted by the user via `torch.serialization.add_safe_globals`. We recommend you start setting `weights_only=True` for any use case where you don't have full control of the loaded file. Please open an issue on GitHub for any issues related to this experimental feature.\n",
      "  checkpoint = torch.load('checkpoint_efficientnet.pth')\n",
      "C:\\Users\\varaksa_yua\\AppData\\Local\\Temp\\ipykernel_12420\\1355182893.py:38: FutureWarning: You are using `torch.load` with `weights_only=False` (the current default value), which uses the default pickle module implicitly. It is possible to construct malicious pickle data which will execute arbitrary code during unpickling (See https://github.com/pytorch/pytorch/blob/main/SECURITY.md#untrusted-models for more details). In a future release, the default value for `weights_only` will be flipped to `True`. This limits the functions that could be executed during unpickling. Arbitrary objects will no longer be allowed to be loaded via this mode unless they are explicitly allowlisted by the user via `torch.serialization.add_safe_globals`. We recommend you start setting `weights_only=True` for any use case where you don't have full control of the loaded file. Please open an issue on GitHub for any issues related to this experimental feature.\n",
      "  checkpoint_best = torch.load('best_model_efficientnet.pth')\n"
     ]
    }
   ],
   "source": [
    "# Loading the pretrained model\n",
    "\n",
    "model = models.efficientnet_b0(pretrained=True)  \n",
    "\n",
    "# Replacing the last layer with the classifier having the single output\n",
    "model.classifier[1] = nn.Linear(model.classifier[1].in_features, 1)  # one output for regression to age\n",
    "\n",
    "# Optimizer and loss function \n",
    "criterion = nn.MSELoss()  # mean squared error of the age prediction for loss\n",
    "optimizer = optim.Adam(model.parameters(), lr=0.001)\n",
    "# Decreasing learning rate scheduler\n",
    "scheduler = ReduceLROnPlateau(optimizer, mode='min', patience=3, factor=0.5, verbose=True)\n",
    "\n",
    "# Trying to read the saved checkpoint to restore models state for keeping on the training\n",
    "try:\n",
    "    checkpoint = torch.load('checkpoint_efficientnet.pth')\n",
    "    model.load_state_dict(checkpoint['model_state_dict']) # load model state       \n",
    "    optimizer.load_state_dict(checkpoint['optimizer_state_dict'])\n",
    "    # Move optimizer to the device being used\n",
    "    for state in optimizer.state.values():\n",
    "        for k, v in state.items():\n",
    "            if isinstance(v, torch.Tensor):\n",
    "                state[k] = v.to(device)\n",
    "    train_loss_values = checkpoint['train_loss_values']\n",
    "    val_rmse_values = checkpoint['val_rmse_values']\n",
    "    current_epoch = checkpoint['epoch'] \n",
    "    train_indices = checkpoint['train_indices']\n",
    "    val_indices = checkpoint['val_indices']\n",
    "    test_indices = checkpoint['test_indices']\n",
    "except:\n",
    "    current_epoch = 1        \n",
    "    train_loss_values = []\n",
    "    val_rmse_values = []\n",
    "    print('No checkpoint loaded')\n",
    "    \n",
    "# Trying to read the saved best model checkpoint to extract the best validation accuracy reached\n",
    "try:\n",
    "    checkpoint_best = torch.load('best_model_efficientnet.pth')\n",
    "    best_rmse =  checkpoint_best['best_rmse']  \n",
    "except:\n",
    "    best_rmse = 100     \n",
    "    print('No best model loaded')\n",
    "    \n",
    "# Move the model to GPU if available, otherwise to CPU\n",
    "model = model.to(device)"
   ]
  },
  {
   "cell_type": "markdown",
   "metadata": {},
   "source": [
    "4a. Recreate Datasets and DataLoaders in accordance with the indices loaded from the saved checkpoint, if any"
   ]
  },
  {
   "cell_type": "code",
   "execution_count": 92,
   "metadata": {},
   "outputs": [],
   "source": [
    "# This is done for the dataloaders to be identical at each file run\n",
    "# (additionally, this changes nothing of no checkpoint is loaded, \n",
    "# otherwise it restores datasets and dataloader used at previously stage of training)\n",
    "\n",
    "# Recreate subsets using Subset\n",
    "train_dataset = torch.utils.data.Subset(dataset, train_indices)\n",
    "val_dataset = torch.utils.data.Subset(dataset, val_indices)\n",
    "test_dataset = torch.utils.data.Subset(dataset, test_indices)\n",
    "\n",
    "# Recreate DataLoaders\n",
    "train_loader = DataLoader(train_dataset, batch_size=batch_size, shuffle=True)\n",
    "val_loader = DataLoader(val_dataset, batch_size=batch_size, shuffle=False)\n",
    "test_loader = DataLoader(test_dataset, batch_size=batch_size, shuffle=False)"
   ]
  },
  {
   "cell_type": "markdown",
   "metadata": {},
   "source": [
    "5. Model training"
   ]
  },
  {
   "cell_type": "code",
   "execution_count": 93,
   "metadata": {},
   "outputs": [
    {
     "name": "stdout",
     "output_type": "stream",
     "text": [
      "Epoch [11/15]\n",
      "Loss: 25.415596924375816\n",
      "Validation RMSE: 17.89 years\n",
      "Epoch [12/15]\n",
      "Loss: 21.417193630117662\n",
      "Validation RMSE: 18.37 years\n",
      "Epoch [13/15]\n",
      "Loss: 21.932727171272827\n",
      "Validation RMSE: 16.99 years\n",
      "Best RMSE: 17.16\n",
      "New best model saved with RMSE: 16.99 years\n",
      "Epoch [14/15]\n",
      "Loss: 18.25633975062027\n",
      "Validation RMSE: 18.28 years\n",
      "Epoch [15/15]\n",
      "Loss: 20.826283498797075\n",
      "Validation RMSE: 17.82 years\n"
     ]
    }
   ],
   "source": [
    "epochs = 15\n",
    "\n",
    "while current_epoch <= epochs:\n",
    "    print(f'Epoch [{current_epoch}/{epochs}]')\n",
    "    model.train()\n",
    "    running_loss = 0.0\n",
    "    for inputs, labels in train_loader:\n",
    "        inputs, labels = inputs.to(device), labels.to(device)\n",
    "        \n",
    "        optimizer.zero_grad()\n",
    "        \n",
    "        outputs = model(inputs)\n",
    "        loss = criterion(outputs, labels.reshape(-1,1))\n",
    "        loss.backward()\n",
    "        optimizer.step()\n",
    "        \n",
    "        running_loss += loss.item()\n",
    "    \n",
    "    average_loss = running_loss/len(train_loader)\n",
    "    print(f'Loss: {average_loss}')\n",
    "    train_loss_values.append(average_loss) # appending new value of average loss\n",
    "    \n",
    "   \n",
    "    model.eval()\n",
    "    # evaluation on the validation dataset\n",
    "    with torch.no_grad():\n",
    "        for inputs, labels in val_loader:\n",
    "            inputs, labels = inputs.to(device), labels.to(device)\n",
    "            outputs = model(inputs)\n",
    "            mse = torch.mean((outputs - labels) ** 2)\n",
    "            rmse = torch.sqrt(mse).item()            \n",
    "  \n",
    "    print(f'Validation RMSE: {rmse:.2f} years')\n",
    "    val_rmse_values.append(rmse)\n",
    "    \n",
    "    # Keep the best model if validation accuracy improves\n",
    "    if rmse <= best_rmse:\n",
    "        print(f\"Best RMSE: {best_rmse:.2f}\")        \n",
    "        best_rmse = rmse        \n",
    "        torch.save({'model_state_dict': model.state_dict(),  # model weights\n",
    "                    'best_rmse' : best_rmse}, \n",
    "                   'best_model_efficientnet.pth')\n",
    "        print(f\"New best model saved with RMSE: {best_rmse:.2f} years\")   \n",
    "\n",
    "    # Decreasing the learning rate\n",
    "    scheduler.step(rmse)\n",
    "    \n",
    "    current_epoch += 1"
   ]
  },
  {
   "cell_type": "markdown",
   "metadata": {},
   "source": [
    "6. Saving the current state of the model (so-called checkpoint)"
   ]
  },
  {
   "cell_type": "code",
   "execution_count": 94,
   "metadata": {},
   "outputs": [],
   "source": [
    "# Save model weights and additional information like optimizer state, epoch, etc.\n",
    "try:\n",
    "    torch.save({\n",
    "        'epoch': current_epoch,\n",
    "        'model_state_dict': model.state_dict(),  # model weights\n",
    "        'optimizer_state_dict': optimizer.state_dict(), # optimizer   \n",
    "        'train_loss_values' : train_loss_values,\n",
    "        'val_rmse_values' : val_rmse_values,\n",
    "        'train_indices': train_indices,\n",
    "        'val_indices': val_indices,\n",
    "        'test_indices': test_indices \n",
    "        }, 'checkpoint_efficientnet.pth')\n",
    "except:\n",
    "    print('Error. No current model saved')"
   ]
  },
  {
   "cell_type": "markdown",
   "metadata": {},
   "source": [
    "7. Evaluation of the current model on the test dataset"
   ]
  },
  {
   "cell_type": "code",
   "execution_count": 95,
   "metadata": {},
   "outputs": [
    {
     "name": "stdout",
     "output_type": "stream",
     "text": [
      "Test RMSE for the current model: 19.54 years\n"
     ]
    }
   ],
   "source": [
    "# evaluation of the current model on the test dataset\n",
    "with torch.no_grad():\n",
    "    for inputs, labels in test_loader:\n",
    "        inputs, labels = inputs.to(device), labels.to(device)\n",
    "        outputs = model(inputs)\n",
    "        mse_test = torch.mean((outputs - labels) ** 2)\n",
    "        rmse_test = torch.sqrt(mse_test)\n",
    "    \n",
    "print(f'Test RMSE for the current model: {rmse_test:.2f} years')   "
   ]
  },
  {
   "cell_type": "markdown",
   "metadata": {},
   "source": [
    "8. Training plots "
   ]
  },
  {
   "cell_type": "code",
   "execution_count": 96,
   "metadata": {},
   "outputs": [
    {
     "data": {
      "image/png": "[encoded data removed]",
      "text/plain": [
       "<Figure size 1000x400 with 2 Axes>"
      ]
     },
     "metadata": {},
     "output_type": "display_data"
    }
   ],
   "source": [
    "import matplotlib.pyplot as plt\n",
    "\n",
    "# Learning plots\n",
    "\n",
    "plt.figure(figsize=(10, 4))\n",
    "plt.subplot(1, 2, 1)\n",
    "plt.plot(range(epochs), train_loss_values, 'g-^', label='Training Loss') # 'g^-' - green triangles + solid line\n",
    "plt.xlabel('Epochs')\n",
    "plt.ylabel('Loss (MSE)')\n",
    "plt.title('Training Loss')\n",
    "plt.legend()\n",
    "plt.axis([-0.05*epochs, 1.05*epochs-1, 0, 1.05*max(train_loss_values)])\n",
    "\n",
    "plt.subplot(1, 2, 2)\n",
    "plt.plot(range(epochs), val_rmse_values, 'D-', label = 'Validation RMSE') # 'D-' diamonds + solid line\n",
    "plt.xlabel('Epochs')\n",
    "plt.ylabel('RMSE')\n",
    "plt.title('Validation RMSE, years')\n",
    "plt.legend()\n",
    "plt.axis([-0.05*epochs, 1.05*epochs-1, 0, 1.05*max(val_rmse_values)])\n",
    "\n",
    "plt.show()"
   ]
  },
  {
   "cell_type": "markdown",
   "metadata": {},
   "source": [
    "9. Loading the best model (i.e. showing the best metrics on the validation dataset)"
   ]
  },
  {
   "cell_type": "code",
   "execution_count": 97,
   "metadata": {},
   "outputs": [
    {
     "name": "stdout",
     "output_type": "stream",
     "text": [
      "Best validation RMSE reached: 16.99\n"
     ]
    },
    {
     "name": "stderr",
     "output_type": "stream",
     "text": [
      "C:\\Users\\varaksa_yua\\AppData\\Local\\Temp\\ipykernel_12420\\3686907239.py:2: FutureWarning: You are using `torch.load` with `weights_only=False` (the current default value), which uses the default pickle module implicitly. It is possible to construct malicious pickle data which will execute arbitrary code during unpickling (See https://github.com/pytorch/pytorch/blob/main/SECURITY.md#untrusted-models for more details). In a future release, the default value for `weights_only` will be flipped to `True`. This limits the functions that could be executed during unpickling. Arbitrary objects will no longer be allowed to be loaded via this mode unless they are explicitly allowlisted by the user via `torch.serialization.add_safe_globals`. We recommend you start setting `weights_only=True` for any use case where you don't have full control of the loaded file. Please open an issue on GitHub for any issues related to this experimental feature.\n",
      "  checkpoint_best = torch.load('best_model_efficientnet.pth', map_location=torch.device(device.type)) # loads model with mapping the storages to the CPU/GPU if any\n"
     ]
    }
   ],
   "source": [
    "try:\n",
    "    checkpoint_best = torch.load('best_model_efficientnet.pth', map_location=torch.device(device.type)) # loads model with mapping the storages to the CPU/GPU if any\n",
    "    model.load_state_dict(checkpoint_best['model_state_dict']) # load model state\n",
    "    tmp = checkpoint_best['best_rmse']     \n",
    "    print(f'Best validation RMSE reached: {tmp:.2f}')\n",
    "    model.eval() # switch the loaded model to the evaluation mode    \n",
    "except:\n",
    "    print('Error. No best model found')"
   ]
  },
  {
   "cell_type": "markdown",
   "metadata": {},
   "source": [
    "10. Final evaluation of the best model on the test dataset "
   ]
  },
  {
   "cell_type": "code",
   "execution_count": 98,
   "metadata": {},
   "outputs": [
    {
     "name": "stdout",
     "output_type": "stream",
     "text": [
      "Test RMSE for the best model: 19.64 years\n"
     ]
    }
   ],
   "source": [
    "# evaluation of the best model on the test dataset\n",
    "with torch.no_grad():\n",
    "    for inputs, labels in test_loader:\n",
    "        inputs, labels = inputs.to(device), labels.to(device)\n",
    "        outputs = model(inputs)\n",
    "        mse_test = torch.mean((outputs - labels) ** 2)\n",
    "        rmse_test = torch.sqrt(mse_test)\n",
    "    \n",
    "print(f'Test RMSE for the best model: {rmse_test:.2f} years')   "
   ]
  },
  {
   "cell_type": "markdown",
   "metadata": {},
   "source": [
    "**Выводы:** <br>\n",
    "На основе предобученной нейронной сети EfficientNet произведено решение задачи регрессии на предварительно обработанных снимках из датасета wiki_crop для определения возраста персонажа на снимках <br>\n",
    "Достигнутая точность решения задачи регрессии (а именно, среднеквадратичное отклонение найденного возраста от истинного) на тестовой выборке составила: <br> \n",
    "\n",
    "19.15 г. (5 эпох) <br>\n",
    "19.15 г. (10 эпох, лучшей модели по сравнению с предыдущим циклом не найдено) <br>\n",
    "19.64 г. (15 эпох, модель оказалась лучшей на валидационном наборе, но не на тестовом) <br>\n",
    "\n",
    "Полученное значение среднеквадратичного разброса возраста выглядит как-то великовато. <br>\n",
    "Да и не сказать, чтобы модель сильно обучилась. На графике изменения лучшей валидационной среднеквадратичной ошибки видно, что она почти не меняется. <br>\n",
    "\n",
    "Впрочем, качество исходных данных тоже не назвать очень хорошим. <br>\n",
    "Количество тоже небольшое - мы используем в обучающем наборе 70% от 25 тысяч фоток, то есть 17 500 изображений. И это при том, что, например, в базе данных рукописных цифр MNIST в обучающем наборе 60 тысяч фоток рукописных цифр. То есть там задача гораздо более простая, но датасет намного больше. Поэтому плохое качество полученного здесь результата не должно удивлять. <br>\n",
    "\n"
   ]
  }
 ],
 "metadata": {
  "kernelspec": {
   "display_name": "Python 3",
   "language": "python",
   "name": "python3"
  },
  "language_info": {
   "codemirror_mode": {
    "name": "ipython",
    "version": 3
   },
   "file_extension": ".py",
   "mimetype": "text/x-python",
   "name": "python",
   "nbconvert_exporter": "python",
   "pygments_lexer": "ipython3",
   "version": "3.10.5"
  }
 },
 "nbformat": 4,
 "nbformat_minor": 4
}
