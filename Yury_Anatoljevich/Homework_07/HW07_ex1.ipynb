{
 "cells": [
  {
   "cell_type": "markdown",
   "metadata": {},
   "source": [
    "Домашнее задание по занятию №7.\n",
    "Задание №1.\n",
    "***\n",
    "Напишите декоратор, оптимизирующий работу декорируемой функции. Декоратор должен сохранять результат работы функции на ближайшие три запуска и вместо выполнения функции возвращать сохранённый результат. \n",
    "После трёх запусков функция должна вызываться вновь, а результат работы функции — вновь кешироваться.\n",
    "***\n",
    "Анализ задания. \n",
    "Возьмем пробную функцию, выдающую некоторое случайное значение при каждом вызове (хэш факториала случайного целого числа).\n",
    "Обернем ее в декоратор, в котором будет сохраняться число вызовов функции. При первом вызове функции декоратор считает функцию четыре раза - один раз для текущего вывода, еще три раза - для кэширования в соответствующую переменную. Далее при трех последующих вызовах функция на самом деле не вычисляется, а выдаются кэшированные значения. При пятом вызове поведение повторяется - делается расчет функции на данный вызов и про запас на три последующих. Таким образом, функция реально вычисляется только на 1, 5, 9 и т.д. вызовах. В ходе промежуточных по номеру вызовов используются кэшированные значения. "
   ]
  },
  {
   "cell_type": "code",
   "execution_count": null,
   "metadata": {},
   "outputs": [],
   "source": [
    "import random, math\n",
    "\n",
    "def decorator(func):\n",
    "    i = 0 # counter\n",
    "    cache = set()\n",
    "    def wrapper():\n",
    "        nonlocal i, cache\n",
    "        i += 1\n",
    "        print(f'\\nFunction call # {i}')        \n",
    "        if  (i-1) % 4 == 0:                     # if i = 1, 5, 9,...\n",
    "            print('Calculating function 4 times')\n",
    "            res = func()\n",
    "            cache = {func(), func(), func()}            \n",
    "        else:                                   # if i != 1, 5, 9,...\n",
    "            print('Extracting from the cache')\n",
    "            res = cache.pop()            \n",
    "        return res\n",
    "    return wrapper\n",
    "\n",
    "\n",
    "@decorator\n",
    "def func():\n",
    "    \"\"\"Function to calculate a hash of the random factorial\"\"\"\n",
    "    x = random.randint(1,1000) # random value to 1000\n",
    "    y = math.factorial(x)      # factorial\n",
    "    z = hash(y)                # hash of the factorial\n",
    "    return z\n",
    "               "
   ]
  },
  {
   "cell_type": "markdown",
   "metadata": {},
   "source": [
    "Вычисляем функцию, скажем, восемь раз подряд.\n",
    "Наблюдаем, как изменяется поведение вывода "
   ]
  },
  {
   "cell_type": "code",
   "execution_count": 47,
   "metadata": {},
   "outputs": [
    {
     "name": "stdout",
     "output_type": "stream",
     "text": [
      "\n",
      "Function call # 1\n",
      "Calculating function 4 times\n",
      "993621538261592358\n",
      "\n",
      "Function call # 2\n",
      "Extracting from the cache\n",
      "50482248466153422\n",
      "\n",
      "Function call # 3\n",
      "Extracting from the cache\n",
      "1388350755379531782\n",
      "\n",
      "Function call # 4\n",
      "Extracting from the cache\n",
      "502623883736194237\n",
      "\n",
      "Function call # 5\n",
      "Calculating function 4 times\n",
      "1912726434027912709\n",
      "\n",
      "Function call # 6\n",
      "Extracting from the cache\n",
      "1424988740259803361\n",
      "\n",
      "Function call # 7\n",
      "Extracting from the cache\n",
      "166468455535345682\n",
      "\n",
      "Function call # 8\n",
      "Extracting from the cache\n",
      "617580965514485595\n"
     ]
    }
   ],
   "source": [
    "print(func())\n",
    "print(func())\n",
    "print(func())\n",
    "print(func())\n",
    "print(func())\n",
    "print(func())\n",
    "print(func())\n",
    "print(func())"
   ]
  },
  {
   "cell_type": "markdown",
   "metadata": {},
   "source": [
    "Выводы:\n",
    "Использование декоратора позволяет добавить к вычислению функции дополнительные действия. В частности, выводить дополнительные сообщения, использовать кэширование, проверять дополнительные условия etc.\n",
    "Это может быть полезно, в частности, но не ограничиваясь, при отладке и тестировании кода Python."
   ]
  }
 ],
 "metadata": {
  "kernelspec": {
   "display_name": "base",
   "language": "python",
   "name": "python3"
  },
  "language_info": {
   "codemirror_mode": {
    "name": "ipython",
    "version": 3
   },
   "file_extension": ".py",
   "mimetype": "text/x-python",
   "name": "python",
   "nbconvert_exporter": "python",
   "pygments_lexer": "ipython3",
   "version": "3.12.7"
  }
 },
 "nbformat": 4,
 "nbformat_minor": 2
}
