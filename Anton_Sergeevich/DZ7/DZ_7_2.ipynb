{
 "cells": [
  {
   "cell_type": "markdown",
   "metadata": {},
   "source": [
    "Задача: есть данные, что тест на болезнь дает результат с вероятностью в 98%. Число больных в популяции у нас 1%. \n",
    "Вопрос - с какой вероятностью положительный тест будет положительным при случайном тестировании.  \n",
    "\n",
    "\n",
    "Если тест положительный, то есть 2 варианта:\n",
    "\n",
    "1) Болезнь есть\n",
    "тогда"
   ]
  },
  {
   "cell_type": "code",
   "execution_count": 4,
   "metadata": {},
   "outputs": [],
   "source": [
    "test_correct = 0.01*0.98\n"
   ]
  },
  {
   "cell_type": "markdown",
   "metadata": {},
   "source": [
    "2) Тест ложный. Такой результат получится, когда 99 процентов здоровых людей сдадут тест с ошибкой 100-98 = 2 процента:"
   ]
  },
  {
   "cell_type": "code",
   "execution_count": 5,
   "metadata": {},
   "outputs": [],
   "source": [
    "test_incorrect = 0.99*0.02\n"
   ]
  },
  {
   "cell_type": "markdown",
   "metadata": {},
   "source": [
    "Тогда исходная вероятность будет равна"
   ]
  },
  {
   "cell_type": "code",
   "execution_count": 7,
   "metadata": {},
   "outputs": [
    {
     "name": "stdout",
     "output_type": "stream",
     "text": [
      "0.33108108108108103\n"
     ]
    }
   ],
   "source": [
    "probability = (test_correct)/(test_correct+test_incorrect)\n",
    "print(probability)"
   ]
  }
 ],
 "metadata": {
  "kernelspec": {
   "display_name": "Python 3",
   "language": "python",
   "name": "python3"
  },
  "language_info": {
   "codemirror_mode": {
    "name": "ipython",
    "version": 3
   },
   "file_extension": ".py",
   "mimetype": "text/x-python",
   "name": "python",
   "nbconvert_exporter": "python",
   "pygments_lexer": "ipython3",
   "version": "3.11.0"
  }
 },
 "nbformat": 4,
 "nbformat_minor": 2
}
