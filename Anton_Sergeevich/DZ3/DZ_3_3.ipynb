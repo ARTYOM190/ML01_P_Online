{
 "cells": [
  {
   "attachments": {},
   "cell_type": "markdown",
   "metadata": {},
   "source": [
    "Составить программу, которая считает число гласных и согласных букв. \n",
    "\n",
    "\n",
    "Анализ: создадим две строки, одну с гласными, вторую с согласными\n",
    "\n",
    "Будем каждую букву проверять на принадлежность к одной и ко второй.\n",
    "Так мы исключим знаки препинания и другие символы.\n",
    "\n",
    "Также посчитаем общее количество символов."
   ]
  },
  {
   "cell_type": "code",
   "execution_count": 3,
   "metadata": {},
   "outputs": [
    {
     "name": "stdout",
     "output_type": "stream",
     "text": [
      "количество гласных 26858\n",
      "количество согласных 42219\n",
      "общее количество букв 88407\n"
     ]
    }
   ],
   "source": [
    "f = open('text2.txt', 'r',encoding='utf-8')\n",
    "# text2.txt -full book, text4.txt 15lines, text5.txt 1 line, text6.txt 2 line\n",
    "vowels = \"EeYyUuIiOoAa\"\n",
    "consonant = \"QqWwRrTtPpSsDdFfGgHhJjKkLlZzXxCcVvBbNnMm\"\n",
    "vowels_count=0\n",
    "consonant_count=0\n",
    "full_count = 0\n",
    "for line in f:\n",
    "    for character in line:\n",
    "        full_count+=1\n",
    "        if character in vowels:\n",
    "                vowels_count+=1                \n",
    "        elif character in consonant:\n",
    "                consonant_count+=1                \n",
    "        \n",
    "                \n",
    "print(\"количество гласных\", vowels_count)\n",
    "print(\"количество согласных\",consonant_count)\n",
    "print(\"общее количество букв\",full_count)"
   ]
  },
  {
   "attachments": {},
   "cell_type": "markdown",
   "metadata": {},
   "source": [
    "Подсчет гласных и согласных производится, результат проверен на коротком файле. Общее количество символов также подсчитывается."
   ]
  }
 ],
 "metadata": {
  "kernelspec": {
   "display_name": "base",
   "language": "python",
   "name": "python3"
  },
  "language_info": {
   "codemirror_mode": {
    "name": "ipython",
    "version": 3
   },
   "file_extension": ".py",
   "mimetype": "text/x-python",
   "name": "python",
   "nbconvert_exporter": "python",
   "pygments_lexer": "ipython3",
   "version": "3.12.7"
  },
  "orig_nbformat": 4,
  "vscode": {
   "interpreter": {
    "hash": "b0205c421c64af847616f20a9a1a22b234a490e1b79ee204d590d785bf2a1b75"
   }
  }
 },
 "nbformat": 4,
 "nbformat_minor": 2
}
