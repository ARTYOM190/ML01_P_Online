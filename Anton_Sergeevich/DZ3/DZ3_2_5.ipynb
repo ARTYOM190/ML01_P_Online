{
 "cells": [
  {
   "attachments": {},
   "cell_type": "markdown",
   "metadata": {},
   "source": []
  },
  {
   "attachments": {},
   "cell_type": "markdown",
   "metadata": {},
   "source": [
    "Составить программу, которая считает число уникальных слов в тексте\n",
    "(без критерия схожести)\n",
    "Вывести 10 наиболее часто встречаемых слов. \n",
    "\n",
    "Анализ:\n",
    "Будем считывать файл по строкам,  делить строки на слова.\n",
    "Для подсчета уникальных слов будем использовать словарь в формате слово- количество.\n",
    "Будем вести подсчет полного количества слов.\n",
    "\n",
    "Для вывода 10 наиболее часто встречаемых создадим словарь ordered_dict и выведем\n",
    "10 первых записей.\n"
   ]
  },
  {
   "cell_type": "code",
   "execution_count": 5,
   "metadata": {},
   "outputs": [
    {
     "name": "stdout",
     "output_type": "stream",
     "text": [
      "\n",
      " uniqe words =  4118\n",
      "\n",
      " full words =  15455\n",
      "\n",
      " Most used 10 words: \n",
      "[('not', 164), ('that', 189), ('in', 200), ('was', 229), ('and', 265), ('a', 284), ('to', 445), ('of', 486), ('the', 997)]\n"
     ]
    }
   ],
   "source": [
    "f = open('text2.txt', 'r',encoding='utf-8')\n",
    "# text2.txt -full book, text4.txt 15lines, text5.txt 1 line, text6.txt 2 line\n",
    "dict = {}\n",
    "\n",
    "uniqe_words = 0\n",
    "full_words = 0\n",
    "\n",
    "for line in f:        \n",
    "        i =0\n",
    "        for word in line.split():\n",
    "            full_words+=1\n",
    "            if word not in dict:\n",
    "                dict[word] =1\n",
    "                uniqe_words+=1\n",
    "                \n",
    "            elif word in dict:\n",
    "                dict[word] +=1                       \n",
    "                                 \n",
    "                \n",
    "#print(sorted(dict.items()))    \n",
    "#print(\"lenth of dic of uniqe words  \",len(dict))  \n",
    "print(\"\\n uniqe words = \", uniqe_words)\n",
    "print(\"\\n full words = \", full_words)\n",
    "print(\"\\n Most used 10 words: \")\n",
    "dict_sorted =(sorted(dict.items(), key=lambda item: item[1]))\n",
    "print(dict_sorted[-9:])\n"
   ]
  },
  {
   "attachments": {},
   "cell_type": "markdown",
   "metadata": {},
   "source": [
    "Выводы. 1) Пунктуация мешает выделять одинаковые слова, увеличивает количество уникальных слов. 2) Наиболее часто употребляемые слова - предлоги  и артикли."
   ]
  }
 ],
 "metadata": {
  "kernelspec": {
   "display_name": "base",
   "language": "python",
   "name": "python3"
  },
  "language_info": {
   "codemirror_mode": {
    "name": "ipython",
    "version": 3
   },
   "file_extension": ".py",
   "mimetype": "text/x-python",
   "name": "python",
   "nbconvert_exporter": "python",
   "pygments_lexer": "ipython3",
   "version": "3.12.7"
  },
  "orig_nbformat": 4,
  "vscode": {
   "interpreter": {
    "hash": "b0205c421c64af847616f20a9a1a22b234a490e1b79ee204d590d785bf2a1b75"
   }
  }
 },
 "nbformat": 4,
 "nbformat_minor": 2
}
