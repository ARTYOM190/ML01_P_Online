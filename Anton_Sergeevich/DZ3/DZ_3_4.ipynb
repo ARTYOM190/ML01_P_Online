{
 "cells": [
  {
   "cell_type": "markdown",
   "metadata": {},
   "source": []
  },
  {
   "attachments": {},
   "cell_type": "markdown",
   "metadata": {},
   "source": [
    "Составить программу, которая считает число предложений, их длину и число\n",
    "(количество) раз использования каждого слова в тексте (с критерием схожести,\n",
    "критерий схожести слов выбрать самостоятельно, например, spacy ( ) или расстояние\n",
    "Левенштейна). \n",
    "\n",
    "Анализ.\n",
    "Файл будем читать по строкам, далее делим на  слова. \n",
    "Если в конце слова стоит точка, считаем это за конец предложения, увеличиваем счетчик предложений\n",
    "\n",
    "Приведить слова к простым формам будем библиотекой ntlk.stem\n",
    "Упрощенные библиотекой nltk.stem слова добавляем в словарь."
   ]
  },
  {
   "cell_type": "code",
   "execution_count": 4,
   "metadata": {},
   "outputs": [
    {
     "ename": "ModuleNotFoundError",
     "evalue": "No module named 'nltk'",
     "output_type": "error",
     "traceback": [
      "\u001b[1;31m---------------------------------------------------------------------------\u001b[0m",
      "\u001b[1;31mModuleNotFoundError\u001b[0m                       Traceback (most recent call last)",
      "\u001b[1;32md:\\CourcesML\\Урок3\\ML01_P_Online\\Anton_Sergeevich\\DZ3\\DZ_3_4.ipynb Cell 2\u001b[0m line \u001b[0;36m2\n\u001b[0;32m      <a href='vscode-notebook-cell:/d%3A/CourcesML/%D0%A3%D1%80%D0%BE%D0%BA3/ML01_P_Online/Anton_Sergeevich/DZ3/DZ_3_4.ipynb#W1sZmlsZQ%3D%3D?line=0'>1</a>\u001b[0m \u001b[39m#import spacy \u001b[39;00m\n\u001b[1;32m----> <a href='vscode-notebook-cell:/d%3A/CourcesML/%D0%A3%D1%80%D0%BE%D0%BA3/ML01_P_Online/Anton_Sergeevich/DZ3/DZ_3_4.ipynb#W1sZmlsZQ%3D%3D?line=1'>2</a>\u001b[0m \u001b[39mfrom\u001b[39;00m \u001b[39mnltk\u001b[39;00m\u001b[39m.\u001b[39;00m\u001b[39mstem\u001b[39;00m \u001b[39mimport\u001b[39;00m PorterStemmer \n\u001b[0;32m      <a href='vscode-notebook-cell:/d%3A/CourcesML/%D0%A3%D1%80%D0%BE%D0%BA3/ML01_P_Online/Anton_Sergeevich/DZ3/DZ_3_4.ipynb#W1sZmlsZQ%3D%3D?line=2'>3</a>\u001b[0m \u001b[39mfrom\u001b[39;00m \u001b[39mnltk\u001b[39;00m\u001b[39m.\u001b[39;00m\u001b[39mtokenize\u001b[39;00m \u001b[39mimport\u001b[39;00m word_tokenize\n\u001b[0;32m      <a href='vscode-notebook-cell:/d%3A/CourcesML/%D0%A3%D1%80%D0%BE%D0%BA3/ML01_P_Online/Anton_Sergeevich/DZ3/DZ_3_4.ipynb#W1sZmlsZQ%3D%3D?line=3'>4</a>\u001b[0m ps \u001b[39m=\u001b[39m PorterStemmer()\n",
      "\u001b[1;31mModuleNotFoundError\u001b[0m: No module named 'nltk'"
     ]
    }
   ],
   "source": [
    "#import spacy \n",
    "from nltk.stem import PorterStemmer \n",
    "from nltk.tokenize import word_tokenize\n",
    "ps = PorterStemmer()\n",
    "#nlp = spacy.load(\"en_core_web_sm\") \n",
    "\n",
    "sentence_count = 0\n",
    "distinct_words = 0\n",
    "full_words = 0\n",
    "dict = {}                  #словарь уникальных слов\n",
    "dict_sentence_lenth = {}   #словарь количества предложений формата 1 - длина 7\n",
    "sententh_lenth_current = 0\n",
    "f = open('text2.txt', 'r',encoding='utf-8')\n",
    "# text2.txt-full book, text4.txt 15lines, text5.txt 1 line, text6.txt 2 line\n",
    "for line in f:\n",
    "    line = line.replace('\"', '')\n",
    "    for word in line.split():\n",
    "        if word[-1] in \",:;-/\": #убираем спецсимволы в конце слова\n",
    "            word = word[0:-1]\n",
    "        sententh_lenth_current+=1 #увеличиваем счетчик предложения\n",
    "         \n",
    "        if word[-1] in  \".!?\":  # Если точка, увеличиваем количество предложений, и убираем точку, чтобы далее работать чисто со словом\n",
    "            sentence_count+=1\n",
    "            word = word[0:-1]\n",
    "            dict_sentence_lenth[sentence_count] =  sententh_lenth_current # пишем запись в словарь длин предложений\n",
    "            sententh_lenth_current=0            \n",
    "        \n",
    "        stemmed_word = ps.stem(word) #приводим слово к простой форме      \n",
    "        \n",
    "        if stemmed_word not in dict:\n",
    "            dict[stemmed_word] =1  #пишем запись в словарь\n",
    "            distinct_words+=1\n",
    "            full_words+=1\n",
    "        elif stemmed_word in dict:\n",
    "            dict[stemmed_word] +=1    #если слово уже есть, увеличиваем счетчик этого слова\n",
    "            full_words+=1  \n",
    "            \n",
    "  \n",
    "    \n",
    "    \n",
    "print(\"sentence count = \", sentence_count )\n",
    "print(sorted(dict.items()))  \n",
    "\n",
    "print(\" \")\n",
    "print(\"sentence lenth in format: Number sentence - quantity of words:  \"),\n",
    "\n",
    "print(dict_sentence_lenth)  "
   ]
  },
  {
   "cell_type": "markdown",
   "metadata": {},
   "source": [
    "Библиотека nltk.stem нормально приводит слова к первоначальной форме. Подсчет предложений  и слов в них происходит корректно. \n",
    "Для более глубокого разделения лучше убирать пунктуацию при помощи nltk.\n"
   ]
  }
 ],
 "metadata": {
  "kernelspec": {
   "display_name": "Python 3",
   "language": "python",
   "name": "python3"
  },
  "language_info": {
   "codemirror_mode": {
    "name": "ipython",
    "version": 3
   },
   "file_extension": ".py",
   "mimetype": "text/x-python",
   "name": "python",
   "nbconvert_exporter": "python",
   "pygments_lexer": "ipython3",
   "version": "3.12.4"
  },
  "orig_nbformat": 4,
  "vscode": {
   "interpreter": {
    "hash": "3540df603ff7a7aa75b9663435e0b767cb2f66c3384817f52329262f2485e5cc"
   }
  }
 },
 "nbformat": 4,
 "nbformat_minor": 2
}
