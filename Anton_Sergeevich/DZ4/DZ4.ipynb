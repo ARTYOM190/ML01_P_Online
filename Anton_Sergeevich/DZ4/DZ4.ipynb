{
 "cells": [
  {
   "cell_type": "markdown",
   "metadata": {},
   "source": [
    "ДЗ 4. Открыть файл датафрэйм.\n",
    "\n",
    " Найти:\n",
    "\tОбщее число оценок в файле\n",
    "⦁\tОбщее количество пользователей, поставивших оценки\n",
    "⦁\tОбщее количество оцененных фильмов\n",
    "⦁\tID самого активного пользователя\n",
    "⦁\tФильм, собравший наибольшее количество оценок"
   ]
  },
  {
   "cell_type": "markdown",
   "metadata": {},
   "source": [
    "Импортируем библиотеки, настроим вывод, загрузим данные из файла, распечатаем:"
   ]
  },
  {
   "cell_type": "code",
   "execution_count": null,
   "metadata": {},
   "outputs": [
    {
     "name": "stdout",
     "output_type": "stream",
     "text": [
      "        userId  movieId  rating   timestamp\n",
      "0            1       31     2.5  1260759144\n",
      "1            1     1029     3.0  1260759179\n",
      "2            1     1061     3.0  1260759182\n",
      "3            1     1129     2.0  1260759185\n",
      "4            1     1172     4.0  1260759205\n",
      "...        ...      ...     ...         ...\n",
      "99999      671     6268     2.5  1065579370\n",
      "100000     671     6269     4.0  1065149201\n",
      "100001     671     6365     4.0  1070940363\n",
      "100002     671     6385     2.5  1070979663\n",
      "100003     671     6565     3.5  1074784724\n",
      "\n",
      "[100004 rows x 4 columns]\n"
     ]
    }
   ],
   "source": [
    "import numpy as np\n",
    "import pandas as pd\n",
    "\n",
    "pd.set_option('display.notebook_repr_html', False)\n",
    "pd.set_option('display.max_columns', 8)\n",
    "pd.set_option('display.max_rows', 10)\n",
    "pd.set_option('display.width', 120)\n",
    "\n",
    "df = pd.read_csv('ratings_small.csv')\n",
    "print(df)\n",
    "\n"
   ]
  },
  {
   "cell_type": "markdown",
   "metadata": {},
   "source": [
    "1. Общее число оценок в файле. \n",
    "\n",
    "Делаем подсчет по любому столбцу, например rating или userId. Результат одинаковый!!!"
   ]
  },
  {
   "cell_type": "code",
   "execution_count": 32,
   "metadata": {},
   "outputs": [
    {
     "name": "stdout",
     "output_type": "stream",
     "text": [
      "1 Full marks count 100004\n",
      "1 Full marks count 100004\n"
     ]
    }
   ],
   "source": [
    "print('1 Full marks count',  df.rating.count())\n",
    "print('1 Full marks count',  df.userId.count())"
   ]
  },
  {
   "cell_type": "markdown",
   "metadata": {},
   "source": [
    "2. Общее количество пользователей, поставивших оценки.\n",
    "\n",
    "1 способ Сгруппируем по пользоввателю и подсчитаем записи!\n",
    "2 способ. Удалим дубликаты по UserID. Возьмем столбик UserID и выведем количество записей в нем."
   ]
  },
  {
   "cell_type": "code",
   "execution_count": 38,
   "metadata": {},
   "outputs": [
    {
     "name": "stdout",
     "output_type": "stream",
     "text": [
      "2 Different users count 671\n",
      "2 Different users count 671\n"
     ]
    }
   ],
   "source": [
    "print('2 Different users count',  len(df.groupby(['userId'])))\n",
    "print('2 Different users count',  (df.drop_duplicates(['userId']))[\"userId\"].count())"
   ]
  },
  {
   "cell_type": "markdown",
   "metadata": {},
   "source": [
    "3. Общее количество оцененных фильмов\n",
    "Задача идентична прошлой, только считаем не пользователей, а фильмы."
   ]
  },
  {
   "cell_type": "code",
   "execution_count": 40,
   "metadata": {},
   "outputs": [
    {
     "name": "stdout",
     "output_type": "stream",
     "text": [
      "3 Movies count 9066\n"
     ]
    }
   ],
   "source": [
    "print('3 Movies count',  (df.drop_duplicates(['movieId']))[\"movieId\"].count())"
   ]
  },
  {
   "cell_type": "markdown",
   "metadata": {},
   "source": [
    "4 ID самого активного пользователя.\n",
    "Для начала сгруппируем по количеству оценок :"
   ]
  },
  {
   "cell_type": "code",
   "execution_count": 27,
   "metadata": {},
   "outputs": [
    {
     "name": "stdout",
     "output_type": "stream",
     "text": [
      "4 The most active user         movieId  rating  timestamp\n",
      "userId                            \n",
      "1            20      20         20\n",
      "2            76      76         76\n",
      "3            51      51         51\n",
      "4           204     204        204\n",
      "5           100     100        100\n",
      "...         ...     ...        ...\n",
      "667          68      68         68\n",
      "668          20      20         20\n",
      "669          37      37         37\n",
      "670          31      31         31\n",
      "671         115     115        115\n",
      "\n",
      "[671 rows x 3 columns]\n"
     ]
    }
   ],
   "source": [
    "print('4 The most active user',  (df.groupby([\"userId\"]).count()))\n"
   ]
  },
  {
   "cell_type": "markdown",
   "metadata": {},
   "source": [
    "Далее можно отсортировать по любому столбику из последних трех, отсортируем по movieId. Сразу виден результат, это последняя строка."
   ]
  },
  {
   "cell_type": "code",
   "execution_count": 42,
   "metadata": {},
   "outputs": [
    {
     "name": "stdout",
     "output_type": "stream",
     "text": [
      "4 The most active user         movieId  rating  timestamp\n",
      "userId                            \n",
      "1            20      20         20\n",
      "668          20      20         20\n",
      "638          20      20         20\n",
      "651          20      20         20\n",
      "399          20      20         20\n",
      "...         ...     ...        ...\n",
      "73         1610    1610       1610\n",
      "15         1700    1700       1700\n",
      "624        1735    1735       1735\n",
      "564        1868    1868       1868\n",
      "547        2391    2391       2391\n",
      "\n",
      "[671 rows x 3 columns]\n"
     ]
    }
   ],
   "source": [
    "print('4 The most active user',  (df.groupby([\"userId\"]).count()).sort_values(\"movieId\"))"
   ]
  },
  {
   "cell_type": "markdown",
   "metadata": {},
   "source": [
    "Выделим последнюю строку."
   ]
  },
  {
   "cell_type": "code",
   "execution_count": null,
   "metadata": {},
   "outputs": [
    {
     "name": "stdout",
     "output_type": "stream",
     "text": [
      "4 The most active user 547\n"
     ]
    }
   ],
   "source": [
    "print('4 The most active user is',  (df.groupby([\"userId\"]).count()).sort_values(\"movieId\").index[-1])"
   ]
  },
  {
   "cell_type": "markdown",
   "metadata": {},
   "source": [
    "5. Фильм, собравший наибольшее количество оценок.\n",
    "Задача полностью идентична прошлой. Группируем по фильму, подсчитываем количество записей. Далее сортируем по любой колонке, например по userId и берем последнюю запись."
   ]
  },
  {
   "cell_type": "code",
   "execution_count": null,
   "metadata": {},
   "outputs": [
    {
     "name": "stdout",
     "output_type": "stream",
     "text": [
      "5 The most active user is          userId  rating  timestamp\n",
      "movieId                           \n",
      "160565        1       1          1\n",
      "162672        1       1          1\n",
      "162542        1       1          1\n",
      "162376        1       1          1\n",
      "161944        1       1          1\n",
      "...         ...     ...        ...\n",
      "260         291     291        291\n",
      "593         304     304        304\n",
      "318         311     311        311\n",
      "296         324     324        324\n",
      "356         341     341        341\n",
      "\n",
      "[9066 rows x 3 columns]\n",
      "5 The most active user is 356\n"
     ]
    }
   ],
   "source": [
    "print('5 The most active user is',  (df.groupby([\"movieId\"]).count()).sort_values(\"userId\").index[-1])"
   ]
  },
  {
   "cell_type": "markdown",
   "metadata": {},
   "source": [
    "Выводы. Научились работать с датафреймами библиотеки PANDAS. Ну или всего с некоторыми функциями - groupBy, drob_dublicates, index. Научились работать с файлами CSV."
   ]
  }
 ],
 "metadata": {
  "kernelspec": {
   "display_name": "Python 3",
   "language": "python",
   "name": "python3"
  },
  "language_info": {
   "codemirror_mode": {
    "name": "ipython",
    "version": 3
   },
   "file_extension": ".py",
   "mimetype": "text/x-python",
   "name": "python",
   "nbconvert_exporter": "python",
   "pygments_lexer": "ipython3",
   "version": "3.12.4"
  }
 },
 "nbformat": 4,
 "nbformat_minor": 2
}
