{
 "cells": [
  {
   "cell_type": "markdown",
   "metadata": {},
   "source": [
    "Есть Алфавит, характеристиками которого являются: \n",
    "1. Язык\n",
    "2. Список букв\n",
    "\n",
    "Для Алфавита можно: \n",
    "1. Напечатать все буквы алфавита\n",
    "2. Посчитать количество букв\n",
    "\n",
    "\n",
    "\n",
    "Класс Alphabet\n",
    "1. Создайте класс Alphabet\n",
    "2. Создайте метод __init__(), внутри которого будут определены два динамических свойства: 1) lang - язык и 2) letters - список букв. Начальные значения свойств берутся из входных параметров метода.\n",
    "3. Создайте метод print(), который выведет в консоль буквы алфавита\n",
    "4. Создайте метод letters_num(), который вернет количество букв в алфавите\n",
    "\n"
   ]
  },
  {
   "cell_type": "code",
   "execution_count": 1,
   "metadata": {},
   "outputs": [],
   "source": [
    "class alphabet:\n",
    "    def __init__(self, language = \"esperanto\", letters = \"abcĉdefgĝhĥijĵklmnoprsŝtuŭvz\"):\n",
    "        self.language = language       \n",
    "        self.letters = letters \n",
    "    \n",
    "    \n",
    "    def print_letters(self):\n",
    "        print(f\"The letters are \", self.letters)\n",
    "    def letters_num(self):\n",
    "        print(\"esperanto has\", len(self.letters), \"letters\")\n",
    "    \n",
    "    \n"
   ]
  },
  {
   "cell_type": "markdown",
   "metadata": {},
   "source": [
    "Так же есть Английский алфавит, который обладает следующими свойствами: \n",
    "1. Язык\n",
    "2. Список букв\n",
    "3. Количество букв\n",
    "\n",
    "Для Английского алфавита можно: \n",
    "1. Посчитать количество букв\n",
    "2. Определить, относится ли буква к английскому алфавиту\n",
    "3. Получить пример текста на английском языке\n",
    "\n",
    "\n",
    "Класс EngAlphabet\n",
    "1. Создайте класс EngAlphabet путем наследования от класса Alphabet\n",
    "2. Создайте метод __init__(), внутри которого будет вызываться родительский метод __init__(). В качестве параметров ему будут передаваться обозначение языка(например, 'En') и строка, состоящая из всех букв алфавита(можно воспользоваться свойством ascii_uppercase из модуля string).\n",
    "3. Добавьте приватное статическое свойство __letters_num, которое будет хранить количество букв в алфавите.\n",
    "4. Создайте метод is_en_letter(), который будет принимать букву в качестве параметра и определять, относится ли эта буква к английскому алфавиту.\n",
    "5. Переопределите метод letters_num() - пусть в текущем классе классе он будет возвращать значение свойства __letters_num.\n",
    "6. Создайте статический метод example(), который будет возвращать пример текста на английском языке.\n"
   ]
  },
  {
   "cell_type": "code",
   "execution_count": 2,
   "metadata": {},
   "outputs": [],
   "source": [
    "class english_alphabet(alphabet):\n",
    "    \n",
    "    __letters_num = 26\n",
    "    def __init__(self):\n",
    "        \n",
    "        self.language = \"English\"       \n",
    "        self.letters = \"abcdefghijklmnopqrstuvwxyz\" \n",
    "        \n",
    "        super().__init__(self.language,self.letters)\n",
    "    def is_en_letter(self, letter):\n",
    "        if letter.isalpha():\n",
    "            if (letter in self.letters) or (letter in self.letters.upper()):\n",
    "                return True\n",
    "            else:\n",
    "                return False\n",
    "        else:\n",
    "            return False \n",
    "    def    letters_num(self):\n",
    "        print(\"english alphabet has \", self.__letters_num , \" letters\")\n",
    "    def text_example(self): #пример текста на английском\n",
    "        print( \"You can’t make an omelette without breaking a few eggs\")\n",
    "    "
   ]
  },
  {
   "cell_type": "markdown",
   "metadata": {},
   "source": [
    "Тесты:\n",
    "1. Создайте объект класса EngAlphabet\n",
    "2. Напечатайте буквы алфавита для этого объекта\n",
    "3. Выведите количество букв в алфавите\n"
   ]
  },
  {
   "cell_type": "code",
   "execution_count": 3,
   "metadata": {},
   "outputs": [
    {
     "name": "stdout",
     "output_type": "stream",
     "text": [
      "The letters are  abcdefghijklmnopqrstuvwxyz\n",
      "english alphabet has  26  letters\n"
     ]
    }
   ],
   "source": [
    "ea = english_alphabet()\n",
    "ea.print_letters()\n",
    "ea.letters_num()"
   ]
  },
  {
   "cell_type": "markdown",
   "metadata": {},
   "source": [
    "4. Проверьте, относится ли буква F к английскому алфавиту\n",
    "5. Проверьте, относится ли буква Щ к английскому алфавиту\n",
    "6. Выведите пример текста на английском языке"
   ]
  },
  {
   "cell_type": "code",
   "execution_count": 4,
   "metadata": {},
   "outputs": [
    {
     "name": "stdout",
     "output_type": "stream",
     "text": [
      "True\n",
      "False\n",
      "You can’t make an omelette without breaking a few eggs\n"
     ]
    }
   ],
   "source": [
    "print(ea.is_en_letter('F'))\n",
    "print(ea.is_en_letter('Щ'))\n",
    "\n",
    "ea.text_example()"
   ]
  },
  {
   "cell_type": "markdown",
   "metadata": {},
   "source": [
    "Дополнение к заданию (классическое.) Добавим класс german_alphabet аналогичный English\n",
    "Далее \n"
   ]
  },
  {
   "cell_type": "code",
   "execution_count": 5,
   "metadata": {},
   "outputs": [],
   "source": [
    "class german_alphabet(alphabet):\n",
    "    \n",
    "    __letters_num = 30\n",
    "    def __init__(self):\n",
    "        \n",
    "        self.language = \"German\"       \n",
    "        self.letters = \"abcdefghijklmnopqrstuvwxyzÄÖÜẞ\" \n",
    "        \n",
    "        super().__init__(self.language,self.letters)\n",
    "    def is_en_letter(self, letter):\n",
    "        if letter.isalpha():\n",
    "            if (letter in self.letters) or (letter in self.letters.upper()):\n",
    "                return True\n",
    "            else:\n",
    "                return False\n",
    "        else:\n",
    "            return False \n",
    "    def    letters_num(self):\n",
    "        print(\"german alphabet has \", self.__letters_num , \" letters\")\n",
    "    def text_example(self): #пример текста на английском\n",
    "        print( \"Krummes Holz gibt auch gerades Feuer\")\n",
    "    "
   ]
  },
  {
   "cell_type": "markdown",
   "metadata": {},
   "source": [
    "Сейчас добавим в список 3 класса, причем 2 из них наследованные и 1 родительский. И вызовем методы:"
   ]
  },
  {
   "cell_type": "code",
   "execution_count": 6,
   "metadata": {},
   "outputs": [
    {
     "name": "stdout",
     "output_type": "stream",
     "text": [
      "The letters are  abcĉdefgĝhĥijĵklmnoprsŝtuŭvz\n",
      "esperanto has 28 letters\n",
      "  \n",
      "The letters are  abcdefghijklmnopqrstuvwxyz\n",
      "english alphabet has  26  letters\n",
      "  \n",
      "The letters are  abcdefghijklmnopqrstuvwxyzÄÖÜẞ\n",
      "german alphabet has  30  letters\n",
      "  \n"
     ]
    }
   ],
   "source": [
    "a = alphabet()\n",
    "ga = german_alphabet() \n",
    "alphabets = [a, ea, ga]\n",
    "\n",
    "for i in alphabets:\n",
    "    i.print_letters()\n",
    "    i.letters_num()\n",
    "    print(\"  \")"
   ]
  }
 ],
 "metadata": {
  "kernelspec": {
   "display_name": "Python 3",
   "language": "python",
   "name": "python3"
  },
  "language_info": {
   "codemirror_mode": {
    "name": "ipython",
    "version": 3
   },
   "file_extension": ".py",
   "mimetype": "text/x-python",
   "name": "python",
   "nbconvert_exporter": "python",
   "pygments_lexer": "ipython3",
   "version": "3.12.4"
  }
 },
 "nbformat": 4,
 "nbformat_minor": 2
}
