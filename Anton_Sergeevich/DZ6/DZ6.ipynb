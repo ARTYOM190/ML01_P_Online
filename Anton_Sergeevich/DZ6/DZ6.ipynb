{
 "cells": [
  {
   "cell_type": "markdown",
   "metadata": {},
   "source": [
    "Напишите декоратор, оптимизирующий работу декорируемой функции. Декоратор должен сохранять результат работы функции на ближайшие три запуска и вместо выполнения функции возвращать сохранённый результат. \n",
    "После трёх запусков функция должна вызываться вновь, а результат работы функции — вновь кешироваться.\n"
   ]
  },
  {
   "cell_type": "code",
   "execution_count": 16,
   "metadata": {},
   "outputs": [
    {
     "name": "stdout",
     "output_type": "stream",
     "text": [
      "2024-11-21 10:38:07.707755\n",
      "2024-11-21 10:38:07.707755\n",
      "2024-11-21 10:38:07.707755\n",
      "2024-11-21 10:38:10.709948\n",
      "2024-11-21 10:38:10.709948\n",
      "2024-11-21 10:38:10.709948\n",
      "2024-11-21 10:38:13.712237\n"
     ]
    }
   ],
   "source": [
    "\n",
    "from datetime import datetime\n",
    "import time\n",
    "\n",
    "def timeIt(func):\n",
    "    time_list =[]\n",
    "    def wrapped():\n",
    "        nonlocal time_list\n",
    "        if len(time_list)<1:\n",
    "            for i in range(3):            \n",
    "                time_list.append(func())\n",
    "    \n",
    "        return time_list.pop()\n",
    "    return wrapped\n",
    "\n",
    "@timeIt\n",
    "def func_time():\n",
    "    return datetime.now()\n",
    "\n",
    "for i in range(7):\n",
    "    print(func_time())\n",
    "    time.sleep(1)\n",
    "\n",
    "\n",
    "\n"
   ]
  },
  {
   "cell_type": "markdown",
   "metadata": {},
   "source": [
    "1. декорируем функцию, возвращаемую текущее время\n",
    "2. Пишем декоратор, хранящий список кэшированных значений time_list. Если осталось меньше одного значения в кэше, запускаем кэширование 3 раза.\n",
    "3. После запуска видим, что функция кэширует 3 значения за 1 запуск."
   ]
  },
  {
   "cell_type": "markdown",
   "metadata": {},
   "source": [
    "Задание 2. Реализовать с использованием потоков и процессов скачивание файлов из интернета. \n",
    "Список файлов для скачивания подготовить самостоятельно (например изображений, не менее 100 изображений или других объектов). Сравнить производительность с последовательным методом. Сравнивть производительность Thread и multiprocessing решений. Попробовать подобрать оптимальное число потоков/процессов. "
   ]
  },
  {
   "cell_type": "markdown",
   "metadata": {},
   "source": [
    "1 создадим коллекцию url images:"
   ]
  },
  {
   "cell_type": "code",
   "execution_count": 55,
   "metadata": {},
   "outputs": [],
   "source": [
    "images = []\n",
    "import requests\n",
    "from bs4 import BeautifulSoup\n",
    "#list_url=[\"https://habr.com/ru/feed/\"]\n",
    "list_url=[\"https://bbc.com\"]\n",
    "for url in list_url:\n",
    "    response = requests.get(url)\n",
    "    soup = BeautifulSoup(response.text, features=\"html.parser\")\n",
    "    for img in soup.findAll('img'):\n",
    "        images.append(img.get('src')) "
   ]
  },
  {
   "cell_type": "markdown",
   "metadata": {},
   "source": [
    "Находим количество картинок:"
   ]
  },
  {
   "cell_type": "code",
   "execution_count": 56,
   "metadata": {},
   "outputs": [
    {
     "name": "stdout",
     "output_type": "stream",
     "text": [
      "80\n"
     ]
    },
    {
     "data": {
      "text/plain": [
       "['/bbcx/grey-placeholder.png',\n",
       " 'https://ichef.bbci.co.uk/news/480/cpsprodpb/8250/live/6b84c8d0-a7dd-11ef-a4fe-a3e9a6c5d640.jpg.webp',\n",
       " '/bbcx/grey-placeholder.png',\n",
       " 'https://ichef.bbci.co.uk/news/480/cpsprodpb/2ba4/live/27dead50-a7c7-11ef-83ee-618e27a5f901.jpg.webp',\n",
       " '/bbcx/grey-placeholder.png',\n",
       " 'https://ichef.bbci.co.uk/news/480/cpsprodpb/8250/live/6b84c8d0-a7dd-11ef-a4fe-a3e9a6c5d640.jpg.webp',\n",
       " '/bbcx/grey-placeholder.png',\n",
       " 'https://ichef.bbci.co.uk/news/480/cpsprodpb/2ba4/live/27dead50-a7c7-11ef-83ee-618e27a5f901.jpg.webp',\n",
       " '/bbcx/grey-placeholder.png',\n",
       " 'https://ichef.bbci.co.uk/news/480/cpsprodpb/ebb5/live/54e0cd20-a76c-11ef-a4fe-a3e9a6c5d640.jpg.webp',\n",
       " '/bbcx/grey-placeholder.png',\n",
       " 'https://ichef.bbci.co.uk/images/ic/480x270/p0k59h0l.jpg.webp',\n",
       " '/bbcx/grey-placeholder.png',\n",
       " 'https://ichef.bbci.co.uk/images/ic/480x270/p0k5m02k.jpg.webp',\n",
       " '/bbcx/grey-placeholder.png',\n",
       " 'https://ichef.bbci.co.uk/news/480/cpsprodpb/c723/live/a043b2b0-a79d-11ef-bdf5-b7cb2fa86e10.jpg.webp',\n",
       " '/bbcx/grey-placeholder.png',\n",
       " 'https://ichef.bbci.co.uk/news/480/cpsprodpb/b863/live/457eaa10-a761-11ef-bdf5-b7cb2fa86e10.jpg.webp',\n",
       " '/bbcx/grey-placeholder.png',\n",
       " 'https://ichef.bbci.co.uk/news/480/cpsprodpb/701c/live/e56ea8d0-a758-11ef-8ab9-9192db313061.jpg.webp',\n",
       " '/bbcx/grey-placeholder.png',\n",
       " 'https://ichef.bbci.co.uk/news/480/cpsprodpb/d831/live/b9ad5060-a745-11ef-bdf5-b7cb2fa86e10.jpg.webp',\n",
       " '/bbcx/grey-placeholder.png',\n",
       " 'https://ichef.bbci.co.uk/news/480/cpsprodpb/81ea/live/5b911700-a6c8-11ef-bdf5-b7cb2fa86e10.jpg.webp',\n",
       " '/bbcx/grey-placeholder.png',\n",
       " 'https://ichef.bbci.co.uk/images/ic/480x270/p0k5rhkc.jpg.webp',\n",
       " '/bbcx/grey-placeholder.png',\n",
       " 'https://ichef.bbci.co.uk/news/480/cpsprodpb/d871/live/26051a90-a683-11ef-8ab9-9192db313061.jpg.webp',\n",
       " '/bbcx/grey-placeholder.png',\n",
       " 'https://ichef.bbci.co.uk/news/480/cpsprodpb/82b3/live/886a13a0-a720-11ef-bdf5-b7cb2fa86e10.jpg.webp',\n",
       " '/bbcx/grey-placeholder.png',\n",
       " 'https://ichef.bbci.co.uk/images/ic/480x270/p0k5m7z2.jpg.webp',\n",
       " '/bbcx/grey-placeholder.png',\n",
       " 'https://ichef.bbci.co.uk/news/1024/cpsprodpb/eb53/live/020059c0-a1d8-11ef-bb35-5d21e680a10f.jpg.webp',\n",
       " '/bbcx/grey-placeholder.png',\n",
       " 'https://ichef.bbci.co.uk/images/ic/1920x1080/p0hh6r6r.jpg.webp',\n",
       " '/bbcx/grey-placeholder.png',\n",
       " 'https://ichef.bbci.co.uk/images/ic/raw/p0k21mvc.jpg.webp',\n",
       " '/bbcx/grey-placeholder.png',\n",
       " 'https://ichef.bbci.co.uk/images/ic/raw/p0k48s7x.jpg.webp',\n",
       " '/bbcx/grey-placeholder.png',\n",
       " 'https://ichef.bbci.co.uk/images/ic/640x360/p0gstygv.jpg.webp',\n",
       " '/bbcx/grey-placeholder.png',\n",
       " 'https://ichef.bbci.co.uk/images/ic/raw/p0k21mq7.jpg.webp',\n",
       " '/bbcx/grey-placeholder.png',\n",
       " 'https://ichef.bbci.co.uk/images/ic/1920x1080/p0h74xp9.jpg.webp',\n",
       " '/bbcx/grey-placeholder.png',\n",
       " 'https://ichef.bbci.co.uk/images/ic/1920x1080/p0h74xqs.jpg.webp',\n",
       " '/bbcx/grey-placeholder.png',\n",
       " 'https://ichef.bbci.co.uk/images/ic/raw/p0jxmg7s.jpg.webp',\n",
       " '/bbcx/grey-placeholder.png',\n",
       " 'https://ichef.bbci.co.uk/news/800/cpsprodpb/633B/production/_133530452_newsletter_football.jpg.webp',\n",
       " '/bbcx/grey-placeholder.png',\n",
       " 'https://ichef.bbci.co.uk/images/ic/raw/p0jq6tfl.jpg.webp',\n",
       " '/bbcx/grey-placeholder.png',\n",
       " 'https://ichef.bbci.co.uk/news/480/cpsprodpb/fd5b/live/e535a2d0-a729-11ef-b084-fbb99ebdbb21.jpg.webp',\n",
       " '/bbcx/grey-placeholder.png',\n",
       " 'https://ichef.bbci.co.uk/news/480/cpsprodpb/8006/live/6d68f000-a70a-11ef-8ab9-9192db313061.jpg.webp',\n",
       " '/bbcx/grey-placeholder.png',\n",
       " 'https://ichef.bbci.co.uk/news/480/cpsprodpb/2b43/live/7cac0c30-a77f-11ef-a968-c7efee733ac0.jpg.webp',\n",
       " '/bbcx/grey-placeholder.png',\n",
       " 'https://ichef.bbci.co.uk/news/480/cpsprodpb/2ffa/live/2a833b40-a568-11ef-bdf5-b7cb2fa86e10.jpg.webp',\n",
       " '/bbcx/grey-placeholder.png',\n",
       " 'https://ichef.bbci.co.uk/images/ic/480x270/p0k5rhkc.jpg.webp',\n",
       " '/bbcx/grey-placeholder.png',\n",
       " 'https://ichef.bbci.co.uk/news/480/cpsprodpb/2389/live/48e82650-a7ce-11ef-a669-ef2b4d537c17.jpg.webp',\n",
       " '/bbcx/grey-placeholder.png',\n",
       " 'https://ichef.bbci.co.uk/news/480/cpsprodpb/99c7/live/0c978760-a7ae-11ef-9a8c-c31d912d7879.jpg.webp',\n",
       " '/bbcx/grey-placeholder.png',\n",
       " 'https://ichef.bbci.co.uk/news/480/cpsprodpb/00da/live/8a267ec0-a722-11ef-a060-c9e4846609a2.jpg.webp',\n",
       " '/bbcx/grey-placeholder.png',\n",
       " 'https://ichef.bbci.co.uk/news/480/cpsprodpb/7043/live/7859a2f0-8aec-11ef-bcfe-69abb38a17a8.jpg.webp',\n",
       " '/bbcx/grey-placeholder.png',\n",
       " 'https://ichef.bbci.co.uk/news/480/cpsprodpb/6c8a/live/ce2c21c0-a76c-11ef-8ab9-9192db313061.jpg.webp',\n",
       " '/bbcx/grey-placeholder.png',\n",
       " 'https://ichef.bbci.co.uk/images/ic/1024xn/p0k383v1.jpg.webp',\n",
       " '/bbcx/grey-placeholder.png',\n",
       " 'https://ichef.bbci.co.uk/images/ic/480x270/p0k4r6js.jpg.webp',\n",
       " '/bbcx/grey-placeholder.png',\n",
       " 'https://ichef.bbci.co.uk/images/ic/1376xn/p0k5ctvd.jpg.webp']"
      ]
     },
     "execution_count": 56,
     "metadata": {},
     "output_type": "execute_result"
    }
   ],
   "source": [
    "print(len(images))\n",
    "images"
   ]
  },
  {
   "cell_type": "markdown",
   "metadata": {},
   "source": [
    "Создадим функцию последовательной загрузки"
   ]
  },
  {
   "cell_type": "code",
   "execution_count": 57,
   "metadata": {},
   "outputs": [],
   "source": [
    "import time\n",
    "import urllib.request\n",
    "from concurrent.futures import ThreadPoolExecutor, ProcessPoolExecutor\n",
    "\n",
    "def download_images_consequent(image):    \n",
    "    i=1    \n",
    "    dir = \"d:\\CourcesML\\ \"\n",
    "    filename = dir +  image.split('/')[-1] \n",
    "    try:\n",
    "        urllib.request.urlretrieve(image,filename) \n",
    "        print(\"file downloaded\")   \n",
    "    except:\n",
    "        print(\"An exception occurred\") \n",
    "           \n"
   ]
  },
  {
   "cell_type": "markdown",
   "metadata": {},
   "source": [
    "Создадим функцию загрузки файла из Url:"
   ]
  },
  {
   "cell_type": "code",
   "execution_count": 58,
   "metadata": {},
   "outputs": [],
   "source": [
    "def download_file_by_url(url):\n",
    "    # Генерируем имя файла, убирая недопустимые символы\n",
    "    file_name = url.split('/')[-1]\n",
    "    \n",
    "    with requests.get(url, stream=True) as request:\n",
    "        request.raise_for_status()\n",
    "        with open(file_name, 'wb') as f:\n",
    "            for piece in request.iter_content(chunk_size=8192):\n",
    "                f.write(piece)\n",
    "    return file_name"
   ]
  },
  {
   "cell_type": "markdown",
   "metadata": {},
   "source": [
    "Создадим функцию, загружающую файлы в параллельных потоках"
   ]
  },
  {
   "cell_type": "code",
   "execution_count": 59,
   "metadata": {},
   "outputs": [],
   "source": [
    "def download_files_in_threads(images):\n",
    "    with ThreadPoolExecutor(max_workers=4) as executor:\n",
    "        executor.map(download_file_by_url, images)\n",
    "        #executor.map(download_images_consequent, images)"
   ]
  },
  {
   "cell_type": "markdown",
   "metadata": {},
   "source": [
    "Создадим функцию, загружающую файлы в параллельных процессах:"
   ]
  },
  {
   "cell_type": "code",
   "execution_count": 60,
   "metadata": {},
   "outputs": [],
   "source": [
    "def download_files_in_processes(images):\n",
    "      with ProcessPoolExecutor(max_workers=4) as executor:\n",
    "        executor.map(download_file_by_url, images)\n",
    "        #executor.map(download_images_consequent, images)"
   ]
  },
  {
   "cell_type": "code",
   "execution_count": 61,
   "metadata": {},
   "outputs": [
    {
     "name": "stdout",
     "output_type": "stream",
     "text": [
      "An exception occurred\n",
      "file downloaded\n",
      "An exception occurred\n",
      "file downloaded\n",
      "An exception occurred\n",
      "file downloaded\n",
      "An exception occurred\n",
      "file downloaded\n",
      "An exception occurred\n",
      "file downloaded\n",
      "An exception occurred\n",
      "file downloaded\n",
      "An exception occurred\n",
      "file downloaded\n",
      "An exception occurred\n",
      "file downloaded\n",
      "An exception occurred\n",
      "file downloaded\n",
      "An exception occurred\n",
      "file downloaded\n",
      "An exception occurred\n",
      "file downloaded\n",
      "An exception occurred\n",
      "file downloaded\n",
      "An exception occurred\n",
      "file downloaded\n",
      "An exception occurred\n",
      "file downloaded\n",
      "An exception occurred\n",
      "file downloaded\n",
      "An exception occurred\n",
      "file downloaded\n",
      "An exception occurred\n",
      "file downloaded\n",
      "An exception occurred\n",
      "file downloaded\n",
      "An exception occurred\n",
      "file downloaded\n",
      "An exception occurred\n",
      "file downloaded\n",
      "An exception occurred\n",
      "file downloaded\n",
      "An exception occurred\n",
      "file downloaded\n",
      "An exception occurred\n",
      "file downloaded\n",
      "An exception occurred\n",
      "file downloaded\n",
      "An exception occurred\n",
      "file downloaded\n",
      "An exception occurred\n",
      "file downloaded\n",
      "An exception occurred\n",
      "file downloaded\n",
      "An exception occurred\n",
      "file downloaded\n",
      "An exception occurred\n",
      "file downloaded\n",
      "An exception occurred\n",
      "file downloaded\n",
      "An exception occurred\n",
      "file downloaded\n",
      "An exception occurred\n",
      "file downloaded\n",
      "An exception occurred\n",
      "file downloaded\n",
      "An exception occurred\n",
      "file downloaded\n",
      "An exception occurred\n",
      "file downloaded\n",
      "An exception occurred\n",
      "file downloaded\n",
      "An exception occurred\n",
      "file downloaded\n",
      "An exception occurred\n",
      "file downloaded\n",
      "An exception occurred\n",
      "file downloaded\n",
      "An exception occurred\n",
      "file downloaded\n",
      "Sequential download time:  12.90574836730957   seconds\n",
      " download time in threads:  3.2472479343414307   seconds\n",
      " download time in processes:  1.13834810256958   seconds\n"
     ]
    }
   ],
   "source": [
    " # Расчет времени последовательного метода\n",
    " \n",
    " \n",
    "start_time = time.time()    \n",
    "for url in images:\n",
    "   download_images_consequent(url)\n",
    "result_time = time.time() - start_time\n",
    "print(\"Sequential download time: \" ,result_time, \"  seconds\")\n",
    "\n",
    "# Расчет времени загрузки использованием потоков\n",
    "\n",
    "start_time = time.time()\n",
    "download_files_in_threads(images)\n",
    "thread_time = time.time() - start_time\n",
    "print(\" download time in threads: \" ,thread_time, \"  seconds\")    \n",
    "\n",
    "# Сравнение производительности с использованием процессов\n",
    "    \n",
    "start_time = time.time()\n",
    "    \n",
    "download_files_in_processes(images)    \n",
    "process_time = time.time() - start_time\n",
    "print(\" download time in processes: \" ,process_time, \"  seconds\")\n",
    "    "
   ]
  },
  {
   "cell_type": "markdown",
   "metadata": {},
   "source": [
    "ВЫвод: Многопоточный вывод в разы быстрее параллельного, пробовал на разных сайтах. На процессах работает чуть быстрее. \n",
    "Почему происходят ошибки при загрузке файлов остается загадкой."
   ]
  }
 ],
 "metadata": {
  "kernelspec": {
   "display_name": "Python 3",
   "language": "python",
   "name": "python3"
  },
  "language_info": {
   "codemirror_mode": {
    "name": "ipython",
    "version": 3
   },
   "file_extension": ".py",
   "mimetype": "text/x-python",
   "name": "python",
   "nbconvert_exporter": "python",
   "pygments_lexer": "ipython3",
   "version": "3.11.0"
  }
 },
 "nbformat": 4,
 "nbformat_minor": 2
}
