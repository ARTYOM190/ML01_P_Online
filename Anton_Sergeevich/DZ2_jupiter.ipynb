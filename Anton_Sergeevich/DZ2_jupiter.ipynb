{
 "cells": [
  {
   "cell_type": "code",
   "execution_count": null,
   "id": "d60b6cd2-db52-4224-a08f-ad95f967fe4e",
   "metadata": {},
   "outputs": [],
   "source": [
    "⦁\tНапишите программу, которая рассчитывает расход топлива маршрута, на вход подается длина маршрута и расход топлива на 100 километров.\n",
    "Используйте try catch (проверка что пользователь ввел число>0). \n"
   ]
  },
  {
   "cell_type": "code",
   "execution_count": 1,
   "id": "d1857815-49c0-4813-9dea-92ea4381b0c2",
   "metadata": {},
   "outputs": [
    {
     "name": "stdout",
     "output_type": "stream",
     "text": [
      "Enter fuel consumption per 100km:\n"
     ]
    },
    {
     "name": "stdin",
     "output_type": "stream",
     "text": [
      "Enter fuel consumption per 100km: 5\n",
      "Enter distance to go: 700\n"
     ]
    },
    {
     "name": "stdout",
     "output_type": "stream",
     "text": [
      "35.0   liters\n"
     ]
    }
   ],
   "source": [
    "print('Enter fuel consumption per 100km:')\n",
    "rashod=10\n",
    "distance =1000\n",
    "try:\n",
    "    rashod = int(input('Enter fuel consumption per 100km:'))  \n",
    "except:\n",
    "  print(\"Bad data. Rashod = 10 l/100km\") \n",
    "else: \n",
    "    if rashod<=0:\n",
    "        print(\"Bad data. Rashod = 10 l/100km\")         \n",
    "    \n",
    "try:\n",
    "    distance = int(input('Enter distance to go:'))\n",
    "except:\n",
    "  print(\"Bad data. Distance = 1000km\") \n",
    "fuel = (distance/100)*rashod\n",
    "print(fuel ,\"  liters\")\n"
   ]
  },
  {
   "cell_type": "code",
   "execution_count": null,
   "id": "3c353bfa-525a-4143-9963-eb8598eba9c4",
   "metadata": {},
   "outputs": [],
   "source": [
    "⦁\tНапишите программу, которая ищет корни квадратного уравнения вида a*x*x+b*x+c. \n",
    "На вход программы подаются a,b,c. Результатом работы программы – действительные корни или сообщение что корней нет. \n"
   ]
  },
  {
   "cell_type": "code",
   "execution_count": 1,
   "id": "985a6bfc-47bf-4e94-919a-da703a18c0f5",
   "metadata": {},
   "outputs": [
    {
     "name": "stdout",
     "output_type": "stream",
     "text": [
      "Enter coefficients a, b, c of square equal:\n"
     ]
    },
    {
     "name": "stdin",
     "output_type": "stream",
     "text": [
      "Enter a: 2\n",
      "Enter b: 5\n",
      "Enter c: 6\n"
     ]
    },
    {
     "name": "stdout",
     "output_type": "stream",
     "text": [
      "no roots\n"
     ]
    }
   ],
   "source": [
    "print('Enter coefficients a, b, c of square equal:')\n",
    "a = int(input('Enter a:'))  \n",
    "b = int(input('Enter b:'))  \n",
    "c = int(input('Enter c:'))  \n",
    "\n",
    "D = b**2-4*a*c\n",
    "root1 = 0\n",
    "root2=0\n",
    "if D<0:\n",
    "    print (\"no roots\")\n",
    "elif D==0:\n",
    "    root1 = -b/(2*a)\n",
    "    Print ('one root', root1)\n",
    "    exit()\n",
    "elif D>0:\n",
    "    root1= (-b+D**(0.5))/(2*a)\n",
    "    root2 = (-b-D**(0.5))/(2*a)\n",
    "    print ('Two roots:  root1= ',root1,' root2= ',root2)\n",
    "\n",
    "\n",
    "\n"
   ]
  },
  {
   "cell_type": "markdown",
   "id": "6f13dc35-91f1-45d4-b957-b5d7231d3bff",
   "metadata": {},
   "source": [
    "⦁\tНапишите программу, находящую наибольшее и наименьшее значение функции y = -26*x**2+25*x-9 на отрезке [-5,5]. \n",
    "Для решения и используйте while и какой то шаг (например 0.1).\n",
    "Найти производную и особую точку. \n",
    "\n",
    "\n"
   ]
  },
  {
   "cell_type": "code",
   "execution_count": 16,
   "id": "55867185-ee47-4f63-80ba-6314389233c8",
   "metadata": {},
   "outputs": [
    {
     "name": "stdout",
     "output_type": "stream",
     "text": [
      "min =  -933.0  max=  -2.9999999999999973\n",
      " Prominent point is  0.4999999999999972   -2.9999999999999973   \n"
     ]
    }
   ],
   "source": [
    "def equation(x):\n",
    "    return (-26*x**2+25*x-9)\n",
    "    \n",
    "max = -10000\n",
    "min = 10000\n",
    "\n",
    "prominent_x = -10000\n",
    "prominent_y = -10000\n",
    "\n",
    "previous_y = -1000\n",
    "\n",
    "diff_x = 10000\n",
    "diff_y = 100000\n",
    "i=-5\n",
    "step = 0.1\n",
    "\n",
    "while i<5:\n",
    "    value = equation(i)\n",
    "    if value>max:\n",
    "        max = value\n",
    "    if value<min:\n",
    "        min = value\n",
    "    difference = value - previous_y\n",
    "    \n",
    "    if abs((value-previous_y)/step)<abs(diff_y):\n",
    "        diff_y = (value-previous_y)/step\n",
    "        prominent_x = i\n",
    "        prominent_y = value\n",
    "    previous_y=value\n",
    "    \n",
    "    i+=step\n",
    "print ('min = ',min, ' max= ',max)\n",
    "print (' Prominent point is ', prominent_x, ' ', prominent_y, '  ')\n",
    "    \n"
   ]
  },
  {
   "cell_type": "code",
   "execution_count": null,
   "id": "448c7dc8-48d1-48e0-8d2c-33222a4085ba",
   "metadata": {},
   "outputs": [],
   "source": []
  },
  {
   "cell_type": "code",
   "execution_count": null,
   "id": "f1e76b8f-b463-4a6e-a418-bfdf4b47498e",
   "metadata": {},
   "outputs": [],
   "source": []
  }
 ],
 "metadata": {
  "kernelspec": {
   "display_name": "Python 3 (ipykernel)",
   "language": "python",
   "name": "python3"
  },
  "language_info": {
   "codemirror_mode": {
    "name": "ipython",
    "version": 3
   },
   "file_extension": ".py",
   "mimetype": "text/x-python",
   "name": "python",
   "nbconvert_exporter": "python",
   "pygments_lexer": "ipython3",
   "version": "3.12.7"
  }
 },
 "nbformat": 4,
 "nbformat_minor": 5
}
