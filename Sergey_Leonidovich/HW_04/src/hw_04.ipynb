{
 "cells": [
  {
   "metadata": {},
   "cell_type": "markdown",
   "source": [
    "# Homework 04\n",
    "<hr>"
   ],
   "id": "538c1ba5f705ddf6"
  },
  {
   "metadata": {},
   "cell_type": "markdown",
   "source": [
    "## Задание\n",
    "Имеется файл `*.csv` со следующими полями: `UserId`, `movieId`, `rating`, `timestamp`.\n",
    "Необходимо найти:\n",
    "1. Общее число оценок в файле\n",
    "2. Общее количество пользователей, поставивших оценки\n",
    "3. Общее количество оцененных фильмов\n",
    "4. ID самого активного пользователя\n",
    "5. Фильм, собравший наибольшее количество оценок\n",
    "<hr>"
   ],
   "id": "c9215218e1ea165e"
  },
  {
   "metadata": {},
   "cell_type": "markdown",
   "source": [
    "### Выполнение программы\n",
    "1. В качестве инструмента для анализа и обработки табличных данных (в данном случае содержимое `.csv` файла) \n",
    "предлагается использовать библиотеку `Pandas`. Данная библиотека предоставляет готовый набор инструментов, \n",
    "позволяющий быстро и удобно осуществлять обработку табличных данных. Импортируем библиотеку `Pandas`:"
   ],
   "id": "8918fcb9086deefa"
  },
  {
   "metadata": {
    "ExecuteTime": {
     "end_time": "2024-11-12T11:28:35.177989Z",
     "start_time": "2024-11-12T11:28:35.169352Z"
    }
   },
   "cell_type": "code",
   "source": [
    "import os\n",
    "import pandas as pd"
   ],
   "id": "c513cc6de7fc9a1",
   "outputs": [],
   "execution_count": 55
  },
  {
   "metadata": {},
   "cell_type": "markdown",
   "source": "",
   "id": "ba2690867f4e78"
  },
  {
   "metadata": {},
   "cell_type": "markdown",
   "source": [
    "2. Данные в `Pandas` хранятся в виде следующих структур: \n",
    "  - `Series` - одномерный массив;\n",
    "  - `DataFrame` - двумерная таблица (массив).\n",
    "* В нашем случае для последующей обработки данных удобно использовать формат `DataFrame`."
   ],
   "id": "ef205cf8c5368805"
  },
  {
   "metadata": {},
   "cell_type": "markdown",
   "source": [
    "**ПРИМЕЧАНИЕ**. Так как в файле `.gitignore` репозитория `ML01_P_Online` прописана строка, \n",
    "которая исключает `.csv` файлы из области видимости `git`, то исходные данные продублированы в `.txt` файл. \n",
    "Программный код по умолчанию загружает данные из `.csv` файла.\n",
    "Если он отсутствует - данные берутся с `.txt` файла."
   ],
   "id": "f28f5098f3e6a631"
  },
  {
   "metadata": {
    "ExecuteTime": {
     "end_time": "2024-11-12T11:28:35.204556Z",
     "start_time": "2024-11-12T11:28:35.197916Z"
    }
   },
   "cell_type": "code",
   "source": [
    "file_path = \"../data/ratings_small.csv\"\n",
    "file_path = file_path if os.path.isfile(file_path) else \"../data/ratings_small.txt\""
   ],
   "id": "ac7ea6048b0726f9",
   "outputs": [],
   "execution_count": 56
  },
  {
   "metadata": {},
   "cell_type": "markdown",
   "source": "3. Для чтения `.csv` файлов используем метод `pd.read_csv('file.csv')`. Данные сохраняем в `DataFrame` `df`.",
   "id": "57af340428abeb7e"
  },
  {
   "metadata": {
    "ExecuteTime": {
     "end_time": "2024-11-12T11:28:35.273911Z",
     "start_time": "2024-11-12T11:28:35.207891Z"
    }
   },
   "cell_type": "code",
   "source": [
    "df = pd.read_csv(file_path)\n",
    "print(f\"Файл '{file_path}' успешно импортирован.\\n\")\n",
    "print(df)"
   ],
   "id": "21767dac50bbda5f",
   "outputs": [
    {
     "name": "stdout",
     "output_type": "stream",
     "text": [
      "Файл '../data/ratings_small.csv' успешно импортирован.\n",
      "\n",
      "        userId  movieId  rating   timestamp\n",
      "0            1       31     2.5  1260759144\n",
      "1            1     1029     3.0  1260759179\n",
      "2            1     1061     3.0  1260759182\n",
      "3            1     1129     2.0  1260759185\n",
      "4            1     1172     4.0  1260759205\n",
      "...        ...      ...     ...         ...\n",
      "99999      671     6268     2.5  1065579370\n",
      "100000     671     6269     4.0  1065149201\n",
      "100001     671     6365     4.0  1070940363\n",
      "100002     671     6385     2.5  1070979663\n",
      "100003     671     6565     3.5  1074784724\n",
      "\n",
      "[100004 rows x 4 columns]\n"
     ]
    }
   ],
   "execution_count": 57
  },
  {
   "metadata": {},
   "cell_type": "markdown",
   "source": "4. Для удаления строк с пустыми значениями используем метод `df.dropna()`:",
   "id": "35ffab122f98fc"
  },
  {
   "metadata": {
    "ExecuteTime": {
     "end_time": "2024-11-12T11:28:35.308528Z",
     "start_time": "2024-11-12T11:28:35.294506Z"
    }
   },
   "cell_type": "code",
   "source": "df.dropna()",
   "id": "2050627d0ef1325f",
   "outputs": [
    {
     "data": {
      "text/plain": [
       "        userId  movieId  rating   timestamp\n",
       "0            1       31     2.5  1260759144\n",
       "1            1     1029     3.0  1260759179\n",
       "2            1     1061     3.0  1260759182\n",
       "3            1     1129     2.0  1260759185\n",
       "4            1     1172     4.0  1260759205\n",
       "...        ...      ...     ...         ...\n",
       "99999      671     6268     2.5  1065579370\n",
       "100000     671     6269     4.0  1065149201\n",
       "100001     671     6365     4.0  1070940363\n",
       "100002     671     6385     2.5  1070979663\n",
       "100003     671     6565     3.5  1074784724\n",
       "\n",
       "[100004 rows x 4 columns]"
      ],
      "text/html": [
       "<div>\n",
       "<style scoped>\n",
       "    .dataframe tbody tr th:only-of-type {\n",
       "        vertical-align: middle;\n",
       "    }\n",
       "\n",
       "    .dataframe tbody tr th {\n",
       "        vertical-align: top;\n",
       "    }\n",
       "\n",
       "    .dataframe thead th {\n",
       "        text-align: right;\n",
       "    }\n",
       "</style>\n",
       "<table border=\"1\" class=\"dataframe\">\n",
       "  <thead>\n",
       "    <tr style=\"text-align: right;\">\n",
       "      <th></th>\n",
       "      <th>userId</th>\n",
       "      <th>movieId</th>\n",
       "      <th>rating</th>\n",
       "      <th>timestamp</th>\n",
       "    </tr>\n",
       "  </thead>\n",
       "  <tbody>\n",
       "    <tr>\n",
       "      <th>0</th>\n",
       "      <td>1</td>\n",
       "      <td>31</td>\n",
       "      <td>2.5</td>\n",
       "      <td>1260759144</td>\n",
       "    </tr>\n",
       "    <tr>\n",
       "      <th>1</th>\n",
       "      <td>1</td>\n",
       "      <td>1029</td>\n",
       "      <td>3.0</td>\n",
       "      <td>1260759179</td>\n",
       "    </tr>\n",
       "    <tr>\n",
       "      <th>2</th>\n",
       "      <td>1</td>\n",
       "      <td>1061</td>\n",
       "      <td>3.0</td>\n",
       "      <td>1260759182</td>\n",
       "    </tr>\n",
       "    <tr>\n",
       "      <th>3</th>\n",
       "      <td>1</td>\n",
       "      <td>1129</td>\n",
       "      <td>2.0</td>\n",
       "      <td>1260759185</td>\n",
       "    </tr>\n",
       "    <tr>\n",
       "      <th>4</th>\n",
       "      <td>1</td>\n",
       "      <td>1172</td>\n",
       "      <td>4.0</td>\n",
       "      <td>1260759205</td>\n",
       "    </tr>\n",
       "    <tr>\n",
       "      <th>...</th>\n",
       "      <td>...</td>\n",
       "      <td>...</td>\n",
       "      <td>...</td>\n",
       "      <td>...</td>\n",
       "    </tr>\n",
       "    <tr>\n",
       "      <th>99999</th>\n",
       "      <td>671</td>\n",
       "      <td>6268</td>\n",
       "      <td>2.5</td>\n",
       "      <td>1065579370</td>\n",
       "    </tr>\n",
       "    <tr>\n",
       "      <th>100000</th>\n",
       "      <td>671</td>\n",
       "      <td>6269</td>\n",
       "      <td>4.0</td>\n",
       "      <td>1065149201</td>\n",
       "    </tr>\n",
       "    <tr>\n",
       "      <th>100001</th>\n",
       "      <td>671</td>\n",
       "      <td>6365</td>\n",
       "      <td>4.0</td>\n",
       "      <td>1070940363</td>\n",
       "    </tr>\n",
       "    <tr>\n",
       "      <th>100002</th>\n",
       "      <td>671</td>\n",
       "      <td>6385</td>\n",
       "      <td>2.5</td>\n",
       "      <td>1070979663</td>\n",
       "    </tr>\n",
       "    <tr>\n",
       "      <th>100003</th>\n",
       "      <td>671</td>\n",
       "      <td>6565</td>\n",
       "      <td>3.5</td>\n",
       "      <td>1074784724</td>\n",
       "    </tr>\n",
       "  </tbody>\n",
       "</table>\n",
       "<p>100004 rows × 4 columns</p>\n",
       "</div>"
      ]
     },
     "execution_count": 58,
     "metadata": {},
     "output_type": "execute_result"
    }
   ],
   "execution_count": 58
  },
  {
   "metadata": {},
   "cell_type": "markdown",
   "source": [
    "5. Для определения общего количества числа оценок в файле необходимо вычислить длину столбца `rating`.\n",
    "При этом нулевые значения будем отбрасывать (не учитывать).\n",
    "Для фильтрации данных используем конструкцию `df[df['rating'] > 0]`, после чего найдем длину `len` полученного `df`:"
   ],
   "id": "ead65e92e17d7ae8"
  },
  {
   "metadata": {
    "ExecuteTime": {
     "end_time": "2024-11-12T11:28:35.378537Z",
     "start_time": "2024-11-12T11:28:35.369496Z"
    }
   },
   "cell_type": "code",
   "source": "print(f\"Общее число оценок в файле: {len(df[df['rating'] > 0])}\")",
   "id": "896d2f4bb54f3d31",
   "outputs": [
    {
     "name": "stdout",
     "output_type": "stream",
     "text": [
      "Общее число оценок в файле: 100004\n"
     ]
    }
   ],
   "execution_count": 59
  },
  {
   "metadata": {},
   "cell_type": "markdown",
   "source": [
    "6. Для подсчета общего количества пользователей, поставивших оценки, необходимо вычислить количество уникальных значений в столбце `UserId`.\n",
    "Для этого используем метод `df['userId'].value_counts()` и найдем длину `len` полученного `df`:"
   ],
   "id": "3c5a7a37ea96cb5c"
  },
  {
   "metadata": {
    "ExecuteTime": {
     "end_time": "2024-11-12T11:28:35.471482Z",
     "start_time": "2024-11-12T11:28:35.464189Z"
    }
   },
   "cell_type": "code",
   "source": "print(f\"Общее число пользователей, поставивших оценки: {len(df['userId'].value_counts())}\")",
   "id": "7f0f9e1ab44d2d3b",
   "outputs": [
    {
     "name": "stdout",
     "output_type": "stream",
     "text": [
      "Общее число пользователей, поставивших оценки: 671\n"
     ]
    }
   ],
   "execution_count": 60
  },
  {
   "metadata": {},
   "cell_type": "markdown",
   "source": [
    "7. Для подсчета общего количества оцененных фильмов необходимо вычислить количество уникальных значений в столбце `movieId`.\n",
    "Для этого используем метод `df['movieId'].value_counts()` и найдем длину `len` полученного `df`:"
   ],
   "id": "be0f5f9592b05ba1"
  },
  {
   "metadata": {
    "ExecuteTime": {
     "end_time": "2024-11-12T11:28:35.562688Z",
     "start_time": "2024-11-12T11:28:35.548121Z"
    }
   },
   "cell_type": "code",
   "source": "print(f\"Общее количество оцененных фильмов: {len(df['movieId'].value_counts())}\")",
   "id": "48bc4ca1b5f923d9",
   "outputs": [
    {
     "name": "stdout",
     "output_type": "stream",
     "text": [
      "Общее количество оцененных фильмов: 9066\n"
     ]
    }
   ],
   "execution_count": 61
  },
  {
   "metadata": {},
   "cell_type": "markdown",
   "source": [
    "8. Для определения `ID` самого активного пользователя необходимо подсчитать число появлений каждого `UserID` в столбце и выбрать `UserID` с максимальным числом появлений. Для этого используем метод `df['UserID'].value_counts().idxmax()`.\n",
    "Чтобы определить, сколько оценок оставил самый активный пользователь, используем метод `df['UserID'].value_counts().max()`:"
   ],
   "id": "8d9d2879e75c2c9e"
  },
  {
   "metadata": {
    "ExecuteTime": {
     "end_time": "2024-11-12T11:28:35.628192Z",
     "start_time": "2024-11-12T11:28:35.618189Z"
    }
   },
   "cell_type": "code",
   "source": "print(f\"ID самого активного пользователя: UserId={df['userId'].value_counts().idxmax()} ({df['userId'].value_counts().max()} оценка/и/ок).\")",
   "id": "29d4dd57a342b9f4",
   "outputs": [
    {
     "name": "stdout",
     "output_type": "stream",
     "text": [
      "ID самого активного пользователя: UserId=547 (2391 оценка/и/ок).\n"
     ]
    }
   ],
   "execution_count": 62
  },
  {
   "metadata": {},
   "cell_type": "markdown",
   "source": [
    "9. Для определения `movieId`, собравшего наибольшее количество оценок, необходимо подсчитать число появлений каждого `movieId` в столбце и выбрать `movieId` с максимальным числом появлений. \n",
    "Для этого используем метод `df['movieId'].value_counts().idxmax()`.\n",
    "Чтобы определить, сколько оценок получил самый популярный фильм, используем метод `df['movieId'].value_counts().max()`:"
   ],
   "id": "303081c4facd9bc1"
  },
  {
   "metadata": {
    "ExecuteTime": {
     "end_time": "2024-11-12T11:28:35.662825Z",
     "start_time": "2024-11-12T11:28:35.647779Z"
    }
   },
   "cell_type": "code",
   "source": "print(f\"Фильм, собравший наибольшее количество оценок: movieId={df['movieId'].value_counts().idxmax()} ({df['movieId'].value_counts().max()} оценка/и/ок)).\")",
   "id": "607bd714cd4cba23",
   "outputs": [
    {
     "name": "stdout",
     "output_type": "stream",
     "text": [
      "Фильм, собравший наибольшее количество оценок: movieId=356 (341 оценка/и/ок)).\n"
     ]
    }
   ],
   "execution_count": 63
  }
 ],
 "metadata": {
  "kernelspec": {
   "display_name": "Python 3",
   "language": "python",
   "name": "python3"
  },
  "language_info": {
   "codemirror_mode": {
    "name": "ipython",
    "version": 2
   },
   "file_extension": ".py",
   "mimetype": "text/x-python",
   "name": "python",
   "nbconvert_exporter": "python",
   "pygments_lexer": "ipython2",
   "version": "2.7.6"
  }
 },
 "nbformat": 4,
 "nbformat_minor": 5
}
