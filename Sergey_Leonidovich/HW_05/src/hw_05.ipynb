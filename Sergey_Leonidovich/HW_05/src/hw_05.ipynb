{
 "cells": [
  {
   "metadata": {},
   "cell_type": "markdown",
   "source": [
    "# Homework 05\n",
    "<hr>"
   ],
   "id": "971a3ca17518de7a"
  },
  {
   "metadata": {},
   "cell_type": "markdown",
   "source": [
    "## Задание\n",
    "Основная цель задания - познакомиться с принципами ООП в ***Python***.\n",
    "\n",
    "Есть `Алфавит`, характеристиками которого являются:\n",
    "1. _Язык_;\n",
    "2. _Список букв_.\n",
    "\n",
    "Для алфавита можно:\n",
    "* напечатать все буквы алфавита;\n",
    "* посчитать количество букв.\n",
    "\n",
    "Также есть `Английский алфавит`, характеристиками которого являются:\n",
    "1. _Язык;_\n",
    "2. _Список букв;_\n",
    "3. _Количество букв._\n",
    "\n",
    "Для английского алфавита можно:\n",
    "* посчитать количество букв;\n",
    "* определить, относится ли буква к английскому алфавиту;\n",
    "* получить пример текста на английском языке."
   ],
   "id": "93bdf453d229b796"
  },
  {
   "metadata": {},
   "cell_type": "markdown",
   "source": [
    "## Описание этапов разработки программы\n",
    "<hr>\n",
    "\n",
    "* _**Для класса `Alphabet` необходимо:**_\n",
    "  - Создать класс Alphabet.\n",
    "  - Создать метод `__init__()`, внутри которого будут определены два динамических свойства:\n",
    "    + `lang` - язык;\n",
    "    + `letters` - список букв.\n",
    "    Начальные значения свойств берутся из входных параметров метода.\n",
    "  - Создать метод `print()`, который выведет в консоль буквы алфавита. \n",
    "  - Создать метод `letters_num()`, который вернет количество букв в алфавите."
   ],
   "id": "a4a7d4206bf8584"
  },
  {
   "metadata": {
    "ExecuteTime": {
     "end_time": "2024-11-14T18:48:30.674488Z",
     "start_time": "2024-11-14T18:48:30.668808Z"
    }
   },
   "cell_type": "code",
   "source": [
    "import string\n",
    "\n",
    "\n",
    "class Alphabet:\n",
    "\n",
    "    # All objects in class\n",
    "    __alphabets = list()\n",
    "\n",
    "    def __init__(self, language: str, letters: list):\n",
    "        \"\"\"\n",
    "        Constructor: create object of class Alphabet.\n",
    "        :param language: language (str);\n",
    "        :param letters: list of letters for current language (list).\n",
    "        \"\"\"\n",
    "        # Add properties\n",
    "        self.__language = language\n",
    "        self.__letters = letters\n",
    "\n",
    "        # Add item to list of all class objects\n",
    "        self.__class__.__alphabets.append(self.__language)\n",
    "\n",
    "    def __del__(self):\n",
    "        \"\"\" Destructor \"\"\"\n",
    "        # Remove item from list of all class objects\n",
    "        self.__class__.__alphabets.remove(self.__language)\n",
    "\n",
    "    def __str__(self) -> str:\n",
    "        \"\"\" View for object, when use str() method \"\"\"\n",
    "        return f\"{self.__language}\"\n",
    "\n",
    "    def __repr__(self) -> str:\n",
    "        return self.__str__()\n",
    "\n",
    "    @classmethod\n",
    "    def get_all_alphabet(cls) -> list:\n",
    "        \"\"\" Get lisf of all class objects \"\"\"\n",
    "        return cls.__alphabets\n",
    "\n",
    "    @property\n",
    "    def language(self) -> str:\n",
    "        return self.__language\n",
    "\n",
    "    @property\n",
    "    def letters(self) -> list:\n",
    "        return self.__letters\n",
    "\n",
    "    def print_letters(self) -> None:\n",
    "        \"\"\" Display all letters in alphabet \"\"\"\n",
    "        print(f\"Буквы '{self.__language}' алфавита: {''.join(self.__letters)}.\")\n",
    "\n",
    "    def letters_num(self) -> int:\n",
    "        \"\"\" Get number of letters in alphabet \"\"\"\n",
    "        return len(self.__letters)"
   ],
   "id": "73f4fe5f5d9805cb",
   "outputs": [],
   "execution_count": 58
  },
  {
   "metadata": {},
   "cell_type": "markdown",
   "source": [
    "+ _**Для класса `EngAlphabet` необходимо:**_\n",
    "  - Создать класс `EngAlphabet` путем наследования от класса `Alphabet`.\n",
    "  - Создать метод `__init__()`, внутри которого будет вызываться родительский метод `__init__()`. \n",
    "    В качестве параметров ему будут передаваться обозначение языка (например, _'En'_) и строка, \n",
    "состоящая из всех букв алфавита (можно воспользоваться свойством `ascii_uppercase` из модуля `string`).\n",
    "  - Добавить приватное статическое свойство `__letters_num`, которое будет хранить количество букв в алфавите.\n",
    "  - Создать метод `is_en_letter()`, который будет принимать букву в качестве параметра и определять, относится ли эта буква к английскому алфавиту.\n",
    "  - Переопределить метод `letters_num()` - пусть в текущем классе он будет возвращать значение свойства `__letters_num`.\n",
    "  - Создать статический метод `example()`, который будет возвращать пример текста на английском языке.\n"
   ],
   "id": "e1ddc2bec3f997a4"
  },
  {
   "metadata": {
    "ExecuteTime": {
     "end_time": "2024-11-14T18:48:30.694126Z",
     "start_time": "2024-11-14T18:48:30.688687Z"
    }
   },
   "cell_type": "code",
   "source": [
    "class EngAlphabet(Alphabet):\n",
    "    \n",
    "    def __init__(self, language: str, letters: str):\n",
    "        \"\"\"\n",
    "        Constructor: create object of class EngAlphabet.\n",
    "        :param language: language (str);\n",
    "        :param letters: letters for current language (str).\n",
    "        \"\"\"\n",
    "        # Call parent class __init__() method\n",
    "        super().__init__(language=language, letters=[letter for letter in letters])\n",
    "        # Add new property for this class\n",
    "        self.__letters_num = len(self.letters)\n",
    "\n",
    "    def __del__(self):\n",
    "        \"\"\" Destructor \"\"\"\n",
    "        super().__del__()\n",
    "        ...\n",
    "\n",
    "    def is_en_letter(self, letter: str) -> bool:\n",
    "        \"\"\"\n",
    "        Checks whether a character belongs to the given alphabet\n",
    "        :param letter: character (str);\n",
    "        :return: True or False (boolean).\n",
    "        \"\"\"\n",
    "        return True if letter.lower() in self.letters else False\n",
    "\n",
    "    # Override parent method\n",
    "    def letters_num(self) -> int:\n",
    "        \"\"\" Get number of letters in alphabet \"\"\"\n",
    "        return self.__letters_num\n",
    "\n",
    "    @staticmethod\n",
    "    def example() -> str:\n",
    "        \"\"\" Return text example \"\"\"\n",
    "        return \"Example of simple english language text\""
   ],
   "id": "25423a4be6b09ccb",
   "outputs": [],
   "execution_count": 59
  },
  {
   "metadata": {},
   "cell_type": "markdown",
   "source": [
    "## Тестирование работы программного кода\n",
    "<hr>\n",
    "\n",
    "   - Создаем объект класса EngAlphabet."
   ],
   "id": "f00ab909beb1a699"
  },
  {
   "metadata": {
    "ExecuteTime": {
     "end_time": "2024-11-14T18:48:30.713533Z",
     "start_time": "2024-11-14T18:48:30.708840Z"
    }
   },
   "cell_type": "code",
   "source": [
    "en = EngAlphabet(language=\"EN\", letters=string.ascii_lowercase)\n",
    "print(f\"Алфавит: '{en}'.\")"
   ],
   "id": "39fd44e4d4e7c1c4",
   "outputs": [
    {
     "name": "stdout",
     "output_type": "stream",
     "text": [
      "Алфавит: 'EN'.\n"
     ]
    }
   ],
   "execution_count": 60
  },
  {
   "metadata": {},
   "cell_type": "markdown",
   "source": "- Печатаем буквы алфавита для этого объекта;",
   "id": "885d3d81ab1026e0"
  },
  {
   "metadata": {
    "ExecuteTime": {
     "end_time": "2024-11-14T18:48:30.754943Z",
     "start_time": "2024-11-14T18:48:30.750510Z"
    }
   },
   "cell_type": "code",
   "source": "en.print_letters()",
   "id": "73810949d80af8f5",
   "outputs": [
    {
     "name": "stdout",
     "output_type": "stream",
     "text": [
      "Буквы 'EN' алфавита: abcdefghijklmnopqrstuvwxyz.\n"
     ]
    }
   ],
   "execution_count": 61
  },
  {
   "metadata": {},
   "cell_type": "markdown",
   "source": [
    "    \n",
    "   - Выводим количество букв в алфавите:"
   ],
   "id": "a67ff268d0425c93"
  },
  {
   "metadata": {
    "ExecuteTime": {
     "end_time": "2024-11-14T18:48:30.801560Z",
     "start_time": "2024-11-14T18:48:30.796404Z"
    }
   },
   "cell_type": "code",
   "source": "print(f\"Число букв в '{en.language}' алфавите: {en.letters_num()}.\")",
   "id": "6090e2f690bf5b8b",
   "outputs": [
    {
     "name": "stdout",
     "output_type": "stream",
     "text": [
      "Число букв в 'EN' алфавите: 26.\n"
     ]
    }
   ],
   "execution_count": 62
  },
  {
   "metadata": {},
   "cell_type": "markdown",
   "source": "   - Проверим, относится ли буква _F_ к английскому алфавиту.",
   "id": "ca538c7b129690f9"
  },
  {
   "metadata": {
    "ExecuteTime": {
     "end_time": "2024-11-14T18:48:30.839531Z",
     "start_time": "2024-11-14T18:48:30.834993Z"
    }
   },
   "cell_type": "code",
   "source": [
    "test_letter = \"F\"\n",
    "print(\"Буква '{0}' {1} к английскому алфавиту.\".format(test_letter,\n",
    "                                                    (\"относится\" if en.is_en_letter(test_letter) else\n",
    "                                                     \"не относится\")))"
   ],
   "id": "7e76d82ac5b409b7",
   "outputs": [
    {
     "name": "stdout",
     "output_type": "stream",
     "text": [
      "Буква 'F' относится к английскому алфавиту.\n"
     ]
    }
   ],
   "execution_count": 63
  },
  {
   "metadata": {},
   "cell_type": "markdown",
   "source": "- Проверим, относится ли буква _Щ_ к английскому алфавиту.",
   "id": "98a295ea490ae3f4"
  },
  {
   "metadata": {
    "ExecuteTime": {
     "end_time": "2024-11-14T18:48:30.872710Z",
     "start_time": "2024-11-14T18:48:30.868199Z"
    }
   },
   "cell_type": "code",
   "source": [
    "test_letter = \"Щ\"\n",
    "print(\"Буква '{0}' {1} к английскому алфавиту.\".format(test_letter,\n",
    "                                                    (\"относится\" if en.is_en_letter(test_letter) else\n",
    "                                                     \"не относится\")))"
   ],
   "id": "4e66c40c2fd00bcd",
   "outputs": [
    {
     "name": "stdout",
     "output_type": "stream",
     "text": [
      "Буква 'Щ' не относится к английскому алфавиту.\n"
     ]
    }
   ],
   "execution_count": 64
  },
  {
   "metadata": {},
   "cell_type": "markdown",
   "source": "- Выведем пример текста на английском языке.",
   "id": "35001786b0035f32"
  },
  {
   "metadata": {
    "ExecuteTime": {
     "end_time": "2024-11-14T18:48:30.985426Z",
     "start_time": "2024-11-14T18:48:30.980718Z"
    }
   },
   "cell_type": "code",
   "source": "print(f\"Пример текста: '{EngAlphabet.example()}'.\")",
   "id": "d2aa9a7e9b4eb99b",
   "outputs": [
    {
     "name": "stdout",
     "output_type": "stream",
     "text": [
      "Пример текста: 'Example of simple english language text'.\n"
     ]
    }
   ],
   "execution_count": 65
  }
 ],
 "metadata": {
  "kernelspec": {
   "display_name": "Python 3",
   "language": "python",
   "name": "python3"
  },
  "language_info": {
   "codemirror_mode": {
    "name": "ipython",
    "version": 2
   },
   "file_extension": ".py",
   "mimetype": "text/x-python",
   "name": "python",
   "nbconvert_exporter": "python",
   "pygments_lexer": "ipython2",
   "version": "2.7.6"
  }
 },
 "nbformat": 4,
 "nbformat_minor": 5
}
