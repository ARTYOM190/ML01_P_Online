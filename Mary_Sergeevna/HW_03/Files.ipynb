{
 "cells": [
  {
   "cell_type": "markdown",
   "metadata": {},
   "source": [
    "# Домашнее задание №3"
   ]
  },
  {
   "cell_type": "markdown",
   "metadata": {},
   "source": [
    "#### Текст домашнего задания"
   ]
  },
  {
   "cell_type": "markdown",
   "metadata": {},
   "source": [
    "1. Загрузить файл длиной не менее 2000 символов.\n",
    "2. Составить программу, которая считает число уникальных слов в тексте (без критерия схожести).\n",
    "3. Составить программу, которая считает число гласных и согласных букв. \n",
    "4. Составить программу, которая считает число предложений, их длину (число слов) и число (количество) раз использования каждого слова в тексте с критерием схожести (критерий схожести слов выбрать самостоятельно, например, spacy (en_core_web_sm) или расстояние Левенштейна).\n",
    "5. Вывести 10 наиболее часто встречаемых слов.\n",
    "\n",
    "*p.s. Рекомендую перед решением задания проанализировать задачу и обосновать алгоритм ее решения в текстовом виде. В процессе написания кода использовать комментарии.*"
   ]
  },
  {
   "cell_type": "markdown",
   "metadata": {},
   "source": [
    "#### Цель задания"
   ]
  },
  {
   "cell_type": "markdown",
   "metadata": {},
   "source": [
    "Обучение работе с файлами. Анализ файла. Изучение критериев схожести."
   ]
  },
  {
   "cell_type": "markdown",
   "metadata": {},
   "source": [
    "#### Анализ задания\n"
   ]
  },
  {
   "cell_type": "markdown",
   "metadata": {},
   "source": [
    "Основные этапы выполнения задания:\n",
    "1. Проверка наличия файла с заданным параметром длинны и его загрузка.\n",
    "2. Предобработка текста для дальнейшей работы (приведение текста к нижнему регистру, очистка текста от знаков пунктуации). Определение количества уникальных слов в отредактированном тексте.\n",
    "3. Определение количества гласных и согласных букв.\n",
    "4. Подсчёт предложений и их длины с помощью токенизации в spaCy. Подсчёт количества раз использования каждого слова с критерием схожести с помощью лемматизации и библиотеки стоп-слов из spaCy.  \n",
    "В spacy есть функции для токенизации, лемматизации, библиотека стоп-слов.  \n",
    "    - Токенизация - разбиение фразы, предложения, абзаца или всего текста на более мелкие единицы - токены.  \n",
    "    - Лемматизация - поиск корней слов (лемм) в соответствие со словарём и преобразование слова в его базовую форму (если она есть в словаре).  \n",
    "    - Стоп-слова - часто встречающиеся слова, которые не несут значимой информации.  \n",
    "5. Вывод наиболее часто встречаемых слов в обработанном документе."
   ]
  },
  {
   "cell_type": "markdown",
   "metadata": {},
   "source": [
    "#### Решение домашнего задания"
   ]
  },
  {
   "cell_type": "markdown",
   "metadata": {},
   "source": [
    "#### 1. Импорт необходимых для работы модулей. "
   ]
  },
  {
   "cell_type": "code",
   "execution_count": 1,
   "metadata": {},
   "outputs": [],
   "source": [
    "import string # констаны и функции для работы со строками\n",
    "import spacy # библиотека для анализа текстов, предоставляет инструменты для работы с текстами ()\n",
    "from collections import Counter # счётчик"
   ]
  },
  {
   "cell_type": "markdown",
   "metadata": {},
   "source": [
    "#### 2. Объявение переменных для последующих тестов функций."
   ]
  },
  {
   "cell_type": "code",
   "execution_count": 2,
   "metadata": {},
   "outputs": [],
   "source": [
    "if __name__ == '__main__':\n",
    "    link_empty_file = 'data/Empty.txt' # пустой файл\n",
    "    link_none = 'data/None.txt' # файл отсутствует\n",
    "    link_short_file = 'data/Short.txt' # короткий файл\n",
    "    link_good_file = 'data/Henry_After_Twenty_Years.txt' # подходящий файл\n",
    "    link_good_file_2 = 'data/Charlie_and_the_Chocolate_Factory.txt' # 2ой подходящий файл\n",
    "    length = 2000\n",
    "    links = link_short_file, link_empty_file, link_good_file, link_good_file_2, link_none\n",
    "    # чтобы позже получить список ссылок на файлы, которые соответсвуют заданию"
   ]
  },
  {
   "cell_type": "markdown",
   "metadata": {},
   "source": [
    "#### 3. Функция загрузки и проверки файла на соответствие условию домашнего задания."
   ]
  },
  {
   "cell_type": "code",
   "execution_count": 3,
   "metadata": {},
   "outputs": [],
   "source": [
    "def check_file(link_check: str, length_check: int):\n",
    "    \"\"\"\n",
    "    Функция проверяет наличие файла в папке и его соответствие заданной длине.\n",
    "    Закрывает за собой файл.\n",
    "    Args:\n",
    "        link_check (str): ссылка на файл.\n",
    "        length_check (int): минимальное количество символов внутри файла для продолжения работы с ним.\n",
    "    Returns tuple, состоящий из:\n",
    "        str: строка, информирующая о результате проверки, при проваленной проверке.\n",
    "        check (int): параметр успешности проверки, 0 - провалена, 1 - пройдена.\n",
    "        content (str): при успешной проверке, возвращаем содержимое файла.  \n",
    "    \"\"\"\n",
    "    try:\n",
    "        with open(link_check, 'r', encoding='utf-8') as file_check: # открываем файл по ссылке\n",
    "            file_text = file_check.read() # забираем содержимое файла\n",
    "        file_check.close # закрываем файл\n",
    "        symbols = len(file_text) # считаем количество символов\n",
    "        if symbols == 0: # проверяем не пустой ли файл\n",
    "            check = 0\n",
    "            return f'Указанный файл {link_check} пуст. Выберите другой файл, длинной не менее {length_check} символов.', check\n",
    "        elif symbols < length_check: # проверяем соответсвие количества символов заданному значению\n",
    "            check = 0\n",
    "            return f'Файл не соответствует заданию. Выберите другой файл, длинной не менее {length_check} символов.', check\n",
    "        else:\n",
    "            check = 1 # успешая проверка\n",
    "            return file_text, check\n",
    "    except FileNotFoundError: # ловим ошибку отсутствия файла в папке\n",
    "        check = 0\n",
    "        return f'При открытии файла произошла ошибка: указанного файла нет в директории.', check\n",
    "    except Exception as unexpected_error:  # Ловим другие возможные ошибки\n",
    "        check = 0\n",
    "        return f'Произошла ошибка: {unexpected_error}', check"
   ]
  },
  {
   "cell_type": "markdown",
   "metadata": {},
   "source": [
    "#### Тест функции check_file."
   ]
  },
  {
   "cell_type": "code",
   "execution_count": 4,
   "metadata": {},
   "outputs": [
    {
     "name": "stdout",
     "output_type": "stream",
     "text": [
      "Файл не соответствует заданию. Выберите другой файл, длинной не менее 2000 символов.\n",
      "\n",
      "Указанный файл data/Empty.txt пуст. Выберите другой файл, длинной не менее 2000 символов.\n",
      "\n",
      "THE POLICEMAN ON the beat moved up the avenue impressively. The impressiveness was habitual and not \n",
      "\n",
      "There are five children in this book:\n",
      "AUGUSTUS GLOOP A greedy boy\n",
      "VERUCA SALT A girl who is spoiled \n",
      "\n",
      "При открытии файла произошла ошибка: указанного файла нет в директории.\n",
      "\n"
     ]
    }
   ],
   "source": [
    "if __name__ == '__main__':\n",
    "    checked_texts = []\n",
    "    for i in links:\n",
    "        print(check_file(i, length)[0][:100] + '\\n') # отобразим первые 100 символов файла (если там файл), чтобы не грузить вывод\n",
    "        if check_file(i, length)[1] == 1:\n",
    "            checked_texts.append(check_file(i, length)[0]) # список, проверенных текстов"
   ]
  },
  {
   "cell_type": "markdown",
   "metadata": {},
   "source": [
    "#### 4. Функция предобработки текста."
   ]
  },
  {
   "cell_type": "code",
   "execution_count": 5,
   "metadata": {},
   "outputs": [],
   "source": [
    "def text_preprocessing(file_text: str):\n",
    "    \"\"\"\n",
    "    Функция приводит все буквы в тексте к нижнему регистру.\n",
    "    Удаляет все символы из перечня !\"#$%&'()*+,-./:;<=>?@[]^_`{|}~0123456789“”‘’…«»—\\\n",
    "    Args:\n",
    "        file_text (str): текст файла, для предобработки\n",
    "    Returns:\n",
    "        file_text (str): обработанный текст\n",
    "    \"\"\"\n",
    "    file_text = file_text.lower() # приводим текст к нижнему регистру\n",
    "    marks = string.punctuation + string.digits + '“”‘’…«»—' # собираем все символы, которые хотим убрать из текста\n",
    "    for i in marks:\n",
    "        file_text = file_text.replace(i, ' ') # проходим по тексту и заменяем символы пробелами\n",
    "    return file_text"
   ]
  },
  {
   "cell_type": "markdown",
   "metadata": {},
   "source": [
    "#### 4.* Была задумка усложнить, но слишком много случаев, которые попробуй ещё предусмотри"
   ]
  },
  {
   "cell_type": "markdown",
   "metadata": {},
   "source": [
    "_text = text.replace(\"'ve\", \" have\")_  \n",
    "_text = text.replace(\"n't\", \" not\")_  \n",
    "_text = text.replace(\"'m\", \" am\")_  \n",
    "_text = text.replace(\"'ll\", \" will\")_  \n",
    "_text = text.replace(\"'re\", \" are\")_  \n",
    "_text = text.replace(\"d'you\", \"do you\")_  \n",
    "_text = text.replace(\"it's\", \"it is\") #'s может быть ещё и has, для упрощения приведём к is_  \n",
    "_text = text.replace(\"that's\", \"that is\") #'s может быть ещё и has, для упрощения приведём к is_  \n",
    "_text = text.replace(\"here's\", \"here is\") #'s может быть ещё и has, для упрощения приведём к is_  \n",
    "_text = text.replace(\"'d\", \" had\") #'d может быть ещё и would, и should, для упрощения приведём к had_  "
   ]
  },
  {
   "cell_type": "markdown",
   "metadata": {},
   "source": [
    "#### Тест функции text_preprocessing."
   ]
  },
  {
   "cell_type": "code",
   "execution_count": 6,
   "metadata": {},
   "outputs": [
    {
     "name": "stdout",
     "output_type": "stream",
     "text": [
      "the policeman on the beat moved up the avenue impressively  the impressiveness was habitual and not  ...\n",
      "\n",
      "there are five children in this book \n",
      "augustus gloop a greedy boy\n",
      "veruca salt a girl who is spoiled  ...\n",
      "\n"
     ]
    }
   ],
   "source": [
    "if __name__ == '__main__':\n",
    "    preprocessing_texts = []\n",
    "    for i in checked_texts:\n",
    "        print(text_preprocessing(i)[:100] + ' ...\\n')\n",
    "        preprocessing_texts.append(text_preprocessing(i)) # список с предобработанными текстами"
   ]
  },
  {
   "cell_type": "markdown",
   "metadata": {},
   "source": [
    "#### 5. Функция опеделения и подсчёта уникальных слов."
   ]
  },
  {
   "cell_type": "code",
   "execution_count": 7,
   "metadata": {},
   "outputs": [],
   "source": [
    "def unique_words_in_text(file_text: str):\n",
    "    \"\"\"\n",
    "    Функция определяет уникальные слова, с помощью множества и считает их.\n",
    "    Args:\n",
    "        file_text (str): текст, в котором необходимо подсчитать количество уникальных слов.\n",
    "    Returns:\n",
    "        int: число уникальных слов в тексте.\n",
    "    \"\"\"\n",
    "    words = file_text.split() # получаем все слова в список, разделяя текст по пробелам\n",
    "    unique_words = set(words) # с помощью особенности типа set хранить уникальные объекты, находим все уникальные слова в тексте\n",
    "    return len(unique_words), unique_words # функией len получаем количество уникальных слов"
   ]
  },
  {
   "cell_type": "markdown",
   "metadata": {},
   "source": [
    "#### Тест функции unique_words_in_text"
   ]
  },
  {
   "cell_type": "code",
   "execution_count": 8,
   "metadata": {},
   "outputs": [
    {
     "name": "stdout",
     "output_type": "stream",
     "text": [
      "314\n",
      "{'business', 'oddly', 'twirling', 'eighteen', 'plodder', 'time', 'west', 'did', 'thoroughfare', 'edge', 'parted', 'three', 'some', 'compete', 'what', 'majority', 'took', 'd', 'an', 'raised', 'worth', 'midway', 'cigar', 'each', 'partner', 'few', 'after', 'next', 'has', 'finest', 'fortunes', 'stalwart', 'handsome', 'left', 'or', 'pretty', 'make', 'mouth', 'ago', 'proposition', 'went', 'of', 'hardware', 'out', 'again', 'certain', 'have', 'scarf', 'belonged', 'watch', 'near', 'york', 'jawed', 'staunchest', 'show', 'made', 'two', 'chum', 'lids', 'agreed', 'minutes', 'peace', 'bet', 'white', 'fortune', 'diamonds', 'doors', 'the', 'get', 'interesting', 'like', 'seems', 'me', 'large', 'walked', 'restaurant', 'year', 'twenty', 'corresponded', 'would', 'is', 'where', 'eye', 'door', 'no', 'place', 'pile', 'friend', 'darkened', 'come', 'man', 'not', 'many', 'step', 'since', 'explain', 'artful', 'fine', 'thought', 't', 'good', 'old', 'conditions', 'just', 'it', 'for', 'little', 'watchful', 'ten', 'brady', 'fellow', 'cast', 'exactly', 'always', 'unlighted', 'habitual', 'a', 'about', 'streets', 'chap', 'around', 'one', 'picture', 'miles', 'my', 'start', 'from', 'brothers', 'pulled', 'on', 'twirled', 'at', 'said', 'struck', 'us', 'i', 'kind', 'turning', 'he', 'them', 'leaned', 'movements', 'all', 'depeopled', 'date', 'figured', 'wind', 'be', 'came', 'block', 'square', 'suddenly', 'stand', 'form', 'eyebrow', 'kept', 'will', 's', 'walk', 'we', 'ought', 'down', 'put', 'dined', 'pale', 'doesn', 'half', 'but', 'new', 'up', 'impressiveness', 'asked', 'see', 'truest', 'matter', 'impressively', 'announced', 'only', 'lunch', 'swagger', 'whatever', 'gusts', 'know', 'slight', 'that', 'eyes', 'pacific', 'match', 'policeman', 'early', 'night', 'meets', 'had', 'club', 'quickly', 'there', 'razor', 'clock', 'pin', 'moved', 'diamond', 'showed', 'earth', 'reassuringly', 'straight', 'o', 'until', 'torn', 'doorway', 'light', 'as', 'in', 'they', 'keen', 'groove', 'though', 'funny', 'used', 'spectators', 'hours', 'places', 'hustling', 'lights', 'wits', 'him', 'face', 'haven', 'sharpest', 'lively', 'over', 'wells', 'barely', 'set', 'big', 'gets', 'done', 'small', 'joe', 'guardian', 'best', 'nigh', 'alive', 'years', 'taste', 'our', 'world', 'then', 'counter', 'forget', 'might', 'officer', 'll', 'slowed', 'closed', 'tonight', 'to', 'worked', 'distance', 'beat', 'lost', 'appointment', 'and', 'dragged', 've', 'long', 'between', 'now', 'were', 'avenue', 'if', 'well', 'lit', 'stands', 'waiting', 'adown', 'you', 'yes', 'here', 'your', 'heard', 'chilly', 'with', 'jimmy', 'together', 'turns', 'scar', 'takes', 'm', 'five', 'destiny', 'morning', 'spoke', 'couldn', 'other', 'his', 'track', 'going', 'been', 'trying', 'thousand', 'store', 'meet', 'rather', 'was', 'rain', 'vicinity', 'when', 'right', 'didn', 'hope', 'this', 'never', 'sounds', 'intricate'}\n",
      "1765\n",
      "{'mustn', 'waving', 'higher', 'decided', 'tremendous', 'dream', 'toy', 'greatest', 'her', 'did', 'mischief', 'climbing', 'directly', 'having', 'into', 'some', 'shown', 'desperate', 'leaping', 'speed', 'lightly', 'bread', 'walking', 'feel', 'interested', 'stopping', 'each', 'cigars', 'wouldn', 'charlie', 'marvellously', 'snapped', 'teavee', 'shoulders', 'within', 'flash', 'slow', 'sky', 'called', 'oh', 'printed', 'creamier', 'true', 'mouth', 'fed', 'ago', 'behave', 'fair', 'went', 'brush', 'should', 'tip', 'polish', 'can', 'beauregarde', 'pausing', 'who', 'newspapers', 'button', 'spoils', 'silver', 'glasses', 'paces', 'patient', 'soon', 'amazing', 'began', 'minutes', 'george', 'lifetime', 'joke', 'voice', 'bitter', 'squeeze', 'lift', 'fling', 'screen', 'knife', 'seizing', 'gorgeous', 'sticking', 'whole', 'arms', 'glass', 'leg', 'me', 'ahead', 'growing', 'nose', 'shelling', 'cleverest', 'year', 'whispered', 'speaker', 'steel', 'late', 'give', 'once', 'hard', 'knows', 'is', 'spies', 'pushing', 'eye', 'ranger', 'shiny', 'praise', 'place', 'stood', 'skinny', 'machine', 'papers', 'summertime', 'jumped', 'man', 'rounds', 'hip', 'expensive', 'apple', 'even', 'chuckling', 'fudgemallow', 'sang', 'yippeeeeeeeeee', 'laid', 'confectionery', 'fumbled', 'treasure', 'chewer', 'various', 'nothing', 'bar', 'softly', 'collapsing', 'wanted', 'sort', 'arguing', 'think', 'comes', 'home', 'fools', 'shopkeeper', 'measure', 'spanking', 'sleeve', 'wait', 'little', 'pump', 'played', 'across', 'tubes', 'knee', 'worker', 'loud', 'calm', 'ladylike', 'tired', 'led', 'helping', 'forgotten', 'thinner', 'interrupt', 'headlines', 'past', 'disappointment', 'streets', 'extremely', 'tried', 'another', 'ceilings', 'february', 'mornings', 'my', 'still', 'chews', 'start', 'letter', 'laps', 'stick', 'intrigue', 'perfect', 'pop', 'thinking', 'unfortunately', 'pulled', 'russe', 'on', 'poking', 'women', 'sleep', 'purse', 'crazy', 'children', 'pink', 'everybody', 'gum', 'folds', 'turning', 'birds', 'them', 'listen', 'group', 'eat', 'arrived', 'scene', 'forth', 'hey', 'feels', 'guns', 'kinds', 'evening', 'black', 'interest', 'thinness', 'dig', 'miserably', 'sheet', 'sonny', 'ball', 'maybe', 'go', 'expecting', 'hadn', 'we', 'mud', 'smashed', 'bother', 'crouching', 'hungrier', 'clevernesses', 'nodding', 'times', 'curious', 'suspense', 'love', 'scrumptious', 'its', 'half', 'examine', 'willy', 'running', 'perfectly', 'spree', 'rid', 'new', 'pyjamas', 'breath', 'first', 'asked', 'wrapping', 'dirty', 'towards', 'held', 'creamy', 'announced', 'expected', 'crackly', 'run', 'prince', 'heavens', 'week', 'felt', 'lunch', 'whatever', 'she', 'knuckledusters', 'actually', 'please', 'third', 'take', 'reporter', 'sell', 'had', 'okay', 'spend', 'furniture', 'quickly', 'frantically', 'softens', 'tortured', 'huge', 'weeks', 'very', 'gone', 'glued', 'clock', 'quiet', 'sweeter', 'violets', 'single', 'quarter', 'kids', 'o', 'surely', 'cheers', 'excite', 'maker', 'visitors', 'soup', 'story', 'finder', 'spent', 'wants', 'vowed', 'mink', 'keen', 'funny', 'appearance', 'watching', 'empty', 'bring', 'room', 'tell', 'leave', 'face', 'sudden', 'anywhere', 'searching', 'bite', 'impossible', 'spluttered', 'aware', 'same', 'centre', 'evenings', 'invented', 'quick', 'shocking', 'father', 'town', 'shall', 'dotty', 'winter', 'trucks', 'excitement', 'bank', 'violet', 'cabbagy', 'than', 'grandpa', 'got', 'toothpaste', 'gold', 'arm', 'fantastic', 'smoothing', 'head', 'piggy', 'loudly', 'then', 'll', 'magic', 'expose', 'none', 'frighteningly', 'marshmallows', 'afraid', 'spot', 'vital', 'yippeeeeee', 'youth', 'hated', 'earn', 'allow', 'gale', 'such', 'distance', 'stationery', 'fast', 'prodnose', 'their', 'four', 'why', 'everything', 'bunch', 'money', 'whenever', 'coloured', 'terribly', 'word', 'sold', 'lie', 'somewhere', 'gobble', 'furthest', 'ah', 'through', 'revolting', 'craning', 'cleared', 'between', 'january', 'inventions', 'tightly', 'now', 'nowadays', 'remember', 'pictures', 'fire', 'well', 'lit', 'luck', 'seven', 'wish', 'hunting', 'great', 'motionless', 'linked', 'bust', 'filled', 'smiled', 'pennies', 'balloons', 'waiting', 'glimpse', 'adore', 'crammed', 'freezing', 'peanut', 'your', 'heard', 'dayi', 'iron', 'miss', 'together', 'bicycle', 'pumping', 'turned', 'm', 'city', 'takes', 'pressed', 'look', 'boys', 'told', 'spoke', 'deep', 'sun', 'couldn', 'gave', 'lone', 'locked', 'pockets', 'indeed', 'workers', 'before', 'tummy', 'hope', 'outdoors', 'holders', 'aloud', 'icy', 'warmly', 'body', 'pushed', 'awfully', 'eatables', 'blissful', 'rubbing', 'await', 'whizzing', 'despicable', 'sounds', 'dozing', 'bulletin', 'lovingly', 'wanting', 'fully', 'both', 'entirely', 'tummies', 'mrs', 'post', 'nibbled', 'bars', 'clustering', 'carpets', 'later', 'surprises', 'darling', 'penny', 'begun', 'fickelgruber', 'powerful', 'chew', 'grabbed', 'gates', 'saying', 'mothers', 'd', 'luscious', 'an', 'grandmothers', 'those', 'shining', 'rubber', 'belts', 'bedclothes', 'pleased', 'blown', 'few', 'pulling', 'after', 'next', 'free', 'gutter', 'figure', 'deal', 'has', 'visit', 'wildest', 'left', 'truth', 'goodness', 'propped', 'rusty', 'safekeeping', 'josephine', 'procession', 'decide', 'of', 'taps', 'out', 'again', 'husband', 'veruca', 'pointed', 'nobody', 'taxi', 'entire', 'dear', 'yelled', 'breakfast', 'outside', 'department', 'sure', 'tear', 'indian', 'wrestled', 'smashing', 'blew', 'aren', 'wolfing', 'thumping', 'enormously', 'knock', 'handed', 'trembling', 'thousands', 'looks', 'lives', 'fake', 'somebody', 'jobs', 'find', 'hand', 'baby', 'hanging', 'terrific', 'opened', 'months', 'seems', 'usually', 'sadly', 'beginning', 'person', 'spare', 'coming', 'pandemonium', 'shrivelled', 'lovely', 'addressed', 'eggs', 'hooligan', 'faint', 'balloon', 'nibble', 'child', 'buying', 'anyone', 'shielded', 'kings', 'warning', 'girl', 'worse', 'door', 'by', 'flashing', 'collars', 'belching', 'move', 'disappointed', 'come', 'bent', 'tipped', 'stays', 'dears', 'foulbody', 'watery', 'finished', 'work', 'makes', 'swallowing', 'factory', 'piled', 'whateveryou', 'quite', 'are', 'wild', 'sit', 'beds', 'ice', 'thought', 'trap', 'neck', 'really', 'coats', 'old', 'newspaper', 'mysterious', 'just', 'disturbing', 'hammered', 'for', 'strange', 'fell', 'clatter', 'leather', 'ten', 'beside', 'sometimes', 'swing', 'whose', 'cheeks', 'recipes', 'about', 'mob', 'one', 'street', 'secrets', 'watched', 'guest', 'yippeeeeeeee', 'frosted', 'treasured', 'claimed', 'bright', 'winner', 'become', 'upon', 'hero', 'off', 'supper', 'serious', 'kindly', 'neither', 'torturing', 'kind', 'faces', 'friendly', 'bulged', 'appetite', 'away', 'behind', 'truck', 'pillows', 'nice', 'whiz', 'chain', 'whom', 'rushed', 'solid', 'ravenously', 'came', 'upside', 'charlotte', 'mystic', 'cruel', 'flew', 'stand', 'needed', 'till', 'hinges', 'holiday', 'bear', 'pretending', 'muttered', 'pouring', 'stepped', 'occasion', 'break', 'meals', 'else', 'buckets', 'wisdom', 'smoke', 'million', 'stretched', 'gooey', 'top', 'but', 'yours', 'pistols', 'doing', 'dressed', 'up', 'bowl', 'lifted', 'see', 'hold', 'matter', 'bit', 'crunching', 'don', 'disappeared', 'gloop', 'yanking', 'fluster', 'sank', 'something', 'touched', 'ordinary', 'more', 'tour', 'warn', 'agree', 'beyond', 'that', 'meant', 'ever', 'fit', 'whisper', 'along', 'early', 'water', 'full', 'sweet', 'brilliant', 'begins', 'isn', 'knew', 'watering', 'hoard', 'makers', 'raising', 'greedily', 'moved', 'astonishing', 'whirring', 'shadows', 'straight', 'brown', 'everyone', 'sugary', 'mike', 'making', 'anything', 'moment', 'in', 'munching', 'standing', 'boiling', 'ring', 'which', 'glint', 'lights', 'dreadful', 'walls', 'spread', 'serving', 'also', 'dance', 'chocolates', 'ripping', 'inventor', 'coin', 'oldest', 'supplied', 'automatically', 'fathers', 'doubtful', 'over', 'talking', 'glistening', 'morsels', 'done', 'want', 'tiny', 'longer', 'sad', 'supply', 'small', 'cheek', 'prinzmetel', 'joe', 'wrote', 'ourselves', 'promise', 'heads', 'fixed', 'machines', 'dough', 'nor', 'gazing', 'spoiling', 'bricks', 'nine', 'results', 'six', 'legs', 'eating', 'hour', 'deserves', 'closed', 'tonight', 'scientist', 'to', 'worked', 'rest', 'factories', 'cream', 'lost', 'and', 'wide', 'prevent', 'silvery', 'flavour', 'blue', 'high', 'household', 'balancing', 'classroom', 'ran', 'possible', 'television', 'dangerously', 'if', 'inside', 'surprise', 'scrub', 'fifth', 'largest', 'snowballs', 'family', 'stews', 'striped', 'satisfying', 'waking', 'silent', 'yes', 'signed', 'arrives', 'open', 'manage', 'boy', 'intently', 'robbed', 'ask', 're', 'road', 'suck', 'loved', 'spreading', 'sat', 'country', 'thousand', 'trying', 'strength', 'screwed', 'store', 'chosen', 'was', 'when', 'weapons', 'duchess', 'eh', 'days', 'right', 'hurrying', 'gangster', 'creaking', 'beard', 'part', 'cupboard', 'dozen', 'never', 'hundred', 'tore', 'shouting', 'colour', 'leading', 'laughing', 'offering', 'hair', 'victory', 'preparing', 'coat', 'particular', 'shop', 'peals', 'lot', 'happy', 'shelf', 'jaws', 'edge', 'damp', 'stopped', 'box', 'need', 'sniffed', 'remaining', 'sizes', 'twice', 'miracle', 'rotten', 'how', 'whatsoever', 'live', 'delicate', 'although', 'feathery', 'pleasure', 'tremendously', 'steal', 'front', 'fiend', 'above', 'cameras', 'floor', 'sniffs', 'joy', 'warm', 'enviously', 'air', 'listening', 'make', 'special', 'sunk', 'thrilled', 'kerb', 'windcheater', 'certain', 'foot', 'present', 'sweets', 'watch', 'near', 'liked', 'yet', 'made', 'show', 'swallow', 'lying', 'nasty', 'change', 'parents', 'packed', 'sent', 'dark', 'document', 'hungry', 'woman', 'loaded', 'speaking', 'lord', 'beast', 'young', 'someone', 'biggest', 'white', 'vitamins', 'doors', 'glad', 'lucky', 'desperately', 'get', 'threw', 'bad', 'refuses', 'sends', 'large', 'thank', 'deserve', 'press', 'walked', 'windows', 'whether', 'pass', 'tiredness', 'including', 'flabby', 'sides', 'delicious', 'twenty', 'today', 'flagging', 'level', 'anybody', 'stared', 'wasn', 'amidst', 'people', 'slice', 'nails', 'collar', 'possession', 'bony', 'hurricane', 'bird', 'pupil', 'cover', 'sending', 'drawn', 'realize', 'waved', 'main', 'dagger', 'shrimp', 'except', 'bench', 'smell', 'extraordinary', 'curranty', 'tall', 'necks', 'shouted', 'understand', 'name', 'giving', 'furnaces', 'joking', 'organized', 'fine', 'middle', 'sticky', 't', 'verdict', 'good', 'grow', 'longed', 'soft', 'tooth', 'beautiful', 'jealous', 'started', 'ferociously', 'example', 'afternoon', 'words', 'speak', 'dizzy', 'let', 'fellow', 'reason', 'using', 'prepare', 'becoming', 'feet', 'nutty', 'furious', 'spoiled', 'school', 'carried', 'pondicherry', 'margarine', 'wall', 'around', 'picture', 'ready', 'beastly', 'nervous', 'gently', 'cram', 'nowhere', 'quietly', 'nearest', 'fat', 'wished', 'bones', 'palace', 'from', 'wrappers', 'sharp', 'interview', 'giant', 'expect', 'at', 'rummaging', 'bought', 'last', 'during', 'ha', 'gosh', 'i', 'course', 'seemed', 'following', 'became', 'all', 'sitting', 'banks', 'sensation', 'could', 'wind', 'back', 'stare', 'smiles', 'striking', 'colossal', 'upset', 'fought', 'suddenly', 'salting', 's', 'close', 'rose', 'copy', 'showing', 'better', 'shirt', 'staircase', 'ought', 'georgina', 'party', 'several', 'gives', 'put', 'hasn', 'shooting', 'deserted', 'lick', 'owned', 'proud', 'peanuts', 'hardship', 'hands', 'annoyed', 'comb', 'however', 'tops', 'lake', 'finding', 'alone', 'prunes', 'beaming', 'beloved', 'because', 'sixpenny', 'question', 'presidents', 'sees', 'earlier', 'escape', 'save', 'invite', 'round', 'reading', 'either', 'pavement', 'grandson', 'drifting', 'blade', 'giggling', 'conduct', 'know', 'ssshh', 'slugworth', 'heart', 'stop', 'surrounding', 'gradually', 'most', 'page', 'night', 'stroking', 'parade', 'lay', 'sorry', 'mean', 'showed', 'grinning', 'earth', 'until', 'am', 'shivering', 'anyway', 'runny', 'draughts', 'pounds', 'shake', 'they', 'appear', 'avoid', 'screwer', 'used', 'mechanical', 'ear', 'skin', 'calmly', 'staring', 'zip', 'believe', 'under', 'beckoned', 'tiptoed', 'him', 'far', 'touch', 'wrinkled', 'coins', 'haven', 'letters', 'sixpence', 'slowly', 'opening', 'house', 'roasting', 'bathroom', 'finish', 'does', 'absurd', 'set', 'shrugged', 'gets', 'altogether', 'stuff', 'sells', 'point', 'spoons', 'moving', 'throat', 'jets', 'rushing', 'screaming', 'read', 'years', 'stories', 'woke', 'members', 'tongue', 'whoopee', 'counter', 'others', 'forget', 'grin', 'buried', 'seen', 'madly', 'shut', 'search', 'nonsense', 'everywhere', 'reporters', 'wrapper', 'mysteries', 'professor', 'given', 'clutched', 'dishes', 'seated', 'steaming', 'rooms', 've', 'bucket', 'closer', 'were', 'flakes', 'potatoes', 'sniff', 'pies', 'fourth', 'being', 'extraordinarily', 'ninety', 'ours', 'must', 'sugar', 'soul', 'you', 'too', 'shot', 'hottest', 'eagerly', 'caps', 'torture', 'newspapermen', 'so', 'snoring', 'heaven', 'shoes', 'blanket', 'enough', 'sheer', 'feeling', 'kid', 'with', 'mine', 'cabbage', 'five', 'without', 'problems', 'secret', 'jet', 'resting', 'needs', 'worst', 'rescued', 'among', 'other', 'his', 'filling', 'going', 'mile', 'lowered', 'starve', 'pure', 'stammered', 'book', 'seconds', 'yelling', 'lover', 'easy', 'didn', 'terrible', 'corners', 'bedpost', 'hundreds', 'lady', 'securely', 'scream', 'clicking', 'incidentally', 'business', 'tense', 'thing', 'nearly', 'eighteen', 'wash', 'sundays', 'public', 'piano', 'presented', 'melt', 'time', 'famous', 'birthday', 'afterwards', 'fifty', 'chair', 'equally', 'three', 'eats', 'grandfather', 'cap', 'brightly', 'second', 'help', 'what', 'ensure', 'took', 'happens', 'gobbled', 'preparations', 'month', 'working', 'themselves', 'visits', 'entrance', 'instructions', 'looking', 'begged', 'grandparents', 'weather', 'crowds', 'finders', 'ups', 'hidden', 'unwrap', 'instead', 'refill', 'explosion', 'unless', 'rich', 'fingers', 'corner', 'whites', 'provided', 'allowed', 'or', 'ache', 'taller', 'share', 'police', 'food', 'these', 'policemen', 'looked', 'flying', 'do', 'record', 'pillow', 'entered', 'hooray', 'grown', 'shovelling', 'golden', 'have', 'path', 'say', 'dared', 'slip', 'may', 'photographers', 'tickets', 'trampled', 'boiled', 'pants', 'jostling', 'two', 'notice', 'english', 'agreed', 'mealtimes', 'thus', 'changes', 'smoking', 'lose', 'saw', 'personally', 'way', 'fill', 'tomorrow', 'the', 'wedge', 'lips', 'proper', 'shoulder', 'like', 'loses', 'beaten', 'taking', 'plate', 'chance', 'call', 'says', 'hearing', 'less', 'touching', 'managed', 'snow', 'certainly', 'nightcaps', 'excitedly', 'happen', 'firmly', 'film', 'situation', 'chins', 'gathered', 'pinched', 'stencilled', 'would', 'shouts', 'reaching', 'slightly', 'where', 'keep', 'deliciously', 'chewing', 'different', 'while', 'hallelujah', 'no', 'buy', 'floating', 'friend', 'heavy', 'smaller', 'caramels', 'things', 'not', 'pence', 'skeleton', 'himself', 'kicked', 'mr', 'many', 'enjoy', 'munch', 'pleasantly', 'mother', 'peel', 'cold', 'since', 'underneath', 'wooden', 'criticize', 'church', 'cement', 'nodded', 'imagine', 'froze', 'tracked', 'chimneys', 'luckier', 'it', 'peculiar', 'throughout', 'shapes', 'wonka', 'ones', 'ugly', 'exactly', 'eager', 'always', 'racket', 'paper', 'nourishment', 'jumping', 'a', 'horrible', 'overcome', 'tasty', 'unwrapped', 'peering', 'ridiculous', 'job', 'simply', 'kicking', 'augustus', 'much', 'honour', 'cornelia', 'said', 'piece', 'us', 'unhappy', 'magician', 'bound', 'he', 'complete', 'sly', 'smiling', 'leaned', 'spots', 'laughter', 'angrily', 'streaming', 'shops', 'fact', 'ill', 'be', 'gloves', 'chocolatey', 'seem', 'refrigerator', 'banger', 'spark', 'hear', 'scented', 'will', 'window', 'astonish', 'walk', 'marvellous', 'comfortable', 'grab', 'down', 'stilettos', 'completely', 'murmured', 'melting', 'goes', 'huddled', 'exciting', 'doesn', 'lived', 'columns', 'awake', 'crunch', 'screamed', 'genius', 'deliver', 'clever', 'weak', 'headline', 'trudging', 'dervish', 'dreams', 'noises', 'absolutely', 'invitation', 'paused', 'only', 'greetings', 'greedy', 'blow', 'forward', 'arrest', 'chained', 'girls', 'method', 'ground', 'won', 'flashbulbs', 'eyes', 'picked', 'afford', 'means', 'breaths', 'swimming', 'grew', 'end', 'there', 'slabs', 'received', 'dancing', 'often', 'welcome', 'pin', 'skeletons', 'bowls', 'minute', 'mad', 'lap', 'light', 'side', 'as', 'answered', 'brats', 'midnight', 'living', 'awful', 'though', 'try', 'anxious', 'build', 'hours', 'gamble', 'enormous', 'caught', 'cripes', 'hobby', 'any', 'getting', 'excited', 'pieces', 'escorted', 'russia', 'news', 'thrill', 'mattresses', 'saved', 'nervously', 'grandfathers', 'wonderful', 'almost', 'precious', 'perplex', 'warming', 'silence', 'potato', 'big', 'invents', 'swarms', 'office', 'thereafter', 'slipped', 'wonder', 'exhaustion', 'carefully', 'life', 'flags', 'monstrous', 'best', 'handfuls', 'grandma', 'taste', 'holding', 'teeth', 'itself', 'chocolate', 'salt', 'scraggy', 'our', 'hammers', 'explained', 'sight', 'force', 'world', 'uncomfortable', 'might', 'count', 'names', 'jumpy', 'whipple', 'absolute', 'especially', 'control', 'remained', 'ancient', 'length', 'found', 'putting', 'reached', 'answer', 'mark', 'seeing', 'admitted', 'long', 'poor', 'delight', 'burst', 'finger', 'perhaps', 'pages', 'mind', 'tearing', 'happened', 'cut', 'myself', 'against', 'bulging', 'here', 'remembering', 'thin', 'repulsive', 'india', 'own', 'gangsters', 'direction', 'normally', 'able', 'bed', 'cried', 'begin', 'morning', 'fastened', 'hot', 'chewed', 'mountains', 'crave', 'ticket', 'been', 'every', 'sake', 'day', 'meet', 'rather', 'slept', 'leap', 'ruined', 'otherwise', 'dropped', 'popped', 'lead', 'yourself', 'buttons', 'smile', 'slightest', 'this', 'sign', 'crowd', 'paid', 'supplies'}\n"
     ]
    }
   ],
   "source": [
    "if __name__ == '__main__':\n",
    "    for i in preprocessing_texts:\n",
    "        print(unique_words_in_text(i)[0])\n",
    "        print(unique_words_in_text(i)[1])"
   ]
  },
  {
   "cell_type": "markdown",
   "metadata": {},
   "source": [
    "#### 6. Функция поиска количества гласных и согласных букв в тексте."
   ]
  },
  {
   "cell_type": "code",
   "execution_count": 9,
   "metadata": {},
   "outputs": [],
   "source": [
    "def letters_counter(file_text: str):\n",
    "    \"\"\"\n",
    "    Функция поиска гласных и согласных букв английского алфавита в заданном тексте.\n",
    "    Args:\n",
    "        file_text (str): текст, в котором осуществляется поиск\n",
    "    Returns:\n",
    "        count_consonant (int): количетсво согласных букв\n",
    "        count_vowels (int): количетсво гласных букв\n",
    "    \"\"\"\n",
    "    vowels = 'aeiou' # гласные\n",
    "    consonants = 'bcdfghjklmnpqrstvwxz' # согласные\n",
    "    count_vowels = 0 # счётчик для гласных\n",
    "    count_consonants = 0 # счётчик для согласных\n",
    "    for i in file_text:\n",
    "        if i in vowels:\n",
    "            count_vowels += 1\n",
    "        elif i in consonants:\n",
    "            count_consonants += 1\n",
    "    return count_consonants, count_vowels"
   ]
  },
  {
   "cell_type": "markdown",
   "metadata": {},
   "source": [
    "#### Тест функции letters_counter."
   ]
  },
  {
   "cell_type": "code",
   "execution_count": 10,
   "metadata": {},
   "outputs": [
    {
     "name": "stdout",
     "output_type": "stream",
     "text": [
      "В тексте 1637 согласных и 1015 гласных\n",
      "В тексте 29459 согласных и 18323 гласных\n"
     ]
    }
   ],
   "source": [
    "if __name__ == '__main__':\n",
    "    for i in preprocessing_texts:\n",
    "        print(f'В тексте {letters_counter(i)[0]} согласных и {letters_counter(i)[1]} гласных')"
   ]
  },
  {
   "cell_type": "markdown",
   "metadata": {},
   "source": [
    "#### 7. Функция для подсчёта количества предложений и их длины (т.е. количества слов в предложении)."
   ]
  },
  {
   "cell_type": "code",
   "execution_count": 11,
   "metadata": {},
   "outputs": [],
   "source": [
    "def count_text_items(file_text: str):\n",
    "    nlp = spacy.load(\"en_core_web_sm\") # загрузка модели spacy для английского языка\n",
    "    text = nlp(file_text) # nlp() - модель, которая возвращает текст\n",
    "    num_sentences = len(list(text.sents)) # считаем число предложений в тексте\n",
    "    sentences = {}\n",
    "    for i in list(text.sents):\n",
    "        sentence_text = str(i).strip() # убираем лишние пробелы и получаем текст предложения\n",
    "        if sentence_text:  # проверяем, что предложение не пустое  \n",
    "            word_count = len(sentence_text.split()) # считаем количество слов в предложении\n",
    "            sentences[sentence_text] = word_count\n",
    "    return num_sentences, sentences"
   ]
  },
  {
   "cell_type": "markdown",
   "metadata": {},
   "source": [
    "#### Тест функции count_text_items."
   ]
  },
  {
   "cell_type": "code",
   "execution_count": 12,
   "metadata": {},
   "outputs": [
    {
     "name": "stdout",
     "output_type": "stream",
     "text": [
      "В заданном тексте 46 предложния/ий.\n",
      "Длина предложения THE POLICEMAN ON the beat moved up the avenue impressively. составляет 10 слов\n",
      "Длина предложения The impressiveness was habitual and not for show, for spectators were few. составляет 12 слов\n",
      "Длина предложения The time was barely 10 o'clock at night, but chilly gusts of wind with a taste of rain in them had well nigh depeopled the streets. составляет 26 слов\n",
      "Длина предложения Trying doors as he went, twirling his club with many intricate and artful movements, turning now and then to cast his watchful eye adown the pacific thoroughfare, the officer, with his stalwart form and slight swagger, made a fine picture of a guardian of the peace. составляет 46 слов\n",
      "Длина предложения The vicinity was one that kept early hours. составляет 8 слов\n",
      "Длина предложения Now and then you might see the lights of a cigar store or of an all-night lunch counter; but the majority of the doors belonged to business places that had long since been closed. составляет 34 слов\n",
      "Длина предложения When about midway of a certain block the policeman suddenly slowed his walk. составляет 13 слов\n",
      "Длина предложения In the doorway of a darkened hardware store a man leaned, with an unlighted cigar in his mouth. составляет 18 слов\n",
      "Длина предложения As the policeman walked up to him the man spoke up quickly. составляет 12 слов\n",
      "Длина предложения “It's all right, officer,” he said, reassuringly. составляет 7 слов\n",
      "Длина предложения “I'm just waiting for a friend. составляет 6 слов\n",
      "Длина предложения It's an appointment made twenty years ago. составляет 7 слов\n",
      "Длина предложения Sounds a little funny to you, doesn't it? составляет 8 слов\n",
      "Длина предложения Well, I'll explain if you'd like to make certain it's all straight. составляет 12 слов\n",
      "Длина предложения About that long ago there used to be a restaurant where this store stands— ‘Big Joe’ Brady's restaurant.” составляет 18 слов\n",
      "Длина предложения “Until five years ago,” said the policeman. составляет 7 слов\n",
      "Длина предложения “It was torn down then.” составляет 5 слов\n",
      "Длина предложения The man in the doorway struck a match and lit his cigar. составляет 12 слов\n",
      "Длина предложения The light showed a pale, square-jawed face with keen eyes, and a little white scar near his right eyebrow. составляет 19 слов\n",
      "Длина предложения His scarf pin was a large diamond, oddly set. составляет 9 слов\n",
      "Длина предложения “Twenty years ago tonight,” said the man, “I dined here at ‘Big Joe’ Brady's with Jimmy Wells, my best chum, and the finest chap in the world. составляет 27 слов\n",
      "Длина предложения He and I were raised here in New York, just like two brothers, together. составляет 14 слов\n",
      "Длина предложения I was eighteen and Jimmy was twenty. составляет 7 слов\n",
      "Длина предложения The next morning I was to start for the West to make my fortune. составляет 14 слов\n",
      "Длина предложения You couldn't have dragged Jimmy out of New York; he thought it was the only place on earth. составляет 18 слов\n",
      "Длина предложения Well, we agreed that night that we would meet here again exactly twenty years from that date and time, no matter what our conditions might be or from what distance we might have to come. составляет 35 слов\n",
      "Длина предложения We figured that in twenty years each of us ought to have our destiny worked out and our fortunes made, whatever they were going to be.” составляет 26 слов\n",
      "Длина предложения “It sounds pretty interesting,” said the policeman. составляет 7 слов\n",
      "Длина предложения “Rather a long time between meets, though, it seems to me. составляет 11 слов\n",
      "Длина предложения Haven't you heard from your friend since you left?”\n",
      "\n",
      "“Well, yes, for a time we corresponded,” said the other. составляет 19 слов\n",
      "Длина предложения “But after a year or two we lost track of each other. составляет 12 слов\n",
      "Длина предложения You see, the West is a pretty big proposition, and I kept hustling around over it pretty lively. составляет 18 слов\n",
      "Длина предложения But I know Jimmy will meet me here if he's alive, for he always was the truest, staunchest old chap in the world. составляет 23 слов\n",
      "Длина предложения He'll never forget. составляет 3 слов\n",
      "Длина предложения I came a thousand miles to stand in this door tonight, and it's worth it if my old partner turns up.” составляет 21 слов\n",
      "Длина предложения The waiting man pulled out a handsome watch, the lids of it set with small diamonds. составляет 16 слов\n",
      "Длина предложения “Three minutes to ten,” he announced. составляет 6 слов\n",
      "Длина предложения “It was exactly ten o'clock when we parted here at the restaurant door.” составляет 13 слов\n",
      "Длина предложения “Did pretty well out West, didn't you?” asked the policeman. составляет 10 слов\n",
      "Длина предложения “You bet! составляет 2 слов\n",
      "Длина предложения I hope Jimmy has done half as well. составляет 8 слов\n",
      "Длина предложения He was a kind of plodder, though, good fellow as he was. составляет 12 слов\n",
      "Длина предложения I've had to compete with some of the sharpest wits going to get my pile. составляет 15 слов\n",
      "Длина предложения A man gets in a groove in New York. составляет 9 слов\n",
      "Длина предложения It takes the West to put a razor-edge on him.” составляет 10 слов\n",
      "Длина предложения The policeman twirled his club and took a step or two. составляет 11 слов\n"
     ]
    }
   ],
   "source": [
    "if __name__ == '__main__':\n",
    "    print(f'В заданном тексте {count_text_items(checked_texts[0])[0]} предложния/ий.')\n",
    "    for j in count_text_items(checked_texts[0])[1]:\n",
    "        print(f'Длина предложения {j} составляет {count_text_items(checked_texts[0])[1].get(j)} слов')"
   ]
  },
  {
   "cell_type": "markdown",
   "metadata": {},
   "source": [
    "#### 8. Функция для подсчёта количества раз использования каждого слова с критерием схожести с помощью лемматизации и библиотеки стоп-слов из spaCy."
   ]
  },
  {
   "cell_type": "code",
   "execution_count": 13,
   "metadata": {},
   "outputs": [],
   "source": [
    "def count_words(file_text: str):\n",
    "    nlp = spacy.load(\"en_core_web_sm\") # загрузка модели spacy для английского языка\n",
    "    text = nlp(file_text.lower()) # модель возвращает текст, в нижнем регистре\n",
    "    processed_nlp_text = [] # список слов после лемматизации и удаления стоп-слов\n",
    "    for token in text:\n",
    "        if token.is_punct or token.is_space or token.is_stop or token.is_digit: # пропускаем пунктуацию, пробелы, стоп-слова и цифры\n",
    "            continue\n",
    "        processed_nlp_text.append(token.lemma_) # добавляем лемму\n",
    "    statistic = Counter(processed_nlp_text)\n",
    "    return statistic"
   ]
  },
  {
   "cell_type": "markdown",
   "metadata": {},
   "source": [
    "#### Тест функции count_words."
   ]
  },
  {
   "cell_type": "code",
   "execution_count": 14,
   "metadata": {},
   "outputs": [
    {
     "name": "stdout",
     "output_type": "stream",
     "text": [
      "Слово: policeman - количество раз в тексте: 7\n",
      "Слово: beat - количество раз в тексте: 1\n",
      "Слово: move - количество раз в тексте: 1\n",
      "Слово: avenue - количество раз в тексте: 1\n",
      "Слово: impressively - количество раз в тексте: 1\n",
      "Слово: impressiveness - количество раз в тексте: 1\n",
      "Слово: habitual - количество раз в тексте: 1\n",
      "Слово: spectator - количество раз в тексте: 1\n",
      "Слово: time - количество раз в тексте: 4\n",
      "Слово: barely - количество раз в тексте: 1\n",
      "Слово: o'clock - количество раз в тексте: 2\n",
      "Слово: night - количество раз в тексте: 3\n",
      "Слово: chilly - количество раз в тексте: 1\n",
      "Слово: gust - количество раз в тексте: 1\n",
      "Слово: wind - количество раз в тексте: 1\n",
      "Слово: taste - количество раз в тексте: 1\n",
      "Слово: rain - количество раз в тексте: 1\n",
      "Слово: nigh - количество раз в тексте: 1\n",
      "Слово: depeople - количество раз в тексте: 1\n",
      "Слово: street - количество раз в тексте: 1\n",
      "Слово: try - количество раз в тексте: 1\n",
      "Слово: door - количество раз в тексте: 4\n",
      "Слово: go - количество раз в тексте: 3\n",
      "Слово: twirl - количество раз в тексте: 2\n",
      "Слово: club - количество раз в тексте: 2\n",
      "Слово: intricate - количество раз в тексте: 1\n",
      "Слово: artful - количество раз в тексте: 1\n",
      "Слово: movement - количество раз в тексте: 1\n",
      "Слово: turn - количество раз в тексте: 2\n",
      "Слово: cast - количество раз в тексте: 1\n",
      "Слово: watchful - количество раз в тексте: 1\n",
      "Слово: eye - количество раз в тексте: 2\n",
      "Слово: adown - количество раз в тексте: 1\n",
      "Слово: pacific - количество раз в тексте: 1\n",
      "Слово: thoroughfare - количество раз в тексте: 1\n",
      "Слово: officer - количество раз в тексте: 2\n",
      "Слово: stalwart - количество раз в тексте: 1\n",
      "Слово: form - количество раз в тексте: 1\n",
      "Слово: slight - количество раз в тексте: 1\n",
      "Слово: swagger - количество раз в тексте: 1\n",
      "Слово: fine - количество раз в тексте: 2\n",
      "Слово: picture - количество раз в тексте: 1\n",
      "Слово: guardian - количество раз в тексте: 1\n",
      "Слово: peace - количество раз в тексте: 1\n",
      "Слово: vicinity - количество раз в тексте: 1\n",
      "Слово: keep - количество раз в тексте: 2\n",
      "Слово: early - количество раз в тексте: 1\n",
      "Слово: hour - количество раз в тексте: 1\n",
      "Слово: light - количество раз в тексте: 3\n",
      "Слово: cigar - количество раз в тексте: 3\n",
      "Слово: store - количество раз в тексте: 3\n",
      "Слово: lunch - количество раз в тексте: 1\n",
      "Слово: counter - количество раз в тексте: 1\n",
      "Слово: majority - количество раз в тексте: 1\n",
      "Слово: belong - количество раз в тексте: 1\n",
      "Слово: business - количество раз в тексте: 1\n",
      "Слово: place - количество раз в тексте: 2\n",
      "Слово: long - количество раз в тексте: 3\n",
      "Слово: close - количество раз в тексте: 1\n",
      "Слово: midway - количество раз в тексте: 1\n",
      "Слово: certain - количество раз в тексте: 2\n",
      "Слово: block - количество раз в тексте: 1\n",
      "Слово: suddenly - количество раз в тексте: 1\n",
      "Слово: slow - количество раз в тексте: 1\n",
      "Слово: walk - количество раз в тексте: 2\n",
      "Слово: doorway - количество раз в тексте: 2\n",
      "Слово: darken - количество раз в тексте: 1\n",
      "Слово: hardware - количество раз в тексте: 1\n",
      "Слово: man - количество раз в тексте: 6\n",
      "Слово: lean - количество раз в тексте: 1\n",
      "Слово: unlighted - количество раз в тексте: 1\n",
      "Слово: mouth - количество раз в тексте: 1\n",
      "Слово: speak - количество раз в тексте: 1\n",
      "Слово: quickly - количество раз в тексте: 1\n",
      "Слово: right - количество раз в тексте: 2\n",
      "Слово: say - количество раз в тексте: 5\n",
      "Слово: reassuringly - количество раз в тексте: 1\n",
      "Слово: wait - количество раз в тексте: 2\n",
      "Слово: friend - количество раз в тексте: 2\n",
      "Слово: appointment - количество раз в тексте: 1\n",
      "Слово: year - количество раз в тексте: 6\n",
      "Слово: ago - количество раз в тексте: 4\n",
      "Слово: sound - количество раз в тексте: 2\n",
      "Слово: little - количество раз в тексте: 2\n",
      "Слово: funny - количество раз в тексте: 1\n",
      "Слово: explain - количество раз в тексте: 1\n",
      "Слово: like - количество раз в тексте: 2\n",
      "Слово: straight - количество раз в тексте: 1\n",
      "Слово: restaurant - количество раз в тексте: 3\n",
      "Слово: stand - количество раз в тексте: 2\n",
      "Слово: big - количество раз в тексте: 3\n",
      "Слово: joe - количество раз в тексте: 2\n",
      "Слово: brady - количество раз в тексте: 2\n",
      "Слово: tear - количество раз в тексте: 1\n",
      "Слово: strike - количество раз в тексте: 1\n",
      "Слово: match - количество раз в тексте: 1\n",
      "Слово: show - количество раз в тексте: 1\n",
      "Слово: pale - количество раз в тексте: 1\n",
      "Слово: square - количество раз в тексте: 1\n",
      "Слово: jaw - количество раз в тексте: 1\n",
      "Слово: face - количество раз в тексте: 1\n",
      "Слово: keen - количество раз в тексте: 1\n",
      "Слово: white - количество раз в тексте: 1\n",
      "Слово: scar - количество раз в тексте: 1\n",
      "Слово: near - количество раз в тексте: 1\n",
      "Слово: eyebrow - количество раз в тексте: 1\n",
      "Слово: scarf - количество раз в тексте: 1\n",
      "Слово: pin - количество раз в тексте: 1\n",
      "Слово: large - количество раз в тексте: 1\n",
      "Слово: diamond - количество раз в тексте: 2\n",
      "Слово: oddly - количество раз в тексте: 1\n",
      "Слово: set - количество раз в тексте: 2\n",
      "Слово: tonight - количество раз в тексте: 2\n",
      "Слово: dine - количество раз в тексте: 1\n",
      "Слово: jimmy - количество раз в тексте: 5\n",
      "Слово: wells - количество раз в тексте: 1\n",
      "Слово: good - количество раз в тексте: 2\n",
      "Слово: chum - количество раз в тексте: 1\n",
      "Слово: chap - количество раз в тексте: 2\n",
      "Слово: world - количество раз в тексте: 2\n",
      "Слово: raise - количество раз в тексте: 1\n",
      "Слово: new - количество раз в тексте: 3\n",
      "Слово: york - количество раз в тексте: 3\n",
      "Слово: brother - количество раз в тексте: 1\n",
      "Слово: eighteen - количество раз в тексте: 1\n",
      "Слово: morning - количество раз в тексте: 1\n",
      "Слово: start - количество раз в тексте: 1\n",
      "Слово: west - количество раз в тексте: 4\n",
      "Слово: fortune - количество раз в тексте: 2\n",
      "Слово: drag - количество раз в тексте: 1\n",
      "Слово: think - количество раз в тексте: 1\n",
      "Слово: earth - количество раз в тексте: 1\n",
      "Слово: agree - количество раз в тексте: 1\n",
      "Слово: meet - количество раз в тексте: 3\n",
      "Слово: exactly - количество раз в тексте: 2\n",
      "Слово: date - количество раз в тексте: 1\n",
      "Слово: matter - количество раз в тексте: 1\n",
      "Слово: condition - количество раз в тексте: 1\n",
      "Слово: distance - количество раз в тексте: 1\n",
      "Слово: come - количество раз в тексте: 2\n",
      "Слово: figure - количество раз в тексте: 1\n",
      "Слово: ought - количество раз в тексте: 1\n",
      "Слово: destiny - количество раз в тексте: 1\n",
      "Слово: work - количество раз в тексте: 1\n",
      "Слово: pretty - количество раз в тексте: 4\n",
      "Слово: interesting - количество раз в тексте: 1\n",
      "Слово: hear - количество раз в тексте: 1\n",
      "Слово: leave - количество раз в тексте: 1\n",
      "Слово: yes - количество раз в тексте: 1\n",
      "Слово: correspond - количество раз в тексте: 1\n",
      "Слово: lose - количество раз в тексте: 1\n",
      "Слово: track - количество раз в тексте: 1\n",
      "Слово: proposition - количество раз в тексте: 1\n",
      "Слово: hustle - количество раз в тексте: 1\n",
      "Слово: lively - количество раз в тексте: 1\n",
      "Слово: know - количество раз в тексте: 1\n",
      "Слово: alive - количество раз в тексте: 1\n",
      "Слово: true - количество раз в тексте: 1\n",
      "Слово: staunch - количество раз в тексте: 1\n",
      "Слово: old - количество раз в тексте: 2\n",
      "Слово: forget - количество раз в тексте: 1\n",
      "Слово: thousand - количество раз в тексте: 1\n",
      "Слово: mile - количество раз в тексте: 1\n",
      "Слово: worth - количество раз в тексте: 1\n",
      "Слово: partner - количество раз в тексте: 1\n",
      "Слово: pull - количество раз в тексте: 1\n",
      "Слово: handsome - количество раз в тексте: 1\n",
      "Слово: watch - количество раз в тексте: 1\n",
      "Слово: lid - количество раз в тексте: 1\n",
      "Слово: small - количество раз в тексте: 1\n",
      "Слово: minute - количество раз в тексте: 1\n",
      "Слово: announce - количество раз в тексте: 1\n",
      "Слово: part - количество раз в тексте: 1\n",
      "Слово: ask - количество раз в тексте: 1\n",
      "Слово: bet - количество раз в тексте: 1\n",
      "Слово: hope - количество раз в тексте: 1\n",
      "Слово: half - количество раз в тексте: 1\n",
      "Слово: kind - количество раз в тексте: 1\n",
      "Слово: plodder - количество раз в тексте: 1\n",
      "Слово: fellow - количество раз в тексте: 1\n",
      "Слово: compete - количество раз в тексте: 1\n",
      "Слово: sharp - количество раз в тексте: 1\n",
      "Слово: wit - количество раз в тексте: 1\n",
      "Слово: pile - количество раз в тексте: 1\n",
      "Слово: get - количество раз в тексте: 1\n",
      "Слово: groove - количество раз в тексте: 1\n",
      "Слово: take - количество раз в тексте: 2\n",
      "Слово: razor - количество раз в тексте: 1\n",
      "Слово: edge - количество раз в тексте: 1\n",
      "Слово: step - количество раз в тексте: 1\n"
     ]
    }
   ],
   "source": [
    "if __name__ == '__main__':\n",
    "    nlp_words = (count_words(checked_texts[0])) # словарь слов с учётом критерия схожести\n",
    "    for key, value in nlp_words.items():\n",
    "        print(f'Слово: {key} - количество раз в тексте: {value}')"
   ]
  },
  {
   "cell_type": "markdown",
   "metadata": {},
   "source": [
    "#### 9. Функция наиболее часто встречающихся слов."
   ]
  },
  {
   "cell_type": "code",
   "execution_count": 15,
   "metadata": {},
   "outputs": [],
   "source": [
    "def rate_words(dict_of_words: dict, number: int):\n",
    "     return sorted(dict_of_words.items(), key=lambda item: item[1])[-number:] # сортируем по возрастанию и выводим number последних слов"
   ]
  },
  {
   "cell_type": "code",
   "execution_count": 16,
   "metadata": {},
   "outputs": [
    {
     "name": "stdout",
     "output_type": "stream",
     "text": [
      "10 наиболее часто встречаемых слов в тексте:\n",
      "Слово time встречается в тексте 4 раз\n",
      "Слово door встречается в тексте 4 раз\n",
      "Слово ago встречается в тексте 4 раз\n",
      "Слово west встречается в тексте 4 раз\n",
      "Слово pretty встречается в тексте 4 раз\n",
      "Слово say встречается в тексте 5 раз\n",
      "Слово jimmy встречается в тексте 5 раз\n",
      "Слово man встречается в тексте 6 раз\n",
      "Слово year встречается в тексте 6 раз\n",
      "Слово policeman встречается в тексте 7 раз\n"
     ]
    }
   ],
   "source": [
    "if __name__ == '__main__':\n",
    "    n = 10\n",
    "    print(f'{n} наиболее часто встречаемых слов в тексте:')\n",
    "    for word, cnt in rate_words(nlp_words, n):\n",
    "        print(f'Слово {word} встречается в тексте {cnt} раз')"
   ]
  }
 ],
 "metadata": {
  "kernelspec": {
   "display_name": "venv_HW_03",
   "language": "python",
   "name": "python3"
  },
  "language_info": {
   "codemirror_mode": {
    "name": "ipython",
    "version": 3
   },
   "file_extension": ".py",
   "mimetype": "text/x-python",
   "name": "python",
   "nbconvert_exporter": "python",
   "pygments_lexer": "ipython3",
   "version": "3.12.7"
  }
 },
 "nbformat": 4,
 "nbformat_minor": 2
}
