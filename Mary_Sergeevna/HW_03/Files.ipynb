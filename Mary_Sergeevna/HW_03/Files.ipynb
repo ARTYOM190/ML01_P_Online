{
 "cells": [
  {
   "cell_type": "markdown",
   "metadata": {},
   "source": [
    "# Домашнее задание №3"
   ]
  },
  {
   "cell_type": "markdown",
   "metadata": {},
   "source": [
    "#### Текст домашнего задания"
   ]
  },
  {
   "cell_type": "markdown",
   "metadata": {},
   "source": [
    "1. Загрузить файл длиной не менее 2000 символов.\n",
    "2. Составить программу, которая считает число уникальных слов в тексте (без критерия схожести).\n",
    "3. Составить программу, которая считает число гласных и согласных букв. \n",
    "4. Составить программу, которая считает число предложений, их длину (число слов) и число (количество) раз использования каждого слова в тексте с критерием схожести (критерий схожести слов выбрать самостоятельно, например, spacy (en_core_web_sm) или расстояние Левенштейна).\n",
    "5. Вывести 10 наиболее часто встречаемых слов.\n",
    "\n",
    "*p.s. Рекомендую перед решением задания проанализировать задачу и обосновать алгоритм ее решения в текстовом виде. В процессе написания кода использовать комментарии.*"
   ]
  },
  {
   "cell_type": "markdown",
   "metadata": {},
   "source": [
    "#### Цель задания"
   ]
  },
  {
   "cell_type": "markdown",
   "metadata": {},
   "source": [
    "Обучение работе с файлами. Анализ файла. Изучение критериев схожести."
   ]
  },
  {
   "cell_type": "markdown",
   "metadata": {},
   "source": [
    "#### Анализ задания\n"
   ]
  },
  {
   "cell_type": "markdown",
   "metadata": {},
   "source": [
    "Основные этапы выполнения задания:\n",
    "1. Проверка наличия файла с заданным параметром длинны и его загрузка.\n",
    "2. Предобработка текста для дальнейшей работы (приведение текста к нижнему регистру, очистка текста от знаков пунктуации). Определение количества уникальных слов в отредактированном тексте.\n",
    "3. Определение количества гласных и согласных букв.\n",
    "4. Подсчёт предложений и их длины с помощью токенизации в spaCy. Подсчёт количества раз использования каждого слова с критерием схожести с помощью лемматизации и библиотеки стоп-слов из spaCy.  \n",
    "В spacy есть функции для токенизации, лемматизации, библиотека стоп-слов.  \n",
    "    - Токенизация - разбиение фразы, предложения, абзаца или всего текста на более мелкие единицы - токены.  \n",
    "    - Лемматизация - поиск корней слов (лемм) в соответствие со словарём и преобразование слова в его базовую форму (если она есть в словаре).  \n",
    "    - Стоп-слова - часто встречающиеся слова, которые не несут значимой информации.  \n",
    "5. Вывод наиболее часто встречаемых слов в обработанном документе."
   ]
  },
  {
   "cell_type": "markdown",
   "metadata": {},
   "source": [
    "#### Решение домашнего задания"
   ]
  },
  {
   "cell_type": "markdown",
   "metadata": {},
   "source": [
    "#### 1. Импорт необходимых для работы модулей. "
   ]
  },
  {
   "cell_type": "code",
   "execution_count": 62,
   "metadata": {},
   "outputs": [],
   "source": [
    "import string # констаны и функции для работы со строками\n",
    "import spacy # библиотека для анализа текстов, предоставляет инструменты для работы с текстами ()\n",
    "from collections import Counter # счётчик"
   ]
  },
  {
   "cell_type": "markdown",
   "metadata": {},
   "source": [
    "#### 2. Объявение переменных для последующих тестов функций."
   ]
  },
  {
   "cell_type": "code",
   "execution_count": 63,
   "metadata": {},
   "outputs": [],
   "source": [
    "if __name__ == '__main__':\n",
    "    link_empty_file = 'data/Empty.txt' # пустой файл\n",
    "    link_none = 'data/None.txt' # файл отсутствует\n",
    "    link_short_file = 'data/Short.txt' # короткий файл\n",
    "    link_good_file = 'data/Henry_After_Twenty_Years.txt' # подходящий файл\n",
    "    link_good_file_2 = 'data/Charlie_and_the_Chocolate_Factory.txt' # 2ой подходящий файл\n",
    "    length = 2000\n",
    "    links = link_short_file, link_empty_file, link_good_file, link_good_file_2, link_none\n",
    "    # чтобы позже получить список ссылок на файлы, которые соответсвуют заданию"
   ]
  },
  {
   "cell_type": "markdown",
   "metadata": {},
   "source": [
    "#### 3. Функция загрузки и проверки файла на соответствие условию домашнего задания."
   ]
  },
  {
   "cell_type": "code",
   "execution_count": 64,
   "metadata": {},
   "outputs": [],
   "source": [
    "def check_file(link_check: str, length_check: int):\n",
    "    \"\"\"\n",
    "    Функция проверяет наличие файла в папке и его соответствие заданной длине.\n",
    "    Закрывает за собой файл.\n",
    "    Args:\n",
    "        link_check (str): ссылка на файл.\n",
    "        length_check (int): минимальное количество символов внутри файла для продолжения работы с ним.\n",
    "    Returns tuple, состоящий из:\n",
    "        str: строка, информирующая о результате проверки, при проваленной проверке.\n",
    "        check (int): параметр успешности проверки, 0 - провалена, 1 - пройдена.\n",
    "        content (str): при успешной проверке, возвращаем содержимое файла.  \n",
    "    \"\"\"\n",
    "    try:\n",
    "        with open(link_check, 'r', encoding='utf-8') as file_check: # открываем файл по ссылке\n",
    "            file_text = file_check.read() # забираем содержимое файла\n",
    "        file_check.close # закрываем файл\n",
    "        symbols = len(file_text) # считаем количество символов\n",
    "        if symbols == 0: # проверяем не пустой ли файл\n",
    "            check = 0\n",
    "            return f'Указанный файл {link_check} пуст. Выберите другой файл, длинной не менее {length_check} символов.', check\n",
    "        elif symbols < length_check: # проверяем соответсвие количества символов заданному значению\n",
    "            check = 0\n",
    "            return f'Файл не соответствует заданию. Выберите другой файл, длинной не менее {length_check} символов.', check\n",
    "        else:\n",
    "            check = 1 # успешая проверка\n",
    "            return file_text, check\n",
    "    except FileNotFoundError: # ловим ошибку отсутствия файла в папке\n",
    "        check = 0\n",
    "        return f'При открытии файла произошла ошибка: указанного файла нет в директории.', check\n",
    "    except Exception as unexpected_error:  # Ловим другие возможные ошибки\n",
    "        check = 0\n",
    "        return f'Произошла ошибка: {unexpected_error}', check"
   ]
  },
  {
   "cell_type": "markdown",
   "metadata": {},
   "source": [
    "#### Тест функции check_file."
   ]
  },
  {
   "cell_type": "code",
   "execution_count": 65,
   "metadata": {},
   "outputs": [
    {
     "name": "stdout",
     "output_type": "stream",
     "text": [
      "Файл не соответствует заданию. Выберите другой файл, длинной не менее 2000 символов.\n",
      "\n",
      "Указанный файл data/Empty.txt пуст. Выберите другой файл, длинной не менее 2000 символов.\n",
      "\n",
      "THE POLICEMAN ON the beat moved up the avenue impressively. The impressiveness was habitual and not \n",
      "\n",
      "There are five children in this book:\n",
      "AUGUSTUS GLOOP A greedy boy\n",
      "VERUCA SALT A girl who is spoiled \n",
      "\n",
      "При открытии файла произошла ошибка: указанного файла нет в директории.\n",
      "\n"
     ]
    }
   ],
   "source": [
    "if __name__ == '__main__':\n",
    "    checked_texts = []\n",
    "    for i in links:\n",
    "        print(check_file(i, length)[0][:100] + '\\n') # отобразим первые 100 символов файла (если там файл), чтобы не грузить вывод\n",
    "        if check_file(i, length)[1] == 1:\n",
    "            checked_texts.append(check_file(i, length)[0]) # список, проверенных текстов"
   ]
  },
  {
   "cell_type": "markdown",
   "metadata": {},
   "source": [
    "#### 4. Функция предобработки текста."
   ]
  },
  {
   "cell_type": "code",
   "execution_count": 66,
   "metadata": {},
   "outputs": [],
   "source": [
    "def text_preprocessing(file_text: str):\n",
    "    \"\"\"\n",
    "    Функция приводит все буквы в тексте к нижнему регистру.\n",
    "    Удаляет все символы из перечня !\"#$%&'()*+,-./:;<=>?@[]^_`{|}~0123456789“”‘’…«»—\\\n",
    "    Args:\n",
    "        file_text (str): текст файла, для предобработки\n",
    "    Returns:\n",
    "        file_text (str): обработанный текст\n",
    "    \"\"\"\n",
    "    file_text = file_text.lower() # приводим текст к нижнему регистру\n",
    "    marks = string.punctuation + string.digits + '“”‘’…«»—' # собираем все символы, которые хотим убрать из текста\n",
    "    for i in marks:\n",
    "        file_text = file_text.replace(i, ' ') # проходим по тексту и заменяем символы пробелами\n",
    "    return file_text"
   ]
  },
  {
   "cell_type": "markdown",
   "metadata": {},
   "source": [
    "#### 4.* Была задумка усложнить, но слишком много случаев, которые попробуй ещё предусмотри"
   ]
  },
  {
   "cell_type": "markdown",
   "metadata": {},
   "source": [
    "_text = text.replace(\"'ve\", \" have\")_  \n",
    "_text = text.replace(\"n't\", \" not\")_  \n",
    "_text = text.replace(\"'m\", \" am\")_  \n",
    "_text = text.replace(\"'ll\", \" will\")_  \n",
    "_text = text.replace(\"'re\", \" are\")_  \n",
    "_text = text.replace(\"d'you\", \"do you\")_  \n",
    "_text = text.replace(\"it's\", \"it is\") #'s может быть ещё и has, для упрощения приведём к is_  \n",
    "_text = text.replace(\"that's\", \"that is\") #'s может быть ещё и has, для упрощения приведём к is_  \n",
    "_text = text.replace(\"here's\", \"here is\") #'s может быть ещё и has, для упрощения приведём к is_  \n",
    "_text = text.replace(\"'d\", \" had\") #'d может быть ещё и would, и should, для упрощения приведём к had_  "
   ]
  },
  {
   "cell_type": "markdown",
   "metadata": {},
   "source": [
    "#### Тест функции text_preprocessing."
   ]
  },
  {
   "cell_type": "code",
   "execution_count": 67,
   "metadata": {},
   "outputs": [
    {
     "name": "stdout",
     "output_type": "stream",
     "text": [
      "the policeman on the beat moved up the avenue impressively  the impressiveness was habitual and not  ...\n",
      "\n",
      "there are five children in this book \n",
      "augustus gloop a greedy boy\n",
      "veruca salt a girl who is spoiled  ...\n",
      "\n"
     ]
    }
   ],
   "source": [
    "if __name__ == '__main__':\n",
    "    preprocessing_texts = []\n",
    "    for i in checked_texts:\n",
    "        print(text_preprocessing(i)[:100] + ' ...\\n')\n",
    "        preprocessing_texts.append(text_preprocessing(i)) # список с предобработанными текстами"
   ]
  },
  {
   "cell_type": "markdown",
   "metadata": {},
   "source": [
    "#### 5. Функция опеделения и подсчёта уникальных слов."
   ]
  },
  {
   "cell_type": "code",
   "execution_count": 68,
   "metadata": {},
   "outputs": [],
   "source": [
    "def unique_words_in_text(file_text: str):\n",
    "    \"\"\"\n",
    "    Функция определяет уникальные слова, с помощью множества и считает их.\n",
    "    Args:\n",
    "        file_text (str): текст, в котором необходимо подсчитать количество уникальных слов.\n",
    "    Returns:\n",
    "        int: число уникальных слов в тексте.\n",
    "    \"\"\"\n",
    "    words = file_text.split() # получаем все слова в список, разделяя текст по пробелам\n",
    "    unique_words = set(words) # с помощью особенности типа set хранить уникальные объекты, находим все уникальные слова в тексте\n",
    "    return len(unique_words), unique_words # функией len получаем количество уникальных слов"
   ]
  },
  {
   "cell_type": "markdown",
   "metadata": {},
   "source": [
    "#### Тест функции unique_words_in_text"
   ]
  },
  {
   "cell_type": "code",
   "execution_count": 69,
   "metadata": {},
   "outputs": [
    {
     "name": "stdout",
     "output_type": "stream",
     "text": [
      "314\n",
      "{'next', 'club', 'lost', 'though', 'pile', 'track', 'wits', 'partner', 'sounds', 'll', 'few', 'but', 'him', 'stand', 'took', 'rain', 'made', 'a', 'policeman', 'agreed', 'kind', 'keen', 'our', 'early', 'going', 'long', 'all', 'good', 'pretty', 'swagger', 'done', 'cigar', 'appointment', 'match', 'ago', 'bet', 'half', 'like', 'lit', 'doesn', 'twirled', 'five', 'waiting', 'around', 'rather', 'impressiveness', 'slowed', 'raised', 'in', 'might', 'belonged', 'lights', 'until', 'staunchest', 'have', 'conditions', 'night', 'is', 'and', 'adown', 'to', 'edge', 'reassuringly', 'funny', 'since', 'habitual', 'at', 'places', 'hope', 'unlighted', 'if', 'groove', 'takes', 'he', 'me', 'business', 'show', 'then', 'doors', 'said', 'officer', 'right', 'little', 'been', 'pacific', 'left', 'impressively', 'light', 'stands', 'not', 'block', 'twirling', 'wells', 'years', 'large', 'after', 'new', 'has', 'announced', 'spectators', 'slight', 'down', 'near', 'brady', 'worked', 'guardian', 'step', 'just', 'peace', 'nigh', 'where', 'struck', 'forget', 'heard', 'darkened', 'there', 'make', 'as', 'them', 'eyes', 'worth', 'fine', 'other', 'always', 'minutes', 'from', 'was', 'finest', 'no', 'barely', 'hours', 'each', 'small', 'walk', 'twenty', 'torn', 'seems', 'proposition', 'york', 'trying', 'his', 'miles', 'joe', 'dragged', 'form', 'here', 'what', 'doorway', 'my', 'lids', 'hardware', 'gusts', 'counter', 'dined', 'for', 'fellow', 'kept', 'fortune', 'streets', 'parted', 'eye', 'thousand', 's', 'exactly', 'see', 'didn', 'together', 'picture', 'put', 'again', 'brothers', 'scar', 'pale', 'did', 'out', 'spoke', 'hustling', 'when', 'midway', 'lively', 'old', 'diamonds', 'an', 'white', 'year', 'we', 'went', 'fortunes', 'thoroughfare', 'earth', 'up', 'store', 'that', 'date', 'corresponded', 'taste', 'one', 'eyebrow', 'this', 'best', 'handsome', 'chilly', 'whatever', 'friend', 'man', 'it', 'explain', 'matter', 'haven', 'over', 'plodder', 'us', 'mouth', 'couldn', 'eighteen', 'interesting', 'turns', 'clock', 'pin', 'pulled', 'distance', 'moved', 'watch', 'truest', 'never', 'vicinity', 'scarf', 'o', 'meet', 'destiny', 'majority', 'two', 'meets', 'came', 'lunch', 'your', 'had', 'closed', 'gets', 'of', 'depeopled', 'face', 'three', 'many', 'oddly', 'm', 'avenue', 'yes', 'used', 'start', 'some', 'place', 'will', 'intricate', 'chap', 'were', 'about', 'jimmy', 'on', 'beat', 'restaurant', 'tonight', 'stalwart', 'artful', 'compete', 'ten', 'know', 'would', 'chum', 'between', 'west', 've', 'razor', 'suddenly', 'they', 'figured', 'quickly', 'jawed', 'showed', 'time', 'certain', 'or', 'd', 'ought', 'the', 'movements', 'you', 'asked', 'turning', 'come', 'with', 'alive', 'leaned', 'door', 'get', 'walked', 't', 'straight', 'set', 'wind', 'cast', 'be', 'thought', 'big', 'now', 'morning', 'diamond', 'sharpest', 'world', 'i', 'square', 'well', 'watchful', 'only'}\n",
      "1765\n",
      "{'silvery', 'buying', 'sang', 'heavens', 'spoils', 'makes', 'rummaging', 'stuff', 'neither', 'sleeve', 'sounds', 'deliciously', 'terrific', 'few', 'but', 'flew', 'him', 'collar', 'shelf', 'took', 'realize', 'pop', 'admitted', 'banger', 'linked', 'copy', 'lightly', 'perfectly', 'perplex', 'every', 'water', 'trucks', 'huddled', 'fought', 'knew', 'suspense', 'muttered', 'these', 'shown', 'josephine', 'eagerly', 'expecting', 'although', 'tiredness', 'tearing', 'done', 'held', 'ahead', 'tense', 'tour', 'personally', 'things', 'greatest', 'hurricane', 'loud', 'clever', 'toothpaste', 'tall', 'half', 'grandfather', 'charlie', 'photographers', 'hear', 'desperate', 'ticket', 'seen', 'skeleton', 'hey', 'bear', 'away', 'deep', 'waved', 'yourself', 'glistening', 'beard', 'bony', 'boiling', 'sure', 'household', 'tubes', 'folds', 'handed', 'watched', 'ripping', 'night', 'purse', 'crowd', 'dotty', 'craning', 'funny', 'fantastic', 'gobbled', 'occasion', 'disturbing', 'leaping', 'guns', 'getting', 'hope', 'wildest', 'ha', 'chance', 'stop', 'surrounding', 'freezing', 'dozen', 'pleasure', 'blissful', 'pulling', 'remember', 'hottest', 'lucky', 'said', 'nervously', 'right', 'winner', 'members', 'curranty', 'whom', 'later', 'presented', 'stroking', 'noises', 'miss', 'sat', 'factory', 'given', 'shoulders', 'cried', 'giggling', 'ever', 'incidentally', 'years', 'jumped', 'mink', 'pavement', 'upon', 'pies', 'ridiculous', 'trembling', 'coin', 'has', 'nasty', 'swarms', 'feel', 'breakfast', 'screamed', 'began', 'ranger', 'drifting', 'worked', 'kid', 'chews', 'looked', 'tremendously', 'creamier', 'chewing', 'wash', 'just', 'spies', 'paces', 'dozing', 'several', 'agree', 'speaker', 'finger', 'entire', 'film', 'cheers', 'snapped', 'still', 'crunching', 'newspaper', 'windows', 'rid', 'ordinary', 'mad', 'anyway', 'worker', 'lady', 'pictures', 'them', 'thing', 'nibble', 'sensation', 'heart', 'drawn', 'himself', 'mealtimes', 'balloon', 'joke', 'midnight', 'cigars', 'no', 'hundred', 'must', 'kicked', 'beauregarde', 'do', 'hundreds', 'remembering', 'tummies', 'magician', 'into', 'using', 'bowls', 'stencilled', 'love', 'mountains', 'explosion', 'move', 'nodding', 'bread', 'arrives', 'wide', 'bent', 'also', 'empty', 'gloves', 'chins', 'young', 'how', 'longed', 'thank', 'expose', 'cameras', 'bedpost', 'whites', 'having', 'carpets', 'invite', 'once', 'prodnose', 'streets', 'glint', 'off', 'managed', 'coins', 'people', 'begin', 'wonderful', 'moment', 'higher', 'ball', 'maker', 'together', 'skeletons', 'gutter', 'papers', 'prince', 'greedily', 'flakes', 'bed', 'piece', 'longer', 'sadly', 'fifty', 'put', 'can', 'luck', 'did', 'call', 'anything', 'flying', 'sudden', 'boy', 'guest', 'sundays', 'an', 'rotten', 'isn', 'perhaps', 'weak', 'foulbody', 'stories', 'coat', 'lifetime', 'torturing', 'salt', 'cripes', 'apple', 'deserves', 'chair', 'party', 'yippeeeeeeee', 'floor', 'robbed', 'quietly', 'through', 'excitement', 'zip', 'grown', 'aren', 'yippeeeeeeeeee', 'throughout', 'wished', 'shot', 'spreading', 'mine', 'rich', 'pointed', 'stretched', 'extraordinarily', 'couldn', 'woke', 'weapons', 'weather', 'hip', 'complete', 'charlotte', 'felt', 'supplied', 'distance', 'invented', 'eatables', 'group', 'moved', 'closer', 'promise', 'crazy', 'piggy', 'reason', 'silver', 'blue', 'spent', 'safekeeping', 'neck', 'television', 'two', 'secrets', 'why', 'words', 'pennies', 'came', 'becoming', 'delicious', 'bound', 'had', 'speaking', 'silent', 'joy', 'laid', 'touch', 'boiled', 'closed', 'eat', 'of', 'locked', 'finding', 'town', 'wanting', 'hammered', 'disappointment', 'lowered', 'were', 'spoiling', 'nutty', 'makers', 'spare', 'thousands', 'shooting', 'duchess', 'magic', 'behave', 'willy', 'burst', 'tip', 'chew', 'pounds', 'names', 'running', 'furious', 'shapes', 'ten', 'shocking', 'visit', 'would', 'morsels', 'between', 'changes', 'goodness', 'tremendous', 'third', 'gives', 'length', 'sign', 'wait', 'fact', 'columns', 'altogether', 'patient', 'mind', 'ran', 'warn', 'knuckledusters', 'astonishing', 'able', 'thinner', 'indeed', 'proper', 'ought', 'strength', 'thrill', 'striped', 'holding', 'deserve', 'front', 'surely', 'enormous', 'come', 'spanking', 'despicable', 'ourselves', 'more', 'yet', 'wind', 'easy', 'run', 'hungrier', 'be', 'great', 'nowadays', 'pushed', 'smoking', 'wall', 'shoes', 'well', 'bulged', 'silence', 'inventor', 'stood', 'hobby', 'much', 'leg', 'bulletin', 'ah', 'wonka', 'side', 'laughter', 'balancing', 'excite', 'made', 'than', 'unless', 'shake', 'jumpy', 'forward', 'fully', 'streaming', 'brush', 'truth', 'agreed', 'gangsters', 'everyone', 'keen', 'piled', 'newspapers', 'early', 'road', 'organized', 'main', 'plate', 'who', 'peanut', 'pass', 'please', 'present', 'sell', 'pumping', 'chocolatey', 'violet', 'end', 'perfect', 'biggest', 'mark', 'windcheater', 'ago', 'gamble', 'lips', 'headlines', 'someone', 'quite', 'rusty', 'forth', 'wrestled', 'shouting', 'reached', 'lying', 'around', 'talking', 'flavour', 'speed', 'absurd', 'mechanical', 'escape', 'whoopee', 'truck', 'hooray', 'owned', 'listen', 'part', 'staircase', 'anybody', 'pages', 'holiday', 'machines', 'needed', 'fling', 'most', 'mile', 'along', 'heads', 'and', 'russia', 'nice', 'avoid', 'edge', 'break', 'conduct', 'scream', 'since', 'clevernesses', 'fell', 'knee', 'starve', 'peel', 'classroom', 'day', 'swimming', 'helping', 'nonsense', 'tired', 'softens', 'bust', 'takes', 'smoothing', 'soup', 'teeth', 'flashing', 'none', 'supper', 'understand', 'doors', 'praise', 'pondicherry', 'sleep', 'quick', 'eager', 'left', 'taps', 'does', 'deal', 'really', 'light', 'snowballs', 'bar', 'not', 'grab', 'mike', 'repulsive', 'finders', 'whiz', 'grabbed', 'impossible', 'visits', 'down', 'holders', 'brightly', 'tooth', 'professor', 'racket', 'trap', 'above', 'mattresses', 'beyond', 'heavy', 'heard', 'comb', 'prevent', 'chocolate', 'life', 'completely', 'reading', 'screwer', 'shivering', 'calmly', 'true', 'mysteries', 'sorry', 'lot', 'peculiar', 'full', 'fluster', 'allowed', 'minutes', 'feels', 'was', 'everybody', 'jealous', 'crave', 'living', 'reporter', 'twenty', 'shoulder', 'mothers', 'press', 'blown', 'satisfying', 'jobs', 'ruined', 'thinking', 'turned', 'unhappy', 'figure', 'his', 'faces', 'upside', 'liked', 'foot', 'myself', 'trudging', 'meant', 'dig', 'glasses', 'sitting', 'here', 'today', 'goes', 'hour', 'pence', 'remaining', 'sank', 'gooey', 'counter', 'begged', 'house', 'workers', 'fellow', 'wants', 'comes', 'coming', 'disappointed', 'shining', 'money', 'think', 'birds', 'excited', 'dared', 'speak', 'police', 'lovingly', 'especially', 'lead', 'touching', 'cram', 'adore', 'dervish', 'floating', 'chained', 'less', 'didn', 'flabby', 'snoring', 'securely', 'forgotten', 'picture', 'ups', 'paused', 'street', 'evenings', 'pausing', 'expect', 'margarine', 'smiles', 'worst', 'wasn', 'procession', 'while', 'shouts', 'job', 'seem', 'murmured', 'quarter', 'welcome', 'year', 'say', 'grandparents', 'blow', 'teavee', 'packed', 'store', 'that', 'overcome', 'whisper', 'fit', 'kindly', 'steal', 'greedy', 'another', 'printed', 'arrived', 'one', 'rounds', 'aloud', 'top', 'feathery', 'inside', 'slow', 'best', 'rubber', 'furnaces', 'last', 'meals', 'swing', 'it', 'man', 'spree', 'buttons', 'results', 'cornelia', 'signed', 'children', 'friendly', 'beast', 'back', 'over', 'control', 'nails', 'pinched', 'mouth', 'eighteen', 'high', 'appear', 'annoyed', 'bicycle', 'wolfing', 'shirt', 'draughts', 'caramels', 'various', 'arm', 'example', 'waking', 'pink', 'gangster', 'beginning', 'seconds', 'watch', 'tiptoed', 'entrance', 'dirty', 'warming', 'screen', 'anxious', 'hair', 'nightcaps', 'powerful', 'directly', 'dizzy', 'bricks', 'fickelgruber', 'decide', 'mob', 'told', 'gloop', 'ones', 'youth', 'warning', 'record', 'potato', 'black', 'breath', 'oh', 'whizzing', 'three', 'bought', 'provided', 'finished', 'child', 'nodded', 'become', 'pouring', 'many', 'furniture', 'carried', 'm', 'thus', 'by', 'yes', 'used', 'almost', 'exhaustion', 'supply', 'allow', 'reaching', 'some', 'open', 'may', 'evening', 'level', 'lovely', 'intently', 'during', 'listening', 'preparing', 'flash', 'february', 'home', 'chosen', 'sniffs', 'balloons', 'invitation', 'belts', 'interest', 'eating', 'ice', 'working', 'sending', 'bathroom', 'four', 'excitedly', 'including', 'russe', 'pockets', 'wooden', 'save', 'gosh', 'days', 'pyjamas', 'called', 'creamy', 'answer', 'dangerously', 'stared', 'hidden', 'dreadful', 'keep', 'seizing', 'certain', 'any', 'honour', 'popped', 'sky', 'd', 'beds', 'machine', 'the', 'skin', 'ear', 'word', 'somebody', 'grandson', 'begins', 'turning', 'boys', 'giving', 'with', 'saying', 'get', 'walked', 'share', 't', 'preparations', 'roasting', 'hallelujah', 'slightest', 'leading', 'beside', 'thought', 'peanuts', 'lose', 'course', 'public', 'world', 'putting', 'i', 'slipped', 'shopkeeper', 'found', 'ensure', 'spread', 'loved', 'clutched', 'gave', 'looks', 'next', 'hooligan', 'icy', 'believe', 'thereafter', 'mud', 'gently', 'bite', 'paper', 'instructions', 'mystic', 'wisdom', 'swallowing', 'jumping', 'cover', 'a', 'pillows', 'crouching', 'mr', 'quiet', 'dancing', 'tiny', 'till', 'giant', 'enormously', 'good', 'melting', 'brats', 'soon', 'both', 'without', 'desperately', 'squeeze', 'clustering', 'others', 'bring', 'aware', 'fumbled', 'sweet', 'pleasantly', 'examine', 'too', 'sad', 'certainly', 'like', 'surprise', 'confectionery', 'banks', 'shop', 'grin', 'fastened', 'hands', 'shrimp', 'lit', 'doesn', 'await', 'bench', 'rubbing', 'prunes', 'exciting', 'peals', 'shall', 'clicking', 'cement', 'astonish', 'six', 'handfuls', 'grandpa', 'in', 'sweeter', 'arrest', 'shiny', 'might', 'invents', 'unfortunately', 'underneath', 'moving', 'lights', 'ancient', 'tasty', 'okay', 'finish', 'late', 'victory', 'visitors', 'brown', 'spark', 'everything', 'bones', 'tightly', 'have', 'could', 'wrappers', 'jostling', 'is', 'so', 'slabs', 'need', 'to', 'way', 'extremely', 'flashbulbs', 'stays', 'office', 'ground', 'offering', 'english', 'started', 'if', 'leave', 'ferociously', 'miserably', 'gradually', 'he', 'me', 'ache', 'sticky', 'bulging', 'little', 'melt', 'beckoned', 'been', 'stopped', 'presidents', 'fourth', 'fixed', 'chewed', 'enviously', 'georgina', 'sticking', 'school', 'better', 'gorgeous', 'sniff', 'spoiled', 'veruca', 'after', 'new', 'announced', 'hoard', 'often', 'caps', 'near', 'change', 'salting', 'sugary', 'eats', 'staring', 'slowly', 'hold', 'chocolates', 'grandmothers', 'addressed', 'where', 'forget', 'nearest', 'lover', 'watering', 'torture', 'sixpenny', 'there', 'as', 'means', 'clatter', 'sheer', 'stilettos', 'miracle', 'nervous', 'luscious', 'picked', 'stick', 'news', 'greetings', 'search', 'always', 'hardship', 'whose', 'watery', 'scrumptious', 'hours', 'headline', 'want', 'own', 'shops', 'feeling', 'seemed', 'week', 'bank', 'summertime', 'afraid', 'intrigue', 'furthest', 'seven', 'somewhere', 'creaking', 'document', 'knock', 'firmly', 'what', 'rescued', 'fat', 'ring', 'beloved', 'afford', 'women', 'whenever', 'because', 'alone', 'for', 'pleased', 'laps', 'nearly', 'flags', 'fiend', 'whirring', 'loses', 'manage', 'eye', 'proud', 'mischief', 'single', 'whipple', 's', 'thrilled', 'ravenously', 'exactly', 'see', 'even', 'arguing', 'lord', 'sold', 'pressed', 'mysterious', 'answered', 'parade', 'nibbled', 'shrivelled', 'happened', 'again', 'dishes', 'soul', 'out', 'runny', 'collapsing', 'spoke', 'sent', 'outdoors', 'taller', 'factories', 'terrible', 'violets', 'dreams', 'unwrap', 'comfortable', 'hearing', 'potatoes', 'button', 'vowed', 'blew', 'making', 'we', 'mustn', 'fake', 'earth', 'augustus', 'delicate', 'stopping', 'up', 'warm', 'polish', 'ladylike', 'trampled', 'same', 'box', 'hated', 'taste', 'wrapping', 'tortured', 'cheek', 'ours', 'peering', 'says', 'touched', 'this', 'smile', 'whatever', 'friend', 'beautiful', 'shrugged', 'beaten', 'girls', 'church', 'bitter', 'parents', 'opened', 'matter', 'haven', 'dear', 'slip', 'rest', 'madly', 'pin', 'enough', 'clock', 'bit', 'rushed', 'try', 'stationery', 'corners', 'never', 'sit', 'appearance', 'shut', 'crammed', 'smaller', 'toy', 'won', 'meet', 'anywhere', 'whole', 'begun', 'am', 'needs', 'scented', 'lie', 'possession', 'dagger', 'sight', 'marvellous', 'nose', 'got', 'far', 'watching', 'awake', 'take', 'revolting', 'pants', 'lap', 'bowl', 'room', 'gets', 'face', 'towards', 'dropped', 'tongue', 'bucket', 'wrote', 'bedclothes', 'tummy', 'shouted', 'blanket', 'bother', 'refuses', 'about', 'times', 'tried', 'piano', 'hurrying', 'angrily', 'tear', 'ready', 'appetite', 'extraordinary', 'automatically', 'resting', 'know', 'behind', 'direction', 'saved', 'spot', 'suddenly', 'interrupt', 'fingers', 'hard', 'wedge', 'showed', 'fill', 'mean', 'hungry', 'cut', 'time', 'horrible', 'live', 'gazing', 'department', 'precious', 'enjoy', 'darling', 'marshmallows', 'woman', 'second', 'or', 'doubtful', 'point', 'nor', 'steel', 'you', 'curious', 'fudgemallow', 'asked', 'family', 'set', 'dance', 'method', 'food', 'shadows', 'marvellously', 'expected', 'filled', 'country', 'dressed', 'pushing', 'now', 'famous', 'dream', 'amazing', 'slugworth', 'pistols', 'something', 'lift', 'lost', 'only', 'tickets', 'cap', 'though', 'everywhere', 'otherwise', 'flagging', 'free', 'cupboard', 'smiling', 'month', 'verdict', 'letter', 'normally', 'll', 'amidst', 'pandemonium', 'fathers', 'stand', 'cream', 'its', 'chuckling', 'fed', 'propped', 'page', 'husband', 'upset', 'shovelling', 'sun', 'post', 'minute', 'kind', 'terribly', 'our', 'prinzmetel', 'help', 'george', 'go', 'going', 'nine', 'chimneys', 'winter', 'lone', 'long', 'yanking', 'all', 'problems', 'eggs', 'window', 'kings', 'policemen', 'slightly', 'hasn', 'beastly', 'voice', 'inventions', 'decided', 'spoons', 'solid', 'within', 'frantically', 'yippeeeeee', 'hammers', 'possible', 'blade', 'standing', 'sheet', 'sly', 'except', 'five', 'worse', 'waiting', 'weeks', 'buried', 'rather', 'yours', 'head', 'imagine', 're', 'vital', 'poking', 'sugar', 'find', 'chain', 'interested', 'gobble', 'cheeks', 'gathered', 'maybe', 'sees', 'breaths', 'waving', 'sizes', 'corner', 'sunk', 'jaws', 'until', 'chewer', 'ask', 'hot', 'crowds', 'refrigerator', 'munch', 'happens', 'situation', 'explained', 'afterwards', 'before', 'cabbagy', 'thin', 'fifth', 'largest', 'outside', 'huge', 'question', 'stammered', 'gone', 'indian', 'suck', 'at', 'gold', 'genius', 'grandma', 'frosted', 'sake', 'shielded', 'entered', 'loudly', 'awful', 'business', 'themselves', 'show', 'then', 'bad', 'scientist', 'calm', 'hanging', 'hand', 'being', 'wouldn', 'swallow', 'deserted', 'lake', 'secret', 'walls', 'snow', 'count', 'froze', 'ninety', 'crackly', 'path', 'mornings', 'spots', 'birthday', 'particular', 'large', 'air', 'their', 'look', 'hunting', 'instead', 'are', 'wanted', 'lick', 'glass', 'ugly', 'strange', 'very', 'close', 'shelling', 'stews', 'her', 'father', 'legs', 'under', 'expensive', 'tracked', 'poor', 'simply', 'story', 'make', 'penny', 'against', 'newspapermen', 'should', 'vitamins', 'oldest', 'eyes', 'dayi', 'fine', 'other', 'screaming', 'golden', 'gale', 'from', 'opening', 'yelling', 'whatsoever', 'sharp', 'each', 'small', 'walk', 'seems', 'delight', 'surprises', 'middle', 'trying', 'glad', 'showing', 'january', 'smashed', 'escorted', 'joe', 'deliver', 'heaven', 'skinny', 'sixpence', 'scrub', 'my', 'grew', 'whether', 'earlier', 'received', 'leap', 'smell', 'kerb', 'among', 'spluttered', 'led', 'cabbage', 'belching', 'sometimes', 'steaming', 'finder', 'prepare', 'measure', 'else', 'first', 'screwed', 'stare', 'knows', 'beaming', 'jet', 'thousand', 'read', 'bunch', 'such', 'nowhere', 'saw', 'throat', 'remained', 'cleared', 'coloured', 'fair', 'cruel', 'awfully', 'lives', 'smashing', 'fire', 'bird', 'warmly', 'glued', 'faint', 'grinning', 'carefully', 'city', 'entirely', 'past', 'colour', 'mrs', 'when', 'old', 'don', 'refill', 'white', 'across', 'dark', 'raising', 'absolutely', 'serious', 'different', 'feet', 'palace', 'went', 'months', 'damp', 'jets', 'sells', 'wrapper', 'rushing', 'kinds', 'tomorrow', 'wrinkled', 'sides', 'stepped', 'round', 'played', 'unwrapped', 'soft', 'sniffed', 'anyone', 'notice', 'hinges', 'special', 'wonder', 'joking', 'usually', 'lived', 'tops', 'hero', 'sends', 'buckets', 'climbing', 'rose', 'pieces', 'seeing', 'glimpse', 'wish', 'she', 'bright', 'striking', 'criticize', 'us', 'give', 'kids', 'looking', 'coats', 'growing', 'ceilings', 'smiled', 'collars', 'nourishment', 'itself', 'grow', 'pulled', 'cold', 'body', 'dears', 'filling', 'laughing', 'scene', 'knife', 'o', 'slice', 'softly', 'girl', 'name', 'letters', 'centre', 'gates', 'lunch', 'earn', 'hadn', 'your', 'reporters', 'tell', 'pretending', 'doing', 'sweets', 'fools', 'whateveryou', 'wild', 'arms', 'threw', 'walking', 'book', 'pupil', 'eh', 'interview', 'kicking', 'happen', 'either', 'necks', 'luckier', 'slept', 'start', 'place', 'will', 'nobody', 'happy', 'india', 'those', 'lay', 'on', 'work', 'tonight', 'munching', 'grandfathers', 'monstrous', 'uncomfortable', 'tore', 'rooms', 've', 'which', 'loaded', 'they', 'however', 'lifted', 'afternoon', 'quickly', 'caught', 'claimed', 'tipped', 'smoke', 'following', 'supplies', 'paid', 'sort', 'let', 'pure', 'recipes', 'taxi', 'buy', 'pump', 'twice', 'equally', 'ssshh', 'nothing', 'fast', 'motionless', 'build', 'million', 'iron', 'whispered', 'treasure', 'bars', 'frighteningly', 'absolute', 'leather', 'force', 'door', 'leaned', 'brilliant', 'seated', 'gum', 'became', 'mother', 'ill', 'straight', 'crunch', 'thumping', 'serving', 'spend', 'sonny', 'colossal', 'treasured', 'big', 'morning', 'actually', 'dough', 'thinness', 'person', 'disappeared', 'baby', 'cleverest', 'scraggy', 'taking', 'searching', 'yelled', 'pillow'}\n"
     ]
    }
   ],
   "source": [
    "if __name__ == '__main__':\n",
    "    for i in preprocessing_texts:\n",
    "        print(unique_words_in_text(i)[0])\n",
    "        print(unique_words_in_text(i)[1])"
   ]
  },
  {
   "cell_type": "markdown",
   "metadata": {},
   "source": [
    "#### 6. Функция поиска количества гласных и согласных букв в тексте."
   ]
  },
  {
   "cell_type": "code",
   "execution_count": 70,
   "metadata": {},
   "outputs": [],
   "source": [
    "def letters_counter(file_text: str):\n",
    "    \"\"\"\n",
    "    Функция поиска гласных и согласных букв английского алфавита в заданном тексте.\n",
    "    Args:\n",
    "        file_text (str): текст, в котором осуществляется поиск\n",
    "    Returns:\n",
    "        count_consonant (int): количетсво согласных букв\n",
    "        count_vowels (int): количетсво гласных букв\n",
    "    \"\"\"\n",
    "    vowels = 'aeiou' # гласные\n",
    "    consonants = 'bcdfghjklmnpqrstvwxz' # согласные\n",
    "    count_vowels = 0 # счётчик для гласных\n",
    "    count_consonants = 0 # счётчик для согласных\n",
    "    for i in file_text:\n",
    "        if i in vowels:\n",
    "            count_vowels += 1\n",
    "        elif i in consonants:\n",
    "            count_consonants += 1\n",
    "    return count_consonants, count_vowels"
   ]
  },
  {
   "cell_type": "markdown",
   "metadata": {},
   "source": [
    "#### Тест функции letters_counter."
   ]
  },
  {
   "cell_type": "code",
   "execution_count": 71,
   "metadata": {},
   "outputs": [
    {
     "name": "stdout",
     "output_type": "stream",
     "text": [
      "В тексте 1637 согласных и 1015 гласных\n",
      "В тексте 29459 согласных и 18323 гласных\n"
     ]
    }
   ],
   "source": [
    "if __name__ == '__main__':\n",
    "    for i in preprocessing_texts:\n",
    "        print(f'В тексте {letters_counter(i)[0]} согласных и {letters_counter(i)[1]} гласных')"
   ]
  },
  {
   "cell_type": "markdown",
   "metadata": {},
   "source": [
    "#### 7. Функция для подсчёта количества предложений и их длины (т.е. количества слов в предложении)."
   ]
  },
  {
   "cell_type": "code",
   "execution_count": 72,
   "metadata": {},
   "outputs": [],
   "source": [
    "def count_text_items(file_text: str):\n",
    "    nlp = spacy.load(\"en_core_web_sm\") # загрузка модели spacy для английского языка\n",
    "    text = nlp(file_text) # nlp() - модель, которая возвращает текст\n",
    "    num_sentences = len(list(text.sents)) # считаем число предложений в тексте\n",
    "    sentences = {}\n",
    "    for i in list(text.sents):\n",
    "        sentence_text = str(i).strip() # убираем лишние пробелы и получаем текст предложения\n",
    "        if sentence_text:  # проверяем, что предложение не пустое  \n",
    "            word_count = len(sentence_text.split()) # считаем количество слов в предложении\n",
    "            sentences[sentence_text] = word_count\n",
    "    return num_sentences, sentences"
   ]
  },
  {
   "cell_type": "markdown",
   "metadata": {},
   "source": [
    "#### Тест функции count_text_items."
   ]
  },
  {
   "cell_type": "code",
   "execution_count": 73,
   "metadata": {},
   "outputs": [
    {
     "name": "stdout",
     "output_type": "stream",
     "text": [
      "В заданном тексте 46 предложния/ий.\n",
      "Длина предложения THE POLICEMAN ON the beat moved up the avenue impressively. составляет 10 слов\n",
      "Длина предложения The impressiveness was habitual and not for show, for spectators were few. составляет 12 слов\n",
      "Длина предложения The time was barely 10 o'clock at night, but chilly gusts of wind with a taste of rain in them had well nigh depeopled the streets. составляет 26 слов\n",
      "Длина предложения Trying doors as he went, twirling his club with many intricate and artful movements, turning now and then to cast his watchful eye adown the pacific thoroughfare, the officer, with his stalwart form and slight swagger, made a fine picture of a guardian of the peace. составляет 46 слов\n",
      "Длина предложения The vicinity was one that kept early hours. составляет 8 слов\n",
      "Длина предложения Now and then you might see the lights of a cigar store or of an all-night lunch counter; but the majority of the doors belonged to business places that had long since been closed. составляет 34 слов\n",
      "Длина предложения When about midway of a certain block the policeman suddenly slowed his walk. составляет 13 слов\n",
      "Длина предложения In the doorway of a darkened hardware store a man leaned, with an unlighted cigar in his mouth. составляет 18 слов\n",
      "Длина предложения As the policeman walked up to him the man spoke up quickly. составляет 12 слов\n",
      "Длина предложения “It's all right, officer,” he said, reassuringly. составляет 7 слов\n",
      "Длина предложения “I'm just waiting for a friend. составляет 6 слов\n",
      "Длина предложения It's an appointment made twenty years ago. составляет 7 слов\n",
      "Длина предложения Sounds a little funny to you, doesn't it? составляет 8 слов\n",
      "Длина предложения Well, I'll explain if you'd like to make certain it's all straight. составляет 12 слов\n",
      "Длина предложения About that long ago there used to be a restaurant where this store stands— ‘Big Joe’ Brady's restaurant.” составляет 18 слов\n",
      "Длина предложения “Until five years ago,” said the policeman. составляет 7 слов\n",
      "Длина предложения “It was torn down then.” составляет 5 слов\n",
      "Длина предложения The man in the doorway struck a match and lit his cigar. составляет 12 слов\n",
      "Длина предложения The light showed a pale, square-jawed face with keen eyes, and a little white scar near his right eyebrow. составляет 19 слов\n",
      "Длина предложения His scarf pin was a large diamond, oddly set. составляет 9 слов\n",
      "Длина предложения “Twenty years ago tonight,” said the man, “I dined here at ‘Big Joe’ Brady's with Jimmy Wells, my best chum, and the finest chap in the world. составляет 27 слов\n",
      "Длина предложения He and I were raised here in New York, just like two brothers, together. составляет 14 слов\n",
      "Длина предложения I was eighteen and Jimmy was twenty. составляет 7 слов\n",
      "Длина предложения The next morning I was to start for the West to make my fortune. составляет 14 слов\n",
      "Длина предложения You couldn't have dragged Jimmy out of New York; he thought it was the only place on earth. составляет 18 слов\n",
      "Длина предложения Well, we agreed that night that we would meet here again exactly twenty years from that date and time, no matter what our conditions might be or from what distance we might have to come. составляет 35 слов\n",
      "Длина предложения We figured that in twenty years each of us ought to have our destiny worked out and our fortunes made, whatever they were going to be.” составляет 26 слов\n",
      "Длина предложения “It sounds pretty interesting,” said the policeman. составляет 7 слов\n",
      "Длина предложения “Rather a long time between meets, though, it seems to me. составляет 11 слов\n",
      "Длина предложения Haven't you heard from your friend since you left?”\n",
      "\n",
      "“Well, yes, for a time we corresponded,” said the other. составляет 19 слов\n",
      "Длина предложения “But after a year or two we lost track of each other. составляет 12 слов\n",
      "Длина предложения You see, the West is a pretty big proposition, and I kept hustling around over it pretty lively. составляет 18 слов\n",
      "Длина предложения But I know Jimmy will meet me here if he's alive, for he always was the truest, staunchest old chap in the world. составляет 23 слов\n",
      "Длина предложения He'll never forget. составляет 3 слов\n",
      "Длина предложения I came a thousand miles to stand in this door tonight, and it's worth it if my old partner turns up.” составляет 21 слов\n",
      "Длина предложения The waiting man pulled out a handsome watch, the lids of it set with small diamonds. составляет 16 слов\n",
      "Длина предложения “Three minutes to ten,” he announced. составляет 6 слов\n",
      "Длина предложения “It was exactly ten o'clock when we parted here at the restaurant door.” составляет 13 слов\n",
      "Длина предложения “Did pretty well out West, didn't you?” asked the policeman. составляет 10 слов\n",
      "Длина предложения “You bet! составляет 2 слов\n",
      "Длина предложения I hope Jimmy has done half as well. составляет 8 слов\n",
      "Длина предложения He was a kind of plodder, though, good fellow as he was. составляет 12 слов\n",
      "Длина предложения I've had to compete with some of the sharpest wits going to get my pile. составляет 15 слов\n",
      "Длина предложения A man gets in a groove in New York. составляет 9 слов\n",
      "Длина предложения It takes the West to put a razor-edge on him.” составляет 10 слов\n",
      "Длина предложения The policeman twirled his club and took a step or two. составляет 11 слов\n"
     ]
    }
   ],
   "source": [
    "if __name__ == '__main__':\n",
    "    print(f'В заданном тексте {count_text_items(checked_texts[0])[0]} предложния/ий.')\n",
    "    for j in count_text_items(checked_texts[0])[1]:\n",
    "        print(f'Длина предложения {j} составляет {count_text_items(checked_texts[0])[1].get(j)} слов')"
   ]
  },
  {
   "cell_type": "markdown",
   "metadata": {},
   "source": [
    "#### 8. Функция для подсчёта количества раз использования каждого слова с критерием схожести с помощью лемматизации и библиотеки стоп-слов из spaCy."
   ]
  },
  {
   "cell_type": "code",
   "execution_count": 74,
   "metadata": {},
   "outputs": [],
   "source": [
    "def count_words(file_text: str):\n",
    "    nlp = spacy.load(\"en_core_web_sm\") # загрузка модели spacy для английского языка\n",
    "    text = nlp(file_text.lower()) # модель возвращает текст, в нижнем регистре\n",
    "    processed_nlp_text = [] # список слов после лемматизации и удаления стоп-слов\n",
    "    for token in text:\n",
    "        if token.is_punct or token.is_space or token.is_stop or token.is_digit: # пропускаем пунктуацию, пробелы, стоп-слова и цифры\n",
    "            continue\n",
    "        processed_nlp_text.append(token.lemma_) # добавляем лемму\n",
    "    statistic = Counter(processed_nlp_text)\n",
    "    return statistic"
   ]
  },
  {
   "cell_type": "markdown",
   "metadata": {},
   "source": [
    "#### Тест функции count_words."
   ]
  },
  {
   "cell_type": "code",
   "execution_count": 75,
   "metadata": {},
   "outputs": [
    {
     "name": "stdout",
     "output_type": "stream",
     "text": [
      "Слово: policeman - количество раз в тексте: 7\n",
      "Слово: beat - количество раз в тексте: 1\n",
      "Слово: move - количество раз в тексте: 1\n",
      "Слово: avenue - количество раз в тексте: 1\n",
      "Слово: impressively - количество раз в тексте: 1\n",
      "Слово: impressiveness - количество раз в тексте: 1\n",
      "Слово: habitual - количество раз в тексте: 1\n",
      "Слово: spectator - количество раз в тексте: 1\n",
      "Слово: time - количество раз в тексте: 4\n",
      "Слово: barely - количество раз в тексте: 1\n",
      "Слово: o'clock - количество раз в тексте: 2\n",
      "Слово: night - количество раз в тексте: 3\n",
      "Слово: chilly - количество раз в тексте: 1\n",
      "Слово: gust - количество раз в тексте: 1\n",
      "Слово: wind - количество раз в тексте: 1\n",
      "Слово: taste - количество раз в тексте: 1\n",
      "Слово: rain - количество раз в тексте: 1\n",
      "Слово: nigh - количество раз в тексте: 1\n",
      "Слово: depeople - количество раз в тексте: 1\n",
      "Слово: street - количество раз в тексте: 1\n",
      "Слово: try - количество раз в тексте: 1\n",
      "Слово: door - количество раз в тексте: 4\n",
      "Слово: go - количество раз в тексте: 3\n",
      "Слово: twirl - количество раз в тексте: 2\n",
      "Слово: club - количество раз в тексте: 2\n",
      "Слово: intricate - количество раз в тексте: 1\n",
      "Слово: artful - количество раз в тексте: 1\n",
      "Слово: movement - количество раз в тексте: 1\n",
      "Слово: turn - количество раз в тексте: 2\n",
      "Слово: cast - количество раз в тексте: 1\n",
      "Слово: watchful - количество раз в тексте: 1\n",
      "Слово: eye - количество раз в тексте: 2\n",
      "Слово: adown - количество раз в тексте: 1\n",
      "Слово: pacific - количество раз в тексте: 1\n",
      "Слово: thoroughfare - количество раз в тексте: 1\n",
      "Слово: officer - количество раз в тексте: 2\n",
      "Слово: stalwart - количество раз в тексте: 1\n",
      "Слово: form - количество раз в тексте: 1\n",
      "Слово: slight - количество раз в тексте: 1\n",
      "Слово: swagger - количество раз в тексте: 1\n",
      "Слово: fine - количество раз в тексте: 2\n",
      "Слово: picture - количество раз в тексте: 1\n",
      "Слово: guardian - количество раз в тексте: 1\n",
      "Слово: peace - количество раз в тексте: 1\n",
      "Слово: vicinity - количество раз в тексте: 1\n",
      "Слово: keep - количество раз в тексте: 2\n",
      "Слово: early - количество раз в тексте: 1\n",
      "Слово: hour - количество раз в тексте: 1\n",
      "Слово: light - количество раз в тексте: 3\n",
      "Слово: cigar - количество раз в тексте: 3\n",
      "Слово: store - количество раз в тексте: 3\n",
      "Слово: lunch - количество раз в тексте: 1\n",
      "Слово: counter - количество раз в тексте: 1\n",
      "Слово: majority - количество раз в тексте: 1\n",
      "Слово: belong - количество раз в тексте: 1\n",
      "Слово: business - количество раз в тексте: 1\n",
      "Слово: place - количество раз в тексте: 2\n",
      "Слово: long - количество раз в тексте: 3\n",
      "Слово: close - количество раз в тексте: 1\n",
      "Слово: midway - количество раз в тексте: 1\n",
      "Слово: certain - количество раз в тексте: 2\n",
      "Слово: block - количество раз в тексте: 1\n",
      "Слово: suddenly - количество раз в тексте: 1\n",
      "Слово: slow - количество раз в тексте: 1\n",
      "Слово: walk - количество раз в тексте: 2\n",
      "Слово: doorway - количество раз в тексте: 2\n",
      "Слово: darken - количество раз в тексте: 1\n",
      "Слово: hardware - количество раз в тексте: 1\n",
      "Слово: man - количество раз в тексте: 6\n",
      "Слово: lean - количество раз в тексте: 1\n",
      "Слово: unlighted - количество раз в тексте: 1\n",
      "Слово: mouth - количество раз в тексте: 1\n",
      "Слово: speak - количество раз в тексте: 1\n",
      "Слово: quickly - количество раз в тексте: 1\n",
      "Слово: right - количество раз в тексте: 2\n",
      "Слово: say - количество раз в тексте: 5\n",
      "Слово: reassuringly - количество раз в тексте: 1\n",
      "Слово: wait - количество раз в тексте: 2\n",
      "Слово: friend - количество раз в тексте: 2\n",
      "Слово: appointment - количество раз в тексте: 1\n",
      "Слово: year - количество раз в тексте: 6\n",
      "Слово: ago - количество раз в тексте: 4\n",
      "Слово: sound - количество раз в тексте: 2\n",
      "Слово: little - количество раз в тексте: 2\n",
      "Слово: funny - количество раз в тексте: 1\n",
      "Слово: explain - количество раз в тексте: 1\n",
      "Слово: like - количество раз в тексте: 2\n",
      "Слово: straight - количество раз в тексте: 1\n",
      "Слово: restaurant - количество раз в тексте: 3\n",
      "Слово: stand - количество раз в тексте: 2\n",
      "Слово: big - количество раз в тексте: 3\n",
      "Слово: joe - количество раз в тексте: 2\n",
      "Слово: brady - количество раз в тексте: 2\n",
      "Слово: tear - количество раз в тексте: 1\n",
      "Слово: strike - количество раз в тексте: 1\n",
      "Слово: match - количество раз в тексте: 1\n",
      "Слово: show - количество раз в тексте: 1\n",
      "Слово: pale - количество раз в тексте: 1\n",
      "Слово: square - количество раз в тексте: 1\n",
      "Слово: jaw - количество раз в тексте: 1\n",
      "Слово: face - количество раз в тексте: 1\n",
      "Слово: keen - количество раз в тексте: 1\n",
      "Слово: white - количество раз в тексте: 1\n",
      "Слово: scar - количество раз в тексте: 1\n",
      "Слово: near - количество раз в тексте: 1\n",
      "Слово: eyebrow - количество раз в тексте: 1\n",
      "Слово: scarf - количество раз в тексте: 1\n",
      "Слово: pin - количество раз в тексте: 1\n",
      "Слово: large - количество раз в тексте: 1\n",
      "Слово: diamond - количество раз в тексте: 2\n",
      "Слово: oddly - количество раз в тексте: 1\n",
      "Слово: set - количество раз в тексте: 2\n",
      "Слово: tonight - количество раз в тексте: 2\n",
      "Слово: dine - количество раз в тексте: 1\n",
      "Слово: jimmy - количество раз в тексте: 5\n",
      "Слово: wells - количество раз в тексте: 1\n",
      "Слово: good - количество раз в тексте: 2\n",
      "Слово: chum - количество раз в тексте: 1\n",
      "Слово: chap - количество раз в тексте: 2\n",
      "Слово: world - количество раз в тексте: 2\n",
      "Слово: raise - количество раз в тексте: 1\n",
      "Слово: new - количество раз в тексте: 3\n",
      "Слово: york - количество раз в тексте: 3\n",
      "Слово: brother - количество раз в тексте: 1\n",
      "Слово: eighteen - количество раз в тексте: 1\n",
      "Слово: morning - количество раз в тексте: 1\n",
      "Слово: start - количество раз в тексте: 1\n",
      "Слово: west - количество раз в тексте: 4\n",
      "Слово: fortune - количество раз в тексте: 2\n",
      "Слово: drag - количество раз в тексте: 1\n",
      "Слово: think - количество раз в тексте: 1\n",
      "Слово: earth - количество раз в тексте: 1\n",
      "Слово: agree - количество раз в тексте: 1\n",
      "Слово: meet - количество раз в тексте: 3\n",
      "Слово: exactly - количество раз в тексте: 2\n",
      "Слово: date - количество раз в тексте: 1\n",
      "Слово: matter - количество раз в тексте: 1\n",
      "Слово: condition - количество раз в тексте: 1\n",
      "Слово: distance - количество раз в тексте: 1\n",
      "Слово: come - количество раз в тексте: 2\n",
      "Слово: figure - количество раз в тексте: 1\n",
      "Слово: ought - количество раз в тексте: 1\n",
      "Слово: destiny - количество раз в тексте: 1\n",
      "Слово: work - количество раз в тексте: 1\n",
      "Слово: pretty - количество раз в тексте: 4\n",
      "Слово: interesting - количество раз в тексте: 1\n",
      "Слово: hear - количество раз в тексте: 1\n",
      "Слово: leave - количество раз в тексте: 1\n",
      "Слово: yes - количество раз в тексте: 1\n",
      "Слово: correspond - количество раз в тексте: 1\n",
      "Слово: lose - количество раз в тексте: 1\n",
      "Слово: track - количество раз в тексте: 1\n",
      "Слово: proposition - количество раз в тексте: 1\n",
      "Слово: hustle - количество раз в тексте: 1\n",
      "Слово: lively - количество раз в тексте: 1\n",
      "Слово: know - количество раз в тексте: 1\n",
      "Слово: alive - количество раз в тексте: 1\n",
      "Слово: true - количество раз в тексте: 1\n",
      "Слово: staunch - количество раз в тексте: 1\n",
      "Слово: old - количество раз в тексте: 2\n",
      "Слово: forget - количество раз в тексте: 1\n",
      "Слово: thousand - количество раз в тексте: 1\n",
      "Слово: mile - количество раз в тексте: 1\n",
      "Слово: worth - количество раз в тексте: 1\n",
      "Слово: partner - количество раз в тексте: 1\n",
      "Слово: pull - количество раз в тексте: 1\n",
      "Слово: handsome - количество раз в тексте: 1\n",
      "Слово: watch - количество раз в тексте: 1\n",
      "Слово: lid - количество раз в тексте: 1\n",
      "Слово: small - количество раз в тексте: 1\n",
      "Слово: minute - количество раз в тексте: 1\n",
      "Слово: announce - количество раз в тексте: 1\n",
      "Слово: part - количество раз в тексте: 1\n",
      "Слово: ask - количество раз в тексте: 1\n",
      "Слово: bet - количество раз в тексте: 1\n",
      "Слово: hope - количество раз в тексте: 1\n",
      "Слово: half - количество раз в тексте: 1\n",
      "Слово: kind - количество раз в тексте: 1\n",
      "Слово: plodder - количество раз в тексте: 1\n",
      "Слово: fellow - количество раз в тексте: 1\n",
      "Слово: compete - количество раз в тексте: 1\n",
      "Слово: sharp - количество раз в тексте: 1\n",
      "Слово: wit - количество раз в тексте: 1\n",
      "Слово: pile - количество раз в тексте: 1\n",
      "Слово: get - количество раз в тексте: 1\n",
      "Слово: groove - количество раз в тексте: 1\n",
      "Слово: take - количество раз в тексте: 2\n",
      "Слово: razor - количество раз в тексте: 1\n",
      "Слово: edge - количество раз в тексте: 1\n",
      "Слово: step - количество раз в тексте: 1\n"
     ]
    }
   ],
   "source": [
    "if __name__ == '__main__':\n",
    "    nlp_words = (count_words(checked_texts[0])) # словарь слов с учётом критерия схожести\n",
    "    for key, value in nlp_words.items():\n",
    "        print(f'Слово: {key} - количество раз в тексте: {value}')"
   ]
  },
  {
   "cell_type": "markdown",
   "metadata": {},
   "source": [
    "#### 9. Функция наиболее часто встречающихся слов."
   ]
  },
  {
   "cell_type": "code",
   "execution_count": null,
   "metadata": {},
   "outputs": [],
   "source": [
    "def rate_words(dict_of_words: dict, number: int):\n",
    "     return sorted(dict_of_words.items(), key=lambda item: item[1])[-number:] # сортируем по возрастанию и выводим number последних слов"
   ]
  },
  {
   "cell_type": "code",
   "execution_count": 83,
   "metadata": {},
   "outputs": [
    {
     "name": "stdout",
     "output_type": "stream",
     "text": [
      "10 наиболее часто встречаемых слов в тексте:\n",
      "Слово time встречается в тексте 4 раз\n",
      "Слово door встречается в тексте 4 раз\n",
      "Слово ago встречается в тексте 4 раз\n",
      "Слово west встречается в тексте 4 раз\n",
      "Слово pretty встречается в тексте 4 раз\n",
      "Слово say встречается в тексте 5 раз\n",
      "Слово jimmy встречается в тексте 5 раз\n",
      "Слово man встречается в тексте 6 раз\n",
      "Слово year встречается в тексте 6 раз\n",
      "Слово policeman встречается в тексте 7 раз\n"
     ]
    }
   ],
   "source": [
    "if __name__ == '__main__':\n",
    "    n = 10\n",
    "    print(f'{n} наиболее часто встречаемых слов в тексте:')\n",
    "    for word, cnt in rate_words(nlp_words, n):\n",
    "        print(f'Слово {word} встречается в тексте {cnt} раз')"
   ]
  }
 ],
 "metadata": {
  "kernelspec": {
   "display_name": "venv_HW_03",
   "language": "python",
   "name": "python3"
  },
  "language_info": {
   "codemirror_mode": {
    "name": "ipython",
    "version": 3
   },
   "file_extension": ".py",
   "mimetype": "text/x-python",
   "name": "python",
   "nbconvert_exporter": "python",
   "pygments_lexer": "ipython3",
   "version": "3.12.7"
  }
 },
 "nbformat": 4,
 "nbformat_minor": 2
}
