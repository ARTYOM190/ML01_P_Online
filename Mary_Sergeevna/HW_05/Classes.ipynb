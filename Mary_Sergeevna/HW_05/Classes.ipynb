{
 "cells": [
  {
   "cell_type": "markdown",
   "metadata": {},
   "source": [
    "# Домашнее задание №5\n",
    "<hr>"
   ]
  },
  {
   "cell_type": "markdown",
   "metadata": {},
   "source": [
    "#### Текст домашнего задания"
   ]
  },
  {
   "cell_type": "markdown",
   "metadata": {},
   "source": [
    "Есть Алфавит, характеристиками которого являются: \n",
    "1. Язык\n",
    "2. Список букв\n",
    "\n",
    "Для Алфавита можно: \n",
    "1. Напечатать все буквы алфавита\n",
    "2. Посчитать количество букв\n",
    "\n",
    "Так же есть Английский алфавит, который обладает следующими свойствами: \n",
    "1. Язык\n",
    "2. Список букв\n",
    "3. Количество букв\n",
    "\n",
    "Для Английского алфавита можно: \n",
    "1. Посчитать количество букв\n",
    "2. Определить, относится ли буква к английскому алфавиту\n",
    "3. Получить пример текста на английском языке\n",
    "\n",
    "Класс `Alphabet`\n",
    "1. Создайте класс Alphabet\n",
    "2. Создайте метод __init__(), внутри которого будут определены два динамических свойства: 1) lang - язык и 2) letters - список букв. Начальные значения свойств берутся из входных параметров метода.\n",
    "3. Создайте метод print(), который выведет в консоль буквы алфавита\n",
    "4. Создайте метод letters_num(), который вернет количество букв в алфавите\n",
    "\n",
    "Класс `EngAlphabet`\n",
    "1. Создайте класс EngAlphabet путем наследования от класса Alphabet\n",
    "2. Создайте метод __init__(), внутри которого будет вызываться родительский метод __init__(). В качестве параметров ему будут передаваться обозначение языка(например, 'En') и строка, состоящая из всех букв алфавита(можно воспользоваться свойством ascii_uppercase из модуля string).\n",
    "3. Добавьте приватное статическое свойство __letters_num, которое будет хранить количество букв в алфавите.\n",
    "4. Создайте метод is_en_letter(), который будет принимать букву в качестве параметра и определять, относится ли эта буква к английскому алфавиту.\n",
    "5. Переопределите метод letters_num() - пусть в текущем классе классе он будет возвращать значение свойства __letters_num.\n",
    "6. Создайте статический метод example(), который будет возвращать пример текста на английском языке.\n",
    "\n",
    "Тесты:\n",
    "1. Создайте объект класса EngAlphabet\n",
    "2. Напечатайте буквы алфавита для этого объекта\n",
    "3. Выведите количество букв в алфавите\n",
    "4. Проверьте, относится ли буква F к английскому алфавиту\n",
    "5. Проверьте, относится ли буква Щ к английскому алфавиту\n",
    "6. Выведите пример текста на английском языке\n",
    "\n"
   ]
  },
  {
   "cell_type": "markdown",
   "metadata": {},
   "source": [
    "#### Цель задания"
   ]
  },
  {
   "cell_type": "markdown",
   "metadata": {},
   "source": [
    "Познакомится с классами в Python, посмотреть наследование класса, знакомство со статическими и динамическими свойстваими класса.  \n",
    "Создать 2 класса для обработки алфавита и протестировать их."
   ]
  },
  {
   "cell_type": "markdown",
   "metadata": {},
   "source": [
    "#### Анализ задания\n"
   ]
  },
  {
   "cell_type": "markdown",
   "metadata": {},
   "source": [
    "1. Создание класса `Alphabet`\n",
    "2. Создание метода `__init__()`, внутри которого будут определены два динамических свойства `arg0` - язык и `arg1` - список букв.\n",
    "3. Создание метода `print()`, который выведет в консоль буквы алфавита\n",
    "4. Создание метода `letters_num()`, который вернет количество букв в алфавите\n",
    "5. Создание класса `EngAlphabet` путем наследования от класса `Alphabet`\n",
    "6. Создание статических свойств класса:  \n",
    "`arg0` - обозначение языка 'En'  \n",
    "`arg1` - строка, состоящая из всех букв алфавита (воспользуемя свойством ascii_uppercase из модуля string)\n",
    "7. Создание приватного статического свойства `__letters_num`, которое будет хранить количество букв в алфавите.\n",
    "8. Создание метода `__init__()`, внутри которого будет вызываться родительский метод `__init__()`. В качестве параметров ему будут передаваться `arg0` и `arg1`.\n",
    "9. Создание метода `is_en_letter()`, который будет принимать букву в качестве параметра и определять, относится ли эта буква к английскому алфавиту.\n",
    "10. Переопределение метода `letters_num()` - в текущем классе он будет возвращать значение свойства `__letters_num`.\n",
    "11. Создание статического метода `example()`, который будет возвращать пример текста на английском языке.\n",
    "12. Тестирование классов по заданного в ДЗ алгоритму."
   ]
  },
  {
   "cell_type": "markdown",
   "metadata": {},
   "source": [
    "#### Решение домашнего задания"
   ]
  },
  {
   "cell_type": "markdown",
   "metadata": {},
   "source": [
    "#### 1. Импорт необходимых для работы модулей"
   ]
  },
  {
   "cell_type": "code",
   "execution_count": 17,
   "metadata": {},
   "outputs": [],
   "source": [
    "import string # модуль string для ввода букв англ. алфавита"
   ]
  },
  {
   "cell_type": "markdown",
   "metadata": {},
   "source": [
    "#### 2. Создание класса Alphabet."
   ]
  },
  {
   "cell_type": "code",
   "execution_count": null,
   "metadata": {},
   "outputs": [],
   "source": [
    "class Alphabet():\n",
    "    def __init__(self, arg0, arg1): # метод __init__(), внутри определены два динамических свойства: lang - язык и letters - список букв\n",
    "        self.lang = arg0\n",
    "        self.letters = arg1\n",
    "        \n",
    "    def print(self): \n",
    "        print(self.letters) # вызов в консоль букв алфавита\n",
    "        \n",
    "    def lettes_num(self):\n",
    "        return len(self.letters) #  возвращает количество букв в алфавите"
   ]
  },
  {
   "cell_type": "markdown",
   "metadata": {},
   "source": [
    "#### 3. Создание класса EngAlphabet."
   ]
  },
  {
   "cell_type": "code",
   "execution_count": null,
   "metadata": {},
   "outputs": [],
   "source": [
    "class EngAlphabet(Alphabet): # наследуем от класса Alphabet\n",
    "    arg0, arg1 = 'En', string.ascii_uppercase # статические атрибуты класса\n",
    "    __letters_num = len(arg1) # приватное статическое свойство класса\n",
    "    \n",
    "    def __init__(self):\n",
    "        super().__init__(self.arg0, self.arg1) # вызов родительского метода __init__()\n",
    "    \n",
    "    def is_en_letter(self, let: str): # метод, определяющий, относится ли заданная буква к английскому алфавиту\n",
    "        if let in self.letters or let in self.letters.lower(): # проверяем оба регистра\n",
    "            return f'Заданная буква {let} относится к английскому алфавиту.'\n",
    "        else:\n",
    "            return f'Заданная буква {let} не относится к английскому алфавиту.'\n",
    "        \n",
    "    def lettes_num(self): # переопределение метода letters_num()\n",
    "        return self.__letters_num # возвращаем значение свойства __letters_num\n",
    "    \n",
    "    @staticmethod # статический метод example()\n",
    "    def example():\n",
    "        return('A very important property of the usual pinhole model\\n'\n",
    "               'for camera projection is that 3D lines in the scene are\\n'\n",
    "               'projected to 2D lines. Unfortunately, wide-angle lenses\\n'\n",
    "               '(specially low-cost lenses) may introduce a strong barrel\\n'\n",
    "               'distortion, which makes the usual pinhole model fail.\\n')"
   ]
  },
  {
   "cell_type": "markdown",
   "metadata": {},
   "source": [
    "#### 4. Тесты."
   ]
  },
  {
   "cell_type": "code",
   "execution_count": 20,
   "metadata": {},
   "outputs": [
    {
     "name": "stdout",
     "output_type": "stream",
     "text": [
      "ABCDEFGHIJKLMNOPQRSTUVWXYZ\n",
      "26\n",
      "Заданная буква F относится к английскому алфавиту.\n",
      "Заданная буква Щ не относится к английскому алфавиту.\n",
      "A very important property of the usual pinhole model\n",
      "for camera projection is that 3D lines in the scene are\n",
      "projected to 2D lines. Unfortunately, wide-angle lenses\n",
      "(specially low-cost lenses) may introduce a strong barrel\n",
      "distortion, which makes the usual pinhole model fail.\n",
      "\n"
     ]
    }
   ],
   "source": [
    "Eng = EngAlphabet() # создание объекта класса EngAlphabet\n",
    "Eng.print() # печать букв алфавита для этого объекта\n",
    "print(Eng.lettes_num()) # вывод количества букв в алфавите\n",
    "print(Eng.is_en_letter('F')) # проверка, относится ли буква F к английскому алфавиту\n",
    "print(Eng.is_en_letter('Щ')) # проверка, относится ли буква Щ к английскому алфавиту\n",
    "print(Eng.example()) # вывод примера текста на английском языке"
   ]
  },
  {
   "cell_type": "markdown",
   "metadata": {},
   "source": [
    "#### 5. Выводы."
   ]
  },
  {
   "cell_type": "markdown",
   "metadata": {},
   "source": [
    "1. Создано 2 класса: `Alphabet` и `EngAlphabet`, который наследуется от первого класса. \n",
    "2. В классах определены динамические свойства: lang, letters.  \n",
    "3. Созданы следующие методы: print(), letters_num() в классе `Alphabet`, а также is_en_letter() и статический example() в классе `EngAlphabet`.  \n",
    "4. В классе `EngAlphabet` переопределён метод letters_num() и создано приватное статическое свойство класса __letters_num.\n",
    "5. Созданные классы протестированы. Создан экземпляр `Eng` класса `EngAlphabet`. Проверена работоспособность методов класса."
   ]
  }
 ],
 "metadata": {
  "kernelspec": {
   "display_name": "base",
   "language": "python",
   "name": "python3"
  },
  "language_info": {
   "codemirror_mode": {
    "name": "ipython",
    "version": 3
   },
   "file_extension": ".py",
   "mimetype": "text/x-python",
   "name": "python",
   "nbconvert_exporter": "python",
   "pygments_lexer": "ipython3",
   "version": "3.12.7"
  }
 },
 "nbformat": 4,
 "nbformat_minor": 2
}
