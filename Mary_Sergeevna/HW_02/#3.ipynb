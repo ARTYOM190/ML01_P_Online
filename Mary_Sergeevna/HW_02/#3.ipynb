{
 "cells": [
  {
   "cell_type": "markdown",
   "metadata": {},
   "source": [
    "Задание 3: Напишите программу, находящую наибольшее и наименьшее значение функции y = -26(x*x)+25x-9 на отрезке [-5,5]. Для решения и используйте while и какой-то шаг (например 0.1). Найти производную и особую точку. "
   ]
  },
  {
   "cell_type": "markdown",
   "metadata": {},
   "source": [
    "Создаём функцию, которая на вход принимает параметры a, b, c квадратного уравнения (a параметр при x**2, b при - x, с - константа) и x1, x2 границы отрезка, на котором будет осуществляться поиск минимального (y_min, при x_min) и максимального (y_max, при x_max) значений. Функция будет возвращать минимальное и максимальное значение."
   ]
  },
  {
   "cell_type": "code",
   "execution_count": 2,
   "metadata": {},
   "outputs": [],
   "source": [
    "def quad_values(a, b, c, x1, x2):\n",
    "    x_min = x_max = x = x1\n",
    "    y_min = y_max = a*x**2 + b*x + c\n",
    "    while x1 <= x <= x2:\n",
    "        x += 0.01\n",
    "        y_temp = a*x**2 + b*x + c\n",
    "        if y_temp <= y_min:\n",
    "            y_min = y_temp\n",
    "            x_min = x\n",
    "        elif y_temp > y_max:\n",
    "            y_max = y_temp\n",
    "            x_max = x\n",
    "        else:\n",
    "            continue\n",
    "    return round(y_min, 2), round(x_min, 2), round(y_max, 2), round(x_max, 2)\n",
    "        "
   ]
  },
  {
   "cell_type": "markdown",
   "metadata": {},
   "source": [
    "Создаём функцию, которая будет вычислять производную квадратного уравнения с параметрами a, b, c (a параметр при x**2, b при - x, с - константа)."
   ]
  },
  {
   "cell_type": "code",
   "execution_count": 3,
   "metadata": {},
   "outputs": [],
   "source": [
    "def derivative_quad(a, b, c):\n",
    "    der_a = a*2\n",
    "    der_b = b\n",
    "    der_c = 0\n",
    "    return der_a, der_b"
   ]
  },
  {
   "cell_type": "markdown",
   "metadata": {},
   "source": [
    "Создаём функцию, определяющую координаты критической точки. На вход передаём параметры квадратного уравнения a, b, c (a параметр при x**2, b при - x, с - константа)."
   ]
  },
  {
   "cell_type": "code",
   "execution_count": 4,
   "metadata": {},
   "outputs": [],
   "source": [
    "def critical_point(a, b, c):\n",
    "    der_a, der_b = derivative_quad(a, b, c)\n",
    "    x_critical = -der_b / der_a\n",
    "    y_critical = a*x_critical**2 + b*x_critical + c\n",
    "    return round(x_critical, 2), round(y_critical, 2)"
   ]
  },
  {
   "cell_type": "code",
   "execution_count": null,
   "metadata": {},
   "outputs": [],
   "source": [
    "a = -26\n",
    "b = 25\n",
    "c = -9\n",
    "x1, x2 = -5, 5\n",
    "y_min, x_min, y_max, x_max = quad_values(a, b, c, x1, x2)\n",
    "print(\"Минимальное значение функции равное \" + str(y_min) + \" достигается при x = \" + str(x_min))\n",
    "print(\"Максимальное значение функции равное \" + str(y_max) + \" достигается при x = \" + str(x_max))\n",
    "der_a, der_b = derivative_quad(a, b, c)\n",
    "print(\"Производная заданной функции: \" + str(der_a) + \"x + \" + str(der_b))\n",
    "x_critical, y_critical = critical_point(a, b, c)\n",
    "print(\"Координаты критической точки заданной функции: x = \" + str(x_critical) + \" y = \" + str(y_critical))"
   ]
  }
 ],
 "metadata": {
  "kernelspec": {
   "display_name": "Python 3",
   "language": "python",
   "name": "python3"
  },
  "language_info": {
   "codemirror_mode": {
    "name": "ipython",
    "version": 3
   },
   "file_extension": ".py",
   "mimetype": "text/x-python",
   "name": "python",
   "nbconvert_exporter": "python",
   "pygments_lexer": "ipython3",
   "version": "3.13.0"
  }
 },
 "nbformat": 4,
 "nbformat_minor": 2
}
