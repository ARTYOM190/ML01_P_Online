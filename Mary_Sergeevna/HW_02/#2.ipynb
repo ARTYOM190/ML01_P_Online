{
 "cells": [
  {
   "cell_type": "markdown",
   "metadata": {},
   "source": [
    "Задание 2:\n",
    "Напишите программу, которая ищет корни квадратного уравнения вида a(x*x)+bx+c.\n",
    "На вход программы подаются a,b,c.\n",
    "Результатом работы программы – действительные корни или сообщение что корней нет."
   ]
  },
  {
   "cell_type": "markdown",
   "metadata": {},
   "source": [
    "Создаём функцию, вычисляющую корни квадратных уравнений. Проверяем равен ли 0 коэффициент а, для 3го блока кода, для 2го эта проверка не нужна т.к. она там прописана."
   ]
  },
  {
   "cell_type": "code",
   "execution_count": 23,
   "metadata": {},
   "outputs": [],
   "source": [
    "def quadratic_equation(a: int, b: int, c: int):\n",
    "    if a == 0:\n",
    "        return \"Необходимо ввести ненулевое число a.\"\n",
    "    d = b*b - 4*a*c\n",
    "    if d < 0:\n",
    "        return \"У заданного уравнения действительных корней нет.\"\n",
    "    elif d == 0:\n",
    "        x = -b/(2*a)\n",
    "        if x == 0:\n",
    "            x = int(x)\n",
    "        return \"Заданное уравнение имеет двойной корень: \" + str(round(x, 2))\n",
    "    else:\n",
    "        x1 = -b+d**0.5/(2*a)\n",
    "        x2 = -b-d**0.5/(2*a)\n",
    "        return \"Заданное уравнение имеет 2 действительных корня: \" + str(round(x1, 2)) + \", \" + str(round(x2, 2))"
   ]
  },
  {
   "cell_type": "markdown",
   "metadata": {},
   "source": [
    "Вводим параметры из консоли и проверяем переменные (ниже есть блок с заданными параметрами). Получаем результат выполнения функции."
   ]
  },
  {
   "cell_type": "code",
   "execution_count": 22,
   "metadata": {},
   "outputs": [
    {
     "name": "stdout",
     "output_type": "stream",
     "text": [
      "Введите параметры квадратного уравнения вида a*x*x + b*x + c\n",
      "Заданное уравнение имеет 2 действительных корня: -3.29, -4.71\n"
     ]
    }
   ],
   "source": [
    "print(\"Введите параметры квадратного уравнения вида a*x*x + b*x + c\")\n",
    "while True:\n",
    "    try:\n",
    "        a = int(input(\"Параметр a:\"))\n",
    "        if a == 0:\n",
    "            raise ValueError()\n",
    "        break\n",
    "    except ValueError:\n",
    "        print(\"Необходимо ввести ненулевое число a.\")\n",
    "while True:\n",
    "    try:\n",
    "        b = int(input(\"Параметр b:\"))\n",
    "        break\n",
    "    except ValueError:\n",
    "        print(\"Параметр b должен быть числом\")\n",
    "while True:\n",
    "    try:\n",
    "        c = int(input(\"Параметр c:\"))\n",
    "        break\n",
    "    except ValueError:\n",
    "        print(\"Параметр c должен быть числом\")\n",
    "print(quadratic_equation(a, b, c)) # проверка при значениях a = 2, b = 4, c = 1 уравнение имеет 2 корня"
   ]
  },
  {
   "cell_type": "markdown",
   "metadata": {},
   "source": [
    "Для упрощения проверки используем заданные параметры."
   ]
  },
  {
   "cell_type": "code",
   "execution_count": 24,
   "metadata": {},
   "outputs": [
    {
     "name": "stdout",
     "output_type": "stream",
     "text": [
      "Заданное уравнение имеет двойной корень: 2.0\n",
      "У заданного уравнения действительных корней нет.\n",
      "Заданное уравнение имеет 2 действительных корня: 4.75, 1.25\n",
      "Необходимо ввести ненулевое число a.\n"
     ]
    }
   ],
   "source": [
    "a, b, c = 1, -4, 4 # 1 корень\n",
    "print(quadratic_equation(a, b, c))\n",
    "a, b, c = 1, 2, 5 # нет корней\n",
    "print(quadratic_equation(a, b, c))\n",
    "a, b, c = 2, -3, -5 # 2 корня\n",
    "print(quadratic_equation(a, b, c))\n",
    "a, b, c = 0, 5, 1 # VallueError a = 0\n",
    "print(quadratic_equation(a, b, c))\n"
   ]
  }
 ],
 "metadata": {
  "kernelspec": {
   "display_name": "Python 3",
   "language": "python",
   "name": "python3"
  },
  "language_info": {
   "codemirror_mode": {
    "name": "ipython",
    "version": 3
   },
   "file_extension": ".py",
   "mimetype": "text/x-python",
   "name": "python",
   "nbconvert_exporter": "python",
   "pygments_lexer": "ipython3",
   "version": "3.13.0"
  }
 },
 "nbformat": 4,
 "nbformat_minor": 2
}
