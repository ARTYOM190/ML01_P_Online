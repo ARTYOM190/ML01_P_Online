{
 "cells": [
  {
   "cell_type": "markdown",
   "metadata": {},
   "source": [
    "Задание 1:\n",
    "Напишите программу, которая рассчитывает расход топлива маршрута, на вход подается длина маршрута и расход топлива на 100 километров. Используйте try except (проверка что пользователь ввел число > 0)."
   ]
  },
  {
   "cell_type": "markdown",
   "metadata": {},
   "source": [
    "Создаём функцию, которая будет считать расход топлива. Аргументами функции являются расстояние и расход топлива на 100км. Функция возвращает, расход топлива на заданное расстояние."
   ]
  },
  {
   "cell_type": "code",
   "execution_count": 8,
   "metadata": {},
   "outputs": [],
   "source": [
    "def fuel_consumption(dist: float, fuel_per_100: float):\n",
    "    fuel_per_dist = dist * fuel_per_100 / 100\n",
    "    return fuel_per_dist"
   ]
  },
  {
   "cell_type": "markdown",
   "metadata": {},
   "source": [
    "Создаём бесконечные циклы для обработки входных значений. Делаем 2 цикла, чтобы при ошибках не вводить значения повторно. Выводим нужный результат функции."
   ]
  },
  {
   "cell_type": "code",
   "execution_count": null,
   "metadata": {},
   "outputs": [],
   "source": [
    "while True:\n",
    "    try:\n",
    "        fuel_per_100 = float(input(\"Введите расход топлива на 100км: \"))\n",
    "        if fuel_per_100 <= 0:\n",
    "            raise ValueError()\n",
    "        break\n",
    "    except ValueError:\n",
    "        print(\"Необходимо ввести положительное число.\")\n",
    "while True:\n",
    "    try:\n",
    "        dist = float(input(\"Введите длину маршрута: \"))\n",
    "        if dist <= 0:\n",
    "            raise ValueError()\n",
    "        break\n",
    "    except ValueError:\n",
    "        print(\"Необходимо ввести положительное число.\")\n",
    "print(\"Расход топлива на вашем маршруте составит: \" + str(fuel_consumption(dist, fuel_per_100)) + \"л.\")"
   ]
  }
 ],
 "metadata": {
  "kernelspec": {
   "display_name": "Python 3",
   "language": "python",
   "name": "python3"
  },
  "language_info": {
   "codemirror_mode": {
    "name": "ipython",
    "version": 3
   },
   "file_extension": ".py",
   "mimetype": "text/x-python",
   "name": "python",
   "nbconvert_exporter": "python",
   "pygments_lexer": "ipython3",
   "version": "3.13.0"
  }
 },
 "nbformat": 4,
 "nbformat_minor": 2
}
