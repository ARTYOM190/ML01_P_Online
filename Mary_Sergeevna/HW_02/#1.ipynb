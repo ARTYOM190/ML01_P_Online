{
 "cells": [
  {
   "cell_type": "markdown",
   "metadata": {},
   "source": [
    "Задание 1:\n",
    "Напишите программу, которая рассчитывает расход топлива маршрута, на вход подается длина маршрута и расход топлива на 100 километров. Используйте try except (проверка что пользователь ввел число > 0)."
   ]
  },
  {
   "cell_type": "markdown",
   "metadata": {},
   "source": [
    "Создаём функцию, которая будет считать расход топлива, в ней же проверяем вводимые значения. Аргументами функции являются расстояние и расход топлива на 100км. Функция возвращает, расход топлива на заданное расстояние или ошибку данных. "
   ]
  },
  {
   "cell_type": "code",
   "execution_count": 169,
   "metadata": {},
   "outputs": [],
   "source": [
    "def fuel_consumption(dist: float, fuel_per_100: float):\n",
    "    try:\n",
    "        if fuel_per_100 <= 0 or dist <= 0:\n",
    "            raise ValueError()\n",
    "    except ValueError:\n",
    "        return \"Значение должно быть больше 0.\"\n",
    "    else:\n",
    "        fuel_per_dist = dist * fuel_per_100 / 100\n",
    "        return \"Расход топлива на вашем маршруте составит: \" + str(fuel_per_dist) + \"л.\""
   ]
  },
  {
   "cell_type": "markdown",
   "metadata": {},
   "source": [
    "Тестируем функцию на разных заданных параметрах."
   ]
  },
  {
   "cell_type": "code",
   "execution_count": 170,
   "metadata": {},
   "outputs": [
    {
     "name": "stdout",
     "output_type": "stream",
     "text": [
      "Значение должно быть больше 0.\n"
     ]
    }
   ],
   "source": [
    "fuel_per_100 = 10\n",
    "dist = 0 # VallueError\n",
    "print(fuel_consumption(dist, fuel_per_100))"
   ]
  },
  {
   "cell_type": "code",
   "execution_count": 171,
   "metadata": {},
   "outputs": [
    {
     "name": "stdout",
     "output_type": "stream",
     "text": [
      "Значение должно быть больше 0.\n"
     ]
    }
   ],
   "source": [
    "fuel_per_100 = 8\n",
    "dist = -250 # VallueError\n",
    "print(fuel_consumption(dist, fuel_per_100))"
   ]
  },
  {
   "cell_type": "code",
   "execution_count": 172,
   "metadata": {},
   "outputs": [
    {
     "name": "stdout",
     "output_type": "stream",
     "text": [
      "Расход топлива на вашем маршруте составит: 42.0л.\n"
     ]
    }
   ],
   "source": [
    "fuel_per_100 = 12\n",
    "dist = 350\n",
    "print(fuel_consumption(dist, fuel_per_100)) # расчёт расхода топлива на заданное расстояние"
   ]
  },
  {
   "cell_type": "code",
   "execution_count": 173,
   "metadata": {},
   "outputs": [
    {
     "name": "stdout",
     "output_type": "stream",
     "text": [
      "Значение должно быть больше 0.\n"
     ]
    }
   ],
   "source": [
    "fuel_per_100 = -7 # VallueError\n",
    "dist = -50\n",
    "print(fuel_consumption(dist, fuel_per_100))"
   ]
  }
 ],
 "metadata": {
  "kernelspec": {
   "display_name": "Python 3",
   "language": "python",
   "name": "python3"
  },
  "language_info": {
   "codemirror_mode": {
    "name": "ipython",
    "version": 3
   },
   "file_extension": ".py",
   "mimetype": "text/x-python",
   "name": "python",
   "nbconvert_exporter": "python",
   "pygments_lexer": "ipython3",
   "version": "3.13.0"
  }
 },
 "nbformat": 4,
 "nbformat_minor": 2
}
