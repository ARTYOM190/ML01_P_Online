{
 "cells": [
  {
   "cell_type": "markdown",
   "metadata": {},
   "source": [
    "# Домашнее задание №6.2\n",
    "<hr>"
   ]
  },
  {
   "cell_type": "markdown",
   "metadata": {},
   "source": [
    "#### Текст домашнего задания"
   ]
  },
  {
   "cell_type": "markdown",
   "metadata": {},
   "source": [
    "Реализовать с использованием потоков и процессов скачивание файлов из интернета.  \n",
    "Список файлов для скачивания подготовить самостоятельно (например изображений, не менее 100 изображений или других объектов).  \n",
    "Сравнить производительность с последовательным методом.  \n",
    "Сравнивть производительность Thread и multiprocessing решений.  \n",
    "Попробовать подобрать оптимальное число потоков/процессов. "
   ]
  },
  {
   "cell_type": "markdown",
   "metadata": {},
   "source": [
    "#### Анализ задания\n"
   ]
  },
  {
   "cell_type": "markdown",
   "metadata": {},
   "source": [
    "1. Найти и подготовить список файлов. (https://loremflickr.com/160/160 возьмём картинки здесь)\n",
    "2. Реализовать скачивание картинок из интернета с помощью threading, multiprocessing и последовательное скачивание.\n",
    "3. Расчитать время выполнения функций скачивания.\n",
    "4. Сравнить производительность разных методов скачивания."
   ]
  },
  {
   "cell_type": "markdown",
   "metadata": {},
   "source": [
    "#### 1. Импорт необходимых для работы модулей"
   ]
  },
  {
   "cell_type": "code",
   "execution_count": 1,
   "metadata": {},
   "outputs": [],
   "source": [
    "import requests # библиотека, которая облегчает выполнение HTTP-запросов\n",
    "import time\n",
    "import concurrent.futures\n",
    "import threading"
   ]
  },
  {
   "cell_type": "markdown",
   "metadata": {},
   "source": [
    "#### 2. Создаём список ссылок и функцию для скачивания картинки."
   ]
  },
  {
   "cell_type": "code",
   "execution_count": 2,
   "metadata": {},
   "outputs": [],
   "source": [
    "images = ['https://loremflickr.com/160/160']*100\n",
    "\n",
    "def download_image(url, index): # cкачиваем изображение по URL и сохраняем его в папку images\n",
    "    response = requests.get(url)\n",
    "    with open(f\"images\\\\image_{index}.png\", \"wb\") as f:\n",
    "        f.write(response.content)"
   ]
  },
  {
   "cell_type": "markdown",
   "metadata": {},
   "source": [
    "#### 3. Функция последовательного скачивания."
   ]
  },
  {
   "cell_type": "code",
   "execution_count": 3,
   "metadata": {},
   "outputs": [],
   "source": [
    "def download_images(urls): # скачиваем изображение из списка URL\n",
    "    for index, url in enumerate(urls):\n",
    "        download_image(url, index)"
   ]
  },
  {
   "cell_type": "markdown",
   "metadata": {},
   "source": [
    "#### 4. Функция скачивания с помощью threading (параллелизм потоков)."
   ]
  },
  {
   "cell_type": "code",
   "execution_count": 4,
   "metadata": {},
   "outputs": [],
   "source": [
    "def threaded_images(urls): # скачиваем изображение из списка URL с использованием потоков и измеряем время выполнения.\n",
    "    threads = []\n",
    "    for index, url in enumerate(urls):\n",
    "        thread = threading.Thread(target=download_image, args=(url, index))\n",
    "        threads.append(thread)\n",
    "        thread.start() # запускаем поток\n",
    "    for t in threads: # ожидаем завершения всех потоков\n",
    "        t.join()\n",
    "    threads = []"
   ]
  },
  {
   "cell_type": "markdown",
   "metadata": {},
   "source": [
    "#### 5. Функция скачивания с помощью multiprocessing (параллелизм процессов)."
   ]
  },
  {
   "cell_type": "code",
   "execution_count": 5,
   "metadata": {},
   "outputs": [],
   "source": [
    "def multiprocessing_images(urls):\n",
    "    with concurrent.futures.ProcessPoolExecutor() as executor:\n",
    "        executor.map(download_image, [(url, index) for index, url in enumerate(urls)])"
   ]
  },
  {
   "cell_type": "markdown",
   "metadata": {},
   "source": [
    "#### 6. Реализация скачивания."
   ]
  },
  {
   "cell_type": "code",
   "execution_count": 6,
   "metadata": {},
   "outputs": [
    {
     "name": "stdout",
     "output_type": "stream",
     "text": [
      "Общее время последовательного скачивания: 78.49 секунд\n",
      "Общее время скачивания с помощью потоков: 4.94 секунд\n",
      "Общее время скачивания с помощью процессов: 0.19 секунд\n"
     ]
    }
   ],
   "source": [
    "if __name__ == \"__main__\":\n",
    "    start_time_1 = time.time()  # запоминаем время начала\n",
    "    download_images(images)\n",
    "    end_time_1 = time.time()  # запоминаем время окончания\n",
    "    download_time = end_time_1 - start_time_1  # вычисляем время выполнения\n",
    "    print(f\"Общее время последовательного скачивания: {download_time:.2f} секунд\") # выводим 2 знака после запятой тип float\n",
    "\n",
    "    start_time_2 = time.time() \n",
    "    threaded_images(images)\n",
    "    end_time_2 = time.time()  \n",
    "    threaded_time = end_time_2 - start_time_2  \n",
    "    print(f\"Общее время скачивания с помощью потоков: {threaded_time:.2f} секунд\")\n",
    "\n",
    "    start_time_3 = time.time()  \n",
    "    multiprocessing_images(images)\n",
    "    end_time_3 = time.time()  \n",
    "    processing_time = end_time_3 - start_time_3  \n",
    "    print(f\"Общее время скачивания с помощью процессов: {processing_time:.2f} секунд\")"
   ]
  },
  {
   "cell_type": "markdown",
   "metadata": {},
   "source": [
    "#### 7. Выводы."
   ]
  },
  {
   "cell_type": "markdown",
   "metadata": {},
   "source": [
    "Реализовали скачивание картинок из интернета с помощью threading, multiprocessing и последовательного скачивания. \n",
    "Сравнили время скачивания картинок.\n",
    "Скачивая 100 картинок по заданным ссылкам, получили  \n",
    "- время последовательного скачивания  \n",
    "1 тест: 65.88 секунд,  \n",
    "2 тест: 63.57 секунд,  \n",
    "3 тест: 78.49 секунд, \n",
    "- время скачивания с помощью потоков: 11.40 секунд, 5.04 секунд, 4.94 секунды\n",
    "- время скачивания с помощью процессов: 0.22 секунды, 0.20 секунды, 0.19 секунды"
   ]
  }
 ],
 "metadata": {
  "kernelspec": {
   "display_name": "Python 3",
   "language": "python",
   "name": "python3"
  },
  "language_info": {
   "codemirror_mode": {
    "name": "ipython",
    "version": 3
   },
   "file_extension": ".py",
   "mimetype": "text/x-python",
   "name": "python",
   "nbconvert_exporter": "python",
   "pygments_lexer": "ipython3",
   "version": "3.13.0"
  }
 },
 "nbformat": 4,
 "nbformat_minor": 2
}
