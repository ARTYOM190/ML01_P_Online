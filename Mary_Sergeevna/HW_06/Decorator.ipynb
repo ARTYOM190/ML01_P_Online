{
 "cells": [
  {
   "cell_type": "markdown",
   "metadata": {},
   "source": [
    "# Домашнее задание №6.1\n",
    "<hr>"
   ]
  },
  {
   "cell_type": "markdown",
   "metadata": {},
   "source": [
    "#### Текст домашнего задания"
   ]
  },
  {
   "cell_type": "markdown",
   "metadata": {},
   "source": [
    "Напишите декоратор, оптимизирующий работу декорируемой функции.  \n",
    "Декоратор должен сохранять результат работы функции на ближайшие три запуска и вместо выполнения функции возвращать сохранённый результат.  \n",
    "После трёх запусков функция должна вызываться вновь, а результат работы функции — вновь кешироваться."
   ]
  },
  {
   "cell_type": "markdown",
   "metadata": {},
   "source": [
    "#### Цель задания"
   ]
  },
  {
   "cell_type": "markdown",
   "metadata": {},
   "source": [
    "Знакомство в декораторами. "
   ]
  },
  {
   "cell_type": "markdown",
   "metadata": {},
   "source": [
    "#### Анализ задания\n"
   ]
  },
  {
   "cell_type": "markdown",
   "metadata": {},
   "source": [
    "1. Создать декоратор.\n",
    "2. Создать декорируемую функцию.\n",
    "3. Протестировать код на разных значениях функции."
   ]
  },
  {
   "cell_type": "markdown",
   "metadata": {},
   "source": [
    "#### Решение домашнего задания"
   ]
  },
  {
   "cell_type": "markdown",
   "metadata": {},
   "source": [
    "#### 1. Создание декоратора."
   ]
  },
  {
   "cell_type": "code",
   "execution_count": 1,
   "metadata": {},
   "outputs": [],
   "source": [
    "def deco(func):\n",
    "    cache_dict = {}\n",
    "    def wrapper(arg):\n",
    "        if arg in cache_dict: # если текущие аргументы уже в кэше, возвращаем сохранённый результат\n",
    "            print(f'Возврат из кэша: {cache_dict[arg]}')\n",
    "            print(f'Кэш в текущий момент: {cache_dict}')\n",
    "            return cache_dict[arg]     \n",
    "        if len(cache_dict) < 3: # если не заполнен полностью, вызываем функцию и сохраняем результат\n",
    "            cache_dict[arg] = func(arg)\n",
    "            print(f'Вычисление и сохранение результата: {func(arg)}', )\n",
    "            print(f'Кэш в текущий момент: {cache_dict}')\n",
    "            return func(arg)\n",
    "        else:\n",
    "            print('Кэш переполнен, сброс кэша.') # если кэш заполнен, обнуляем его и вызываем функцию заново\n",
    "            cache_dict.clear()  # очищаем кэш\n",
    "            cache_dict[arg] = func(arg) # заполняем заново\n",
    "            print(f'Вычисление и сохранение нового результата: {func(arg)}')\n",
    "            print(f'Кэш в текущий момент: {cache_dict}')\n",
    "            return func(arg)\n",
    "    return wrapper"
   ]
  },
  {
   "cell_type": "markdown",
   "metadata": {},
   "source": [
    "#### 2. Создание декорируемой функции."
   ]
  },
  {
   "cell_type": "code",
   "execution_count": 2,
   "metadata": {},
   "outputs": [],
   "source": [
    "@deco\n",
    "def plus_one(num):\n",
    "    return num + 1"
   ]
  },
  {
   "cell_type": "markdown",
   "metadata": {},
   "source": [
    "#### 3. Тесты."
   ]
  },
  {
   "cell_type": "code",
   "execution_count": 3,
   "metadata": {},
   "outputs": [
    {
     "name": "stdout",
     "output_type": "stream",
     "text": [
      "Вычисление и сохранение результата: 1\n",
      "Кэш в текущий момент: {0: 1}\n",
      "1\n",
      "Вычисление и сохранение результата: 4\n",
      "Кэш в текущий момент: {0: 1, 3: 4}\n",
      "4\n",
      "Возврат из кэша: 4\n",
      "Кэш в текущий момент: {0: 1, 3: 4}\n",
      "4\n",
      "Вычисление и сохранение результата: 2\n",
      "Кэш в текущий момент: {0: 1, 3: 4, 1: 2}\n",
      "2\n",
      "Кэш переполнен, сброс кэша.\n",
      "Вычисление и сохранение нового результата: 3\n",
      "Кэш в текущий момент: {2: 3}\n",
      "3\n"
     ]
    }
   ],
   "source": [
    "print(plus_one(0))  #\n",
    "print(plus_one(3))  #\n",
    "print(plus_one(3))  #\n",
    "print(plus_one(1))  #\n",
    "print(plus_one(2))  #"
   ]
  },
  {
   "cell_type": "markdown",
   "metadata": {},
   "source": [
    "#### 5. Выводы."
   ]
  },
  {
   "cell_type": "markdown",
   "metadata": {},
   "source": [
    "Создан декоратор. Создана функция приращения аргумента на 1.  \n",
    "Декоратор проверяет наличие заданного аргумента в кэше:  \n",
    "- если аргумент есть в кэше, возвращает значение функции для этого аргумента из кэша;  \n",
    "- если аргумент отсутствует в кэше, проверяет заполнен ли кэш:  \n",
    "- если кэш не заполнен вызывает функцию и дозаписывает кэш;  \n",
    "- если кэш заполнен, обнуляет его и записывает заново.  \n"
   ]
  }
 ],
 "metadata": {
  "kernelspec": {
   "display_name": "base",
   "language": "python",
   "name": "python3"
  },
  "language_info": {
   "codemirror_mode": {
    "name": "ipython",
    "version": 3
   },
   "file_extension": ".py",
   "mimetype": "text/x-python",
   "name": "python",
   "nbconvert_exporter": "python",
   "pygments_lexer": "ipython3",
   "version": "3.12.7"
  }
 },
 "nbformat": 4,
 "nbformat_minor": 2
}
